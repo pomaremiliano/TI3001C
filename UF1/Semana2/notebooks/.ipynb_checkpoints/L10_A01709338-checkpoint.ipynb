{
 "cells": [
  {
   "cell_type": "markdown",
   "metadata": {},
   "source": [
    "## Laboratorio 10\n",
    "\n",
    "- Jorge Emiliano Pomar\n",
    "- A01709338\n",
    "- 21 de febrero de 2025\n"
   ]
  },
  {
   "cell_type": "markdown",
   "metadata": {},
   "source": [
    "## Ejercicio 1\n",
    "\n",
    "La función encuentra_simbolo (diccionario, divisa) que recibe un diccionario con los siguientes elementos: {\"Euro\":'€', \"Yen\":'¥', \"Peso\": '$', \"Libra esterlina\": '£' } y el nombre de una divisa. La función deberá regresar el simbolo de la divisa que recibe como parámetro o un mensaje de aviso si la divisa no está en el diccionario.\n"
   ]
  },
  {
   "cell_type": "code",
   "execution_count": 19,
   "metadata": {},
   "outputs": [
    {
     "name": "stdin",
     "output_type": "stream",
     "text": [
      "Ingresa la divisa:  Yen\n"
     ]
    },
    {
     "name": "stdout",
     "output_type": "stream",
     "text": [
      "¥\n"
     ]
    }
   ],
   "source": [
    "def encuentra_simbolo(diccionario, divisa):\n",
    "    if diccionario.get(divisa) == None:\n",
    "        return \"La divisa no esta en el diccionario.\"\n",
    "    else:\n",
    "        return diccionario[divisa]\n",
    "\n",
    "\n",
    "def main():\n",
    "    diccionario = {\n",
    "        \"Euro\": \"€\", \n",
    "        \"Yen\": \"¥\", \n",
    "        \"Peso\": \"$\", \n",
    "        \"Libra esterlina\": \"£\"\n",
    "    }\n",
    "    divisa = input(\"Ingresa la divisa: \")\n",
    "\n",
    "    consulta = encuentra_simbolo(diccionario, divisa)\n",
    "    print(consulta)\n",
    "\n",
    "\n",
    "main()"
   ]
  },
  {
   "cell_type": "markdown",
   "metadata": {},
   "source": [
    "## Ejercicio 2\n",
    "\n",
    "La función guarda_datos (nombre, edad, direccion, telefono) que recibe el nombre, edad, dirección y teléfono de un usuario. La función deberá regresar un diccionario con los datos dados por el usuario. En el main, mostrar en pantalla los datos del usuario con el siguiente formato: <nombre> tiene <edad> años, vive en <dirección> y su número de teléfono es <teléfono>.\n"
   ]
  },
  {
   "cell_type": "code",
   "execution_count": 5,
   "metadata": {},
   "outputs": [
    {
     "name": "stdin",
     "output_type": "stream",
     "text": [
      "Ingresa tu nombre:  Emiliano\n",
      "Ingresa tu edad:  21\n",
      "Ingresa tu dirección:  epigmenio gonzlez #300\n",
      "Ingresa tu teléfono:  4425707090\n"
     ]
    },
    {
     "name": "stdout",
     "output_type": "stream",
     "text": [
      "Emiliano tiene 21 años, vive en epigmenio gonzlez #300 y su número de teléfono es 4425707090\n"
     ]
    }
   ],
   "source": [
    "def guarda_datos(nombre, edad, direccion, telefono):\n",
    "    diccionario = {\n",
    "        \"Nombre\": nombre,\n",
    "        \"Edad\": edad,\n",
    "        \"Dirección\": direccion,\n",
    "        \"Teléfono\": telefono,\n",
    "    }\n",
    "    return diccionario\n",
    "\n",
    "\n",
    "def main():\n",
    "    nombre = input(\"Ingresa tu nombre: \")\n",
    "    edad = input(\"Ingresa tu edad: \")\n",
    "    direccion = input(\"Ingresa tu dirección: \")\n",
    "    telefono = input(\"Ingresa tu teléfono: \")\n",
    "\n",
    "    datos = guarda_datos(nombre, edad, direccion, telefono)\n",
    "    print(\n",
    "        \"%s tiene %s años, vive en %s y su número de teléfono es %s\"\n",
    "        % (datos[\"Nombre\"], datos[\"Edad\"], datos[\"Dirección\"], datos[\"Teléfono\"])\n",
    "    )\n",
    "\n",
    "\n",
    "main()"
   ]
  },
  {
   "cell_type": "markdown",
   "metadata": {},
   "source": [
    "## Ejericio 3\n",
    "\n",
    "La función calcula_costo (diccionario, fruta, kilos) que recibe un diccionario con los datos de los precios de las frutas de la tabla, el nombre de una fruta y el número de kilos. La función deberá calcular el costo total de ese número de kilos de fruta. Si la fruta no está en el diccionario deberá mostrar un mensaje informando de ello.\n",
    "\n",
    "| Fruta   | Precio |\n",
    "| ------- | ------ |\n",
    "| Plátano | 22.1   |\n",
    "| Manzana | 39.9   |\n",
    "| Pera    | 18.2   |\n",
    "| Naranja | 15.5   |\n"
   ]
  },
  {
   "cell_type": "code",
   "execution_count": 39,
   "metadata": {},
   "outputs": [
    {
     "name": "stdin",
     "output_type": "stream",
     "text": [
      "Ingresa la fruta:  Manzana\n",
      "Ingresa los kilos:  10\n"
     ]
    },
    {
     "name": "stdout",
     "output_type": "stream",
     "text": [
      "10.0 kilos de Manzana cuestan 399.0 pesos\n"
     ]
    }
   ],
   "source": [
    "def calcula_costo(diccionario, fruta, kilos):\n",
    "        if diccionario[fruta] == None:\n",
    "            return \"La fruta no está en el diccionario.\"\n",
    "        else:\n",
    "            costo = kilos * diccionario[fruta] \n",
    "            mensaje = str(kilos) + \" kilos de \" + fruta + \" cuestan \" + str(costo) + \" pesos\"\n",
    "            return mensaje\n",
    "\n",
    "def main():\n",
    "    diccionario = {\n",
    "        \"Plátano\": 22.1, \n",
    "        \"Manzana\": 39.9, \n",
    "        \"Pera\": 18.2, \n",
    "        \"Naranja\": 15.5\n",
    "    }\n",
    "    fruta = input(\"Ingresa la fruta: \")\n",
    "    kilos = float(input(\"Ingresa los kilos: \"))\n",
    "    \n",
    "    calculo= calcula_costo(diccionario, fruta, kilos)\n",
    "    print(calculo)\n",
    "\n",
    "\n",
    "main()"
   ]
  },
  {
   "cell_type": "markdown",
   "metadata": {},
   "source": [
    "## Ejercicio 4\n",
    "\n",
    "La función llena_datos () que cree un diccionario vacío y lo vaya llenado con información sobre una persona (por ejemplo nombre, edad, sexo, teléfono, correo electrónico, etc.) que se le pida al usuario. Cada vez que se añada un nuevo dato se debe imprimir el contenido del diccionario.\n"
   ]
  },
  {
   "cell_type": "code",
   "execution_count": 45,
   "metadata": {},
   "outputs": [
    {
     "name": "stdin",
     "output_type": "stream",
     "text": [
      "Que datos quieres introducir?:  Nombre\n",
      "Nombre :  emiliano\n"
     ]
    },
    {
     "name": "stdout",
     "output_type": "stream",
     "text": [
      "{'Nombre': 'emiliano'}\n"
     ]
    },
    {
     "name": "stdin",
     "output_type": "stream",
     "text": [
      "\n",
      " Deseas agregar mas informacion? (s/n)  s\n",
      "Que datos quieres introducir?:  Edad\n",
      "Edad :  21\n"
     ]
    },
    {
     "name": "stdout",
     "output_type": "stream",
     "text": [
      "{'Nombre': 'emiliano', 'Edad': '21'}\n"
     ]
    },
    {
     "name": "stdin",
     "output_type": "stream",
     "text": [
      "\n",
      " Deseas agregar mas informacion? (s/n)  s\n",
      "Que datos quieres introducir?:  Carrera\n",
      "Carrera :  ITC\n"
     ]
    },
    {
     "name": "stdout",
     "output_type": "stream",
     "text": [
      "{'Nombre': 'emiliano', 'Edad': '21', 'Carrera': 'ITC'}\n"
     ]
    },
    {
     "name": "stdin",
     "output_type": "stream",
     "text": [
      "\n",
      " Deseas agregar mas informacion? (s/n)  n\n"
     ]
    },
    {
     "name": "stdout",
     "output_type": "stream",
     "text": [
      "{'Nombre': 'emiliano', 'Edad': '21', 'Carrera': 'ITC'}\n"
     ]
    }
   ],
   "source": [
    "def llena_datos():\n",
    "    persona = {}\n",
    "    continua = 's'\n",
    "    while continua.lower() == 's' or continua.lower() == 'si':\n",
    "        clave = input(\"Que datos quieres introducir?: \")\n",
    "        valor = input(clave + \" : \")\n",
    "        persona[clave] = valor\n",
    "        print(persona)\n",
    "        continua = input(\"\\n Deseas agregar mas informacion? (s/n) \")\n",
    "    return persona\n",
    "    \n",
    "def main():\n",
    "    diccionario = llena_datos()\n",
    "    print(diccionario)\n",
    "    \n",
    "main()"
   ]
  },
  {
   "cell_type": "markdown",
   "metadata": {},
   "source": [
    "## Ejercicio 5\n",
    "\n",
    "La función imprime_y_cuenta (diccionario) que recibe el diccionario creado en la función llena_datos() y muestra en pantalla la lista de datos y al final el total de datos capturados, con el siguiente formato:\n",
    "\n",
    "Lista de datos \t\n",
    "Dato 1 \tValor 1\n",
    "Dato 2 \tValor 2\n",
    "Dato 3 \tValor 2\n",
    "… \t…\n",
    "Total datos: \tNúmero total de datos capturados"
   ]
  },
  {
   "cell_type": "code",
   "execution_count": 49,
   "metadata": {
    "editable": true,
    "slideshow": {
     "slide_type": ""
    },
    "tags": []
   },
   "outputs": [
    {
     "name": "stdin",
     "output_type": "stream",
     "text": [
      "Que datos quieres introducir?:  Nombre\n",
      "Nombre :  emiliano\n"
     ]
    },
    {
     "name": "stdout",
     "output_type": "stream",
     "text": [
      "{'Nombre': 'emiliano'}\n"
     ]
    },
    {
     "name": "stdin",
     "output_type": "stream",
     "text": [
      "\n",
      " Deseas agregar mas informacion? (s/n)  s\n",
      "Que datos quieres introducir?:  Edad\n",
      "Edad :  21\n"
     ]
    },
    {
     "name": "stdout",
     "output_type": "stream",
     "text": [
      "{'Nombre': 'emiliano', 'Edad': '21'}\n"
     ]
    },
    {
     "name": "stdin",
     "output_type": "stream",
     "text": [
      "\n",
      " Deseas agregar mas informacion? (s/n)  s\n",
      "Que datos quieres introducir?:  Carrera\n",
      "Carrera :  ITC\n"
     ]
    },
    {
     "name": "stdout",
     "output_type": "stream",
     "text": [
      "{'Nombre': 'emiliano', 'Edad': '21', 'Carrera': 'ITC'}\n"
     ]
    },
    {
     "name": "stdin",
     "output_type": "stream",
     "text": [
      "\n",
      " Deseas agregar mas informacion? (s/n)  n\n"
     ]
    },
    {
     "name": "stdout",
     "output_type": "stream",
     "text": [
      "{'Nombre': 'emiliano', 'Edad': '21', 'Carrera': 'ITC'}\n",
      "\n",
      "Lista de datos\n",
      "Nombre   emiliano\n",
      "Edad   21\n",
      "Carrera   ITC\n",
      "--------------------\n",
      "Total datos:  3\n"
     ]
    }
   ],
   "source": [
    "def imprime_y_cuenta(diccionario):\n",
    "    print(\"\\nLista de datos\")\n",
    "    cont = 0\n",
    "    for key  in diccionario:\n",
    "        print(key,\" \", diccionario[key])\n",
    "        cont += 1\n",
    "    print(\"--------------------\")\n",
    "    print(\"Total datos: \", cont)\n",
    "\n",
    "\n",
    "def main():\n",
    "    diccionario = llena_datos()\n",
    "    print(diccionario)\n",
    "    imprime_y_cuenta(diccionario)\n",
    "\n",
    "\n",
    "main()"
   ]
  },
  {
   "cell_type": "code",
   "execution_count": null,
   "metadata": {},
   "outputs": [],
   "source": []
  }
 ],
 "metadata": {
  "kernelspec": {
   "display_name": "Python 3 (ipykernel)",
   "language": "python",
   "name": "python3"
  },
  "language_info": {
   "codemirror_mode": {
    "name": "ipython",
    "version": 3
   },
   "file_extension": ".py",
   "mimetype": "text/x-python",
   "name": "python",
   "nbconvert_exporter": "python",
   "pygments_lexer": "ipython3",
   "version": "3.12.7"
  }
 },
 "nbformat": 4,
 "nbformat_minor": 4
}
