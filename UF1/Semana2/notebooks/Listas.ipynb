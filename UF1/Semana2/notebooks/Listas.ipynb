{
 "cells": [
  {
   "cell_type": "markdown",
   "metadata": {},
   "source": [
    "# Listas \n",
    "- 17 de febrero de 2025"
   ]
  },
  {
   "cell_type": "code",
   "execution_count": 5,
   "metadata": {},
   "outputs": [
    {
     "name": "stdout",
     "output_type": "stream",
     "text": [
      "Longitud de la lista:  5\n",
      "0.  3\n",
      "1.  5\n",
      "2.  8\n",
      "3.  hola\n",
      "4.  2.8\n"
     ]
    }
   ],
   "source": [
    "# definir una lista \n",
    "lista = [3, 5, 8, 'hola', 2.8]\n",
    "longitud = len(lista)\n",
    "print(\"Longitud de la lista: \", longitud)\n",
    "\n",
    "## Recorrer una lista con un índice \n",
    "for i in range(len(lista)):\n",
    "    print(\"%i. \" % i, end=\" \")\n",
    "    print(lista[i])\n",
    "    "
   ]
  }
 ],
 "metadata": {
  "kernelspec": {
   "display_name": "Python 3",
   "language": "python",
   "name": "python3"
  },
  "language_info": {
   "codemirror_mode": {
    "name": "ipython",
    "version": 3
   },
   "file_extension": ".py",
   "mimetype": "text/x-python",
   "name": "python",
   "nbconvert_exporter": "python",
   "pygments_lexer": "ipython3",
   "version": "3.12.3"
  }
 },
 "nbformat": 4,
 "nbformat_minor": 2
}
