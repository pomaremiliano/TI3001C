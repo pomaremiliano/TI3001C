{
 "cells": [
  {
   "cell_type": "markdown",
   "metadata": {},
   "source": [
    "# **Actividad 8**\n",
    "\n",
    "- Jorge Emiliano Pomar\n",
    "- A01709338\n",
    "- 19 de febrero de 2025\n"
   ]
  },
  {
   "cell_type": "markdown",
   "metadata": {},
   "source": [
    "# **Ejercicio 1**\n",
    "\n",
    "La función imprime_pos_espacios (cadena) que recibe una cadena de texto. La función despliega las posiciones donde se encuentra un espacio en blanco. Emplea el modificador end=\" \" en el print para evitar que cada print salte de línea.\n"
   ]
  },
  {
   "cell_type": "code",
   "execution_count": 4,
   "metadata": {},
   "outputs": [
    {
     "name": "stdout",
     "output_type": "stream",
     "text": [
      "Cadena ingresada: Hola esta es una prueba\n",
      "Posiciones de espacios:  [4, 9, 12, 16] "
     ]
    }
   ],
   "source": [
    "def imprime_pos_espacios(cadena):\n",
    "    cont = []\n",
    "    for i in range(len(cadena)):\n",
    "        if cadena[i] == \" \":\n",
    "            cont.append(i)\n",
    "    return cont\n",
    "\n",
    "\n",
    "def main():\n",
    "    cadenainput = input(\"Ingresa la cadena de texto: \")\n",
    "    espacios = imprime_pos_espacios(cadenainput)\n",
    "    print(\"Cadena ingresada: %s\" % (cadenainput))\n",
    "    print(\"Posiciones de espacios: \", espacios, end=\" \")\n",
    "\n",
    "\n",
    "main()"
   ]
  },
  {
   "cell_type": "markdown",
   "metadata": {},
   "source": [
    "## **Ejercicio 2**\n",
    "\n",
    "La función cuenta_vocales (cadena) que recibe una cadena y devuelve el número de vocales que hay en la cadena.\n"
   ]
  },
  {
   "cell_type": "code",
   "execution_count": 5,
   "metadata": {},
   "outputs": [
    {
     "name": "stdout",
     "output_type": "stream",
     "text": [
      "Cadena ingresada: Hola MUNDO\n",
      "Número de vocales:  4\n"
     ]
    }
   ],
   "source": [
    "def cuenta_vocales(cadena):\n",
    "    cont = 0\n",
    "    for i in range(len(cadena)):\n",
    "        if cadena[i].lower() in \"aeiou\":\n",
    "            cont += 1\n",
    "    return cont\n",
    "\n",
    "\n",
    "def main():\n",
    "    cadenainput2 = input(\"Ingresa la cadena de texto: \")\n",
    "    vocales = cuenta_vocales(cadenainput2)\n",
    "    print(\"Cadena ingresada: %s\" % (cadenainput2))\n",
    "    print(\"Número de vocales: \", vocales)\n",
    "\n",
    "\n",
    "main()"
   ]
  },
  {
   "cell_type": "markdown",
   "metadata": {},
   "source": [
    "## **Ejercicio 3**\n",
    "\n",
    "La función deletrea_cadena (cadena) que recibe una cadena e imprime cada letra en la cadena separada por un guion medio. Emplea el modificador end=\"\" en el print para evitar que cada print salte de línea.\n"
   ]
  },
  {
   "cell_type": "code",
   "execution_count": 3,
   "metadata": {},
   "outputs": [
    {
     "name": "stdout",
     "output_type": "stream",
     "text": [
      "Cadena deletreada:  m-m-m-\n"
     ]
    }
   ],
   "source": [
    "def deletrea_cadena(cadena):\n",
    "    resultado = \"\"\n",
    "    for i in range(len(cadena)):\n",
    "        if i < len(cadena):\n",
    "            resultado += cadena[i] + \"-\"\n",
    "        else:\n",
    "            resultado += cadena[i]\n",
    "    return resultado\n",
    "\n",
    "\n",
    "def main():\n",
    "    cadenainput3 = input(\"Ingresa la cadena de texto: \")\n",
    "    resultado = deletrea_cadena(cadenainput3)\n",
    "    print(\"Cadena deletreada: \", resultado)\n",
    "\n",
    "\n",
    "main()"
   ]
  }
 ],
 "metadata": {
  "kernelspec": {
   "display_name": "Python 3",
   "language": "python",
   "name": "python3"
  },
  "language_info": {
   "codemirror_mode": {
    "name": "ipython",
    "version": 3
   },
   "file_extension": ".py",
   "mimetype": "text/x-python",
   "name": "python",
   "nbconvert_exporter": "python",
   "pygments_lexer": "ipython3",
   "version": "3.12.3"
  }
 },
 "nbformat": 4,
 "nbformat_minor": 2
}
