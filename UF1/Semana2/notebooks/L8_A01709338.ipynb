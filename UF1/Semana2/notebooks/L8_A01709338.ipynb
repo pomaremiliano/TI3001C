{
 "cells": [
  {
   "cell_type": "markdown",
   "metadata": {},
   "source": [
    "# **Laboratorio 8**\n",
    "\n",
    "- Jorge Emiliano Pomar\n",
    "- A01709338\n",
    "- 19 de febrero de 2025\n"
   ]
  },
  {
   "cell_type": "markdown",
   "metadata": {},
   "source": [
    "## **Índice**\n",
    "\n",
    "- [Ejercicio 1](#ejercicio-1)\n",
    "- [Ejercicio 2](#ejercicio-2)\n",
    "- [Ejercicio 3](#ejercicio-3)\n",
    "- [Ejercicio 4](#ejercicio-4)\n",
    "- [Ejercicio 5](#ejercicio-5)\n",
    "- [Ejercicio 6](#ejercicio-6)\n",
    "- [Ejercicio 7](#ejercicio-7)"
   ]
  },
  {
   "cell_type": "markdown",
   "metadata": {},
   "source": [
    "## **Ejercicio 1** <a class=\"anchor\" id=\"ejercicio-1\"></a>\n"
   ]
  },
  {
   "cell_type": "markdown",
   "metadata": {},
   "source": [
    "La función inserta_html (cadena) que recibe una cadena de texto e inserta al principio de la cadena `<html><body>` y al final `</body></html>`. La función regresaría la cadena modificada.\n"
   ]
  },
  {
   "cell_type": "code",
   "execution_count": 40,
   "metadata": {},
   "outputs": [
    {
     "name": "stdout",
     "output_type": "stream",
     "text": [
      "Cadena ingresada: Hola mundo\n",
      "Cadena con html:  <html><body>Hola mundo</body></html>\n"
     ]
    }
   ],
   "source": [
    "def inserta_html(cadena):\n",
    "    html = \"<html><body>\" + cadena + \"</body></html>\"\n",
    "    return html\n",
    "\n",
    "\n",
    "def main():\n",
    "    cadenainput = input(\"Ingresa la cadena de texto: \")\n",
    "    cadenahtml = inserta_html(cadenainput)\n",
    "    print(\"Cadena ingresada: %s\" % (cadenainput))\n",
    "    print(\"Cadena con html: \", cadenahtml)\n",
    "\n",
    "\n",
    "main()"
   ]
  },
  {
   "cell_type": "markdown",
   "metadata": {},
   "source": [
    "## **Ejercicio 2** <a class=\"anchor\" id=\"ejercicio-2\"></a>\n"
   ]
  },
  {
   "cell_type": "markdown",
   "metadata": {},
   "source": [
    "La función inserta_saltos (cadena) que recibe una cadena de texto y reemplaza los saltos de línea \"\\n\" en la cadena \"Hola \\n mundo\" por `<br>`. La función regresaría la cadena modificada.\n"
   ]
  },
  {
   "cell_type": "code",
   "execution_count": 41,
   "metadata": {},
   "outputs": [
    {
     "name": "stdout",
     "output_type": "stream",
     "text": [
      "Cadena ingresada: Hola a todos \\n mi nombre es Goku!\n",
      "Cadena con breaks <br>:  Hola a todos <br> mi nombre es Goku!\n"
     ]
    }
   ],
   "source": [
    "def inserta_saltos(cadena):\n",
    "    return cadena.replace(\"\\\\n\", \"<br>\")\n",
    "\n",
    "\n",
    "def main():\n",
    "    cadenainput2 = input(\"Ingresa la cadena de texto: \")\n",
    "    cadena_break = inserta_saltos(cadenainput2)\n",
    "    print(\"Cadena ingresada: %s\" % (cadenainput2))\n",
    "    print(\"Cadena con breaks <br>: \", cadena_break)\n",
    "\n",
    "\n",
    "main()"
   ]
  },
  {
   "cell_type": "markdown",
   "metadata": {},
   "source": [
    "## **Ejercicio 3** <a class=\"anchor\" id=\"ejercicio-3\"></a>\n"
   ]
  },
  {
   "cell_type": "markdown",
   "metadata": {},
   "source": [
    "La función formato_web (cadena) que recibe una cadena de texto y la convierte en texto de una pagina web. Para lo cual necesitas llamar a las dos funciones anteriores (inserta_html e inserta_saltos). La función regresaría la cadena modificada.\n"
   ]
  },
  {
   "cell_type": "code",
   "execution_count": 42,
   "metadata": {},
   "outputs": [
    {
     "name": "stdout",
     "output_type": "stream",
     "text": [
      "Cadena ingresada: Hola a todos \\n mi nombre es Goku! \n",
      "Cadena web:  <html><body>Hola a todos <br> mi nombre es Goku!</body></html>\n"
     ]
    }
   ],
   "source": [
    "def formato_web(cadena):\n",
    "    cadena = inserta_saltos(cadena)\n",
    "    return inserta_html(cadena)\n",
    "\n",
    "\n",
    "def main():\n",
    "    cadenainput3 = input(\"Ingresa la cadena de texto: \")\n",
    "    cadena_web = formato_web(cadenainput3)\n",
    "    print(\"Cadena ingresada: %s \" % (cadenainput3))\n",
    "    print(\"Cadena web: \", cadena_web)\n",
    "\n",
    "\n",
    "main()"
   ]
  },
  {
   "cell_type": "markdown",
   "metadata": {},
   "source": [
    "## **Ejercicio 4** <a class=\"anchor\" id=\"ejercicio-4\"></a>\n"
   ]
  },
  {
   "cell_type": "markdown",
   "metadata": {},
   "source": [
    "La función limpia_cadena (caracteres_seguros, cadena) que recibe dos cadenas: una cadena de caracteres_seguros y otra que es la cadena a limpiar. La función regresa una nueva cadena que descarta todos los caracteres que no están en la lista de caracteres_seguros. Usa esta lista de caracteres_seguros, para no tener que pedirla cada vez que corras tu código. Solo pégala en la parte inicial de tu función main y recíbela como parámetro de tu función.\n"
   ]
  },
  {
   "cell_type": "code",
   "execution_count": 2,
   "metadata": {},
   "outputs": [
    {
     "name": "stdout",
     "output_type": "stream",
     "text": [
      "La cadena limpia de la cadena Hola! /*Mundo%@ 2025 es:  Hola Mundo 2025\n"
     ]
    }
   ],
   "source": [
    "def limpia_cadena(caracteres_seguros, cadena):\n",
    "    caracteres_limpios = \"\"\n",
    "    for i in range(len(cadena)):\n",
    "        if cadena[i] in caracteres_seguros:\n",
    "            caracteres_limpios += cadena[i]\n",
    "    return caracteres_limpios\n",
    "\n",
    "\n",
    "def main():\n",
    "    caracteres_seguros = (\n",
    "        \" abcdefghijklmnopqrstuvwxyzABCDEFGHIJKLMNOPQRSTUVWXYZñÑáéíóú0123456789\"\n",
    "    )\n",
    "    cadenainput4 = input(\"Ingresa la cadena de texto: \")\n",
    "    cadena_limpia = limpia_cadena(caracteres_seguros, cadenainput4)\n",
    "    print(\"La cadena limpia de la cadena %s es: \" % (cadenainput4), cadena_limpia)\n",
    "\n",
    "\n",
    "main()"
   ]
  },
  {
   "cell_type": "markdown",
   "metadata": {},
   "source": [
    "## **Ejercicio 5** <a class=\"anchor\" id=\"ejercicio-5\"></a>\n"
   ]
  },
  {
   "cell_type": "markdown",
   "metadata": {},
   "source": [
    "La función cromosomasx (cadena) que recibe una cadena de texto y regresa el número total de caracteres 'X' que hay en la cadena.\n"
   ]
  },
  {
   "cell_type": "code",
   "execution_count": 44,
   "metadata": {},
   "outputs": [
    {
     "name": "stdout",
     "output_type": "stream",
     "text": [
      "La cadena XxxXYYXY tiene 5 cromosomas x\n"
     ]
    }
   ],
   "source": [
    "def cromosomasx(cadena):\n",
    "    cont = 0\n",
    "    for i in range(len(cadena)):\n",
    "        if cadena[i].lower() == \"x\":\n",
    "            cont += 1\n",
    "    return cont\n",
    "\n",
    "\n",
    "def main():\n",
    "    cadenainput5 = input(\"Ingresa la cadena de texto: \")\n",
    "    cromosomas = cromosomasx(cadenainput5)\n",
    "    print(\"La cadena %s tiene %i cromosomas x\" % (cadenainput5, cromosomas))\n",
    "\n",
    "\n",
    "main()"
   ]
  },
  {
   "cell_type": "markdown",
   "metadata": {},
   "source": [
    "## **Ejercicio 6** <a class=\"anchor\" id=\"ejercicio-6\"></a>\n"
   ]
  },
  {
   "cell_type": "markdown",
   "metadata": {},
   "source": [
    "La función cromosomasy (cadena) que recibe una cadena de texto y regresa el número total de caracteres 'Y' que hay en la cadena.\n"
   ]
  },
  {
   "cell_type": "code",
   "execution_count": 43,
   "metadata": {},
   "outputs": [
    {
     "name": "stdout",
     "output_type": "stream",
     "text": [
      "La cadena XxxXYyXY tiene 3 cromosomas y\n"
     ]
    }
   ],
   "source": [
    "def cromosomasy(cadena):\n",
    "    cont = 0\n",
    "    for i in range(len(cadena)):\n",
    "        if cadena[i].lower() == \"y\":\n",
    "            cont += 1\n",
    "    return cont\n",
    "\n",
    "\n",
    "def main():\n",
    "    cadenainput5 = input(\"Ingresa la cadena de texto: \")\n",
    "    cromosomas = cromosomasy(cadenainput5)\n",
    "    print(\"La cadena %s tiene %i cromosomas y\" % (cadenainput5, cromosomas))\n",
    "\n",
    "\n",
    "main()"
   ]
  },
  {
   "cell_type": "markdown",
   "metadata": {},
   "source": [
    "## **Ejercicio 7** <a class=\"anchor\" id=\"ejercicio-7\"></a>\n"
   ]
  },
  {
   "cell_type": "markdown",
   "metadata": {},
   "source": [
    "La función determina_sexo (cadena) que recibe una cadena de texto y utilizando las funciones cromosomasx y cromosomasy despliega en pantalla el sexo de un ser humano. NOTA: Para poder evaluar una secuencia de cromosomas, se utiliza una cadena de texto cuyo contenido son X's (que representan los cromosomas X) y Y's (que representan los cromosomas Y). El sexo femenino está definido por un número mayor de cromosomas X que cromosomas Y, en el sexo masculino el número de cromosomas Y es mayor que el de los cromosomas X. Desafortunadamente no se puede concluir nada al respecto en caso de que los cromosomas X y Y estén balanceados, pues el sexo aún no está definido.\n"
   ]
  },
  {
   "cell_type": "code",
   "execution_count": 47,
   "metadata": {},
   "outputs": [
    {
     "name": "stdout",
     "output_type": "stream",
     "text": [
      "Cadena Ingresada: XXXXYYXY\n",
      "Femenino\n"
     ]
    }
   ],
   "source": [
    "def determina_sexo(cadena):\n",
    "    x = cromosomasx(cadena)\n",
    "    y = cromosomasy(cadena)\n",
    "\n",
    "    if x > y:\n",
    "        print(\"Femenino\")\n",
    "    elif y > x:\n",
    "        print(\"Masculino\")\n",
    "    else:\n",
    "        print(\"Indefinido\")\n",
    "\n",
    "\n",
    "def main():\n",
    "    cadenainput6 = input(\"Ingresa la cadena de texto: \")\n",
    "    print(\"Cadena Ingresada: %s\" % (cadenainput6))\n",
    "    determina_sexo(cadenainput6)\n",
    "\n",
    "\n",
    "main()"
   ]
  }
 ],
 "metadata": {
  "kernelspec": {
   "display_name": "Python 3",
   "language": "python",
   "name": "python3"
  },
  "language_info": {
   "codemirror_mode": {
    "name": "ipython",
    "version": 3
   },
   "file_extension": ".py",
   "mimetype": "text/x-python",
   "name": "python",
   "nbconvert_exporter": "python",
   "pygments_lexer": "ipython3",
   "version": "3.12.3"
  }
 },
 "nbformat": 4,
 "nbformat_minor": 2
}
