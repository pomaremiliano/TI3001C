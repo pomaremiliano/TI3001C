{
 "cells": [
  {
   "cell_type": "markdown",
   "metadata": {},
   "source": [
    "# Laboratorio 9\n",
    "\n",
    "- Jorge Emiliano Pomar\n",
    "- A01709338\n",
    "- 20 de febrero de 2025\n"
   ]
  },
  {
   "cell_type": "markdown",
   "metadata": {},
   "source": [
    "## Ejercicio 1\n",
    "\n",
    "La función captura_alumnos (n) que recibe el número n de alumnos. La función deberá pedir al usuario nombre, apellido1 y apellido2 de los n alumnos, con el siguiente formato: PEDRO LOPEZ SUAREZ. La función deberá pedir los datos de los alumnos a almacenar y los escribirá en un archivo de texto llamado alumnos.txt.\n"
   ]
  },
  {
   "cell_type": "code",
   "execution_count": null,
   "metadata": {},
   "outputs": [
    {
     "name": "stdout",
     "output_type": "stream",
     "text": [
      "\n",
      "Alumno  1\n",
      "\n",
      "Alumno  2\n",
      "\n",
      "Alumno  3\n"
     ]
    }
   ],
   "source": [
    "def captura_alumnos(n):\n",
    "    file = open(\"alumnos.txt\", \"w\")\n",
    "    for i in range(n):\n",
    "        print(\"\\nAlumno \", i + 1)\n",
    "\n",
    "        nombre = input(\"Nombre: \").upper()\n",
    "        apellido1 = input(\"Primer Apellido: \").upper()\n",
    "        apellido2 = input(\"Segundo Apellido: \").upper()\n",
    "        file.write(nombre + \" \" + apellido1 + \" \" + apellido2 + \"\\n\")\n",
    "    file.close()\n",
    "\n",
    "\n",
    "def main():\n",
    "    num_alumnos = int(input(\"Ingresa el numero de alumnos: \"))\n",
    "    captura_alumnos(num_alumnos)\n",
    "\n",
    "\n",
    "main()"
   ]
  },
  {
   "cell_type": "markdown",
   "metadata": {},
   "source": [
    "## Ejercicio 2\n",
    "\n",
    "La función busca_apellido (apellido) que recibe el apellido a buscar en el archivo de texto de alumnos.txt. La función deberá imprimir todos los alumnos (nombre apellido1 apellido2) que coincidan con el apellido buscado.\n"
   ]
  },
  {
   "cell_type": "code",
   "execution_count": null,
   "metadata": {},
   "outputs": [
    {
     "name": "stdout",
     "output_type": "stream",
     "text": [
      "PEDRO LOPEZ JUAREZ\n",
      "\n",
      "LUISA LOPEZ DORANTES\n",
      "\n"
     ]
    }
   ],
   "source": [
    "def busca_apellido(apellido):\n",
    "    file = open(\"alumnos.txt\", \"r\")\n",
    "    linea = file.readline()\n",
    "\n",
    "    while linea != \"\":\n",
    "        if apellido in linea:\n",
    "            print(linea)\n",
    "        linea = file.readline()\n",
    "    file.close()\n",
    "\n",
    "\n",
    "def main():\n",
    "    apellido = input(\"Ingresa el apellido a buscar: \")\n",
    "\n",
    "    busca_apellido(apellido)\n",
    "\n",
    "\n",
    "main()"
   ]
  },
  {
   "cell_type": "markdown",
   "metadata": {},
   "source": [
    "## Ejercicio 3\n",
    "\n",
    "La función copia_archivo (nombre_o, nombre_d) que recibe el nombre del archivo de texto origen y el nombre del archivo de texto destino. La función debe copiar todo el contenido del archivo origen al archivo destino, cuyo contenido final será la conversión de los caracteres a minúsculas de cada uno de los caracteres del archivo de origen.\n"
   ]
  },
  {
   "cell_type": "code",
   "execution_count": null,
   "metadata": {},
   "outputs": [
    {
     "name": "stdout",
     "output_type": "stream",
     "text": [
      "Copia de alumnos.txt creada en archivo alumnos2.txt \n"
     ]
    }
   ],
   "source": [
    "def copia_archivo(nombre_o, nombre_d):\n",
    "    origen = open(nombre_o, \"r\")\n",
    "    destino = open(nombre_d, \"w\")\n",
    "\n",
    "    contenido = origen.read()\n",
    "    destino.write(contenido.lower())\n",
    "    origen.close()\n",
    "    destino.close()\n",
    "\n",
    "\n",
    "def main():\n",
    "    archivo_origen = input(\"Ingresa el nombre del archivo origen: \")\n",
    "    archivo_destino = input(\"Ingresa el nombre del archivo destino: \")\n",
    "\n",
    "    copia_archivo(archivo_origen, archivo_destino)\n",
    "\n",
    "    print(\"Copia de %s creada en archivo %s \" % (archivo_origen, archivo_destino))\n",
    "\n",
    "\n",
    "main()"
   ]
  },
  {
   "cell_type": "markdown",
   "metadata": {},
   "source": [
    "## Ejercicio 4\n",
    "\n",
    "La función cuenta_consonantes (nombre) que recibe el nombre del archivo de texto y regrese el número de consonantes mayúsculas y minúsculas contenidas en un archivo de texto.\n"
   ]
  },
  {
   "cell_type": "code",
   "execution_count": 16,
   "metadata": {},
   "outputs": [
    {
     "name": "stdout",
     "output_type": "stream",
     "text": [
      "El archivo alumnos.txt contiene 29 consonantes.\n"
     ]
    }
   ],
   "source": [
    "def cuenta_consonantes(nombre):\n",
    "    consonantes = \"bcdfghjklmnpqrstvwxyzBCDFGHJKLMNPQRSTVWXYZ\"\n",
    "    cont = 0\n",
    "\n",
    "    file = open(nombre, \"r\")\n",
    "    contenido = file.read(1)\n",
    "    while contenido != \"\":\n",
    "        if contenido.lower() in consonantes:\n",
    "            cont += 1\n",
    "        contenido = file.read(1)\n",
    "    file.close()\n",
    "    return cont\n",
    "\n",
    "\n",
    "def main():\n",
    "    nombre_archivo = input(\"Ingresa el nombre del archivo: \")\n",
    "    total_consonantes = cuenta_consonantes(nombre_archivo)\n",
    "    print(\"El archivo %s contiene %s consonantes.\" % (nombre_archivo, total_consonantes))\n",
    "\n",
    "\n",
    "main()"
   ]
  }
 ],
 "metadata": {
  "kernelspec": {
   "display_name": "Python 3",
   "language": "python",
   "name": "python3"
  },
  "language_info": {
   "codemirror_mode": {
    "name": "ipython",
    "version": 3
   },
   "file_extension": ".py",
   "mimetype": "text/x-python",
   "name": "python",
   "nbconvert_exporter": "python",
   "pygments_lexer": "ipython3",
   "version": "3.12.3"
  }
 },
 "nbformat": 4,
 "nbformat_minor": 2
}
