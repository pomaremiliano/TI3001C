{
 "cells": [
  {
   "cell_type": "markdown",
   "metadata": {},
   "source": [
    "# Actividad 7 \n",
    "- Jorge Emiliano Pomar\n",
    "- A01709338\n",
    "- 18 de febrero de 2025"
   ]
  },
  {
   "cell_type": "markdown",
   "metadata": {},
   "source": [
    "## Ejericio 1"
   ]
  },
  {
   "cell_type": "markdown",
   "metadata": {},
   "source": [
    "\n",
    "\n",
    "Tenemos una lista de edades: 25, 38, 40, 10, 56, 15, 64, 29, 72, 18, realice lo siguiente:\n",
    "* Inicialice una lista con los valores dados y llámela edades.\n",
    "* Utilice el método copy sobre edades para obtener una copia y almacénela en copia.\n",
    "* Utilice el método sort sobre copia para ordenárla de menor a mayor.\n",
    "* Imprime la lista edades.\n",
    "* Imprime la lista copia. \n",
    "\n"
   ]
  },
  {
   "cell_type": "code",
   "execution_count": 1,
   "metadata": {},
   "outputs": [
    {
     "name": "stdout",
     "output_type": "stream",
     "text": [
      "Edades: [25, 38, 40, 10, 56, 15, 64, 29, 72, 18]\n",
      "Copia [10, 15, 18, 25, 29, 38, 40, 56, 64, 72]\n"
     ]
    }
   ],
   "source": [
    "edades =  [25, 38, 40, 10, 56, 15, 64, 29, 72, 18]\n",
    "copia = edades.copy()\n",
    "copia.sort()\n",
    "print(\"Edades:\", edades)\n",
    "print(\"Copia\", copia)"
   ]
  },
  {
   "cell_type": "markdown",
   "metadata": {},
   "source": [
    "## Ejericio 2\n"
   ]
  },
  {
   "cell_type": "markdown",
   "metadata": {},
   "source": [
    "La función crea_lista (tam) que recibe el tamaño de la lista a crear.La función deberá pedir un valor numérico al usuario para cada casilla de la lista y al final devolver la lista creada."
   ]
  },
  {
   "cell_type": "code",
   "execution_count": 14,
   "metadata": {},
   "outputs": [],
   "source": [
    "def crea_lista(tam):\n",
    "    lista = []\n",
    "    for i in range (tam):\n",
    "            valores = int(input(\"Ingresa los valores: \"))\n",
    "            lista.append(valores)\n",
    "    return lista\n",
    "    "
   ]
  },
  {
   "cell_type": "markdown",
   "metadata": {},
   "source": [
    "## Ejericio 3 \n",
    " La función cuenta_pares (lista) que recibe una lista de números enteros. La función regresa cuántos elementos del arreglo son pares. Para mandar llamar esta función antes debes usar crea_lista para asegurarte que la lista tiene valores."
   ]
  },
  {
   "cell_type": "code",
   "execution_count": 12,
   "metadata": {},
   "outputs": [
    {
     "name": "stdout",
     "output_type": "stream",
     "text": [
      "[48, 4, 7]\n",
      "Pares: 2\n"
     ]
    }
   ],
   "source": [
    "def cuenta_pares(lista):\n",
    "    cont = 0\n",
    "    for i in range (len(lista)):\n",
    "        if lista[i] % 2 == 0:\n",
    "            cont = cont + 1\n",
    "    return cont\n",
    "\n",
    "def main():\n",
    "    tam = int(input(\"Ingresa el tam: \"))\n",
    "    lista = crea_lista(tam)\n",
    "    print(lista)\n",
    "    \n",
    "    pares = cuenta_pares(lista)\n",
    "    print(\"Pares:\", pares)\n",
    "\n",
    "main()"
   ]
  },
  {
   "cell_type": "markdown",
   "metadata": {},
   "source": [
    "## Ejercicio 4\n",
    "\n",
    "La función sustituye_lista (lista, x, y) que recibe una lista de números, un valor entero x y un valor entero y. La función debe sustituir las ocurrencias de x en la lista por el valor de y. Para mandar llamar esta función antes debes usar crea_lista para asegurarte que tienes valores en la lista.\n"
   ]
  },
  {
   "cell_type": "code",
   "execution_count": null,
   "metadata": {},
   "outputs": [
    {
     "name": "stdout",
     "output_type": "stream",
     "text": [
      "[48, 4, 7]\n",
      "Sustituye lista:  [48, 9, 7]\n"
     ]
    }
   ],
   "source": [
    "\n",
    "def sustituye_lista(lista, x, y):\n",
    "    for i in range(len(lista)):\n",
    "        if lista[i] == x:\n",
    "            lista[i] = y\n",
    "    return lista\n",
    "\n",
    "def main():\n",
    "    tam = int(input(\"Ingresa el tam: \"))\n",
    "    lista = crea_lista(tam)\n",
    "    print(lista)\n",
    "    \n",
    "    x = int(input(\"Ingresa el valor de x: \"))\n",
    "    y = int(input(\"Ingresa el valor de y: \"))\n",
    "    \n",
    "    sustitucion = sustituye_lista(lista, x, y)\n",
    "    print(\"Sustituye lista: \", sustitucion)\n",
    "main()\n",
    "            "
   ]
  },
  {
   "cell_type": "markdown",
   "metadata": {},
   "source": [
    "## Ejercicio 5\n",
    "La función suma_multiplos (lista, x) que recibe una lista de números y un entero x. La función deberá regresar el resultado de sumar todos los elementos múltiplos de x contenidos en la lista. Para mandar llamar esta función antes de debes de usar crea_lista para asegurarte que tienes valores en la lista. "
   ]
  },
  {
   "cell_type": "code",
   "execution_count": 10,
   "metadata": {},
   "outputs": [
    {
     "name": "stdout",
     "output_type": "stream",
     "text": [
      "[48, 4, 7]\n",
      "Sumatoria: 52\n"
     ]
    }
   ],
   "source": [
    "def suma_multiplos(A, x):\n",
    "    suma = 0\n",
    "    for i in range(len(A)):\n",
    "        if A[i] % x == 0:\n",
    "            suma = suma + A[i]\n",
    "    return suma\n",
    "\n",
    "def main():\n",
    "    tam = int(input(\"Ingresa el tam: \"))\n",
    "    lista = crea_lista(tam)\n",
    "    print(lista)\n",
    "    x = int(input(\"Ingrese el valor de x: \"))\n",
    "    sumatoria = suma_multiplos(lista, x)\n",
    "    print(\"Sumatoria:\", sumatoria)\n",
    "\n",
    "main()"
   ]
  }
 ],
 "metadata": {
  "kernelspec": {
   "display_name": "Python 3",
   "language": "python",
   "name": "python3"
  },
  "language_info": {
   "codemirror_mode": {
    "name": "ipython",
    "version": 3
   },
   "file_extension": ".py",
   "mimetype": "text/x-python",
   "name": "python",
   "nbconvert_exporter": "python",
   "pygments_lexer": "ipython3",
   "version": "3.12.3"
  }
 },
 "nbformat": 4,
 "nbformat_minor": 2
}
