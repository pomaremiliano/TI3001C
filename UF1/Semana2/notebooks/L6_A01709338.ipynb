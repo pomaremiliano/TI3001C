{
 "cells": [
  {
   "cell_type": "markdown",
   "metadata": {},
   "source": [
    "# Laboratorio 6\n",
    "- Jorge Emiliano Pomar \n",
    "- A01709338"
   ]
  },
  {
   "cell_type": "markdown",
   "metadata": {},
   "source": [
    "## Ejercicio 1\n",
    "\n",
    "La función crea_lista (tam) que recibe el tamaño de la lista. La función deberá pedir un valor numérico al usuario para cada casilla de la lista y al final devolver la lista creada. \n"
   ]
  },
  {
   "cell_type": "code",
   "execution_count": 5,
   "metadata": {},
   "outputs": [
    {
     "name": "stdout",
     "output_type": "stream",
     "text": [
      "[1, 2, 3]\n"
     ]
    }
   ],
   "source": [
    "# Con insert\n",
    "def crea_lista(tam):\n",
    "    lista = []\n",
    "    for i in range(tam):\n",
    "        num = int(input(\"Ingresa un numero: \"))\n",
    "        lista.insert(i,num)\n",
    "    return lista\n",
    "\n",
    "def main():\n",
    "    tam = int(input(\"Ingresa el tam de la lista: \"))\n",
    "    lista = crea_lista(tam)\n",
    "    print(lista)\n",
    "\n",
    "main()\n"
   ]
  },
  {
   "cell_type": "code",
   "execution_count": 6,
   "metadata": {},
   "outputs": [
    {
     "name": "stdout",
     "output_type": "stream",
     "text": [
      "[1, 2, 3]\n"
     ]
    }
   ],
   "source": [
    "# Con append\n",
    "def crea_lista(tam):\n",
    "    lista = []\n",
    "    for i in range(tam):\n",
    "        num = int(input(\"Ingresa un numero: \"))\n",
    "        lista.append(num)\n",
    "    return lista\n",
    "\n",
    "def main():\n",
    "    tam = int(input(\"Ingresa el tam de la lista: \"))\n",
    "    lista = crea_lista(tam)\n",
    "    print(lista)\n",
    "\n",
    "main()"
   ]
  },
  {
   "cell_type": "markdown",
   "metadata": {},
   "source": [
    "## Ejercicio 2\n",
    "\n",
    "La función inicializa_lista (lista) que recibe una lista de números. La función cambia todos los valores de la lista por valores aleatorios entre -5 y 15. La función no crea una nueva lista, sino que modifica la que recibe como parámetro. Para mandar llamar esta función antes debes usar crea_lista para asegurarte que tienes valores que cambiar. \n"
   ]
  },
  {
   "cell_type": "code",
   "execution_count": 8,
   "metadata": {},
   "outputs": [
    {
     "name": "stdout",
     "output_type": "stream",
     "text": [
      "Lista original:  [1, 2, 3, 4]\n",
      "Lista num. aleatorios:  [11, 0, 15, -3]\n"
     ]
    }
   ],
   "source": [
    "import random \n",
    "def inicializa_lista(lista):\n",
    "    for i in range(len(lista)):\n",
    "         lista[i] = random.randint(-5, 15)\n",
    "    return lista\n",
    "\n",
    "def main():\n",
    "    tam = int(input(\"Ingresa el tam de la lista: \"))\n",
    "    lista = crea_lista(tam)\n",
    "    print(\"Lista original: \", lista)\n",
    "    \n",
    "    inicializa_lista(lista)\n",
    "    print(\"Lista num. aleatorios: \", lista)\n",
    "\n",
    "main()\n",
    "    "
   ]
  },
  {
   "cell_type": "markdown",
   "metadata": {},
   "source": [
    "## Ejercicio 3\n",
    "\n",
    "La función promedio (lista) que recibe una lista de números y devuelve el promedio de los elementos en la lista. Para mandar llamar esta función antes debes usar crea_lista para asegurarte que tienes valores en la lista.\n"
   ]
  },
  {
   "cell_type": "code",
   "execution_count": 12,
   "metadata": {},
   "outputs": [
    {
     "name": "stdout",
     "output_type": "stream",
     "text": [
      "Lista original:  [8, 7, 37]\n",
      "La suma es:  52\n",
      "El promedio es 17.33\n"
     ]
    }
   ],
   "source": [
    "def promedio(lista):\n",
    "    acum = 0\n",
    "    for i in range(len(lista)):\n",
    "        acum = acum + lista[i]\n",
    "    print(\"La suma es: \", acum)\n",
    "    return acum / len(lista)\n",
    "\n",
    "def main():\n",
    "    tam = int(input(\"Ingresa el tam de la lista: \"))\n",
    "    lista = crea_lista(tam)\n",
    "    print(\"Lista original: \", lista)\n",
    "    \n",
    "    if tam > 0:\n",
    "        res = promedio(lista)\n",
    "        print(\"El promedio es %.2f\" % res)\n",
    "    else: \n",
    "        print(\"La lista esta vacia.\")\n",
    "\n",
    "main()"
   ]
  },
  {
   "cell_type": "markdown",
   "metadata": {},
   "source": [
    "## Ejercicio 4\n",
    "La función varianza (lista) que recibe una lista de números y devuelve el cálculo de la varianza. Para mandar llamar esta función antes debes usar crea_lista para asegurarte que tienes valores en la lista. Usa la función promedio que acabas de crear. La varianza se define como: "
   ]
  },
  {
   "cell_type": "code",
   "execution_count": null,
   "metadata": {},
   "outputs": [],
   "source": []
  }
 ],
 "metadata": {
  "kernelspec": {
   "display_name": "Python 3",
   "language": "python",
   "name": "python3"
  },
  "language_info": {
   "codemirror_mode": {
    "name": "ipython",
    "version": 3
   },
   "file_extension": ".py",
   "mimetype": "text/x-python",
   "name": "python",
   "nbconvert_exporter": "python",
   "pygments_lexer": "ipython3",
   "version": "3.12.3"
  }
 },
 "nbformat": 4,
 "nbformat_minor": 2
}
