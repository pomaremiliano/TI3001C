{
 "cells": [
  {
   "cell_type": "markdown",
   "metadata": {},
   "source": [
    "# Actividad 3\n",
    "\n",
    "- Jorge Emiliano Pomar\n",
    "- A01709338\n"
   ]
  },
  {
   "cell_type": "markdown",
   "metadata": {},
   "source": [
    "## Ejercicio 1\n"
   ]
  },
  {
   "cell_type": "code",
   "execution_count": 9,
   "metadata": {},
   "outputs": [
    {
     "name": "stdout",
     "output_type": "stream",
     "text": [
      "1. Sector\n",
      "2. Elipse\n",
      "3. Paralelogramo\n",
      "4. Salir\n",
      "La superficie del sector es: 9.82\n",
      "\n",
      "1. Sector\n",
      "2. Elipse\n",
      "3. Paralelogramo\n",
      "4. Salir\n",
      "La superficie de la elipse es: 31.42\n",
      "\n",
      "1. Sector\n",
      "2. Elipse\n",
      "3. Paralelogramo\n",
      "4. Salir\n",
      "La superficie del paralelogramo es: 33.12\n",
      "\n"
     ]
    }
   ],
   "source": [
    "import math as m\n",
    "\n",
    "\n",
    "def sector(radio, angulo):\n",
    "    superficie = (m.pi * radio**2 * angulo) / 360\n",
    "    return superficie\n",
    "\n",
    "\n",
    "def elipse(a, b):\n",
    "\n",
    "    superficie = m.pi * a * b\n",
    "    return superficie\n",
    "\n",
    "\n",
    "def paralelogramo(a, h):\n",
    "    superficie = a * h\n",
    "    return superficie\n",
    "\n",
    "\n",
    "def superficies():\n",
    "    print(\"1. Sector\")\n",
    "    print(\"2. Elipse\")\n",
    "    print(\"3. Paralelogramo\")\n",
    "    print(\"4. Salir\")\n",
    "\n",
    "\n",
    "def main():\n",
    "\n",
    "    superficies()\n",
    "    opcion = int(input(\"Introduce una opcion: \"))\n",
    "    if opcion == 1:\n",
    "        radio = float(input(\"Introduce el radio: \"))\n",
    "        angulo = float(input(\"Introduce el angulo: \"))\n",
    "        superficie = sector(radio, angulo)\n",
    "        print(\"La superficie del sector es: %.2f\" % superficie)\n",
    "    elif opcion == 2:\n",
    "        a = float(input(\"Introduce el radio a: \"))\n",
    "        b = float(input(\"Introduce el radio b: \"))\n",
    "\n",
    "        superficie = elipse(a, b)\n",
    "        print(\"La superficie de la elipse es: %.2f\" % superficie)\n",
    "\n",
    "    elif opcion == 3:\n",
    "        a = float(input(\"Introduce el lado a: \"))\n",
    "        h = float(input(\"Introduce la altura h: \"))\n",
    "\n",
    "        superficie = paralelogramo(a, h)\n",
    "        print(\"La superficie del paralelogramo es: %.2f\" % superficie)\n",
    "    elif opcion == 4:\n",
    "        print(\"Adios\")\n",
    "    else:\n",
    "        print(\"Opcion incorrecta\")\n",
    "\n",
    "\n",
    "main()\n",
    "print()\n",
    "main()\n",
    "print()\n",
    "main()\n",
    "print()"
   ]
  }
 ],
 "metadata": {
  "kernelspec": {
   "display_name": "Python 3 (ipykernel)",
   "language": "python",
   "name": "python3"
  },
  "language_info": {
   "codemirror_mode": {
    "name": "ipython",
    "version": 3
   },
   "file_extension": ".py",
   "mimetype": "text/x-python",
   "name": "python",
   "nbconvert_exporter": "python",
   "pygments_lexer": "ipython3",
   "version": "3.12.7"
  }
 },
 "nbformat": 4,
 "nbformat_minor": 4
}
