{
 "cells": [
  {
   "cell_type": "markdown",
   "metadata": {},
   "source": [
    "# Laboratorio 5 \n"
   ]
  },
  {
   "cell_type": "markdown",
   "metadata": {},
   "source": [
    "- Jorge Emiliano Pomar \n",
    "- A01709338\n",
    "- 14 de febrero de 2025"
   ]
  },
  {
   "cell_type": "code",
   "execution_count": 3,
   "metadata": {},
   "outputs": [
    {
     "name": "stdout",
     "output_type": "stream",
     "text": [
      "8\n"
     ]
    }
   ],
   "source": [
    "import random \n",
    "print(random.randint(1,15))"
   ]
  },
  {
   "cell_type": "code",
   "execution_count": 5,
   "metadata": {},
   "outputs": [
    {
     "name": "stdout",
     "output_type": "stream",
     "text": [
      "0. 68\n",
      "1. 48\n",
      "2. 2\n",
      "3. 70\n",
      "4. 25\n",
      "5. 55\n",
      "6. 31\n",
      "7. 47\n",
      "8. 0\n",
      "9. 3\n",
      "10. 62\n",
      "11. 33\n",
      "12. 10\n",
      "13. 64\n",
      "14. 3\n",
      "15. 56\n",
      "16. 40\n",
      "17. 16\n",
      "18. 52\n",
      "19. 35\n",
      "20. 30\n",
      "21. 48\n",
      "22. 52\n",
      "23. 34\n",
      "24. 4\n",
      "25. 7\n",
      "26. 21\n",
      "27. 62\n",
      "28. 68\n",
      "29. 66\n",
      "30. 29\n",
      "31. 31\n",
      "32. 42\n",
      "33. 52\n",
      "34. 60\n",
      "35. 62\n",
      "36. 38\n",
      "37. 50\n",
      "38. 35\n",
      "39. 20\n",
      "40. 56\n",
      "41. 42\n",
      "42. 36\n",
      "43. 25\n",
      "44. 0\n",
      "45. 35\n",
      "46. 58\n",
      "47. 11\n",
      "48. 37\n",
      "49. 65\n"
     ]
    }
   ],
   "source": [
    "def aleatorios1():\n",
    "    for cont in range (50):\n",
    "        num = random.randint(0,70)\n",
    "        print(\"%i. %i\" % (cont, num))  \n",
    "\n",
    "def main():\n",
    "    aleatorios1()\n",
    "main()"
   ]
  },
  {
   "cell_type": "code",
   "execution_count": 7,
   "metadata": {},
   "outputs": [
    {
     "name": "stdout",
     "output_type": "stream",
     "text": [
      "0. 17\n",
      "1. 27\n",
      "2. -3\n",
      "3. 34\n",
      "4. 19\n",
      "5. 40\n",
      "6. -11\n",
      "7. 6\n",
      "8. 19\n",
      "9. 4\n",
      "10. 13\n",
      "11. 37\n",
      "12. 12\n",
      "13. 13\n",
      "14. 19\n",
      "15. 36\n",
      "16. 36\n",
      "17. -10\n",
      "18. 5\n",
      "19. 1\n"
     ]
    }
   ],
   "source": [
    "def aleatorios2():\n",
    "    for cont in range(20):\n",
    "        num = random.randint(-15,40)\n",
    "        print(\"%i. %i\" % (cont, num)) \n",
    "\n",
    "def main():\n",
    "    aleatorios2()\n",
    "\n",
    "main() "
   ]
  },
  {
   "cell_type": "code",
   "execution_count": 13,
   "metadata": {},
   "outputs": [
    {
     "name": "stdin",
     "output_type": "stream",
     "text": [
      "Ingresa el numero de *:  6\n"
     ]
    },
    {
     "name": "stdout",
     "output_type": "stream",
     "text": [
      "0 *\n",
      "1 *\n",
      "2 *\n",
      "3 *\n",
      "4 *\n",
      "5 *\n"
     ]
    }
   ],
   "source": [
    "def dibuja_asteriscos(n):\n",
    "    for cont in range(n):\n",
    "        print(cont, \"*\")\n",
    "        \n",
    "def main():\n",
    "    n = int(input(\"Ingresa el numero de *: \"))\n",
    "    if n > 0:\n",
    "        dibuja_asteriscos(n)\n",
    "    else:\n",
    "        print(\"Tiene que ser un numero positivo\")\n",
    "\n",
    "main()"
   ]
  },
  {
   "cell_type": "code",
   "execution_count": 15,
   "metadata": {},
   "outputs": [
    {
     "name": "stdin",
     "output_type": "stream",
     "text": [
      "Ingresa un numero:  6\n"
     ]
    },
    {
     "name": "stdout",
     "output_type": "stream",
     "text": [
      "1 2 3 4 5 6 5 4 3 2 1 "
     ]
    }
   ],
   "source": [
    "def muestra_numeros(n):\n",
    "    for cont in range(1,n):\n",
    "        print(cont, end = \" \")\n",
    "    for cont in range(n, 0, -1):\n",
    "        print(cont, end = \" \")\n",
    "            \n",
    "def main():\n",
    "    num = int(input(\"Ingresa un numero: \"))\n",
    "    if num > 0:\n",
    "        muestra_numeros(num)\n",
    "    else:\n",
    "        print(\"Tiene que ser un numero positivo\")\n",
    "\n",
    "main()"
   ]
  },
  {
   "cell_type": "markdown",
   "metadata": {},
   "source": [
    "## F1 con while suma y multiplicación"
   ]
  },
  {
   "cell_type": "code",
   "execution_count": 17,
   "metadata": {},
   "outputs": [
    {
     "name": "stdin",
     "output_type": "stream",
     "text": [
      "Ingresa un numero positivo:  3\n"
     ]
    },
    {
     "name": "stdout",
     "output_type": "stream",
     "text": [
      "f1(3) = 6\n"
     ]
    }
   ],
   "source": [
    "def f1(n):\n",
    "    cont = 1\n",
    "    acum = 0\n",
    "    while cont <= n:\n",
    "        acum = acum + cont\n",
    "        cont = cont + 1\n",
    "    return acum\n",
    "            \n",
    "def main():\n",
    "    num = int(input(\"Ingresa un numero positivo: \"))\n",
    "    if num > 0:\n",
    "        res = f1(num)\n",
    "        print(\"f1(%i) = %i\" % (num, res))\n",
    "    else:\n",
    "        print(\"Tiene que ser un numero positivo\")\n",
    "\n",
    "main()"
   ]
  },
  {
   "cell_type": "code",
   "execution_count": 19,
   "metadata": {},
   "outputs": [
    {
     "name": "stdin",
     "output_type": "stream",
     "text": [
      "Ingresa un numero positivo:  7\n"
     ]
    },
    {
     "name": "stdout",
     "output_type": "stream",
     "text": [
      "f1(7) = 5040\n"
     ]
    }
   ],
   "source": [
    "def f1(n):\n",
    "    cont = 1\n",
    "    acum = 1\n",
    "    while cont <= n:\n",
    "        acum = acum * cont\n",
    "        cont = cont + 1\n",
    "    return acum\n",
    "            \n",
    "def main():\n",
    "    num = int(input(\"Ingresa un numero positivo: \"))\n",
    "    if num > 0:\n",
    "        res = f1(num)\n",
    "        print(\"f1(%i) = %i\" % (num, res))\n",
    "    else:\n",
    "        print(\"Tiene que ser un numero positivo\")\n",
    "\n",
    "main()"
   ]
  },
  {
   "cell_type": "markdown",
   "metadata": {},
   "source": [
    "## F1 con for multiplicación"
   ]
  },
  {
   "cell_type": "code",
   "execution_count": 21,
   "metadata": {},
   "outputs": [
    {
     "name": "stdin",
     "output_type": "stream",
     "text": [
      "Ingresa un numero positivo:  88\n"
     ]
    },
    {
     "name": "stdout",
     "output_type": "stream",
     "text": [
      "f1(88) = 185482642257398439114796845645546284380220968949399346684421580986889562184028199319100141244804501828416633516851200000000000000000000\n"
     ]
    }
   ],
   "source": [
    "def f1(n):\n",
    "    acum = 1\n",
    "    for cont in range(1, n+1):\n",
    "        acum = acum * cont\n",
    "    return acum        \n",
    "            \n",
    "def main():\n",
    "    num = int(input(\"Ingresa un numero positivo: \"))\n",
    "    if num > 0:\n",
    "        res = f1(num)\n",
    "        print(\"f1(%i) = %i\" % (num, res))\n",
    "    else:\n",
    "        print(\"Tiene que ser un numero positivo\")\n",
    "\n",
    "main()"
   ]
  },
  {
   "cell_type": "code",
   "execution_count": null,
   "metadata": {},
   "outputs": [],
   "source": []
  }
 ],
 "metadata": {
  "kernelspec": {
   "display_name": "Python 3 (ipykernel)",
   "language": "python",
   "name": "python3"
  },
  "language_info": {
   "codemirror_mode": {
    "name": "ipython",
    "version": 3
   },
   "file_extension": ".py",
   "mimetype": "text/x-python",
   "name": "python",
   "nbconvert_exporter": "python",
   "pygments_lexer": "ipython3",
   "version": "3.12.7"
  }
 },
 "nbformat": 4,
 "nbformat_minor": 4
}
