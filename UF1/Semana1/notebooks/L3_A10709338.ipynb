{
 "cells": [
  {
   "cell_type": "markdown",
   "metadata": {},
   "source": [
    "# Laboratorio 3\n",
    "\n",
    "- Jorge Emiliano Pomar\n",
    "- A01709338\n"
   ]
  },
  {
   "cell_type": "markdown",
   "metadata": {},
   "source": [
    "## Ejercicio 1\n"
   ]
  },
  {
   "cell_type": "code",
   "execution_count": null,
   "metadata": {},
   "outputs": [
    {
     "name": "stdout",
     "output_type": "stream",
     "text": [
      "1. Kilometros a millas\n",
      "2. Millas a kilometros\n",
      "3. Salir\n",
      "Adios\n"
     ]
    }
   ],
   "source": [
    "def kilometros_millas(km):\n",
    "\n",
    "    millas = km / 1.6\n",
    "    return millas\n",
    "\n",
    "\n",
    "def millas_kilometros(millas):\n",
    "\n",
    "    km = millas * 1.6\n",
    "    return km\n",
    "\n",
    "\n",
    "def unidades_longitud():\n",
    "    print(\"1. Kilometros a millas\")\n",
    "    print(\"2. Millas a kilometros\")\n",
    "    print(\"3. Salir\")\n",
    "\n",
    "\n",
    "def main():\n",
    "    unidades_longitud()\n",
    "    opcion = int(input(\"Ingresa una opcion: \"))\n",
    "\n",
    "    if opcion == 1:\n",
    "        km = float(input(\"Ingresa los kilometros: \"))\n",
    "        millas = kilometros_millas(km)\n",
    "        print(\"%.2f km son %.2f millas\" % (km, millas))\n",
    "\n",
    "    elif opcion == 2:\n",
    "        millas = float(input(\"Ingresa las millas: \"))\n",
    "        km = millas_kilometros(millas)\n",
    "        print(\"%.2f millas son %.2f km\" % (millas, km))\n",
    "    elif opcion == 3:\n",
    "        print(\"Adios\")\n",
    "    else:\n",
    "        print(\"Opcion invalida\")\n",
    "\n",
    "\n",
    "main()"
   ]
  },
  {
   "cell_type": "markdown",
   "metadata": {},
   "source": [
    "## Ejercicio 2\n"
   ]
  },
  {
   "cell_type": "code",
   "execution_count": 35,
   "metadata": {},
   "outputs": [
    {
     "name": "stdout",
     "output_type": "stream",
     "text": [
      "1. Secante cuadrada\n",
      "2. Cotangente\n",
      "3. Salir\n",
      "La cotangente de 23.00 grados es 2.36\n",
      "\n",
      "1. Secante cuadrada\n",
      "2. Cotangente\n",
      "3. Salir\n",
      "La secante cuadrada de 45.00 grados es 2.00\n",
      "\n"
     ]
    }
   ],
   "source": [
    "import math as m\n",
    "\n",
    "\n",
    "def grados_radianes(grados):\n",
    "    radianes = grados * m.pi / 180\n",
    "    return radianes\n",
    "\n",
    "\n",
    "def secante_cuadrada(grados):\n",
    "\n",
    "    radianes = grados_radianes(grados)\n",
    "    secante = 1 + (m.tan(radianes)) ** 2\n",
    "    return secante\n",
    "\n",
    "\n",
    "def cotangente(grados):\n",
    "\n",
    "    radianes = grados_radianes(grados)\n",
    "    cot = 1 / m.tan(radianes)\n",
    "    return cot\n",
    "\n",
    "\n",
    "def identidades():\n",
    "    print(\"1. Secante cuadrada\")\n",
    "    print(\"2. Cotangente\")\n",
    "    print(\"3. Salir\")\n",
    "\n",
    "\n",
    "def main():\n",
    "    identidades()\n",
    "\n",
    "    opcion = int(input(\"Ingresa una opcion: \"))\n",
    "    if opcion == 1:\n",
    "        grados = float(input(\"Ingresa el ángulo en grados: \"))\n",
    "        secante = secante_cuadrada(grados)\n",
    "        print(\"La secante cuadrada de %.2f grados es %.2f\" % (grados, secante))\n",
    "    elif opcion == 2:\n",
    "        grados = float(input(\"Ingresa el ángulo en grados: \"))\n",
    "        cot = cotangente(grados)\n",
    "        print(\"La cotangente de %.2f grados es %.2f\" % (grados, cot))\n",
    "    elif opcion == 3:\n",
    "        print(\"Adios\")\n",
    "    else:\n",
    "        print(\"Opcion invalida\")\n",
    "\n",
    "\n",
    "main()\n",
    "print()\n",
    "main()\n",
    "print()"
   ]
  }
 ],
 "metadata": {
  "kernelspec": {
   "display_name": "Python 3",
   "language": "python",
   "name": "python3"
  },
  "language_info": {
   "codemirror_mode": {
    "name": "ipython",
    "version": 3
   },
   "file_extension": ".py",
   "mimetype": "text/x-python",
   "name": "python",
   "nbconvert_exporter": "python",
   "pygments_lexer": "ipython3",
   "version": "3.12.3"
  }
 },
 "nbformat": 4,
 "nbformat_minor": 2
}
