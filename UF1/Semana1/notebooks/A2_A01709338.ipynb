{
 "cells": [
  {
   "cell_type": "markdown",
   "metadata": {},
   "source": [
    "# Actividad 2\n",
    "- Jorge Emiliano Pomar\n",
    "- A01709338\n",
    "- 11 de febrero de 2025"
   ]
  },
  {
   "cell_type": "markdown",
   "metadata": {},
   "source": [
    "## Horóscopo "
   ]
  },
  {
   "cell_type": "code",
   "execution_count": null,
   "metadata": {},
   "outputs": [
    {
     "name": "stdout",
     "output_type": "stream",
     "text": [
      "Error\n"
     ]
    }
   ],
   "source": [
    "d = int(input(\"Dame el día: \"))\n",
    "m = int(input(\"Dame el mes: \"))\n",
    "\n",
    "if (m == 3 and 31 >= d >= 21) or (m == 4 and 20 >= d >= 1):\n",
    "    print(\"Aries\")\n",
    "elif (m == 4 and 30 >= d >= 21) or (m == 5 and 21 >= d >= 1):\n",
    "    print(\"Tauro\")\n",
    "elif (m == 5 and 30 >= d >= 22) or (m == 6 and 21 >= d >= 1):\n",
    "    print(\"Geminis\")\n",
    "elif (m == 6 and 30 >= d >= 22) or (m == 7 and 22 >= d >= 1):\n",
    "    print(\"Cancer\")\n",
    "elif (m == 7 and 31 >= d >= 23) or (m == 8 and 23 >= d >= 1):\n",
    "    print(\"Leo\")\n",
    "elif (m == 8 and 31 >= d >= 24) or (m == 9 and 23 >= d >= 1):\n",
    "    print(\"Virgo\")\n",
    "elif (m == 9 and 30 >= d >= 24) or (m == 10 and 23 >= d >= 1):\n",
    "    print(\"Libra\")\n",
    "elif (m == 10 and 31 >= d >= 24) or (m == 11 and 22 >= d >= 1):\n",
    "    print(\"Escorpio\")\n",
    "elif (m == 11 and 30 >= d >= 23) or (m == 12 and 21 >= d >= 1):\n",
    "    print(\"Sagitario\")\n",
    "elif (m == 12 and 31 >= d >= 22) or (m == 1 and 20 >= d >= 1):\n",
    "    print(\"Capricornio\")\n",
    "elif (m == 1 and 31 >= d >= 21) or (m == 2 and 18 >= d >= 1):\n",
    "    print(\"Acuario\")\n",
    "elif (m == 2 and 29 >= d >= 19) or (m == 3 and 20 >= d >= 1):\n",
    "    print(\"Piscis\")\n",
    "else:\n",
    "    print(\"Error\")\n",
    "\n"
   ]
  },
  {
   "cell_type": "markdown",
   "metadata": {},
   "source": [
    "## Ejercicio 2\n",
    "Utilice el estatuto de contro if anidado y despliegue el mensaje apropiado respecto al estatus del cliente con base al monto de inversión. El usuario introduce el monto de la inversión y el programa responde con un mensaje según la siguiente tabla:  \n",
    "\n",
    "| Saldo en inversión           | Estatus del cliente         |\n",
    "|------------------------------|-----------------------------|\n",
    "| Más de $1000000              | Excelente cliente           |\n",
    "| Más de $100000 y hasta $1000000 | Buen cliente               |\n",
    "| Más de $2000 y hasta $100000  | Cliente promedio            |\n",
    "| De $0 y hasta $2000          | Cliente saldo insuficiente  |\n",
    "| Menos de $0                  | Y tu dinero                 |\n"
   ]
  },
  {
   "cell_type": "code",
   "execution_count": 15,
   "metadata": {},
   "outputs": [
    {
     "name": "stdout",
     "output_type": "stream",
     "text": [
      "Y tu dinero?\n"
     ]
    }
   ],
   "source": [
    "saldo = float(input(\"Ingresa tu saldo: \"))\n",
    "\n",
    "if saldo > 1000000: \n",
    "    print(\"Excelente cliente\")\n",
    "elif saldo > 100000 and saldo <= 1000000:\n",
    "    print(\"Buen cliente\")\n",
    "elif saldo > 2000 and saldo <= 100000:\n",
    "    print(\"Cliente promedio\")\n",
    "elif saldo >= 0 and saldo <= 2000:\n",
    "    print(\"Cliente saldo insuficiente\")\n",
    "else :\n",
    "    print(\"Y tu dinero?\")"
   ]
  }
 ],
 "metadata": {
  "kernelspec": {
   "display_name": "Python 3",
   "language": "python",
   "name": "python3"
  },
  "language_info": {
   "codemirror_mode": {
    "name": "ipython",
    "version": 3
   },
   "file_extension": ".py",
   "mimetype": "text/x-python",
   "name": "python",
   "nbconvert_exporter": "python",
   "pygments_lexer": "ipython3",
   "version": "3.12.3"
  }
 },
 "nbformat": 4,
 "nbformat_minor": 2
}
