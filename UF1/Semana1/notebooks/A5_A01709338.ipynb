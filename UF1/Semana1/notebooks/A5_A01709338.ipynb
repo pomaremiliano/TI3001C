{
 "cells": [
  {
   "cell_type": "markdown",
   "metadata": {},
   "source": [
    "# Actividad 5\n",
    "\n",
    "- Jorge Emiliano Pomar\n",
    "- A01709338\n",
    "- 14 de febrero de 2025\n"
   ]
  },
  {
   "cell_type": "markdown",
   "metadata": {},
   "source": [
    "# Ejercicio 1 Aleatorios\n"
   ]
  },
  {
   "cell_type": "code",
   "execution_count": null,
   "metadata": {},
   "outputs": [
    {
     "name": "stdout",
     "output_type": "stream",
     "text": [
      "0 34\n",
      "1 30\n",
      "2 67\n",
      "3 81\n",
      "4 33\n",
      "5 42\n",
      "6 39\n",
      "7 44\n",
      "8 48\n",
      "9 48\n",
      "10 79\n",
      "11 36\n",
      "12 53\n",
      "13 35\n",
      "14 33\n",
      "15 71\n",
      "16 63\n",
      "17 63\n",
      "18 52\n",
      "19 32\n",
      "20 51\n",
      "21 48\n",
      "22 54\n",
      "23 39\n",
      "24 77\n",
      "25 62\n",
      "26 79\n",
      "27 62\n",
      "28 72\n",
      "29 56\n"
     ]
    }
   ],
   "source": [
    "import random\n",
    "\n",
    "\n",
    "def aleatorios():\n",
    "    for cont in range(30):\n",
    "        rand = random.randint(30, 81)\n",
    "        print(cont, rand)\n",
    "\n",
    "\n",
    "def main():\n",
    "    aleatorios()\n",
    "\n",
    "\n",
    "main()"
   ]
  },
  {
   "cell_type": "markdown",
   "metadata": {},
   "source": [
    "## Ejercicio 2 Incremento\n"
   ]
  },
  {
   "cell_type": "code",
   "execution_count": null,
   "metadata": {},
   "outputs": [
    {
     "name": "stdout",
     "output_type": "stream",
     "text": [
      "3\n",
      "5\n",
      "7\n",
      "9\n",
      "11\n",
      "13\n",
      "15\n"
     ]
    }
   ],
   "source": [
    "import random\n",
    "\n",
    "\n",
    "def incremento(LI, LS, INC):\n",
    "    for cont in range(LI, LS + 1, INC):\n",
    "        print(cont)\n",
    "\n",
    "\n",
    "def main():\n",
    "    LI = int(input(\"Ingresa el limite inferior: \"))\n",
    "    LS = int(input(\"Ingresa el limite superior: \"))\n",
    "    INC = int(input(\"Ingresa el incremento: \"))\n",
    "\n",
    "    if LI <= LS:\n",
    "        incremento(LI, LS, INC)\n",
    "    else:\n",
    "        print(\"Error numeros invalidos.\")\n",
    "\n",
    "\n",
    "main()"
   ]
  },
  {
   "cell_type": "markdown",
   "metadata": {},
   "source": [
    "## Ejercicio 3 Pares\n"
   ]
  },
  {
   "cell_type": "code",
   "execution_count": 16,
   "metadata": {},
   "outputs": [
    {
     "name": "stdout",
     "output_type": "stream",
     "text": [
      "-2 0 2 4 6 \n",
      "-2 0 2 4 6 \n",
      "Error numeros invalidos.\n",
      "\n"
     ]
    }
   ],
   "source": [
    "def pares(a, b):\n",
    "    for cont in range(a, b + 1):\n",
    "        if cont % 2 == 0:\n",
    "            print(cont, end=\" \")\n",
    "\n",
    "\n",
    "def main():\n",
    "    a = int(input(\"Ingresa el valor a: \"))\n",
    "    b = int(input(\"Ingresa el valor: \"))\n",
    "\n",
    "    if a < b:\n",
    "        pares(a, b)\n",
    "    else:\n",
    "        print(\"Error numeros invalidos.\")\n",
    "\n",
    "\n",
    "main()\n",
    "print()\n",
    "main()\n",
    "print()\n",
    "main()\n",
    "print()\n"
   ]
  }
 ],
 "metadata": {
  "kernelspec": {
   "display_name": "Python 3",
   "language": "python",
   "name": "python3"
  },
  "language_info": {
   "codemirror_mode": {
    "name": "ipython",
    "version": 3
   },
   "file_extension": ".py",
   "mimetype": "text/x-python",
   "name": "python",
   "nbconvert_exporter": "python",
   "pygments_lexer": "ipython3",
   "version": "3.12.3"
  }
 },
 "nbformat": 4,
 "nbformat_minor": 2
}
