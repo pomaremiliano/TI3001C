{
 "cells": [
  {
   "cell_type": "markdown",
   "id": "bab9dcc0-130b-4483-ad9b-aeef086e4711",
   "metadata": {},
   "source": [
    "# Actividad 10 \n",
    "- Jorge Emiliano Pomar \n",
    "- A01709338\n",
    "- 21 de febrero de 2025"
   ]
  },
  {
   "cell_type": "code",
   "execution_count": null,
   "id": "ef9961ca-b6b9-4dc0-90b5-bcfd1ab93368",
   "metadata": {},
   "outputs": [],
   "source": []
  }
 ],
 "metadata": {
  "kernelspec": {
   "display_name": "Python 3 (ipykernel)",
   "language": "python",
   "name": "python3"
  },
  "language_info": {
   "codemirror_mode": {
    "name": "ipython",
    "version": 3
   },
   "file_extension": ".py",
   "mimetype": "text/x-python",
   "name": "python",
   "nbconvert_exporter": "python",
   "pygments_lexer": "ipython3",
   "version": "3.12.7"
  }
 },
 "nbformat": 4,
 "nbformat_minor": 5
}
