{
 "cells": [
  {
   "cell_type": "markdown",
   "metadata": {},
   "source": [
    "# Laboratorio 5 \n"
   ]
  },
  {
   "cell_type": "markdown",
   "metadata": {},
   "source": [
    "- Jorge Emiliano Pomar \n",
    "- A01709338\n",
    "- 14 de febrero de 2025"
   ]
  },
  {
   "cell_type": "code",
   "execution_count": 1,
   "metadata": {},
   "outputs": [
    {
     "name": "stdout",
     "output_type": "stream",
     "text": [
      "9\n"
     ]
    }
   ],
   "source": [
    "import random \n",
    "print(random.randint(1,15))"
   ]
  },
  {
   "cell_type": "code",
   "execution_count": 4,
   "metadata": {},
   "outputs": [
    {
     "name": "stdout",
     "output_type": "stream",
     "text": [
      "0. 18\n",
      "1. 17\n",
      "2. 52\n",
      "3. 3\n",
      "4. 21\n",
      "5. 27\n",
      "6. 13\n",
      "7. 30\n",
      "8. 26\n",
      "9. 68\n",
      "10. 0\n",
      "11. 64\n",
      "12. 35\n",
      "13. 51\n",
      "14. 19\n",
      "15. 61\n",
      "16. 19\n",
      "17. 61\n",
      "18. 35\n",
      "19. 33\n",
      "20. 2\n",
      "21. 11\n",
      "22. 30\n",
      "23. 64\n",
      "24. 25\n",
      "25. 58\n",
      "26. 41\n",
      "27. 30\n",
      "28. 15\n",
      "29. 15\n",
      "30. 36\n",
      "31. 6\n",
      "32. 37\n",
      "33. 27\n",
      "34. 45\n",
      "35. 61\n",
      "36. 12\n",
      "37. 51\n",
      "38. 3\n",
      "39. 30\n",
      "40. 0\n",
      "41. 48\n",
      "42. 42\n",
      "43. 59\n",
      "44. 23\n",
      "45. 12\n",
      "46. 43\n",
      "47. 22\n",
      "48. 40\n",
      "49. 16\n"
     ]
    }
   ],
   "source": [
    "def aleatorios1():\n",
    "    for cont in range (50):\n",
    "        num = random.randint(0,70)\n",
    "        print(\"%i. %i\" % (cont, num))  \n",
    "\n",
    "def main():\n",
    "    aleatorios1()\n",
    "main()"
   ]
  },
  {
   "cell_type": "code",
   "execution_count": 15,
   "metadata": {},
   "outputs": [
    {
     "name": "stdout",
     "output_type": "stream",
     "text": [
      "0. 19\n",
      "1. 3\n",
      "2. 0\n",
      "3. 32\n",
      "4. 38\n",
      "5. 35\n",
      "6. 1\n",
      "7. -15\n",
      "8. -14\n",
      "9. 17\n",
      "10. 28\n",
      "11. 21\n",
      "12. -8\n",
      "13. -5\n",
      "14. 17\n",
      "15. 26\n",
      "16. -6\n",
      "17. 1\n",
      "18. -8\n",
      "19. 39\n"
     ]
    }
   ],
   "source": [
    "def aleatorios2():\n",
    "    for cont in range(20):\n",
    "        num = random.randint(-15,40)\n",
    "        print(\"%i. %i\" % (cont, num)) \n",
    "\n",
    "def main():\n",
    "    aleatorios2()\n",
    "\n",
    "main() "
   ]
  },
  {
   "cell_type": "code",
   "execution_count": null,
   "metadata": {},
   "outputs": [],
   "source": [
    "def dibuja_asteriscos(n):\n",
    "    for cont in range(n):\n",
    "        print(cont, \"*\")\n",
    "        \n",
    "def main():\n",
    "    n = int(input(\"Ingresa el numero de *: \"))\n",
    "    if n > 0:\n",
    "        dibuja_asteriscos(n)\n",
    "    else:\n",
    "        print(\"Tiene que ser un numero positivo\")\n",
    "\n",
    "main()"
   ]
  },
  {
   "cell_type": "code",
   "execution_count": 24,
   "metadata": {},
   "outputs": [
    {
     "name": "stdout",
     "output_type": "stream",
     "text": [
      "1 2 3 4 5 4 3 2 1 "
     ]
    }
   ],
   "source": [
    "def muestra_numeros(n):\n",
    "    for cont in range(1,n):\n",
    "        print(cont, end = \" \")\n",
    "    for cont in range(n, 0, -1):\n",
    "        print(cont, end = \" \")\n",
    "            \n",
    "def main():\n",
    "    num = int(input(\"Ingresa un numero: \"))\n",
    "    if num > 0:\n",
    "        muestra_numeros(num)\n",
    "    else:\n",
    "        print(\"Tiene que ser un numero positivo\")\n",
    "\n",
    "main()"
   ]
  },
  {
   "cell_type": "markdown",
   "metadata": {},
   "source": [
    "## F1 con while suma y multiplicación"
   ]
  },
  {
   "cell_type": "code",
   "execution_count": 27,
   "metadata": {},
   "outputs": [
    {
     "name": "stdout",
     "output_type": "stream",
     "text": [
      "f1(2) = 3\n"
     ]
    }
   ],
   "source": [
    "def f1(n):\n",
    "    cont = 1\n",
    "    acum = 0\n",
    "    while cont <= n:\n",
    "        acum = acum + cont\n",
    "        cont = cont + 1\n",
    "    return acum\n",
    "            \n",
    "def main():\n",
    "    num = int(input(\"Ingresa un numero positivo: \"))\n",
    "    if num > 0:\n",
    "        res = f1(num)\n",
    "        print(\"f1(%i) = %i\" % (num, res))\n",
    "    else:\n",
    "        print(\"Tiene que ser un numero positivo\")\n",
    "\n",
    "main()"
   ]
  },
  {
   "cell_type": "code",
   "execution_count": 36,
   "metadata": {},
   "outputs": [
    {
     "name": "stdout",
     "output_type": "stream",
     "text": [
      "f1(4) = 24\n"
     ]
    }
   ],
   "source": [
    "def f1(n):\n",
    "    cont = 1\n",
    "    acum = 1\n",
    "    while cont <= n:\n",
    "        acum = acum * cont\n",
    "        cont = cont + 1\n",
    "    return acum\n",
    "            \n",
    "def main():\n",
    "    num = int(input(\"Ingresa un numero positivo: \"))\n",
    "    if num > 0:\n",
    "        res = f1(num)\n",
    "        print(\"f1(%i) = %i\" % (num, res))\n",
    "    else:\n",
    "        print(\"Tiene que ser un numero positivo\")\n",
    "\n",
    "main()"
   ]
  },
  {
   "cell_type": "markdown",
   "metadata": {},
   "source": [
    "## F1 con for multiplicación"
   ]
  },
  {
   "cell_type": "code",
   "execution_count": 34,
   "metadata": {},
   "outputs": [
    {
     "name": "stdout",
     "output_type": "stream",
     "text": [
      "f1(4) = 24\n"
     ]
    }
   ],
   "source": [
    "def f1(n):\n",
    "    acum = 1\n",
    "    for cont in range(1, n+1):\n",
    "        acum = acum * cont\n",
    "    return acum        \n",
    "            \n",
    "def main():\n",
    "    num = int(input(\"Ingresa un numero positivo: \"))\n",
    "    if num > 0:\n",
    "        res = f1(num)\n",
    "        print(\"f1(%i) = %i\" % (num, res))\n",
    "    else:\n",
    "        print(\"Tiene que ser un numero positivo\")\n",
    "\n",
    "main()"
   ]
  }
 ],
 "metadata": {
  "kernelspec": {
   "display_name": "Python 3",
   "language": "python",
   "name": "python3"
  },
  "language_info": {
   "codemirror_mode": {
    "name": "ipython",
    "version": 3
   },
   "file_extension": ".py",
   "mimetype": "text/x-python",
   "name": "python",
   "nbconvert_exporter": "python",
   "pygments_lexer": "ipython3",
   "version": "3.12.3"
  }
 },
 "nbformat": 4,
 "nbformat_minor": 2
}
