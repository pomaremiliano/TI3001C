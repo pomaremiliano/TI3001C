{
 "cells": [
  {
   "cell_type": "markdown",
   "metadata": {},
   "source": [
    "# Clase Funciones"
   ]
  },
  {
   "cell_type": "code",
   "execution_count": 2,
   "metadata": {},
   "outputs": [
    {
     "name": "stdout",
     "output_type": "stream",
     "text": [
      "El cuadrado de  4 es 16\n"
     ]
    }
   ],
   "source": [
    "def cuadrado(num):\n",
    "    res = num ** 2\n",
    "    return res\n",
    "\n",
    "def main():\n",
    "    valor = float(input(\"Ingresa un número: \"))\n",
    "    resultado = cuadrado(valor)\n",
    "    print(\"El cuadrado de %2.f es %2.f\" % (valor, resultado))\n",
    "main()\n",
    "    \n"
   ]
  }
 ],
 "metadata": {
  "kernelspec": {
   "display_name": "Python 3",
   "language": "python",
   "name": "python3"
  },
  "language_info": {
   "codemirror_mode": {
    "name": "ipython",
    "version": 3
   },
   "file_extension": ".py",
   "mimetype": "text/x-python",
   "name": "python",
   "nbconvert_exporter": "python",
   "pygments_lexer": "ipython3",
   "version": "3.12.3"
  }
 },
 "nbformat": 4,
 "nbformat_minor": 2
}
