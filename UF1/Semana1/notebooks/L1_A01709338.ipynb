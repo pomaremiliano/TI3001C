{
 "cells": [
  {
   "cell_type": "markdown",
   "metadata": {},
   "source": [
    "# Laboratiorio 1 10/02/2025\n",
    "## Jorge Emiliano Pomar A01709338"
   ]
  },
  {
   "cell_type": "markdown",
   "metadata": {},
   "source": [
    "## Instrucciones\n",
    "Calcule el volúmen (v) de un cilíndro recto de sección oblicua. Los valores dados por el usuario son el radio (r) y las alturas (h1 y h2) del cilíndro. El resultado obtenido (volumen) debe ser desplegado en la pantalla. Utiliza la constante math.pi de la librería math. \n",
    "\n"
   ]
  },
  {
   "cell_type": "code",
   "execution_count": 4,
   "metadata": {},
   "outputs": [
    {
     "name": "stdout",
     "output_type": "stream",
     "text": [
      "El volumen del cilindro es: 196.35\n"
     ]
    }
   ],
   "source": [
    "import math \n",
    "radio = float(input(\"Introduce el radio de la circunferencia: \"))\n",
    "h1 = float(input(\"Introduce la altura h1 del cilindro: \"))\n",
    "h2 = float(input(\"Introduce la altura h2 del cilindro: \"))\n",
    "volumen = math.pi * radio**2 * (h1 + h2) / 2\n",
    "print(\"El volumen del cilindro es: %.2f\" % volumen)"
   ]
  }
 ],
 "metadata": {
  "kernelspec": {
   "display_name": "Python 3",
   "language": "python",
   "name": "python3"
  },
  "language_info": {
   "codemirror_mode": {
    "name": "ipython",
    "version": 3
   },
   "file_extension": ".py",
   "mimetype": "text/x-python",
   "name": "python",
   "nbconvert_exporter": "python",
   "pygments_lexer": "ipython3",
   "version": "3.12.3"
  }
 },
 "nbformat": 4,
 "nbformat_minor": 2
}
