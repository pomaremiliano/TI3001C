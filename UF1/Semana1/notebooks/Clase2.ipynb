{
 "cells": [
  {
   "cell_type": "markdown",
   "metadata": {},
   "source": [
    "# Clase 2 - Estructuras condicionales"
   ]
  },
  {
   "cell_type": "markdown",
   "metadata": {},
   "source": [
    "## Condicional Simple"
   ]
  },
  {
   "cell_type": "code",
   "execution_count": 4,
   "metadata": {},
   "outputs": [],
   "source": [
    "valor = int(input(\"Dame un valor: \"))\n",
    "if valor > 0:\n",
    "    print(\"%i es un número positivo\" % valor)"
   ]
  },
  {
   "cell_type": "markdown",
   "metadata": {},
   "source": [
    "## Condicional Compuesta"
   ]
  },
  {
   "cell_type": "code",
   "execution_count": null,
   "metadata": {},
   "outputs": [
    {
     "name": "stdout",
     "output_type": "stream",
     "text": [
      "0 es un número positivo\n"
     ]
    }
   ],
   "source": [
    "valor = int(input(\"Dame un valor: \"))\n",
    "if valor > 0:\n",
    "    print(\"%i es un número positivo\" % valor)\n",
    "else :\n",
    "    print(\"%i es un número negativo\" % valor)"
   ]
  },
  {
   "cell_type": "markdown",
   "metadata": {},
   "source": [
    "## Condicional Anidada"
   ]
  },
  {
   "cell_type": "code",
   "execution_count": null,
   "metadata": {},
   "outputs": [
    {
     "name": "stdout",
     "output_type": "stream",
     "text": [
      "0 es cero\n"
     ]
    }
   ],
   "source": [
    "valor = int(input(\"Dame un valor: \"))\n",
    "if valor > 0:\n",
    "    print(\"%i es un número positivo\" % valor)\n",
    "elif valor < 0:\n",
    "    print(\"%i es un número negativo\" % valor)\n",
    "else:\n",
    "    print(\"%i es cero\" % valor)"
   ]
  },
  {
   "cell_type": "markdown",
   "metadata": {},
   "source": [
    "## Checar Pares e Impares"
   ]
  },
  {
   "cell_type": "code",
   "execution_count": 8,
   "metadata": {},
   "outputs": [
    {
     "name": "stdout",
     "output_type": "stream",
     "text": [
      "5 es un número impar\n"
     ]
    }
   ],
   "source": [
    "valor = int(input(\"Dame un valor: \"))\n",
    "if valor % 2 == 0:\n",
    "    print(\"%i es un número par\" % valor)\n",
    "else:\n",
    "    print(\"%i es un número impar\" % valor)"
   ]
  },
  {
   "cell_type": "markdown",
   "metadata": {},
   "source": [
    "## Pares e Impares 2"
   ]
  },
  {
   "cell_type": "code",
   "execution_count": null,
   "metadata": {},
   "outputs": [
    {
     "name": "stdout",
     "output_type": "stream",
     "text": [
      "5 es un número impar\n"
     ]
    }
   ],
   "source": [
    "valor = int(input(\"Dame un valor: \"))\n",
    "if valor % 2 == 0:\n",
    "    print(\"%i es un número par\" % valor)\n",
    "elif valor % 2 != 0:\n",
    "    print(\"%i es un número impar\" % valor)  \n",
    "## Después del else no se puede poner una condición"
   ]
  },
  {
   "cell_type": "code",
   "execution_count": null,
   "metadata": {},
   "outputs": [],
   "source": []
  }
 ],
 "metadata": {
  "kernelspec": {
   "display_name": "Python 3",
   "language": "python",
   "name": "python3"
  },
  "language_info": {
   "codemirror_mode": {
    "name": "ipython",
    "version": 3
   },
   "file_extension": ".py",
   "mimetype": "text/x-python",
   "name": "python",
   "nbconvert_exporter": "python",
   "pygments_lexer": "ipython3",
   "version": "3.12.3"
  }
 },
 "nbformat": 4,
 "nbformat_minor": 2
}
