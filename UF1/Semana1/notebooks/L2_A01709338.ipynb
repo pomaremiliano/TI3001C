{
 "cells": [
  {
   "cell_type": "markdown",
   "metadata": {},
   "source": [
    "# Laboratorio 2\n",
    "\n",
    "- Jorge Emiliano Pomar\n",
    "- A01709338\n",
    "- 11 de febrero de 2025\n"
   ]
  },
  {
   "cell_type": "markdown",
   "metadata": {},
   "source": [
    "## Ejercicio 1\n",
    "\n",
    "Despliege en orden descendente (de mayor a menor) tres numeros dados por el usuario. El programa deberá pedir los tres números y posteriormente desplegarlos en forma descendente.\n"
   ]
  },
  {
   "cell_type": "code",
   "execution_count": null,
   "metadata": {},
   "outputs": [
    {
     "name": "stdout",
     "output_type": "stream",
     "text": [
      "0, -24, -896\n"
     ]
    }
   ],
   "source": [
    "num1 = float(input(\"Ingresa el primer número: \"))\n",
    "num2 = float(input(\"Ingresa el segundo número: \"))\n",
    "num3 = float(input(\"Ingresa el tercer número: \"))\n",
    "\n",
    "if num1 >= num2 and num1 >= num3: \n",
    "    if num2 >= num3:\n",
    "        print(\"%i, %i, %i\" % (num1, num2, num3))\n",
    "    else:\n",
    "        print(\"%i, %i, %i\" % (num1, num3, num2))\n",
    "elif num2 >= num1 and num2 >= num3:\n",
    "    if num1 >= num3:\n",
    "        print(\"%i, %i, %i\" % (num2, num1, num3))\n",
    "    else:\n",
    "        print(\"%i, %i, %i\" % (num2, num3, num1))\n",
    "else:\n",
    "    if num1 >= num2:\n",
    "        print(\"%i, %i, %i\" % (num3, num1, num2))\n",
    "    else:\n",
    "        print(\"%i, %i, %i\" % (num3, num2, num1))"
   ]
  },
  {
   "attachments": {
    "funcionP2.gif": {
     "image/gif": "[encoded data removed]"
    }
   },
   "cell_type": "markdown",
   "metadata": {},
   "source": [
    "## Ejercicio 2\n",
    "\n",
    "Despliegue el resultado de evaluar la siguiente función con un valor dado por el usuario.\n",
    "\n",
    "![funcionP2.gif](attachment:funcionP2.gif)\n"
   ]
  },
  {
   "cell_type": "code",
   "execution_count": null,
   "metadata": {},
   "outputs": [
    {
     "name": "stdout",
     "output_type": "stream",
     "text": [
      "f(8.5) = 24.5\n"
     ]
    }
   ],
   "source": [
    "x = float(input(\"Dame el valor de x: \"))\n",
    "\n",
    "if x < -3:\n",
    "    res = 3 * x**2 + 5 * x + 2\n",
    "elif x < 0 and x >= -3:\n",
    "    res = 4\n",
    "elif x >= 0:\n",
    "    res = 3 * x - 1\n",
    "\n",
    "print(\"f(%.1f) = %.1f\" % (x, res))"
   ]
  },
  {
   "cell_type": "markdown",
   "metadata": {},
   "source": [
    "## Ejercicio 3\n",
    "\n",
    "Despliegue el mensaje apropiado para una temperatura dada por el usuario. Los mensajes a imprimir serán los siguientes.\n",
    "\n",
    "| Temperatura                          | Mensaje    |\n",
    "|--------------------------------------|------------|\n",
    "| 100 grados o más                     | Vapor      |\n",
    "| 30 grados o más, pero menos de 100 grados | Caliente   |\n",
    "| 0 grados o más, pero menos de 30 grados   | Fría       |\n",
    "| -273 grados o más, pero menos de 0 grados | Congelada  |\n",
    "| Menos de -273                        | Inexistente |\n"
   ]
  },
  {
   "cell_type": "code",
   "execution_count": 13,
   "metadata": {},
   "outputs": [
    {
     "name": "stdout",
     "output_type": "stream",
     "text": [
      "Congelada\n"
     ]
    }
   ],
   "source": [
    "temp = float(input(\"Dame la temperatura en grados: \"))\n",
    "if temp >= 100: \n",
    "    print (\"Vapor\")\n",
    "elif temp >= 30 and temp < 100:\n",
    "    print (\"Caliente\")\n",
    "elif temp >= 0 and temp < 30:\n",
    "    print (\"Fría\")\n",
    "elif temp >= -273 and temp < 0:\n",
    "    print (\"Congelada\")\n",
    "else:\n",
    "    print (\"Inexistente\")"
   ]
  }
 ],
 "metadata": {
  "kernelspec": {
   "display_name": "Python 3",
   "language": "python",
   "name": "python3"
  },
  "language_info": {
   "codemirror_mode": {
    "name": "ipython",
    "version": 3
   },
   "file_extension": ".py",
   "mimetype": "text/x-python",
   "name": "python",
   "nbconvert_exporter": "python",
   "pygments_lexer": "ipython3",
   "version": "3.12.3"
  }
 },
 "nbformat": 4,
 "nbformat_minor": 2
}
