{
 "cells": [
  {
   "cell_type": "markdown",
   "metadata": {},
   "source": [
    "# Actividad Integradora 3.1 - Análisis de datos con Numpy\n",
    "\n",
    "- Jorge Emiliano Pomar\n",
    "- A01709338\n",
    "- 13 de marzo de 2025\n"
   ]
  },
  {
   "cell_type": "code",
   "execution_count": null,
   "metadata": {},
   "outputs": [],
   "source": [
    "import numpy as np\n",
    "import pandas as pd"
   ]
  },
  {
   "cell_type": "code",
   "execution_count": 9,
   "metadata": {},
   "outputs": [],
   "source": [
    "def leer_datos():\n",
    "\n",
    "    df = pd.read_csv(\"inventario.csv\")\n",
    "    matriz = np.array(df.values)\n",
    "    return matriz"
   ]
  },
  {
   "cell_type": "code",
   "execution_count": 11,
   "metadata": {},
   "outputs": [
    {
     "name": "stdout",
     "output_type": "stream",
     "text": [
      "[[13189 'Pimienta, Florida' 228 8.75 8 1 'Condimento']\n",
      " [13558 'Cuatro especias francesas' 110 6.56 2 2 'Condimento']\n",
      " [15688 'Pimienta, Limón' 135 6.25 4 1 'Condimento']\n",
      " [16555 'Tuscan Sunset' 95 4.55 2 2 'Condimento']\n",
      " [21683 'Galena Street Rub' 125 3.95 4 1 'Adobo']\n",
      " [22189 'Northwoods Fire' 135 9.85 16 1 'Condimento']\n",
      " [23677 'Mejorana' 143 7.89 8 2 'Hierba']\n",
      " [23688 'Curry picante en polvo' 146 9.99 8 1 'Especia']\n",
      " [24896 \"Butcher's Pepper\" 234 5.29 4 2 'Adobo']\n",
      " [25678 'Curry suave en polvo' 135 9.99 8 1 'Especia']\n",
      " [25844 'Hierbas,  Provence' 254 10.25 4 2 'Hierba']\n",
      " [26787 'Aderezo Creole ' 165 8.75 8 2 'Condimento']\n",
      " [32544 'Menta, Hierbabuena ' 156 10.29 8 2 'Hierba']\n",
      " [34266 'Albahaca, Francesa' 156 5.82 8 2 'Hierba']\n",
      " [34793 'Sal con cebolla' 188 3.55 2 1 'Condimento']\n",
      " [34878 'Jengibre triturado' 266 7.89 8 2 'Especia']\n",
      " [34982 'Charqui, pollo y pescado' 177 5.45 4 2 'Condimento']\n",
      " [35677 'Charqui, puerco' 245 9.85 8 2 'Condimento']\n",
      " [35690 'Charqui, Jamaica' 245 7.99 8 1 'Adobo']\n",
      " [35988 'Albahaca, California' 145 11.95 8 2 'Hierba']\n",
      " [36820 'Menta, Hierbabuena ' 167 10.39 8 2 'Hierba']\n",
      " [37803 'Chile en polvo, picante' 248 3.39 2 1 'Condimento']\n",
      " [37845 'Café' 188 17.29 8 3 'Extracto']\n",
      " [38675 'Paprika húngara suave' 150 2.99 4 1 'Condimento']\n",
      " [38700 'Chile en polvo, suave' 168 3.39 2 1 'Condimento']\n",
      " [38744 'Bicentennial Beef' 45 4.49 4 1 'Adobo']\n",
      " [39704 'Paprika, California' 133 5.79 8 1 'Condimento']\n",
      " [42599 'Jengibre, cristalizado' 165 9.85 8 2 'Especia']\n",
      " [43153 'Canela, China' 425 4.09 2 2 'Especia']\n",
      " [43625 'Ralladura de naranja' 95 8.19 4 4 'Condimento']\n",
      " [43633 'Hierbabuena' 211 5.65 4 3 'Extracto']\n",
      " [43813 'Mejorana' 244 4.45 4 1 'Hierba']\n",
      " [44482 'Ajo en polvo' 168 5.89 6 1 'Condimento']\n",
      " [44587 'Tandoori' 75 16.85 8 2 'Especia']\n",
      " [44589 'Ajo en hojuelas, California' 235 11.25 2 1 'Condimento']\n",
      " [44879 'Jejngibre' 160 7.95 8 1 'Especia']\n",
      " [45265 'Especias para escabeche' 165 6.49 2 1 'Especia']\n",
      " [45688 'Nuez moscada' 100 7.85 8 1 'Especia']\n",
      " [46532 'Orégano' 265 10.19 8 1 'Hierba']\n",
      " [49652 'Rojo Taco' 73 5.29 4 2 'Condimento']\n",
      " [52164 'Clavos, enteros' 185 18.7 8 1 'Especia']\n",
      " [53634 'Vainilla, doble intensidad' 165 16.75 8 3 'Extracto']\n",
      " [54635 'Eneldo' 325 2.65 4 2 'Hierba']\n",
      " [55255 'Sal marina, Pacífico' 195 2.55 8 4 'Condimento']\n",
      " [56853 'Pimienta en grano, India' 312 4.59 4 1 'Especia']\n",
      " [64525 'Cebolla en polvo' 152 4.85 4 1 'Condimento']\n",
      " [78655 'Sal de ajo' 215 2.35 6 1 'Condimento']\n",
      " [85655 'Pimiento en grano, roja' 540 3.69 2 4 'Especia']\n",
      " [92258 'Vainilla' 225 15.95 4 3 'Extracto']\n",
      " [93157 'Almendra' 368 7.33 4 3 'Extracto']\n",
      " [93553 'Limón' 285 24.9 6 3 'Extracto']\n",
      " [94236 'Comino' 126 3.55 4 2 'Especia']\n",
      " [96854 'Vainilla' 423 31.95 6 3 'Extracto']\n",
      " [98225 'Naranja' 325 24.19 6 3 'Extracto']\n",
      " [98655 'Clavos, molidos' 211 4.55 6 1 'Especia']]\n"
     ]
    }
   ],
   "source": [
    "def main():\n",
    "    matriz = leer_datos()\n",
    "    print(matriz)\n",
    "\n",
    "\n",
    "main()"
   ]
  },
  {
   "cell_type": "code",
   "execution_count": 14,
   "metadata": {},
   "outputs": [
    {
     "name": "stdout",
     "output_type": "stream",
     "text": [
      "La cantidad de productos en existencia es:  11015\n"
     ]
    }
   ],
   "source": [
    "def suma_productos(m):\n",
    "    arreglo = m[:, 2]\n",
    "    # print(arreglo)\n",
    "    suma = np.sum(arreglo)\n",
    "    return suma\n",
    "\n",
    "\n",
    "def main():\n",
    "    m = leer_datos()\n",
    "    suma_productos(m)\n",
    "    res = suma_productos(m)\n",
    "    print(\"La cantidad de productos en existencia es: \", res)\n",
    "\n",
    "\n",
    "main()"
   ]
  },
  {
   "cell_type": "code",
   "execution_count": 15,
   "metadata": {},
   "outputs": [
    {
     "name": "stdout",
     "output_type": "stream",
     "text": [
      "EL promedio de los precios de menudeo es 8.64\n"
     ]
    }
   ],
   "source": [
    "def promedio_precios(m):\n",
    "    arreglo = m[:, 3]\n",
    "    prom = np.mean(arreglo)\n",
    "    return prom\n",
    "\n",
    "\n",
    "def main():\n",
    "    m = leer_datos()\n",
    "    res = promedio_precios(m)\n",
    "    print(\"EL promedio de los precios de menudeo es %.2f\" % res)\n",
    "\n",
    "\n",
    "main()"
   ]
  },
  {
   "cell_type": "code",
   "execution_count": 16,
   "metadata": {},
   "outputs": [
    {
     "name": "stdout",
     "output_type": "stream",
     "text": [
      "EL envase más pequeño es de 2 onzas\n"
     ]
    }
   ],
   "source": [
    "def envase_mas_chico(m):\n",
    "    arreglo = m[:, 4]\n",
    "    envase = np.min(arreglo)\n",
    "    return envase\n",
    "\n",
    "\n",
    "def main():\n",
    "    m = leer_datos()\n",
    "    res = envase_mas_chico(m)\n",
    "    print(\"EL envase más pequeño es de %i onzas\" % res)\n",
    "\n",
    "\n",
    "main()"
   ]
  },
  {
   "cell_type": "code",
   "execution_count": 19,
   "metadata": {},
   "outputs": [
    {
     "name": "stdout",
     "output_type": "stream",
     "text": [
      "El precio mas alto es de 31.95 dolares\n"
     ]
    }
   ],
   "source": [
    "def precio_mas_alto(m):\n",
    "    arreglo = m[:, 3]\n",
    "    p_alto = np.max(arreglo)\n",
    "    return p_alto\n",
    "\n",
    "\n",
    "def main():\n",
    "    m = leer_datos()\n",
    "    res = precio_mas_alto(m)\n",
    "    print(\"El precio mas alto es de %.2f dolares\" % res)\n",
    "\n",
    "\n",
    "main()"
   ]
  },
  {
   "cell_type": "code",
   "execution_count": 26,
   "metadata": {},
   "outputs": [
    {
     "name": "stdout",
     "output_type": "stream",
     "text": [
      "\n",
      " Categoría     #Productos\n",
      "---------------------------\n",
      "Adobo   \t4\n",
      "Condimento   \t20\n",
      "Especia   \t14\n",
      "Extracto   \t8\n",
      "Hierba   \t9\n"
     ]
    }
   ],
   "source": [
    "def cantidad_productos(m):\n",
    "    print(\"\\n Categoría     #Productos\")\n",
    "    print(\"---------------------------\")\n",
    "    arreglo = m[:, 6]\n",
    "    conjunto = set(arreglo)\n",
    "    lista = list(conjunto)\n",
    "    lista.sort()\n",
    "    for categoria in lista:\n",
    "        condicion = m[:, 6] == categoria\n",
    "        matriz = m[condicion]\n",
    "        num_renglones = matriz.shape[0]\n",
    "        print(categoria + \"   \\t\" + str(num_renglones))\n",
    "\n",
    "\n",
    "def main():\n",
    "    m = leer_datos()\n",
    "    cantidad_productos(m)\n",
    "\n",
    "\n",
    "main()"
   ]
  },
  {
   "cell_type": "code",
   "execution_count": 40,
   "metadata": {},
   "outputs": [
    {
     "name": "stdout",
     "output_type": "stream",
     "text": [
      "\n",
      "Tipo de envase \t Promedio de tamaño\n",
      "---------------------------------------\n",
      "1. Frasco \t 5.76\n",
      "2. Sobre \t 5.79\n",
      "3. Botella \t 5.75\n",
      "4. Lata \t 4.67\n"
     ]
    }
   ],
   "source": [
    "def promedio_tamaño(m):\n",
    "    diccionario = {1: \"Frasco\", 2: \"Sobre\", 3: \"Botella\", 4: \"Lata\"}\n",
    "    print(\"\\nTipo de envase \\t Promedio de tamaño\")\n",
    "    print(\"---------------------------------------\")\n",
    "    for tipo in diccionario:\n",
    "        condicion = m[:, 5] == tipo\n",
    "        matriz = m[condicion]\n",
    "        arreglo = matriz[:, 4]\n",
    "        promedio = np.mean(arreglo)\n",
    "        print(\"%i. %s \\t %.2f\" % (tipo, diccionario[tipo], promedio))\n",
    "\n",
    "\n",
    "def main():\n",
    "    m = leer_datos()\n",
    "    promedio_tamaño(m)\n",
    "\n",
    "\n",
    "main()"
   ]
  },
  {
   "cell_type": "code",
   "execution_count": 41,
   "metadata": {},
   "outputs": [],
   "source": [
    "def calculos(m, envase):\n",
    "    lista_categorias = ['Adobo', 'Condimento', 'Especia', 'Extracto', 'Hierba']\n",
    "    for categoria in lista_categorias:\n",
    "        condicion = (m[:,5] == envase) & (m[:,6] == categoria) \n",
    "        matriz = m[condicion]\n",
    "        print(matriz)"
   ]
  },
  {
   "cell_type": "code",
   "execution_count": 42,
   "metadata": {},
   "outputs": [
    {
     "name": "stdout",
     "output_type": "stream",
     "text": [
      "Envase 1. Frasco\n",
      "[[21683 'Galena Street Rub' 125 3.95 4 1 'Adobo']\n",
      " [35690 'Charqui, Jamaica' 245 7.99 8 1 'Adobo']\n",
      " [38744 'Bicentennial Beef' 45 4.49 4 1 'Adobo']]\n",
      "[[13189 'Pimienta, Florida' 228 8.75 8 1 'Condimento']\n",
      " [15688 'Pimienta, Limón' 135 6.25 4 1 'Condimento']\n",
      " [22189 'Northwoods Fire' 135 9.85 16 1 'Condimento']\n",
      " [34793 'Sal con cebolla' 188 3.55 2 1 'Condimento']\n",
      " [37803 'Chile en polvo, picante' 248 3.39 2 1 'Condimento']\n",
      " [38675 'Paprika húngara suave' 150 2.99 4 1 'Condimento']\n",
      " [38700 'Chile en polvo, suave' 168 3.39 2 1 'Condimento']\n",
      " [39704 'Paprika, California' 133 5.79 8 1 'Condimento']\n",
      " [44482 'Ajo en polvo' 168 5.89 6 1 'Condimento']\n",
      " [44589 'Ajo en hojuelas, California' 235 11.25 2 1 'Condimento']\n",
      " [64525 'Cebolla en polvo' 152 4.85 4 1 'Condimento']\n",
      " [78655 'Sal de ajo' 215 2.35 6 1 'Condimento']]\n",
      "[[23688 'Curry picante en polvo' 146 9.99 8 1 'Especia']\n",
      " [25678 'Curry suave en polvo' 135 9.99 8 1 'Especia']\n",
      " [44879 'Jejngibre' 160 7.95 8 1 'Especia']\n",
      " [45265 'Especias para escabeche' 165 6.49 2 1 'Especia']\n",
      " [45688 'Nuez moscada' 100 7.85 8 1 'Especia']\n",
      " [52164 'Clavos, enteros' 185 18.7 8 1 'Especia']\n",
      " [56853 'Pimienta en grano, India' 312 4.59 4 1 'Especia']\n",
      " [98655 'Clavos, molidos' 211 4.55 6 1 'Especia']]\n",
      "[]\n",
      "[[43813 'Mejorana' 244 4.45 4 1 'Hierba']\n",
      " [46532 'Orégano' 265 10.19 8 1 'Hierba']]\n"
     ]
    }
   ],
   "source": [
    "def main():\n",
    "    m = leer_datos()\n",
    "    print(\"Envase 1. Frasco\")\n",
    "    calculos(m, 1)\n",
    "    \n",
    "main()"
   ]
  }
 ],
 "metadata": {
  "kernelspec": {
   "display_name": "base",
   "language": "python",
   "name": "python3"
  },
  "language_info": {
   "codemirror_mode": {
    "name": "ipython",
    "version": 3
   },
   "file_extension": ".py",
   "mimetype": "text/x-python",
   "name": "python",
   "nbconvert_exporter": "python",
   "pygments_lexer": "ipython3",
   "version": "3.12.7"
  }
 },
 "nbformat": 4,
 "nbformat_minor": 2
}
