{
 "cells": [
  {
   "cell_type": "markdown",
   "metadata": {},
   "source": [
    "# ACTIVIDAD DE APRENDIZAJE 3. PARTE 1: Análisis numérico con NumPy\n",
    "\n",
    "- Jorge Emiliano Pomar\n",
    "- A01709338\n",
    "- 13 de marzo de 2025\n"
   ]
  },
  {
   "cell_type": "code",
   "execution_count": 1,
   "metadata": {},
   "outputs": [],
   "source": [
    "import numpy as np\n",
    "import pandas as pd"
   ]
  },
  {
   "cell_type": "code",
   "execution_count": 3,
   "metadata": {},
   "outputs": [],
   "source": [
    "def leer_datos():\n",
    "\n",
    "    df = pd.read_csv(\"DatosAutos-1-1.csv\")\n",
    "    matriz = np.array(df.values)\n",
    "    return matriz"
   ]
  },
  {
   "cell_type": "markdown",
   "metadata": {},
   "source": [
    "- Define la función precio_maximo, que regrese el precio máximo de un automóvil.\n"
   ]
  },
  {
   "cell_type": "code",
   "execution_count": null,
   "metadata": {},
   "outputs": [
    {
     "name": "stdout",
     "output_type": "stream",
     "text": [
      "El precio maximo es 54995.00\n"
     ]
    }
   ],
   "source": [
    "def precio_maximo(m):\n",
    "    arreglo = m[:, 1]\n",
    "    precio_m = np.max(arreglo)\n",
    "    return precio_m\n",
    "\n",
    "\n",
    "def main():\n",
    "    m = leer_datos()\n",
    "    res = precio_maximo(m)\n",
    "    print(\"El precio maximo es %.2f\" % res)\n",
    "\n",
    "\n",
    "main()"
   ]
  },
  {
   "cell_type": "markdown",
   "metadata": {},
   "source": [
    "- Define la función promedio_impuestos, que regrese el promedio de impuestos (tax) pagados por ese lote de automóviles. Imprime en el main el resultado de la función promedio_impuestos con dos decimales.\n"
   ]
  },
  {
   "cell_type": "code",
   "execution_count": null,
   "metadata": {},
   "outputs": [
    {
     "name": "stdout",
     "output_type": "stream",
     "text": [
      "El promedio de impuestos es 113.31\n"
     ]
    }
   ],
   "source": [
    "def promedio_impuestos(m):\n",
    "    arreglo = m[:, 5]\n",
    "    impuestos = np.mean(arreglo)\n",
    "    return impuestos\n",
    "\n",
    "\n",
    "def main():\n",
    "    m = leer_datos()\n",
    "    res = promedio_impuestos(m)\n",
    "    print(\"El promedio de impuestos es %.2f\" % res)\n",
    "\n",
    "\n",
    "main()"
   ]
  },
  {
   "cell_type": "markdown",
   "metadata": {},
   "source": [
    "- Define la función suma_millaje, que regrese la suma del millaje (mileage) del lote de autos. Imprime en el main el resultado de la función suma_millage con un decimal.\n"
   ]
  },
  {
   "cell_type": "code",
   "execution_count": null,
   "metadata": {},
   "outputs": [
    {
     "name": "stdout",
     "output_type": "stream",
     "text": [
      "La suma del millaje es 419547822.0\n"
     ]
    }
   ],
   "source": [
    "def suma_millaje(m):\n",
    "    arreglo = m[:, 3]\n",
    "    millaje = np.sum(arreglo)\n",
    "    return millaje\n",
    "\n",
    "\n",
    "def main():\n",
    "    m = leer_datos()\n",
    "    res = suma_millaje(m)\n",
    "    print(\"La suma del millaje es %.1f\" % res)\n",
    "\n",
    "\n",
    "main()"
   ]
  },
  {
   "cell_type": "markdown",
   "metadata": {},
   "source": [
    "- Define la función cantidad_autos, que imprima la cantidad de autos de cada año.\n"
   ]
  },
  {
   "cell_type": "code",
   "execution_count": null,
   "metadata": {},
   "outputs": [
    {
     "name": "stdout",
     "output_type": "stream",
     "text": [
      "\n",
      " Año  \t  Cantidad_Autos\n",
      "---------------------------\n",
      "2002 \t 3\n",
      "2003 \t 3\n",
      "2004 \t 4\n",
      "2005 \t 16\n",
      "2006 \t 13\n",
      "2007 \t 32\n",
      "2008 \t 57\n",
      "2009 \t 91\n",
      "2010 \t 67\n",
      "2011 \t 94\n",
      "2012 \t 115\n",
      "2013 \t 609\n",
      "2014 \t 805\n",
      "2015 \t 1368\n",
      "2016 \t 2331\n",
      "2017 \t 4888\n",
      "2018 \t 4014\n",
      "2019 \t 3194\n",
      "2020 \t 258\n"
     ]
    }
   ],
   "source": [
    "def cantidad_autos(m):\n",
    "    print(\"\\n Año  \\t  Cantidad_Autos\")\n",
    "    print(\"---------------------------\")\n",
    "    arreglo = m[:, 0]\n",
    "    conjunto = set(arreglo)\n",
    "    lista = list(conjunto)\n",
    "    lista.sort()\n",
    "    for key in lista:\n",
    "        condicion = m[:, 0] == key\n",
    "        matriz = m[condicion]\n",
    "        num_coches = matriz.shape[0]\n",
    "        print(\"%i \\t %s\" % (key, num_coches))\n",
    "\n",
    "\n",
    "m = leer_datos()\n",
    "cantidad_autos(m)"
   ]
  },
  {
   "cell_type": "markdown",
   "metadata": {},
   "source": [
    "- Define la función promedio_mpg, que regresa el promedio de millaje por galón (mpg) de cada tipo de combustible.\n"
   ]
  },
  {
   "cell_type": "code",
   "execution_count": 18,
   "metadata": {},
   "outputs": [
    {
     "name": "stdout",
     "output_type": "stream",
     "text": [
      "\n",
      " Tipo Combustible \t Promedio MPG\n",
      "------------------------------------\n",
      "1. Disel \t 62\n",
      "2. Eléctrico \t 67\n",
      "3. Híbrido \t 89\n",
      "4. Otro \t 67\n",
      "5. Gasolina \t 56\n"
     ]
    }
   ],
   "source": [
    "def promedio_mpg(m):\n",
    "    print(\"\\n Tipo Combustible \\t Promedio MPG\")\n",
    "    print(\"------------------------------------\")\n",
    "    tipos_combustible = {\n",
    "        1: \"Disel\",\n",
    "        2: \"Eléctrico\",\n",
    "        3: \"Híbrido\",\n",
    "        4: \"Otro\",\n",
    "        5: \"Gasolina\",\n",
    "    }\n",
    "    for tipo in tipos_combustible:\n",
    "        condicion = m[:, 4] == tipo\n",
    "        matriz_tipo = m[condicion]\n",
    "        promedio_mpg = np.mean(matriz_tipo[:, 6])\n",
    "        print(\"%s. %s \\t %2.f\" % (tipo, tipos_combustible[tipo], promedio_mpg))\n",
    "\n",
    "\n",
    "def main():\n",
    "    m = leer_datos()\n",
    "    promedio_mpg(m)\n",
    "\n",
    "\n",
    "main()"
   ]
  }
 ],
 "metadata": {
  "kernelspec": {
   "display_name": "base",
   "language": "python",
   "name": "python3"
  },
  "language_info": {
   "codemirror_mode": {
    "name": "ipython",
    "version": 3
   },
   "file_extension": ".py",
   "mimetype": "text/x-python",
   "name": "python",
   "nbconvert_exporter": "python",
   "pygments_lexer": "ipython3",
   "version": "3.12.7"
  }
 },
 "nbformat": 4,
 "nbformat_minor": 2
}
