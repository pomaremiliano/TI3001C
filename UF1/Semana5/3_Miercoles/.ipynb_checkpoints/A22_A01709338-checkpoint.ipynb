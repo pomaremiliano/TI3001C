{
 "cells": [
  {
   "cell_type": "markdown",
   "metadata": {},
   "source": [
    "# Actividad 22 Matrices\n",
    "\n",
    "- Jorge Emiliano Pomar\n",
    "- A01709338\n",
    "- 12 de marzo de 2025\n"
   ]
  },
  {
   "cell_type": "markdown",
   "metadata": {},
   "source": [
    "## Ejercicio 1 y 2\n"
   ]
  },
  {
   "cell_type": "code",
   "execution_count": 3,
   "metadata": {},
   "outputs": [],
   "source": [
    "import numpy as np\n",
    "import random"
   ]
  },
  {
   "cell_type": "code",
   "execution_count": 4,
   "metadata": {},
   "outputs": [],
   "source": [
    "def imprime_matriz(m):\n",
    "    for r in range(m.shape[0]):\n",
    "        for c in range(m.shape[1]):\n",
    "            print(\"%4i\" % m[r, c], end=\"\")\n",
    "        print()"
   ]
  },
  {
   "cell_type": "code",
   "execution_count": 5,
   "metadata": {},
   "outputs": [],
   "source": [
    "def llena_matriz(m):\n",
    "    for r in range(m.shape[0]):\n",
    "        for c in range(m.shape[1]):\n",
    "            m[r, c] = random.randint(-10, 10)\n",
    "    return m"
   ]
  },
  {
   "cell_type": "code",
   "execution_count": 6,
   "metadata": {},
   "outputs": [],
   "source": [
    "def suma_positivos(m):\n",
    "    suma = 0\n",
    "    for r in range(m.shape[0]):\n",
    "        for c in range(m.shape[1]):\n",
    "            if m[r, c] > 0:\n",
    "                suma += m[r, c]\n",
    "    return suma"
   ]
  },
  {
   "cell_type": "code",
   "execution_count": 7,
   "metadata": {},
   "outputs": [
    {
     "name": "stdout",
     "output_type": "stream",
     "text": [
      "---- Ejercicio 1 ----\n",
      "\n"
     ]
    },
    {
     "name": "stdin",
     "output_type": "stream",
     "text": [
      "Ingresa el numero de renglones:  4\n",
      "Ingresa el numero de columnas:  4\n"
     ]
    },
    {
     "name": "stdout",
     "output_type": "stream",
     "text": [
      "   0   0   0   0\n",
      "   0   0   0   0\n",
      "   0   0   0   0\n",
      "   0   0   0   0\n",
      " -10   4  -5  -1\n",
      "   0   8  -6   1\n",
      "   2  -8   8   5\n",
      " -10   7  -1   2\n",
      "Suma: 37 elementos positivos\n"
     ]
    }
   ],
   "source": [
    "def main():\n",
    "    print(\"---- Ejercicio 1 ----\\n\")\n",
    "    num_renglones = int(input(\"Ingresa el numero de renglones: \"))\n",
    "    num_columnas = int(input(\"Ingresa el numero de columnas: \"))\n",
    "    m = np.zeros((num_renglones, num_columnas), dtype=\"int\")\n",
    "    imprime_matriz(m)\n",
    "    llena_matriz(m)\n",
    "    imprime_matriz(m)\n",
    "    print(\"Suma: %i elementos positivos\" % suma_positivos(m))\n",
    "\n",
    "main()"
   ]
  },
  {
   "cell_type": "code",
   "execution_count": 8,
   "metadata": {},
   "outputs": [
    {
     "name": "stdout",
     "output_type": "stream",
     "text": [
      "\n",
      "---- Ejercicio 2 ----\n",
      "\n"
     ]
    },
    {
     "name": "stdin",
     "output_type": "stream",
     "text": [
      "Ingresa el numero de renglones:  3\n",
      "Ingresa el numero de columnas:  3\n"
     ]
    },
    {
     "name": "stdout",
     "output_type": "stream",
     "text": [
      "   0   01958646944\n",
      " 3381958644864 338\n",
      "1958643424 338   0\n",
      "\n",
      "MATRIZ 1\n",
      " -10   3  -6\n",
      "   3   5   7\n",
      "   1   6  10\n",
      "\n",
      "MATRIZ 2\n",
      "   8   6   3\n",
      "   1  10   7\n",
      "   4   4   3\n",
      "\n",
      "MATRIZ 1 + MATRIZ 2\n",
      "  -2   9  -3\n",
      "   4  15  14\n",
      "   5  10  13\n",
      "\n",
      "MATRIZ 1 - MATRIZ 2\n",
      " -18  -3  -9\n",
      "   2  -5   0\n",
      "  -3   2   7\n",
      "\n",
      "MATRIZ 1 * MATRIZ 2\n",
      " -80  18 -18\n",
      "   3  50  49\n",
      "   4  24  30\n",
      "\n",
      "MATRIZ 1 / MATRIZ 2\n",
      "  -1   0  -2\n",
      "   3   0   1\n",
      "   0   1   3\n",
      "\n",
      "MATRIZ 4\n",
      " -10   3  -6\n",
      "   3   5   7\n",
      "   1   6  10\n",
      "   8   6   3\n",
      "   1  10   7\n",
      "   4   4   3\n"
     ]
    }
   ],
   "source": [
    "def main():\n",
    "    print(\"\\n---- Ejercicio 2 ----\\n\")\n",
    "    num_renglones = int(input(\"Ingresa el numero de renglones: \"))\n",
    "    num_columnas = int(input(\"Ingresa el numero de columnas: \"))\n",
    "\n",
    "    mat1 = np.empty((num_renglones, num_columnas), dtype=\"int\")\n",
    "    imprime_matriz(mat1)\n",
    "    llena_matriz(mat1)\n",
    "    print(\"\\nMATRIZ 1\")\n",
    "    imprime_matriz(mat1)\n",
    "    \n",
    "    \n",
    "    mat2 = np.random.randint(1, 11, size=(num_renglones, num_columnas))\n",
    "    print()\n",
    "    print(\"MATRIZ 2\")\n",
    "    imprime_matriz(mat2)\n",
    "    \n",
    "    mat3 = mat1 + mat2\n",
    "    print(\"\\nMATRIZ 1 + MATRIZ 2\")\n",
    "    imprime_matriz(mat3)\n",
    "    \n",
    "    mat3 = mat1 - mat2\n",
    "    print(\"\\nMATRIZ 1 - MATRIZ 2\")\n",
    "    imprime_matriz(mat3)\n",
    "    \n",
    "    mat3 = mat1 * mat2\n",
    "    print(\"\\nMATRIZ 1 * MATRIZ 2\")\n",
    "    imprime_matriz(mat3)\n",
    "    \n",
    "    mat3 = mat1 / mat2\n",
    "    print(\"\\nMATRIZ 1 / MATRIZ 2\")\n",
    "    imprime_matriz(mat3)\n",
    "    \n",
    "    mat4 = np.append(mat1, mat2, axis=0)\n",
    "    print()\n",
    "    print(\"MATRIZ 4\")\n",
    "    imprime_matriz(mat4)\n",
    "\n",
    "main()"
   ]
  },
  {
   "cell_type": "markdown",
   "metadata": {},
   "source": [
    "## Ejercicio 3"
   ]
  },
  {
   "cell_type": "code",
   "execution_count": 10,
   "metadata": {},
   "outputs": [],
   "source": [
    "def multiplica_renglon3(m, ren):\n",
    "    for r in range(m.shape[0]):\n",
    "        for c in range(m.shape[1]):\n",
    "            if r == ren:\n",
    "                m[r, c] = m[r, c] * 3\n",
    "    return m\n"
   ]
  },
  {
   "cell_type": "code",
   "execution_count": 11,
   "metadata": {},
   "outputs": [
    {
     "name": "stdout",
     "output_type": "stream",
     "text": [
      "\n",
      "---- Ejercicio 3 ----\n",
      "\n"
     ]
    },
    {
     "name": "stdin",
     "output_type": "stream",
     "text": [
      "Ingresa el numero de renglones:  3\n",
      "Ingresa el numero de columnas:  3\n"
     ]
    },
    {
     "name": "stdout",
     "output_type": "stream",
     "text": [
      "  11   5  19\n",
      "  19  48   3\n",
      "  45  15  42\n",
      "\n",
      "\n"
     ]
    },
    {
     "name": "stdin",
     "output_type": "stream",
     "text": [
      "Ingresa el renglon a multiplicar por 3:  1\n"
     ]
    },
    {
     "name": "stdout",
     "output_type": "stream",
     "text": [
      "  11   5  19\n",
      "  57 144   9\n",
      "  45  15  42\n",
      "Renglon solicitado:  [ 57 144   9]\n",
      "Promedio:  70.0\n"
     ]
    }
   ],
   "source": [
    "def main():\n",
    "    print(\"\\n---- Ejercicio 3 ----\\n\")\n",
    "    num_renglones = int(input(\"Ingresa el numero de renglones: \"))\n",
    "    num_columnas = int(input(\"Ingresa el numero de columnas: \"))\n",
    "    mat = np.random.randint(1, 51, size=(num_renglones, num_columnas))\n",
    "    imprime_matriz(mat)\n",
    "    print(\"\\n\")\n",
    "    ren = int(input(\"Ingresa el renglon a multiplicar por 3: \"))\n",
    "    matriz = multiplica_renglon3(mat, ren)\n",
    "    imprime_matriz(matriz)\n",
    "    arreglo = matriz[ren, :]\n",
    "    print(\"Renglon solicitado: \", arreglo)\n",
    "    \n",
    "    promedio = np.mean(arreglo)\n",
    "    print(\"Promedio: \", promedio)\n",
    "\n",
    "main()"
   ]
  }
 ],
 "metadata": {
  "kernelspec": {
   "display_name": "Python 3 (ipykernel)",
   "language": "python",
   "name": "python3"
  },
  "language_info": {
   "codemirror_mode": {
    "name": "ipython",
    "version": 3
   },
   "file_extension": ".py",
   "mimetype": "text/x-python",
   "name": "python",
   "nbconvert_exporter": "python",
   "pygments_lexer": "ipython3",
   "version": "3.12.7"
  }
 },
 "nbformat": 4,
 "nbformat_minor": 4
}
