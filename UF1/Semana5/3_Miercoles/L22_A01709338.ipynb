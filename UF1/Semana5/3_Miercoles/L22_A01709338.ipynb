{
 "cells": [
  {
   "cell_type": "markdown",
   "metadata": {},
   "source": [
    "# Laboratorio 22 Matrices\n",
    "\n",
    "- Jorge Emiliano Pomar\n",
    "- A01709338\n",
    "  12 de marzo de 2025\n"
   ]
  },
  {
   "cell_type": "markdown",
   "metadata": {},
   "source": [
    "## Ejercicio 1\n",
    "\n",
    "Define la función captura_matriz que recibe una matriz. La función deberá pedir los valores para llenar la matriz siguiendo el orden que se muestra en el ejemplo:\n"
   ]
  },
  {
   "cell_type": "code",
   "execution_count": null,
   "metadata": {},
   "outputs": [],
   "source": [
    "import numpy as np\n",
    "\n",
    "\n",
    "def captura_matriz(m):\n",
    "    for r in range(m.shape[0]):\n",
    "        for c in range(m.shape[1]):\n",
    "            num = int(input(\"Dame un numero: \"))\n",
    "            m[r, c] = num"
   ]
  },
  {
   "cell_type": "markdown",
   "metadata": {},
   "source": [
    "## Ejercicio 2\n",
    "\n",
    "Define la función imprime_matriz (matriz) que recibe una matriz. La función despliega en pantalla el contenido de la matriz.\n"
   ]
  },
  {
   "cell_type": "code",
   "execution_count": 23,
   "metadata": {},
   "outputs": [],
   "source": [
    "def imprime_matriz(m):\n",
    "    for r in range(m.shape[0]):\n",
    "        for c in range(m.shape[1]):\n",
    "            print(\"%4i\" % m[r, c], end=\"\")\n",
    "        print()"
   ]
  },
  {
   "cell_type": "markdown",
   "metadata": {},
   "source": [
    "## Ejercicio 3\n",
    "\n",
    "Define la función multiplica_columnax2 (matriz, columna) que recibe una matriz y el número de columna a modificar. La función deberá multiplicar toda la columna de la matriz por el valor de 2.\n"
   ]
  },
  {
   "cell_type": "code",
   "execution_count": 15,
   "metadata": {},
   "outputs": [],
   "source": [
    "def multiplica_columnax2(m, col):\n",
    "    for r in range(m.shape[0]):\n",
    "        for c in range(m.shape[1]):\n",
    "            if c == col:\n",
    "                m[r, c] = m[r, c] * 2\n",
    "    return m"
   ]
  },
  {
   "cell_type": "markdown",
   "metadata": {},
   "source": [
    "## Ejercicio 4\n",
    "\n",
    "Define la función cuenta_pares (matriz) que recibe una matriz de números enteros. La función regresará el resultado de contar todos los valores pares contenidos en la matriz.\n"
   ]
  },
  {
   "cell_type": "code",
   "execution_count": 21,
   "metadata": {},
   "outputs": [],
   "source": [
    "def cuenta_pares(m):\n",
    "    cont = 0\n",
    "    for r in range(m.shape[0]):\n",
    "        for c in range(m.shape[1]):\n",
    "            if m[r, c] % 2 == 0:\n",
    "                cont += 1\n",
    "    return cont"
   ]
  },
  {
   "cell_type": "code",
   "execution_count": 24,
   "metadata": {},
   "outputs": [
    {
     "name": "stdout",
     "output_type": "stream",
     "text": [
      "   1   2   3   4\n",
      "   5   6   7   8\n",
      "   9   0   1   2\n",
      "   1   4   3   4\n",
      "   5  12   7   8\n",
      "   9   0   1   2\n",
      "Suma:  16\n",
      "Arreglo 1:  [ 4 12  0]\n",
      "Arreglo 2:  [9 0 1 2]\n",
      "La matriz tiene 6 pares.\n"
     ]
    }
   ],
   "source": [
    "def main():\n",
    "    ren = int(input(\"Dame el numero de renglones: \"))\n",
    "    col = int(input(\"Dame el numero de columnas: \"))\n",
    "    m = np.zeros((ren, col), dtype=\"int\")\n",
    "    # print(m)\n",
    "    captura_matriz(m)\n",
    "    # print(m)\n",
    "    imprime_matriz(m)\n",
    "    c = int(input(\"Dame la columna: \"))\n",
    "    matriz = multiplica_columnax2(m, c)\n",
    "    imprime_matriz(matriz)\n",
    "    arreglo = matriz[:, c]\n",
    "    res = np.sum(arreglo)\n",
    "    print(\"Suma: \", res)\n",
    "    print(\"Arreglo 1: \", arreglo)\n",
    "    arreglo2 = matriz[2, :]\n",
    "    print(\"Arreglo 2: \", arreglo2)\n",
    "\n",
    "    res2 = cuenta_pares(matriz)\n",
    "    print(\"La matriz tiene %i pares.\" % (res2))\n",
    "\n",
    "\n",
    "main()"
   ]
  }
 ],
 "metadata": {
  "kernelspec": {
   "display_name": "base",
   "language": "python",
   "name": "python3"
  },
  "language_info": {
   "codemirror_mode": {
    "name": "ipython",
    "version": 3
   },
   "file_extension": ".py",
   "mimetype": "text/x-python",
   "name": "python",
   "nbconvert_exporter": "python",
   "pygments_lexer": "ipython3",
   "version": "3.12.7"
  }
 },
 "nbformat": 4,
 "nbformat_minor": 2
}
