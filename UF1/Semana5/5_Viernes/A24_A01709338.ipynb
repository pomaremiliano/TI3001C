{
 "cells": [
  {
   "cell_type": "markdown",
   "metadata": {},
   "source": [
    "# Actividad Integradora 3.2 - Análisis de datos con Numpy\n",
    "\n",
    "- Jorge Emiliano Pomar\n",
    "- A01709338\n",
    "- 14 de marzo de 2025\n"
   ]
  },
  {
   "cell_type": "code",
   "execution_count": 84,
   "metadata": {},
   "outputs": [],
   "source": [
    "import numpy as np\n",
    "import pandas as pd"
   ]
  },
  {
   "cell_type": "code",
   "execution_count": 85,
   "metadata": {},
   "outputs": [],
   "source": [
    "def leer_datos():\n",
    "\n",
    "    df = pd.read_csv(\"inventario.csv\")\n",
    "    matriz = np.array(df.values)\n",
    "    return matriz"
   ]
  },
  {
   "cell_type": "code",
   "execution_count": null,
   "metadata": {},
   "outputs": [],
   "source": [
    "def calculos(m, envase):\n",
    "    matrizf = []\n",
    "\n",
    "    lista_categorias = [\"Adobo\", \"Condimento\", \"Especia\", \"Extracto\", \"Hierba\"]\n",
    "\n",
    "    for categoria in lista_categorias:\n",
    "        lista = []\n",
    "        # print(\"\\n\")\n",
    "        # print(categoria)\n",
    "        # print(\"----------------------\")\n",
    "        # print(\"\\n\")\n",
    "\n",
    "        condicion = (m[:, 5] == envase) & (m[:, 6] == categoria)\n",
    "\n",
    "        matriz = m[condicion]\n",
    "        # print(matriz)\n",
    "\n",
    "        ## Precio promedio\n",
    "        arreglo = matriz[:, 3]\n",
    "        # print(arreglo)\n",
    "        if arreglo.size > 0:\n",
    "            res = np.mean(arreglo)\n",
    "            # print(\"Precio promedio: \", res)\n",
    "        else:\n",
    "            res = 0\n",
    "            # print(\"Precio promedio: \", res)\n",
    "        lista.append(res)\n",
    "\n",
    "        ## Cantidad de productos en existencia\n",
    "        arreglo = matriz[:, 2]\n",
    "        # print(arreglo)\n",
    "        if arreglo.size > 0:\n",
    "            res = np.sum(arreglo)\n",
    "            # print(\"Cantidad de productos en existencia: \", res)\n",
    "        else:\n",
    "            res = 0\n",
    "            # print(\"Cantidad de productos en existencia: \", res)\n",
    "        lista.append(res)\n",
    "        ## Tamaño maximo del envase\n",
    "        arreglo = matriz[:, 4]\n",
    "        # print(arreglo)\n",
    "        if arreglo.size > 0:\n",
    "            res = np.max(arreglo)\n",
    "            # print(\"Tamaño maximo del envase: \", res)\n",
    "        else:\n",
    "            res = 0\n",
    "            # print(\"Tamaño maximo del envase: \", res)\n",
    "        lista.append(res)\n",
    "        matrizf.append(lista)\n",
    "        # print(lista)\n",
    "    return matrizf"
   ]
  },
  {
   "cell_type": "code",
   "execution_count": null,
   "metadata": {},
   "outputs": [],
   "source": [
    "def imprime_matriz(matriz):\n",
    "    cont = 0\n",
    "    categorias = [\"Adobo\", \"Condimento\", \"Especia\", \"Extracto\", \"Hierba\"]\n",
    "    print(\"\\t\\tPrecio promedio\\tCantidad\\tTamaño maximo del envase\")\n",
    "    for r in range(matriz.shape[0]):\n",
    "        print(categorias[cont], end=\"\")\n",
    "        cont += 1\n",
    "        for c in range(matriz.shape[1]):\n",
    "            print(\"     \\t%.2f\\t\" % matriz[r][c], end=\" \")\n",
    "        print()"
   ]
  },
  {
   "cell_type": "code",
   "execution_count": null,
   "metadata": {},
   "outputs": [
    {
     "name": "stdout",
     "output_type": "stream",
     "text": [
      "Envase 1. Frasco\n",
      "\t\tPrecio promedio\tCantidad\tTamaño maximo del envase\n",
      "Adobo     \t5.48\t      \t415.00\t      \t8.00\t \n",
      "Condimento     \t5.69\t      \t2155.00\t      \t16.00\t \n",
      "Especia     \t8.76\t      \t1414.00\t      \t8.00\t \n",
      "Extracto     \t0.00\t      \t0.00\t      \t0.00\t \n",
      "Hierba     \t7.32\t      \t509.00\t      \t8.00\t \n",
      "\n",
      "\n",
      "Envase 3. Botella\n",
      "\t\tPrecio promedio\tCantidad\tTamaño maximo del envase\n",
      "Adobo     \t5.48\t      \t415.00\t      \t8.00\t \n",
      "Condimento     \t5.69\t      \t2155.00\t      \t16.00\t \n",
      "Especia     \t8.76\t      \t1414.00\t      \t8.00\t \n",
      "Extracto     \t0.00\t      \t0.00\t      \t0.00\t \n",
      "Hierba     \t7.32\t      \t509.00\t      \t8.00\t \n",
      "\n",
      "\n",
      "Envase 4. Lata\n",
      "\t\tPrecio promedio\tCantidad\tTamaño maximo del envase\n",
      "Adobo     \t5.48\t      \t415.00\t      \t8.00\t \n",
      "Condimento     \t5.69\t      \t2155.00\t      \t16.00\t \n",
      "Especia     \t8.76\t      \t1414.00\t      \t8.00\t \n",
      "Extracto     \t0.00\t      \t0.00\t      \t0.00\t \n",
      "Hierba     \t7.32\t      \t509.00\t      \t8.00\t \n"
     ]
    }
   ],
   "source": [
    "def main():\n",
    "    m = leer_datos()\n",
    "    print(\"Envase 1. Frasco\")\n",
    "    matriz = calculos(m, 1)\n",
    "    matriznp = np.array(matriz)\n",
    "    imprime_matriz(matriznp)\n",
    "    print(\"\\n\")\n",
    "    print(\"Envase 3. Botella\")\n",
    "    matriz = calculos(m, 1)\n",
    "    matriznp = np.array(matriz)\n",
    "    imprime_matriz(matriznp)\n",
    "    print(\"\\n\")\n",
    "    print(\"Envase 4. Lata\")\n",
    "    matriz = calculos(m, 1)\n",
    "    matriznp = np.array(matriz)\n",
    "    imprime_matriz(matriznp)\n",
    "\n",
    "\n",
    "main()"
   ]
  }
 ],
 "metadata": {
  "kernelspec": {
   "display_name": "base",
   "language": "python",
   "name": "python3"
  },
  "language_info": {
   "codemirror_mode": {
    "name": "ipython",
    "version": 3
   },
   "file_extension": ".py",
   "mimetype": "text/x-python",
   "name": "python",
   "nbconvert_exporter": "python",
   "pygments_lexer": "ipython3",
   "version": "3.12.7"
  }
 },
 "nbformat": 4,
 "nbformat_minor": 2
}
