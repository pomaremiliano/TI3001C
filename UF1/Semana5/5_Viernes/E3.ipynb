{
 "cells": [
  {
   "cell_type": "code",
   "execution_count": null,
   "metadata": {},
   "outputs": [],
   "source": [
    "import numpy as np\n",
    "import pandas as pd\n",
    "\n",
    "def leer_datos():\n",
    "    df = pd.read_csv(\"inventario.csv\")\n",
    "    matriz = np.array(df.values)\n",
    "    return matriz\n",
    "\n",
    "    def calificacion_mas_alta(matriz):\n",
    "        return np.max(matriz[:, -1])\n",
    "\n",
    "    if __name__ == \"__main__\":\n",
    "        matriz = leer_datos()\n",
    "        calificacion = calificacion_mas_alta(matriz)\n",
    "        print(f\"La calificacion mas alta es {calificacion}\")"
   ]
  }
 ],
 "metadata": {
  "language_info": {
   "name": "python"
  }
 },
 "nbformat": 4,
 "nbformat_minor": 2
}
