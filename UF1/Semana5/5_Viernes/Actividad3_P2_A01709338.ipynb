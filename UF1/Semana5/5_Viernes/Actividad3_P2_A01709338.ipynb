{
 "cells": [
  {
   "cell_type": "markdown",
   "metadata": {},
   "source": [
    "# ACTIVIDAD DE APRENDIZAJE 3. PARTE 2: Análisis numérico con NumPy \n",
    "- Jorge Emiliano Pomar \n",
    "- A01709338\n",
    "- 14 de marzo de 2025"
   ]
  },
  {
   "cell_type": "code",
   "execution_count": 38,
   "metadata": {},
   "outputs": [],
   "source": [
    "import numpy as np\n",
    "import pandas as pd"
   ]
  },
  {
   "cell_type": "code",
   "execution_count": 39,
   "metadata": {},
   "outputs": [],
   "source": [
    "def leer_datos():\n",
    "\n",
    "    df = pd.read_csv(\"DatosAutos-1-1.csv\")\n",
    "    matriz = np.array(df.values)\n",
    "    return matriz"
   ]
  },
  {
   "cell_type": "code",
   "execution_count": 56,
   "metadata": {},
   "outputs": [],
   "source": [
    "def calculos(m, anio):\n",
    "    matrizf = []\n",
    "    lista_tipos = [1,2,3]\n",
    "    for tipo in lista_tipos:\n",
    "        lista = []\n",
    "        \n",
    "        condicion = (m[:,0] == anio) & (m[:,2] == tipo)\n",
    "        matriz = m[condicion]\n",
    "        ##MPG promedio (mpg)\n",
    "        arreglo = matriz[:,6]\n",
    "        if arreglo.size > 0:\n",
    "            res = np.mean(arreglo)\n",
    "        else:\n",
    "            res = 0\n",
    "        lista.append(res)\n",
    "        \n",
    "        ## Motor más grande\n",
    "        arreglo = matriz[:,7]\n",
    "        if arreglo.size > 0:\n",
    "            res = np.max(arreglo)\n",
    "        else:\n",
    "            res = 0\n",
    "        lista.append(res)\n",
    "        \n",
    "        #Suma de impuestos\n",
    "        arreglo = matriz[:,5]\n",
    "        if arreglo.size > 0:\n",
    "            res = np.sum(arreglo)\n",
    "        else:\n",
    "            res = 0\n",
    "        lista.append(res)\n",
    "        \n",
    "        matrizf.append(lista)\n",
    "    return matrizf"
   ]
  },
  {
   "cell_type": "code",
   "execution_count": 59,
   "metadata": {},
   "outputs": [],
   "source": [
    "def imprime_matriz(matriz):\n",
    "    cont = 0\n",
    "    transmisiones = ['Automatico', 'Manual', 'Semi-auto']\n",
    "    print(\"\\t\\tMPG promedio\\tMotor+gde\\tSuma de impuestos\")\n",
    "    for r in range(matriz.shape[0]):\n",
    "        print(transmisiones[cont], end = \"\")\n",
    "        cont += 1\n",
    "        for c in range(matriz.shape[1]):\n",
    "            print(\"    \\t%.2f\\t\" % matriz[r][c], end = \"\")\n",
    "        print()"
   ]
  },
  {
   "cell_type": "code",
   "execution_count": 63,
   "metadata": {},
   "outputs": [
    {
     "name": "stdout",
     "output_type": "stream",
     "text": [
      "\n",
      "---- Año 2011 ----\n",
      "\n",
      "\t\tMPG promedio\tMotor+gde\tSuma de impuestos\n",
      "Automatico    \t45.16\t    \t2.00\t    \t2370.00\t\n",
      "Manual    \t50.69\t    \t2.50\t    \t11075.00\t\n",
      "Semi-auto    \t0.00\t    \t0.00\t    \t0.00\t\n",
      "\n",
      "---- Año 2016 ----\n",
      "\n",
      "\t\tMPG promedio\tMotor+gde\tSuma de impuestos\n",
      "Automatico    \t52.34\t    \t5.00\t    \t27070.00\t\n",
      "Manual    \t62.43\t    \t5.00\t    \t106585.00\t\n",
      "Semi-auto    \t53.08\t    \t5.00\t    \t18530.00\t\n",
      "\n",
      "---- Año 2018 ----\n",
      "\n",
      "\t\tMPG promedio\tMotor+gde\tSuma de impuestos\n",
      "Automatico    \t49.50\t    \t5.00\t    \t31155.00\t\n",
      "Manual    \t59.58\t    \t5.00\t    \t527580.00\t\n",
      "Semi-auto    \t52.22\t    \t5.00\t    \t26440.00\t\n"
     ]
    }
   ],
   "source": [
    "def main():\n",
    "    print(\"\\n---- Año 2011 ----\\n\")\n",
    "    m = leer_datos()\n",
    "    anio = 2011\n",
    "    matriz = calculos(m, anio)\n",
    "    matriznp = np.array(matriz)\n",
    "    imprime_matriz(matriznp)\n",
    "    print(\"\\n---- Año 2016 ----\\n\")\n",
    "    m = leer_datos()\n",
    "    anio = 2016\n",
    "    matriz = calculos(m, anio)\n",
    "    matriznp = np.array(matriz)\n",
    "    imprime_matriz(matriznp)\n",
    "    print(\"\\n---- Año 2018 ----\\n\")\n",
    "    m = leer_datos()\n",
    "    anio = 2018\n",
    "    matriz = calculos(m, anio)\n",
    "    matriznp = np.array(matriz)\n",
    "    imprime_matriz(matriznp)\n",
    "\n",
    "main()"
   ]
  }
 ],
 "metadata": {
  "kernelspec": {
   "display_name": "base",
   "language": "python",
   "name": "python3"
  },
  "language_info": {
   "codemirror_mode": {
    "name": "ipython",
    "version": 3
   },
   "file_extension": ".py",
   "mimetype": "text/x-python",
   "name": "python",
   "nbconvert_exporter": "python",
   "pygments_lexer": "ipython3",
   "version": "3.12.7"
  }
 },
 "nbformat": 4,
 "nbformat_minor": 2
}
