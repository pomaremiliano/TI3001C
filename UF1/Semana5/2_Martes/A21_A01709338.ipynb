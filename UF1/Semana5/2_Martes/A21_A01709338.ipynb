{
 "cells": [
  {
   "cell_type": "markdown",
   "metadata": {},
   "source": [
    "# Actividad 21 Arreglos \n",
    "-  Jorge Emiliano Pomar \n",
    "-  A01709338\n",
    "-  11/03/2025"
   ]
  },
  {
   "cell_type": "code",
   "execution_count": 39,
   "metadata": {},
   "outputs": [],
   "source": [
    "import numpy as np"
   ]
  },
  {
   "cell_type": "markdown",
   "metadata": {},
   "source": [
    "# Ejercicios \n",
    "\n",
    "\n",
    "        Genere un arreglo de Numpy de puros ceros de tipo de dato \"int\" de 30 elementos. Imprime el arreglo.\n",
    "\n",
    "\n"
   ]
  },
  {
   "cell_type": "code",
   "execution_count": 40,
   "metadata": {},
   "outputs": [
    {
     "data": {
      "text/plain": [
       "array([0, 0, 0, 0, 0, 0, 0, 0, 0, 0, 0, 0, 0, 0, 0, 0, 0, 0, 0, 0, 0, 0,\n",
       "       0, 0, 0, 0, 0, 0, 0, 0])"
      ]
     },
     "execution_count": 40,
     "metadata": {},
     "output_type": "execute_result"
    }
   ],
   "source": [
    "np.zeros(30, dtype=int)\n"
   ]
  },
  {
   "cell_type": "markdown",
   "metadata": {},
   "source": [
    "        Genere un arreglo de Numpy con 40 elementos de tipo float sin inicializar. Usa la función empty. Imprime el arreglo.\n"
   ]
  },
  {
   "cell_type": "code",
   "execution_count": 41,
   "metadata": {},
   "outputs": [
    {
     "data": {
      "text/plain": [
       "array([0., 0., 0., 0., 0., 0., 0., 0., 0., 0., 0., 0., 0., 0., 0., 0., 0.,\n",
       "       0., 0., 0., 0., 0., 0., 0., 0., 0., 0., 0., 0., 0., 0., 0., 0., 0.,\n",
       "       0., 0., 0., 0., 0., 0.])"
      ]
     },
     "execution_count": 41,
     "metadata": {},
     "output_type": "execute_result"
    }
   ],
   "source": [
    "np.empty(40, dtype=float)\n"
   ]
  },
  {
   "cell_type": "markdown",
   "metadata": {},
   "source": [
    "        Genere un arreglo de Numpy con números que vayan del 10 al 20. Usa la función arange(). Imprime el arreglo.\n"
   ]
  },
  {
   "cell_type": "code",
   "execution_count": 42,
   "metadata": {},
   "outputs": [
    {
     "data": {
      "text/plain": [
       "array([10, 11, 12, 13, 14, 15, 16, 17, 18, 19, 20])"
      ]
     },
     "execution_count": 42,
     "metadata": {},
     "output_type": "execute_result"
    }
   ],
   "source": [
    "np.arange(10, 21)"
   ]
  },
  {
   "cell_type": "markdown",
   "metadata": {},
   "source": [
    "        Genere un arreglo de Numpy con números entre 1 y 30 con incrementos de 4, es decir: [1 5 9....]. Usa la función arange(). Imprime el arreglo.\n"
   ]
  },
  {
   "cell_type": "code",
   "execution_count": 43,
   "metadata": {},
   "outputs": [
    {
     "data": {
      "text/plain": [
       "array([10, 14, 18, 22, 26, 30])"
      ]
     },
     "execution_count": 43,
     "metadata": {},
     "output_type": "execute_result"
    }
   ],
   "source": [
    "np.arange(10, 31, 4)"
   ]
  },
  {
   "cell_type": "markdown",
   "metadata": {},
   "source": [
    "        Genere un arreglo de Numpy con 10 elementos de tipo float entre 10 y 30 igualmente espaciados. Usa la función linspace. Imprime el arreglo.\n"
   ]
  },
  {
   "cell_type": "code",
   "execution_count": 44,
   "metadata": {},
   "outputs": [
    {
     "name": "stdout",
     "output_type": "stream",
     "text": [
      "(array([10.        , 12.22222222, 14.44444444, 16.66666667, 18.88888889,\n",
      "       21.11111111, 23.33333333, 25.55555556, 27.77777778, 30.        ]), 2.2222222222222223)\n"
     ]
    }
   ],
   "source": [
    "a = np.linspace(10, 30, 10, retstep=True)\n",
    "print(a)"
   ]
  },
  {
   "cell_type": "markdown",
   "metadata": {},
   "source": [
    "        Genera un arreglo de Numpy llamado arreglo1 con 6 números aleatorios enteros entre 5 y 15  y genera otro arreglo llamado arreglo2 con 8 números aleatorios enteros entre 30 y 50. Concatena ambos arreglos en un arreglo llamado arreglo3. Imprime los tres arreglos."
   ]
  },
  {
   "cell_type": "code",
   "execution_count": 45,
   "metadata": {},
   "outputs": [
    {
     "name": "stdout",
     "output_type": "stream",
     "text": [
      "Arreglo 1:  [13 15 10 14 14 15]\n",
      "Arreglo 2:  [31 46 31 41 50 33 45 45]\n",
      "Arreglo 3:  [13 15 10 14 14 15 31 46 31 41 50 33 45 45]\n"
     ]
    }
   ],
   "source": [
    "arreglo1 = np.random.randint(5, 16, 6)\n",
    "print(\"Arreglo 1: \", arreglo1)\n",
    "\n",
    "arreglo2 = np.random.randint(30, 51, 8)\n",
    "print(\"Arreglo 2: \", arreglo2)\n",
    "\n",
    "arreglo3 = np.append(arreglo1, arreglo2)\n",
    "print(\"Arreglo 3: \", arreglo3)"
   ]
  },
  {
   "cell_type": "markdown",
   "metadata": {},
   "source": [
    "## Ejercicios con funciones"
   ]
  },
  {
   "cell_type": "markdown",
   "metadata": {},
   "source": [
    "### Ejercicio 1\n",
    "\n",
    "Crea la función suma_impares que recibe un arreglo de números enteros. Utiliza el ciclo for para recorrer todo el arreglo. La función regresa la suma de todos los elementos impares del arreglo.\n"
   ]
  },
  {
   "cell_type": "code",
   "execution_count": 46,
   "metadata": {},
   "outputs": [
    {
     "name": "stdout",
     "output_type": "stream",
     "text": [
      "Arreglo numpy:  [-2  0  4 11 10  0  8  8 11 -4]\n",
      "22\n"
     ]
    }
   ],
   "source": [
    "def suma_impares(arreglo):\n",
    "    suma = 0\n",
    "    for i in arreglo:\n",
    "        if i % 2 != 0:\n",
    "            suma += i\n",
    "    return suma\n",
    "\n",
    "def main():\n",
    "    arreglo = np.random.randint(-5, 12, 10)\n",
    "    print(\"Arreglo numpy: \", arreglo)\n",
    "    print(suma_impares(arreglo))\n",
    "\n",
    "main()"
   ]
  },
  {
   "cell_type": "markdown",
   "metadata": {},
   "source": [
    "### Ejercicio 2\n",
    "\n",
    "Crea la función multiplica_arreglo que recibe un arreglo de números enteros y un valor entero x. La función debe de multiplicar cada localidad del arreglo por x y el resultado de la multiplicación asignarla a su respectiva casilla. Utiliza el ciclo for para recorrer todo el arreglo.\n"
   ]
  },
  {
   "cell_type": "code",
   "execution_count": 47,
   "metadata": {},
   "outputs": [
    {
     "name": "stdout",
     "output_type": "stream",
     "text": [
      "Arreglo numpy:  [11 -1 -5 -1  9  4  1  5  5  4]\n",
      "Número entero:  4\n",
      "[ 44  -4 -20  -4  36  16   4  20  20  16]\n"
     ]
    }
   ],
   "source": [
    "def multiplica_arreglo(arreglo, x):\n",
    "    for i in range(len(arreglo)):\n",
    "        arreglo[i] *= x\n",
    "    return arreglo\n",
    "\n",
    "def main():\n",
    "    arreglo = np.random.randint(-5, 12, 10)\n",
    "    print(\"Arreglo numpy: \", arreglo)\n",
    "    num_entero = int(input(\"Ingrese un número entero: \"))\n",
    "    print(\"Número entero: \", num_entero)\n",
    "    print(multiplica_arreglo(arreglo, num_entero))\n",
    "\n",
    "main()"
   ]
  },
  {
   "cell_type": "markdown",
   "metadata": {},
   "source": [
    "### Ejercicio 3\n",
    "\n",
    "Crea la función cuenta_multiplos que recibe un arreglo de números enteros y un valor entero x. La función deberá regresar el resultado de contar todos los elementos múltiplos de x contenidos en el arreglo. NOTA: Los valores negativos no son contemplados. Utiliza el ciclo for para recorrer todo el arreglo.\n"
   ]
  },
  {
   "cell_type": "code",
   "execution_count": 48,
   "metadata": {},
   "outputs": [
    {
     "name": "stdout",
     "output_type": "stream",
     "text": [
      "Arreglo numpy:  [-3 10 11  0  6 11  4 -2 10  1]\n",
      "Número entero:  2\n",
      "Múltiplos en el arreglo:  4\n"
     ]
    }
   ],
   "source": [
    "def cuenta_multiplos(arreglo, x):\n",
    "    contador = 0\n",
    "    for i in arreglo:\n",
    "        if i % x == 0 and i > 0:\n",
    "            contador += 1\n",
    "    return contador\n",
    "\n",
    "def main():\n",
    "    arreglo = np.random.randint(-5, 12, 10)\n",
    "    print(\"Arreglo numpy: \", arreglo)\n",
    "    num_entero = int(input(\"Ingrese un número entero: \"))\n",
    "    print(\"Número entero: \", num_entero)\n",
    "    print(\"Múltiplos en el arreglo: \", cuenta_multiplos(arreglo, num_entero))\n",
    "\n",
    "main()"
   ]
  }
 ],
 "metadata": {
  "kernelspec": {
   "display_name": "base",
   "language": "python",
   "name": "python3"
  },
  "language_info": {
   "codemirror_mode": {
    "name": "ipython",
    "version": 3
   },
   "file_extension": ".py",
   "mimetype": "text/x-python",
   "name": "python",
   "nbconvert_exporter": "python",
   "pygments_lexer": "ipython3",
   "version": "3.12.7"
  }
 },
 "nbformat": 4,
 "nbformat_minor": 2
}
