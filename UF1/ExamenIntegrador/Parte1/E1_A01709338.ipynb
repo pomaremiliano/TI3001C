{
  "cells": [
    {
      "cell_type": "markdown",
      "metadata": {
        "id": "VFW-JPdmphPH"
      },
      "source": [
        "# Examen Integrador Parte 1\n",
        "- Jorge Emiliano Pomar\n",
        "- A01709338\n",
        "- 18 de marzo de 2025"
      ]
    },
    {
      "cell_type": "markdown",
      "metadata": {
        "id": "Y0OVAeuXp-7R"
      },
      "source": [
        "## Parte 1"
      ]
    },
    {
      "cell_type": "markdown",
      "metadata": {
        "id": "R7vBtw_JqE6K"
      },
      "source": [
        "Agrega un bloque para código en Google Colab.\n",
        "\n",
        "- Define la clase Artículo.\n",
        "- Define el método constructor con los atributos de instancia: codigo (string), titulo (string), año (int), disponible (boolean) y costo (float).\n",
        "- Define el método calcular_precio y dentro del código coloca únicamente pass, ya que este método se redefinirá en las clases hijas.\n",
        "- Define el método mostrar que imprima en dos líneas los valores de los atributos de instancia: codigo, título, anio, disponible y costo, separando cada atributo con una coma (,)\n",
        "- En otro bloque de código define el main, crea un objeto de la clase Artículo como a.\n",
        "-     a = Articulo(\"HPOPF1997\", \"Harry Potter y la piedra filosofal\", \"1997\", True, 621)\n",
        "- Imprime un salto de línea: print()\n",
        "- Imprime el mensaje ARTÍCULO.\n",
        "- Del objeto a:\n",
        "            Llama al método mostrar.\n"
      ]
    },
    {
      "cell_type": "code",
      "execution_count": 1,
      "metadata": {
        "id": "pumJ_-1SpQ9m"
      },
      "outputs": [],
      "source": [
        "class Articulo():\n",
        "  def __init__(self, codigo, titulo, anio, disponible, costo):\n",
        "    self.codigo = codigo\n",
        "    self.titulo = titulo\n",
        "    self.anio = anio\n",
        "    self.disponible = disponible\n",
        "    self.costo = costo\n",
        "\n",
        "  def calcular_precio(self):\n",
        "    pass\n",
        "\n",
        "  def mostrar(self):\n",
        "    return(\n",
        "        \"Codigo: \" + str(self.codigo) + \", \" + \"Titulo: \" + self.titulo + \", \" + \"Año: \" + str(self.anio) + \"\\n\"+ \"Disponible: \" + str(self.disponible) + \", \" + \"Costo: \" + str(self.costo)\n",
        "    )"
      ]
    },
    {
      "cell_type": "code",
      "execution_count": 2,
      "metadata": {
        "colab": {
          "base_uri": "https://localhost:8080/"
        },
        "id": "_k8Dd2jOr4vO",
        "outputId": "a0876f58-fe09-4392-f726-904cfbd93304"
      },
      "outputs": [
        {
          "name": "stdout",
          "output_type": "stream",
          "text": [
            "\n",
            "---- Artículo ----\n",
            "Codigo: HPOPF1997, Titulo: Harry Potter y la piedra filosofal, Año: 1997\n",
            "Disponible: True, Costo: 621\n"
          ]
        }
      ],
      "source": [
        "def main():\n",
        "  a = Articulo(\"HPOPF1997\", \"Harry Potter y la piedra filosofal\", \"1997\", True, 621)\n",
        "  print()\n",
        "  print(\"---- Artículo ----\")\n",
        "  print(a.mostrar())\n",
        "main()"
      ]
    },
    {
      "cell_type": "markdown",
      "metadata": {
        "id": "Flwipz9RslbL"
      },
      "source": [
        "##  Parte 2"
      ]
    },
    {
      "cell_type": "markdown",
      "metadata": {
        "id": "3rhhkDTssq6j"
      },
      "source": [
        "  Agrega un bloque para código en Google Colab.\n",
        "\n",
        "- Define la clase Libro como una clase hija de la clase Articulo.\n",
        "- Define el método constructor con los atributos de instancia de la super clase Articulo y los atributos de instancia de la clase Libro: autor (string) y noPaginas (entero). Define estos atributos como privados (autor y noPaginas)\n",
        "- Dentro del método constructor, asigna el valor de los atributos de instancia: autor y noPaginas y llama a la clase padre Artículo.\n",
        "- Define los métodos getters y setters para manejar los atributos privados de la clase (autor y noPaginas).\n",
        "- Define el método calcular_precio, que regrese el cálculo del precio, que es 10% adicional al costo. Por ejemplo: Si el costo es 1000, el precio de venta sería 10% extra al costo, es decir, 1100.\n",
        "- Define el método mostrar que imprima en tres líneas los valores de los atributos de instancia. Utiliza los métodos getters para obtener los atributos: autor y noPaginas.\n",
        "- En otro bloque de código define el main, crea un objeto de la clase Libro como b.\n",
        "-     b = Libro(\"HPOPF1997\", \"Harry Potter y la piedra filosofal\", \"1997\", True, 621, \"J. K Rowling\", 309)\n",
        "- Del objeto b:\n",
        "-     Imprime el mensaje LIBRO.\n",
        "-     Llama al método mostrar.\n",
        "-     Imprime un salto de línea: print()\n",
        "-     Llama al método calcular_precio e imprime el resultado de la función. El precio del libro hay que imprimirlo con dos decimales.\n",
        "-     Imprime un salto de línea.\n",
        "-     Pide una nuevo autor y modifica el valor del autor.\n",
        "-     Pide una nuevo número de páginas y modifica el valor de noPaginas.\n",
        "-     Imprime un salto de línea.\n",
        "-     Imprime el mensaje LIBRO.\n",
        "-     Llama al método mostrar.\n"
      ]
    },
    {
      "cell_type": "code",
      "execution_count": null,
      "metadata": {
        "id": "wbeg2aKhsjR3"
      },
      "outputs": [],
      "source": [
        "class Libro(Articulo):\n",
        "  def __init__(self, codigo, titulo, anio, disponible, costo, autor, noPaginas):\n",
        "    super().__init__(codigo, titulo, anio, disponible, costo)\n",
        "    self.__autor = autor\n",
        "    self.__noPaginas = noPaginas\n",
        "\n",
        "  def get_autor(self):\n",
        "    return self.__autor\n",
        "\n",
        "  def get_noPaginas(self):\n",
        "    return self.__noPaginas\n",
        "\n",
        "  def set_autor(self, autor):\n",
        "    self.__autor = autor\n",
        "\n",
        "  def set_noPaginas(self, noPaginas):\n",
        "    self.__noPaginas = noPaginas\n",
        "\n",
        "  def calcular_precio(self):\n",
        "    precio = self.costo * 1.10  \n",
        "    return precio \n",
        "  \n",
        "  def mostrar(self):\n",
        "    return (\n",
        "        f\"Codigo: {self.codigo}, Titulo: {self.titulo}, Año: {self.anio}\\n\"\n",
        "        f\"Disponible: {self.disponible}, Costo: {self.costo}\\n\"\n",
        "        f\"Autor: {self.get_autor()}, No. de Páginas: {self.get_noPaginas()}\"\n",
        "    )\n",
        "\n",
        "\n",
        "\n",
        "\n",
        "\n"
      ]
    }
  ],
  "metadata": {
    "colab": {
      "provenance": []
    },
    "kernelspec": {
      "display_name": "base",
      "language": "python",
      "name": "python3"
    },
    "language_info": {
      "codemirror_mode": {
        "name": "ipython",
        "version": 3
      },
      "file_extension": ".py",
      "mimetype": "text/x-python",
      "name": "python",
      "nbconvert_exporter": "python",
      "pygments_lexer": "ipython3",
      "version": "3.12.7"
    }
  },
  "nbformat": 4,
  "nbformat_minor": 0
}
