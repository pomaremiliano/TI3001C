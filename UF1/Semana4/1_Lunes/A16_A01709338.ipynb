{
 "cells": [
  {
   "cell_type": "markdown",
   "metadata": {},
   "source": [
    "# Activad 16 Herencia\n",
    "\n",
    "- A01709338\n",
    "- Jorge Emiliano Pomar\n",
    "- 3 de marzo de 2025\n"
   ]
  },
  {
   "cell_type": "code",
   "execution_count": 21,
   "metadata": {},
   "outputs": [],
   "source": [
    "class Profesor:\n",
    "    def __init__(self, nomina, nombre, edad):\n",
    "        self.nomina = nomina\n",
    "        self.nombre = nombre\n",
    "        self.edad = edad\n",
    "\n",
    "    def pagoMensual():\n",
    "        pass\n",
    "\n",
    "    def mostrar(self):\n",
    "        return (\n",
    "            \"Nomina: \"\n",
    "            + self.nomina\n",
    "            + \"\\n\"\n",
    "            + \"Nombre: \"\n",
    "            + self.nombre\n",
    "            + \"\\n\"\n",
    "            + \"Edad: \"\n",
    "            + str(self.edad)\n",
    "            + \"\\n\"\n",
    "        )"
   ]
  },
  {
   "cell_type": "code",
   "execution_count": null,
   "metadata": {},
   "outputs": [],
   "source": [
    "class Planta(Profesor):\n",
    "    def __init__(self, nomina, nombre, edad, salarioMensual):\n",
    "        super().__init__(nomina, nombre, edad)\n",
    "        self.salarioMensual = salarioMensual\n",
    "\n",
    "    def pagoMensual(self, beneficios):\n",
    "        self.beneficios = beneficios\n",
    "        return self.salarioMensual + self.beneficios\n",
    "\n",
    "    def mostrar(self):\n",
    "        return (\n",
    "            \"Nomina: \"\n",
    "            + self.nomina\n",
    "            + \"\\n\"\n",
    "            + \"Nombre: \"\n",
    "            + self.nombre\n",
    "            + \"\\n\"\n",
    "            + \"Edad: \"\n",
    "            + str(self.edad)\n",
    "            + \"\\n\"\n",
    "            + \"Salario Mensual: \"\n",
    "            + str(self.salarioMensual)\n",
    "        )"
   ]
  },
  {
   "cell_type": "code",
   "execution_count": null,
   "metadata": {},
   "outputs": [],
   "source": [
    "class Catedra(Profesor):\n",
    "    def __init__(self, nomina, nombre, edad, horasTrabajadas, pagoHora):\n",
    "        super().__init__(nomina, nombre, edad)\n",
    "        self.horasTrabajadas = horasTrabajadas\n",
    "        self.pagoHora = pagoHora\n",
    "\n",
    "    def pagoMensual(self, beneficios):\n",
    "        self.beneficios = beneficios\n",
    "        return self.horasTrabajadas * self.pagoHora + self.beneficios\n",
    "\n",
    "    def mostrar(self):\n",
    "        return (\n",
    "            \"Nomina: \"\n",
    "            + self.nomina\n",
    "            + \"\\n\"\n",
    "            + \"Nombre: \"\n",
    "            + self.nombre\n",
    "            + \"\\n\"\n",
    "            + \"Edad: \"\n",
    "            + str(self.edad)\n",
    "            + \"\\n\"\n",
    "            + \"Horas Trabajadas: \"\n",
    "            + str(self.horasTrabajadas)\n",
    "            + \"\\n\"\n",
    "            + \"Pago por Hora: \"\n",
    "            + str(self.pagoHora)\n",
    "        )"
   ]
  },
  {
   "cell_type": "code",
   "execution_count": null,
   "metadata": {},
   "outputs": [
    {
     "name": "stdout",
     "output_type": "stream",
     "text": [
      "--- PROFESOR ---\n",
      "\n",
      "A076545678\n",
      "Juan\n",
      "30\n",
      "Nomina: A076545678\n",
      "Nombre: Juan\n",
      "Edad: 30\n",
      "\n",
      "--- PROFESOR DE PLANTA ---\n",
      "\n",
      "Nomina: A076545678\n",
      "Nombre: Juan\n",
      "Edad: 30\n",
      "Salario Mensual: 25500\n",
      "Pago Mensual Profesor Planta:  26000\n",
      "\n",
      " --- PROFESOR DE CATEDRA ---\n",
      "\n",
      "Pago por Hora Profesor Catedra:  1000\n",
      "Horas Trabajadas Profesor Catedra:  40\n",
      "Nomina: A076545678\n",
      "Nombre: Juan\n",
      "Edad: 30\n",
      "Horas Trabajadas: 40\n",
      "Pago por Hora: 1000\n",
      "Pago Mensual Profesor Catedra:  40800\n"
     ]
    }
   ],
   "source": [
    "def main():\n",
    "    t = Profesor(\"A076545678\", \"Juan\", 30)\n",
    "    print(\"--- PROFESOR ---\\n\")\n",
    "    print(t.nomina)\n",
    "    print(t.nombre)\n",
    "    print(t.edad)\n",
    "    print(t.mostrar())\n",
    "\n",
    "    p = Planta(\"A076545678\", \"Juan\", 30, 25500)\n",
    "    print(\"--- PROFESOR DE PLANTA ---\\n\")\n",
    "    print(p.mostrar())\n",
    "    pagomensualp = p.pagoMensual(500)\n",
    "    print(\"Pago Mensual Profesor Planta: \", pagomensualp)\n",
    "\n",
    "    c = Catedra(\"A076545678\", \"Juan\", 30, 40, 1000)\n",
    "    print(\"\\n --- PROFESOR DE CATEDRA ---\\n\")\n",
    "    print(\"Pago por Hora Profesor Catedra: \", c.pagoHora)\n",
    "    print(\"Horas Trabajadas Profesor Catedra: \", c.horasTrabajadas)\n",
    "    print(c.mostrar())\n",
    "    pagomensualc = c.pagoMensual(800)\n",
    "    print(\"Pago Mensual Profesor Catedra: \", pagomensualc)\n",
    "\n",
    "\n",
    "main()"
   ]
  }
 ],
 "metadata": {
  "kernelspec": {
   "display_name": "base",
   "language": "python",
   "name": "python3"
  },
  "language_info": {
   "codemirror_mode": {
    "name": "ipython",
    "version": 3
   },
   "file_extension": ".py",
   "mimetype": "text/x-python",
   "name": "python",
   "nbconvert_exporter": "python",
   "pygments_lexer": "ipython3",
   "version": "3.12.7"
  }
 },
 "nbformat": 4,
 "nbformat_minor": 2
}
