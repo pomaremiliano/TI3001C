{
 "cells": [
  {
   "cell_type": "markdown",
   "metadata": {},
   "source": [
    "# Clase Herencia\n"
   ]
  },
  {
   "cell_type": "code",
   "execution_count": 31,
   "metadata": {},
   "outputs": [],
   "source": [
    "class Empleado:\n",
    "    def __init__(self, nombre, edad, sueldo):\n",
    "        self.nombre = nombre\n",
    "        self.edad = edad\n",
    "        self.sueldoBase = sueldo\n",
    "\n",
    "    def calcularSueldo(self, descuentos, bonos):\n",
    "        return self.sueldoBase + bonos - descuentos\n",
    "\n",
    "    def mostrarDatos(self):\n",
    "        return (\n",
    "            \"Nombre: \"\n",
    "            + self.nombre\n",
    "            + \" Edad: \"\n",
    "            + str(self.edad)\n",
    "            + \" Sueldo base: \"\n",
    "            + str(self.sueldoBase)\n",
    "        )"
   ]
  },
  {
   "cell_type": "code",
   "execution_count": 34,
   "metadata": {},
   "outputs": [],
   "source": [
    "class AgenteVentas(Empleado):\n",
    "    def __init__(self, nombre, edad, sueldo, mostrador):\n",
    "        super().__init__(nombre, edad, sueldo)\n",
    "        self.numeroMostrador = mostrador\n",
    "\n",
    "    def mostrarDatos(self):\n",
    "        return (\n",
    "            \"Nombre: \"\n",
    "            + self.nombre\n",
    "            + \" Edad: \"\n",
    "            + str(self.edad)\n",
    "            + \" Sueldo base: \"\n",
    "            + str(self.sueldoBase)\n",
    "            + \" Mostrador: \"\n",
    "            + str(self.numeroMostrador)\n",
    "        )"
   ]
  },
  {
   "cell_type": "code",
   "execution_count": 36,
   "metadata": {},
   "outputs": [],
   "source": [
    "class Tripulante(Empleado):\n",
    "    def mostrarRenovacionLicencia(self):\n",
    "        if self.edad < 50:\n",
    "            print(\"Renueva tu licencia cada año\")\n",
    "        else:\n",
    "            print(\"Renueva tu licencia cada 6 meses\")"
   ]
  },
  {
   "cell_type": "code",
   "execution_count": null,
   "metadata": {},
   "outputs": [
    {
     "name": "stdout",
     "output_type": "stream",
     "text": [
      "Nombre:  Juan Perez\n",
      "Edad:  20\n",
      "Sueldo base:  25000\n",
      "Sueldo Neto:  25500\n",
      "Nombre:  Pedro\n",
      "Numero de mostrador:  8\n",
      "Edad:  20\n",
      "Nombre: Pedro Edad: 20 Sueldo base: 30000 Mostrador: 8\n",
      "Nombre: Luisa Lopez Edad: 20 Sueldo base: 28000\n",
      "Renueva tu licencia cada año\n",
      "Sueldo Neto:  27500\n"
     ]
    }
   ],
   "source": [
    "def main():\n",
    "    juan = Empleado(\"Juan Perez\", 20, 25000)\n",
    "    print(\"Nombre: \", juan.nombre)\n",
    "    print(\"Edad: \", juan.edad)\n",
    "    print(\"Sueldo base: \", juan.sueldoBase)\n",
    "    print(\"Sueldo Neto: \", juan.calcularSueldo(500, 1000))\n",
    "\n",
    "    pedro = AgenteVentas(\"Pedro\", 20, 30000, 8)\n",
    "    print(\"Nombre: \", pedro.nombre)\n",
    "    print(\"Numero de mostrador: \", pedro.numeroMostrador)\n",
    "    print(\"Edad: \", pedro.edad)\n",
    "\n",
    "    print(pedro.mostrarDatos())\n",
    "\n",
    "    luisa = Tripulante(\"Luisa Lopez\", 20, 28000)\n",
    "    print(luisa.mostrarDatos())\n",
    "    luisa.mostrarRenovacionLicencia()\n",
    "    sueldo = luisa.calcularSueldo(1000, 500)\n",
    "    print(\"Sueldo Neto: \", sueldo)\n",
    "\n",
    "\n",
    "main()"
   ]
  },
  {
   "cell_type": "code",
   "execution_count": null,
   "metadata": {},
   "outputs": [],
   "source": [
    "class Coche:\n",
    "\n",
    "    ruedas = 4\n",
    "\n",
    "    def __init__(self, color, aceleracion):\n",
    "        self.color = color\n",
    "        self.aceleracion = aceleracion\n",
    "        self.velocidad = 0\n",
    "\n",
    "    def acelera(self):\n",
    "        self.velocidad = self.velocidad + self.aceleracion\n",
    "\n",
    "    def frena(self):\n",
    "        v = self.velocidad - self.aceleracion\n",
    "        if v < 0:\n",
    "            v = 0\n",
    "        self.velocidad = v\n",
    "\n",
    "    def mostrar(self):\n",
    "        return (\n",
    "            \"Color: \"\n",
    "            + self.color\n",
    "            + \"Aceleracion: \"\n",
    "            + str(self.aceleracion)\n",
    "            + \"Velocidad: \"\n",
    "            + str(self.velocidad)\n",
    "        )"
   ]
  },
  {
   "cell_type": "code",
   "execution_count": 52,
   "metadata": {},
   "outputs": [],
   "source": [
    "class CocheVolador(Coche):\n",
    "\n",
    "    ruedas = 6\n",
    "\n",
    "    def __init__(self, color, aceleracion, esta_volando=False):\n",
    "        super().__init__(color, aceleracion)\n",
    "        self.esta_volando = esta_volando\n",
    "\n",
    "    def vuela(self):\n",
    "        self.esta_volando = True\n",
    "\n",
    "    def aterriza(self):\n",
    "        self.esta_volando = False\n",
    "\n",
    "    def mostrar(self):\n",
    "        return (\n",
    "            \" Color: \"\n",
    "            + self.color\n",
    "            + \" Aceleracion: \"\n",
    "            + str(self.aceleracion)\n",
    "            + \" Velocidad: \"\n",
    "            + str(self.velocidad)\n",
    "            + \" Esta volando: \"\n",
    "            + str(self.esta_volando)\n",
    "            + \" Ruedas: \"\n",
    "            + str(CocheVolador.ruedas)\n",
    "        )"
   ]
  },
  {
   "cell_type": "code",
   "execution_count": 53,
   "metadata": {},
   "outputs": [
    {
     "name": "stdout",
     "output_type": "stream",
     "text": [
      "Color: RojoAceleracion: 50Velocidad: 0\n",
      " Color: Azul Aceleracion: 100 Velocidad: 0 Esta volando: False Ruedas: 6\n"
     ]
    }
   ],
   "source": [
    "def main():\n",
    "    c = Coche(\"Rojo\", 50)\n",
    "    print(c.mostrar())\n",
    "    cv = CocheVolador(\"Azul\", 100)\n",
    "    print(cv.mostrar())\n",
    "\n",
    "\n",
    "main()"
   ]
  }
 ],
 "metadata": {
  "kernelspec": {
   "display_name": "base",
   "language": "python",
   "name": "python3"
  },
  "language_info": {
   "codemirror_mode": {
    "name": "ipython",
    "version": 3
   },
   "file_extension": ".py",
   "mimetype": "text/x-python",
   "name": "python",
   "nbconvert_exporter": "python",
   "pygments_lexer": "ipython3",
   "version": "3.12.7"
  }
 },
 "nbformat": 4,
 "nbformat_minor": 2
}
