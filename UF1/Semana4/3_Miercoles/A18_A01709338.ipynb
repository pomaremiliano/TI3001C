{
 "cells": [
  {
   "cell_type": "markdown",
   "metadata": {},
   "source": [
    "# Actividad 18\n",
    "- Jorge Emiliano Pomar \n",
    "- A01709338"
   ]
  },
  {
   "cell_type": "markdown",
   "metadata": {},
   "source": [
    "## Ejercicio 1\n",
    "Crea una expresión regular que encuentre todas las palabras con acentos en mayúsculas. NOTA: Recuerda que las palabras solamente pueden tener una vocal acentuada.\n",
    "![alt text](image-1.png)"
   ]
  },
  {
   "cell_type": "markdown",
   "metadata": {},
   "source": [
    "## Ejercicio 2\n",
    "\n",
    "Crea una expresión regular que encuentre todos los nombres que comiencen con minúsculas y terminen con espacio, salto de línea o tabulación. \n",
    "![alt text](image.png)\n"
   ]
  },
  {
   "cell_type": "markdown",
   "metadata": {},
   "source": [
    "## Ejercicio 3\n",
    "Crea una expresión regular que encuentre todas las direcciones de Internet que comiencen con http o https:// y que terminen con .com:\n",
    "![alt text](image-2.png)"
   ]
  },
  {
   "cell_type": "markdown",
   "metadata": {},
   "source": [
    "## Ejercicio 4\n",
    "Crea una expresión que encuentre todos los números telefónicos que terminen con 2. Los números telefónicos puedes estar separados por espacios, guiones o puntos.\n",
    "![alt text](image-3.png)"
   ]
  },
  {
   "cell_type": "markdown",
   "metadata": {},
   "source": [
    "## Ejercicio 5\n",
    " En Google Colab, en un bloque de código crea una variable de texto con el contenido del texto actividad18.txt:"
   ]
  },
  {
   "cell_type": "code",
   "execution_count": 3,
   "metadata": {},
   "outputs": [],
   "source": [
    "import re \n",
    "texto = \"\"\"\n",
    "Laura Sánchez\n",
    "442-153-32-42\n",
    "laura.sanchez@hotmail-mx.com\n",
    "http://www.laurasan.com\n",
    "\n",
    "Pedro LÓPEZ\n",
    "448 342 33 12\n",
    "pedro-lopez54@gmail.com\n",
    "https://www.pedro.lopez.com.mx\n",
    "\n",
    "Violeta Cortés\n",
    "123.214.43.72\n",
    "violeta_45@outlook.com\n",
    "https://www.violeta.com\n",
    "\n",
    "Juan González\n",
    "345 234-34-12\n",
    "juan_sanchez@gmail.com.mx\n",
    "http://www.juan_sanchez.net\n",
    "\"\"\"\n",
    "\n"
   ]
  },
  {
   "cell_type": "markdown",
   "metadata": {},
   "source": [
    "## Ejercicio 6\n",
    "\n",
    "Define un programa que encuentre todos los correos y los guarde en una lista. Imprime la lista. NOTA: Utiliza el contenido del archivo: actividad18.txt\n"
   ]
  },
  {
   "cell_type": "code",
   "execution_count": 10,
   "metadata": {},
   "outputs": [
    {
     "data": {
      "text/plain": [
       "['laura.sanchez@hotmail-mx.com',\n",
       " 'pedro-lopez54@gmail.com',\n",
       " 'violeta_45@outlook.com',\n",
       " 'juan_sanchez@gmail.com.mx']"
      ]
     },
     "execution_count": 10,
     "metadata": {},
     "output_type": "execute_result"
    }
   ],
   "source": [
    "patron1 = '[a-zA-Z0-9._%+-]+@[a-zA-Z0-9._%+-]*'\n",
    "re.findall(patron1, texto)"
   ]
  },
  {
   "cell_type": "markdown",
   "metadata": {},
   "source": [
    "## Ejercicio 6\n",
    "Define un programa que encuentre todos los teléfonos y los guarde en una lista. Imprime la lista. NOTA: Utiliza el contenido del archivo: actividad18.txt\n"
   ]
  },
  {
   "cell_type": "code",
   "execution_count": 17,
   "metadata": {},
   "outputs": [
    {
     "name": "stderr",
     "output_type": "stream",
     "text": [
      "<>:1: SyntaxWarning: invalid escape sequence '\\d'\n",
      "<>:1: SyntaxWarning: invalid escape sequence '\\d'\n",
      "C:\\Users\\pomar\\AppData\\Local\\Temp\\ipykernel_18748\\3921937538.py:1: SyntaxWarning: invalid escape sequence '\\d'\n",
      "  patron2 = \"\\d{3}[-\\s\\. ]\\d{3}[-\\s\\.]\\d{2}[-\\s\\.]\\d{2}\"\n"
     ]
    },
    {
     "data": {
      "text/plain": [
       "['442-153-32-42', '448 342 33 12', '123.214.43.72', '345 234-34-12']"
      ]
     },
     "execution_count": 17,
     "metadata": {},
     "output_type": "execute_result"
    }
   ],
   "source": [
    "patron2 = \"\\d{3}[-\\s\\. ]\\d{3}[-\\s\\.]\\d{2}[-\\s\\.]\\d{2}\"\n",
    "re.findall(patron2, texto)"
   ]
  },
  {
   "cell_type": "markdown",
   "metadata": {},
   "source": [
    "## Ejercicio 7\n",
    "Define un programa que encuentre todas las palabras que tienen ñ (eñe) dentro de la palabra y las guarde en una lista. Imprime la lista. NOTA: Utiliza el texto del ejemplo.\n"
   ]
  },
  {
   "cell_type": "code",
   "execution_count": null,
   "metadata": {},
   "outputs": [
    {
     "name": "stdout",
     "output_type": "stream",
     "text": [
      "['NIÑO', 'Español']\n"
     ]
    },
    {
     "name": "stderr",
     "output_type": "stream",
     "text": [
      "<>:2: SyntaxWarning: invalid escape sequence '\\w'\n",
      "<>:2: SyntaxWarning: invalid escape sequence '\\w'\n",
      "C:\\Users\\pomar\\AppData\\Local\\Temp\\ipykernel_18748\\3487131436.py:2: SyntaxWarning: invalid escape sequence '\\w'\n",
      "  patron3 = \"\\w*[ñÑ]\\w*\"\n"
     ]
    }
   ],
   "source": [
    "texto2 = \"NIÑO, Acción, Perro, Gato, Expresión, Español\"\n",
    "patron3 = \"\\w*[ñÑ]\\w*\"\n",
    "lista = re.findall(patron3, texto2)\n",
    "print(lista)"
   ]
  }
 ],
 "metadata": {
  "kernelspec": {
   "display_name": "base",
   "language": "python",
   "name": "python3"
  },
  "language_info": {
   "codemirror_mode": {
    "name": "ipython",
    "version": 3
   },
   "file_extension": ".py",
   "mimetype": "text/x-python",
   "name": "python",
   "nbconvert_exporter": "python",
   "pygments_lexer": "ipython3",
   "version": "3.12.7"
  }
 },
 "nbformat": 4,
 "nbformat_minor": 2
}
