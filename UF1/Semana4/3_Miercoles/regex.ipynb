{
 "cells": [
  {
   "cell_type": "markdown",
   "metadata": {},
   "source": [
    "# Clase regex\n",
    "\n",
    "## 5 de marzo de 2025\n"
   ]
  },
  {
   "cell_type": "code",
   "execution_count": 3,
   "metadata": {},
   "outputs": [
    {
     "name": "stdout",
     "output_type": "stream",
     "text": [
      "['es', 'es']\n"
     ]
    }
   ],
   "source": [
    "import re\n",
    "\n",
    "texto = input(\"Dame un texto\")\n",
    "lista = re.findall(\"es\", texto)\n",
    "print(lista)"
   ]
  },
  {
   "cell_type": "code",
   "execution_count": 1,
   "metadata": {},
   "outputs": [
    {
     "name": "stdout",
     "output_type": "stream",
     "text": [
      "['es', 'es']\n"
     ]
    }
   ],
   "source": [
    "import re\n",
    "\n",
    "texto = input(\"Dame un texto\")\n",
    "lista = re.findall(\"es\", texto, flags=re.I)\n",
    "print(lista)"
   ]
  },
  {
   "cell_type": "code",
   "execution_count": 2,
   "metadata": {},
   "outputs": [
    {
     "name": "stdout",
     "output_type": "stream",
     "text": [
      "['Laura Sanchez', 'Pedro Lopez', 'Violeta', 'Hola Mundo']\n"
     ]
    },
    {
     "name": "stderr",
     "output_type": "stream",
     "text": [
      "<>:27: SyntaxWarning: invalid escape sequence '\\w'\n",
      "<>:27: SyntaxWarning: invalid escape sequence '\\w'\n",
      "C:\\Users\\pomar\\AppData\\Local\\Temp\\ipykernel_17176\\2922184478.py:27: SyntaxWarning: invalid escape sequence '\\w'\n",
      "  patron = \"^\\w+\\s?\\w+$\"\n"
     ]
    }
   ],
   "source": [
    "import re\n",
    "\n",
    "texto = \"\"\"\n",
    "Laura Sanchez\n",
    "442 153-32-42\n",
    "laura.sanchez@hotmail-mx.com\n",
    "http://www.laura_sanchez.com\n",
    "\n",
    "Pedro Lopez\n",
    "448 342 33 12\n",
    "pedro-lopez54@gmail.com\n",
    "https://www.pedro.lopez.com.mx\n",
    "\n",
    "Violeta\n",
    "443 214 43 72\n",
    "violeta_45@outlook.com\n",
    "violeta.net\n",
    "\n",
    "Mundo ejecutivo \n",
    "\n",
    "Hola Mundo\n",
    "Me gusta Python!!!!\n",
    "Mi numero telefonico de casa es 442-130-45-12\n",
    "Mi numero telefonico de celular es 442-241-37-46\n",
    "Mi numero telefonico de oficina es 442-380-14-22\n",
    "\"\"\"\n",
    "patron = \"^\\w+\\s?\\w+$\"\n",
    "lista = re.findall(patron, texto, flags=re.M)\n",
    "print(lista)"
   ]
  }
 ],
 "metadata": {
  "kernelspec": {
   "display_name": "base",
   "language": "python",
   "name": "python3"
  },
  "language_info": {
   "codemirror_mode": {
    "name": "ipython",
    "version": 3
   },
   "file_extension": ".py",
   "mimetype": "text/x-python",
   "name": "python",
   "nbconvert_exporter": "python",
   "pygments_lexer": "ipython3",
   "version": "3.12.7"
  }
 },
 "nbformat": 4,
 "nbformat_minor": 2
}
