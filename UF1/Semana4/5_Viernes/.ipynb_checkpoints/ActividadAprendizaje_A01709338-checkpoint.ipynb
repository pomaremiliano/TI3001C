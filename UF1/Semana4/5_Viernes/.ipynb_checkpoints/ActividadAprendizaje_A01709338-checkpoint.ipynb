{
 "cells": [
  {
   "cell_type": "markdown",
   "metadata": {},
   "source": [
    "# Actividad de Aprendizaje 2\n",
    "\n",
    "- Jorge Emiliano Pomar\n",
    "- A01709338\n",
    "- 07 de marzo de 2025\n"
   ]
  },
  {
   "cell_type": "markdown",
   "metadata": {},
   "source": [
    "## Instrucciones: Parte 1\n"
   ]
  },
  {
   "cell_type": "markdown",
   "metadata": {},
   "source": [
    "Una consultora que está desarrollando un sistema para una tienda de aparatos electrónicos, se encuentra planeando la forma de controlar los productos en un sistema de compra-venta y la estructura base que utilizará posee las siguientes clases:\n",
    "\n",
    "En un bloque de código crea la clase Aparato que es la clase base o padre y maneja todas las cuestiones comunes a los aparatos electrónicos. Debe contener, por lo menos, los siguientes atributos:\n",
    "\n",
    "    marca\n",
    "    modelo\n",
    "    precio\n",
    "    ancho\n",
    "    alto\n",
    "    correoSoporte\n",
    "    telefonoSoporte\n",
    "\n",
    "Y los métodos que maneja son:\n",
    "\n",
    "    calcularPrecio(porcentaje): Regresa el precio del producto con una porcentaje de ganancia aplicado al atributo precio. Por ejemplo, si el porcentaje es 10 y el precio 100, el precio que regresaría sería 110.\n",
    "    obtenerDimensiones(): Regresa el ancho y alto del dispositivo en forma de tupla.\n",
    "    mostrar(): Muestra en tres líneas los valores de los atributos de instancia (marca, modelo, precio, ancho, alto, correoSoporte y telefonoSoporte).\n",
    "\n",
    "En otro bloque de código define el main:\n",
    "\n",
    "    Pide los siguientes valores: marca (string), modelo (string), precio (float), ancho (float) y alto (float), correo (string) y telefono (string).\n",
    "\n",
    "    Crea un objeto de la clase Aparato llamado a.\n",
    "    Imprime un salto de línea: print()\n",
    "    Llama al método mostrar del objeto a : a.mostrar()\n",
    "    Imprime un salto de línea: print()\n",
    "    Pide el porcentaje de ganancia.\n",
    "    Llama al método de calcularPrecio(porcentaje) e imprime el resultado.\n",
    "    Llama al método de obtenerDimensiones() e imprime el resultado.\n"
   ]
  },
  {
   "cell_type": "code",
   "execution_count": 4,
   "metadata": {},
   "outputs": [],
   "source": [
    "class Aparato:\n",
    "    def __init__(\n",
    "        self, marca, modelo, precio, ancho, alto, correoSoporte, telefonoSoporte\n",
    "    ):\n",
    "        self.marca = marca\n",
    "        self.modelo = modelo\n",
    "        self.precio = precio\n",
    "        self.ancho = ancho\n",
    "        self.alto = alto\n",
    "        self.correoSoporte = correoSoporte\n",
    "        self.telefonoSoporte = telefonoSoporte\n",
    "\n",
    "    def calcularPrecio(self, porcentaje):\n",
    "        c_precio = self.precio * (1 + porcentaje / 100)\n",
    "        return c_precio\n",
    "\n",
    "    def obtenerDimensiones(self):\n",
    "        return self.ancho, self.alto\n",
    "\n",
    "    def mostrar(self):\n",
    "        return (\n",
    "            \"Marca: \"\n",
    "            + self.marca\n",
    "            + \"Modelo: \"\n",
    "            + self.modelo\n",
    "            + \"Precio: \"\n",
    "            + str(self.precio)\n",
    "            + \"\\n\"\n",
    "            + \"Ancho: \"\n",
    "            + str(self.ancho)\n",
    "            + \"Alto: \"\n",
    "            + str(self.alto)\n",
    "            + \"\\n\"\n",
    "            + \"Correo: \"\n",
    "            + self.correoSoporte\n",
    "            + \"Teléfono: \"\n",
    "            + self.telefonoSoporte\n",
    "        )"
   ]
  },
  {
   "cell_type": "code",
   "execution_count": null,
   "metadata": {},
   "outputs": [
    {
     "name": "stdin",
     "output_type": "stream",
     "text": [
      "Introduce la marca:  Hewlett\n",
      "Introduce el modelo:  A02024\n",
      "Introduce el precio:  25000\n",
      "Introduce el ancho:  30\n",
      "Introduce el alto:  2\n",
      "Introduce el correo:  jperez@tec.mx\n",
      "Introduce el teléfono:  442-230-24-31\n"
     ]
    },
    {
     "name": "stdout",
     "output_type": "stream",
     "text": [
      "Marca: HewlettModelo: A02024Precio: 25000.0\n",
      "Ancho: 30.0Alto: 2.0\n",
      "Correo: jperez@tec.mxTeléfono: 442-230-24-31\n",
      "\n",
      "\n"
     ]
    },
    {
     "name": "stdout",
     "output_type": "stream",
     "text": [
      "Introduce el porcentaje de ganancia:  10\n"
     ]
    },
    {
     "name": "stdout",
     "output_type": "stream",
     "text": [
      "27500.000000000004\n",
      "(30.0, 2.0)\n"
     ]
    },
    {
     "name": "stdout",
     "output_type": "stream",
     "text": [
      "Introduce el porcentaje de ganancia:  10\n"
     ]
    },
    {
     "name": "stdout",
     "output_type": "stream",
     "text": [
      "27500.000000000004\n",
      "(30.0, 2.0)\n"
     ]
    }
   ],
   "source": [
    "def main():\n",
    "    marca = input(\"Introduce la marca: \")\n",
    "    modelo = input(\"Introduce el modelo: \")\n",
    "    precio = float(input(\"Introduce el precio: \"))\n",
    "    ancho = float(input(\"Introduce el ancho: \"))\n",
    "    alto = float(input(\"Introduce el alto: \"))\n",
    "    correo = input(\"Introduce el correo: \")\n",
    "    telefono = input(\"Introduce el teléfono: \")\n",
    "\n",
    "    a = Aparato(marca, modelo, precio, ancho, alto, correo, telefono)\n",
    "    print(a.mostrar())\n",
    "    print(\"\\n\")\n",
    "    porcentaje = float(input(\"Introduce el porcentaje de ganancia: \"))\n",
    "    print(a.calcularPrecio(porcentaje))\n",
    "    obtenDimensiones = a.obtenerDimensiones()\n",
    "    print(obtenDimensiones)\n",
    "\n",
    "\n",
    "main()"
   ]
  },
  {
   "cell_type": "markdown",
   "metadata": {},
   "source": [
    "## Instrucciones: Parte 2\n"
   ]
  },
  {
   "cell_type": "markdown",
   "metadata": {},
   "source": [
    "En un nuevo bloque de código crea la clase Tablet. Esta clase es una clase hija de Aparato y contiene todo lo relacionado con las tablets, por ejemplo:\n",
    "\n",
    "    procesador\n",
    "    tamaño de la RAM (sizeRAM)\n",
    "    tamaño del disco duro (sizeDisco)\n",
    "\n",
    "NOTA: Definir estos tres atributos como privados.\n",
    "\n",
    "Y los métodos que maneja son:\n",
    "\n",
    "    Los getters y setters para manejar sus atributos privados (procesador, sizeRAM y sizeDisco)\n",
    "    getUso() permite clasificar a las tablets en tres categorías:\n",
    "        Para juegos: En caso de que la memoria sea mayor o igual a 32 Gb y que el disco duro sea mayor o igual a 1000 Gigabytes.\n",
    "        Para desarrollo: En caso de que la memoria sea mayor o igual a 8 Gb o que el disco duro sea mayor o igual a 300 Gigabytes.\n",
    "        Para propósito general: En cualquier otro caso\n",
    "\n",
    "Nota: El método getUso() debe regresar un string que contenga Para juegos, Para desarrollo o Para propósito general.\n",
    "\n",
    "    mostrar(): Muestra en cuatro líneas los valores de los atributos de instancia. Utiliza los métodos getters para obtener los atributos: procesador, sizeRAM y sizeDisco.\n",
    "\n",
    "En otro bloque de código define el main:\n",
    "\n",
    "    Crea un objeto de la clase Tablet llamado t.\n",
    "\n",
    "t = Tablet(\"Lenovo\", \"LT1245\", 18999, 25, 1, \"psanchez@lenovo.mx\", \"448-335-5420\",\"Qualcomm\", 8, 256)\n",
    "\n",
    "    Del objeto t:\n",
    "        Llama al método mostrar del objeto t : t.mostrar()\n",
    "        Llama al método getUso()\n",
    "        Imprime un salto de línea: print()\n",
    "        Pide un nuevo valor para el procesador (string) y modifica el valor del procesador.\n",
    "        Pide un nuevo valor para el tamaño en RAM (int) y modifica el valor del sizeRAM.\n",
    "        Pide un nuevo valor para el tamaño en disco (int) y modifica el valor del sizeDisco.\n",
    "        Imprime un salto de línea: print()\n",
    "        Llama al método mostrar del objeto t : t.mostrar()\n"
   ]
  },
  {
   "cell_type": "code",
   "execution_count": null,
   "metadata": {},
   "outputs": [],
   "source": [
    "class Tablet(Aparato):\n",
    "    def __init__(\n",
    "        self,\n",
    "        marca,\n",
    "        modelo,\n",
    "        precio,\n",
    "        ancho,\n",
    "        alto,\n",
    "        correoSoporte,\n",
    "        telefonoSoporte,\n",
    "        procesador,\n",
    "        sizeRAM,\n",
    "        sizeDisco,\n",
    "    ):\n",
    "        super().__init__(\n",
    "            marca, modelo, precio, ancho, alto, correoSoporte, telefonoSoporte\n",
    "        )\n",
    "        self.__procesador = procesador\n",
    "        self.__sizeRAM = sizeRAM\n",
    "        self.__sizeDisco = sizeDisco\n",
    "\n",
    "    def getProcesador(self):\n",
    "        return self.__procesador\n",
    "\n",
    "    def getSizeRAM(self):\n",
    "        return self.__sizeRAM\n",
    "\n",
    "    def getSizeDisco(self):\n",
    "        return self.__sizeDisco\n",
    "\n",
    "    def setProcesador(self, procesador):\n",
    "        self.__procesador = procesador\n",
    "\n",
    "    def setSizeRAM(self, sizeRAM):\n",
    "        self.__sizeRAM = sizeRAM\n",
    "\n",
    "    def setSizeDisco(self, sizeDisco):\n",
    "        self.__sizeDisco = sizeDisco\n",
    "\n",
    "    def getUso(self):\n",
    "        if self.__sizeRAM >= 32 and self.__sizeDisco >= 1000:\n",
    "            return \"Para juegos\"\n",
    "        elif self.__sizeRAM >= 8 or self.__sizeDisco >= 300:\n",
    "            return \"Para desarrollo\"\n",
    "        else:\n",
    "            return \"Para propósito general\"\n",
    "\n",
    "    def mostrar(self):\n",
    "        return (\n",
    "            super().mostrar()\n",
    "            + \"\\n\"\n",
    "            + \"Procesador: \"\n",
    "            + self.getProcesador()\n",
    "            + \",\"\n",
    "            + \"Tamaño de RAM: \"\n",
    "            + str(self.getSizeRAM())\n",
    "            + \",\"\n",
    "            + \"Tamaño de disco: \"\n",
    "            + str(self.getSizeDisco())\n",
    "        )"
   ]
  },
  {
   "cell_type": "code",
   "execution_count": null,
   "metadata": {},
   "outputs": [
    {
     "name": "stdout",
     "output_type": "stream",
     "text": [
      "\n",
      "\n",
      "Marca: LenovoModelo: LT1245Precio: 18999\n",
      "Ancho: 25Alto: 1\n",
      "Correo: psanchez@lenovo.mxTeléfono: 448-335-5420\n",
      "Procesador: IntelTamaño de RAM: 16Tamaño de disco: 500\n"
     ]
    }
   ],
   "source": [
    "def main():\n",
    "    t = Tablet(\n",
    "        \"Lenovo\",\n",
    "        \"LT1245\",\n",
    "        18999,\n",
    "        25,\n",
    "        1,\n",
    "        \"psanchez@lenovo.mx\",\n",
    "        \"448-335-5420\",\n",
    "        \"Qualcomm\",\n",
    "        8,\n",
    "        256,\n",
    "    )\n",
    "    print(t.mostrar())\n",
    "    print(t.getUso())\n",
    "    print(\"\\n\")\n",
    "    procesadorv = input(\"Introduce el valor del procesador: \")\n",
    "    t.setProcesador(procesadorv)\n",
    "    sizeRAMv = int(input(\"Introduce el tamaño de la RAM: \"))\n",
    "    t.setSizeRAM(sizeRAMv)\n",
    "    sizeDiscov = int(input(\"Introduce el tamaño del disco: \"))\n",
    "    t.setSizeDisco(sizeDiscov)\n",
    "    print(\"\\n\")\n",
    "    print(t.mostrar())\n",
    "\n",
    "\n",
    "main()"
   ]
  },
  {
   "cell_type": "markdown",
   "metadata": {},
   "source": [
    "## Instrucciones: Parte 3\n"
   ]
  },
  {
   "cell_type": "markdown",
   "metadata": {},
   "source": [
    "En un nuevo bloque de código crea la clase Disco. Esta clase es una clase hija de Aparato y contiene todo lo relacionado con los discos duros, por ejemplo:\n",
    "\n",
    "- tamaño (size)\n",
    "- velocidad\n",
    "\n",
    "NOTA: Definir estos dos atributos como privados.\n",
    "\n",
    "Y los métodos que maneja son:\n",
    "\n",
    "- Los getters y setters para manejar sus atributos (size y velocidad)\n",
    "\n",
    "- mostrar(): Imprime en cuatro líneas los valores de los atributos de instancia. Utiliza los métodos getters para obtener los atributos: size y velocidad.\n",
    "\n",
    "En otro bloque de código define el main:\n",
    "\n",
    "- Crea un objeto de la clase Disco llamado d.\n",
    "\n",
    "d = Disco(\"Seagate\", \"ST3408\", 1200, 10, 3, \"gjuarez@hotmail.mx\", \"441-435-5435\", 256, 2000)\n",
    "\n",
    "- Del objeto d:\n",
    "  Llama al método mostrar del objeto d\n",
    "  Imprime un salto de línea: print()\n",
    "  Pide un nuevo valor para el tamaño (int) y modifica el valor de size.\n",
    "  Pide un nuevo valor para la velocidad (int) y modifica el valor del velocidad.\n",
    "  Imprime un salto de línea: print()\n",
    "  Llama al método mostrar del objeto d\n"
   ]
  },
  {
   "cell_type": "code",
   "execution_count": null,
   "metadata": {},
   "outputs": [],
   "source": [
    "class Disco(Aparato):\n",
    "    def __init__(\n",
    "        self,\n",
    "        marca,\n",
    "        modelo,\n",
    "        precio,\n",
    "        ancho,\n",
    "        alto,\n",
    "        correoSoporte,\n",
    "        telefonoSoporte,\n",
    "        size,\n",
    "        velocidad,\n",
    "    ):\n",
    "        super().__init__(\n",
    "            marca, modelo, precio, ancho, alto, correoSoporte, telefonoSoporte\n",
    "        )\n",
    "        self.__size = size\n",
    "        self.__velocidad = velocidad\n",
    "\n",
    "    def getSize(self):\n",
    "        return self.__size\n",
    "\n",
    "    def getVelocidad(self):\n",
    "        return self.__velocidad\n",
    "\n",
    "    def setSize(self, size):\n",
    "        self.__size = size\n",
    "\n",
    "    def setVelocidad(self, velocidad):\n",
    "        self.__velocidad = velocidad\n",
    "\n",
    "    def mostrar(self):\n",
    "        return (\n",
    "            super().mostrar()\n",
    "            + \"\\n\"\n",
    "            + \"Tamaño: \"\n",
    "            + str(self.getSize())\n",
    "            + \",\"\n",
    "            + \"Velocidad: \"\n",
    "            + str(self.getVelocidad())\n",
    "        )"
   ]
  },
  {
   "cell_type": "code",
   "execution_count": null,
   "metadata": {},
   "outputs": [],
   "source": [
    "def main():\n",
    "    d = Disco(\"Seagate\", \"ST3408\", 1200, 10, 3, \"gjuarez@hotmail.mx\", \"441-435-5435\", 256, 2000)\n",
    "    print(d.mostrar())\n",
    "    print(\"\\n\")\n",
    "    sizev = int(input(\"Introduce el tamaño: \"))\n",
    "    d.setSize(sizev)\n",
    "    velocidadv = int(input(\"Introduce la velocidad: \"))\n",
    "    d.setVelocidad(velocidadv)\n",
    "    print(\"\\n\")\n",
    "    print(d.mostrar())"
   ]
  }
 ],
 "metadata": {
  "kernelspec": {
   "display_name": "Python 3 (ipykernel)",
   "language": "python",
   "name": "python3"
  },
  "language_info": {
   "codemirror_mode": {
    "name": "ipython",
    "version": 3
   },
   "file_extension": ".py",
   "mimetype": "text/x-python",
   "name": "python",
   "nbconvert_exporter": "python",
   "pygments_lexer": "ipython3",
   "version": "3.12.7"
  }
 },
 "nbformat": 4,
 "nbformat_minor": 4
}
