{
 "cells": [
  {
   "cell_type": "markdown",
   "metadata": {},
   "source": [
    "# Actividad Integradora 2\n",
    "\n",
    "- Jorge Emiliano Pomar\n",
    "- A01709338\n",
    "- 07 de marzo de 2025\n"
   ]
  },
  {
   "cell_type": "code",
   "execution_count": 41,
   "metadata": {},
   "outputs": [],
   "source": [
    "class Empleado:\n",
    "    def __init__(self, nomina, nombre, edad):\n",
    "        self.nomina = nomina\n",
    "        self.nombre = nombre\n",
    "        self.edad = edad\n",
    "\n",
    "    def pagoMensual(self):\n",
    "        pass\n",
    "\n",
    "    def mostrar(self):\n",
    "        print(\n",
    "            \"Nómina: \"\n",
    "            + self.nomina\n",
    "            + \", Nombre: \"\n",
    "            + self.nombre\n",
    "            + \", Edad: \"\n",
    "            + str(self.edad)\n",
    "        )"
   ]
  },
  {
   "cell_type": "code",
   "execution_count": 42,
   "metadata": {},
   "outputs": [],
   "source": [
    "class Asalariado(Empleado):\n",
    "    def __init__(self, nomina, nombre, edad, salarioMensual):\n",
    "        self.__salarioMensual = salarioMensual\n",
    "        super().__init__(nomina, nombre, edad)\n",
    "\n",
    "    def getsalario(self):\n",
    "        return self.__salarioMensual\n",
    "\n",
    "    def setsalario(self, salarioMensual):\n",
    "        self.__salarioMensual = salarioMensual\n",
    "\n",
    "    def pagoMensual(self, beneficios):\n",
    "        return self.__salarioMensual + beneficios\n",
    "\n",
    "    def mostrar(self):\n",
    "        print(\"Nómina: \" + self.nomina + \", Nombre: \" + self.nombre)\n",
    "        print(\n",
    "            \"Edad: \" + str(self.edad) + \", Salario mensual: \" + str(self.getsalario())\n",
    "        )"
   ]
  },
  {
   "cell_type": "code",
   "execution_count": 43,
   "metadata": {},
   "outputs": [],
   "source": [
    "class PorHora(Empleado):\n",
    "    def __init__(self, nomina, nombre, edad, horasTrabajadas, pagoHora):\n",
    "        self.__horasTrabajadas = horasTrabajadas\n",
    "        self.__pagoHora = pagoHora\n",
    "        super().__init__(nomina, nombre, edad)\n",
    "\n",
    "    def gethorasTrabajadas(self):\n",
    "        return self.__horasTrabajadas\n",
    "\n",
    "    def getpagoHora(self):\n",
    "        return self.__pagoHora\n",
    "\n",
    "    def sethorasTrabajadas(self, horasTrabajadas):\n",
    "        self.__horasTrabajadas = horasTrabajadas\n",
    "\n",
    "    def setpagoHora(self, pagoHora):\n",
    "        self.__pagoHora = pagoHora\n",
    "\n",
    "    def pagoMensual(self, beneficios):\n",
    "        return self.__horasTrabajadas * self.__pagoHora + beneficios\n",
    "\n",
    "    def mostrar(self):\n",
    "        print(\n",
    "            \"Nómina: \"\n",
    "            + self.nomina\n",
    "            + \", Nombre: \"\n",
    "            + self.nombre\n",
    "            + \", Edad: \"\n",
    "            + str(self.edad)\n",
    "        )\n",
    "        print(\n",
    "            \"Horas trabajadas: \"\n",
    "            + str(self.gethorasTrabajadas())\n",
    "            + \", Pago por hora: \"\n",
    "            + str(self.getpagoHora())\n",
    "        )"
   ]
  },
  {
   "cell_type": "code",
   "execution_count": 44,
   "metadata": {},
   "outputs": [],
   "source": [
    "import re\n",
    "\n",
    "\n",
    "class Verificador:\n",
    "    def __init__(self, nomina, nombre, edad):\n",
    "        self.nomina = nomina\n",
    "        self.nombre = nombre\n",
    "        self.edad = edad\n",
    "\n",
    "    def verificarNombre(self):\n",
    "        patron = r\"([a-zA-ZáéíóúÁÉÍÓÚñÑ]+[ ]){1,3}[a-zA-ZáéíóúÁÉÍÓÚÑñ]+[ ][a-zA-ZáéíóúÁÉÍÓÚÑñ]+\"\n",
    "        if re.match(patron, self.nombre) != None:\n",
    "            return True\n",
    "        else:\n",
    "            return False\n",
    "\n",
    "    def verificarNomina(self):\n",
    "        patron = r\"[Ll]00\\d{6}\"\n",
    "        if re.match(patron, self.nomina) != None:\n",
    "            return True\n",
    "        else:\n",
    "            return False\n",
    "\n",
    "    def verificaEdad(self):\n",
    "        patron = r\"1[89]|[2-5]\\d|6[0-5]\"\n",
    "        if re.match(patron, str(self.edad)) != None:\n",
    "            return True\n",
    "        else:\n",
    "            return False"
   ]
  },
  {
   "cell_type": "code",
   "execution_count": 45,
   "metadata": {},
   "outputs": [
    {
     "name": "stdout",
     "output_type": "stream",
     "text": [
      "Es válido el nombre: ? True\n",
      "Nomina valida? True\n",
      "Edad valida? False\n"
     ]
    }
   ],
   "source": [
    "def main():\n",
    "    v = Verificador(\"L00784563\", \"Juan Ignacio Salvador Pérez Sánchez\", 5)\n",
    "    print(\"Es válido el nombre: ?\", v.verificarNombre())\n",
    "    print(\"Nomina valida?\", v.verificarNomina())\n",
    "    print(\"Edad valida?\", v.verificaEdad())\n",
    "\n",
    "\n",
    "main()"
   ]
  },
  {
   "cell_type": "code",
   "execution_count": 46,
   "metadata": {},
   "outputs": [],
   "source": [
    "def valida_datos(nomina, nombre, edad):\n",
    "    v = Verificador(nomina, nombre, edad)\n",
    "    if (\n",
    "        v.verificarNombre() == True\n",
    "        and v.verificarNomina() == True\n",
    "        and v.verificaEdad() == True\n",
    "    ):\n",
    "        return True\n",
    "    else:\n",
    "        print(\"Nomina valida?\", v.verificarNomina())\n",
    "        print(\"Es válido el nombre: ?\", v.verificarNombre())\n",
    "        print(\"Edad valida?\", v.verificaEdad())\n",
    "        print()\n",
    "        print(\"Introduce datos válidos\")\n",
    "        return False"
   ]
  },
  {
   "cell_type": "code",
   "execution_count": 48,
   "metadata": {},
   "outputs": [
    {
     "name": "stdout",
     "output_type": "stream",
     "text": [
      "\n",
      "\n",
      "EMPLEADO\n",
      "Nómina: L00638573, Nombre: Juan Lopez Perez, Edad: 25\n",
      "\n",
      "ASALARIADO\n",
      "Nómina: L00638573, Nombre: Juan Lopez Perez\n",
      "Edad: 25, Salario mensual: 30000.0\n",
      "\n",
      "POR HORA\n",
      "Nómina: L00638573, Nombre: Juan Lopez Perez, Edad: 25\n",
      "Horas trabajadas: 48, Pago por hora: 1000.0\n"
     ]
    }
   ],
   "source": [
    "def main():\n",
    "    es_valida = False\n",
    "    while es_valida != True:\n",
    "        print()\n",
    "        nomina = input(\"Introduce la nómina: \")\n",
    "        nombre = input(\"Introduce el nombre: \")\n",
    "        edad = int(input(\"Introduce la edad: \"))\n",
    "        es_valida = valida_datos(nomina, nombre, edad)\n",
    "    print(\"\\nEMPLEADO\")\n",
    "    e = Empleado(nomina, nombre, edad)\n",
    "    e.mostrar() \n",
    "\n",
    "    print(\"\\nASALARIADO\")\n",
    "    salario = float(input(\"Introduce el salario: \"))\n",
    "    a = Asalariado(nomina, nombre, edad, salario)\n",
    "    a.mostrar()\n",
    "    \n",
    "    print(\"\\nPOR HORA\")\n",
    "    horas = int(input(\"Introduce las horas trabajadas: \"))\n",
    "    salario = float(input(\"Introduce el salario por hora: \"))\n",
    "    h = PorHora(nomina, nombre, edad, horas, salario)\n",
    "    h.mostrar()\n",
    "    \n",
    "\n",
    "\n",
    "main()"
   ]
  }
 ],
 "metadata": {
  "kernelspec": {
   "display_name": "base",
   "language": "python",
   "name": "python3"
  },
  "language_info": {
   "codemirror_mode": {
    "name": "ipython",
    "version": 3
   },
   "file_extension": ".py",
   "mimetype": "text/x-python",
   "name": "python",
   "nbconvert_exporter": "python",
   "pygments_lexer": "ipython3",
   "version": "3.12.7"
  }
 },
 "nbformat": 4,
 "nbformat_minor": 2
}
