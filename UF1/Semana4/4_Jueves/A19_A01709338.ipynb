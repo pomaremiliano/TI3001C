{
 "cells": [
  {
   "cell_type": "markdown",
   "metadata": {},
   "source": [
    "# Actividad: Módulo RE\n",
    "- Jorge Emiliano Pomar \n",
    "- A01709338\n",
    "- 06-03-2025\n"
   ]
  },
  {
   "cell_type": "code",
   "execution_count": 1,
   "metadata": {},
   "outputs": [],
   "source": [
    "import re"
   ]
  },
  {
   "cell_type": "markdown",
   "metadata": {},
   "source": [
    "## Ejercicio 1\n",
    "\n",
    "        Define la función es_valido_mail, que recibe un string con una dirección de correo electrónico y regrese True si la dirección IP es válida, de lo contrario regresa False. Utiliza la función match. Define la función main, pide un correo y manda llamar a la función es_valido_mail.\n",
    "\n"
   ]
  },
  {
   "cell_type": "code",
   "execution_count": null,
   "metadata": {},
   "outputs": [
    {
     "name": "stdout",
     "output_type": "stream",
     "text": [
      "Input:  juansanchez.gmail \n",
      "False\n"
     ]
    }
   ],
   "source": [
    "def es_valido_mail(direccion):\n",
    "    patron = r\"[a-zA-Z0-9._%+-]+@[a-zA-Z0-9._%+-]*\"\n",
    "    regex = re.match(patron, direccion)\n",
    "    if regex != None:\n",
    "        return True\n",
    "    else:\n",
    "        return False\n",
    "\n",
    "def main():\n",
    "    mail = input(\"Ingresa el correo electronico: \")\n",
    "    print(\"Input: \", mail)\n",
    "    valida_mail = es_valido_mail(mail)\n",
    "    print(valida_mail)\n",
    "    \n",
    "main()"
   ]
  },
  {
   "cell_type": "markdown",
   "metadata": {},
   "source": [
    "## Ejercicio 2\n",
    "    Define la función reemplaza_acentos que recibe un texto y regresa el texto remplazando todas las vocales acentuadas por asteriscos. Utiliza la función sub. Define la función main, pide un texto y manda llamar a la función reemplaza_acentos e imprime el nuevo texto."
   ]
  },
  {
   "cell_type": "code",
   "execution_count": 6,
   "metadata": {},
   "outputs": [
    {
     "name": "stdout",
     "output_type": "stream",
     "text": [
      "Input:  Hola Salomón, ANDRÉS e Adán, buen DÍA\n",
      "Hola Salom*n, ANDR*S e Ad*n, buen D*A\n"
     ]
    }
   ],
   "source": [
    "def reemplaza_acentos(texto):\n",
    "    patron = \"[áéíóúÁÉÍÓÚ]\"\n",
    "    regex = re.sub(patron, \"*\", texto)\n",
    "    return regex\n",
    "    \n",
    "def main():\n",
    "    texto = input(\"Ingresa un texto: \")\n",
    "    print(\"Input: \", texto)\n",
    "    remp = reemplaza_acentos(texto)\n",
    "    print(remp)\n",
    "    \n",
    "main()"
   ]
  },
  {
   "cell_type": "markdown",
   "metadata": {},
   "source": [
    "## Ejercicio 3\n",
    "    Define la función reemplaza_espacios_slashes que recibe un teléfono y sustituye los espacios y slashes por puntos. Define la función main, pide un texto y manda llamar a la función reemplaza_espacios_slashes e imprime el nuevo texto. Utiliza la función sub."
   ]
  },
  {
   "cell_type": "code",
   "execution_count": 12,
   "metadata": {},
   "outputs": [
    {
     "name": "stdout",
     "output_type": "stream",
     "text": [
      "Input:  442/130/12/80\n",
      "442.130.12.80\n"
     ]
    }
   ],
   "source": [
    "def reemplaza_espacios_slashes(telefono):\n",
    "    patron = r\"[\\s/]\"\n",
    "    regex = re.sub(patron, \".\", telefono)\n",
    "    return regex\n",
    "\n",
    "def main():\n",
    "    phone = input(\"Ingresa un # de telefono: \")\n",
    "    print(\"Input: \", phone)\n",
    "    re = reemplaza_espacios_slashes(phone)\n",
    "\n",
    "    print(re)\n",
    "    \n",
    "main()"
   ]
  },
  {
   "cell_type": "markdown",
   "metadata": {},
   "source": [
    "## Ejercicio 4\n",
    "\n",
    "        Define la función encuentra_palabra que reciba una palabra y un texto y regrese True si encuentra la palabra en el texto. Define la función main, pide una palabra y un texto y manda llamar a la función encuentra_palabra e imprime el resultado de la función. Usa la función search.\n"
   ]
  },
  {
   "cell_type": "code",
   "execution_count": 13,
   "metadata": {},
   "outputs": [
    {
     "name": "stdout",
     "output_type": "stream",
     "text": [
      "Input palabra:  mágica\n",
      "Input texto:  En esta frase se encuentra una palabra mágica\n",
      "True\n"
     ]
    }
   ],
   "source": [
    "def encuentra_palabra(palabra, texto):\n",
    "    regex = re.search(palabra, texto)\n",
    "    if regex != None:\n",
    "        return True\n",
    "    else:\n",
    "        return False\n",
    "    \n",
    "def main():\n",
    "    palabra = input(\"Ingresa una palabra: \")\n",
    "    texto = input(\"Ingresa un texto: \")\n",
    "    print(\"Input palabra: \", palabra)\n",
    "    print(\"Input texto: \", texto)\n",
    "    busca_palabra = encuentra_palabra(palabra, texto)\n",
    "\n",
    "    print(busca_palabra)\n",
    "\n",
    "\n",
    "main()\n"
   ]
  },
  {
   "cell_type": "markdown",
   "metadata": {},
   "source": [
    "## Ejercicio 5\n",
    "\n",
    "\n",
    "        Define la función encuentra_palabra_inicio que reciba una palabra y un texto y regrese True si encuentra la palabra en el inicio del texto. Define la función main, pide una palabra y un texto y manda llamar a la función encuentra_palabra_inicio e imprime el resultado de la función. Usa la función match.\n",
    "\n"
   ]
  },
  {
   "cell_type": "code",
   "execution_count": 21,
   "metadata": {},
   "outputs": [
    {
     "name": "stdout",
     "output_type": "stream",
     "text": [
      "Input palabra:  como\n",
      "Input texto:  Hola como estas el dia de hoy\n",
      "False\n"
     ]
    }
   ],
   "source": [
    "def encuentra_palabra_inicio(palabra, texto):\n",
    "    regex = re.match(palabra, texto)\n",
    "    if regex != None:\n",
    "        return True\n",
    "    else:\n",
    "        return False\n",
    "    \n",
    "def main():\n",
    "    palabra = input(\"Ingresa una palabra: \")\n",
    "    texto = input(\"Ingresa un texto: \")\n",
    "    print(\"Input palabra: \", palabra)\n",
    "    print(\"Input texto: \", texto)\n",
    "    busca_palabra = encuentra_palabra_inicio(palabra, texto)\n",
    "\n",
    "    print(busca_palabra)\n",
    "\n",
    "\n",
    "main()\n"
   ]
  },
  {
   "cell_type": "markdown",
   "metadata": {},
   "source": [
    "## Ejercicio 6\n",
    "    Define la función divide_cadena que reciba un texto, lo divida por puntos y comas y lo regrese en una lista. Define la función main, pide un texto y manda llamar a la función divide_cadena. Usa la función split. "
   ]
  },
  {
   "cell_type": "code",
   "execution_count": 18,
   "metadata": {},
   "outputs": [
    {
     "name": "stdout",
     "output_type": "stream",
     "text": [
      "Input:  Hola mundo, me gusta Python. También me gusta c y c++\n",
      "['Hola mundo', ' me gusta Python', ' También me gusta c y c++']\n"
     ]
    }
   ],
   "source": [
    "def divide_cadena(texto):\n",
    "    patron = r\"[.,]\"\n",
    "    divide = re.split(patron, texto)\n",
    "    return divide\n",
    "\n",
    "def main():\n",
    "    texto = input(\"Ingresa un texto a separar: \")\n",
    "    print(\"Input: \", texto)\n",
    "    divide_texto = divide_cadena(texto)\n",
    "\n",
    "    print(divide_texto)\n",
    "\n",
    "\n",
    "main()"
   ]
  }
 ],
 "metadata": {
  "kernelspec": {
   "display_name": "base",
   "language": "python",
   "name": "python3"
  },
  "language_info": {
   "codemirror_mode": {
    "name": "ipython",
    "version": 3
   },
   "file_extension": ".py",
   "mimetype": "text/x-python",
   "name": "python",
   "nbconvert_exporter": "python",
   "pygments_lexer": "ipython3",
   "version": "3.12.7"
  }
 },
 "nbformat": 4,
 "nbformat_minor": 2
}
