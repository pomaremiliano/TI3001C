{
 "cells": [
  {
   "cell_type": "markdown",
   "metadata": {},
   "source": [
    "# Laboratorio 19\n",
    "\n",
    "- Jorge Emiliano Pomar\n",
    "- A01709338\n",
    "- 6 de marzo de 2025\n"
   ]
  },
  {
   "cell_type": "markdown",
   "metadata": {},
   "source": [
    "## E1\n",
    "\n",
    "Define la función es_valida_fecha, que recibe un string con una fecha y regrese True si la fecha es válida, de lo contrario regresa False. Utiliza la función match. Define la función main, pide una fecha y manda llamar a la función es_valida_fecha.\n"
   ]
  },
  {
   "cell_type": "code",
   "execution_count": 22,
   "metadata": {},
   "outputs": [
    {
     "name": "stdout",
     "output_type": "stream",
     "text": [
      "Input:  08-04-2023\n",
      "True\n"
     ]
    }
   ],
   "source": [
    "import re\n",
    "\n",
    "\n",
    "def es_valida_fecha(fecha):\n",
    "    patron = r\"(0?[1-9]|[12][0-9]|3[01])-(0?[1-9]|[1][012])-((19|20)\\d\\d)\"\n",
    "    regex = re.match(patron, fecha)\n",
    "    while regex != None:\n",
    "        return True\n",
    "    else:\n",
    "        return False\n",
    "\n",
    "\n",
    "def main():\n",
    "    fecha = input(\"Ingresa una fecha: \")\n",
    "    print(\"Input: \", fecha)\n",
    "    valida_fecha = es_valida_fecha(fecha)\n",
    "\n",
    "    print(valida_fecha)\n",
    "\n",
    "\n",
    "main()"
   ]
  },
  {
   "cell_type": "markdown",
   "metadata": {},
   "source": [
    "## E2\n",
    "\n",
    "Define la función es_valido_url, que recibe un string con un url y regrese True si el url es válido, de lo contrario regresa False. Utiliza la función match. Define la función main, pide un url y manda llamar a la función es_valido_url.\n"
   ]
  },
  {
   "cell_type": "code",
   "execution_count": 25,
   "metadata": {},
   "outputs": [
    {
     "name": "stdout",
     "output_type": "stream",
     "text": [
      "Input:  https://www.pedro.lopez.com.mx\n",
      "True\n"
     ]
    }
   ],
   "source": [
    "def es_valido_url(url):\n",
    "    patron = r\"https?:\\/\\/(www\\.)?[a-zA-Z0-9.]+\\.(com|net|com\\.mx)\"\n",
    "    regex = re.match(patron, url)\n",
    "    while regex != None:\n",
    "        return True\n",
    "    else:\n",
    "        return False\n",
    "\n",
    "\n",
    "def main():\n",
    "    link = input(\"Ingresa una url: \")\n",
    "    print(\"Input: \", link)\n",
    "\n",
    "    valida_link = es_valido_url(link)\n",
    "    print(valida_link)\n",
    "\n",
    "\n",
    "main()"
   ]
  }
 ],
 "metadata": {
  "kernelspec": {
   "display_name": "base",
   "language": "python",
   "name": "python3"
  },
  "language_info": {
   "codemirror_mode": {
    "name": "ipython",
    "version": 3
   },
   "file_extension": ".py",
   "mimetype": "text/x-python",
   "name": "python",
   "nbconvert_exporter": "python",
   "pygments_lexer": "ipython3",
   "version": "3.12.7"
  }
 },
 "nbformat": 4,
 "nbformat_minor": 2
}
