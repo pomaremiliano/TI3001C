{
 "cells": [
  {
   "cell_type": "markdown",
   "metadata": {},
   "source": [
    "# Actividad 11 Integradora\n",
    "\n",
    "- Jorge Emiliano Pomar\n",
    "- A01709338\n",
    "- 23 de febrero de 2025\n"
   ]
  },
  {
   "cell_type": "markdown",
   "metadata": {},
   "source": [
    "## Ejercicio 1\n",
    "\n",
    "La función limpia_archivo (nombreO, nombreD) que recibe el nombre del archivo de texto origen y el nombre del archivo de texto destino. La función debe copiar todo el contenido del archivo origen al archivo destino, cuyo contenido final será la copia de todos los caracteres válidos. Si encuentra saltos de línea copia un espacio en blanco.\n",
    "\n",
    "caracteres_validos = \" abcdefghijklmnopqrstuvwxyzñáéíóú0123456789\"\n",
    "\n",
    "En el main, solicitar el nombre del archivo de texto origen (prueba.txt) y el nombre del archivo de texto destino (copia.txt).\n"
   ]
  },
  {
   "cell_type": "code",
   "execution_count": 10,
   "metadata": {},
   "outputs": [],
   "source": [
    "def limpia_archivo(nombreO, nombreD):\n",
    "    origen = open(nombreO, \"r\")\n",
    "    destino = open(nombreD, \"w\")\n",
    "    caracteres_validos = \" abcdefghijklmnopqrstuvwxyzñáéíóú0123456789\"\n",
    "\n",
    "    contenido = origen.read(1)\n",
    "    while contenido != \"\":\n",
    "        if contenido.lower() in caracteres_validos:\n",
    "            destino.write(contenido)\n",
    "        elif contenido == \"\\n\":\n",
    "            destino.write(\" \")\n",
    "        contenido = origen.read(1)\n",
    "\n",
    "    origen.close()\n",
    "    destino.close()\n"
   ]
  },
  {
   "cell_type": "code",
   "execution_count": 11,
   "metadata": {},
   "outputs": [],
   "source": [
    "def crea_lista_palabras(nombre):\n",
    "    file = open(nombre, \"r\")\n",
    "    palabras = []\n",
    "    linea = file.readline()\n",
    "\n",
    "    while linea != \"\":\n",
    "        palabras.append(linea.split(\" \"))\n",
    "        linea = file.readline()\n",
    "    file.close()\n",
    "    return palabras"
   ]
  },
  {
   "cell_type": "code",
   "execution_count": 12,
   "metadata": {},
   "outputs": [],
   "source": [
    "def suma_caracteres(lista):\n",
    "    cont = 0\n",
    "    for palabra in lista:\n",
    "        cont += len(palabra)\n",
    "    return cont"
   ]
  },
  {
   "cell_type": "code",
   "execution_count": 15,
   "metadata": {},
   "outputs": [],
   "source": [
    "def cuenta_vocales(lista):\n",
    "    vocales_minusculas = \"aeiouáéíóú\"\n",
    "    vocales_mayusculas = vocales_minusculas.upper()\n",
    "    v_min = 0\n",
    "    v_may = 0\n",
    "\n",
    "    for palabra in lista:\n",
    "        if palabra: \n",
    "            if palabra[0] in vocales_minusculas:\n",
    "                v_min += 1\n",
    "            elif palabra[0] in vocales_mayusculas:\n",
    "                v_may += 1\n",
    "\n",
    "    return (v_min, v_may)\n",
    "\n"
   ]
  },
  {
   "cell_type": "code",
   "execution_count": null,
   "metadata": {},
   "outputs": [],
   "source": []
  },
  {
   "cell_type": "code",
   "execution_count": 16,
   "metadata": {},
   "outputs": [
    {
     "name": "stdout",
     "output_type": "stream",
     "text": [
      "[['Hola', 'a', 'todos', 'Ana', 'Ernesto', 'Ignacio', 'Octavio', 'y', 'Umbelina', 'Me', 'da', 'un', 'super', 'gustos', 'saludarlos', 'aunque', 'tenga', 'que', 'retirarme', 'en', 'poco', 'tiempo', 'Espero', 'verlos', 'pronto']]\n",
      "\n",
      "El total de caracteres es: 25\n",
      "Vocales minusculas, Vocales mayusculas (0, 0)\n"
     ]
    }
   ],
   "source": [
    "def main():\n",
    "    nombreO = input(\"Ingrese el nombre del archivo origen: \")\n",
    "    nombreD = input(\"Ingrese el nombre del archivo destino: \")\n",
    "    limpia_archivo(nombreO, nombreD)\n",
    "    lista_palabras = crea_lista_palabras(nombreD)\n",
    "    print(lista_palabras)\n",
    "\n",
    "    total_caracteres = suma_caracteres(lista_palabras)\n",
    "    print(\"\\nEl total de caracteres es: %i\" % (total_caracteres))\n",
    "    \n",
    "    tupla = cuenta_vocales(lista_palabras)\n",
    "    print(\"Vocales minusculas, Vocales mayusculas\", tupla)\n",
    "\n",
    "main()"
   ]
  },
  {
   "cell_type": "code",
   "execution_count": null,
   "metadata": {},
   "outputs": [],
   "source": [
    "# obtener el promedio de palabras que tiene la lista recibida \n",
    "def obtiene_palabras(lista):\n",
    "  cont = 0\n",
    "  for palabra in lista:\n",
    "    cont = cont + len(palabra)"
   ]
  },
  {
   "cell_type": "code",
   "execution_count": null,
   "metadata": {},
   "outputs": [],
   "source": [
    "#La función digitos_consonantes que reciba la lista de palabras y regrese una tupla con dos valores: el primero representa la cantidad de palabras que comienzan con un digito y el segundo representa la cantidad de palabras que comienzan con una consonante (minúsculas y mayúsculas).\n",
    "\n",
    "def digitos_consonantes(lista):\n",
    "  digitos = '0123456789'\n",
    "  vocales_minusculas = \"aeiouáéíóú\"\n",
    "  vocales_mayusculas = vocales_minusculas.upper()\n",
    "  num_digitos = 0\n",
    "  num_consonantes = 0\n",
    "\n",
    "  for palabra in lista: \n",
    "    if palabra[0] in digitos:\n",
    "      num_digitos += 1\n",
    "    elif palabra[0].lower() not in vocales_minusculas:\n",
    "      num_consonantes += 1\n",
    "\n",
    "  return (num_digitos, num_consonantes)"
   ]
  },
  {
   "cell_type": "code",
   "execution_count": null,
   "metadata": {},
   "outputs": [],
   "source": [
    "##La función cuenta_caracteres que imprime el conteo de comillas, dígitos y signos de interrogación que se utilizaron en el archivo de texto. Los signos a contar son: \n",
    "\n",
    "    #Comillas (\")\n",
    "    #Dígitos (0 al 9)\n",
    "    #Signo de interrogación abierto (¿)\n",
    "    #Signo de interrogación cerrado (?) \n",
    "\n",
    "\n",
    "def cuenta_caracteres(nombre):\n",
    "  file = open(nombre, \"r\")\n",
    "  ncomillas = 0\n",
    "  ndigitos = 0\n",
    "  nsignos = 0\n",
    "  c = file.read(1)\n",
    "  while c != \"\":\n",
    "    if c == '\"':\n",
    "      ncomillas += 1\n",
    "    elif c.isdigit():\n",
    "      ndigitos += 1\n",
    "    elif c in \"¿?\":\n",
    "      nsignos += 1\n",
    "    c = file.read(1)\n",
    "  file.close()\n",
    "  print('Comillas:', ncomillas)\n",
    "  print('Dígitos:', ndigitos)\n",
    "  print('Signos de interrogación:', nsignos)"
   ]
  },
  {
   "cell_type": "code",
   "execution_count": null,
   "metadata": {},
   "outputs": [],
   "source": [
    "consonants = list(\"bcdfghjklmnpqrstvwxyzBCDFGHJKLMNPQRSTVWXYZ\")\n",
    "print(consonants)"
   ]
  }
 ],
 "metadata": {
  "kernelspec": {
   "display_name": "base",
   "language": "python",
   "name": "python3"
  },
  "language_info": {
   "codemirror_mode": {
    "name": "ipython",
    "version": 3
   },
   "file_extension": ".py",
   "mimetype": "text/x-python",
   "name": "python",
   "nbconvert_exporter": "python",
   "pygments_lexer": "ipython3",
   "version": "3.12.7"
  }
 },
 "nbformat": 4,
 "nbformat_minor": 2
}
