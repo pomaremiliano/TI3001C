{
 "cells": [
  {
   "cell_type": "markdown",
   "metadata": {},
   "source": [
    "# Actividad 15 Encapsulación\n",
    "\n",
    "- Jorge Emiliano Pomar Mendoza\n",
    "- A01709338\n",
    "- 28 de febrero de 2025\n"
   ]
  },
  {
   "cell_type": "code",
   "execution_count": 2,
   "metadata": {},
   "outputs": [],
   "source": [
    "class Perro:\n",
    "    __especie = \"mamífero\"\n",
    "\n",
    "    def __init__(self, nombre, edad):\n",
    "        self.__nombre = nombre\n",
    "        self.__edad = edad\n",
    "        self.__alimentos = []\n",
    "\n",
    "    def esAlimentoFavorito(self, alimento):\n",
    "        if alimento in self.__alimentos:\n",
    "            return True\n",
    "        else:\n",
    "            return False\n",
    "\n",
    "    def verEtapaDeVida(self):\n",
    "        if self.__edad > 2:\n",
    "            print(self.__nombre, \"es adulto\")\n",
    "        else:\n",
    "            print(self.__nombre, \"es cachorro\")\n",
    "\n",
    "    def getnombre(self):\n",
    "        return self.__nombre\n",
    "\n",
    "    def setnombre(self, nombre):\n",
    "        self.__nombre = nombre\n",
    "\n",
    "    def getedad(self):\n",
    "        return self.__edad\n",
    "\n",
    "    def setedad(self, edad):\n",
    "        self.__edad = edad\n",
    "\n",
    "    def getalimentos(self):\n",
    "        return self.__alimentos\n",
    "\n",
    "    def setalimentos(self, alimentos):\n",
    "        self.__alimentos = alimentos\n",
    "\n",
    "    def getespecie(self):\n",
    "        return self.__especie\n",
    "\n",
    "    def setespecie(self, especie):\n",
    "        self.__especie = especie\n",
    "\n",
    "    def mostrar(self):\n",
    "        return (\"-----------------------\\n\"\n",
    "                \"| Información del perro |\\n\"\n",
    "                \"-----------------------\\n\"\n",
    "                \"| Nombre:   \" + self.__nombre + \" |\\n\"\n",
    "                \"| Edad:     \" + str(self.__edad) + \" |\\n\"\n",
    "                \"| Alimentos: \" + str(self.__alimentos) + \" |\\n\"\n",
    "                \"| Especie:  \" + self.__especie + \" |\\n\"\n",
    "                \"-----------------------\")"
   ]
  },
  {
   "cell_type": "code",
   "execution_count": 3,
   "metadata": {
    "editable": true,
    "slideshow": {
     "slide_type": ""
    },
    "tags": []
   },
   "outputs": [
    {
     "name": "stdout",
     "output_type": "stream",
     "text": [
      "-----------------------\n",
      "| Información del perro |\n",
      "-----------------------\n",
      "| Nombre:   Jefe |\n",
      "| Edad:     3 |\n",
      "| Alimentos: [] |\n",
      "| Especie:  mamífero |\n",
      "-----------------------\n"
     ]
    },
    {
     "name": "stdin",
     "output_type": "stream",
     "text": [
      "Introduce un nuevo nombre:  Elemento\n",
      "Introduce una nueva edad:  1\n"
     ]
    },
    {
     "name": "stdout",
     "output_type": "stream",
     "text": [
      "Elemento es cachorro\n"
     ]
    },
    {
     "name": "stdin",
     "output_type": "stream",
     "text": [
      "Introduce un alimento para verificar si es favorito:  Pescado\n"
     ]
    },
    {
     "name": "stdout",
     "output_type": "stream",
     "text": [
      "¿Es alimento favorito? True\n",
      "-----------------------\n",
      "| Información del perro |\n",
      "-----------------------\n",
      "| Nombre:   Elemento |\n",
      "| Edad:     1 |\n",
      "| Alimentos: ['Carne', 'Pescado', 'Huevos', 'Huesos'] |\n",
      "| Especie:  mamífero |\n",
      "-----------------------\n"
     ]
    }
   ],
   "source": [
    "def main():\n",
    "    perro1 = Perro(\"Jefe\", 3)\n",
    "\n",
    "    print(perro1.mostrar())\n",
    "\n",
    "    nuevo_nombre = input(\"Introduce un nuevo nombre: \")\n",
    "    nueva_edad = int(input(\"Introduce una nueva edad: \"))\n",
    "    nueva_lista_alimentos = [\"Carne\", \"Pescado\", \"Huevos\", \"Huesos\"]\n",
    "\n",
    "    perro1.setnombre(nuevo_nombre)\n",
    "    perro1.setedad(nueva_edad)\n",
    "    perro1.setalimentos(nueva_lista_alimentos)\n",
    "\n",
    "    perro1.verEtapaDeVida()\n",
    "\n",
    "    alimento = input(\"Introduce un alimento para verificar si es favorito: \")\n",
    "    print(\"¿Es alimento favorito?\", perro1.esAlimentoFavorito(alimento))\n",
    "\n",
    "    print(perro1.mostrar())\n",
    "\n",
    "\n",
    "main()"
   ]
  }
 ],
 "metadata": {
  "kernelspec": {
   "display_name": "Python [conda env:base] *",
   "language": "python",
   "name": "conda-base-py"
  },
  "language_info": {
   "codemirror_mode": {
    "name": "ipython",
    "version": 3
   },
   "file_extension": ".py",
   "mimetype": "text/x-python",
   "name": "python",
   "nbconvert_exporter": "python",
   "pygments_lexer": "ipython3",
   "version": "3.12.7"
  }
 },
 "nbformat": 4,
 "nbformat_minor": 4
}
