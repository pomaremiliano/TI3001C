{
 "cells": [
  {
   "cell_type": "markdown",
   "metadata": {},
   "source": [
    "# Actividad OO\n",
    "\n",
    "- Jorge Emiliano Pomar A01709338\n",
    "- 27 de febrero de 2025\n"
   ]
  },
  {
   "cell_type": "code",
   "execution_count": 15,
   "metadata": {},
   "outputs": [],
   "source": [
    "class Coche:\n",
    "\n",
    "    ruedas = 4\n",
    "\n",
    "    def __init__(self, color, aceleracion):\n",
    "        self.color = color\n",
    "        self.aceleracion = aceleracion\n",
    "        self.velocidad = 0\n",
    "\n",
    "    def acelera(self):\n",
    "        self.velocidad = self.velocidad + self.aceleracion\n",
    "\n",
    "    def frena(self):\n",
    "        v = self.velocidad - self.aceleracion\n",
    "        if v < 0:\n",
    "            v = 0\n",
    "        self.velocidad = v\n",
    "    \n",
    "    def mostrar(self):\n",
    "        return (\n",
    "            \"Color: \" + self.color + \" Ruedas: \" + str(self.ruedas) + \" Velocidad: \" + str(self.velocidad) + \" Aceleracion: \" + str(self.aceleracion)\n",
    "        )"
   ]
  },
  {
   "cell_type": "code",
   "execution_count": 16,
   "metadata": {},
   "outputs": [
    {
     "name": "stdout",
     "output_type": "stream",
     "text": [
      "Color:  rojo\n",
      "Ruedas:  4\n",
      "Velocidad 0\n",
      "Velocidad 20\n",
      "Color:  azul\n",
      "Ruedas:  4\n",
      "Marchas:  6\n",
      "Ruedas coche 1:  4\n",
      "Ruedas coche 2:  4\n",
      "Ruedas coche 1:  6\n",
      "Ruedas coche 2:  6\n",
      "Color: rojo Ruedas: 6 Velocidad: 20 Aceleracion: 20\n",
      "Color: azul Ruedas: 6 Velocidad: 0 Aceleracion: 30\n"
     ]
    }
   ],
   "source": [
    "def main():\n",
    "    c1 = Coche('rojo', 20) \n",
    "    print(\"Color: \", c1.color) \n",
    "    print(\"Ruedas: \", c1.ruedas)\n",
    "    \n",
    "    print(\"Velocidad\", c1.velocidad)\n",
    "    c1.acelera()\n",
    "    print(\"Velocidad\", c1.velocidad)\n",
    "\n",
    "    c2 = Coche('azul', 30) \n",
    "    print(\"Color: \", c2.color)\n",
    "    print(\"Ruedas: \", c2.ruedas)\n",
    "    \n",
    "    c1.marchas = 6\n",
    "    print(\"Marchas: \", c1.marchas)\n",
    "    \n",
    "    ## print(\"Marchas: \", c2.marchas)\n",
    "    \n",
    "    print(\"Ruedas coche 1: \", c1.ruedas)\n",
    "    print(\"Ruedas coche 2: \", c2.ruedas)\n",
    "    Coche.ruedas = 6\n",
    "    print(\"Ruedas coche 1: \", c1.ruedas)\n",
    "    print(\"Ruedas coche 2: \", c2.ruedas)\n",
    "    \n",
    "    print(c1.mostrar())\n",
    "    print(c2.mostrar())\n",
    "\n",
    "    \n",
    "main()"
   ]
  }
 ],
 "metadata": {
  "kernelspec": {
   "display_name": "base",
   "language": "python",
   "name": "python3"
  },
  "language_info": {
   "codemirror_mode": {
    "name": "ipython",
    "version": 3
   },
   "file_extension": ".py",
   "mimetype": "text/x-python",
   "name": "python",
   "nbconvert_exporter": "python",
   "pygments_lexer": "ipython3",
   "version": "3.12.7"
  }
 },
 "nbformat": 4,
 "nbformat_minor": 2
}
