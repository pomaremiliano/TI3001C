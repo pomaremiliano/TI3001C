{
 "cells": [
  {
   "cell_type": "markdown",
   "metadata": {},
   "source": [
    "# Clase **P**rogramación **O**rientada a **O**bjetos en **P**ython\n"
   ]
  },
  {
   "cell_type": "code",
   "execution_count": 38,
   "metadata": {},
   "outputs": [
    {
     "name": "stdout",
     "output_type": "stream",
     "text": [
      "y otro valor\n"
     ]
    }
   ],
   "source": [
    "class Ejemplo:\n",
    "    def __init__(self, parametro1, parametro2):\n",
    "        self.atributo1 = parametro1\n",
    "        self.atributo2 = parametro2\n",
    "\n",
    "\n",
    "def main():\n",
    "    un_ejemplo = Ejemplo(\"un valor\", \"otro valor\")\n",
    "    un_ejemplo.atributo3 = \"y otro valor\"\n",
    "    print(un_ejemplo.atributo3)\n",
    "\n",
    "\n",
    "main()"
   ]
  },
  {
   "cell_type": "code",
   "execution_count": 39,
   "metadata": {},
   "outputs": [
    {
     "name": "stdout",
     "output_type": "stream",
     "text": [
      "un valor\n",
      "otro valor\n",
      "y otro valor\n"
     ]
    }
   ],
   "source": [
    "class Ejemplo:\n",
    "    def __init__(self, parametro1, parametro2):\n",
    "        self.atributo1 = parametro1\n",
    "        self.atributo2 = \"otro valor\"\n",
    "\n",
    "\n",
    "def main():\n",
    "    un_ejemplo = Ejemplo(\"un valor\", \"otro valor\")\n",
    "    print(un_ejemplo.atributo1)\n",
    "    print(un_ejemplo.atributo2)\n",
    "    un_ejemplo.atributo3 = \"y otro valor\"\n",
    "    print(un_ejemplo.atributo3)\n",
    "\n",
    "\n",
    "main()"
   ]
  },
  {
   "cell_type": "code",
   "execution_count": 40,
   "metadata": {},
   "outputs": [],
   "source": [
    "class Gato:\n",
    "    especie = \"mamifero\"\n",
    "\n",
    "    def __init__(self, nombre, edad):\n",
    "        self.nombre = nombre\n",
    "        self.edad = edad\n",
    "        self.alimentos = []\n",
    "\n",
    "    def verEtapaDeVida(self):\n",
    "        if self.edad > 1:\n",
    "            print(self.nombre, \"es adulto\")\n",
    "        else:\n",
    "            print(self.nombre, \"es cachorro\")\n",
    "\n",
    "    def esAlimentoFavorito(self, alimento):\n",
    "        if alimento in self.alimentos:\n",
    "            return True\n",
    "        else:\n",
    "            return False\n",
    "\n",
    "    def mostrar(self):\n",
    "        return (\n",
    "            \"Nombre\"\n",
    "            + self.nombre\n",
    "            + \"Edad: \"\n",
    "            + str(self.edad)\n",
    "            + \"Alimentos: \"\n",
    "            + str(self.alimentos)\n",
    "            + \"Especie: \"\n",
    "            + Gato.especie\n",
    "        )\n",
    "        \n",
    "        "
   ]
  },
  {
   "cell_type": "code",
   "execution_count": 41,
   "metadata": {},
   "outputs": [
    {
     "name": "stdout",
     "output_type": "stream",
     "text": [
      "Nombre:  Tomás\n",
      "Edad:  1\n",
      "Raza:  Angora\n",
      "Alimentos:  ['Atun', 'Whiskas', 'Pollito']\n",
      "Tomás es cachorro\n",
      "Pollito alimento es favorito? True\n",
      "Especie mamifero\n",
      "\n",
      "Nombre:  Pelos\n",
      "Nombre:  5\n",
      "Alimentos:  ['Leche', 'Huevo', 'Carne']\n",
      "Pelos es adulto\n",
      "Especie mamifero\n",
      "NombreTomásEdad: 1Alimentos: ['Atun', 'Whiskas', 'Pollito']Especie: mamifero\n",
      "NombrePelosEdad: 5Alimentos: ['Leche', 'Huevo', 'Carne']Especie: mamifero\n"
     ]
    }
   ],
   "source": [
    "def main():\n",
    "    gatito = Gato(\"Tomás\", 1)\n",
    "    print(\"Nombre: \", gatito.nombre)\n",
    "    print(\"Edad: \", gatito.edad)\n",
    "    gatito.raza = \"Angora\"\n",
    "    print(\"Raza: \", gatito.raza)\n",
    "    gatito.alimentos.append(\"Atun\")\n",
    "    gatito.alimentos.append(\"Whiskas\")\n",
    "    gatito.alimentos.append(\"Pollito\")\n",
    "    print(\"Alimentos: \", gatito.alimentos)\n",
    "    gatito.verEtapaDeVida()\n",
    "    alimento = input(\"Dame un alimento: \")\n",
    "    print(alimento, \"alimento es favorito?\", (gatito.esAlimentoFavorito(alimento)))\n",
    "    print(\"Especie\", gatito.especie)\n",
    "\n",
    "    print()\n",
    "    gatote = Gato(\"Pelos\", 5)\n",
    "    print(\"Nombre: \", gatote.nombre)\n",
    "    print(\"Nombre: \", gatote.edad)\n",
    "    gatote.alimentos = [\"Leche\", \"Huevo\", \"Carne\"]\n",
    "    print(\"Alimentos: \", gatote.alimentos)\n",
    "    gatote.verEtapaDeVida()\n",
    "    print(\"Especie\", gatote.especie)\n",
    "\n",
    "    print(gatito.mostrar())\n",
    "    print(gatote.mostrar())\n",
    "\n",
    "main()"
   ]
  }
 ],
 "metadata": {
  "kernelspec": {
   "display_name": "base",
   "language": "python",
   "name": "python3"
  },
  "language_info": {
   "codemirror_mode": {
    "name": "ipython",
    "version": 3
   },
   "file_extension": ".py",
   "mimetype": "text/x-python",
   "name": "python",
   "nbconvert_exporter": "python",
   "pygments_lexer": "ipython3",
   "version": "3.12.7"
  }
 },
 "nbformat": 4,
 "nbformat_minor": 2
}
