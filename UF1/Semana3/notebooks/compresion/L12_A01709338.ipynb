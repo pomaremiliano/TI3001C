{
 "cells": [
  {
   "cell_type": "markdown",
   "metadata": {},
   "source": [
    "# Laboratorio 12 Listas de compresión\n",
    "\n",
    "- Jorge Emiliano Pomar\n",
    "- A01709338\n",
    "- 26 de febrero de 2025\n"
   ]
  },
  {
   "cell_type": "markdown",
   "metadata": {},
   "source": [
    "## Ejericio 1\n",
    "\n",
    "- La función mayor_numero que recibe un número. La función deberá regresar una lista de números mayores al número que llega como parámetro de una lista de números de entre 1 y 10. Realiza esta función con el método tradicional.\n",
    "\n",
    "  mayor_numero(5) regresaría: [6, 7, 8, 9, 10]\n",
    "  mayor_numero(8) regresaría: [9, 10]\n"
   ]
  },
  {
   "cell_type": "code",
   "execution_count": null,
   "metadata": {},
   "outputs": [
    {
     "name": "stdout",
     "output_type": "stream",
     "text": [
      "[5, 6, 7, 8, 9, 10]\n"
     ]
    }
   ],
   "source": [
    "def mayor_numero(n):\n",
    "    lista = []\n",
    "    for i in range(0, 11):\n",
    "        if i > n:\n",
    "            lista.append(i)\n",
    "    return lista\n",
    "\n",
    "\n",
    "def main():\n",
    "    n = int(input(\"Ingrese un número: \"))\n",
    "    print(mayor_numero(n))\n",
    "\n",
    "\n",
    "main()"
   ]
  },
  {
   "cell_type": "markdown",
   "metadata": {},
   "source": [
    "## Ejercicio 2\n",
    "\n",
    "- Define la función mayor_numero2 haciendo uso de listas de compresión.\n"
   ]
  },
  {
   "cell_type": "code",
   "execution_count": null,
   "metadata": {},
   "outputs": [
    {
     "name": "stdout",
     "output_type": "stream",
     "text": [
      "[5, 6, 7, 8, 9, 10]\n"
     ]
    }
   ],
   "source": [
    "def mayor_numero2(n):\n",
    "    return [i for i in range(11) if i > n]\n",
    "\n",
    "\n",
    "def main():\n",
    "    n = int(input(\"Ingrese un número: \"))\n",
    "    print(mayor_numero2(n))\n",
    "\n",
    "\n",
    "main()"
   ]
  },
  {
   "cell_type": "markdown",
   "metadata": {},
   "source": [
    "## Ejericio 3\n",
    "- La función frutas_con_letra que recibe una lista de frutas y una letra. La función deberá regresar una nueva lista de frutas que contegan la letra que llegó como parámetro. Realiza esta función con el método tradicional.\n",
    "\n",
    "        frutas = [\"Manzana\", \"Plátano\", \"Sandía\", \"Melón\", \"Papaya\"]\n",
    "\n",
    "        Si la letra es 'a' regresaría: [\"Manzana\", \"Plátano\", \"Sandía\", \"Papaya\"]"
   ]
  },
  {
   "cell_type": "code",
   "execution_count": 13,
   "metadata": {},
   "outputs": [
    {
     "name": "stdout",
     "output_type": "stream",
     "text": [
      "['Manzana', 'Plátano', 'Sandía', 'Papaya']\n"
     ]
    }
   ],
   "source": [
    "def fruta_con_letra(lista_f, letra):\n",
    "    lista = []\n",
    "    for fruta in lista_f:\n",
    "        if letra.lower() in fruta.lower():\n",
    "            lista.append(fruta)\n",
    "    return lista\n",
    "\n",
    "def main():\n",
    "    lista_f = [\"Manzana\", \"Plátano\", \"Sandía\", \"Melón\", \"Papaya\"]\n",
    "    letra = input(\"Ingrese una letra: \")\n",
    "    print(fruta_con_letra(lista_f, letra))\n",
    "    \n",
    "main()"
   ]
  },
  {
   "cell_type": "markdown",
   "metadata": {},
   "source": [
    "## Ejericio 4\n",
    "- Define la función frutas_con_letra2 haciendo uso de listas de comprensión."
   ]
  },
  {
   "cell_type": "code",
   "execution_count": 15,
   "metadata": {},
   "outputs": [
    {
     "name": "stdout",
     "output_type": "stream",
     "text": [
      "['Plátano', 'Papaya']\n"
     ]
    }
   ],
   "source": [
    "def fruta_con_letra(lista_f, letra):\n",
    "    lista = [fruta for fruta in lista_f if letra.lower() in fruta.lower()]\n",
    "    return lista\n",
    "\n",
    "def main():\n",
    "    lista_f = [\"Manzana\", \"Plátano\", \"Sandía\", \"Melón\", \"Papaya\"]\n",
    "    letra = input(\"Ingrese una letra: \")\n",
    "    print(fruta_con_letra(lista_f, letra))\n",
    "    \n",
    "main()"
   ]
  },
  {
   "cell_type": "markdown",
   "metadata": {},
   "source": [
    "## Ejericio 5\n",
    "- La función sustituye_fruta que recibe una lista de frutas, fruta1 y fruta2. La función deberá regresar una nueva lista de frutas donde se sustituya la fruta1 por la fruta2. Realiza esta función con el método tradicional.\n",
    "\n",
    "        frutas = [\"Manzana\", \"Plátano\", \"Sandía\", \"Melón\", \"Papaya\"]\n",
    "\n",
    "        Si la fruta1 es: \"Melón\" y la fruta2 es: \"Durazno\", la función regresaría: [\"Manzana\", \"Plátano\", \"Sandía\", \"Durazno\", \"Papaya\"]"
   ]
  },
  {
   "cell_type": "code",
   "execution_count": 18,
   "metadata": {},
   "outputs": [
    {
     "name": "stdout",
     "output_type": "stream",
     "text": [
      "['Manzana', 'Plátano', 'Sandía', 'Melón', 'Papaya']\n"
     ]
    }
   ],
   "source": [
    "def sustituye_fruta(lista_f, fruta1, fruta2):\n",
    "    lista = []\n",
    "    for fruta in lista_f:\n",
    "        if fruta.upper() == fruta1.upper():\n",
    "            lista.append(fruta2)\n",
    "        else:\n",
    "            lista.append(fruta)\n",
    "    return lista\n",
    "\n",
    "def main():\n",
    "    lista_f = [\"Manzana\", \"Plátano\", \"Sandía\", \"Melón\", \"Papaya\"]\n",
    "    fruta1 = input(\"Dame la fruta a reemplazar: \")\n",
    "    fruta2 = input(\"Dame la nueva fruta: \")\n",
    "    print(sustituye_fruta(lista_f, fruta1, fruta2))\n",
    "\n",
    "main()"
   ]
  },
  {
   "cell_type": "markdown",
   "metadata": {},
   "source": [
    "## Ejericio 6\n",
    "\n",
    "- Define la función sustituye_fruta2 haciendo uso de listas de comprensión.\n"
   ]
  },
  {
   "cell_type": "code",
   "execution_count": 19,
   "metadata": {},
   "outputs": [
    {
     "name": "stdout",
     "output_type": "stream",
     "text": [
      "['Manzana', 'Uvas', 'Sandía', 'Melón', 'Papaya']\n"
     ]
    }
   ],
   "source": [
    "def sustituye_fruta2(lista_f, fruta1, fruta2):\n",
    "    lista = [fruta2 if fruta.upper() == fruta1.upper() else fruta for fruta in lista_f]\n",
    "    return lista\n",
    "\n",
    "def main():\n",
    "    lista_f = [\"Manzana\", \"Plátano\", \"Sandía\", \"Melón\", \"Papaya\"]\n",
    "    fruta1 = input(\"Dame la fruta a reemplazar: \")\n",
    "    fruta2 = input(\"Dame la nueva fruta: \")\n",
    "    print(sustituye_fruta(lista_f, fruta1, fruta2))\n",
    "\n",
    "main()"
   ]
  }
 ],
 "metadata": {
  "kernelspec": {
   "display_name": "base",
   "language": "python",
   "name": "python3"
  },
  "language_info": {
   "codemirror_mode": {
    "name": "ipython",
    "version": 3
   },
   "file_extension": ".py",
   "mimetype": "text/x-python",
   "name": "python",
   "nbconvert_exporter": "python",
   "pygments_lexer": "ipython3",
   "version": "3.12.7"
  }
 },
 "nbformat": 4,
 "nbformat_minor": 2
}
