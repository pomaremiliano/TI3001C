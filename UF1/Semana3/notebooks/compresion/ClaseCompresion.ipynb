{
 "cells": [
  {
   "cell_type": "markdown",
   "metadata": {},
   "source": [
    "# **Listas de compresion**\n"
   ]
  },
  {
   "cell_type": "markdown",
   "metadata": {},
   "source": [
    "## Lista con los caracteres de una cadena (tradicional)\n"
   ]
  },
  {
   "cell_type": "code",
   "execution_count": null,
   "metadata": {},
   "outputs": [
    {
     "name": "stdout",
     "output_type": "stream",
     "text": [
      "['h', 'o', 'l', 'a']\n"
     ]
    }
   ],
   "source": [
    "def lista_palabras(palabra):\n",
    "    lista = []\n",
    "    for caracter in palabra:\n",
    "        lista.append(caracter)\n",
    "    return lista\n",
    "\n",
    "\n",
    "def main():\n",
    "    cadena = input(\"Introduce una cadena de texto: \")\n",
    "    print(lista_palabras(cadena))\n",
    "\n",
    "\n",
    "main()"
   ]
  },
  {
   "cell_type": "markdown",
   "metadata": {},
   "source": [
    "## Lista con los caracteres de una cadena (con listas de compresion)"
   ]
  },
  {
   "cell_type": "code",
   "execution_count": 3,
   "metadata": {},
   "outputs": [
    {
     "name": "stdout",
     "output_type": "stream",
     "text": [
      "['h', 'o', 'l', 'a']\n"
     ]
    }
   ],
   "source": [
    "def lista_palabras(palabra):\n",
    "    lista = [caracter for caracter in palabra]\n",
    "    return lista\n",
    "\n",
    "\n",
    "def main():\n",
    "    cadena = input(\"Introduce una cadena de texto: \")\n",
    "    print(lista_palabras(cadena))\n",
    "\n",
    "\n",
    "main()"
   ]
  },
  {
   "cell_type": "markdown",
   "metadata": {},
   "source": [
    "## Generar una lista con numeros enteros del 0 al 10 (tradicional)"
   ]
  },
  {
   "cell_type": "code",
   "execution_count": 4,
   "metadata": {},
   "outputs": [
    {
     "name": "stdout",
     "output_type": "stream",
     "text": [
      "[0, 1, 2, 3, 4, 5, 6, 7, 8, 9, 10]\n"
     ]
    }
   ],
   "source": [
    "def lista_0_10():\n",
    "    lista = []\n",
    "    for i in range(0,11):\n",
    "        lista.append(i)\n",
    "    return lista\n",
    "\n",
    "def main():\n",
    "    lista = lista_0_10()\n",
    "    print(lista)\n",
    "    \n",
    "main()"
   ]
  },
  {
   "cell_type": "markdown",
   "metadata": {},
   "source": [
    "## Generar una lista con numeros enteros del 0 al 10 (con listas de compresion)"
   ]
  },
  {
   "cell_type": "code",
   "execution_count": null,
   "metadata": {},
   "outputs": [
    {
     "name": "stdout",
     "output_type": "stream",
     "text": [
      "[0, 1, 2, 3, 4, 5, 6, 7, 8, 9, 10]\n"
     ]
    }
   ],
   "source": [
    "def lista_0_10():\n",
    "    lista = [i for i in range(0,11)] # se va a ir pegando i en la lista\n",
    "    return lista\n",
    "\n",
    "def main():\n",
    "    lista = lista_0_10()\n",
    "    print(lista)    \n",
    "    \n",
    "main()"
   ]
  }
 ],
 "metadata": {
  "kernelspec": {
   "display_name": "base",
   "language": "python",
   "name": "python3"
  },
  "language_info": {
   "codemirror_mode": {
    "name": "ipython",
    "version": 3
   },
   "file_extension": ".py",
   "mimetype": "text/x-python",
   "name": "python",
   "nbconvert_exporter": "python",
   "pygments_lexer": "ipython3",
   "version": "3.12.7"
  }
 },
 "nbformat": 4,
 "nbformat_minor": 2
}
