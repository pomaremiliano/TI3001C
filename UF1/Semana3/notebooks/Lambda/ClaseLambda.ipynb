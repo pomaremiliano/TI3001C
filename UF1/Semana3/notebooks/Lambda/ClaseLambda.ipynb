{
 "cells": [
  {
   "cell_type": "markdown",
   "metadata": {},
   "source": [
    "# Funciones Lambda\n"
   ]
  },
  {
   "cell_type": "markdown",
   "metadata": {},
   "source": [
    "## Estructura\n",
    "\n",
    "- Tienen una declaración especial. Es en una sola línea de código.\n",
    "-\n"
   ]
  },
  {
   "cell_type": "code",
   "execution_count": 1,
   "metadata": {},
   "outputs": [
    {
     "name": "stdout",
     "output_type": "stream",
     "text": [
      "10\n",
      "F lambda:  10\n"
     ]
    }
   ],
   "source": [
    "# Funcion normal\n",
    "def suma(a, b):\n",
    "    res = a + b\n",
    "    return res\n",
    "\n",
    "\n",
    "# Funcion lambda suma\n",
    "sumal = lambda a, b: a + b\n",
    "\n",
    "\n",
    "def main():\n",
    "    x = int(input())\n",
    "    y = int(input())\n",
    "    r = suma(x, y)\n",
    "    rl = sumal(x,y)\n",
    "    print(r)\n",
    "    print(\"F lambda: \", rl)\n",
    "\n",
    "\n",
    "main()"
   ]
  },
  {
   "cell_type": "code",
   "execution_count": null,
   "metadata": {},
   "outputs": [
    {
     "name": "stdout",
     "output_type": "stream",
     "text": [
      "11\n",
      "F lambda:  11\n"
     ]
    }
   ],
   "source": [
    "# Funcion tradicional ecuacion cuadratica\n",
    "def ecuacion(a,b,c,x):\n",
    "    res = a * x ** 2 + b * x + c\n",
    "    return res\n",
    "\n",
    "# Funcion lambda ecuacion cuadratica\n",
    "ecuacionl = lambda a, b, c, x: a * x ** 2 + b * x + c\n",
    "\n",
    "\n",
    "def main():\n",
    "    a = int(input())\n",
    "    b = int(input())\n",
    "    c = int(input())\n",
    "    x = int(input())\n",
    "    r = ecuacion(a,b,c,x)\n",
    "    rl = ecuacionl(a,b,c,x)\n",
    "    print(r)\n",
    "    print(\"F lambda: \", rl)\n",
    "\n",
    "\n",
    "main()"
   ]
  },
  {
   "cell_type": "code",
   "execution_count": null,
   "metadata": {},
   "outputs": [
    {
     "name": "stdout",
     "output_type": "stream",
     "text": [
      "32.5\n",
      "32.5\n"
     ]
    }
   ],
   "source": [
    "#  funcion tradicional farenheit a celsius\n",
    "def celsius(f):\n",
    "    res = 5 / 9 * (f -32)\n",
    "    return res\n",
    "\n",
    "#  funcion lambda farenheit a celsius\n",
    "celsiusl = lambda f : 5 / 9 * (f -32)\n",
    "\n",
    "def main():\n",
    "    f = float(input())\n",
    "    r = celsius(f)\n",
    "    print(\"%.1f\" % r)\n",
    "    rl = celsiusl(f)\n",
    "    print(\"%.1f\" % rl)\n",
    "\n",
    "main()\n",
    "    \n",
    "    "
   ]
  },
  {
   "cell_type": "markdown",
   "metadata": {},
   "source": [
    "## Funciones de orden superior "
   ]
  },
  {
   "cell_type": "code",
   "execution_count": 12,
   "metadata": {},
   "outputs": [
    {
     "name": "stdout",
     "output_type": "stream",
     "text": [
      "Hola a todos\n"
     ]
    }
   ],
   "source": [
    "def orden_superior(funcion):\n",
    "    funcion()\n",
    "    \n",
    "def saludos():\n",
    "    print(\"Hola a todos\")\n",
    "    \n",
    "def main():\n",
    "    orden_superior(saludos)\n",
    "\n",
    "main()"
   ]
  },
  {
   "cell_type": "code",
   "execution_count": 14,
   "metadata": {},
   "outputs": [
    {
     "name": "stdout",
     "output_type": "stream",
     "text": [
      "8.717797887081348\n",
      "5776.0\n"
     ]
    }
   ],
   "source": [
    "import math \n",
    "\n",
    "def operacion(x, funcion):\n",
    "    res =funcion(x)\n",
    "    return res\n",
    "\n",
    "def raiz(x):\n",
    "    return math.sqrt(x)\n",
    "\n",
    "def cuadrado(x):\n",
    "    return x**2\n",
    "\n",
    "def main():\n",
    "    num = float(input())\n",
    "    r = operacion(num,raiz)\n",
    "    print(r)\n",
    "    r = operacion(num, cuadrado)\n",
    "    print(r)\n",
    "    \n",
    "main()"
   ]
  }
 ],
 "metadata": {
  "kernelspec": {
   "display_name": "base",
   "language": "python",
   "name": "python3"
  },
  "language_info": {
   "codemirror_mode": {
    "name": "ipython",
    "version": 3
   },
   "file_extension": ".py",
   "mimetype": "text/x-python",
   "name": "python",
   "nbconvert_exporter": "python",
   "pygments_lexer": "ipython3",
   "version": "3.12.7"
  }
 },
 "nbformat": 4,
 "nbformat_minor": 2
}
