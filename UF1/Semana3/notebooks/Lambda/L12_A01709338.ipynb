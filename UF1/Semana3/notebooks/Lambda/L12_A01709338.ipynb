{
 "cells": [
  {
   "cell_type": "markdown",
   "metadata": {},
   "source": [
    "# Laboratorio 12 Funciones de Orden Superior\n",
    "\n",
    "- Jorge Emiliano Pomar\n",
    "- A01709338\n"
   ]
  },
  {
   "cell_type": "markdown",
   "metadata": {},
   "source": [
    "## Ejericio 1\n",
    "\n",
    "- Definir una función de orden superior llamada operar, que recibe como parámetro dos enteros y una función. En el cuerpo de la función llamar a la función que llega como parámetro y enviar los dos primeros parámetros. La función retorna un entero.\n",
    "- Definir la función sumar, que reciba dos números como parámetro de entrada: n1 y n2 y regrese la suma de los números.\n",
    "- Definir la función restar, que reciba dos números como parámetro de entrada: n1 y n2 y regrese la resta de n1 - n2.\n",
    "- En el script principal de nuestro programa:\n",
    "- Llama a la función operar y le pasamos tres datos, dos enteros y uno con la referencia de la función sumar. Imprime el resultado.\n",
    "- Llama a la función operar y le pasamos tres datos, dos enteros y uno con la referencia de la función restar. Imprime el resultado.\n"
   ]
  },
  {
   "cell_type": "code",
   "execution_count": null,
   "metadata": {},
   "outputs": [],
   "source": [
    "def operar(a, b, funcion):\n",
    "    res = funcion(a, b)\n",
    "    return res"
   ]
  },
  {
   "cell_type": "code",
   "execution_count": 10,
   "metadata": {},
   "outputs": [],
   "source": [
    "sumar = lambda a, b: a + b"
   ]
  },
  {
   "cell_type": "code",
   "execution_count": 11,
   "metadata": {},
   "outputs": [],
   "source": [
    "restar = lambda a, b: a - b"
   ]
  },
  {
   "cell_type": "code",
   "execution_count": null,
   "metadata": {},
   "outputs": [
    {
     "name": "stdout",
     "output_type": "stream",
     "text": [
      "Resultado de la suma: 108.56\n",
      "Resultado de la resta: 61.44\n"
     ]
    }
   ],
   "source": [
    "def main():\n",
    "    a = float(input(\"Ingresa un número: \"))\n",
    "    b = float(input(\"Ingresa otro número: \"))\n",
    "    sumar = operar(a, b, sumar)\n",
    "    restar = operar(a, b, restar)\n",
    "    print(\"Resultado de la suma:\", sumar)\n",
    "    print(\"Resultado de la resta:\", restar)\n",
    "\n",
    "\n",
    "main()"
   ]
  },
  {
   "cell_type": "markdown",
   "metadata": {},
   "source": [
    "## Ejericio 2\n",
    "\n",
    "- A partir de un string, obtener unicamente una lista con los caracteres que sean minúsculas, empleando para ello la función de orden superior de python filter() y la función lambda.\n",
    "\n",
    "        cadena = \"Hola A Todos Y Todas, Bonito Día!!\"\n"
   ]
  },
  {
   "cell_type": "code",
   "execution_count": null,
   "metadata": {},
   "outputs": [
    {
     "name": "stdout",
     "output_type": "stream",
     "text": [
      "['o', 'l', 'a', 'o', 'd', 'o', 's', 'o', 'd', 'a', 's', 'o', 'n', 'i', 't', 'o', 'í', 'a']\n"
     ]
    }
   ],
   "source": [
    "cadena = \"Hola A Todos Y Todas, Bonito Día!!\"\n",
    "minusculas = lambda c: c.islower()\n",
    "lista_minusculas = list(filter(minusculas, cadena))\n",
    "print(lista_minusculas)"
   ]
  },
  {
   "cell_type": "markdown",
   "metadata": {},
   "source": [
    "## Ejericio 3\n",
    "\n",
    "- A partir de una lista de strings, obtener unicamente una lista con los strings que comiencen con vocales, empleando para ello la función de orden superior de python filter() y la función lambda.\n",
    "\n",
    "        lista = [\"juan\", \"Ana\", \"Ernesto\", \"octavio\", \"Gabriela\", \"ulises\", \"Liliana\"]\n"
   ]
  },
  {
   "cell_type": "code",
   "execution_count": 23,
   "metadata": {},
   "outputs": [
    {
     "name": "stdout",
     "output_type": "stream",
     "text": [
      "['Ana', 'Ernesto', 'octavio', 'ulises']\n"
     ]
    }
   ],
   "source": [
    "lista = [\"juan\", \"Ana\", \"Ernesto\", \"octavio\", \"Gabriela\", \"ulises\", \"Liliana\"]\n",
    "vocales = \"a, e, i, o, u\"\n",
    "\n",
    "vocalesl = lambda nombre: nombre[0].lower() in vocales\n",
    "lista_vocales = list(filter(vocalesl, lista))\n",
    "print(lista_vocales)"
   ]
  },
  {
   "cell_type": "markdown",
   "metadata": {},
   "source": [
    "## Ejercicio 4\n",
    "\n",
    "- A partir de una lista de números enteros, obtenga una lista de números triplicado su valor, empleando para ello la función de orden superior de python map() y la función lambda.\n",
    "\n",
    "        numeros = [1, 2, 3, 4, 5]\n",
    "\n",
    "        resultado = [3, 6, 9, 12, 15]\n"
   ]
  },
  {
   "cell_type": "code",
   "execution_count": null,
   "metadata": {},
   "outputs": [
    {
     "name": "stdout",
     "output_type": "stream",
     "text": [
      "[3, 6, 9, 12, 15]\n"
     ]
    }
   ],
   "source": [
    "numeros = [1, 2, 3, 4, 5]\n",
    "\n",
    "cubo = lambda x: x * 3\n",
    "\n",
    "lista_triplicados = list(map(cubo, numeros))\n",
    "print(lista_triplicados)"
   ]
  }
 ],
 "metadata": {
  "kernelspec": {
   "display_name": "base",
   "language": "python",
   "name": "python3"
  },
  "language_info": {
   "codemirror_mode": {
    "name": "ipython",
    "version": 3
   },
   "file_extension": ".py",
   "mimetype": "text/x-python",
   "name": "python",
   "nbconvert_exporter": "python",
   "pygments_lexer": "ipython3",
   "version": "3.12.7"
  }
 },
 "nbformat": 4,
 "nbformat_minor": 2
}
