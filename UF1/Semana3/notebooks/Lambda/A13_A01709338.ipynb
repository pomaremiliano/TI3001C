{
 "cells": [
  {
   "cell_type": "markdown",
   "metadata": {},
   "source": [
    "# Actividad 13 Funciones de orden superior y listas de compresión\n",
    "\n",
    "- Jorge Emiliano Pomar\n",
    "- A01709338\n",
    "- 26 de febrero 2025\n"
   ]
  },
  {
   "cell_type": "markdown",
   "metadata": {},
   "source": [
    "## Ejericio 1\n",
    "\n",
    "- A partir de una lista de números enteros, obtener unicamente una lista los números múltiplos de 3, empleando para ello la función de orden superior de python filter() y la función lambda.\n",
    "\n",
    "        numeros = [2, 3, 10, 21, 50, 30]\n"
   ]
  },
  {
   "cell_type": "code",
   "execution_count": null,
   "metadata": {},
   "outputs": [
    {
     "name": "stdout",
     "output_type": "stream",
     "text": [
      "[3, 21, 30]\n"
     ]
    }
   ],
   "source": [
    "numeros = [2, 3, 10, 21, 50, 30]\n",
    "\n",
    "lista_multiplos = list(filter(lambda a: a % 3 == 0, numeros))\n",
    "\n",
    "print(lista_multiplos)"
   ]
  },
  {
   "cell_type": "markdown",
   "metadata": {},
   "source": [
    "## Ejericio 2\n",
    "\n",
    "- A partir de una lista de números enteros positivos y negativos, obtener unicamente una lista los números negativos, empleando para ello la función de orden superior de python filter() y la función lambda.\n",
    "\n",
    "        numeros = [2, -5, 10, -23, -50, 33]\n"
   ]
  },
  {
   "cell_type": "code",
   "execution_count": null,
   "metadata": {},
   "outputs": [
    {
     "name": "stdout",
     "output_type": "stream",
     "text": [
      "[-5, -23, -50]\n"
     ]
    }
   ],
   "source": [
    "numeros = [2, -5, 10, -23, -50, 33]\n",
    "\n",
    "lista_num_negativos = list(filter(lambda a: a < 0, numeros))\n",
    "\n",
    "print(lista_num_negativos)"
   ]
  },
  {
   "cell_type": "markdown",
   "metadata": {},
   "source": [
    "## Ejericio 3\n",
    "\n",
    "- A partir de una lista de strings, obtener unicamente una lista con los strings que comiencen con consonantes, empleando para ello la función de orden superior de python filter() y la función lambda.\n",
    "\n",
    "        lista = [\"juan\", \"Ana\", \"Ernesto\", \"octavio\", \"Gabriela\", \"ulises\", \"Liliana\"]\n"
   ]
  },
  {
   "cell_type": "code",
   "execution_count": 7,
   "metadata": {},
   "outputs": [
    {
     "name": "stdout",
     "output_type": "stream",
     "text": [
      "['juan', 'Gabriela', 'Liliana']\n"
     ]
    }
   ],
   "source": [
    "lista = [\"juan\", \"Ana\", \"Ernesto\", \"octavio\", \"Gabriela\", \"ulises\", \"Liliana\"]\n",
    "consonantes = \"bcdfghjklmnñpqrstvwxyz\"\n",
    "\n",
    "lista_c_consonantes = list(filter(lambda a: a[0].lower() in consonantes, lista))\n",
    "\n",
    "print(lista_c_consonantes)"
   ]
  },
  {
   "cell_type": "markdown",
   "metadata": {},
   "source": [
    "## Ejericio 4\n",
    "\n",
    "- A partir de tres listas de números enteros del mismo tamaño, obtenga una lista con la multiplicación de las tres listas, empleando para ello la función de orden superior de python map() y la función lambda.\n",
    "\n",
    "        numeros1 = [1, 2, 3, 4, 5]\n",
    "\n",
    "        numeros2 = [6, 7, 8, 9, 10]\n",
    "\n",
    "        numeros3 = [11, 12, 13, 14, 15]\n"
   ]
  },
  {
   "cell_type": "code",
   "execution_count": null,
   "metadata": {},
   "outputs": [
    {
     "name": "stdout",
     "output_type": "stream",
     "text": [
      "[66, 168, 312, 504, 750]\n"
     ]
    }
   ],
   "source": [
    "numeros1 = [1, 2, 3, 4, 5]\n",
    "numeros2 = [6, 7, 8, 9, 10]\n",
    "numeros3 = [11, 12, 13, 14, 15]\n",
    "\n",
    "lista_multiplicacion = list(\n",
    "    map(lambda a, b, c: a * b * c, numeros1, numeros2, numeros3)\n",
    ")\n",
    "\n",
    "print(lista_multiplicacion)"
   ]
  },
  {
   "cell_type": "markdown",
   "metadata": {},
   "source": [
    "## Ejericio 5\n",
    "\n",
    "- A partir de una lista de números enteros realizar la multiplicación acumulada de cada uno de los elementos que componen la lista usando la función de orden superior reduce y la función lambda. Antes de utilizar la función reduce te pido importarla con las siguientes instrucciones:\n",
    "\n",
    "  from functools import reduce\n",
    "\n",
    "  lista = [1, 2, 3, 4, 5]\n"
   ]
  },
  {
   "cell_type": "code",
   "execution_count": null,
   "metadata": {},
   "outputs": [
    {
     "name": "stdout",
     "output_type": "stream",
     "text": [
      "120\n"
     ]
    }
   ],
   "source": [
    "from functools import reduce\n",
    "\n",
    "lista = [1, 2, 3, 4, 5]\n",
    "\n",
    "mult_acumulada = reduce(lambda a, b: a * b, lista)\n",
    "\n",
    "print(mult_acumulada)"
   ]
  },
  {
   "cell_type": "markdown",
   "metadata": {},
   "source": [
    "## Ejericio 6\n",
    "\n",
    "- La función impares_menores_numero que recibe un número. La función deberá regresar una lista de números impares menores al número que llega como parámetro de una lista de números de entre 1 y 20. Realiza esta función con el método tradicional.\n",
    "\n",
    "        impares_menores_numero(20) regresaría: [1, 3, 5, 7, 9, 11, 13, 15, 17, 19]\n",
    "        impares_menores_numero(10) regresaría: [1, 3, 5, 7, 9]\n"
   ]
  },
  {
   "cell_type": "code",
   "execution_count": null,
   "metadata": {},
   "outputs": [
    {
     "name": "stdout",
     "output_type": "stream",
     "text": [
      "[1, 3, 5, 7, 9, 11, 13, 15, 17, 19]\n"
     ]
    }
   ],
   "source": [
    "def impares_menores_numero(n):\n",
    "    lista = []\n",
    "    for i in range(1, 21):\n",
    "        if i % 2 != 0 and i < n:\n",
    "            lista.append(i)\n",
    "    return lista\n",
    "\n",
    "\n",
    "def main():\n",
    "    numero = int(input(\"Ingresa un número: \"))\n",
    "    print(impares_menores_numero(numero))\n",
    "\n",
    "\n",
    "main()"
   ]
  },
  {
   "cell_type": "markdown",
   "metadata": {},
   "source": [
    "## Ejercicio 7\n",
    "\n",
    "- Define la función impares_menores_numero haciendo uso de listas de comprensión.\n"
   ]
  },
  {
   "cell_type": "code",
   "execution_count": 12,
   "metadata": {},
   "outputs": [
    {
     "name": "stdout",
     "output_type": "stream",
     "text": [
      "[1, 3, 5, 7, 9, 11, 13, 15, 17, 19]\n"
     ]
    }
   ],
   "source": [
    "def impares_menores_numero2(n):\n",
    "    lista = [i for i in range(1, 21) if i % 2 != 0 and i < n]\n",
    "    return lista\n",
    "\n",
    "\n",
    "def main():\n",
    "    numero = int(input(\"Ingresa un número: \"))\n",
    "    print(impares_menores_numero2(numero))\n",
    "\n",
    "\n",
    "main()"
   ]
  },
  {
   "cell_type": "markdown",
   "metadata": {},
   "source": [
    "## Ejercicio 8\n",
    "- La función frutas_permitidas que recibe una lista de frutas y el nombre de una fruta. La función deberá regresar una nueva lista de frutas que contegan todas las frutas a excepción de la fruta que llegó como parámetro. Realiza esta función con el método tradicional.\n",
    "\n",
    "        frutas = [\"Manzana\", \"Plátano\", \"Sandía\", \"Melón\", \"Papaya\"]\n",
    "\n",
    "        Si la fruta es 'Plátano' regresaría: [\"Manzana\", \"Sandía\", \"Melón\", \"Papaya\"] "
   ]
  },
  {
   "cell_type": "code",
   "execution_count": 14,
   "metadata": {},
   "outputs": [
    {
     "name": "stdout",
     "output_type": "stream",
     "text": [
      "['Manzana', 'Sandía', 'Melón', 'Papaya']\n"
     ]
    }
   ],
   "source": [
    "def frutas_permitidas(lista_frutas, nombre_fruta):\n",
    "    lista = []\n",
    "    for fruta in lista_frutas:\n",
    "        if fruta.lower() != nombre_fruta.lower():\n",
    "            lista.append(fruta)\n",
    "    return lista\n",
    "\n",
    "def main():\n",
    "    frutas = [\"Manzana\", \"Plátano\", \"Sandía\", \"Melón\", \"Papaya\"]\n",
    "    fruta = input(\"Ingresa una fruta: \")\n",
    "    print(frutas_permitidas(frutas, fruta))\n",
    "    \n",
    "main()\n",
    "        "
   ]
  },
  {
   "cell_type": "markdown",
   "metadata": {},
   "source": [
    "# Ejercicio 8\n",
    "- Define la función frutas_permitidas2 haciendo uso de listas de comprensión.\n"
   ]
  },
  {
   "cell_type": "code",
   "execution_count": 17,
   "metadata": {},
   "outputs": [
    {
     "name": "stdout",
     "output_type": "stream",
     "text": [
      "['Manzana', 'Sandía', 'Melón', 'Papaya']\n"
     ]
    }
   ],
   "source": [
    "def frutas_permitidas2(lista_frutas, nombre_fruta):\n",
    "    lista = [fruta for fruta in lista_frutas if fruta.lower() != nombre_fruta.lower() ]\n",
    "    return lista\n",
    "    \n",
    "def main():\n",
    "    frutas = [\"Manzana\", \"Plátano\", \"Sandía\", \"Melón\", \"Papaya\"]\n",
    "    fruta = input(\"Ingresa una fruta: \")\n",
    "    print(frutas_permitidas2(frutas, fruta))\n",
    "main()"
   ]
  },
  {
   "cell_type": "markdown",
   "metadata": {},
   "source": [
    "## Ejericio 9\n",
    "- La función frutas_minusculas que recibe una lista de frutas y regresa una nueva lista de frutas en minúsculas. Realiza esta función con el método tradicional.\n",
    "\n",
    "        frutas = [\"Manzana\", \"Plátano\", \"Sandía\", \"Melón\", \"Papaya\"]\n",
    "\n",
    "        La función regresaría: [\"manzana\", \"plátano\", \"sandía\", \"melón\", \"papaya\"] "
   ]
  },
  {
   "cell_type": "code",
   "execution_count": 20,
   "metadata": {},
   "outputs": [
    {
     "name": "stdout",
     "output_type": "stream",
     "text": [
      "['manzana', 'plátano', 'sandía', 'melón', 'papaya']\n"
     ]
    }
   ],
   "source": [
    "def frutas_minusculas(lista_f):\n",
    "    lista = []\n",
    "    for i in range(len(lista_f)):\n",
    "        lista.append(lista_f[i].lower())\n",
    "    return lista \n",
    "    \n",
    "def main():\n",
    "    frutas = [\"Manzana\", \"Plátano\", \"Sandía\", \"Melón\", \"Papaya\"]\n",
    "    print(frutas_minusculas(frutas))\n",
    "\n",
    "main()"
   ]
  },
  {
   "cell_type": "markdown",
   "metadata": {},
   "source": [
    "## Ejericio 10\n",
    "- Define la función frutas_minusculas haciendo uso de listas de comprensión.\n"
   ]
  },
  {
   "cell_type": "code",
   "execution_count": 22,
   "metadata": {},
   "outputs": [
    {
     "name": "stdout",
     "output_type": "stream",
     "text": [
      "['manzana', 'plátano', 'sandía', 'melón', 'papaya']\n"
     ]
    }
   ],
   "source": [
    "def frutas_minusculas2(lista_f):\n",
    "    lista = [i.lower() for i in lista_f]\n",
    "    return lista\n",
    "\n",
    "def main():\n",
    "    frutas = [\"Manzana\", \"Plátano\", \"Sandía\", \"Melón\", \"Papaya\"]\n",
    "    print(frutas_minusculas2(frutas))\n",
    "\n",
    "main()"
   ]
  }
 ],
 "metadata": {
  "kernelspec": {
   "display_name": "base",
   "language": "python",
   "name": "python3"
  },
  "language_info": {
   "codemirror_mode": {
    "name": "ipython",
    "version": 3
   },
   "file_extension": ".py",
   "mimetype": "text/x-python",
   "name": "python",
   "nbconvert_exporter": "python",
   "pygments_lexer": "ipython3",
   "version": "3.12.7"
  }
 },
 "nbformat": 4,
 "nbformat_minor": 2
}
