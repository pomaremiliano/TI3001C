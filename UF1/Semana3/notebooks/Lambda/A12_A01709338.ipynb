{
 "cells": [
  {
   "cell_type": "markdown",
   "metadata": {},
   "source": [
    "# Actividad 12 Funciones lambda y de orden superior\n",
    "- Jorge Emiliano Pomar \n",
    "- A01709338\n",
    "- 25 de febrero de 2025"
   ]
  },
  {
   "attachments": {
    "tarea5img1.gif": {
     "image/gif": "[encoded data removed]"
    }
   },
   "cell_type": "markdown",
   "metadata": {},
   "source": [
    "## Ejercicio 1\n",
    "- La función lambda sector cuyos argumentos son el radio y el angulo. Utiliza la constante math.pi de la librería math.\n",
    "  ![tarea5img1.gif](attachment:tarea5img1.gif)"
   ]
  },
  {
   "cell_type": "code",
   "execution_count": 8,
   "metadata": {},
   "outputs": [
    {
     "name": "stdout",
     "output_type": "stream",
     "text": [
      "Sector: 9.82\n"
     ]
    }
   ],
   "source": [
    "import math as m\n",
    "sector = lambda r, a : (m.pi * r**2 * a) / 360\n",
    "\n",
    "def main():\n",
    "    r = float(input(\"Ingresa el radio: \"))\n",
    "    a = float(input(\"Ingresa el ángulo: \"))\n",
    "    sec = sector(r, a)\n",
    "    print(\"Sector: %.2f\" % sec)\n",
    "    \n",
    "\n",
    "main()"
   ]
  },
  {
   "cell_type": "markdown",
   "metadata": {},
   "source": [
    "## Ejercicio 2\n",
    "- La función lambda eclipse cuyos argumentos son los radios a y b. Utiliza la constante math.pi de la librería math.\n"
   ]
  },
  {
   "cell_type": "code",
   "execution_count": 9,
   "metadata": {},
   "outputs": [
    {
     "name": "stdout",
     "output_type": "stream",
     "text": [
      "Eclipse: 31.42\n"
     ]
    }
   ],
   "source": [
    "eclipse = lambda a, b: m.pi * a * b\n",
    "\n",
    "def main():\n",
    "    a = float(input(\"Ingresa el a: \"))\n",
    "    b = float(input(\"Ingresa el b: \"))\n",
    "    e = eclipse(a, b)\n",
    "    print(\"Eclipse: %.2f\" % e)\n",
    "    \n",
    "main()"
   ]
  },
  {
   "cell_type": "markdown",
   "metadata": {},
   "source": [
    "## Ejercicio 3\n",
    "- La función lambda paralelogramo cuyos argumentos son la longitud a y la altura h. "
   ]
  },
  {
   "cell_type": "code",
   "execution_count": 10,
   "metadata": {},
   "outputs": [
    {
     "name": "stdout",
     "output_type": "stream",
     "text": [
      "Paralelogramo: 33.12\n"
     ]
    }
   ],
   "source": [
    "paralelogramo = lambda a, h: a * h\n",
    "\n",
    "def main():\n",
    "    a = float(input(\"Ingresa el a: \"))\n",
    "    h = float(input(\"Ingresa el h: \"))\n",
    "    p = paralelogramo(a, h)\n",
    "    print(\"Paralelogramo: %.2f\" % p)\n",
    "    \n",
    "main()"
   ]
  },
  {
   "cell_type": "markdown",
   "metadata": {},
   "source": [
    "## Ejercicio 4\n",
    "- Definir una función de orden superior llamada operar, que recibe como parámetro dos enteros y una función. En el cuerpo de la función llamar a la función que llega como parámetro y enviar los dos primeros parámetros. La función retorna un entero.\n",
    "\n",
    "- Definir la función multiplicar, que reciba dos números como parámetro de entrada: n1 y n2 y regrese la multiplicación de los números.\n",
    "        \n",
    "- Definir la función dividir, que reciba dos números como parámetro de entrada: n1 y n2 y regrese la división de n1 entre n2.\n",
    "\n",
    "- En el script principal de nuestro programa:\n",
    "\n",
    "- Llama a la función operar y le pasamos tres datos, dos enteros y uno con la referencia de la función multiplicar.  Imprime el resultado.\n",
    "\n",
    "- Llama a la función operar y le pasamos tres datos, dos enteros y uno con la referencia de la función dividir.  Imprime el resultado.\n"
   ]
  },
  {
   "cell_type": "code",
   "execution_count": 11,
   "metadata": {},
   "outputs": [
    {
     "name": "stdout",
     "output_type": "stream",
     "text": [
      "Multiplicacion:  2192.09\n",
      "Division:  4.408071748878924\n"
     ]
    }
   ],
   "source": [
    "def operar(a, b, funcion):\n",
    "    res = funcion(a, b)\n",
    "    return res\n",
    "\n",
    "multiplicar = lambda n1, n2: n1 * n2\n",
    "dividir = lambda n1, n2: n1 / n2\n",
    "\n",
    "\n",
    "def main():\n",
    "    num1 = float(input(\"Ingresa el primer número: \"))\n",
    "    num2 = float(input(\"Ingresa el segundo número: \"))\n",
    "    resultado = operar(num1, num2, multiplicar)\n",
    "    print(\"Multiplicacion: \", resultado)\n",
    "    resultado = operar(num1, num2, dividir)\n",
    "    print(\"Division: \", resultado)\n",
    "    \n",
    "main()"
   ]
  }
 ],
 "metadata": {
  "kernelspec": {
   "display_name": "base",
   "language": "python",
   "name": "python3"
  },
  "language_info": {
   "codemirror_mode": {
    "name": "ipython",
    "version": 3
   },
   "file_extension": ".py",
   "mimetype": "text/x-python",
   "name": "python",
   "nbconvert_exporter": "python",
   "pygments_lexer": "ipython3",
   "version": "3.12.7"
  }
 },
 "nbformat": 4,
 "nbformat_minor": 2
}
