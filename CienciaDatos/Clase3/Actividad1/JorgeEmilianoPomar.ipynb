{
 "cells": [
  {
   "cell_type": "markdown",
   "metadata": {},
   "source": [
    "# Clase 3 Actividad 1\n",
    "- Jorge Emiliano Pomar A01709338\n",
    "- Fecha: 1 de abril de 2025"
   ]
  },
  {
   "cell_type": "markdown",
   "metadata": {},
   "source": [
    "1. Cargar el dataset sales_data_sample-2.cvs y crear 4 series de datos del monto de las ventas por cuarto."
   ]
  },
  {
   "cell_type": "code",
   "execution_count": 1,
   "metadata": {},
   "outputs": [],
   "source": [
    "import pandas as pd \n",
    "\n",
    "df = pd.read_csv(\"sales_data_sample-2.csv\")\n",
    "\n"
   ]
  },
  {
   "cell_type": "code",
   "execution_count": 8,
   "metadata": {},
   "outputs": [
    {
     "name": "stdout",
     "output_type": "stream",
     "text": [
      "0       2871.00\n",
      "9       4708.44\n",
      "10      3965.66\n",
      "22       733.11\n",
      "23      3207.12\n",
      "         ...   \n",
      "2807    2280.24\n",
      "2808    1192.56\n",
      "2819    3978.51\n",
      "2820    5417.57\n",
      "2821    2116.16\n",
      "Name: SALES, Length: 665, dtype: float64\n"
     ]
    }
   ],
   "source": [
    "sales_one= df.query(\"QTR_ID == 1\")[\"SALES\"]\n",
    "print(sales_one)"
   ]
  },
  {
   "cell_type": "code",
   "execution_count": 4,
   "metadata": {},
   "outputs": [
    {
     "name": "stdout",
     "output_type": "stream",
     "text": [
      "1       2765.90\n",
      "11      2333.12\n",
      "12      3188.64\n",
      "13      3676.76\n",
      "24      2434.56\n",
      "         ...   \n",
      "2798    2184.00\n",
      "2799    2079.04\n",
      "2809    1506.96\n",
      "2810    1472.62\n",
      "2822    3079.44\n",
      "Name: SALES, Length: 561, dtype: float64\n"
     ]
    }
   ],
   "source": [
    "sales_two= df.query(\"QTR_ID == 2\")[\"SALES\"]\n",
    "print(sales_two)"
   ]
  },
  {
   "cell_type": "code",
   "execution_count": 9,
   "metadata": {},
   "outputs": [
    {
     "name": "stdout",
     "output_type": "stream",
     "text": [
      "2       3884.34\n",
      "3       3746.70\n",
      "14      4177.35\n",
      "15      4099.68\n",
      "16      2597.39\n",
      "         ...   \n",
      "2800    1724.97\n",
      "2801    3003.00\n",
      "2811    1696.82\n",
      "2812    1693.56\n",
      "2813    1921.92\n",
      "Name: SALES, Length: 503, dtype: float64\n"
     ]
    }
   ],
   "source": [
    "sales_three= df.query(\"QTR_ID == 3\")[\"SALES\"]\n",
    "print(sales_three)"
   ]
  },
  {
   "cell_type": "code",
   "execution_count": 6,
   "metadata": {},
   "outputs": [
    {
     "name": "stdout",
     "output_type": "stream",
     "text": [
      "4       5205.27\n",
      "5       3479.76\n",
      "6       2497.77\n",
      "7       5512.32\n",
      "8       2168.54\n",
      "         ...   \n",
      "2814    2082.85\n",
      "2815    2227.60\n",
      "2816    3209.38\n",
      "2817    4080.72\n",
      "2818    2244.40\n",
      "Name: SALES, Length: 1094, dtype: float64\n"
     ]
    }
   ],
   "source": [
    "sales_four= df.query(\"QTR_ID == 4\")[\"SALES\"]\n",
    "print(sales_four)"
   ]
  },
  {
   "cell_type": "markdown",
   "metadata": {},
   "source": [
    "2. Por cada serie, estimar la media, mediana, moda, varianza, desviación estándar y los cuartiles.\n"
   ]
  },
  {
   "cell_type": "markdown",
   "metadata": {},
   "source": [
    "**Sales One**\n",
    "Aquí asumimos la población utilizando describe() y no la muestra. \n",
    "\n",
    "Después sacamos la moda y la varianza."
   ]
  },
  {
   "cell_type": "code",
   "execution_count": 11,
   "metadata": {},
   "outputs": [
    {
     "data": {
      "text/plain": [
       "count      665.000000\n",
       "mean      3535.064256\n",
       "std       1735.273522\n",
       "min        683.800000\n",
       "25%       2231.000000\n",
       "50%       3222.000000\n",
       "75%       4517.910000\n",
       "max      10066.600000\n",
       "Name: SALES, dtype: float64"
      ]
     },
     "execution_count": 11,
     "metadata": {},
     "output_type": "execute_result"
    }
   ],
   "source": [
    "sales_one.describe()"
   ]
  },
  {
   "cell_type": "code",
   "execution_count": 21,
   "metadata": {},
   "outputs": [
    {
     "name": "stdout",
     "output_type": "stream",
     "text": [
      "1463.0\n"
     ]
    }
   ],
   "source": [
    "mode_sales_one = sales_one.mode().iloc[0]\n",
    "print(mode_sales_one)"
   ]
  },
  {
   "cell_type": "code",
   "execution_count": 22,
   "metadata": {},
   "outputs": [
    {
     "name": "stdout",
     "output_type": "stream",
     "text": [
      "3011174.195600387\n"
     ]
    }
   ],
   "source": [
    "varianza_sales_one = sales_one.var()\n",
    "print(varianza_sales_one)"
   ]
  },
  {
   "cell_type": "markdown",
   "metadata": {},
   "source": [
    "**Sales Two**\n",
    "Aquí asumimos la población utilizando describe() y no la muestra. La moda y la varianza la sacamos manualmente. "
   ]
  },
  {
   "cell_type": "code",
   "execution_count": 12,
   "metadata": {},
   "outputs": [
    {
     "data": {
      "text/plain": [
       "count      561.000000\n",
       "mean      3650.838324\n",
       "std       2113.191275\n",
       "min        482.130000\n",
       "25%       2114.580000\n",
       "50%       3138.340000\n",
       "75%       4597.200000\n",
       "max      14082.800000\n",
       "Name: SALES, dtype: float64"
      ]
     },
     "execution_count": 12,
     "metadata": {},
     "output_type": "execute_result"
    }
   ],
   "source": [
    "sales_two.describe()"
   ]
  },
  {
   "cell_type": "code",
   "execution_count": 23,
   "metadata": {},
   "outputs": [
    {
     "name": "stdout",
     "output_type": "stream",
     "text": [
      "1030.44\n"
     ]
    }
   ],
   "source": [
    "mode_sales_two = sales_two.mode().iloc[0]\n",
    "print(mode_sales_two)"
   ]
  },
  {
   "cell_type": "code",
   "execution_count": 24,
   "metadata": {},
   "outputs": [
    {
     "name": "stdout",
     "output_type": "stream",
     "text": [
      "4465577.363246474\n"
     ]
    }
   ],
   "source": [
    "varianza_sales_two = sales_two.var()\n",
    "print(varianza_sales_two)"
   ]
  },
  {
   "cell_type": "markdown",
   "metadata": {},
   "source": [
    "**Sales Three**\n",
    "Aquí asumimos la población utilizando describe() y no la muestra. La moda y la varianza la sacamos manualmente.\n"
   ]
  },
  {
   "cell_type": "code",
   "execution_count": 13,
   "metadata": {},
   "outputs": [
    {
     "data": {
      "text/plain": [
       "count      503.000000\n",
       "mean      3496.840577\n",
       "std       1782.240013\n",
       "min        577.600000\n",
       "25%       2151.920000\n",
       "50%       3098.700000\n",
       "75%       4461.700000\n",
       "max      10993.500000\n",
       "Name: SALES, dtype: float64"
      ]
     },
     "execution_count": 13,
     "metadata": {},
     "output_type": "execute_result"
    }
   ],
   "source": [
    "sales_three.describe()"
   ]
  },
  {
   "cell_type": "code",
   "execution_count": 25,
   "metadata": {},
   "outputs": [
    {
     "name": "stdout",
     "output_type": "stream",
     "text": [
      "577.6\n"
     ]
    }
   ],
   "source": [
    "mode_sales_three = sales_three.mode().iloc[0]\n",
    "print(mode_sales_three)"
   ]
  },
  {
   "cell_type": "code",
   "execution_count": 26,
   "metadata": {},
   "outputs": [
    {
     "name": "stdout",
     "output_type": "stream",
     "text": [
      "3176379.4655345296\n"
     ]
    }
   ],
   "source": [
    "varianza_sales_three = sales_three.var()\n",
    "print(varianza_sales_three)"
   ]
  },
  {
   "cell_type": "markdown",
   "metadata": {},
   "source": [
    "**Sales Four**\n",
    "Aquí asumimos la población utilizando describe() y no la muestra. La moda y la varianza la sacamos manualmente."
   ]
  },
  {
   "cell_type": "code",
   "execution_count": 14,
   "metadata": {},
   "outputs": [
    {
     "data": {
      "text/plain": [
       "count     1094.000000\n",
       "mean      3541.846444\n",
       "std       1782.180863\n",
       "min        694.600000\n",
       "25%       2228.302500\n",
       "50%       3206.860000\n",
       "75%       4473.540000\n",
       "max      12536.500000\n",
       "Name: SALES, dtype: float64"
      ]
     },
     "execution_count": 14,
     "metadata": {},
     "output_type": "execute_result"
    }
   ],
   "source": [
    "sales_four.describe()"
   ]
  },
  {
   "cell_type": "code",
   "execution_count": 27,
   "metadata": {},
   "outputs": [
    {
     "name": "stdout",
     "output_type": "stream",
     "text": [
      "2213.4\n"
     ]
    }
   ],
   "source": [
    "sales_four_mode = sales_four.mode().iloc[0]\n",
    "print(sales_four_mode)"
   ]
  },
  {
   "cell_type": "code",
   "execution_count": 28,
   "metadata": {},
   "outputs": [
    {
     "name": "stdout",
     "output_type": "stream",
     "text": [
      "3176168.629500519\n"
     ]
    }
   ],
   "source": [
    "varianza_sales_four = sales_four.var()\n",
    "print(varianza_sales_four)"
   ]
  },
  {
   "cell_type": "markdown",
   "metadata": {},
   "source": [
    "3. En base a los estadísticos estimados, desarrolla tus observaciones y conclusiones sobre las ventas de los diferentes cuartos en el año.\n"
   ]
  },
  {
   "cell_type": "markdown",
   "metadata": {},
   "source": [
    "- Las ventas en los cuatro cuartos presentan medias y medianas similares, esto podría indicar que la distribución de las ventas es relativamente simétrica.\n",
    "- El Q2 tiene muchos valores dispersos, como lo indican su varianza y desviación estándar más altas.\n",
    "- El Q3 muestra una moda significativamente más baja que las demás, lo que podría indicar la presencia de un mayor número de ventas bajas en este cuarto.\n",
    "- En general, los cuartiles muestran que las ventas están distribuidas de manera consistente, con valores más altos en el Q2 y Q4 en comparación con el Q1 y Q3.\n"
   ]
  },
  {
   "cell_type": "markdown",
   "metadata": {},
   "source": [
    "\n",
    "4. Apoya tus obsetvaciones con diagramas de dispersion, boxplots, histogramas, o algun otro."
   ]
  },
  {
   "cell_type": "markdown",
   "metadata": {},
   "source": [
    "- En el siguiente gráfico indica la distribución de las ventas por cuartos. Se observa que las ventas más altas son en el cuarto 2 y 4 mientras que en el cuarto 1 y 3 son más bajas."
   ]
  },
  {
   "cell_type": "code",
   "execution_count": 18,
   "metadata": {},
   "outputs": [
    {
     "data": {
      "image/png": "[encoded data removed]",
      "text/plain": [
       "<Figure size 1000x600 with 1 Axes>"
      ]
     },
     "metadata": {},
     "output_type": "display_data"
    }
   ],
   "source": [
    "plt.figure(figsize=(10, 6))\n",
    "\n",
    "# Gráfico de líneas para cada cuarto del año\n",
    "plt.plot(sales_one.sort_values().values, label='Q1', marker='o') # utilizamos sort_values() para ordenar los valores de ventas\n",
    "plt.plot(sales_two.sort_values().values, label='Q2', marker='o')\n",
    "plt.plot(sales_three.sort_values().values, label='Q3', marker='o')\n",
    "plt.plot(sales_four.sort_values().values, label='Q4', marker='o')\n",
    "\n",
    "# Etiquetas y título\n",
    "plt.ylabel('Ventas')\n",
    "plt.title('Ventas crecientes por cuarto del año')\n",
    "plt.legend()\n",
    "plt.grid()\n",
    "plt.show()"
   ]
  }
 ],
 "metadata": {
  "kernelspec": {
   "display_name": "base",
   "language": "python",
   "name": "python3"
  },
  "language_info": {
   "codemirror_mode": {
    "name": "ipython",
    "version": 3
   },
   "file_extension": ".py",
   "mimetype": "text/x-python",
   "name": "python",
   "nbconvert_exporter": "python",
   "pygments_lexer": "ipython3",
   "version": "3.12.7"
  }
 },
 "nbformat": 4,
 "nbformat_minor": 2
}
