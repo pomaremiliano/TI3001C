{
 "cells": [
  {
   "cell_type": "markdown",
   "metadata": {},
   "source": [
    "# Actividad 3\n",
    "\n",
    "Jorge Emiliano Pomar A01709338\n"
   ]
  },
  {
   "cell_type": "code",
   "execution_count": 2,
   "metadata": {},
   "outputs": [],
   "source": [
    "import pandas as pd"
   ]
  },
  {
   "cell_type": "code",
   "execution_count": null,
   "metadata": {},
   "outputs": [],
   "source": [
    "Prueba = pd.Series([23, 12, 14, 15, 16, 23, 11, 10, 20, 20, 20, 23, 11, 11])"
   ]
  },
  {
   "cell_type": "code",
   "execution_count": null,
   "metadata": {},
   "outputs": [
    {
     "name": "stdout",
     "output_type": "stream",
     "text": [
      "Rango:  13\n",
      "Varianza:  23.229591836734695\n",
      "Desviación Típica:  4.819708687953526\n",
      "Coeficiente de variacion:  0.2946546796128793\n",
      "Coeficiente de variacion:  0.2946546796128793\n"
     ]
    }
   ],
   "source": [
    "print(\"Rango: \", Prueba.max() - Prueba.min())\n",
    "print(\"Varianza: \", Prueba.var(ddof=0))\n",
    "print(\"Desviación Típica: \", Prueba.std(ddof=0))\n",
    "print(\"Coeficiente de variacion: \", Prueba.std(ddof=0) / Prueba.mean())\n",
    "import scipy.stats as ss\n",
    "\n",
    "print(\"Coeficiente de variacion: \", ss.variation(Prueba))"
   ]
  }
 ],
 "metadata": {
  "kernelspec": {
   "display_name": "base",
   "language": "python",
   "name": "python3"
  },
  "language_info": {
   "codemirror_mode": {
    "name": "ipython",
    "version": 3
   },
   "file_extension": ".py",
   "mimetype": "text/x-python",
   "name": "python",
   "nbconvert_exporter": "python",
   "pygments_lexer": "ipython3",
   "version": "3.12.7"
  }
 },
 "nbformat": 4,
 "nbformat_minor": 2
}
