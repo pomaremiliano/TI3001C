{
 "cells": [
  {
   "cell_type": "markdown",
   "metadata": {},
   "source": [
    "# Actividad 1\n",
    "\n",
    "Jorge Emiliano Pomar A01709338\n"
   ]
  },
  {
   "cell_type": "code",
   "execution_count": null,
   "metadata": {},
   "outputs": [],
   "source": [
    "import pandas as pd\n",
    "\n",
    "df = pd.read_csv(\"california_housing_test.csv\")"
   ]
  },
  {
   "cell_type": "code",
   "execution_count": 2,
   "metadata": {},
   "outputs": [
    {
     "name": "stdout",
     "output_type": "stream",
     "text": [
      "\n",
      "      Media: 529.950667\n",
      "      Mediana: 437.000000\n",
      "      Moda: 314.000000\n",
      "      \n"
     ]
    },
    {
     "name": "stderr",
     "output_type": "stream",
     "text": [
      "C:\\Users\\pomar\\AppData\\Local\\Temp\\ipykernel_19800\\934525913.py:6: FutureWarning: Calling float on a single element Series is deprecated and will raise a TypeError in the future. Use float(ser.iloc[0]) instead\n",
      "  \"\"\"\n"
     ]
    }
   ],
   "source": [
    "media = df[\"total_bedrooms\"].mean()\n",
    "mediana = df[\"total_bedrooms\"].median()\n",
    "moda = df[\"total_bedrooms\"].mode()\n",
    "\n",
    "print(\n",
    "    \"\"\"\n",
    "      Media: %f\n",
    "      Mediana: %f\n",
    "      Moda: %f\n",
    "      \"\"\"\n",
    "    % (media, mediana, moda)\n",
    ")"
   ]
  }
 ],
 "metadata": {
  "kernelspec": {
   "display_name": "base",
   "language": "python",
   "name": "python3"
  },
  "language_info": {
   "codemirror_mode": {
    "name": "ipython",
    "version": 3
   },
   "file_extension": ".py",
   "mimetype": "text/x-python",
   "name": "python",
   "nbconvert_exporter": "python",
   "pygments_lexer": "ipython3",
   "version": "3.12.7"
  }
 },
 "nbformat": 4,
 "nbformat_minor": 2
}
