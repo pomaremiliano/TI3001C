{
 "cells": [
  {
   "cell_type": "markdown",
   "metadata": {
    "id": "Ded4ZWbHmJBE"
   },
   "source": [
    "### **Análisis de varianza - ANOVA**\n",
    "- Jorge Emiliano Pomar \n",
    "- A01709338\n",
    "- Fecha: 10 de abril de 2025\n",
    "\n",
    "\n",
    "En estadística, el análisis de la varianza (ANOVA por sus sigloides en inglés, ANalysis Of VAriance) es una colección de modelos estadísticos y sus procedimientos asociados, en el cual la varianza está particionada en ciertos componentes debidos a diferentes variables explicativas.\n",
    "\n",
    "La base de datos de esta aplicación se encuentra en el siguiente [enlace.](https://www.kaggle.com/heesoo37/120-years-of-olympic-history-athletes-and-results)"
   ]
  },
  {
   "cell_type": "markdown",
   "metadata": {
    "id": "HaPg3iTBnWo0"
   },
   "source": [
    "## **Base de datos**\n",
    "ID - Identificador por atleta\n",
    "\n",
    "1. Name - Nombre del atleta\n",
    "\n",
    "2. Sex - Genero **M**asculino o **F**emenino\n",
    "\n",
    "3. Age - Edad\n",
    "\n",
    "4. Height - Altura en centimetros\n",
    "\n",
    "5. Weight - Peso en kilogramos\n",
    "\n",
    "6. Team - Nombre del equipo\n",
    "\n",
    "7. NOC -  Código de 3 letras\n",
    "\n",
    "8. Games - Año y estación\n",
    "\n",
    "9. Year - Año de evento\n",
    "\n",
    "10. Season - Verano o Invierno\n",
    "\n",
    "11. City - Ciudad de los juegos\n",
    "\n",
    "12. Sport - Deporte\n",
    "\n",
    "13. Event - Evento\n",
    "\n",
    "14. Medal - Oro, Plata, Bronce, o NA"
   ]
  },
  {
   "cell_type": "code",
   "execution_count": 1,
   "metadata": {
    "id": "_BdTft9dlB0i"
   },
   "outputs": [],
   "source": [
    "import pandas as pd"
   ]
  },
  {
   "cell_type": "code",
   "execution_count": 2,
   "metadata": {
    "id": "Gba4aSwCogPE"
   },
   "outputs": [],
   "source": [
    "datos =  pd.read_csv(\"Copia de athlete_events.csv\")"
   ]
  },
  {
   "cell_type": "code",
   "execution_count": 3,
   "metadata": {
    "id": "kLaIuMg-onpu"
   },
   "outputs": [
    {
     "data": {
      "text/html": [
       "<div>\n",
       "<style scoped>\n",
       "    .dataframe tbody tr th:only-of-type {\n",
       "        vertical-align: middle;\n",
       "    }\n",
       "\n",
       "    .dataframe tbody tr th {\n",
       "        vertical-align: top;\n",
       "    }\n",
       "\n",
       "    .dataframe thead th {\n",
       "        text-align: right;\n",
       "    }\n",
       "</style>\n",
       "<table border=\"1\" class=\"dataframe\">\n",
       "  <thead>\n",
       "    <tr style=\"text-align: right;\">\n",
       "      <th></th>\n",
       "      <th>ID</th>\n",
       "      <th>Name</th>\n",
       "      <th>Sex</th>\n",
       "      <th>Age</th>\n",
       "      <th>Height</th>\n",
       "      <th>Weight</th>\n",
       "      <th>Team</th>\n",
       "      <th>NOC</th>\n",
       "      <th>Games</th>\n",
       "      <th>Year</th>\n",
       "      <th>Season</th>\n",
       "      <th>City</th>\n",
       "      <th>Sport</th>\n",
       "      <th>Event</th>\n",
       "      <th>Medal</th>\n",
       "    </tr>\n",
       "  </thead>\n",
       "  <tbody>\n",
       "    <tr>\n",
       "      <th>0</th>\n",
       "      <td>1</td>\n",
       "      <td>A Dijiang</td>\n",
       "      <td>M</td>\n",
       "      <td>24.0</td>\n",
       "      <td>180.0</td>\n",
       "      <td>80.0</td>\n",
       "      <td>China</td>\n",
       "      <td>CHN</td>\n",
       "      <td>1992 Summer</td>\n",
       "      <td>1992</td>\n",
       "      <td>Summer</td>\n",
       "      <td>Barcelona</td>\n",
       "      <td>Basketball</td>\n",
       "      <td>Basketball Men's Basketball</td>\n",
       "      <td>NaN</td>\n",
       "    </tr>\n",
       "    <tr>\n",
       "      <th>1</th>\n",
       "      <td>2</td>\n",
       "      <td>A Lamusi</td>\n",
       "      <td>M</td>\n",
       "      <td>23.0</td>\n",
       "      <td>170.0</td>\n",
       "      <td>60.0</td>\n",
       "      <td>China</td>\n",
       "      <td>CHN</td>\n",
       "      <td>2012 Summer</td>\n",
       "      <td>2012</td>\n",
       "      <td>Summer</td>\n",
       "      <td>London</td>\n",
       "      <td>Judo</td>\n",
       "      <td>Judo Men's Extra-Lightweight</td>\n",
       "      <td>NaN</td>\n",
       "    </tr>\n",
       "    <tr>\n",
       "      <th>2</th>\n",
       "      <td>3</td>\n",
       "      <td>Gunnar Nielsen Aaby</td>\n",
       "      <td>M</td>\n",
       "      <td>24.0</td>\n",
       "      <td>NaN</td>\n",
       "      <td>NaN</td>\n",
       "      <td>Denmark</td>\n",
       "      <td>DEN</td>\n",
       "      <td>1920 Summer</td>\n",
       "      <td>1920</td>\n",
       "      <td>Summer</td>\n",
       "      <td>Antwerpen</td>\n",
       "      <td>Football</td>\n",
       "      <td>Football Men's Football</td>\n",
       "      <td>NaN</td>\n",
       "    </tr>\n",
       "    <tr>\n",
       "      <th>3</th>\n",
       "      <td>4</td>\n",
       "      <td>Edgar Lindenau Aabye</td>\n",
       "      <td>M</td>\n",
       "      <td>34.0</td>\n",
       "      <td>NaN</td>\n",
       "      <td>NaN</td>\n",
       "      <td>Denmark/Sweden</td>\n",
       "      <td>DEN</td>\n",
       "      <td>1900 Summer</td>\n",
       "      <td>1900</td>\n",
       "      <td>Summer</td>\n",
       "      <td>Paris</td>\n",
       "      <td>Tug-Of-War</td>\n",
       "      <td>Tug-Of-War Men's Tug-Of-War</td>\n",
       "      <td>Gold</td>\n",
       "    </tr>\n",
       "    <tr>\n",
       "      <th>4</th>\n",
       "      <td>5</td>\n",
       "      <td>Christine Jacoba Aaftink</td>\n",
       "      <td>F</td>\n",
       "      <td>21.0</td>\n",
       "      <td>185.0</td>\n",
       "      <td>82.0</td>\n",
       "      <td>Netherlands</td>\n",
       "      <td>NED</td>\n",
       "      <td>1988 Winter</td>\n",
       "      <td>1988</td>\n",
       "      <td>Winter</td>\n",
       "      <td>Calgary</td>\n",
       "      <td>Speed Skating</td>\n",
       "      <td>Speed Skating Women's 500 metres</td>\n",
       "      <td>NaN</td>\n",
       "    </tr>\n",
       "  </tbody>\n",
       "</table>\n",
       "</div>"
      ],
      "text/plain": [
       "   ID                      Name Sex   Age  Height  Weight            Team  \\\n",
       "0   1                 A Dijiang   M  24.0   180.0    80.0           China   \n",
       "1   2                  A Lamusi   M  23.0   170.0    60.0           China   \n",
       "2   3       Gunnar Nielsen Aaby   M  24.0     NaN     NaN         Denmark   \n",
       "3   4      Edgar Lindenau Aabye   M  34.0     NaN     NaN  Denmark/Sweden   \n",
       "4   5  Christine Jacoba Aaftink   F  21.0   185.0    82.0     Netherlands   \n",
       "\n",
       "   NOC        Games  Year  Season       City          Sport  \\\n",
       "0  CHN  1992 Summer  1992  Summer  Barcelona     Basketball   \n",
       "1  CHN  2012 Summer  2012  Summer     London           Judo   \n",
       "2  DEN  1920 Summer  1920  Summer  Antwerpen       Football   \n",
       "3  DEN  1900 Summer  1900  Summer      Paris     Tug-Of-War   \n",
       "4  NED  1988 Winter  1988  Winter    Calgary  Speed Skating   \n",
       "\n",
       "                              Event Medal  \n",
       "0       Basketball Men's Basketball   NaN  \n",
       "1      Judo Men's Extra-Lightweight   NaN  \n",
       "2           Football Men's Football   NaN  \n",
       "3       Tug-Of-War Men's Tug-Of-War  Gold  \n",
       "4  Speed Skating Women's 500 metres   NaN  "
      ]
     },
     "execution_count": 3,
     "metadata": {},
     "output_type": "execute_result"
    }
   ],
   "source": [
    "datos.head()"
   ]
  },
  {
   "cell_type": "code",
   "execution_count": 4,
   "metadata": {
    "id": "jfBVJOJyoqKp"
   },
   "outputs": [
    {
     "data": {
      "text/plain": [
       "ID             0\n",
       "Name           0\n",
       "Sex            0\n",
       "Age         9474\n",
       "Height     60171\n",
       "Weight     62875\n",
       "Team           0\n",
       "NOC            0\n",
       "Games          0\n",
       "Year           0\n",
       "Season         0\n",
       "City           0\n",
       "Sport          0\n",
       "Event          0\n",
       "Medal     231333\n",
       "dtype: int64"
      ]
     },
     "execution_count": 4,
     "metadata": {},
     "output_type": "execute_result"
    }
   ],
   "source": [
    "datos.isna().sum()"
   ]
  },
  {
   "cell_type": "code",
   "execution_count": 5,
   "metadata": {
    "id": "BW-SU7MdozQ6"
   },
   "outputs": [
    {
     "data": {
      "text/plain": [
       "(271116, 15)"
      ]
     },
     "execution_count": 5,
     "metadata": {},
     "output_type": "execute_result"
    }
   ],
   "source": [
    "datos.shape"
   ]
  },
  {
   "cell_type": "code",
   "execution_count": 6,
   "metadata": {
    "id": "ht-TLwTbo6SK"
   },
   "outputs": [],
   "source": [
    "datos = datos.dropna()"
   ]
  },
  {
   "cell_type": "code",
   "execution_count": 7,
   "metadata": {
    "id": "9-5uIaCUqgxC"
   },
   "outputs": [
    {
     "data": {
      "text/plain": [
       "(30181, 15)"
      ]
     },
     "execution_count": 7,
     "metadata": {},
     "output_type": "execute_result"
    }
   ],
   "source": [
    "datos.shape"
   ]
  },
  {
   "cell_type": "markdown",
   "metadata": {
    "id": "40yD0gfAqQXL"
   },
   "source": [
    "## **ANOVA de una vía**\n",
    "Caso especial del análisis de varianza en el cual se considera un factor ([más información](https://en.wikipedia.org/wiki/One-way_analysis_of_variance))."
   ]
  },
  {
   "cell_type": "code",
   "execution_count": 11,
   "metadata": {
    "id": "7xWIevz2rHXa"
   },
   "outputs": [],
   "source": [
    "PesoColombia = datos.Weight[datos.Team ==\"Colombia\"]\n",
    "PesoRusia = datos.Weight[datos.Team =='Russia']\n",
    "PesoPeru = datos.Weight[datos.Team =='Peru']\n"
   ]
  },
  {
   "cell_type": "markdown",
   "metadata": {
    "id": "ojHcjPh4Iq1H"
   },
   "source": [
    "Calcula la ANOVA y describe tus conclusiones"
   ]
  },
  {
   "cell_type": "code",
   "execution_count": 9,
   "metadata": {
    "colab": {
     "base_uri": "https://localhost:8080/"
    },
    "id": "1TrtCwH-reXt",
    "outputId": "578eda6c-ae48-4b31-ab67-547c2bb281b9"
   },
   "outputs": [
    {
     "data": {
      "text/plain": [
       "F_onewayResult(statistic=4.408406092866227, pvalue=0.012384845550063571)"
      ]
     },
     "execution_count": 9,
     "metadata": {},
     "output_type": "execute_result"
    }
   ],
   "source": [
    "from scipy import stats\n",
    "anova = stats.f_oneway(PesoColombia, PesoRusia, PesoPeru)\n",
    "anova"
   ]
  },
  {
   "cell_type": "markdown",
   "metadata": {
    "id": "sjWnM9u6I1Zz"
   },
   "source": [
    "Tus Observaciones/ conclusiones aquí\n",
    "\n",
    "Observa el p-value,\n",
    "Observa las medias de cada uno de los grupos,\n",
    "Observa la cantidad de datos por grupo"
   ]
  },
  {
   "cell_type": "code",
   "execution_count": 12,
   "metadata": {},
   "outputs": [
    {
     "name": "stdout",
     "output_type": "stream",
     "text": [
      "5689      70.0\n",
      "5690      70.0\n",
      "18279     78.0\n",
      "18281     78.0\n",
      "33902     51.0\n",
      "69146     62.0\n",
      "69147     62.0\n",
      "101861    70.0\n",
      "101862    70.0\n",
      "111207    54.0\n",
      "151136    49.0\n",
      "164286    64.0\n",
      "164287    53.0\n",
      "165939    58.0\n",
      "177737    85.0\n",
      "180331    50.0\n",
      "180332    50.0\n",
      "185509    59.0\n",
      "196460    65.0\n",
      "199153    58.0\n",
      "199154    58.0\n",
      "199333    58.0\n",
      "203284    56.0\n",
      "208487    62.0\n",
      "246456    53.0\n",
      "246669    78.0\n",
      "247532    50.0\n",
      "Name: Weight, dtype: float64 27728     95.0\n",
      "37847     70.0\n",
      "51127     59.0\n",
      "66098     62.0\n",
      "75122     57.0\n",
      "76249     69.0\n",
      "79227     94.0\n",
      "94622     69.0\n",
      "98804     76.0\n",
      "147339    59.0\n",
      "185611    72.0\n",
      "234999    70.0\n",
      "242031    59.0\n",
      "246625    65.0\n",
      "Name: Weight, dtype: float64 163       80.0\n",
      "195       60.0\n",
      "789       62.0\n",
      "790       62.0\n",
      "794       62.0\n",
      "          ... \n",
      "270934    62.0\n",
      "270939    71.0\n",
      "270986    59.0\n",
      "271102    64.0\n",
      "271103    64.0\n",
      "Name: Weight, Length: 1091, dtype: float64\n"
     ]
    }
   ],
   "source": [
    "print(PesoColombia, PesoPeru, PesoRusia)"
   ]
  },
  {
   "cell_type": "markdown",
   "metadata": {},
   "source": [
    "## Observaciones / Conclusiones\n",
    "\n",
    "- p-value: El valor p obtenido es 0.012, lo cual es menor a 0.05. Esto indica que se rechaza la hipótesis nula, es decir, hay diferencias significativas entre los pesos de los grupos analizados (Colombia, Rusia y Perú).\n",
    "\n",
    "### Conclusión:\n",
    "El análisis muestra que existen diferencias significativas en los pesos promedio de los atletas de Colombia, Rusia y Perú. El tamaño de las muestras es de 27728, 163, 1091. Estos tamaños no son uniformes o equilibrados, lo que puede influir en la interpretación de los resultados. Sin embargo, el hecho de que el p-value sea menor a 0.05 sugiere que las diferencias observadas no son producto del azar y que hay un efecto real de la nacionalidad en el peso de los atletas."
   ]
  },
  {
   "cell_type": "markdown",
   "metadata": {
    "id": "5zODSHVeJbvE"
   },
   "source": [
    "Lista los equipos que existen y selecciona 3 diferentes a los usados  anteriormente. Calcula la ANOVA, busca que el p-value sea mayor o igual a 0.05. Observa la media, cantidad de elementos de los grupos. Anota tus comentarios y conclusiones."
   ]
  },
  {
   "cell_type": "code",
   "execution_count": 21,
   "metadata": {
    "id": "ghS7CYzEJhbb"
   },
   "outputs": [
    {
     "name": "stdout",
     "output_type": "stream",
     "text": [
      "['Finland' 'Norway' 'Netherlands' 'Italy' 'Spain' 'Azerbaijan' 'Russia'\n",
      " 'Belarus' 'France' 'Cameroon' 'United States' 'Hungary' 'Australia'\n",
      " 'Iran' 'Canada' 'Pakistan' 'Soviet Union' 'Uzbekistan' 'Tajikistan'\n",
      " 'Unified Team' 'Japan' 'Ethiopia' 'East Germany' 'Sweden' 'Turkey'\n",
      " 'Bulgaria' 'Egypt' 'Great Britain' 'Jordan' 'Romania' 'Switzerland'\n",
      " 'Puerto Rico' 'Mexico' 'Ghana' 'Morocco' 'New Zealand' 'Germany'\n",
      " 'Switzerland-1' 'Switzerland-2' 'Argentina' 'Cuba' 'Poland'\n",
      " 'Czechoslovakia' 'Nigeria' 'Brazil' 'France-1' 'Germany-2' 'Lithuania'\n",
      " 'South Africa' 'United States-1' 'Indonesia' 'Indonesia-1' 'Germany-1'\n",
      " 'Mutafo' 'Chile' 'Ukraine' 'Greece' 'Uganda' 'Syria' 'Qatar' 'Kuwait'\n",
      " 'Individual Olympic Athletes' 'Saudi Arabia' 'United Arab Emirates'\n",
      " 'Croatia' 'West Germany' 'Soviet Union-2' 'Armenia' 'Serbia' 'Niger'\n",
      " 'India' 'Brazil-1' 'Algeria' 'Austria' 'Trinidad and Tobago' 'Colombia'\n",
      " 'Italy-2' 'East Germany-1' 'Botswana' 'Tunisia' 'South Korea'\n",
      " 'South Korea-2' 'North Korea' 'China' 'Yugoslavia' 'Denmark' 'Uruguay'\n",
      " 'Guyana' 'Austria-1' 'Great Britain-2' 'Italy-1' 'Kazakhstan' 'Georgia'\n",
      " 'Kenya' 'Iceland' 'Jamaica' 'Sweden-2' 'Russia-1' 'Malaysia'\n",
      " 'Czech Republic' 'Slovakia' 'West Germany-1' 'Great Britain-1' 'Bahamas'\n",
      " 'United States-2' 'Paraguay' 'Montenegro' 'Ireland' 'Portugal'\n",
      " 'London City Police-1' 'Guatemala' 'Luxembourg' 'Belgium' 'Bingo'\n",
      " 'Serbia and Montenegro' 'Tanzania' 'Australasia' 'Lebanon'\n",
      " 'Unified Team-2' 'Kyrgyzstan' 'East Germany-2' 'Symphony'\n",
      " 'Soviet Union-1' 'France-2' 'Widgeon' 'Russia-2' 'Sirene' 'Snap' 'Tip'\n",
      " 'White Lady' 'Web II' 'Canada-1' 'Venezuela' 'Thailand' 'Togo' 'Peru'\n",
      " 'Netherlands-1' 'Canada-2' 'Estonia' 'Slovenia' 'Libellule de Paris'\n",
      " 'Winnipeg Shamrocks-1' 'China-1' 'Tango' 'Elvis Va' 'Haiti'\n",
      " 'Chinese Taipei' 'Zimbabwe' 'Malaysia-1' 'Mongolia' 'Venilia' 'Moldova'\n",
      " \"Cote d'Ivoire\" 'Australia-1' 'Gem' 'Ballerina IV' 'Fiji'\n",
      " 'New York Athletic Club #1-1' 'Kurush II' 'Aphrodite' 'China-2' 'Senegal'\n",
      " 'Dominican Republic' 'Philippines' 'Unified Team-1' 'Latvia-1' 'Latvia'\n",
      " 'Brazil-2' 'Denmark-2' 'Nirefs' 'Gem IV' 'Singapore' 'Elisabeth X' 'Skum'\n",
      " 'Namibia' 'Israel' 'Liechtenstein' 'Japan-1' 'West Indies Federation'\n",
      " 'Shrew II' 'Chicago Athletic Association' 'Don Schufro'\n",
      " 'Philadelphia Turngemeinde, Philadelphia' 'Bermuda' 'Czech Republic-1'\n",
      " 'Vietnam' 'United States Virgin Islands' 'Ukraine-1' 'South Korea-1'\n",
      " 'Minotaur' 'Macedonia' 'Sudan' 'Bahrain' 'Grenada' 'Bluebottle'\n",
      " 'Sri Lanka' 'Clearwater' 'Mauritius' 'Macky VI' 'Rush VII' 'Kosovo'\n",
      " 'Bonaparte' 'Toronto Argonauts' 'Hong Kong-2' 'Cyprus' 'Poland-1'\n",
      " 'St. Louis Southwest Turnverein #2-3' 'Panama' 'Hong Kong' 'Spain-2'\n",
      " 'Moseley Wanderers' 'Kathleen' 'Jest' 'Zambia' 'Spain-1' 'Nadine'\n",
      " 'Rose Pompon' 'Lady C' 'Mozambique' 'Hungary-1' 'Romania-1' 'Suriname'\n",
      " 'New York Athletic Club' 'Denmark-1' 'Afghanistan' 'Burundi' 'Barrenjoey'\n",
      " 'Gabon' 'Union des Socits Franais de Sports Athletiques' 'Slaghoken II'\n",
      " 'Pandora' 'Ecuador' 'Humbug V' 'Tornado' 'Costa Rica'\n",
      " 'Royal Club Nautique de Gand' \"Ma'Lindo\" 'Racing Club de France' 'Djinn'\n",
      " 'Czechoslovakia-1' 'Amateur Athletic Association' 'Djibouti' 'Sunrise'\n",
      " 'Austria-2' 'China-3' 'Malaysia-2' 'Ralia' 'Glider' 'Rush V' 'Merope'\n",
      " 'Merope III' 'Buraddoo' 'Eritrea' 'Falcon IV' 'Argonaut Rowing Club'\n",
      " 'Barbados' 'West Germany-2' 'New York Athletic Club-1' 'Salinero'\n",
      " 'Satchmo' 'Tonga' 'England-1' 'Digby']\n"
     ]
    }
   ],
   "source": [
    "# Tu código aquí\n",
    "equipos = datos['Team'].unique()\n",
    "print(equipos)\n",
    "\n"
   ]
  },
  {
   "cell_type": "code",
   "execution_count": 24,
   "metadata": {},
   "outputs": [
    {
     "name": "stdout",
     "output_type": "stream",
     "text": [
      "Anova: F_onewayResult(statistic=1.0939372546819457, pvalue=0.33511185744781663)\n"
     ]
    }
   ],
   "source": [
    "Peso1 = datos.Weight[datos.Team == 'Belgium']\n",
    "Peso2 = datos.Weight[datos.Team == 'Germany']\n",
    "Peso3 = datos.Weight[datos.Team == 'Austria']\n",
    "\n",
    "anova_nueva = stats.f_oneway(Peso1, Peso2, Peso3)\n",
    "print(\"Anova:\", anova_nueva)"
   ]
  },
  {
   "cell_type": "code",
   "execution_count": 25,
   "metadata": {},
   "outputs": [
    {
     "name": "stdout",
     "output_type": "stream",
     "text": [
      "15789     70.0\n",
      "23817     79.0\n",
      "25506     81.0\n",
      "25960     57.0\n",
      "28647     68.0\n",
      "          ... \n",
      "249731    63.0\n",
      "249746    76.0\n",
      "251061    84.0\n",
      "257657    79.0\n",
      "259031    70.0\n",
      "Name: Weight, Length: 88, dtype: float64 1244      69.0\n",
      "1246      69.0\n",
      "1247      69.0\n",
      "1533      87.0\n",
      "1737      62.0\n",
      "          ... \n",
      "269783    93.0\n",
      "269855    65.0\n",
      "269989    80.0\n",
      "271009    60.0\n",
      "271019    64.0\n",
      "Name: Weight, Length: 1518, dtype: float64 4994      53.0\n",
      "12006     70.0\n",
      "16272     68.0\n",
      "21548     70.0\n",
      "21551     70.0\n",
      "          ... \n",
      "262478    67.0\n",
      "267310    77.0\n",
      "268578    93.0\n",
      "268629    61.0\n",
      "269861    80.0\n",
      "Name: Weight, Length: 247, dtype: float64\n"
     ]
    }
   ],
   "source": [
    "print(Peso1, Peso2, Peso3)"
   ]
  },
  {
   "cell_type": "code",
   "execution_count": 26,
   "metadata": {},
   "outputs": [
    {
     "name": "stdout",
     "output_type": "stream",
     "text": [
      "Media Peso1: 74.07954545454545\n",
      "Media Peso2: 73.7463768115942\n",
      "Media Peso3: 72.4251012145749\n"
     ]
    }
   ],
   "source": [
    "media_peso1 = Peso1.mean()\n",
    "media_peso2 = Peso2.mean()\n",
    "media_peso3 = Peso3.mean()\n",
    "\n",
    "print(\"Media Peso1:\", media_peso1)\n",
    "print(\"Media Peso2:\", media_peso2)\n",
    "print(\"Media Peso3:\", media_peso3)"
   ]
  },
  {
   "cell_type": "markdown",
   "metadata": {
    "id": "jvlRd_yLOTyp"
   },
   "source": [
    "### Observaciones / Conclusiones\n",
    "- p-value: El valor p obtenido es 0.335, lo cual es mayor a 0.05. Esto indica que no se rechaza la hipótesis nula, es decir, no hay diferencias significativas entre los pesos de los grupos analizados (Belgium, Germany y Austria).\n",
    "- media: Los pesos promedio de los grupos son 74.07 kg (Belgium), 73.74 kg (Germany) y 72.42 kg (Austria).\n",
    "\n",
    "### Conclusión:\n",
    "El análisis muestra que no existen diferencias significativas en los pesos promedio de los atletas de Belgium, Germany y Austria. El tamaño de las muestras es de 88, 1518 y 247 respectivamente. Aunque los tamaños de las muestras no son uniformes, el p-value mayor a 0.05 sugiere que las diferencias observadas podrían ser por suerte y no de un efecto real de la nacionalidad en el peso de los atletas. Principalmente porque escogí equipos al azar y no por su desempeño en los juegos olímpicos. Lo que sí tienen en común es que son países europeos muy cercanos entre sí, lo que podría explicar la similitud en los pesos de los atletas."
   ]
  }
 ],
 "metadata": {
  "colab": {
   "provenance": []
  },
  "kernelspec": {
   "display_name": "base",
   "language": "python",
   "name": "python3"
  },
  "language_info": {
   "codemirror_mode": {
    "name": "ipython",
    "version": 3
   },
   "file_extension": ".py",
   "mimetype": "text/x-python",
   "name": "python",
   "nbconvert_exporter": "python",
   "pygments_lexer": "ipython3",
   "version": "3.12.7"
  }
 },
 "nbformat": 4,
 "nbformat_minor": 0
}
