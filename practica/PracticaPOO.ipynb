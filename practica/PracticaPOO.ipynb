{
 "cells": [
  {
   "cell_type": "markdown",
   "metadata": {},
   "source": [
    "1. Clases y Objetos\n",
    "\n",
    "📌 Ejercicio:\n",
    "Crea una clase Estudiante que tenga los atributos nombre, edad y carrera. Luego, crea un método que imprima la información del estudiante.\n",
    "\n",
    "Implementa una función main() donde crees una instancia de Estudiante y llames al método para mostrar la información."
   ]
  },
  {
   "cell_type": "code",
   "execution_count": 2,
   "metadata": {},
   "outputs": [
    {
     "name": "stdout",
     "output_type": "stream",
     "text": [
      "Nombre: EmilianoEdad: 21Carrera: ITC\n"
     ]
    }
   ],
   "source": [
    "class Estudiante:\n",
    "    def __init__(self, nombre, edad, carrera):\n",
    "        self.nombre = nombre\n",
    "        self.edad = edad\n",
    "        self.carrera = carrera\n",
    "        \n",
    "    def imprime_info(self):\n",
    "        print(\"Nombre: \" + self.nombre + \"Edad: \" + str(self.edad) + \"Carrera: \" + self.carrera)\n",
    "        \n",
    "def main():\n",
    "    e = Estudiante(\"Emiliano\", 21, \"ITC\")\n",
    "    e.imprime_info()\n",
    "main()"
   ]
  },
  {
   "cell_type": "markdown",
   "metadata": {},
   "source": [
    "2. Atributos, Métodos y Constructores\n",
    "\n",
    "📌 Ejercicio:\n",
    "Crea una clase CuentaBancaria con los atributos titular y saldo.\n",
    "\n",
    "    Implementa un constructor que permita inicializar estos atributos.\n",
    "    Agrega un método depositar(cantidad) que aumente el saldo.\n",
    "    Agrega un método retirar(cantidad) que disminuya el saldo, pero solo si hay fondos suficientes.\n",
    "\n",
    "En la función main(), crea una cuenta bancaria y realiza algunas operaciones de depósito y retiro."
   ]
  },
  {
   "cell_type": "code",
   "execution_count": 5,
   "metadata": {},
   "outputs": [
    {
     "name": "stdout",
     "output_type": "stream",
     "text": [
      "Saldo insuficiente\n",
      "Titular: EmilianoSaldo: 4030\n"
     ]
    }
   ],
   "source": [
    "class CuentaBancaria():\n",
    "    def __init__(self, titular, saldo):\n",
    "        self.titular = titular\n",
    "        self.saldo = saldo\n",
    "    \n",
    "    def depositar(self, cantidad):\n",
    "        self.saldo = self.saldo + cantidad\n",
    "        return self.saldo\n",
    "\n",
    "    def retirar(self, cantidad):\n",
    "        if self.saldo >= cantidad:\n",
    "            return self.saldo - cantidad\n",
    "        else:\n",
    "            print(\"Saldo insuficiente\")\n",
    "\n",
    "    def estado_cuenta(self):\n",
    "        print(\"Titular: \" + self.titular + \"Saldo: \" + str(self.saldo))\n",
    "        \n",
    "def main():\n",
    "    cuenta = CuentaBancaria(\"Emiliano\", 4000)\n",
    "    cuenta.depositar(30)\n",
    "    cuenta.retirar(10000)\n",
    "    \n",
    "    cuenta.estado_cuenta()\n",
    "\n",
    "main()"
   ]
  },
  {
   "cell_type": "markdown",
   "metadata": {},
   "source": [
    "3. Herencia\n",
    "\n",
    "📌 Ejercicio:\n",
    "Crea una clase Empleado con los atributos nombre y salario.\n",
    "\n",
    "Luego, crea una clase Gerente que herede de Empleado y que agregue un atributo extra llamado departamento.\n",
    "\n",
    "Ambas clases deben tener un método mostrar_info() que imprima los datos correspondientes.\n",
    "\n",
    "En la función main(), crea instancias de ambas clases y muestra su información."
   ]
  },
  {
   "cell_type": "code",
   "execution_count": 6,
   "metadata": {},
   "outputs": [
    {
     "name": "stdout",
     "output_type": "stream",
     "text": [
      "Nombre: Emiliano\n",
      "Salario: 40000\n",
      "Nombre: Emiliano\n",
      "Salario: 40000\n",
      "Departamento: tecnologia\n"
     ]
    }
   ],
   "source": [
    "class Empleado:\n",
    "    def __init__(self, nombre, salario):\n",
    "        self.nombre = nombre\n",
    "        self.salario = salario\n",
    "    \n",
    "    def mostrar_info(self):\n",
    "        print(\"Nombre: \" + self.nombre + \"\\n\" + \"Salario: \" + str(self.salario))\n",
    "        \n",
    "class Gerente(Empleado):\n",
    "    def __init__(self, nombre, salario, departamento):\n",
    "        super().__init__(nombre, salario)\n",
    "        self.departamento = departamento\n",
    "    \n",
    "    def mostrar_info(self):\n",
    "        print(\"Nombre: \" + self.nombre + \"\\n\" + \"Salario: \" + str(self.salario) + \"\\n\" + \"Departamento: \" + self.departamento)\n",
    "        \n",
    "def main():\n",
    "    empleado = Empleado(\"Emiliano\", 40000)\n",
    "    gerente = Gerente(\"Emiliano\", 40000, \"tecnologia\")\n",
    "    \n",
    "    empleado.mostrar_info()\n",
    "    gerente.mostrar_info()\n",
    "    \n",
    "main()"
   ]
  },
  {
   "cell_type": "markdown",
   "metadata": {},
   "source": [
    "4. Expresiones Regulares (Validar un Email)\n",
    "\n",
    "📌 Ejercicio:\n",
    "Escribe una función validar_email(email) que valide si un correo electrónico tiene el formato correcto usando expresiones regulares.\n",
    "\n",
    "Prueba la función con una lista de correos en main() e imprime si son válidos o no."
   ]
  },
  {
   "cell_type": "code",
   "execution_count": null,
   "metadata": {},
   "outputs": [],
   "source": [
    "import re\n",
    "def valida_email(email):\n",
    "    patron = r\"[a-zA-Z0-9._%+-]+@[a-zA-Z0-9._%+-]*\"\n",
    "    regex = re.match(patron, email)\n",
    "    return regex\n",
    "    \n",
    "def main():\n",
    "    \n",
    "    "
   ]
  }
 ],
 "metadata": {
  "kernelspec": {
   "display_name": "base",
   "language": "python",
   "name": "python3"
  },
  "language_info": {
   "codemirror_mode": {
    "name": "ipython",
    "version": 3
   },
   "file_extension": ".py",
   "mimetype": "text/x-python",
   "name": "python",
   "nbconvert_exporter": "python",
   "pygments_lexer": "ipython3",
   "version": "3.12.7"
  }
 },
 "nbformat": 4,
 "nbformat_minor": 2
}
