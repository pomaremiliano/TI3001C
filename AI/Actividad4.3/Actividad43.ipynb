{
 "cells": [
  {
   "cell_type": "markdown",
   "id": "6500e757",
   "metadata": {},
   "source": [
    "# <a id='toc1_'></a>[Actividad 4.3: Clustering, su visualización y PCA](#toc0_)\n",
    "\n",
    "Integrantes: \n",
    "- Iván Ricardo Paredes \n",
    "- Eliuth Balderas Neri \n",
    "- Francisco Couttolenc\n",
    "- Jorge Emiliano Pomar A01709338"
   ]
  },
  {
   "cell_type": "markdown",
   "id": "4dee8cf2",
   "metadata": {},
   "source": [
    "**Índice**<a id='toc0_'></a>    \n",
    "- [Actividad 4.3: Clustering, su visualización y PCA](#toc1_)    \n",
    "  - [Ejercicios de Clustering (60 pts)](#toc1_1_)    \n",
    "    - [Punto 1](#toc1_1_1_)    \n",
    "    - [Punto 2](#toc1_1_2_)    \n",
    "    - [Punto 3](#toc1_1_3_)    \n",
    "    - [Punto 4](#toc1_1_4_)    \n",
    "  - [Ejercicios de PCA (40 pts)](#toc1_2_)    \n",
    "    - [Punto 1](#toc1_2_1_)    \n",
    "    - [Punto 2](#toc1_2_2_)    \n",
    "    - [Punto 3](#toc1_2_3_)    \n",
    "\n",
    "<!-- vscode-jupyter-toc-config\n",
    "\tnumbering=false\n",
    "\tanchor=true\n",
    "\tflat=false\n",
    "\tminLevel=1\n",
    "\tmaxLevel=6\n",
    "\t/vscode-jupyter-toc-config -->\n",
    "<!-- THIS CELL WILL BE REPLACED ON TOC UPDATE. DO NOT WRITE YOUR TEXT IN THIS CELL -->"
   ]
  },
  {
   "cell_type": "markdown",
   "id": "6e6bd5cb",
   "metadata": {},
   "source": [
    "## <a id='toc1_1_'></a>[Ejercicios de Clustering (60 pts)](#toc0_)\n"
   ]
  },
  {
   "cell_type": "markdown",
   "metadata": {},
   "source": [
    "### <a id='toc1_1_1_'></a>[Punto 1](#toc0_)\n",
    "(25 puntos) Sobre este conjunto de datos, evaluarás el algoritmo DBSCAN con diferentes hiperparámetros para evaluar su aptitud en detectar transacciones fraudulentas.\n"
   ]
  },
  {
   "cell_type": "code",
   "execution_count": 39,
   "id": "192385ec",
   "metadata": {},
   "outputs": [
    {
     "name": "stdout",
     "output_type": "stream",
     "text": [
      "<class 'pandas.core.frame.DataFrame'>\n",
      "RangeIndex: 1000 entries, 0 to 999\n",
      "Data columns (total 40 columns):\n",
      " #   Column                       Non-Null Count  Dtype  \n",
      "---  ------                       --------------  -----  \n",
      " 0   months_as_customer           1000 non-null   int64  \n",
      " 1   age                          1000 non-null   int64  \n",
      " 2   policy_number                1000 non-null   int64  \n",
      " 3   policy_bind_date             1000 non-null   object \n",
      " 4   policy_state                 1000 non-null   object \n",
      " 5   policy_csl                   1000 non-null   object \n",
      " 6   policy_deductable            1000 non-null   int64  \n",
      " 7   policy_annual_premium        1000 non-null   float64\n",
      " 8   umbrella_limit               1000 non-null   int64  \n",
      " 9   insured_zip                  1000 non-null   int64  \n",
      " 10  insured_sex                  1000 non-null   object \n",
      " 11  insured_education_level      1000 non-null   object \n",
      " 12  insured_occupation           1000 non-null   object \n",
      " 13  insured_hobbies              1000 non-null   object \n",
      " 14  insured_relationship         1000 non-null   object \n",
      " 15  capital-gains                1000 non-null   int64  \n",
      " 16  capital-loss                 1000 non-null   int64  \n",
      " 17  incident_date                1000 non-null   object \n",
      " 18  incident_type                1000 non-null   object \n",
      " 19  collision_type               1000 non-null   object \n",
      " 20  incident_severity            1000 non-null   object \n",
      " 21  authorities_contacted        909 non-null    object \n",
      " 22  incident_state               1000 non-null   object \n",
      " 23  incident_city                1000 non-null   object \n",
      " 24  incident_location            1000 non-null   object \n",
      " 25  incident_hour_of_the_day     1000 non-null   int64  \n",
      " 26  number_of_vehicles_involved  1000 non-null   int64  \n",
      " 27  property_damage              1000 non-null   object \n",
      " 28  bodily_injuries              1000 non-null   int64  \n",
      " 29  witnesses                    1000 non-null   int64  \n",
      " 30  police_report_available      1000 non-null   object \n",
      " 31  total_claim_amount           1000 non-null   int64  \n",
      " 32  injury_claim                 1000 non-null   int64  \n",
      " 33  property_claim               1000 non-null   int64  \n",
      " 34  vehicle_claim                1000 non-null   int64  \n",
      " 35  auto_make                    1000 non-null   object \n",
      " 36  auto_model                   1000 non-null   object \n",
      " 37  auto_year                    1000 non-null   int64  \n",
      " 38  fraud_reported               1000 non-null   object \n",
      " 39  _c39                         0 non-null      float64\n",
      "dtypes: float64(2), int64(17), object(21)\n",
      "memory usage: 312.6+ KB\n"
     ]
    }
   ],
   "source": [
    "import pandas as pd\n",
    "\n",
    "df = pd.read_csv(\"insurance_claims-1.csv\")\n",
    "df.info()"
   ]
  },
  {
   "cell_type": "code",
   "execution_count": 40,
   "id": "fcb250a1",
   "metadata": {},
   "outputs": [],
   "source": [
    "from sklearn.cluster import DBSCAN\n",
    "from sklearn.preprocessing import StandardScaler\n",
    "\n",
    "# Selecting relevant features for clustering\n",
    "datos_relevantes = df[\n",
    "    [\"months_as_customer\", \"policy_annual_premium\", \"capital-gains\", \"capital-loss\"]\n",
    "]\n",
    "\n",
    "# Normalizamos los datos usando el standard scaler\n",
    "scaler = StandardScaler()\n",
    "# Usamos fit_transform para ajustar el scaler a los datos y transformarlos al mismo tiempo\n",
    "datos_normalizados = scaler.fit_transform(datos_relevantes)"
   ]
  },
  {
   "cell_type": "code",
   "execution_count": 41,
   "id": "3ea34b97",
   "metadata": {},
   "outputs": [],
   "source": [
    "# Le dampos diferentes hiperparámetros a DBSCAN\n",
    "dbscan = DBSCAN(eps=0.5, min_samples=5)\n",
    "clusters = dbscan.fit_predict(datos_normalizados)"
   ]
  },
  {
   "cell_type": "code",
   "execution_count": 42,
   "id": "aca75509",
   "metadata": {},
   "outputs": [],
   "source": [
    "# Manejo de labels de cluster\n",
    "df[\"cluster\"] = clusters"
   ]
  },
  {
   "cell_type": "code",
   "execution_count": 43,
   "id": "8ca6364f",
   "metadata": {},
   "outputs": [
    {
     "data": {
      "text/html": [
       "<div>\n",
       "<style scoped>\n",
       "    .dataframe tbody tr th:only-of-type {\n",
       "        vertical-align: middle;\n",
       "    }\n",
       "\n",
       "    .dataframe tbody tr th {\n",
       "        vertical-align: top;\n",
       "    }\n",
       "\n",
       "    .dataframe thead th {\n",
       "        text-align: right;\n",
       "    }\n",
       "</style>\n",
       "<table border=\"1\" class=\"dataframe\">\n",
       "  <thead>\n",
       "    <tr style=\"text-align: right;\">\n",
       "      <th></th>\n",
       "      <th>months_as_customer</th>\n",
       "      <th>policy_annual_premium</th>\n",
       "      <th>capital-gains</th>\n",
       "      <th>capital-loss</th>\n",
       "      <th>cluster</th>\n",
       "    </tr>\n",
       "  </thead>\n",
       "  <tbody>\n",
       "    <tr>\n",
       "      <th>0</th>\n",
       "      <td>328</td>\n",
       "      <td>1406.91</td>\n",
       "      <td>53300</td>\n",
       "      <td>0</td>\n",
       "      <td>1</td>\n",
       "    </tr>\n",
       "    <tr>\n",
       "      <th>1</th>\n",
       "      <td>228</td>\n",
       "      <td>1197.22</td>\n",
       "      <td>0</td>\n",
       "      <td>0</td>\n",
       "      <td>0</td>\n",
       "    </tr>\n",
       "    <tr>\n",
       "      <th>2</th>\n",
       "      <td>134</td>\n",
       "      <td>1413.14</td>\n",
       "      <td>35100</td>\n",
       "      <td>0</td>\n",
       "      <td>1</td>\n",
       "    </tr>\n",
       "    <tr>\n",
       "      <th>3</th>\n",
       "      <td>256</td>\n",
       "      <td>1415.74</td>\n",
       "      <td>48900</td>\n",
       "      <td>-62400</td>\n",
       "      <td>-1</td>\n",
       "    </tr>\n",
       "    <tr>\n",
       "      <th>4</th>\n",
       "      <td>228</td>\n",
       "      <td>1583.91</td>\n",
       "      <td>66000</td>\n",
       "      <td>-46000</td>\n",
       "      <td>-1</td>\n",
       "    </tr>\n",
       "  </tbody>\n",
       "</table>\n",
       "</div>"
      ],
      "text/plain": [
       "   months_as_customer  policy_annual_premium  capital-gains  capital-loss  \\\n",
       "0                 328                1406.91          53300             0   \n",
       "1                 228                1197.22              0             0   \n",
       "2                 134                1413.14          35100             0   \n",
       "3                 256                1415.74          48900        -62400   \n",
       "4                 228                1583.91          66000        -46000   \n",
       "\n",
       "   cluster  \n",
       "0        1  \n",
       "1        0  \n",
       "2        1  \n",
       "3       -1  \n",
       "4       -1  "
      ]
     },
     "execution_count": 43,
     "metadata": {},
     "output_type": "execute_result"
    }
   ],
   "source": [
    "# Mostramos los primeros 5 resultados\n",
    "df[\n",
    "    [\n",
    "        \"months_as_customer\",\n",
    "        \"policy_annual_premium\",\n",
    "        \"capital-gains\",\n",
    "        \"capital-loss\",\n",
    "        \"cluster\",\n",
    "    ]\n",
    "].head()"
   ]
  },
  {
   "cell_type": "markdown",
   "id": "9a80d9df",
   "metadata": {},
   "source": [
    "Podemos ver que en la columna de cluster salen dos valores en -1, esto quiere decir que no se ha podido clasificar en ninguno de los clusters, por lo que podría decirse que son transacciones fraudulentas o es ruido.\n"
   ]
  },
  {
   "cell_type": "markdown",
   "metadata": {},
   "source": [
    "### <a id='toc1_1_2_'></a>[Punto 2](#toc0_)\n",
    "(5 puntos) Utiliza la variable fraud_reported como guía para comparar su porcentaje de aciertos. Es decir, compara outliers de DBSCAN/HDBSCAN contra valores en la columna fraud_reported.\n"
   ]
  },
  {
   "cell_type": "code",
   "execution_count": 44,
   "id": "d82d7a89",
   "metadata": {},
   "outputs": [
    {
     "name": "stdout",
     "output_type": "stream",
     "text": [
      "Porcentaje de coincidencia: 27.73%\n"
     ]
    }
   ],
   "source": [
    "# Identificar los outliers detectados por DBSCAN\n",
    "outliers = clusters == -1\n",
    "\n",
    "# Convertimos a booleanos los casos de fraude reportado\n",
    "# 'Y' indica que se reportó fraude, 'N' indica que no se reportó fraude\n",
    "reporte_fraudebool = df[\"fraud_reported\"] == \"Y\"\n",
    "\n",
    "# Calcular el porcentaje de coincidencia entre outliers y casos de fraude reportado\n",
    "matches = (outliers & reporte_fraudebool).sum()\n",
    "total_outliers = outliers.sum()\n",
    "accuracy_percentage = (matches / total_outliers) * 100 if total_outliers > 0 else 0\n",
    "\n",
    "print(f\"Porcentaje de coincidencia: {accuracy_percentage:.2f}%\")"
   ]
  },
  {
   "cell_type": "markdown",
   "metadata": {},
   "source": [
    "### <a id='toc1_1_3_'></a>[Punto 3](#toc0_)\n",
    "(25 puntos) Muestrea el dataset para utilizar solamente 200 registros (100 fraudulentos, 100 no fraudulentos). Construye un dendograma y mediante AgglomerativeClustering, elige la distancia que nos genere la misma cantidad de clusters que elegiste en el modelo DBSCAN/HDBSCAN anterior.\n"
   ]
  },
  {
   "cell_type": "code",
   "execution_count": null,
   "id": "d2f6bc21",
   "metadata": {},
   "outputs": [],
   "source": [
    "# Muestreo  de 100 casos de fraude y 100 no fraude\n",
    "casos_fraude = df[df[\"fraud_reported\"] == \"Y\"].sample(100, random_state=42)\n",
    "casos_no_fraude = df[df[\"fraud_reported\"] == \"N\"].sample(100, random_state=42)\n",
    "sampled_df = pd.concat([casos_fraude, casos_no_fraude])"
   ]
  },
  {
   "cell_type": "code",
   "execution_count": 46,
   "id": "0a52e663",
   "metadata": {},
   "outputs": [],
   "source": [
    "from sklearn.cluster import AgglomerativeClustering\n",
    "from scipy.cluster.hierarchy import dendrogram, linkage\n",
    "\n",
    "import matplotlib.pyplot as plt\n",
    "\n",
    "\n",
    "# Hacemos linkage de los datos normalizados\n",
    "# Usamos el método 'ward' para minimizar la varianza dentro de cada cluster\n",
    "linked = linkage(datos_normalizados, method=\"ward\")"
   ]
  },
  {
   "cell_type": "code",
   "execution_count": 47,
   "id": "7741e842",
   "metadata": {},
   "outputs": [
    {
     "data": {
      "image/png": "[encoded data removed]",
      "text/plain": [
       "<Figure size 1000x700 with 1 Axes>"
      ]
     },
     "metadata": {},
     "output_type": "display_data"
    }
   ],
   "source": [
    "# Graficamos el dendrograma\n",
    "plt.figure(figsize=(10, 7))\n",
    "# show_contracted=True para mostrar los clusters de forma más compacta\n",
    "dendrogram(linked, p=12, leaf_rotation=45, leaf_font_size=10, show_contracted=True)\n",
    "plt.title(\"Dendograma\")\n",
    "plt.xlabel(\"Índice de muestra\")\n",
    "plt.ylabel(\"Distancia\")\n",
    "plt.show()"
   ]
  },
  {
   "cell_type": "code",
   "execution_count": 48,
   "id": "91108779",
   "metadata": {},
   "outputs": [
    {
     "data": {
      "text/html": [
       "<div>\n",
       "<style scoped>\n",
       "    .dataframe tbody tr th:only-of-type {\n",
       "        vertical-align: middle;\n",
       "    }\n",
       "\n",
       "    .dataframe tbody tr th {\n",
       "        vertical-align: top;\n",
       "    }\n",
       "\n",
       "    .dataframe thead th {\n",
       "        text-align: right;\n",
       "    }\n",
       "</style>\n",
       "<table border=\"1\" class=\"dataframe\">\n",
       "  <thead>\n",
       "    <tr style=\"text-align: right;\">\n",
       "      <th></th>\n",
       "      <th>months_as_customer</th>\n",
       "      <th>age</th>\n",
       "      <th>policy_number</th>\n",
       "      <th>policy_bind_date</th>\n",
       "      <th>policy_state</th>\n",
       "      <th>policy_csl</th>\n",
       "      <th>policy_deductable</th>\n",
       "      <th>policy_annual_premium</th>\n",
       "      <th>umbrella_limit</th>\n",
       "      <th>insured_zip</th>\n",
       "      <th>...</th>\n",
       "      <th>injury_claim</th>\n",
       "      <th>property_claim</th>\n",
       "      <th>vehicle_claim</th>\n",
       "      <th>auto_make</th>\n",
       "      <th>auto_model</th>\n",
       "      <th>auto_year</th>\n",
       "      <th>fraud_reported</th>\n",
       "      <th>_c39</th>\n",
       "      <th>cluster</th>\n",
       "      <th>agg_cluster</th>\n",
       "    </tr>\n",
       "  </thead>\n",
       "  <tbody>\n",
       "    <tr>\n",
       "      <th>115</th>\n",
       "      <td>258</td>\n",
       "      <td>46</td>\n",
       "      <td>648397</td>\n",
       "      <td>1999-03-09</td>\n",
       "      <td>IN</td>\n",
       "      <td>100/300</td>\n",
       "      <td>1000</td>\n",
       "      <td>1110.37</td>\n",
       "      <td>10000000</td>\n",
       "      <td>455365</td>\n",
       "      <td>...</td>\n",
       "      <td>4770</td>\n",
       "      <td>9540</td>\n",
       "      <td>33390</td>\n",
       "      <td>Accura</td>\n",
       "      <td>MDX</td>\n",
       "      <td>1997</td>\n",
       "      <td>Y</td>\n",
       "      <td>NaN</td>\n",
       "      <td>4</td>\n",
       "      <td>6</td>\n",
       "    </tr>\n",
       "    <tr>\n",
       "      <th>22</th>\n",
       "      <td>370</td>\n",
       "      <td>55</td>\n",
       "      <td>285496</td>\n",
       "      <td>1994-05-27</td>\n",
       "      <td>IL</td>\n",
       "      <td>100/300</td>\n",
       "      <td>2000</td>\n",
       "      <td>972.18</td>\n",
       "      <td>0</td>\n",
       "      <td>443920</td>\n",
       "      <td>...</td>\n",
       "      <td>17880</td>\n",
       "      <td>5960</td>\n",
       "      <td>47680</td>\n",
       "      <td>Suburu</td>\n",
       "      <td>Forrestor</td>\n",
       "      <td>2000</td>\n",
       "      <td>Y</td>\n",
       "      <td>NaN</td>\n",
       "      <td>-1</td>\n",
       "      <td>6</td>\n",
       "    </tr>\n",
       "    <tr>\n",
       "      <th>708</th>\n",
       "      <td>46</td>\n",
       "      <td>41</td>\n",
       "      <td>315041</td>\n",
       "      <td>2010-11-02</td>\n",
       "      <td>OH</td>\n",
       "      <td>100/300</td>\n",
       "      <td>2000</td>\n",
       "      <td>998.19</td>\n",
       "      <td>0</td>\n",
       "      <td>611556</td>\n",
       "      <td>...</td>\n",
       "      <td>13100</td>\n",
       "      <td>19650</td>\n",
       "      <td>45850</td>\n",
       "      <td>Dodge</td>\n",
       "      <td>RAM</td>\n",
       "      <td>2004</td>\n",
       "      <td>Y</td>\n",
       "      <td>NaN</td>\n",
       "      <td>-1</td>\n",
       "      <td>2</td>\n",
       "    </tr>\n",
       "    <tr>\n",
       "      <th>307</th>\n",
       "      <td>151</td>\n",
       "      <td>37</td>\n",
       "      <td>931625</td>\n",
       "      <td>2012-10-18</td>\n",
       "      <td>IN</td>\n",
       "      <td>250/500</td>\n",
       "      <td>500</td>\n",
       "      <td>1366.42</td>\n",
       "      <td>0</td>\n",
       "      <td>476198</td>\n",
       "      <td>...</td>\n",
       "      <td>5910</td>\n",
       "      <td>5910</td>\n",
       "      <td>47280</td>\n",
       "      <td>Nissan</td>\n",
       "      <td>Maxima</td>\n",
       "      <td>1998</td>\n",
       "      <td>Y</td>\n",
       "      <td>NaN</td>\n",
       "      <td>1</td>\n",
       "      <td>11</td>\n",
       "    </tr>\n",
       "    <tr>\n",
       "      <th>602</th>\n",
       "      <td>16</td>\n",
       "      <td>35</td>\n",
       "      <td>110084</td>\n",
       "      <td>1990-11-27</td>\n",
       "      <td>IL</td>\n",
       "      <td>250/500</td>\n",
       "      <td>1000</td>\n",
       "      <td>1358.03</td>\n",
       "      <td>0</td>\n",
       "      <td>612660</td>\n",
       "      <td>...</td>\n",
       "      <td>10000</td>\n",
       "      <td>10000</td>\n",
       "      <td>35000</td>\n",
       "      <td>Volkswagen</td>\n",
       "      <td>Jetta</td>\n",
       "      <td>2008</td>\n",
       "      <td>Y</td>\n",
       "      <td>NaN</td>\n",
       "      <td>-1</td>\n",
       "      <td>2</td>\n",
       "    </tr>\n",
       "  </tbody>\n",
       "</table>\n",
       "<p>5 rows × 42 columns</p>\n",
       "</div>"
      ],
      "text/plain": [
       "     months_as_customer  age  policy_number policy_bind_date policy_state  \\\n",
       "115                 258   46         648397       1999-03-09           IN   \n",
       "22                  370   55         285496       1994-05-27           IL   \n",
       "708                  46   41         315041       2010-11-02           OH   \n",
       "307                 151   37         931625       2012-10-18           IN   \n",
       "602                  16   35         110084       1990-11-27           IL   \n",
       "\n",
       "    policy_csl  policy_deductable  policy_annual_premium  umbrella_limit  \\\n",
       "115    100/300               1000                1110.37        10000000   \n",
       "22     100/300               2000                 972.18               0   \n",
       "708    100/300               2000                 998.19               0   \n",
       "307    250/500                500                1366.42               0   \n",
       "602    250/500               1000                1358.03               0   \n",
       "\n",
       "     insured_zip  ... injury_claim property_claim vehicle_claim   auto_make  \\\n",
       "115       455365  ...         4770           9540         33390      Accura   \n",
       "22        443920  ...        17880           5960         47680      Suburu   \n",
       "708       611556  ...        13100          19650         45850       Dodge   \n",
       "307       476198  ...         5910           5910         47280      Nissan   \n",
       "602       612660  ...        10000          10000         35000  Volkswagen   \n",
       "\n",
       "    auto_model  auto_year  fraud_reported _c39 cluster agg_cluster  \n",
       "115        MDX       1997               Y  NaN       4           6  \n",
       "22   Forrestor       2000               Y  NaN      -1           6  \n",
       "708        RAM       2004               Y  NaN      -1           2  \n",
       "307     Maxima       1998               Y  NaN       1          11  \n",
       "602      Jetta       2008               Y  NaN      -1           2  \n",
       "\n",
       "[5 rows x 42 columns]"
      ]
     },
     "execution_count": 48,
     "metadata": {},
     "output_type": "execute_result"
    }
   ],
   "source": [
    "from sklearn.preprocessing import StandardScaler\n",
    "\n",
    "# Seleccionamos las características relevantes del dataframe muestreado\n",
    "sampled_features = sampled_df[\n",
    "    [\"months_as_customer\", \"policy_annual_premium\", \"capital-gains\", \"capital-loss\"]\n",
    "]\n",
    "\n",
    "# Escalamos las características del dataframe muestreado porque son muchos datos\n",
    "scaler = StandardScaler()\n",
    "sampled_features_scaled = scaler.fit_transform(sampled_features)\n",
    "\n",
    "# Ahora sí hacemos el Agglomerative Clustering con los datos muestreados\n",
    "n_clusters = len(set(clusters)) - (\n",
    "    1 if -1 in clusters else 0\n",
    ")  # Número de clusters en DBSCAN\n",
    "agg_clustering = AgglomerativeClustering(\n",
    "    n_clusters=n_clusters, metric=\"euclidean\", linkage=\"ward\"\n",
    ")\n",
    "agg_clusters = agg_clustering.fit_predict(sampled_features_scaled)\n",
    "\n",
    "# Agregamos las etiquetas de cluster al dataframe muestreado\n",
    "sampled_df[\"agg_cluster\"] = agg_clusters\n",
    "sampled_df.head()"
   ]
  },
  {
   "cell_type": "markdown",
   "metadata": {},
   "source": [
    "### <a id='toc1_1_4_'></a>[Punto 4](#toc0_)\n",
    "(5 puntos) Reporta la métrica Silhouette de ambos resultados de clustering  e indica cuál es el mejor resultado."
   ]
  },
  {
   "cell_type": "code",
   "execution_count": 50,
   "id": "14330449",
   "metadata": {},
   "outputs": [
    {
     "name": "stdout",
     "output_type": "stream",
     "text": [
      "SS del DBSCAN: -0.13\n",
      "SS del AgglomerativeClustering: 0.24\n",
      "El modelo de Agglomerative Clustering tiene un mejor resultado.\n"
     ]
    }
   ],
   "source": [
    "from sklearn.metrics import silhouette_score\n",
    "\n",
    "# Silhouette score para DBSCAN\n",
    "silhouette_dbscan = silhouette_score(sampled_features_scaled, sampled_df[\"cluster\"])\n",
    "print(f\"SS del DBSCAN: {silhouette_dbscan:.2f}\")\n",
    "\n",
    "# Silhouette score para AgglomerativeClustering\n",
    "silhouette_agg = silhouette_score(sampled_features_scaled, sampled_df[\"agg_cluster\"])\n",
    "print(f\"SS del AgglomerativeClustering: {silhouette_agg:.2f}\")\n",
    "\n",
    "# Determinar el mejor resultado dependiendo del silhouette score más alto\n",
    "if silhouette_dbscan > silhouette_agg:\n",
    "    print(\"El modelo DBSCAN tiene un mejor resultado.\")\n",
    "else:\n",
    "    print(\"El modelo de Agglomerative Clustering tiene un mejor resultado.\")"
   ]
  },
  {
   "cell_type": "markdown",
   "id": "04e4b4bd",
   "metadata": {},
   "source": [
    "## <a id='toc1_2_'></a>[Ejercicios de PCA (40 pts)](#toc0_)\n"
   ]
  },
  {
   "cell_type": "markdown",
   "metadata": {},
   "source": [
    "### <a id='toc1_2_1_'></a>[Punto 1](#toc0_)\n"
   ]
  },
  {
   "cell_type": "markdown",
   "id": "c724a59f",
   "metadata": {},
   "source": [
    "(5 puntos) Utiliza el dataset de Penguins para aplicar PCA y obtener la tasa de variabilidad explicada por 2 componentes.\n"
   ]
  },
  {
   "cell_type": "code",
   "execution_count": 52,
   "id": "8ee35978",
   "metadata": {},
   "outputs": [
    {
     "name": "stdout",
     "output_type": "stream",
     "text": [
      "<class 'pandas.core.frame.DataFrame'>\n",
      "Index: 333 entries, 0 to 343\n",
      "Data columns (total 7 columns):\n",
      " #   Column             Non-Null Count  Dtype  \n",
      "---  ------             --------------  -----  \n",
      " 0   species            333 non-null    object \n",
      " 1   island             333 non-null    object \n",
      " 2   bill_length_mm     333 non-null    float64\n",
      " 3   bill_depth_mm      333 non-null    float64\n",
      " 4   flipper_length_mm  333 non-null    float64\n",
      " 5   body_mass_g        333 non-null    float64\n",
      " 6   sex                333 non-null    object \n",
      "dtypes: float64(4), object(3)\n",
      "memory usage: 20.8+ KB\n"
     ]
    }
   ],
   "source": [
    "# Cargamos el dataset de Penguins y quitamos los nulos\n",
    "df_penguins = pd.read_csv(\"penguins.csv\")\n",
    "penguins = df_penguins.dropna()\n",
    "penguins.info()"
   ]
  },
  {
   "cell_type": "code",
   "execution_count": null,
   "id": "345b003d",
   "metadata": {},
   "outputs": [],
   "source": [
    "# Seleccionar características numéricas que queremos analizar\n",
    "variables_pinguinos = penguins[\n",
    "    [\"bill_length_mm\", \"bill_depth_mm\", \"flipper_length_mm\", \"body_mass_g\"]\n",
    "]"
   ]
  },
  {
   "cell_type": "code",
   "execution_count": null,
   "id": "87f6e7f6",
   "metadata": {},
   "outputs": [],
   "source": [
    "# Normalizamos los datos usando el standard scaler\n",
    "scaler = StandardScaler()\n",
    "pinguinos_scaled = scaler.fit_transform(variables_pinguinos)"
   ]
  },
  {
   "cell_type": "code",
   "execution_count": null,
   "id": "4f7640d4",
   "metadata": {},
   "outputs": [],
   "source": [
    "# Utilizamos la clase PCA vista en clase\n",
    "import numpy as np\n",
    "\n",
    "\n",
    "class PCA:\n",
    "    def __init__(self, n_components):\n",
    "        self.n_components = n_components\n",
    "        self.components = None\n",
    "        self.mean = None\n",
    "\n",
    "    def fit(self, X):\n",
    "        # center the data\n",
    "        self.mean = np.mean(X, axis=0)\n",
    "        X = X - self.mean  # now the mean is centered at 0\n",
    "\n",
    "        # compute the covariance matrix\n",
    "        cov = np.cov(X, rowvar=False)\n",
    "\n",
    "        # compute the eigenvalues and eigenvectors of\n",
    "        # the covariance matrix\n",
    "        eigenvalues, eigenvectors = np.linalg.eigh(cov)\n",
    "\n",
    "        # sort the eigenvalues and eigenvectors in decreasing order\n",
    "        idx = np.argsort(eigenvalues)[::-1]\n",
    "        eigenvalues = eigenvalues[idx]\n",
    "        eigenvectors = eigenvectors[:, idx]\n",
    "\n",
    "        # Store the first n_components eigenvectors as the principal components\n",
    "        self.components = eigenvectors[:, : self.n_components]\n",
    "\n",
    "    def transform(self, X):\n",
    "        # center the data\n",
    "        X = X - self.mean\n",
    "\n",
    "        # project the data onto the principal components\n",
    "        X_transformed = np.dot(X, self.components)\n",
    "        return X_transformed"
   ]
  },
  {
   "cell_type": "code",
   "execution_count": null,
   "id": "5cb0deb1",
   "metadata": {},
   "outputs": [],
   "source": [
    "# Usamos PCA para reducir la dimensionalidad a 2 componentes\n",
    "pca = PCA(n_components=2)\n",
    "pca.fit(pinguinos_scaled)"
   ]
  },
  {
   "cell_type": "code",
   "execution_count": 60,
   "id": "e2ba63a3",
   "metadata": {},
   "outputs": [
    {
     "name": "stdout",
     "output_type": "stream",
     "text": [
      "Tasa de variabilidad explicada por las dos componentes principales: [0.77916187 0.22083813]\n"
     ]
    }
   ],
   "source": [
    "# Calcular la varianza explicada por cada componente principal\n",
    "eigenvalues = np.var(pca.transform(pinguinos_scaled), axis=0)\n",
    "explained_variance_ratio = eigenvalues / np.sum(eigenvalues)\n",
    "\n",
    "print(\n",
    "    f\"Tasa de variabilidad explicada por las dos componentes principales: {explained_variance_ratio}\"\n",
    ")"
   ]
  },
  {
   "cell_type": "markdown",
   "metadata": {},
   "source": [
    "### <a id='toc1_2_2_'></a>[Punto 2](#toc0_)\n",
    "\n",
    "(5 puntos) Separa en Train y Testing (% de tu elección), aplica algún clasificador y compara su desempeño sin-PCA vs PCA y reporta tus observaciones\n"
   ]
  },
  {
   "cell_type": "code",
   "execution_count": null,
   "id": "c5ac527a",
   "metadata": {},
   "outputs": [],
   "source": [
    "from sklearn.model_selection import train_test_split\n",
    "from sklearn.tree import DecisionTreeClassifier\n",
    "from sklearn.metrics import accuracy_score\n",
    "\n",
    "# Definimos X e y para el modelo de clasificación\n",
    "X = variables_pinguinos\n",
    "y = penguins[\"species\"]\n",
    "\n",
    "# Dividimos los datos en conjuntos de entrenamiento y prueba\n",
    "# En este caso decidimos usar el 20% de los datos para la prueba y el 80% para el entrenamiento\n",
    "X_train, X_test, y_train, y_test = train_test_split(\n",
    "    X, y, test_size=0.2, random_state=42\n",
    ")"
   ]
  },
  {
   "cell_type": "code",
   "execution_count": 64,
   "id": "dd39cfe1",
   "metadata": {},
   "outputs": [
    {
     "name": "stdout",
     "output_type": "stream",
     "text": [
      "Precisión sin PCA: 1.00\n"
     ]
    }
   ],
   "source": [
    "# Primero entrenamos el modelo sin PCA\n",
    "# Utilizamos un clasificador de árbol de decisión\n",
    "# para predecir la especie de pingüino\n",
    "clf = DecisionTreeClassifier(random_state=42)\n",
    "clf.fit(X_train, y_train)\n",
    "y_pred = clf.predict(X_test)\n",
    "accuracy_no_pca = accuracy_score(y_test, y_pred)\n",
    "print(f\"Precisión sin PCA: {accuracy_no_pca:.2f}\")"
   ]
  },
  {
   "cell_type": "code",
   "execution_count": 65,
   "id": "1bfcd28a",
   "metadata": {},
   "outputs": [
    {
     "name": "stdout",
     "output_type": "stream",
     "text": [
      "Precisión con PCA: 0.81\n"
     ]
    }
   ],
   "source": [
    "# Ahora para aplicar PCA primero tenemos que ajustar el modelo PCA a los datos de entrenamiento\n",
    "X_train_pca = pca.transform(X_train)\n",
    "X_test_pca = pca.transform(X_test)\n",
    "\n",
    "# Ahora sí entrenamos el modelo con PCA\n",
    "clf_pca = DecisionTreeClassifier(random_state=42)\n",
    "clf_pca.fit(X_train_pca, y_train)\n",
    "y_pred_pca = clf_pca.predict(X_test_pca)\n",
    "\n",
    "# Calculamos la precisión del modelo con PCA\n",
    "accuracy_pca = accuracy_score(y_test, y_pred_pca)\n",
    "print(f\"Precisión con PCA: {accuracy_pca:.2f}\")"
   ]
  },
  {
   "cell_type": "markdown",
   "id": "451bc506",
   "metadata": {},
   "source": [
    "Como el modelo sin PCA tiene 1 de score comparado con 0.81 del modelo PCA, entonces el modelo sin PCA es mejor. Esto puede ser porque el modelo PCA no está bien ajustado o porque el modelo sin PCA tiene más información. También puede ser que el modelo PCA esté sobreajustado.\n"
   ]
  },
  {
   "cell_type": "markdown",
   "metadata": {},
   "source": [
    "### <a id='toc1_2_3_'></a>[Punto 3](#toc0_)\n",
    "\n",
    "Utiliza algún modelo de regresión para predecir la variable \"Ladder Score\" utilizando el conjunto de datos del World Happiness Report 2021, y analiza el impacto del número de componentes principales en el rendimiento del modelo (r2_score). Sigue las indicaciones:\n"
   ]
  },
  {
   "cell_type": "markdown",
   "id": "98472084",
   "metadata": {},
   "source": [
    "1. (5 pts) Identifica la variable dependiente \"Ladder Score\" en Y y al resto como X. Separa 10% de instancias para el conjunto de prueba y al resto para entrenamiento.\n"
   ]
  },
  {
   "cell_type": "code",
   "execution_count": null,
   "id": "6f762848",
   "metadata": {},
   "outputs": [],
   "source": [
    "# Cargar el conjunto de datos del World Happiness Report 2021\n",
    "df_happiness = pd.read_csv(\"world-happiness-report-2021.csv\")"
   ]
  },
  {
   "cell_type": "code",
   "execution_count": null,
   "id": "4e0c936c",
   "metadata": {},
   "outputs": [],
   "source": [
    "# Usamos \"Ladder Score\" como variable dependiente Y y al resto X\n",
    "X = df_happiness.drop(columns=[\"Ladder score\"])\n",
    "y = df_happiness[\"Ladder score\"]"
   ]
  },
  {
   "cell_type": "code",
   "execution_count": null,
   "id": "af76ed16",
   "metadata": {},
   "outputs": [],
   "source": [
    "from sklearn.model_selection import (\n",
    "    train_test_split,\n",
    ")  # Igual usamos train_test_split para separar el conjunto de datos en entrenamiento y prueba\n",
    "\n",
    "# Separamos 10% para prueba y 90% entrenamiento\n",
    "X_train, X_test, y_train, y_test = train_test_split(\n",
    "    X, y, test_size=0.1, random_state=42\n",
    ")"
   ]
  },
  {
   "cell_type": "markdown",
   "id": "fa3c6bc1",
   "metadata": {},
   "source": [
    "2. (15 pts) En un bucle, aplica PCA con diferentes números de componentes (de 1 a 8) y evalua el rendimiento del modelo de regresión utilizando r2_score. Cuida que el PCA se entrene con X_train (pca.fit_transform()) y que X_test solo sea utilizado para transformar (pca.transform())\n"
   ]
  },
  {
   "cell_type": "code",
   "execution_count": 87,
   "id": "05553f51",
   "metadata": {},
   "outputs": [
    {
     "name": "stdout",
     "output_type": "stream",
     "text": [
      "Número de componentes: 1, R2 Score: 0.3753\n",
      "Número de componentes: 2, R2 Score: 0.9971\n",
      "Número de componentes: 3, R2 Score: 0.9976\n",
      "Número de componentes: 4, R2 Score: 0.9972\n",
      "Número de componentes: 5, R2 Score: 0.9974\n",
      "Número de componentes: 6, R2 Score: 0.9978\n",
      "Número de componentes: 7, R2 Score: 0.9987\n",
      "Número de componentes: 8, R2 Score: 0.9987\n"
     ]
    }
   ],
   "source": [
    "from sklearn.linear_model import LinearRegression\n",
    "from sklearn.metrics import r2_score\n",
    "from sklearn.decomposition import (\n",
    "    PCA,\n",
    ")  # Nos conviene usar PCA de sklearn para este caso porque si tiene la función fit_transform\n",
    "from sklearn.preprocessing import OneHotEncoder\n",
    "from sklearn.compose import ColumnTransformer\n",
    "\n",
    "# Tenemos que preprocesar los datos para que todo sea numérico\n",
    "# Identificamos las columnas categóricas\n",
    "categorical_columns = X.select_dtypes(include=[\"object\"]).columns\n",
    "numeric_columns = X.select_dtypes(include=[\"number\"]).columns\n",
    "\n",
    "# Usamos OneHotEncoder para transformar las columnas categóricas en variables dummy\n",
    "preprocessor = ColumnTransformer(\n",
    "    transformers=[\n",
    "        (\"num\", \"passthrough\", numeric_columns),\n",
    "        (\"cat\", OneHotEncoder(handle_unknown=\"ignore\"), categorical_columns),\n",
    "    ]\n",
    ")  # Manejamos los errores de los valores que son desconocidos con el parámetro handle_unknown='ignore'\n",
    "\n",
    "# Aplicamos la transformación al conjunto de entrenamiento y prueba\n",
    "X_train_processed = preprocessor.fit_transform(X_train)\n",
    "X_test_processed = preprocessor.transform(X_test)\n",
    "\n",
    "# Hacemos un arreglo vacío para ir guardando los resultados\n",
    "r2_scores = []\n",
    "\n",
    "# Iteramos los componentes de 1 a 8\n",
    "for n_components in range(1, 9):\n",
    "    # Creamos un PCA con el número actual de componentes\n",
    "    pca = PCA(n_components=n_components)\n",
    "\n",
    "    # Ajustamos X_train y transformamos tanto X_train como X_test\n",
    "    X_train_pca = pca.fit_transform(X_train_processed)\n",
    "    X_test_pca = pca.transform(X_test_processed)\n",
    "\n",
    "    # Hacemos un modelo de regresión lineal\n",
    "    # y lo ajustamos a los datos transformados\n",
    "    regressor = LinearRegression()\n",
    "    regressor.fit(X_train_pca, y_train)\n",
    "\n",
    "    # Predecimos los valores de y para el conjunto de prueba\n",
    "    y_pred = regressor.predict(X_test_pca)\n",
    "\n",
    "    # Calculamos el r2_score y lo guardamos\n",
    "    r2 = r2_score(y_test, y_pred)\n",
    "    r2_scores.append((n_components, r2))\n",
    "\n",
    "# Mostramos los resultados\n",
    "for n_components, r2 in r2_scores:\n",
    "    print(f\"Número de componentes: {n_components}, R2 Score: {r2:.4f}\")"
   ]
  },
  {
   "cell_type": "markdown",
   "id": "e37affc6",
   "metadata": {},
   "source": [
    "3. (5 pts) Genera una gráfica de barras que muestre el valor de\n",
    "en función del número de componentes principales.\n"
   ]
  },
  {
   "cell_type": "code",
   "execution_count": 90,
   "id": "13845513",
   "metadata": {},
   "outputs": [
    {
     "data": {
      "image/png": "[encoded data removed]",
      "text/plain": [
       "<Figure size 1000x600 with 1 Axes>"
      ]
     },
     "metadata": {},
     "output_type": "display_data"
    }
   ],
   "source": [
    "# Primero tenemos que extraer los valores de los componentes y los R2 scores llenando con un ciclo for\n",
    "components = []\n",
    "r2_values = []\n",
    "for score in r2_scores:\n",
    "    components.append(score[0])\n",
    "    r2_values.append(score[1])\n",
    "\n",
    "# Creamos la gráfica de barras\n",
    "plt.figure(figsize=(10, 6))\n",
    "plt.bar(components, r2_values, color=\"skyblue\", edgecolor=\"black\")\n",
    "plt.xlabel(\"Número de Componentes Principales\")\n",
    "plt.ylabel(\"$R^2$ Score\")\n",
    "plt.title(\"R2 score del Número de Componentes Principales\")\n",
    "plt.xticks(components)  # Aseguramos que todos los componentes se muestren en el eje x\n",
    "plt.grid(axis=\"y\", linestyle=\"--\", alpha=0.7)\n",
    "plt.show()"
   ]
  },
  {
   "cell_type": "markdown",
   "id": "70cb6092",
   "metadata": {},
   "source": [
    "4. (3 pts) Analicen los resultados e incluyan sus conclusiones considerando:\n",
    "\n",
    "- **¿Cómo varía el R2 al aumentar el número de componentes principales?**\n",
    "  R: Al aumentar el número de componentes principales, el R2 incrementa a casi 1. A partir de ahí, el incremento en el R2 es mucho más pequeño, casi diminuto. Puede ser que haya un sobre ajuste.\n",
    "\n",
    "- **¿Hay un punto en el que el rendimiento deja de mejorar significativamente?**\n",
    "  R: Si, porque hay un punto que la gráfica se vuelve casi horizontal. Esto puede ser porque el modelo ya no tiene más información que extraer de los datos.\n",
    "\n",
    "- **¿Qué implicaciones podría tener esto para la selección de características en modelos de regresión?**\n",
    "  R: Esto puede implicar que el modelo ya no tiene más información que extraer de los datos y que el modelo puede estar sobreajustado. También puede ser que el modelo esté utilizando características irrelevantes.\n"
   ]
  },
  {
   "cell_type": "markdown",
   "id": "85fe2da6",
   "metadata": {},
   "source": [
    "```markdown\n",
    "(1 punto) **¿Cuál es la motivación de reducir la dimensionalidad?**\n",
    "\n",
    "La motivación principal de reducir la dimensionalidad es simplificar los datos mientras se conserva la mayor cantidad posible de información relevante. Esto ayuda a:\n",
    "\n",
    "- **Eliminar ruido**: Reducir características irrelevantes o redundantes que pueden afectar el rendimiento del modelo.\n",
    "- **Mejorar la visualización**: Facilitar la interpretación de los datos al proyectarlos en 2D o 3D.\n",
    "- **Reducir el costo computacional**: Disminuir el tiempo y los recursos necesarios para entrenar modelos.\n",
    "- **Evitar el sobreajuste**: Reducir la complejidad del modelo al trabajar con menos características, lo que puede mejorar la generalización.\n",
    "```"
   ]
  },
  {
   "cell_type": "markdown",
   "id": "84ed08bc",
   "metadata": {},
   "source": [
    "```markdown\n",
    "(1 punto) **¿Tiene sentido “encadenar” dos procesos de PCA?**\n",
    "\n",
    "No tiene sentido encadenar dos procesos de PCA. Esto se debe a que el primer PCA ya transforma los datos originales en un espacio de menor dimensionalidad, preservando la mayor cantidad de varianza posible en las primeras componentes principales. Aplicar un segundo PCA sobre el resultado del primero no añade valor, ya que los datos ya están en un espacio reducido y cualquier transformación adicional solo reorganizaría la información sin aportar nueva varianza significativa. Además, podría llevar a una pérdida adicional de información y no tiene una justificación matemática sólida.\n",
    "```"
   ]
  }
 ],
 "metadata": {
  "kernelspec": {
   "display_name": "base",
   "language": "python",
   "name": "python3"
  },
  "language_info": {
   "codemirror_mode": {
    "name": "ipython",
    "version": 3
   },
   "file_extension": ".py",
   "mimetype": "text/x-python",
   "name": "python",
   "nbconvert_exporter": "python",
   "pygments_lexer": "ipython3",
   "version": "3.12.7"
  }
 },
 "nbformat": 4,
 "nbformat_minor": 5
}
