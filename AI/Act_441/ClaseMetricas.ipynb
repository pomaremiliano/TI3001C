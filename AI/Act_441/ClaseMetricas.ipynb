{
 "cells": [
  {
   "cell_type": "markdown",
   "id": "f366478e",
   "metadata": {},
   "source": [
    "# Clase Métricas \n",
    "- Fecha: 23 de abril de 2025"
   ]
  },
  {
   "cell_type": "code",
   "execution_count": 2,
   "id": "f32fbee8",
   "metadata": {},
   "outputs": [
    {
     "data": {
      "text/html": [
       "<div>\n",
       "<style scoped>\n",
       "    .dataframe tbody tr th:only-of-type {\n",
       "        vertical-align: middle;\n",
       "    }\n",
       "\n",
       "    .dataframe tbody tr th {\n",
       "        vertical-align: top;\n",
       "    }\n",
       "\n",
       "    .dataframe thead th {\n",
       "        text-align: right;\n",
       "    }\n",
       "</style>\n",
       "<table border=\"1\" class=\"dataframe\">\n",
       "  <thead>\n",
       "    <tr style=\"text-align: right;\">\n",
       "      <th></th>\n",
       "      <th>real</th>\n",
       "      <th>hipotesis</th>\n",
       "    </tr>\n",
       "  </thead>\n",
       "  <tbody>\n",
       "    <tr>\n",
       "      <th>0</th>\n",
       "      <td>Pos</td>\n",
       "      <td>Pos</td>\n",
       "    </tr>\n",
       "    <tr>\n",
       "      <th>1</th>\n",
       "      <td>Pos</td>\n",
       "      <td>Neg</td>\n",
       "    </tr>\n",
       "    <tr>\n",
       "      <th>2</th>\n",
       "      <td>Neg</td>\n",
       "      <td>Neg</td>\n",
       "    </tr>\n",
       "    <tr>\n",
       "      <th>3</th>\n",
       "      <td>Neg</td>\n",
       "      <td>Neg</td>\n",
       "    </tr>\n",
       "    <tr>\n",
       "      <th>4</th>\n",
       "      <td>Neg</td>\n",
       "      <td>Pos</td>\n",
       "    </tr>\n",
       "    <tr>\n",
       "      <th>5</th>\n",
       "      <td>Pos</td>\n",
       "      <td>Pos</td>\n",
       "    </tr>\n",
       "    <tr>\n",
       "      <th>6</th>\n",
       "      <td>Pos</td>\n",
       "      <td>Pos</td>\n",
       "    </tr>\n",
       "    <tr>\n",
       "      <th>7</th>\n",
       "      <td>Pos</td>\n",
       "      <td>Neg</td>\n",
       "    </tr>\n",
       "    <tr>\n",
       "      <th>8</th>\n",
       "      <td>Pos</td>\n",
       "      <td>Neg</td>\n",
       "    </tr>\n",
       "    <tr>\n",
       "      <th>9</th>\n",
       "      <td>Pos</td>\n",
       "      <td>Pos</td>\n",
       "    </tr>\n",
       "    <tr>\n",
       "      <th>10</th>\n",
       "      <td>Neg</td>\n",
       "      <td>Pos</td>\n",
       "    </tr>\n",
       "    <tr>\n",
       "      <th>11</th>\n",
       "      <td>Pos</td>\n",
       "      <td>Neg</td>\n",
       "    </tr>\n",
       "    <tr>\n",
       "      <th>12</th>\n",
       "      <td>Neg</td>\n",
       "      <td>Neg</td>\n",
       "    </tr>\n",
       "    <tr>\n",
       "      <th>13</th>\n",
       "      <td>Pos</td>\n",
       "      <td>Neg</td>\n",
       "    </tr>\n",
       "    <tr>\n",
       "      <th>14</th>\n",
       "      <td>Neg</td>\n",
       "      <td>Pos</td>\n",
       "    </tr>\n",
       "  </tbody>\n",
       "</table>\n",
       "</div>"
      ],
      "text/plain": [
       "   real hipotesis\n",
       "0   Pos       Pos\n",
       "1   Pos       Neg\n",
       "2   Neg       Neg\n",
       "3   Neg       Neg\n",
       "4   Neg       Pos\n",
       "5   Pos       Pos\n",
       "6   Pos       Pos\n",
       "7   Pos       Neg\n",
       "8   Pos       Neg\n",
       "9   Pos       Pos\n",
       "10  Neg       Pos\n",
       "11  Pos       Neg\n",
       "12  Neg       Neg\n",
       "13  Pos       Neg\n",
       "14  Neg       Pos"
      ]
     },
     "execution_count": 2,
     "metadata": {},
     "output_type": "execute_result"
    }
   ],
   "source": [
    "import pandas as pd\n",
    "\n",
    "Clase_objetivo='Neg'\n",
    "\n",
    "real=pd.Series(['Pos','Pos','Neg','Neg','Neg','Pos','Pos','Pos','Pos','Pos','Neg','Pos','Neg','Pos','Neg'])\n",
    "\n",
    "hipotesis=(['Pos','Neg','Neg','Neg','Pos','Pos','Pos','Neg','Neg','Pos','Pos','Neg','Neg','Neg','Pos'])\n",
    "\n",
    "\n",
    "df = pd.DataFrame(real, columns=['real'])\n",
    "df['hipotesis'] = hipotesis\n",
    "df"
   ]
  },
  {
   "cell_type": "markdown",
   "id": "ce47c04a",
   "metadata": {},
   "source": [
    "## Accuracy"
   ]
  },
  {
   "cell_type": "code",
   "execution_count": 3,
   "id": "b1a9d419",
   "metadata": {},
   "outputs": [
    {
     "name": "stdout",
     "output_type": "stream",
     "text": [
      "Accuracy:  0.4666666666666667\n"
     ]
    }
   ],
   "source": [
    "from sklearn.metrics import accuracy_score\n",
    "\n",
    "print('Accuracy: ', accuracy_score(real, hipotesis))"
   ]
  },
  {
   "cell_type": "markdown",
   "id": "b4ca05d5",
   "metadata": {},
   "source": [
    "## Matriz de confusión "
   ]
  },
  {
   "cell_type": "code",
   "execution_count": 4,
   "id": "1f217e67",
   "metadata": {},
   "outputs": [
    {
     "data": {
      "text/plain": [
       "array([[4, 5],\n",
       "       [3, 3]], dtype=int64)"
      ]
     },
     "execution_count": 4,
     "metadata": {},
     "output_type": "execute_result"
    }
   ],
   "source": [
    "from sklearn.metrics import confusion_matrix\n",
    "# Clases ordenadas alfabeticamente \n",
    "cm= confusion_matrix(real, hipotesis, labels=['Pos', 'Neg'])\n",
    "# No se puede interpretar tan facilmente \n",
    "# Por esto primero se indica el target\n",
    "cm\n"
   ]
  },
  {
   "cell_type": "code",
   "execution_count": 5,
   "id": "7c4ceffc",
   "metadata": {},
   "outputs": [
    {
     "data": {
      "text/plain": [
       "array([[3, 3],\n",
       "       [5, 4]], dtype=int64)"
      ]
     },
     "execution_count": 5,
     "metadata": {},
     "output_type": "execute_result"
    }
   ],
   "source": [
    "# Asumiendo que la clase objetivo era la que estuviera por defecto.\n",
    "confusion_matrix(real, hipotesis, labels=['Neg', 'Pos'])"
   ]
  },
  {
   "cell_type": "code",
   "execution_count": 6,
   "id": "7f53aa61",
   "metadata": {},
   "outputs": [
    {
     "name": "stdout",
     "output_type": "stream",
     "text": [
      "TPs:  4\n",
      "FNs:  5\n",
      "FPs:  3\n",
      "TNs:  3\n"
     ]
    }
   ],
   "source": [
    "print('TPs: ', cm[0, 0])\n",
    "print('FNs: ', cm[0, 1])\n",
    "print('FPs: ', cm[1, 0])\n",
    "print('TNs: ', cm[1, 1])"
   ]
  },
  {
   "cell_type": "code",
   "execution_count": 7,
   "id": "848cbd30",
   "metadata": {},
   "outputs": [
    {
     "data": {
      "text/plain": [
       "<sklearn.metrics._plot.confusion_matrix.ConfusionMatrixDisplay at 0x1ecdb230f80>"
      ]
     },
     "execution_count": 7,
     "metadata": {},
     "output_type": "execute_result"
    },
    {
     "data": {
      "image/png": "[encoded data removed]",
      "text/plain": [
       "<Figure size 640x480 with 2 Axes>"
      ]
     },
     "metadata": {},
     "output_type": "display_data"
    }
   ],
   "source": [
    "from sklearn.metrics import ConfusionMatrixDisplay\n",
    "\n",
    "cmd = ConfusionMatrixDisplay(cm, display_labels=['Pos', 'Neg'])\n",
    "cmd.plot()"
   ]
  },
  {
   "cell_type": "markdown",
   "id": "e3e5ee58",
   "metadata": {},
   "source": [
    "## Otras metricas: Precision, Recall y F1 Score"
   ]
  },
  {
   "cell_type": "code",
   "execution_count": 8,
   "id": "14edecb7",
   "metadata": {},
   "outputs": [
    {
     "name": "stdout",
     "output_type": "stream",
     "text": [
      "Resultados clase pos\n",
      "Precision:  0.5714285714285714\n",
      "Recall:  0.4444444444444444\n",
      "F1_Score:  0.5\n"
     ]
    }
   ],
   "source": [
    "from sklearn.metrics import precision_score, recall_score, f1_score\n",
    "\n",
    "# Clase pos\n",
    "print(\"Resultados clase pos\")\n",
    "print('Precision: ', precision_score(real, hipotesis, pos_label='Pos'))\n",
    "print(\"Recall: \", recall_score(real, hipotesis, pos_label='Pos'))\n",
    "print(\"F1_Score: \", f1_score(real, hipotesis, pos_label='Pos'))"
   ]
  },
  {
   "cell_type": "code",
   "execution_count": 9,
   "id": "6787733b",
   "metadata": {},
   "outputs": [
    {
     "name": "stdout",
     "output_type": "stream",
     "text": [
      "Resultados clase Neg\n",
      "Precision:  0.375\n",
      "Recall:  0.5\n",
      "F1_Score:  0.42857142857142855\n"
     ]
    }
   ],
   "source": [
    "# Clase Neg\n",
    "print(\"Resultados clase Neg\")\n",
    "print('Precision: ', precision_score(real, hipotesis, pos_label='Neg'))\n",
    "print(\"Recall: \", recall_score(real, hipotesis, pos_label='Neg'))\n",
    "print(\"F1_Score: \", f1_score(real, hipotesis, pos_label='Neg'))"
   ]
  },
  {
   "cell_type": "markdown",
   "id": "0be61146",
   "metadata": {},
   "source": [
    "## Para ambas clases promedio simple\n",
    "-No se necesita especificar la clase objetivo"
   ]
  },
  {
   "cell_type": "code",
   "execution_count": 10,
   "id": "a36c62e0",
   "metadata": {},
   "outputs": [
    {
     "name": "stdout",
     "output_type": "stream",
     "text": [
      "Resultados promedio simple\n",
      "Precision:  0.4732142857142857\n",
      "Recall:  0.4722222222222222\n",
      "F1_Score:  0.4642857142857143\n"
     ]
    }
   ],
   "source": [
    "# Promedio simple\n",
    "print(\"Resultados promedio simple\")\n",
    "print('Precision: ', precision_score(real, hipotesis, average='macro'))\n",
    "print(\"Recall: \", recall_score(real, hipotesis, average='macro'))\n",
    "print(\"F1_Score: \", f1_score(real, hipotesis, average='macro'))"
   ]
  },
  {
   "cell_type": "markdown",
   "id": "266b8805",
   "metadata": {},
   "source": [
    "## Ambas clases con promedio ponderado\n",
    " -No se necesita especificar la clase objetivo"
   ]
  },
  {
   "cell_type": "code",
   "execution_count": 11,
   "id": "d4b34f53",
   "metadata": {},
   "outputs": [
    {
     "name": "stdout",
     "output_type": "stream",
     "text": [
      "Resultados promedio ponderado\n",
      "Precision:  0.4928571428571428\n",
      "Recall:  0.4666666666666667\n",
      "F1_Score:  0.4714285714285714\n"
     ]
    }
   ],
   "source": [
    "# Promedio ponderado\n",
    "print(\"Resultados promedio ponderado\")\n",
    "print('Precision: ', precision_score(real, hipotesis, average='weighted'))\n",
    "print(\"Recall: \", recall_score(real, hipotesis, average='weighted'))\n",
    "print(\"F1_Score: \", f1_score(real, hipotesis, average='weighted'))"
   ]
  },
  {
   "cell_type": "markdown",
   "id": "16f93462",
   "metadata": {},
   "source": [
    "## Reporte condensado \n",
    "Con la funcion classification_report de sklearn.metrics se puede obtener un reporte condensado de las metricas de precision, recall y f1 score para cada clase."
   ]
  },
  {
   "cell_type": "code",
   "execution_count": 12,
   "id": "e5265658",
   "metadata": {},
   "outputs": [
    {
     "name": "stdout",
     "output_type": "stream",
     "text": [
      "              precision    recall  f1-score   support\n",
      "\n",
      "         Pos       0.57      0.44      0.50         9\n",
      "         Neg       0.38      0.50      0.43         6\n",
      "\n",
      "    accuracy                           0.47        15\n",
      "   macro avg       0.47      0.47      0.46        15\n",
      "weighted avg       0.49      0.47      0.47        15\n",
      "\n"
     ]
    }
   ],
   "source": [
    "from sklearn.metrics import classification_report\n",
    "\n",
    "print(classification_report(real, hipotesis, labels=['Pos', 'Neg']))"
   ]
  },
  {
   "cell_type": "markdown",
   "id": "24b58d7f",
   "metadata": {},
   "source": [
    "## Interpretación del reporte \n",
    "\n",
    "- **0.57** en precision significa que el 57% de las predicciones positivas son correctas.  \n",
    "- **0.50** en recall asumiendo que la clase objetivo es Neg significa que el 50% de los casos Neg.  \n",
    "- El support sirve para saber cuántas instancias hay de cada clase en el conjunto de datos.  \n",
    "- **0.47** en f1 score es el promedio ponderado del f1 score de ambas clases. Para el weighted average significa que el 47% de las predicciones ponderadas son correctas. Mientras más alto sea el f1 score, mejor será el modelo. Porque es más robusto a los desbalanceos de clases."
   ]
  },
  {
   "cell_type": "code",
   "execution_count": 14,
   "id": "824e7aff",
   "metadata": {},
   "outputs": [
    {
     "data": {
      "text/plain": [
       "{'Pos': {'precision': 0.5714285714285714,\n",
       "  'recall': 0.4444444444444444,\n",
       "  'f1-score': 0.5,\n",
       "  'support': 9.0},\n",
       " 'Neg': {'precision': 0.375,\n",
       "  'recall': 0.5,\n",
       "  'f1-score': 0.42857142857142855,\n",
       "  'support': 6.0},\n",
       " 'accuracy': 0.4666666666666667,\n",
       " 'macro avg': {'precision': 0.4732142857142857,\n",
       "  'recall': 0.4722222222222222,\n",
       "  'f1-score': 0.4642857142857143,\n",
       "  'support': 15.0},\n",
       " 'weighted avg': {'precision': 0.4928571428571428,\n",
       "  'recall': 0.4666666666666667,\n",
       "  'f1-score': 0.4714285714285714,\n",
       "  'support': 15.0}}"
      ]
     },
     "execution_count": 14,
     "metadata": {},
     "output_type": "execute_result"
    }
   ],
   "source": [
    "report = classification_report(real, hipotesis, labels=['Pos','Neg'], output_dict=True)\n",
    "report # diccionario de resultados"
   ]
  },
  {
   "cell_type": "code",
   "execution_count": 15,
   "id": "42ca501b",
   "metadata": {},
   "outputs": [
    {
     "name": "stdout",
     "output_type": "stream",
     "text": [
      "0.4666666666666667\n"
     ]
    }
   ],
   "source": [
    "print(report.get('accuracy'))"
   ]
  },
  {
   "cell_type": "code",
   "execution_count": 16,
   "id": "b6c452fd",
   "metadata": {},
   "outputs": [
    {
     "name": "stdout",
     "output_type": "stream",
     "text": [
      "0.5\n"
     ]
    }
   ],
   "source": [
    "print(report.get('Neg')['recall'])"
   ]
  }
 ],
 "metadata": {
  "kernelspec": {
   "display_name": "base",
   "language": "python",
   "name": "python3"
  },
  "language_info": {
   "codemirror_mode": {
    "name": "ipython",
    "version": 3
   },
   "file_extension": ".py",
   "mimetype": "text/x-python",
   "name": "python",
   "nbconvert_exporter": "python",
   "pygments_lexer": "ipython3",
   "version": "3.12.7"
  }
 },
 "nbformat": 4,
 "nbformat_minor": 5
}
