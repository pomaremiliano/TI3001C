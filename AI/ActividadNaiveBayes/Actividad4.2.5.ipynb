{
 "cells": [
  {
   "cell_type": "code",
   "execution_count": 3,
   "id": "577954d1",
   "metadata": {},
   "outputs": [
    {
     "name": "stdout",
     "output_type": "stream",
     "text": [
      "<class 'pandas.core.frame.DataFrame'>\n",
      "RangeIndex: 344 entries, 0 to 343\n",
      "Data columns (total 7 columns):\n",
      " #   Column             Non-Null Count  Dtype  \n",
      "---  ------             --------------  -----  \n",
      " 0   species            344 non-null    object \n",
      " 1   island             344 non-null    object \n",
      " 2   bill_length_mm     342 non-null    float64\n",
      " 3   bill_depth_mm      342 non-null    float64\n",
      " 4   flipper_length_mm  342 non-null    float64\n",
      " 5   body_mass_g        342 non-null    float64\n",
      " 6   sex                333 non-null    object \n",
      "dtypes: float64(4), object(3)\n",
      "memory usage: 18.9+ KB\n"
     ]
    }
   ],
   "source": [
    "import pandas as pd\n",
    "import numpy as np\n",
    "\n",
    "df = pd.read_csv(\"penguins.csv\")\n",
    "df.info()"
   ]
  },
  {
   "cell_type": "code",
   "execution_count": null,
   "id": "c42f37ae",
   "metadata": {},
   "outputs": [],
   "source": []
  },
  {
   "cell_type": "code",
   "execution_count": 4,
   "id": "d9b7844c",
   "metadata": {},
   "outputs": [
    {
     "name": "stdout",
     "output_type": "stream",
     "text": [
      "Dimensiones de datos de prueba (103, 6) \n",
      "Dimensiones de datos de entrenamiento (241, 6)\n"
     ]
    }
   ],
   "source": [
    "train = df.sample(frac = 0.7, random_state = 1)\n",
    "test = df.drop(train.index)\n",
    "\n",
    "y_train = train[\"species\"]\n",
    "x_train = train.drop(\"species\", axis = 1)\n",
    "\n",
    "y_test = test[\"species\"]\n",
    "x_test = test.drop(\"species\", axis = 1)\n",
    "print('Dimensiones de datos de prueba', x_test.shape,'\\nDimensiones de datos de entrenamiento', x_train.shape)"
   ]
  },
  {
   "cell_type": "code",
   "execution_count": 5,
   "id": "8393f7c9",
   "metadata": {},
   "outputs": [
    {
     "data": {
      "image/png": "[encoded data removed]",
      "text/plain": [
       "<Figure size 640x480 with 1 Axes>"
      ]
     },
     "metadata": {},
     "output_type": "display_data"
    }
   ],
   "source": [
    "import matplotlib.pyplot as plt\n",
    "\n",
    "def normalpdf(n, mu=0, sigma=1):\n",
    "    # Funcion para estimar PDF (Probability Density Function) dado que hay una distribucion Normal(mu, var) evaluado con x\n",
    "    sd = np.sqrt(sigma)\n",
    "    pdf = (np.e ** (-0.5 * ((n - mu)/sd) ** 2)) / (sd * np.sqrt(2 * np.pi))\n",
    "    return pdf\n",
    "\n",
    "\n",
    "# Define the parameters of the Gaussian function\n",
    "mu = 1  # mean\n",
    "sigma = 3  # standard deviation\n",
    "\n",
    "xs = np.linspace(-5, 5, 100)\n",
    "ys = normalpdf(xs, mu, sigma)\n",
    "\n",
    "# Generate plot\n",
    "plt.title('Normal PDF')\n",
    "plt.plot(xs, ys, label = 'mu='+str(mu)+', sigma='+str(sigma))\n",
    "plt.legend() # incluir label\n",
    "plt.grid(True)\n",
    "plt.show()"
   ]
  },
  {
   "cell_type": "code",
   "execution_count": 6,
   "id": "b1687001",
   "metadata": {},
   "outputs": [
    {
     "name": "stdout",
     "output_type": "stream",
     "text": [
      "Estimacion de la media de cada clase, por característica:\n",
      "            bill_length_mm  bill_depth_mm  flipper_length_mm  body_mass_g\n",
      "species                                                                 \n",
      "Adelie          38.717647      18.365686         189.715686  3676.225490\n",
      "Chinstrap       48.622642      18.349057         195.433962  3756.603774\n",
      "Gentoo          47.125581      14.947674         217.151163  5058.430233\n",
      "\n",
      "Estimacion de la varianza de cada clase, por característica\n",
      "            bill_length_mm  bill_depth_mm  flipper_length_mm    body_mass_g\n",
      "species                                                                   \n",
      "Adelie           7.469388       1.578514          46.264900  205165.562512\n",
      "Chinstrap       10.857170       1.253701          55.519594  147046.897678\n",
      "Gentoo           8.271808       0.954524          39.023940  230832.506840\n",
      "\n",
      "Estimacion probabilidades a priori\n",
      " species\n",
      "Adelie       0.423237\n",
      "Gentoo       0.356846\n",
      "Chinstrap    0.219917\n",
      "Name: count, dtype: float64\n"
     ]
    }
   ],
   "source": [
    "# Exclude non-numeric columns before applying aggregation functions\n",
    "numeric_columns = train.select_dtypes(include=[np.number]).columns\n",
    "\n",
    "means = train.groupby([\"species\"])[numeric_columns].mean()  # Estimacion de la media de cada clase, por característica\n",
    "var = train.groupby([\"species\"])[numeric_columns].var()  # Estimacion de la varianza de cada clase, por característica\n",
    "prior = train[\"species\"].value_counts() / len(train)  # Estimacion probabilidades a priori P(C)\n",
    "clases = np.unique(train[\"species\"].tolist())  # Todas las clases posibles\n",
    "\n",
    "print('Estimacion de la media de cada clase, por característica:\\n', means)\n",
    "print('\\nEstimacion de la varianza de cada clase, por característica\\n', var)\n",
    "print('\\nEstimacion probabilidades a priori\\n', prior)"
   ]
  },
  {
   "cell_type": "code",
   "execution_count": 7,
   "id": "8be41dfb",
   "metadata": {},
   "outputs": [],
   "source": [
    "def predict(X):\n",
    "    predictions = []\n",
    "\n",
    "    for i in X.index:  # Loop through each instance\n",
    "\n",
    "        ClassLikelihood = []\n",
    "        instance = X.loc[i]\n",
    "\n",
    "        for cls in clases:  # Loop through each class\n",
    "\n",
    "            FeatureLikelihoods = []\n",
    "            FeatureLikelihoods.append(np.log(prior[cls]))  # Append log prior of class 'cls'\n",
    "\n",
    "            for col in x_train.columns:  # Loop through each feature\n",
    "\n",
    "                data = instance[col]\n",
    "\n",
    "                # Handle missing values\n",
    "                if pd.isna(data):\n",
    "                    Likelihood = 1e-10  # Assign a very small likelihood for missing values\n",
    "                else:\n",
    "                    mean = means[col].loc[cls]  # Find the mean of column 'col' that are in class 'cls'\n",
    "                    variance = var[col].loc[cls]  # Find the variance of column 'col' that are in class 'cls'\n",
    "\n",
    "                    # Handle zero variance\n",
    "                    if variance == 0:\n",
    "                        variance = 1e-10  # Assign a very small variance to avoid division by zero\n",
    "\n",
    "                    Likelihood = normalpdf(data, mean, variance)\n",
    "\n",
    "                # Handle zero likelihood\n",
    "                if Likelihood != 0:\n",
    "                    Likelihood = np.log(Likelihood)  # Find the log-likelihood evaluated at x\n",
    "                else:\n",
    "                    Likelihood = -1e10  # Assign a very small log-likelihood for zero likelihood\n",
    "\n",
    "                FeatureLikelihoods.append(Likelihood)\n",
    "\n",
    "            TotalLikelihood = sum(FeatureLikelihoods)  # Calculate posterior\n",
    "            ClassLikelihood.append(TotalLikelihood)\n",
    "\n",
    "        MaxIndex = ClassLikelihood.index(max(ClassLikelihood))  # Find largest posterior position\n",
    "        prediction = clases[MaxIndex]\n",
    "        predictions.append(prediction)\n",
    "\n",
    "    return predictions"
   ]
  },
  {
   "cell_type": "code",
   "execution_count": 8,
   "id": "180c8fd0",
   "metadata": {},
   "outputs": [
    {
     "ename": "KeyError",
     "evalue": "'island'",
     "output_type": "error",
     "traceback": [
      "\u001b[1;31m---------------------------------------------------------------------------\u001b[0m",
      "\u001b[1;31mKeyError\u001b[0m                                  Traceback (most recent call last)",
      "File \u001b[1;32mc:\\Users\\pomar\\anaconda3\\Lib\\site-packages\\pandas\\core\\indexes\\base.py:3805\u001b[0m, in \u001b[0;36mIndex.get_loc\u001b[1;34m(self, key)\u001b[0m\n\u001b[0;32m   3804\u001b[0m \u001b[38;5;28;01mtry\u001b[39;00m:\n\u001b[1;32m-> 3805\u001b[0m     \u001b[38;5;28;01mreturn\u001b[39;00m \u001b[38;5;28;43mself\u001b[39;49m\u001b[38;5;241;43m.\u001b[39;49m\u001b[43m_engine\u001b[49m\u001b[38;5;241;43m.\u001b[39;49m\u001b[43mget_loc\u001b[49m\u001b[43m(\u001b[49m\u001b[43mcasted_key\u001b[49m\u001b[43m)\u001b[49m\n\u001b[0;32m   3806\u001b[0m \u001b[38;5;28;01mexcept\u001b[39;00m \u001b[38;5;167;01mKeyError\u001b[39;00m \u001b[38;5;28;01mas\u001b[39;00m err:\n",
      "File \u001b[1;32mindex.pyx:167\u001b[0m, in \u001b[0;36mpandas._libs.index.IndexEngine.get_loc\u001b[1;34m()\u001b[0m\n",
      "File \u001b[1;32mindex.pyx:196\u001b[0m, in \u001b[0;36mpandas._libs.index.IndexEngine.get_loc\u001b[1;34m()\u001b[0m\n",
      "File \u001b[1;32mpandas\\\\_libs\\\\hashtable_class_helper.pxi:7081\u001b[0m, in \u001b[0;36mpandas._libs.hashtable.PyObjectHashTable.get_item\u001b[1;34m()\u001b[0m\n",
      "File \u001b[1;32mpandas\\\\_libs\\\\hashtable_class_helper.pxi:7089\u001b[0m, in \u001b[0;36mpandas._libs.hashtable.PyObjectHashTable.get_item\u001b[1;34m()\u001b[0m\n",
      "\u001b[1;31mKeyError\u001b[0m: 'island'",
      "\nThe above exception was the direct cause of the following exception:\n",
      "\u001b[1;31mKeyError\u001b[0m                                  Traceback (most recent call last)",
      "Cell \u001b[1;32mIn[8], line 1\u001b[0m\n\u001b[1;32m----> 1\u001b[0m PredictTrain \u001b[38;5;241m=\u001b[39m \u001b[43mpredict\u001b[49m\u001b[43m(\u001b[49m\u001b[43mx_train\u001b[49m\u001b[43m)\u001b[49m\n\u001b[0;32m      2\u001b[0m PredictTest \u001b[38;5;241m=\u001b[39m predict(x_test)\n\u001b[0;32m      4\u001b[0m \u001b[38;5;66;03m# Despliega su precisión\u001b[39;00m\n",
      "Cell \u001b[1;32mIn[7], line 22\u001b[0m, in \u001b[0;36mpredict\u001b[1;34m(X)\u001b[0m\n\u001b[0;32m     20\u001b[0m     Likelihood \u001b[38;5;241m=\u001b[39m \u001b[38;5;241m1e-10\u001b[39m  \u001b[38;5;66;03m# Assign a very small likelihood for missing values\u001b[39;00m\n\u001b[0;32m     21\u001b[0m \u001b[38;5;28;01melse\u001b[39;00m:\n\u001b[1;32m---> 22\u001b[0m     mean \u001b[38;5;241m=\u001b[39m \u001b[43mmeans\u001b[49m\u001b[43m[\u001b[49m\u001b[43mcol\u001b[49m\u001b[43m]\u001b[49m\u001b[38;5;241m.\u001b[39mloc[\u001b[38;5;28mcls\u001b[39m]  \u001b[38;5;66;03m# Find the mean of column 'col' that are in class 'cls'\u001b[39;00m\n\u001b[0;32m     23\u001b[0m     variance \u001b[38;5;241m=\u001b[39m var[col]\u001b[38;5;241m.\u001b[39mloc[\u001b[38;5;28mcls\u001b[39m]  \u001b[38;5;66;03m# Find the variance of column 'col' that are in class 'cls'\u001b[39;00m\n\u001b[0;32m     25\u001b[0m     \u001b[38;5;66;03m# Handle zero variance\u001b[39;00m\n",
      "File \u001b[1;32mc:\\Users\\pomar\\anaconda3\\Lib\\site-packages\\pandas\\core\\frame.py:4102\u001b[0m, in \u001b[0;36mDataFrame.__getitem__\u001b[1;34m(self, key)\u001b[0m\n\u001b[0;32m   4100\u001b[0m \u001b[38;5;28;01mif\u001b[39;00m \u001b[38;5;28mself\u001b[39m\u001b[38;5;241m.\u001b[39mcolumns\u001b[38;5;241m.\u001b[39mnlevels \u001b[38;5;241m>\u001b[39m \u001b[38;5;241m1\u001b[39m:\n\u001b[0;32m   4101\u001b[0m     \u001b[38;5;28;01mreturn\u001b[39;00m \u001b[38;5;28mself\u001b[39m\u001b[38;5;241m.\u001b[39m_getitem_multilevel(key)\n\u001b[1;32m-> 4102\u001b[0m indexer \u001b[38;5;241m=\u001b[39m \u001b[38;5;28;43mself\u001b[39;49m\u001b[38;5;241;43m.\u001b[39;49m\u001b[43mcolumns\u001b[49m\u001b[38;5;241;43m.\u001b[39;49m\u001b[43mget_loc\u001b[49m\u001b[43m(\u001b[49m\u001b[43mkey\u001b[49m\u001b[43m)\u001b[49m\n\u001b[0;32m   4103\u001b[0m \u001b[38;5;28;01mif\u001b[39;00m is_integer(indexer):\n\u001b[0;32m   4104\u001b[0m     indexer \u001b[38;5;241m=\u001b[39m [indexer]\n",
      "File \u001b[1;32mc:\\Users\\pomar\\anaconda3\\Lib\\site-packages\\pandas\\core\\indexes\\base.py:3812\u001b[0m, in \u001b[0;36mIndex.get_loc\u001b[1;34m(self, key)\u001b[0m\n\u001b[0;32m   3807\u001b[0m     \u001b[38;5;28;01mif\u001b[39;00m \u001b[38;5;28misinstance\u001b[39m(casted_key, \u001b[38;5;28mslice\u001b[39m) \u001b[38;5;129;01mor\u001b[39;00m (\n\u001b[0;32m   3808\u001b[0m         \u001b[38;5;28misinstance\u001b[39m(casted_key, abc\u001b[38;5;241m.\u001b[39mIterable)\n\u001b[0;32m   3809\u001b[0m         \u001b[38;5;129;01mand\u001b[39;00m \u001b[38;5;28many\u001b[39m(\u001b[38;5;28misinstance\u001b[39m(x, \u001b[38;5;28mslice\u001b[39m) \u001b[38;5;28;01mfor\u001b[39;00m x \u001b[38;5;129;01min\u001b[39;00m casted_key)\n\u001b[0;32m   3810\u001b[0m     ):\n\u001b[0;32m   3811\u001b[0m         \u001b[38;5;28;01mraise\u001b[39;00m InvalidIndexError(key)\n\u001b[1;32m-> 3812\u001b[0m     \u001b[38;5;28;01mraise\u001b[39;00m \u001b[38;5;167;01mKeyError\u001b[39;00m(key) \u001b[38;5;28;01mfrom\u001b[39;00m \u001b[38;5;21;01merr\u001b[39;00m\n\u001b[0;32m   3813\u001b[0m \u001b[38;5;28;01mexcept\u001b[39;00m \u001b[38;5;167;01mTypeError\u001b[39;00m:\n\u001b[0;32m   3814\u001b[0m     \u001b[38;5;66;03m# If we have a listlike key, _check_indexing_error will raise\u001b[39;00m\n\u001b[0;32m   3815\u001b[0m     \u001b[38;5;66;03m#  InvalidIndexError. Otherwise we fall through and re-raise\u001b[39;00m\n\u001b[0;32m   3816\u001b[0m     \u001b[38;5;66;03m#  the TypeError.\u001b[39;00m\n\u001b[0;32m   3817\u001b[0m     \u001b[38;5;28mself\u001b[39m\u001b[38;5;241m.\u001b[39m_check_indexing_error(key)\n",
      "\u001b[1;31mKeyError\u001b[0m: 'island'"
     ]
    }
   ],
   "source": [
    "PredictTrain = predict(x_train)\n",
    "PredictTest = predict(x_test)\n",
    "\n",
    "# Despliega su precisión\n",
    "print('Training set Accuracy: ',round(100*sum(PredictTrain==y_train) / len(y_train),3),'%')\n",
    "print('Testing set Accuracy: ',round(100*sum(PredictTest==y_test) / len(y_test),3),'%')"
   ]
  }
 ],
 "metadata": {
  "kernelspec": {
   "display_name": "base",
   "language": "python",
   "name": "python3"
  },
  "language_info": {
   "codemirror_mode": {
    "name": "ipython",
    "version": 3
   },
   "file_extension": ".py",
   "mimetype": "text/x-python",
   "name": "python",
   "nbconvert_exporter": "python",
   "pygments_lexer": "ipython3",
   "version": "3.12.7"
  }
 },
 "nbformat": 4,
 "nbformat_minor": 5
}
