{
 "cells": [
  {
   "cell_type": "markdown",
   "metadata": {},
   "source": [
    "# Análisis de Cupido FJ 25\n"
   ]
  },
  {
   "cell_type": "code",
   "execution_count": 5,
   "metadata": {},
   "outputs": [],
   "source": [
    "import pandas as pd"
   ]
  },
  {
   "cell_type": "code",
   "execution_count": 6,
   "metadata": {},
   "outputs": [],
   "source": [
    "def gini_impurity(df, target_col):\n",
    "    total = len(df)\n",
    "    if total == 0:\n",
    "        return 0  # Nodo vacío\n",
    "\n",
    "    proportions = df[target_col].value_counts(normalize=True)\n",
    "    gini = 1 - sum(proportions**2)\n",
    "    return gini"
   ]
  },
  {
   "cell_type": "code",
   "execution_count": 7,
   "metadata": {},
   "outputs": [],
   "source": [
    "def process_gini(file_path):\n",
    "    df = pd.read_excel(file_path, sheet_name=\"Respuestas de formulario 1\")\n",
    "    \n",
    "    # Calcular Gini del nodo raíz\n",
    "    gini_root = gini_impurity(df, \"Desenlace\")\n",
    "    \n",
    "    # Seleccionar las tres características principales\n",
    "    features = [\"Afinidad de mentalidad\", \"Atención\", \"Amabilidad\"]\n",
    "    thresholds = {feature: df[feature].median() for feature in features}\n",
    "    \n",
    "    # Diccionario para almacenar nodos\n",
    "    nodes = {\"Root\": {\"Gini\": gini_root}}\n",
    "    \n",
    "    # Generar nodos de decisión basados en los umbrales\n",
    "    for feature in features:\n",
    "        threshold = thresholds[feature]\n",
    "        low_group = df[df[feature] <= threshold]\n",
    "        high_group = df[df[feature] > threshold]\n",
    "        \n",
    "        gini_low = gini_impurity(low_group, \"Desenlace\")\n",
    "        gini_high = gini_impurity(high_group, \"Desenlace\")\n",
    "        \n",
    "        nodes[feature] = {\n",
    "            \"Threshold\": threshold,\n",
    "            \"Gini Low\": gini_low,\n",
    "            \"Gini High\": gini_high,\n",
    "            \"Proportions Low\": low_group[\"Desenlace\"].value_counts(normalize=True).to_dict(),\n",
    "            \"Proportions High\": high_group[\"Desenlace\"].value_counts(normalize=True).to_dict()\n",
    "        }\n",
    "    \n",
    "    return nodes"
   ]
  },
  {
   "cell_type": "code",
   "execution_count": 13,
   "metadata": {},
   "outputs": [
    {
     "data": {
      "text/html": [
       "<div>\n",
       "<style scoped>\n",
       "    .dataframe tbody tr th:only-of-type {\n",
       "        vertical-align: middle;\n",
       "    }\n",
       "\n",
       "    .dataframe tbody tr th {\n",
       "        vertical-align: top;\n",
       "    }\n",
       "\n",
       "    .dataframe thead th {\n",
       "        text-align: right;\n",
       "    }\n",
       "</style>\n",
       "<table border=\"1\" class=\"dataframe\">\n",
       "  <thead>\n",
       "    <tr style=\"text-align: right;\">\n",
       "      <th></th>\n",
       "      <th>Gini</th>\n",
       "      <th>Threshold</th>\n",
       "      <th>Gini Low</th>\n",
       "      <th>Gini High</th>\n",
       "      <th>Proportions Low</th>\n",
       "      <th>Proportions High</th>\n",
       "    </tr>\n",
       "  </thead>\n",
       "  <tbody>\n",
       "    <tr>\n",
       "      <th>Root</th>\n",
       "      <td>0.49324</td>\n",
       "      <td>NaN</td>\n",
       "      <td>NaN</td>\n",
       "      <td>NaN</td>\n",
       "      <td>NaN</td>\n",
       "      <td>NaN</td>\n",
       "    </tr>\n",
       "    <tr>\n",
       "      <th>Afinidad de mentalidad</th>\n",
       "      <td>NaN</td>\n",
       "      <td>3.0</td>\n",
       "      <td>0.21120</td>\n",
       "      <td>0.197531</td>\n",
       "      <td>{'Fallo': 0.88, 'Éxito': 0.12}</td>\n",
       "      <td>{'Éxito': 0.8888888888888888, 'Fallo': 0.11111...</td>\n",
       "    </tr>\n",
       "    <tr>\n",
       "      <th>Atención</th>\n",
       "      <td>NaN</td>\n",
       "      <td>5.0</td>\n",
       "      <td>0.49324</td>\n",
       "      <td>0.000000</td>\n",
       "      <td>{'Fallo': 0.5581395348837209, 'Éxito': 0.44186...</td>\n",
       "      <td>{}</td>\n",
       "    </tr>\n",
       "    <tr>\n",
       "      <th>Amabilidad</th>\n",
       "      <td>NaN</td>\n",
       "      <td>5.0</td>\n",
       "      <td>0.49324</td>\n",
       "      <td>0.000000</td>\n",
       "      <td>{'Fallo': 0.5581395348837209, 'Éxito': 0.44186...</td>\n",
       "      <td>{}</td>\n",
       "    </tr>\n",
       "  </tbody>\n",
       "</table>\n",
       "</div>"
      ],
      "text/plain": [
       "                           Gini  Threshold  Gini Low  Gini High  \\\n",
       "Root                    0.49324        NaN       NaN        NaN   \n",
       "Afinidad de mentalidad      NaN        3.0   0.21120   0.197531   \n",
       "Atención                    NaN        5.0   0.49324   0.000000   \n",
       "Amabilidad                  NaN        5.0   0.49324   0.000000   \n",
       "\n",
       "                                                          Proportions Low  \\\n",
       "Root                                                                  NaN   \n",
       "Afinidad de mentalidad                     {'Fallo': 0.88, 'Éxito': 0.12}   \n",
       "Atención                {'Fallo': 0.5581395348837209, 'Éxito': 0.44186...   \n",
       "Amabilidad              {'Fallo': 0.5581395348837209, 'Éxito': 0.44186...   \n",
       "\n",
       "                                                         Proportions High  \n",
       "Root                                                                  NaN  \n",
       "Afinidad de mentalidad  {'Éxito': 0.8888888888888888, 'Fallo': 0.11111...  \n",
       "Atención                                                               {}  \n",
       "Amabilidad                                                             {}  "
      ]
     },
     "execution_count": 13,
     "metadata": {},
     "output_type": "execute_result"
    }
   ],
   "source": [
    "# Convertir gini_values a un DataFrame\n",
    "df_gini = pd.DataFrame.from_dict(gini_values, orient='index')\n",
    "df_gini\n"
   ]
  }
 ],
 "metadata": {
  "kernelspec": {
   "display_name": "base",
   "language": "python",
   "name": "python3"
  },
  "language_info": {
   "codemirror_mode": {
    "name": "ipython",
    "version": 3
   },
   "file_extension": ".py",
   "mimetype": "text/x-python",
   "name": "python",
   "nbconvert_exporter": "python",
   "pygments_lexer": "ipython3",
   "version": "3.12.7"
  }
 },
 "nbformat": 4,
 "nbformat_minor": 2
}
