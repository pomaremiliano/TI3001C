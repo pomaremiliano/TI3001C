{
  "cells": [
    {
      "cell_type": "markdown",
      "id": "H1yoGRTg1iUs",
      "metadata": {
        "id": "H1yoGRTg1iUs"
      },
      "source": [
        "# Práctica Limpieza\n",
        "- Fecha: 14 de marzo de 2025\n",
        "\n",
        "## Integrantes:\n",
        "- Jorge Emiliano Pomar | A01709338\n",
        "- Francisco Couttolenc Ortíz | A01754959"
      ]
    },
    {
      "cell_type": "markdown",
      "id": "0cbe1081-676f-4dd5-8902-084b4ec36bbd",
      "metadata": {
        "id": "0cbe1081-676f-4dd5-8902-084b4ec36bbd"
      },
      "source": [
        "## Data acquisition y Data Wrangling\n",
        "En este ejercicio aplicaremos los conocimientos aprendidos hasta el momento de adquisición de datos y de data wrangling."
      ]
    },
    {
      "cell_type": "code",
      "execution_count": 4,
      "id": "3c94adc0-4eb9-4626-a282-f303db97e421",
      "metadata": {
        "colab": {
          "base_uri": "https://localhost:8080/"
        },
        "id": "3c94adc0-4eb9-4626-a282-f303db97e421",
        "outputId": "cccbabca-7449-4aab-ed11-97e1e3591d8c"
      },
      "outputs": [
        {
          "name": "stdout",
          "output_type": "stream",
          "text": [
            "Requirement already satisfied: missingno in c:\\users\\pomar\\anaconda3\\lib\\site-packages (0.5.2)\n",
            "Requirement already satisfied: numpy in c:\\users\\pomar\\anaconda3\\lib\\site-packages (from missingno) (1.26.4)\n",
            "Requirement already satisfied: matplotlib in c:\\users\\pomar\\anaconda3\\lib\\site-packages (from missingno) (3.9.2)\n",
            "Requirement already satisfied: scipy in c:\\users\\pomar\\anaconda3\\lib\\site-packages (from missingno) (1.13.1)\n",
            "Requirement already satisfied: seaborn in c:\\users\\pomar\\anaconda3\\lib\\site-packages (from missingno) (0.13.2)\n",
            "Requirement already satisfied: contourpy>=1.0.1 in c:\\users\\pomar\\anaconda3\\lib\\site-packages (from matplotlib->missingno) (1.2.0)\n",
            "Requirement already satisfied: cycler>=0.10 in c:\\users\\pomar\\anaconda3\\lib\\site-packages (from matplotlib->missingno) (0.11.0)\n",
            "Requirement already satisfied: fonttools>=4.22.0 in c:\\users\\pomar\\anaconda3\\lib\\site-packages (from matplotlib->missingno) (4.51.0)\n",
            "Requirement already satisfied: kiwisolver>=1.3.1 in c:\\users\\pomar\\anaconda3\\lib\\site-packages (from matplotlib->missingno) (1.4.4)\n",
            "Requirement already satisfied: packaging>=20.0 in c:\\users\\pomar\\appdata\\roaming\\python\\python312\\site-packages (from matplotlib->missingno) (24.0)\n",
            "Requirement already satisfied: pillow>=8 in c:\\users\\pomar\\anaconda3\\lib\\site-packages (from matplotlib->missingno) (10.4.0)\n",
            "Requirement already satisfied: pyparsing>=2.3.1 in c:\\users\\pomar\\anaconda3\\lib\\site-packages (from matplotlib->missingno) (3.1.2)\n",
            "Requirement already satisfied: python-dateutil>=2.7 in c:\\users\\pomar\\appdata\\roaming\\python\\python312\\site-packages (from matplotlib->missingno) (2.9.0.post0)\n",
            "Requirement already satisfied: pandas>=1.2 in c:\\users\\pomar\\anaconda3\\lib\\site-packages (from seaborn->missingno) (2.2.2)\n",
            "Requirement already satisfied: pytz>=2020.1 in c:\\users\\pomar\\anaconda3\\lib\\site-packages (from pandas>=1.2->seaborn->missingno) (2024.1)\n",
            "Requirement already satisfied: tzdata>=2022.7 in c:\\users\\pomar\\anaconda3\\lib\\site-packages (from pandas>=1.2->seaborn->missingno) (2023.3)\n",
            "Requirement already satisfied: six>=1.5 in c:\\users\\pomar\\appdata\\roaming\\python\\python312\\site-packages (from python-dateutil>=2.7->matplotlib->missingno) (1.16.0)\n"
          ]
        }
      ],
      "source": [
        "# Importa aqui las librerias necesarias para tu practica\n",
        "import pandas as pd\n",
        "!pip install missingno\n",
        "import missingno as msno\n",
        "\n",
        "import sqlite3\n"
      ]
    },
    {
      "cell_type": "markdown",
      "id": "89810104-acb3-4a3c-ae4f-3425d1cde46d",
      "metadata": {
        "id": "89810104-acb3-4a3c-ae4f-3425d1cde46d"
      },
      "source": [
        "## Parte 1 - Lectura:\n",
        "Consultas SQL\n",
        "\n",
        "### Consulta 1\n",
        "(10 pts)\n",
        "\n",
        "\n",
        "Crea una conexión a la base `nba_salary.sqlite`. Carga a un dataframe registros de salarios del equipo Houston (*HOU*)."
      ]
    },
    {
      "cell_type": "code",
      "execution_count": 5,
      "id": "313a771a-32be-41e6-8ad1-dc72400e6d90",
      "metadata": {
        "colab": {
          "base_uri": "https://localhost:8080/"
        },
        "id": "313a771a-32be-41e6-8ad1-dc72400e6d90",
        "outputId": "9a06a7ef-c2c3-4a06-da6f-6102d0e89184"
      },
      "outputs": [
        {
          "data": {
            "text/plain": [
              "<sqlite3.Connection at 0x19eb59bfa60>"
            ]
          },
          "execution_count": 5,
          "metadata": {},
          "output_type": "execute_result"
        }
      ],
      "source": [
        "conn =  sqlite3.connect(\"nba_salary.sqlite\")\n",
        "conn"
      ]
    },
    {
      "cell_type": "markdown",
      "id": "f8fd4c5e-9287-4c07-ae43-9bb5c3871f3d",
      "metadata": {
        "id": "f8fd4c5e-9287-4c07-ae43-9bb5c3871f3d"
      },
      "source": [
        "### Consulta 2\n",
        "\n",
        "(10 pts)\n",
        "\n",
        "Carga a un dataframe solo los nombres, equipos y salarios de jugadores con salario mayor que 10 millones de dólares."
      ]
    },
    {
      "cell_type": "code",
      "execution_count": 6,
      "id": "2KPL3mbPbh_C",
      "metadata": {
        "colab": {
          "base_uri": "https://localhost:8080/",
          "height": 423
        },
        "id": "2KPL3mbPbh_C",
        "outputId": "90686582-d546-4fa6-8f0c-6e4d58e6df1f"
      },
      "outputs": [
        {
          "data": {
            "text/html": [
              "<div>\n",
              "<style scoped>\n",
              "    .dataframe tbody tr th:only-of-type {\n",
              "        vertical-align: middle;\n",
              "    }\n",
              "\n",
              "    .dataframe tbody tr th {\n",
              "        vertical-align: top;\n",
              "    }\n",
              "\n",
              "    .dataframe thead th {\n",
              "        text-align: right;\n",
              "    }\n",
              "</style>\n",
              "<table border=\"1\" class=\"dataframe\">\n",
              "  <thead>\n",
              "    <tr style=\"text-align: right;\">\n",
              "      <th></th>\n",
              "      <th>Tm</th>\n",
              "      <th>Player</th>\n",
              "      <th>season17_18</th>\n",
              "    </tr>\n",
              "  </thead>\n",
              "  <tbody>\n",
              "    <tr>\n",
              "      <th>0</th>\n",
              "      <td>GSW</td>\n",
              "      <td>Stephen Curry</td>\n",
              "      <td>34682550.0</td>\n",
              "    </tr>\n",
              "    <tr>\n",
              "      <th>1</th>\n",
              "      <td>CLE</td>\n",
              "      <td>LeBron James</td>\n",
              "      <td>33285709.0</td>\n",
              "    </tr>\n",
              "    <tr>\n",
              "      <th>2</th>\n",
              "      <td>DEN</td>\n",
              "      <td>Paul Millsap</td>\n",
              "      <td>31269231.0</td>\n",
              "    </tr>\n",
              "    <tr>\n",
              "      <th>3</th>\n",
              "      <td>BOS</td>\n",
              "      <td>Gordon Hayward</td>\n",
              "      <td>29727900.0</td>\n",
              "    </tr>\n",
              "    <tr>\n",
              "      <th>4</th>\n",
              "      <td>DET</td>\n",
              "      <td>Blake Griffin</td>\n",
              "      <td>29512900.0</td>\n",
              "    </tr>\n",
              "    <tr>\n",
              "      <th>...</th>\n",
              "      <td>...</td>\n",
              "      <td>...</td>\n",
              "      <td>...</td>\n",
              "    </tr>\n",
              "    <tr>\n",
              "      <th>117</th>\n",
              "      <td>MIL</td>\n",
              "      <td>Mirza Teletovic</td>\n",
              "      <td>10500000.0</td>\n",
              "    </tr>\n",
              "    <tr>\n",
              "      <th>118</th>\n",
              "      <td>IND</td>\n",
              "      <td>Bojan Bogdanovic</td>\n",
              "      <td>10500000.0</td>\n",
              "    </tr>\n",
              "    <tr>\n",
              "      <th>119</th>\n",
              "      <td>DET</td>\n",
              "      <td>Jon Leuer</td>\n",
              "      <td>10497319.0</td>\n",
              "    </tr>\n",
              "    <tr>\n",
              "      <th>120</th>\n",
              "      <td>SAC</td>\n",
              "      <td>Iman Shumpert</td>\n",
              "      <td>10337079.0</td>\n",
              "    </tr>\n",
              "    <tr>\n",
              "      <th>121</th>\n",
              "      <td>POR</td>\n",
              "      <td>Maurice Harkless</td>\n",
              "      <td>10162922.0</td>\n",
              "    </tr>\n",
              "  </tbody>\n",
              "</table>\n",
              "<p>122 rows × 3 columns</p>\n",
              "</div>"
            ],
            "text/plain": [
              "      Tm            Player  season17_18\n",
              "0    GSW     Stephen Curry   34682550.0\n",
              "1    CLE      LeBron James   33285709.0\n",
              "2    DEN      Paul Millsap   31269231.0\n",
              "3    BOS    Gordon Hayward   29727900.0\n",
              "4    DET     Blake Griffin   29512900.0\n",
              "..   ...               ...          ...\n",
              "117  MIL   Mirza Teletovic   10500000.0\n",
              "118  IND  Bojan Bogdanovic   10500000.0\n",
              "119  DET         Jon Leuer   10497319.0\n",
              "120  SAC     Iman Shumpert   10337079.0\n",
              "121  POR  Maurice Harkless   10162922.0\n",
              "\n",
              "[122 rows x 3 columns]"
            ]
          },
          "execution_count": 6,
          "metadata": {},
          "output_type": "execute_result"
        }
      ],
      "source": [
        "df = pd.read_sql_query(\n",
        "    'SELECT Tm, Player, season17_18 FROM NBA_season1718_salary WHERE season17_18 > 10000000', conn\n",
        ")\n",
        "df"
      ]
    },
    {
      "cell_type": "markdown",
      "id": "00b02d48-9423-40ec-86d8-8a44ca82619b",
      "metadata": {
        "id": "00b02d48-9423-40ec-86d8-8a44ca82619b"
      },
      "source": [
        "### Consulta 3\n",
        "(10 pts)\n",
        "\n",
        "Extrae las siguientes estadísticas correspondientes al año 2017:\n",
        "* Promedio de edad (AGE)\n",
        "* Mínimo de puntos (PTS)\n",
        "* Máximo de puntos"
      ]
    },
    {
      "cell_type": "code",
      "execution_count": 7,
      "id": "roy0oUf6colq",
      "metadata": {
        "colab": {
          "base_uri": "https://localhost:8080/",
          "height": 89
        },
        "id": "roy0oUf6colq",
        "outputId": "13b704d5-ea9a-47f8-dbe8-ac636f1712aa"
      },
      "outputs": [
        {
          "data": {
            "text/html": [
              "<div>\n",
              "<style scoped>\n",
              "    .dataframe tbody tr th:only-of-type {\n",
              "        vertical-align: middle;\n",
              "    }\n",
              "\n",
              "    .dataframe tbody tr th {\n",
              "        vertical-align: top;\n",
              "    }\n",
              "\n",
              "    .dataframe thead th {\n",
              "        text-align: right;\n",
              "    }\n",
              "</style>\n",
              "<table border=\"1\" class=\"dataframe\">\n",
              "  <thead>\n",
              "    <tr style=\"text-align: right;\">\n",
              "      <th></th>\n",
              "      <th>AVG(Age)</th>\n",
              "    </tr>\n",
              "  </thead>\n",
              "  <tbody>\n",
              "    <tr>\n",
              "      <th>0</th>\n",
              "      <td>26.406723</td>\n",
              "    </tr>\n",
              "  </tbody>\n",
              "</table>\n",
              "</div>"
            ],
            "text/plain": [
              "    AVG(Age)\n",
              "0  26.406723"
            ]
          },
          "execution_count": 7,
          "metadata": {},
          "output_type": "execute_result"
        }
      ],
      "source": [
        "df1 = pd.read_sql_query(\n",
        "    'SELECT AVG(Age) FROM Seasons_Stats WHERE Year = 2017', conn\n",
        ")\n",
        "df1"
      ]
    },
    {
      "cell_type": "code",
      "execution_count": 8,
      "id": "r3-7XXJaeE0I",
      "metadata": {
        "colab": {
          "base_uri": "https://localhost:8080/",
          "height": 89
        },
        "id": "r3-7XXJaeE0I",
        "outputId": "ffb84898-f2b5-4f35-c2ab-d0d2f011cc94"
      },
      "outputs": [
        {
          "data": {
            "text/html": [
              "<div>\n",
              "<style scoped>\n",
              "    .dataframe tbody tr th:only-of-type {\n",
              "        vertical-align: middle;\n",
              "    }\n",
              "\n",
              "    .dataframe tbody tr th {\n",
              "        vertical-align: top;\n",
              "    }\n",
              "\n",
              "    .dataframe thead th {\n",
              "        text-align: right;\n",
              "    }\n",
              "</style>\n",
              "<table border=\"1\" class=\"dataframe\">\n",
              "  <thead>\n",
              "    <tr style=\"text-align: right;\">\n",
              "      <th></th>\n",
              "      <th>MIN(PTS)</th>\n",
              "    </tr>\n",
              "  </thead>\n",
              "  <tbody>\n",
              "    <tr>\n",
              "      <th>0</th>\n",
              "      <td>0.0</td>\n",
              "    </tr>\n",
              "  </tbody>\n",
              "</table>\n",
              "</div>"
            ],
            "text/plain": [
              "   MIN(PTS)\n",
              "0       0.0"
            ]
          },
          "execution_count": 8,
          "metadata": {},
          "output_type": "execute_result"
        }
      ],
      "source": [
        "df2 = pd.read_sql_query(\n",
        "    'SELECT MIN(PTS) FROM Seasons_Stats', conn)\n",
        "df2"
      ]
    },
    {
      "cell_type": "code",
      "execution_count": 9,
      "id": "d2q7YvB4duIN",
      "metadata": {
        "colab": {
          "base_uri": "https://localhost:8080/",
          "height": 89
        },
        "id": "d2q7YvB4duIN",
        "outputId": "a83a2856-d87d-4f42-9e81-4a8592a45a07"
      },
      "outputs": [
        {
          "data": {
            "text/html": [
              "<div>\n",
              "<style scoped>\n",
              "    .dataframe tbody tr th:only-of-type {\n",
              "        vertical-align: middle;\n",
              "    }\n",
              "\n",
              "    .dataframe tbody tr th {\n",
              "        vertical-align: top;\n",
              "    }\n",
              "\n",
              "    .dataframe thead th {\n",
              "        text-align: right;\n",
              "    }\n",
              "</style>\n",
              "<table border=\"1\" class=\"dataframe\">\n",
              "  <thead>\n",
              "    <tr style=\"text-align: right;\">\n",
              "      <th></th>\n",
              "      <th>MAX(PTS)</th>\n",
              "    </tr>\n",
              "  </thead>\n",
              "  <tbody>\n",
              "    <tr>\n",
              "      <th>0</th>\n",
              "      <td>4029.0</td>\n",
              "    </tr>\n",
              "  </tbody>\n",
              "</table>\n",
              "</div>"
            ],
            "text/plain": [
              "   MAX(PTS)\n",
              "0    4029.0"
            ]
          },
          "execution_count": 9,
          "metadata": {},
          "output_type": "execute_result"
        }
      ],
      "source": [
        "df3 = pd.read_sql_query(\n",
        "    'SELECT MAX(PTS) FROM Seasons_Stats', conn)\n",
        "df3"
      ]
    },
    {
      "cell_type": "markdown",
      "id": "162d04b5-99d3-4633-b361-44740b1eea31",
      "metadata": {
        "id": "162d04b5-99d3-4633-b361-44740b1eea31"
      },
      "source": [
        "### Consulta 4\n",
        "(10 pts)\n",
        "Carga a un dataframe los mínimos, promedios y máximos de salarios por equipo."
      ]
    },
    {
      "cell_type": "code",
      "execution_count": 10,
      "id": "xT3YATIudOuW",
      "metadata": {
        "colab": {
          "base_uri": "https://localhost:8080/",
          "height": 143
        },
        "id": "xT3YATIudOuW",
        "outputId": "31eca62c-a1bb-4018-c509-912118484d75"
      },
      "outputs": [
        {
          "data": {
            "text/html": [
              "<div>\n",
              "<style scoped>\n",
              "    .dataframe tbody tr th:only-of-type {\n",
              "        vertical-align: middle;\n",
              "    }\n",
              "\n",
              "    .dataframe tbody tr th {\n",
              "        vertical-align: top;\n",
              "    }\n",
              "\n",
              "    .dataframe thead th {\n",
              "        text-align: right;\n",
              "    }\n",
              "</style>\n",
              "<table border=\"1\" class=\"dataframe\">\n",
              "  <thead>\n",
              "    <tr style=\"text-align: right;\">\n",
              "      <th></th>\n",
              "      <th>AVG(Age)</th>\n",
              "      <th>MIN(PTS)</th>\n",
              "      <th>MAX(PTS)</th>\n",
              "    </tr>\n",
              "  </thead>\n",
              "  <tbody>\n",
              "    <tr>\n",
              "      <th>0</th>\n",
              "      <td>26.406723</td>\n",
              "      <td>NaN</td>\n",
              "      <td>NaN</td>\n",
              "    </tr>\n",
              "    <tr>\n",
              "      <th>0</th>\n",
              "      <td>NaN</td>\n",
              "      <td>0.0</td>\n",
              "      <td>NaN</td>\n",
              "    </tr>\n",
              "    <tr>\n",
              "      <th>0</th>\n",
              "      <td>NaN</td>\n",
              "      <td>NaN</td>\n",
              "      <td>4029.0</td>\n",
              "    </tr>\n",
              "  </tbody>\n",
              "</table>\n",
              "</div>"
            ],
            "text/plain": [
              "    AVG(Age)  MIN(PTS)  MAX(PTS)\n",
              "0  26.406723       NaN       NaN\n",
              "0        NaN       0.0       NaN\n",
              "0        NaN       NaN    4029.0"
            ]
          },
          "execution_count": 10,
          "metadata": {},
          "output_type": "execute_result"
        }
      ],
      "source": [
        "df= pd.concat([pd.DataFrame(df1), pd.DataFrame(df2), pd.DataFrame(df3)])\n",
        "df"
      ]
    },
    {
      "cell_type": "markdown",
      "id": "cb935381-8fd1-49dc-bb32-b85376800c62",
      "metadata": {
        "id": "cb935381-8fd1-49dc-bb32-b85376800c62"
      },
      "source": [
        "### Consulta 5 - Carga a dataframes\n",
        "(10 pts)\n",
        "\n",
        "Extrae sus tablas a un dataframe y muestra 5 registros de cada una (utiliza nombres explicativos)."
      ]
    },
    {
      "cell_type": "code",
      "execution_count": 11,
      "id": "6caaa309-f8f5-4eba-a6b6-f08ca4a2d5d3",
      "metadata": {
        "id": "6caaa309-f8f5-4eba-a6b6-f08ca4a2d5d3"
      },
      "outputs": [],
      "source": [
        "salary = pd.DataFrame(pd.read_sql_query('SELECT * FROM NBA_season1718_salary', conn))"
      ]
    },
    {
      "cell_type": "code",
      "execution_count": 12,
      "id": "585691f6-f64d-48ac-a3d9-acc871accfdf",
      "metadata": {
        "colab": {
          "base_uri": "https://localhost:8080/",
          "height": 206
        },
        "id": "585691f6-f64d-48ac-a3d9-acc871accfdf",
        "outputId": "5154f54f-faed-44b3-b321-2fe1ab26b1ee"
      },
      "outputs": [
        {
          "data": {
            "text/html": [
              "<div>\n",
              "<style scoped>\n",
              "    .dataframe tbody tr th:only-of-type {\n",
              "        vertical-align: middle;\n",
              "    }\n",
              "\n",
              "    .dataframe tbody tr th {\n",
              "        vertical-align: top;\n",
              "    }\n",
              "\n",
              "    .dataframe thead th {\n",
              "        text-align: right;\n",
              "    }\n",
              "</style>\n",
              "<table border=\"1\" class=\"dataframe\">\n",
              "  <thead>\n",
              "    <tr style=\"text-align: right;\">\n",
              "      <th></th>\n",
              "      <th>X1</th>\n",
              "      <th>Player</th>\n",
              "      <th>Tm</th>\n",
              "      <th>season17_18</th>\n",
              "    </tr>\n",
              "  </thead>\n",
              "  <tbody>\n",
              "    <tr>\n",
              "      <th>0</th>\n",
              "      <td>1.0</td>\n",
              "      <td>Stephen Curry</td>\n",
              "      <td>GSW</td>\n",
              "      <td>34682550.0</td>\n",
              "    </tr>\n",
              "    <tr>\n",
              "      <th>1</th>\n",
              "      <td>2.0</td>\n",
              "      <td>LeBron James</td>\n",
              "      <td>CLE</td>\n",
              "      <td>33285709.0</td>\n",
              "    </tr>\n",
              "    <tr>\n",
              "      <th>2</th>\n",
              "      <td>3.0</td>\n",
              "      <td>Paul Millsap</td>\n",
              "      <td>DEN</td>\n",
              "      <td>31269231.0</td>\n",
              "    </tr>\n",
              "    <tr>\n",
              "      <th>3</th>\n",
              "      <td>4.0</td>\n",
              "      <td>Gordon Hayward</td>\n",
              "      <td>BOS</td>\n",
              "      <td>29727900.0</td>\n",
              "    </tr>\n",
              "    <tr>\n",
              "      <th>4</th>\n",
              "      <td>5.0</td>\n",
              "      <td>Blake Griffin</td>\n",
              "      <td>DET</td>\n",
              "      <td>29512900.0</td>\n",
              "    </tr>\n",
              "  </tbody>\n",
              "</table>\n",
              "</div>"
            ],
            "text/plain": [
              "    X1          Player   Tm  season17_18\n",
              "0  1.0   Stephen Curry  GSW   34682550.0\n",
              "1  2.0    LeBron James  CLE   33285709.0\n",
              "2  3.0    Paul Millsap  DEN   31269231.0\n",
              "3  4.0  Gordon Hayward  BOS   29727900.0\n",
              "4  5.0   Blake Griffin  DET   29512900.0"
            ]
          },
          "execution_count": 12,
          "metadata": {},
          "output_type": "execute_result"
        }
      ],
      "source": [
        "salary.head(5)"
      ]
    },
    {
      "cell_type": "code",
      "execution_count": 13,
      "id": "qrce-gzbiVLV",
      "metadata": {
        "id": "qrce-gzbiVLV"
      },
      "outputs": [],
      "source": [
        "stats = pd.DataFrame(pd.read_sql_query('SELECT * FROM Seasons_Stats', conn))"
      ]
    },
    {
      "cell_type": "code",
      "execution_count": 15,
      "id": "laFTMtCEik4J",
      "metadata": {
        "colab": {
          "base_uri": "https://localhost:8080/",
          "height": 307
        },
        "id": "laFTMtCEik4J",
        "outputId": "d99523ae-fbd8-44b8-e95b-e38c25c005c6"
      },
      "outputs": [
        {
          "data": {
            "text/html": [
              "<div>\n",
              "<style scoped>\n",
              "    .dataframe tbody tr th:only-of-type {\n",
              "        vertical-align: middle;\n",
              "    }\n",
              "\n",
              "    .dataframe tbody tr th {\n",
              "        vertical-align: top;\n",
              "    }\n",
              "\n",
              "    .dataframe thead th {\n",
              "        text-align: right;\n",
              "    }\n",
              "</style>\n",
              "<table border=\"1\" class=\"dataframe\">\n",
              "  <thead>\n",
              "    <tr style=\"text-align: right;\">\n",
              "      <th></th>\n",
              "      <th>X1</th>\n",
              "      <th>Year</th>\n",
              "      <th>Player</th>\n",
              "      <th>Pos</th>\n",
              "      <th>Age</th>\n",
              "      <th>Tm</th>\n",
              "      <th>G</th>\n",
              "      <th>GS</th>\n",
              "      <th>MP</th>\n",
              "      <th>PER</th>\n",
              "      <th>...</th>\n",
              "      <th>FT%</th>\n",
              "      <th>ORB</th>\n",
              "      <th>DRB</th>\n",
              "      <th>TRB</th>\n",
              "      <th>AST</th>\n",
              "      <th>STL</th>\n",
              "      <th>BLK</th>\n",
              "      <th>TOV</th>\n",
              "      <th>PF</th>\n",
              "      <th>PTS</th>\n",
              "    </tr>\n",
              "  </thead>\n",
              "  <tbody>\n",
              "    <tr>\n",
              "      <th>0</th>\n",
              "      <td>0.0</td>\n",
              "      <td>1950.0</td>\n",
              "      <td>Curly Armstrong</td>\n",
              "      <td>G-F</td>\n",
              "      <td>31.0</td>\n",
              "      <td>FTW</td>\n",
              "      <td>63.0</td>\n",
              "      <td>NaN</td>\n",
              "      <td>NaN</td>\n",
              "      <td>NaN</td>\n",
              "      <td>...</td>\n",
              "      <td>0.705</td>\n",
              "      <td>NaN</td>\n",
              "      <td>NaN</td>\n",
              "      <td>NaN</td>\n",
              "      <td>176.0</td>\n",
              "      <td>NaN</td>\n",
              "      <td>NaN</td>\n",
              "      <td>NaN</td>\n",
              "      <td>217.0</td>\n",
              "      <td>458.0</td>\n",
              "    </tr>\n",
              "    <tr>\n",
              "      <th>1</th>\n",
              "      <td>1.0</td>\n",
              "      <td>1950.0</td>\n",
              "      <td>Cliff Barker</td>\n",
              "      <td>SG</td>\n",
              "      <td>29.0</td>\n",
              "      <td>INO</td>\n",
              "      <td>49.0</td>\n",
              "      <td>NaN</td>\n",
              "      <td>NaN</td>\n",
              "      <td>NaN</td>\n",
              "      <td>...</td>\n",
              "      <td>0.708</td>\n",
              "      <td>NaN</td>\n",
              "      <td>NaN</td>\n",
              "      <td>NaN</td>\n",
              "      <td>109.0</td>\n",
              "      <td>NaN</td>\n",
              "      <td>NaN</td>\n",
              "      <td>NaN</td>\n",
              "      <td>99.0</td>\n",
              "      <td>279.0</td>\n",
              "    </tr>\n",
              "    <tr>\n",
              "      <th>2</th>\n",
              "      <td>2.0</td>\n",
              "      <td>1950.0</td>\n",
              "      <td>Leo Barnhorst</td>\n",
              "      <td>SF</td>\n",
              "      <td>25.0</td>\n",
              "      <td>CHS</td>\n",
              "      <td>67.0</td>\n",
              "      <td>NaN</td>\n",
              "      <td>NaN</td>\n",
              "      <td>NaN</td>\n",
              "      <td>...</td>\n",
              "      <td>0.698</td>\n",
              "      <td>NaN</td>\n",
              "      <td>NaN</td>\n",
              "      <td>NaN</td>\n",
              "      <td>140.0</td>\n",
              "      <td>NaN</td>\n",
              "      <td>NaN</td>\n",
              "      <td>NaN</td>\n",
              "      <td>192.0</td>\n",
              "      <td>438.0</td>\n",
              "    </tr>\n",
              "    <tr>\n",
              "      <th>3</th>\n",
              "      <td>3.0</td>\n",
              "      <td>1950.0</td>\n",
              "      <td>Ed Bartels</td>\n",
              "      <td>F</td>\n",
              "      <td>24.0</td>\n",
              "      <td>TOT</td>\n",
              "      <td>15.0</td>\n",
              "      <td>NaN</td>\n",
              "      <td>NaN</td>\n",
              "      <td>NaN</td>\n",
              "      <td>...</td>\n",
              "      <td>0.559</td>\n",
              "      <td>NaN</td>\n",
              "      <td>NaN</td>\n",
              "      <td>NaN</td>\n",
              "      <td>20.0</td>\n",
              "      <td>NaN</td>\n",
              "      <td>NaN</td>\n",
              "      <td>NaN</td>\n",
              "      <td>29.0</td>\n",
              "      <td>63.0</td>\n",
              "    </tr>\n",
              "    <tr>\n",
              "      <th>4</th>\n",
              "      <td>4.0</td>\n",
              "      <td>1950.0</td>\n",
              "      <td>Ed Bartels</td>\n",
              "      <td>F</td>\n",
              "      <td>24.0</td>\n",
              "      <td>DNN</td>\n",
              "      <td>13.0</td>\n",
              "      <td>NaN</td>\n",
              "      <td>NaN</td>\n",
              "      <td>NaN</td>\n",
              "      <td>...</td>\n",
              "      <td>0.548</td>\n",
              "      <td>NaN</td>\n",
              "      <td>NaN</td>\n",
              "      <td>NaN</td>\n",
              "      <td>20.0</td>\n",
              "      <td>NaN</td>\n",
              "      <td>NaN</td>\n",
              "      <td>NaN</td>\n",
              "      <td>27.0</td>\n",
              "      <td>59.0</td>\n",
              "    </tr>\n",
              "  </tbody>\n",
              "</table>\n",
              "<p>5 rows × 53 columns</p>\n",
              "</div>"
            ],
            "text/plain": [
              "    X1    Year           Player  Pos   Age   Tm     G  GS  MP  PER  ...  \\\n",
              "0  0.0  1950.0  Curly Armstrong  G-F  31.0  FTW  63.0 NaN NaN  NaN  ...   \n",
              "1  1.0  1950.0     Cliff Barker   SG  29.0  INO  49.0 NaN NaN  NaN  ...   \n",
              "2  2.0  1950.0    Leo Barnhorst   SF  25.0  CHS  67.0 NaN NaN  NaN  ...   \n",
              "3  3.0  1950.0       Ed Bartels    F  24.0  TOT  15.0 NaN NaN  NaN  ...   \n",
              "4  4.0  1950.0       Ed Bartels    F  24.0  DNN  13.0 NaN NaN  NaN  ...   \n",
              "\n",
              "     FT%  ORB  DRB  TRB    AST  STL  BLK  TOV     PF    PTS  \n",
              "0  0.705  NaN  NaN  NaN  176.0  NaN  NaN  NaN  217.0  458.0  \n",
              "1  0.708  NaN  NaN  NaN  109.0  NaN  NaN  NaN   99.0  279.0  \n",
              "2  0.698  NaN  NaN  NaN  140.0  NaN  NaN  NaN  192.0  438.0  \n",
              "3  0.559  NaN  NaN  NaN   20.0  NaN  NaN  NaN   29.0   63.0  \n",
              "4  0.548  NaN  NaN  NaN   20.0  NaN  NaN  NaN   27.0   59.0  \n",
              "\n",
              "[5 rows x 53 columns]"
            ]
          },
          "execution_count": 15,
          "metadata": {},
          "output_type": "execute_result"
        }
      ],
      "source": [
        "stats.head(5)"
      ]
    },
    {
      "cell_type": "markdown",
      "id": "fc81edbb-bc66-4c58-b04a-4df7a783f63e",
      "metadata": {
        "id": "fc81edbb-bc66-4c58-b04a-4df7a783f63e"
      },
      "source": [
        "## Parte 2 - Limpieza\n",
        "\n",
        "(5 pts)\n",
        "Muestra cuántos datos nulos tiene cada tabla."
      ]
    },
    {
      "cell_type": "code",
      "execution_count": 16,
      "id": "MTR_OMrKisSi",
      "metadata": {
        "colab": {
          "base_uri": "https://localhost:8080/",
          "height": 209
        },
        "id": "MTR_OMrKisSi",
        "outputId": "102b27de-cdaa-4c22-b183-5336a591c4dc"
      },
      "outputs": [
        {
          "data": {
            "text/plain": [
              "X1             0\n",
              "Player         0\n",
              "Tm             0\n",
              "season17_18    0\n",
              "dtype: int64"
            ]
          },
          "execution_count": 16,
          "metadata": {},
          "output_type": "execute_result"
        }
      ],
      "source": [
        "salary.isnull().sum()"
      ]
    },
    {
      "cell_type": "code",
      "execution_count": 17,
      "id": "_VH0dQgHivo2",
      "metadata": {
        "colab": {
          "base_uri": "https://localhost:8080/",
          "height": 1000
        },
        "id": "_VH0dQgHivo2",
        "outputId": "33d0b2cb-ceaf-411e-eef9-68e06c2868bc"
      },
      "outputs": [
        {
          "data": {
            "text/plain": [
              "X1            0\n",
              "Year         67\n",
              "Player       67\n",
              "Pos          67\n",
              "Age          75\n",
              "Tm           67\n",
              "G            67\n",
              "GS        18444\n",
              "MP          553\n",
              "PER         590\n",
              "TS%         153\n",
              "3PAr      21239\n",
              "FTr         166\n",
              "ORB%      23714\n",
              "DRB%      24320\n",
              "TRB%      24436\n",
              "AST%      23926\n",
              "STL%      22672\n",
              "BLK%      21652\n",
              "TOV%      24241\n",
              "USG%      24633\n",
              "blanl     24691\n",
              "OWS         106\n",
              "DWS         106\n",
              "WS          106\n",
              "WS/48       590\n",
              "blank2    24691\n",
              "OBPM      24191\n",
              "DBPM      23975\n",
              "BPM       24279\n",
              "VORP      21604\n",
              "FG           67\n",
              "FGA          67\n",
              "FG%         166\n",
              "3P        16021\n",
              "3PA       19516\n",
              "3P%       20893\n",
              "2P           67\n",
              "2PA          67\n",
              "2P%         195\n",
              "eFG%        166\n",
              "FT           67\n",
              "FTA          67\n",
              "FT%         925\n",
              "ORB       23158\n",
              "DRB       23956\n",
              "TRB         379\n",
              "AST          67\n",
              "STL       22794\n",
              "BLK       21000\n",
              "TOV       23761\n",
              "PF           67\n",
              "PTS          67\n",
              "dtype: int64"
            ]
          },
          "execution_count": 17,
          "metadata": {},
          "output_type": "execute_result"
        }
      ],
      "source": [
        "stats.isnull().sum()"
      ]
    },
    {
      "cell_type": "markdown",
      "id": "77090341-5a0d-4439-ae5a-194657d7c759",
      "metadata": {
        "id": "77090341-5a0d-4439-ae5a-194657d7c759"
      },
      "source": [
        "### Visualización\n",
        "(5 pts)\n",
        "Muestra alguna visualización para los valores faltantes en la tabla de salarios."
      ]
    },
    {
      "cell_type": "code",
      "execution_count": 18,
      "id": "425ce6e1-bf8e-4b77-bd63-b63925b35dc6",
      "metadata": {
        "colab": {
          "base_uri": "https://localhost:8080/",
          "height": 410
        },
        "id": "425ce6e1-bf8e-4b77-bd63-b63925b35dc6",
        "outputId": "af0b3234-36de-4a47-f6d3-d6b7997f2028"
      },
      "outputs": [
        {
          "data": {
            "text/plain": [
              "<Axes: >"
            ]
          },
          "execution_count": 18,
          "metadata": {},
          "output_type": "execute_result"
        },
        {
          "data": {
            "image/png": "[encoded data removed]",
            "text/plain": [
              "<Figure size 2500x1000 with 2 Axes>"
            ]
          },
          "metadata": {},
          "output_type": "display_data"
        }
      ],
      "source": [
        "msno.matrix(salary)"
      ]
    },
    {
      "cell_type": "markdown",
      "id": "3c51f9de-d619-4c35-ad29-4662c04729bc",
      "metadata": {
        "id": "3c51f9de-d619-4c35-ad29-4662c04729bc"
      },
      "source": []
    },
    {
      "cell_type": "markdown",
      "id": "9af5480a-9006-4f0f-9cf0-c64cd2133ba4",
      "metadata": {
        "id": "9af5480a-9006-4f0f-9cf0-c64cd2133ba4"
      },
      "source": [
        "### Analiza que columnas y filas eliminar, responde y justifica\n",
        "(5 pts)\n",
        "* Debemos borrar filas de `df_sal`?\n",
        "* Debemos borrar columnas de `df_sal`?\n",
        "\n",
        "Segun tu respuesta, realiza las modificaciones al dataframe (15 pts)."
      ]
    },
    {
      "cell_type": "markdown",
      "id": "bxujgN0wj3Nh",
      "metadata": {
        "id": "bxujgN0wj3Nh"
      },
      "source": [
        "## ***Respuesta***:\n",
        "*No es necesario borrar columnas ni rellenar datos en este caso porque la visualización gráfica con mátrix muestra las columnas completas de la tabla.*"
      ]
    },
    {
      "cell_type": "markdown",
      "id": "77558fee-452a-4dec-8d54-1a96d176ff7a",
      "metadata": {
        "id": "77558fee-452a-4dec-8d54-1a96d176ff7a"
      },
      "source": [
        "### Nulos en tabla de estadísticas\n",
        "(5 pts)\n",
        "\n",
        "Analiza el dataframe de estadísticas y muestra la suma de nulos por variable."
      ]
    },
    {
      "cell_type": "code",
      "execution_count": 19,
      "id": "3cd06f81-385e-4c05-b6b4-ebca336c1116",
      "metadata": {
        "colab": {
          "base_uri": "https://localhost:8080/",
          "height": 355
        },
        "id": "3cd06f81-385e-4c05-b6b4-ebca336c1116",
        "outputId": "d19c47fe-7a2a-44da-9296-28eb2bd4d532"
      },
      "outputs": [
        {
          "data": {
            "text/plain": [
              "<Axes: >"
            ]
          },
          "execution_count": 19,
          "metadata": {},
          "output_type": "execute_result"
        },
        {
          "data": {
            "image/png": "[encoded data removed]",
            "text/plain": [
              "<Figure size 2500x1000 with 2 Axes>"
            ]
          },
          "metadata": {},
          "output_type": "display_data"
        }
      ],
      "source": [
        "msno.matrix(stats)"
      ]
    },
    {
      "cell_type": "code",
      "execution_count": 20,
      "id": "f9bf87f8-d41d-4b6e-94dc-0c0a9d51a67f",
      "metadata": {
        "colab": {
          "base_uri": "https://localhost:8080/",
          "height": 1000
        },
        "id": "f9bf87f8-d41d-4b6e-94dc-0c0a9d51a67f",
        "outputId": "303936f5-87ec-48eb-c884-be506d0a2460"
      },
      "outputs": [
        {
          "data": {
            "text/plain": [
              "X1            0\n",
              "Year         67\n",
              "Player       67\n",
              "Pos          67\n",
              "Age          75\n",
              "Tm           67\n",
              "G            67\n",
              "GS        18444\n",
              "MP          553\n",
              "PER         590\n",
              "TS%         153\n",
              "3PAr      21239\n",
              "FTr         166\n",
              "ORB%      23714\n",
              "DRB%      24320\n",
              "TRB%      24436\n",
              "AST%      23926\n",
              "STL%      22672\n",
              "BLK%      21652\n",
              "TOV%      24241\n",
              "USG%      24633\n",
              "blanl     24691\n",
              "OWS         106\n",
              "DWS         106\n",
              "WS          106\n",
              "WS/48       590\n",
              "blank2    24691\n",
              "OBPM      24191\n",
              "DBPM      23975\n",
              "BPM       24279\n",
              "VORP      21604\n",
              "FG           67\n",
              "FGA          67\n",
              "FG%         166\n",
              "3P        16021\n",
              "3PA       19516\n",
              "3P%       20893\n",
              "2P           67\n",
              "2PA          67\n",
              "2P%         195\n",
              "eFG%        166\n",
              "FT           67\n",
              "FTA          67\n",
              "FT%         925\n",
              "ORB       23158\n",
              "DRB       23956\n",
              "TRB         379\n",
              "AST          67\n",
              "STL       22794\n",
              "BLK       21000\n",
              "TOV       23761\n",
              "PF           67\n",
              "PTS          67\n",
              "dtype: int64"
            ]
          },
          "execution_count": 20,
          "metadata": {},
          "output_type": "execute_result"
        }
      ],
      "source": [
        "stats.isnull().sum()"
      ]
    },
    {
      "cell_type": "code",
      "execution_count": 21,
      "id": "7PyAcPjrvOVA",
      "metadata": {
        "colab": {
          "base_uri": "https://localhost:8080/",
          "height": 477
        },
        "id": "7PyAcPjrvOVA",
        "outputId": "56412127-8f8c-4262-fe1f-7e203e6375b3"
      },
      "outputs": [
        {
          "data": {
            "text/plain": [
              "<Axes: >"
            ]
          },
          "execution_count": 21,
          "metadata": {},
          "output_type": "execute_result"
        },
        {
          "data": {
            "image/png": "[encoded data removed]",
            "text/plain": [
              "<Figure size 2500x1400 with 3 Axes>"
            ]
          },
          "metadata": {},
          "output_type": "display_data"
        }
      ],
      "source": [
        "msno.bar(stats)"
      ]
    },
    {
      "cell_type": "markdown",
      "id": "e1c0a9c3-6de1-4d4d-bafb-f7644f3d61c8",
      "metadata": {
        "id": "e1c0a9c3-6de1-4d4d-bafb-f7644f3d61c8"
      },
      "source": [
        "### Responde\n",
        "* Debemos borrar filas de `df_sts`?\n",
        "* Debemos borrar columnas de `df_sts`?\n",
        "\n",
        "Segun tu respuesta, realiza las modificaciones al dataframe."
      ]
    },
    {
      "cell_type": "markdown",
      "id": "1l2QUmgAtTea",
      "metadata": {
        "id": "1l2QUmgAtTea"
      },
      "source": [
        "### ***Respuesta***\n",
        "Dado que tenemos muchas columnas vacías y muchos datos nulos. Debemos de limpiar el dataframe quitando primero blank1 y blank2 que no contiene datos."
      ]
    },
    {
      "cell_type": "code",
      "execution_count": 22,
      "id": "aNtCXG50x6bn",
      "metadata": {
        "colab": {
          "base_uri": "https://localhost:8080/",
          "height": 355
        },
        "id": "aNtCXG50x6bn",
        "outputId": "b27e360c-8e5a-448c-d782-78047bd7fb6f"
      },
      "outputs": [
        {
          "data": {
            "text/plain": [
              "<Axes: >"
            ]
          },
          "execution_count": 22,
          "metadata": {},
          "output_type": "execute_result"
        },
        {
          "data": {
            "image/png": "[encoded data removed]",
            "text/plain": [
              "<Figure size 2500x1000 with 2 Axes>"
            ]
          },
          "metadata": {},
          "output_type": "display_data"
        }
      ],
      "source": [
        "columnas_vacias = stats.dropna(axis='columns', thresh=5, inplace=True)\n",
        "msno.matrix(stats)"
      ]
    },
    {
      "cell_type": "code",
      "execution_count": 23,
      "id": "L5iDblC0MWWk",
      "metadata": {
        "colab": {
          "base_uri": "https://localhost:8080/"
        },
        "id": "L5iDblC0MWWk",
        "outputId": "5dc6b5ee-7b8e-42fd-f1c7-c6a04526e5d0"
      },
      "outputs": [
        {
          "name": "stdout",
          "output_type": "stream",
          "text": [
            "<class 'pandas.core.frame.DataFrame'>\n",
            "RangeIndex: 24691 entries, 0 to 24690\n",
            "Data columns (total 51 columns):\n",
            " #   Column  Non-Null Count  Dtype  \n",
            "---  ------  --------------  -----  \n",
            " 0   X1      24691 non-null  float64\n",
            " 1   Year    24624 non-null  float64\n",
            " 2   Player  24624 non-null  object \n",
            " 3   Pos     24624 non-null  object \n",
            " 4   Age     24616 non-null  float64\n",
            " 5   Tm      24624 non-null  object \n",
            " 6   G       24624 non-null  float64\n",
            " 7   GS      6247 non-null   float64\n",
            " 8   MP      24138 non-null  float64\n",
            " 9   PER     24101 non-null  float64\n",
            " 10  TS%     24538 non-null  float64\n",
            " 11  3PAr    3452 non-null   float64\n",
            " 12  FTr     24525 non-null  float64\n",
            " 13  ORB%    977 non-null    float64\n",
            " 14  DRB%    371 non-null    float64\n",
            " 15  TRB%    255 non-null    float64\n",
            " 16  AST%    765 non-null    float64\n",
            " 17  STL%    2019 non-null   float64\n",
            " 18  BLK%    3039 non-null   float64\n",
            " 19  TOV%    450 non-null    float64\n",
            " 20  USG%    58 non-null     float64\n",
            " 21  OWS     24585 non-null  float64\n",
            " 22  DWS     24585 non-null  float64\n",
            " 23  WS      24585 non-null  float64\n",
            " 24  WS/48   24101 non-null  float64\n",
            " 25  OBPM    500 non-null    float64\n",
            " 26  DBPM    716 non-null    float64\n",
            " 27  BPM     412 non-null    float64\n",
            " 28  VORP    3087 non-null   float64\n",
            " 29  FG      24624 non-null  float64\n",
            " 30  FGA     24624 non-null  float64\n",
            " 31  FG%     24525 non-null  float64\n",
            " 32  3P      8670 non-null   float64\n",
            " 33  3PA     5175 non-null   float64\n",
            " 34  3P%     3798 non-null   float64\n",
            " 35  2P      24624 non-null  float64\n",
            " 36  2PA     24624 non-null  float64\n",
            " 37  2P%     24496 non-null  float64\n",
            " 38  eFG%    24525 non-null  float64\n",
            " 39  FT      24624 non-null  float64\n",
            " 40  FTA     24624 non-null  float64\n",
            " 41  FT%     23766 non-null  float64\n",
            " 42  ORB     1533 non-null   float64\n",
            " 43  DRB     735 non-null    float64\n",
            " 44  TRB     24312 non-null  float64\n",
            " 45  AST     24624 non-null  float64\n",
            " 46  STL     1897 non-null   float64\n",
            " 47  BLK     3691 non-null   float64\n",
            " 48  TOV     930 non-null    float64\n",
            " 49  PF      24624 non-null  float64\n",
            " 50  PTS     24624 non-null  float64\n",
            "dtypes: float64(48), object(3)\n",
            "memory usage: 9.6+ MB\n"
          ]
        }
      ],
      "source": [
        "stats.info()"
      ]
    },
    {
      "cell_type": "markdown",
      "id": "vTwSnjYMQ3uc",
      "metadata": {
        "id": "vTwSnjYMQ3uc"
      },
      "source": []
    },
    {
      "cell_type": "code",
      "execution_count": 39,
      "id": "RSxQ9QQZ07TD",
      "metadata": {
        "colab": {
          "base_uri": "https://localhost:8080/",
          "height": 359
        },
        "id": "RSxQ9QQZ07TD",
        "outputId": "c66825e4-1c2d-4508-b14a-6cd5f5f59415"
      },
      "outputs": [
        {
          "data": {
            "text/plain": [
              "<Axes: >"
            ]
          },
          "execution_count": 39,
          "metadata": {},
          "output_type": "execute_result"
        },
        {
          "data": {
            "image/png": "[encoded data removed]",
            "text/plain": [
              "<Figure size 2500x1000 with 2 Axes>"
            ]
          },
          "metadata": {},
          "output_type": "display_data"
        }
      ],
      "source": [
        "renglones_vacios = stats.dropna(axis='index', thresh=1*len(stats), inplace=True)\n",
        "msno.matrix(stats)"
      ]
    },
    {
      "cell_type": "code",
      "execution_count": 37,
      "id": "GGzg0sFE18eX",
      "metadata": {
        "colab": {
          "base_uri": "https://localhost:8080/",
          "height": 1000
        },
        "id": "GGzg0sFE18eX",
        "outputId": "1915be11-5180-44b8-83e9-f13b27384cdc"
      },
      "outputs": [
        {
          "data": {
            "text/plain": [
              "X1        0\n",
              "Year      0\n",
              "Player    0\n",
              "Pos       0\n",
              "Age       0\n",
              "Tm        0\n",
              "G         0\n",
              "GS        0\n",
              "MP        0\n",
              "PER       0\n",
              "TS%       0\n",
              "3PAr      0\n",
              "FTr       0\n",
              "ORB%      0\n",
              "DRB%      0\n",
              "TRB%      0\n",
              "AST%      0\n",
              "STL%      0\n",
              "BLK%      0\n",
              "TOV%      0\n",
              "USG%      9\n",
              "OWS       0\n",
              "DWS       0\n",
              "WS        0\n",
              "WS/48     0\n",
              "OBPM      9\n",
              "DBPM      9\n",
              "BPM       9\n",
              "VORP      0\n",
              "FG        0\n",
              "FGA       0\n",
              "FG%       0\n",
              "3P        0\n",
              "3PA       0\n",
              "3P%       9\n",
              "2P        0\n",
              "2PA       0\n",
              "2P%       0\n",
              "eFG%      0\n",
              "FT        0\n",
              "FTA       0\n",
              "FT%       0\n",
              "ORB       0\n",
              "DRB       0\n",
              "TRB       0\n",
              "AST       0\n",
              "STL       0\n",
              "BLK       0\n",
              "TOV       0\n",
              "PF        0\n",
              "PTS       0\n",
              "dtype: int64"
            ]
          },
          "execution_count": 37,
          "metadata": {},
          "output_type": "execute_result"
        }
      ],
      "source": [
        "stats.isnull().sum()"
      ]
    },
    {
      "cell_type": "markdown",
      "id": "fb3522e0-81cf-4dd1-87c4-3cd9980b3ac8",
      "metadata": {
        "id": "fb3522e0-81cf-4dd1-87c4-3cd9980b3ac8"
      },
      "source": [
        "### Imputación\n",
        "Despues de tratar nulos en el dataframe de estadísticas, analiza nuevamente y responde:\n",
        "* Debemos imputar valores de `df_sts`?\n",
        "* De ser el caso, cómo debemos imputar sus variables?\n",
        "\n",
        "Segun tu respuesta, realiza las modificaciones al dataframe y muestra el resultado."
      ]
    },
    {
      "cell_type": "code",
      "execution_count": 40,
      "id": "b6981686-4df1-4bc3-8a4d-5922f9831a4d",
      "metadata": {
        "colab": {
          "base_uri": "https://localhost:8080/",
          "height": 1000
        },
        "id": "b6981686-4df1-4bc3-8a4d-5922f9831a4d",
        "outputId": "67e9da45-e531-4c3d-e289-818358a9f461"
      },
      "outputs": [
        {
          "data": {
            "text/html": [
              "<div>\n",
              "<style scoped>\n",
              "    .dataframe tbody tr th:only-of-type {\n",
              "        vertical-align: middle;\n",
              "    }\n",
              "\n",
              "    .dataframe tbody tr th {\n",
              "        vertical-align: top;\n",
              "    }\n",
              "\n",
              "    .dataframe thead th {\n",
              "        text-align: right;\n",
              "    }\n",
              "</style>\n",
              "<table border=\"1\" class=\"dataframe\">\n",
              "  <thead>\n",
              "    <tr style=\"text-align: right;\">\n",
              "      <th></th>\n",
              "      <th>count</th>\n",
              "      <th>mean</th>\n",
              "      <th>std</th>\n",
              "      <th>min</th>\n",
              "      <th>25%</th>\n",
              "      <th>50%</th>\n",
              "      <th>75%</th>\n",
              "      <th>max</th>\n",
              "    </tr>\n",
              "  </thead>\n",
              "  <tbody>\n",
              "    <tr>\n",
              "      <th>X1</th>\n",
              "      <td>9.0</td>\n",
              "      <td>14264.555556</td>\n",
              "      <td>5310.679808</td>\n",
              "      <td>7358.000</td>\n",
              "      <td>10244.000</td>\n",
              "      <td>14454.000</td>\n",
              "      <td>16519.000</td>\n",
              "      <td>22419.000</td>\n",
              "    </tr>\n",
              "    <tr>\n",
              "      <th>Year</th>\n",
              "      <td>9.0</td>\n",
              "      <td>1998.555556</td>\n",
              "      <td>10.501323</td>\n",
              "      <td>1984.000</td>\n",
              "      <td>1991.000</td>\n",
              "      <td>1999.000</td>\n",
              "      <td>2004.000</td>\n",
              "      <td>2014.000</td>\n",
              "    </tr>\n",
              "    <tr>\n",
              "      <th>Age</th>\n",
              "      <td>9.0</td>\n",
              "      <td>26.555556</td>\n",
              "      <td>4.034573</td>\n",
              "      <td>23.000</td>\n",
              "      <td>24.000</td>\n",
              "      <td>26.000</td>\n",
              "      <td>27.000</td>\n",
              "      <td>36.000</td>\n",
              "    </tr>\n",
              "    <tr>\n",
              "      <th>G</th>\n",
              "      <td>9.0</td>\n",
              "      <td>1.888889</td>\n",
              "      <td>1.536591</td>\n",
              "      <td>1.000</td>\n",
              "      <td>1.000</td>\n",
              "      <td>1.000</td>\n",
              "      <td>2.000</td>\n",
              "      <td>5.000</td>\n",
              "    </tr>\n",
              "    <tr>\n",
              "      <th>GS</th>\n",
              "      <td>9.0</td>\n",
              "      <td>0.000000</td>\n",
              "      <td>0.000000</td>\n",
              "      <td>0.000</td>\n",
              "      <td>0.000</td>\n",
              "      <td>0.000</td>\n",
              "      <td>0.000</td>\n",
              "      <td>0.000</td>\n",
              "    </tr>\n",
              "    <tr>\n",
              "      <th>MP</th>\n",
              "      <td>9.0</td>\n",
              "      <td>7.888889</td>\n",
              "      <td>4.284987</td>\n",
              "      <td>2.000</td>\n",
              "      <td>6.000</td>\n",
              "      <td>6.000</td>\n",
              "      <td>11.000</td>\n",
              "      <td>14.000</td>\n",
              "    </tr>\n",
              "    <tr>\n",
              "      <th>PER</th>\n",
              "      <td>9.0</td>\n",
              "      <td>4.077778</td>\n",
              "      <td>30.465463</td>\n",
              "      <td>-19.800</td>\n",
              "      <td>-17.300</td>\n",
              "      <td>-5.100</td>\n",
              "      <td>16.200</td>\n",
              "      <td>76.300</td>\n",
              "    </tr>\n",
              "    <tr>\n",
              "      <th>TS%</th>\n",
              "      <td>9.0</td>\n",
              "      <td>0.411111</td>\n",
              "      <td>0.366073</td>\n",
              "      <td>0.000</td>\n",
              "      <td>0.174</td>\n",
              "      <td>0.266</td>\n",
              "      <td>0.773</td>\n",
              "      <td>1.064</td>\n",
              "    </tr>\n",
              "    <tr>\n",
              "      <th>3PAr</th>\n",
              "      <td>9.0</td>\n",
              "      <td>0.000000</td>\n",
              "      <td>0.000000</td>\n",
              "      <td>0.000</td>\n",
              "      <td>0.000</td>\n",
              "      <td>0.000</td>\n",
              "      <td>0.000</td>\n",
              "      <td>0.000</td>\n",
              "    </tr>\n",
              "    <tr>\n",
              "      <th>FTr</th>\n",
              "      <td>9.0</td>\n",
              "      <td>1.377889</td>\n",
              "      <td>1.140585</td>\n",
              "      <td>0.400</td>\n",
              "      <td>0.667</td>\n",
              "      <td>1.000</td>\n",
              "      <td>2.000</td>\n",
              "      <td>4.000</td>\n",
              "    </tr>\n",
              "    <tr>\n",
              "      <th>ORB%</th>\n",
              "      <td>9.0</td>\n",
              "      <td>0.000000</td>\n",
              "      <td>0.000000</td>\n",
              "      <td>0.000</td>\n",
              "      <td>0.000</td>\n",
              "      <td>0.000</td>\n",
              "      <td>0.000</td>\n",
              "      <td>0.000</td>\n",
              "    </tr>\n",
              "    <tr>\n",
              "      <th>DRB%</th>\n",
              "      <td>9.0</td>\n",
              "      <td>0.000000</td>\n",
              "      <td>0.000000</td>\n",
              "      <td>0.000</td>\n",
              "      <td>0.000</td>\n",
              "      <td>0.000</td>\n",
              "      <td>0.000</td>\n",
              "      <td>0.000</td>\n",
              "    </tr>\n",
              "    <tr>\n",
              "      <th>TRB%</th>\n",
              "      <td>9.0</td>\n",
              "      <td>0.000000</td>\n",
              "      <td>0.000000</td>\n",
              "      <td>0.000</td>\n",
              "      <td>0.000</td>\n",
              "      <td>0.000</td>\n",
              "      <td>0.000</td>\n",
              "      <td>0.000</td>\n",
              "    </tr>\n",
              "    <tr>\n",
              "      <th>AST%</th>\n",
              "      <td>9.0</td>\n",
              "      <td>0.000000</td>\n",
              "      <td>0.000000</td>\n",
              "      <td>0.000</td>\n",
              "      <td>0.000</td>\n",
              "      <td>0.000</td>\n",
              "      <td>0.000</td>\n",
              "      <td>0.000</td>\n",
              "    </tr>\n",
              "    <tr>\n",
              "      <th>STL%</th>\n",
              "      <td>9.0</td>\n",
              "      <td>0.000000</td>\n",
              "      <td>0.000000</td>\n",
              "      <td>0.000</td>\n",
              "      <td>0.000</td>\n",
              "      <td>0.000</td>\n",
              "      <td>0.000</td>\n",
              "      <td>0.000</td>\n",
              "    </tr>\n",
              "    <tr>\n",
              "      <th>BLK%</th>\n",
              "      <td>9.0</td>\n",
              "      <td>0.000000</td>\n",
              "      <td>0.000000</td>\n",
              "      <td>0.000</td>\n",
              "      <td>0.000</td>\n",
              "      <td>0.000</td>\n",
              "      <td>0.000</td>\n",
              "      <td>0.000</td>\n",
              "    </tr>\n",
              "    <tr>\n",
              "      <th>TOV%</th>\n",
              "      <td>9.0</td>\n",
              "      <td>0.000000</td>\n",
              "      <td>0.000000</td>\n",
              "      <td>0.000</td>\n",
              "      <td>0.000</td>\n",
              "      <td>0.000</td>\n",
              "      <td>0.000</td>\n",
              "      <td>0.000</td>\n",
              "    </tr>\n",
              "    <tr>\n",
              "      <th>USG%</th>\n",
              "      <td>0.0</td>\n",
              "      <td>NaN</td>\n",
              "      <td>NaN</td>\n",
              "      <td>NaN</td>\n",
              "      <td>NaN</td>\n",
              "      <td>NaN</td>\n",
              "      <td>NaN</td>\n",
              "      <td>NaN</td>\n",
              "    </tr>\n",
              "    <tr>\n",
              "      <th>OWS</th>\n",
              "      <td>9.0</td>\n",
              "      <td>0.000000</td>\n",
              "      <td>0.070711</td>\n",
              "      <td>-0.100</td>\n",
              "      <td>0.000</td>\n",
              "      <td>0.000</td>\n",
              "      <td>0.000</td>\n",
              "      <td>0.100</td>\n",
              "    </tr>\n",
              "    <tr>\n",
              "      <th>DWS</th>\n",
              "      <td>9.0</td>\n",
              "      <td>0.000000</td>\n",
              "      <td>0.000000</td>\n",
              "      <td>0.000</td>\n",
              "      <td>0.000</td>\n",
              "      <td>0.000</td>\n",
              "      <td>0.000</td>\n",
              "      <td>0.000</td>\n",
              "    </tr>\n",
              "    <tr>\n",
              "      <th>WS</th>\n",
              "      <td>9.0</td>\n",
              "      <td>0.000000</td>\n",
              "      <td>0.070711</td>\n",
              "      <td>-0.100</td>\n",
              "      <td>0.000</td>\n",
              "      <td>0.000</td>\n",
              "      <td>0.000</td>\n",
              "      <td>0.100</td>\n",
              "    </tr>\n",
              "    <tr>\n",
              "      <th>WS/48</th>\n",
              "      <td>9.0</td>\n",
              "      <td>-0.035444</td>\n",
              "      <td>0.506936</td>\n",
              "      <td>-0.552</td>\n",
              "      <td>-0.341</td>\n",
              "      <td>-0.107</td>\n",
              "      <td>0.230</td>\n",
              "      <td>1.084</td>\n",
              "    </tr>\n",
              "    <tr>\n",
              "      <th>OBPM</th>\n",
              "      <td>0.0</td>\n",
              "      <td>NaN</td>\n",
              "      <td>NaN</td>\n",
              "      <td>NaN</td>\n",
              "      <td>NaN</td>\n",
              "      <td>NaN</td>\n",
              "      <td>NaN</td>\n",
              "      <td>NaN</td>\n",
              "    </tr>\n",
              "    <tr>\n",
              "      <th>DBPM</th>\n",
              "      <td>0.0</td>\n",
              "      <td>NaN</td>\n",
              "      <td>NaN</td>\n",
              "      <td>NaN</td>\n",
              "      <td>NaN</td>\n",
              "      <td>NaN</td>\n",
              "      <td>NaN</td>\n",
              "      <td>NaN</td>\n",
              "    </tr>\n",
              "    <tr>\n",
              "      <th>BPM</th>\n",
              "      <td>0.0</td>\n",
              "      <td>NaN</td>\n",
              "      <td>NaN</td>\n",
              "      <td>NaN</td>\n",
              "      <td>NaN</td>\n",
              "      <td>NaN</td>\n",
              "      <td>NaN</td>\n",
              "      <td>NaN</td>\n",
              "    </tr>\n",
              "    <tr>\n",
              "      <th>VORP</th>\n",
              "      <td>9.0</td>\n",
              "      <td>0.000000</td>\n",
              "      <td>0.000000</td>\n",
              "      <td>0.000</td>\n",
              "      <td>0.000</td>\n",
              "      <td>0.000</td>\n",
              "      <td>0.000</td>\n",
              "      <td>0.000</td>\n",
              "    </tr>\n",
              "    <tr>\n",
              "      <th>FG</th>\n",
              "      <td>9.0</td>\n",
              "      <td>0.777778</td>\n",
              "      <td>0.971825</td>\n",
              "      <td>0.000</td>\n",
              "      <td>0.000</td>\n",
              "      <td>0.000</td>\n",
              "      <td>2.000</td>\n",
              "      <td>2.000</td>\n",
              "    </tr>\n",
              "    <tr>\n",
              "      <th>FGA</th>\n",
              "      <td>9.0</td>\n",
              "      <td>2.333333</td>\n",
              "      <td>1.322876</td>\n",
              "      <td>1.000</td>\n",
              "      <td>1.000</td>\n",
              "      <td>2.000</td>\n",
              "      <td>3.000</td>\n",
              "      <td>5.000</td>\n",
              "    </tr>\n",
              "    <tr>\n",
              "      <th>FG%</th>\n",
              "      <td>9.0</td>\n",
              "      <td>0.303778</td>\n",
              "      <td>0.390392</td>\n",
              "      <td>0.000</td>\n",
              "      <td>0.000</td>\n",
              "      <td>0.000</td>\n",
              "      <td>0.667</td>\n",
              "      <td>1.000</td>\n",
              "    </tr>\n",
              "    <tr>\n",
              "      <th>3P</th>\n",
              "      <td>9.0</td>\n",
              "      <td>0.000000</td>\n",
              "      <td>0.000000</td>\n",
              "      <td>0.000</td>\n",
              "      <td>0.000</td>\n",
              "      <td>0.000</td>\n",
              "      <td>0.000</td>\n",
              "      <td>0.000</td>\n",
              "    </tr>\n",
              "    <tr>\n",
              "      <th>3PA</th>\n",
              "      <td>9.0</td>\n",
              "      <td>0.000000</td>\n",
              "      <td>0.000000</td>\n",
              "      <td>0.000</td>\n",
              "      <td>0.000</td>\n",
              "      <td>0.000</td>\n",
              "      <td>0.000</td>\n",
              "      <td>0.000</td>\n",
              "    </tr>\n",
              "    <tr>\n",
              "      <th>3P%</th>\n",
              "      <td>0.0</td>\n",
              "      <td>NaN</td>\n",
              "      <td>NaN</td>\n",
              "      <td>NaN</td>\n",
              "      <td>NaN</td>\n",
              "      <td>NaN</td>\n",
              "      <td>NaN</td>\n",
              "      <td>NaN</td>\n",
              "    </tr>\n",
              "    <tr>\n",
              "      <th>2P</th>\n",
              "      <td>9.0</td>\n",
              "      <td>0.777778</td>\n",
              "      <td>0.971825</td>\n",
              "      <td>0.000</td>\n",
              "      <td>0.000</td>\n",
              "      <td>0.000</td>\n",
              "      <td>2.000</td>\n",
              "      <td>2.000</td>\n",
              "    </tr>\n",
              "    <tr>\n",
              "      <th>2PA</th>\n",
              "      <td>9.0</td>\n",
              "      <td>2.333333</td>\n",
              "      <td>1.322876</td>\n",
              "      <td>1.000</td>\n",
              "      <td>1.000</td>\n",
              "      <td>2.000</td>\n",
              "      <td>3.000</td>\n",
              "      <td>5.000</td>\n",
              "    </tr>\n",
              "    <tr>\n",
              "      <th>2P%</th>\n",
              "      <td>9.0</td>\n",
              "      <td>0.303778</td>\n",
              "      <td>0.390392</td>\n",
              "      <td>0.000</td>\n",
              "      <td>0.000</td>\n",
              "      <td>0.000</td>\n",
              "      <td>0.667</td>\n",
              "      <td>1.000</td>\n",
              "    </tr>\n",
              "    <tr>\n",
              "      <th>eFG%</th>\n",
              "      <td>9.0</td>\n",
              "      <td>0.303778</td>\n",
              "      <td>0.390392</td>\n",
              "      <td>0.000</td>\n",
              "      <td>0.000</td>\n",
              "      <td>0.000</td>\n",
              "      <td>0.667</td>\n",
              "      <td>1.000</td>\n",
              "    </tr>\n",
              "    <tr>\n",
              "      <th>FT</th>\n",
              "      <td>9.0</td>\n",
              "      <td>1.111111</td>\n",
              "      <td>0.781736</td>\n",
              "      <td>0.000</td>\n",
              "      <td>1.000</td>\n",
              "      <td>1.000</td>\n",
              "      <td>2.000</td>\n",
              "      <td>2.000</td>\n",
              "    </tr>\n",
              "    <tr>\n",
              "      <th>FTA</th>\n",
              "      <td>9.0</td>\n",
              "      <td>2.222222</td>\n",
              "      <td>0.666667</td>\n",
              "      <td>2.000</td>\n",
              "      <td>2.000</td>\n",
              "      <td>2.000</td>\n",
              "      <td>2.000</td>\n",
              "      <td>4.000</td>\n",
              "    </tr>\n",
              "    <tr>\n",
              "      <th>FT%</th>\n",
              "      <td>9.0</td>\n",
              "      <td>0.527778</td>\n",
              "      <td>0.403973</td>\n",
              "      <td>0.000</td>\n",
              "      <td>0.250</td>\n",
              "      <td>0.500</td>\n",
              "      <td>1.000</td>\n",
              "      <td>1.000</td>\n",
              "    </tr>\n",
              "    <tr>\n",
              "      <th>ORB</th>\n",
              "      <td>9.0</td>\n",
              "      <td>0.000000</td>\n",
              "      <td>0.000000</td>\n",
              "      <td>0.000</td>\n",
              "      <td>0.000</td>\n",
              "      <td>0.000</td>\n",
              "      <td>0.000</td>\n",
              "      <td>0.000</td>\n",
              "    </tr>\n",
              "    <tr>\n",
              "      <th>DRB</th>\n",
              "      <td>9.0</td>\n",
              "      <td>0.000000</td>\n",
              "      <td>0.000000</td>\n",
              "      <td>0.000</td>\n",
              "      <td>0.000</td>\n",
              "      <td>0.000</td>\n",
              "      <td>0.000</td>\n",
              "      <td>0.000</td>\n",
              "    </tr>\n",
              "    <tr>\n",
              "      <th>TRB</th>\n",
              "      <td>9.0</td>\n",
              "      <td>0.000000</td>\n",
              "      <td>0.000000</td>\n",
              "      <td>0.000</td>\n",
              "      <td>0.000</td>\n",
              "      <td>0.000</td>\n",
              "      <td>0.000</td>\n",
              "      <td>0.000</td>\n",
              "    </tr>\n",
              "    <tr>\n",
              "      <th>AST</th>\n",
              "      <td>9.0</td>\n",
              "      <td>0.000000</td>\n",
              "      <td>0.000000</td>\n",
              "      <td>0.000</td>\n",
              "      <td>0.000</td>\n",
              "      <td>0.000</td>\n",
              "      <td>0.000</td>\n",
              "      <td>0.000</td>\n",
              "    </tr>\n",
              "    <tr>\n",
              "      <th>STL</th>\n",
              "      <td>9.0</td>\n",
              "      <td>0.000000</td>\n",
              "      <td>0.000000</td>\n",
              "      <td>0.000</td>\n",
              "      <td>0.000</td>\n",
              "      <td>0.000</td>\n",
              "      <td>0.000</td>\n",
              "      <td>0.000</td>\n",
              "    </tr>\n",
              "    <tr>\n",
              "      <th>BLK</th>\n",
              "      <td>9.0</td>\n",
              "      <td>0.000000</td>\n",
              "      <td>0.000000</td>\n",
              "      <td>0.000</td>\n",
              "      <td>0.000</td>\n",
              "      <td>0.000</td>\n",
              "      <td>0.000</td>\n",
              "      <td>0.000</td>\n",
              "    </tr>\n",
              "    <tr>\n",
              "      <th>TOV</th>\n",
              "      <td>9.0</td>\n",
              "      <td>0.000000</td>\n",
              "      <td>0.000000</td>\n",
              "      <td>0.000</td>\n",
              "      <td>0.000</td>\n",
              "      <td>0.000</td>\n",
              "      <td>0.000</td>\n",
              "      <td>0.000</td>\n",
              "    </tr>\n",
              "    <tr>\n",
              "      <th>PF</th>\n",
              "      <td>9.0</td>\n",
              "      <td>1.666667</td>\n",
              "      <td>1.732051</td>\n",
              "      <td>0.000</td>\n",
              "      <td>1.000</td>\n",
              "      <td>1.000</td>\n",
              "      <td>2.000</td>\n",
              "      <td>5.000</td>\n",
              "    </tr>\n",
              "    <tr>\n",
              "      <th>PTS</th>\n",
              "      <td>9.0</td>\n",
              "      <td>2.666667</td>\n",
              "      <td>2.345208</td>\n",
              "      <td>0.000</td>\n",
              "      <td>1.000</td>\n",
              "      <td>1.000</td>\n",
              "      <td>4.000</td>\n",
              "      <td>6.000</td>\n",
              "    </tr>\n",
              "  </tbody>\n",
              "</table>\n",
              "</div>"
            ],
            "text/plain": [
              "       count          mean          std       min        25%        50%  \\\n",
              "X1       9.0  14264.555556  5310.679808  7358.000  10244.000  14454.000   \n",
              "Year     9.0   1998.555556    10.501323  1984.000   1991.000   1999.000   \n",
              "Age      9.0     26.555556     4.034573    23.000     24.000     26.000   \n",
              "G        9.0      1.888889     1.536591     1.000      1.000      1.000   \n",
              "GS       9.0      0.000000     0.000000     0.000      0.000      0.000   \n",
              "MP       9.0      7.888889     4.284987     2.000      6.000      6.000   \n",
              "PER      9.0      4.077778    30.465463   -19.800    -17.300     -5.100   \n",
              "TS%      9.0      0.411111     0.366073     0.000      0.174      0.266   \n",
              "3PAr     9.0      0.000000     0.000000     0.000      0.000      0.000   \n",
              "FTr      9.0      1.377889     1.140585     0.400      0.667      1.000   \n",
              "ORB%     9.0      0.000000     0.000000     0.000      0.000      0.000   \n",
              "DRB%     9.0      0.000000     0.000000     0.000      0.000      0.000   \n",
              "TRB%     9.0      0.000000     0.000000     0.000      0.000      0.000   \n",
              "AST%     9.0      0.000000     0.000000     0.000      0.000      0.000   \n",
              "STL%     9.0      0.000000     0.000000     0.000      0.000      0.000   \n",
              "BLK%     9.0      0.000000     0.000000     0.000      0.000      0.000   \n",
              "TOV%     9.0      0.000000     0.000000     0.000      0.000      0.000   \n",
              "USG%     0.0           NaN          NaN       NaN        NaN        NaN   \n",
              "OWS      9.0      0.000000     0.070711    -0.100      0.000      0.000   \n",
              "DWS      9.0      0.000000     0.000000     0.000      0.000      0.000   \n",
              "WS       9.0      0.000000     0.070711    -0.100      0.000      0.000   \n",
              "WS/48    9.0     -0.035444     0.506936    -0.552     -0.341     -0.107   \n",
              "OBPM     0.0           NaN          NaN       NaN        NaN        NaN   \n",
              "DBPM     0.0           NaN          NaN       NaN        NaN        NaN   \n",
              "BPM      0.0           NaN          NaN       NaN        NaN        NaN   \n",
              "VORP     9.0      0.000000     0.000000     0.000      0.000      0.000   \n",
              "FG       9.0      0.777778     0.971825     0.000      0.000      0.000   \n",
              "FGA      9.0      2.333333     1.322876     1.000      1.000      2.000   \n",
              "FG%      9.0      0.303778     0.390392     0.000      0.000      0.000   \n",
              "3P       9.0      0.000000     0.000000     0.000      0.000      0.000   \n",
              "3PA      9.0      0.000000     0.000000     0.000      0.000      0.000   \n",
              "3P%      0.0           NaN          NaN       NaN        NaN        NaN   \n",
              "2P       9.0      0.777778     0.971825     0.000      0.000      0.000   \n",
              "2PA      9.0      2.333333     1.322876     1.000      1.000      2.000   \n",
              "2P%      9.0      0.303778     0.390392     0.000      0.000      0.000   \n",
              "eFG%     9.0      0.303778     0.390392     0.000      0.000      0.000   \n",
              "FT       9.0      1.111111     0.781736     0.000      1.000      1.000   \n",
              "FTA      9.0      2.222222     0.666667     2.000      2.000      2.000   \n",
              "FT%      9.0      0.527778     0.403973     0.000      0.250      0.500   \n",
              "ORB      9.0      0.000000     0.000000     0.000      0.000      0.000   \n",
              "DRB      9.0      0.000000     0.000000     0.000      0.000      0.000   \n",
              "TRB      9.0      0.000000     0.000000     0.000      0.000      0.000   \n",
              "AST      9.0      0.000000     0.000000     0.000      0.000      0.000   \n",
              "STL      9.0      0.000000     0.000000     0.000      0.000      0.000   \n",
              "BLK      9.0      0.000000     0.000000     0.000      0.000      0.000   \n",
              "TOV      9.0      0.000000     0.000000     0.000      0.000      0.000   \n",
              "PF       9.0      1.666667     1.732051     0.000      1.000      1.000   \n",
              "PTS      9.0      2.666667     2.345208     0.000      1.000      1.000   \n",
              "\n",
              "             75%        max  \n",
              "X1     16519.000  22419.000  \n",
              "Year    2004.000   2014.000  \n",
              "Age       27.000     36.000  \n",
              "G          2.000      5.000  \n",
              "GS         0.000      0.000  \n",
              "MP        11.000     14.000  \n",
              "PER       16.200     76.300  \n",
              "TS%        0.773      1.064  \n",
              "3PAr       0.000      0.000  \n",
              "FTr        2.000      4.000  \n",
              "ORB%       0.000      0.000  \n",
              "DRB%       0.000      0.000  \n",
              "TRB%       0.000      0.000  \n",
              "AST%       0.000      0.000  \n",
              "STL%       0.000      0.000  \n",
              "BLK%       0.000      0.000  \n",
              "TOV%       0.000      0.000  \n",
              "USG%         NaN        NaN  \n",
              "OWS        0.000      0.100  \n",
              "DWS        0.000      0.000  \n",
              "WS         0.000      0.100  \n",
              "WS/48      0.230      1.084  \n",
              "OBPM         NaN        NaN  \n",
              "DBPM         NaN        NaN  \n",
              "BPM          NaN        NaN  \n",
              "VORP       0.000      0.000  \n",
              "FG         2.000      2.000  \n",
              "FGA        3.000      5.000  \n",
              "FG%        0.667      1.000  \n",
              "3P         0.000      0.000  \n",
              "3PA        0.000      0.000  \n",
              "3P%          NaN        NaN  \n",
              "2P         2.000      2.000  \n",
              "2PA        3.000      5.000  \n",
              "2P%        0.667      1.000  \n",
              "eFG%       0.667      1.000  \n",
              "FT         2.000      2.000  \n",
              "FTA        2.000      4.000  \n",
              "FT%        1.000      1.000  \n",
              "ORB        0.000      0.000  \n",
              "DRB        0.000      0.000  \n",
              "TRB        0.000      0.000  \n",
              "AST        0.000      0.000  \n",
              "STL        0.000      0.000  \n",
              "BLK        0.000      0.000  \n",
              "TOV        0.000      0.000  \n",
              "PF         2.000      5.000  \n",
              "PTS        4.000      6.000  "
            ]
          },
          "execution_count": 40,
          "metadata": {},
          "output_type": "execute_result"
        }
      ],
      "source": [
        "stats.describe().T"
      ]
    },
    {
      "cell_type": "code",
      "execution_count": 41,
      "id": "QB8Bb_yBmZUV",
      "metadata": {
        "colab": {
          "base_uri": "https://localhost:8080/",
          "height": 448
        },
        "id": "QB8Bb_yBmZUV",
        "outputId": "8200b799-7533-4c9e-9693-762a6a786ae8"
      },
      "outputs": [
        {
          "data": {
            "text/plain": [
              "<Axes: >"
            ]
          },
          "execution_count": 41,
          "metadata": {},
          "output_type": "execute_result"
        },
        {
          "data": {
            "image/png": "[encoded data removed]",
            "text/plain": [
              "<Figure size 640x480 with 1 Axes>"
            ]
          },
          "metadata": {},
          "output_type": "display_data"
        }
      ],
      "source": [
        "stats['PER'].hist()"
      ]
    },
    {
      "cell_type": "code",
      "execution_count": 42,
      "id": "AhxNfc62nArC",
      "metadata": {
        "colab": {
          "base_uri": "https://localhost:8080/",
          "height": 335
        },
        "id": "AhxNfc62nArC",
        "outputId": "f56caa56-d4e3-4a45-c7a1-614f42d7ad58"
      },
      "outputs": [
        {
          "data": {
            "text/plain": [
              "count     9.000000\n",
              "mean      4.077778\n",
              "std      30.465463\n",
              "min     -19.800000\n",
              "25%     -17.300000\n",
              "50%      -5.100000\n",
              "75%      16.200000\n",
              "max      76.300000\n",
              "Name: PER, dtype: float64"
            ]
          },
          "execution_count": 42,
          "metadata": {},
          "output_type": "execute_result"
        }
      ],
      "source": [
        "stats['PER'].describe()"
      ]
    },
    {
      "cell_type": "code",
      "execution_count": 43,
      "id": "eqHqinOTnS7i",
      "metadata": {
        "colab": {
          "base_uri": "https://localhost:8080/",
          "height": 449
        },
        "id": "eqHqinOTnS7i",
        "outputId": "ddda4674-b826-49e1-ea51-6da740cbb208"
      },
      "outputs": [
        {
          "data": {
            "text/plain": [
              "<Axes: >"
            ]
          },
          "execution_count": 43,
          "metadata": {},
          "output_type": "execute_result"
        },
        {
          "data": {
            "image/png": "[encoded data removed]",
            "text/plain": [
              "<Figure size 640x480 with 1 Axes>"
            ]
          },
          "metadata": {},
          "output_type": "display_data"
        }
      ],
      "source": [
        "stats['PER'].plot(kind='box')"
      ]
    },
    {
      "cell_type": "markdown",
      "id": "9lt5U4RZkQ5a",
      "metadata": {
        "id": "9lt5U4RZkQ5a"
      },
      "source": [
        "### ***Respuesta***\n",
        "Después de utilizar un describe, descubrimos que hay muchos datos en ceros que indican que hay faltantes. Decidimos imputar con la mediana estos datos vacíos. Además descubrimos que la columna de PER tiene valores muy altos y muy bajos. Esto debería de ser un error porque no es posible que un jugador tenga una eficiencia tan alta y tan baja. Y al ver el box plot, podemos concluír que estos valores son atípicos o outliers porque están muy alejados de lo que es el rango normal."
      ]
    },
    {
      "cell_type": "code",
      "execution_count": 44,
      "id": "64eb2f30-9379-400b-b3b0-ab86ceea2731",
      "metadata": {
        "colab": {
          "base_uri": "https://localhost:8080/",
          "height": 147
        },
        "id": "64eb2f30-9379-400b-b3b0-ab86ceea2731",
        "outputId": "c70beb34-58c1-4e36-a3df-04e412472a51"
      },
      "outputs": [
        {
          "data": {
            "text/html": [
              "<div>\n",
              "<style scoped>\n",
              "    .dataframe tbody tr th:only-of-type {\n",
              "        vertical-align: middle;\n",
              "    }\n",
              "\n",
              "    .dataframe tbody tr th {\n",
              "        vertical-align: top;\n",
              "    }\n",
              "\n",
              "    .dataframe thead th {\n",
              "        text-align: right;\n",
              "    }\n",
              "</style>\n",
              "<table border=\"1\" class=\"dataframe\">\n",
              "  <thead>\n",
              "    <tr style=\"text-align: right;\">\n",
              "      <th></th>\n",
              "      <th>X1</th>\n",
              "      <th>Year</th>\n",
              "      <th>Player</th>\n",
              "      <th>Pos</th>\n",
              "      <th>Age</th>\n",
              "      <th>Tm</th>\n",
              "      <th>G</th>\n",
              "      <th>GS</th>\n",
              "      <th>MP</th>\n",
              "      <th>PER</th>\n",
              "      <th>...</th>\n",
              "      <th>FT%</th>\n",
              "      <th>ORB</th>\n",
              "      <th>DRB</th>\n",
              "      <th>TRB</th>\n",
              "      <th>AST</th>\n",
              "      <th>STL</th>\n",
              "      <th>BLK</th>\n",
              "      <th>TOV</th>\n",
              "      <th>PF</th>\n",
              "      <th>PTS</th>\n",
              "    </tr>\n",
              "  </thead>\n",
              "  <tbody>\n",
              "    <tr>\n",
              "      <th>10244</th>\n",
              "      <td>10244.0</td>\n",
              "      <td>1991.0</td>\n",
              "      <td>Ian Lockhart</td>\n",
              "      <td>SF</td>\n",
              "      <td>23.0</td>\n",
              "      <td>PHO</td>\n",
              "      <td>1.0</td>\n",
              "      <td>0.0</td>\n",
              "      <td>2.0</td>\n",
              "      <td>76.3</td>\n",
              "      <td>...</td>\n",
              "      <td>1.0</td>\n",
              "      <td>0.0</td>\n",
              "      <td>0.0</td>\n",
              "      <td>0.0</td>\n",
              "      <td>0.0</td>\n",
              "      <td>0.0</td>\n",
              "      <td>0.0</td>\n",
              "      <td>0.0</td>\n",
              "      <td>0.0</td>\n",
              "      <td>4.0</td>\n",
              "    </tr>\n",
              "  </tbody>\n",
              "</table>\n",
              "<p>1 rows × 51 columns</p>\n",
              "</div>"
            ],
            "text/plain": [
              "            X1    Year        Player Pos   Age   Tm    G   GS   MP   PER  ...  \\\n",
              "10244  10244.0  1991.0  Ian Lockhart  SF  23.0  PHO  1.0  0.0  2.0  76.3  ...   \n",
              "\n",
              "       FT%  ORB  DRB  TRB  AST  STL  BLK  TOV   PF  PTS  \n",
              "10244  1.0  0.0  0.0  0.0  0.0  0.0  0.0  0.0  0.0  4.0  \n",
              "\n",
              "[1 rows x 51 columns]"
            ]
          },
          "execution_count": 44,
          "metadata": {},
          "output_type": "execute_result"
        }
      ],
      "source": [
        "stats[stats['PER'] > 40]"
      ]
    },
    {
      "cell_type": "markdown",
      "id": "nEs181-aqqOM",
      "metadata": {
        "id": "nEs181-aqqOM"
      },
      "source": [
        "- Haciendo un poco de investigación, encontramos que en las estadísticas de 1991, el jugador Ian Lockhart en efecto tuvo ese PER de 76.3. Así que no es un error en los datos. ![imagen.png](data:image/png;base64,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)"
      ]
    },
    {
      "cell_type": "markdown",
      "id": "fVtQj2C0rfYB",
      "metadata": {
        "id": "fVtQj2C0rfYB"
      },
      "source": [
        "https://www.basketball-reference.com/players/l/lockhia01.html"
      ]
    },
    {
      "cell_type": "code",
      "execution_count": 45,
      "id": "844cb17a-b43e-4626-9265-3e7bbbf1b723",
      "metadata": {
        "colab": {
          "base_uri": "https://localhost:8080/",
          "height": 373
        },
        "id": "844cb17a-b43e-4626-9265-3e7bbbf1b723",
        "outputId": "3e0cb500-6b12-4ac3-851f-f9b2cf4a65f7"
      },
      "outputs": [
        {
          "data": {
            "text/html": [
              "<div>\n",
              "<style scoped>\n",
              "    .dataframe tbody tr th:only-of-type {\n",
              "        vertical-align: middle;\n",
              "    }\n",
              "\n",
              "    .dataframe tbody tr th {\n",
              "        vertical-align: top;\n",
              "    }\n",
              "\n",
              "    .dataframe thead th {\n",
              "        text-align: right;\n",
              "    }\n",
              "</style>\n",
              "<table border=\"1\" class=\"dataframe\">\n",
              "  <thead>\n",
              "    <tr style=\"text-align: right;\">\n",
              "      <th></th>\n",
              "      <th>X1</th>\n",
              "      <th>Year</th>\n",
              "      <th>Player</th>\n",
              "      <th>Pos</th>\n",
              "      <th>Age</th>\n",
              "      <th>Tm</th>\n",
              "      <th>G</th>\n",
              "      <th>GS</th>\n",
              "      <th>MP</th>\n",
              "      <th>PER</th>\n",
              "      <th>...</th>\n",
              "      <th>FT%</th>\n",
              "      <th>ORB</th>\n",
              "      <th>DRB</th>\n",
              "      <th>TRB</th>\n",
              "      <th>AST</th>\n",
              "      <th>STL</th>\n",
              "      <th>BLK</th>\n",
              "      <th>TOV</th>\n",
              "      <th>PF</th>\n",
              "      <th>PTS</th>\n",
              "    </tr>\n",
              "  </thead>\n",
              "  <tbody>\n",
              "    <tr>\n",
              "      <th>7358</th>\n",
              "      <td>7358.0</td>\n",
              "      <td>1984.0</td>\n",
              "      <td>Charles Jones</td>\n",
              "      <td>PF</td>\n",
              "      <td>26.0</td>\n",
              "      <td>PHI</td>\n",
              "      <td>1.0</td>\n",
              "      <td>0.0</td>\n",
              "      <td>3.0</td>\n",
              "      <td>-19.5</td>\n",
              "      <td>...</td>\n",
              "      <td>0.25</td>\n",
              "      <td>0.0</td>\n",
              "      <td>0.0</td>\n",
              "      <td>0.0</td>\n",
              "      <td>0.0</td>\n",
              "      <td>0.0</td>\n",
              "      <td>0.0</td>\n",
              "      <td>0.0</td>\n",
              "      <td>1.0</td>\n",
              "      <td>1.0</td>\n",
              "    </tr>\n",
              "    <tr>\n",
              "      <th>8128</th>\n",
              "      <td>8128.0</td>\n",
              "      <td>1986.0</td>\n",
              "      <td>Brian Martin</td>\n",
              "      <td>SF</td>\n",
              "      <td>23.0</td>\n",
              "      <td>POR</td>\n",
              "      <td>5.0</td>\n",
              "      <td>0.0</td>\n",
              "      <td>14.0</td>\n",
              "      <td>-4.3</td>\n",
              "      <td>...</td>\n",
              "      <td>0.00</td>\n",
              "      <td>0.0</td>\n",
              "      <td>0.0</td>\n",
              "      <td>0.0</td>\n",
              "      <td>0.0</td>\n",
              "      <td>0.0</td>\n",
              "      <td>0.0</td>\n",
              "      <td>0.0</td>\n",
              "      <td>5.0</td>\n",
              "      <td>4.0</td>\n",
              "    </tr>\n",
              "    <tr>\n",
              "      <th>12055</th>\n",
              "      <td>12055.0</td>\n",
              "      <td>1995.0</td>\n",
              "      <td>Rich King</td>\n",
              "      <td>C</td>\n",
              "      <td>25.0</td>\n",
              "      <td>SEA</td>\n",
              "      <td>2.0</td>\n",
              "      <td>0.0</td>\n",
              "      <td>6.0</td>\n",
              "      <td>-19.8</td>\n",
              "      <td>...</td>\n",
              "      <td>0.00</td>\n",
              "      <td>0.0</td>\n",
              "      <td>0.0</td>\n",
              "      <td>0.0</td>\n",
              "      <td>0.0</td>\n",
              "      <td>0.0</td>\n",
              "      <td>0.0</td>\n",
              "      <td>0.0</td>\n",
              "      <td>1.0</td>\n",
              "      <td>0.0</td>\n",
              "    </tr>\n",
              "    <tr>\n",
              "      <th>14454</th>\n",
              "      <td>14454.0</td>\n",
              "      <td>1999.0</td>\n",
              "      <td>Monty Williams</td>\n",
              "      <td>SF</td>\n",
              "      <td>27.0</td>\n",
              "      <td>DEN</td>\n",
              "      <td>1.0</td>\n",
              "      <td>0.0</td>\n",
              "      <td>6.0</td>\n",
              "      <td>-7.6</td>\n",
              "      <td>...</td>\n",
              "      <td>0.50</td>\n",
              "      <td>0.0</td>\n",
              "      <td>0.0</td>\n",
              "      <td>0.0</td>\n",
              "      <td>0.0</td>\n",
              "      <td>0.0</td>\n",
              "      <td>0.0</td>\n",
              "      <td>0.0</td>\n",
              "      <td>0.0</td>\n",
              "      <td>1.0</td>\n",
              "    </tr>\n",
              "    <tr>\n",
              "      <th>16368</th>\n",
              "      <td>16368.0</td>\n",
              "      <td>2003.0</td>\n",
              "      <td>Don Reid</td>\n",
              "      <td>PF</td>\n",
              "      <td>29.0</td>\n",
              "      <td>DET</td>\n",
              "      <td>1.0</td>\n",
              "      <td>0.0</td>\n",
              "      <td>10.0</td>\n",
              "      <td>-17.3</td>\n",
              "      <td>...</td>\n",
              "      <td>0.50</td>\n",
              "      <td>0.0</td>\n",
              "      <td>0.0</td>\n",
              "      <td>0.0</td>\n",
              "      <td>0.0</td>\n",
              "      <td>0.0</td>\n",
              "      <td>0.0</td>\n",
              "      <td>0.0</td>\n",
              "      <td>4.0</td>\n",
              "      <td>1.0</td>\n",
              "    </tr>\n",
              "    <tr>\n",
              "      <th>22419</th>\n",
              "      <td>22419.0</td>\n",
              "      <td>2014.0</td>\n",
              "      <td>Dewayne Dedmon</td>\n",
              "      <td>C</td>\n",
              "      <td>24.0</td>\n",
              "      <td>GSW</td>\n",
              "      <td>4.0</td>\n",
              "      <td>0.0</td>\n",
              "      <td>6.0</td>\n",
              "      <td>-5.1</td>\n",
              "      <td>...</td>\n",
              "      <td>0.50</td>\n",
              "      <td>0.0</td>\n",
              "      <td>0.0</td>\n",
              "      <td>0.0</td>\n",
              "      <td>0.0</td>\n",
              "      <td>0.0</td>\n",
              "      <td>0.0</td>\n",
              "      <td>0.0</td>\n",
              "      <td>1.0</td>\n",
              "      <td>1.0</td>\n",
              "    </tr>\n",
              "  </tbody>\n",
              "</table>\n",
              "<p>6 rows × 51 columns</p>\n",
              "</div>"
            ],
            "text/plain": [
              "            X1    Year          Player Pos   Age   Tm    G   GS    MP   PER  \\\n",
              "7358    7358.0  1984.0   Charles Jones  PF  26.0  PHI  1.0  0.0   3.0 -19.5   \n",
              "8128    8128.0  1986.0    Brian Martin  SF  23.0  POR  5.0  0.0  14.0  -4.3   \n",
              "12055  12055.0  1995.0       Rich King   C  25.0  SEA  2.0  0.0   6.0 -19.8   \n",
              "14454  14454.0  1999.0  Monty Williams  SF  27.0  DEN  1.0  0.0   6.0  -7.6   \n",
              "16368  16368.0  2003.0        Don Reid  PF  29.0  DET  1.0  0.0  10.0 -17.3   \n",
              "22419  22419.0  2014.0  Dewayne Dedmon   C  24.0  GSW  4.0  0.0   6.0  -5.1   \n",
              "\n",
              "       ...   FT%  ORB  DRB  TRB  AST  STL  BLK  TOV   PF  PTS  \n",
              "7358   ...  0.25  0.0  0.0  0.0  0.0  0.0  0.0  0.0  1.0  1.0  \n",
              "8128   ...  0.00  0.0  0.0  0.0  0.0  0.0  0.0  0.0  5.0  4.0  \n",
              "12055  ...  0.00  0.0  0.0  0.0  0.0  0.0  0.0  0.0  1.0  0.0  \n",
              "14454  ...  0.50  0.0  0.0  0.0  0.0  0.0  0.0  0.0  0.0  1.0  \n",
              "16368  ...  0.50  0.0  0.0  0.0  0.0  0.0  0.0  0.0  4.0  1.0  \n",
              "22419  ...  0.50  0.0  0.0  0.0  0.0  0.0  0.0  0.0  1.0  1.0  \n",
              "\n",
              "[6 rows x 51 columns]"
            ]
          },
          "execution_count": 45,
          "metadata": {},
          "output_type": "execute_result"
        }
      ],
      "source": [
        "stats[stats['PER'] < 0]"
      ]
    },
    {
      "cell_type": "markdown",
      "id": "nZ0F_SrovJL_",
      "metadata": {
        "id": "nZ0F_SrovJL_"
      },
      "source": [
        "- Revisando los PER que están por debajo de 0, estos si no coinciden, es decir, las otras estadísticas apuntan a un mejor PER que los que tienen ahí. Debe de haber un error en los datos porque no pueden estar negativos con las otras estadísticas.\n",
        "Así que decidimos imputar reemplazando los datos por el promedio."
      ]
    },
    {
      "cell_type": "code",
      "execution_count": 46,
      "id": "cLkH8tfVyyQi",
      "metadata": {
        "colab": {
          "base_uri": "https://localhost:8080/"
        },
        "id": "cLkH8tfVyyQi",
        "outputId": "e436f529-a1dc-467f-a86c-e41f295a1549"
      },
      "outputs": [
        {
          "data": {
            "text/plain": [
              "4.077777777777778"
            ]
          },
          "execution_count": 46,
          "metadata": {},
          "output_type": "execute_result"
        }
      ],
      "source": [
        "stats['PER'].mean()"
      ]
    },
    {
      "cell_type": "markdown",
      "id": "sjD55LkLz_Vy",
      "metadata": {
        "id": "sjD55LkLz_Vy"
      },
      "source": [
        "-  El problema es que la media en este caso está muy afectada por outliers porque está muy alejada de lo que es la mediana de -5.1. Así que decidimos usar una media ajustada que no cayera en outliers del quartil inferior 5% o superior 95% como se veía en la box plot."
      ]
    },
    {
      "cell_type": "code",
      "execution_count": 47,
      "id": "_rQV2D8lxMMo",
      "metadata": {
        "colab": {
          "base_uri": "https://localhost:8080/"
        },
        "id": "_rQV2D8lxMMo",
        "outputId": "1a13fe0f-e5e7-423d-a19a-879ade5a2343"
      },
      "outputs": [],
      "source": [
        "media_sinoutliers = stats[stats['PER'].between(stats['PER'].quantile(0.05), stats['PER'].quantile(0.95))]['PER'].mean()\n",
        "stats['PER'].fillna(media_sinoutliers, inplace=True)\n",
        "\n"
      ]
    },
    {
      "cell_type": "markdown",
      "id": "c4-p7ZWezDtV",
      "metadata": {
        "id": "c4-p7ZWezDtV"
      },
      "source": [
        "- Y así tenemos que hay cero valores negativos en PER."
      ]
    },
    {
      "cell_type": "code",
      "execution_count": 48,
      "id": "dM0vWoEhyS_9",
      "metadata": {
        "colab": {
          "base_uri": "https://localhost:8080/",
          "height": 78
        },
        "id": "dM0vWoEhyS_9",
        "outputId": "0c936206-dc98-404d-82e4-52221a9559bd"
      },
      "outputs": [
        {
          "data": {
            "text/html": [
              "<div>\n",
              "<style scoped>\n",
              "    .dataframe tbody tr th:only-of-type {\n",
              "        vertical-align: middle;\n",
              "    }\n",
              "\n",
              "    .dataframe tbody tr th {\n",
              "        vertical-align: top;\n",
              "    }\n",
              "\n",
              "    .dataframe thead th {\n",
              "        text-align: right;\n",
              "    }\n",
              "</style>\n",
              "<table border=\"1\" class=\"dataframe\">\n",
              "  <thead>\n",
              "    <tr style=\"text-align: right;\">\n",
              "      <th></th>\n",
              "      <th>X1</th>\n",
              "      <th>Year</th>\n",
              "      <th>Player</th>\n",
              "      <th>Pos</th>\n",
              "      <th>Age</th>\n",
              "      <th>Tm</th>\n",
              "      <th>G</th>\n",
              "      <th>GS</th>\n",
              "      <th>MP</th>\n",
              "      <th>PER</th>\n",
              "      <th>...</th>\n",
              "      <th>FT%</th>\n",
              "      <th>ORB</th>\n",
              "      <th>DRB</th>\n",
              "      <th>TRB</th>\n",
              "      <th>AST</th>\n",
              "      <th>STL</th>\n",
              "      <th>BLK</th>\n",
              "      <th>TOV</th>\n",
              "      <th>PF</th>\n",
              "      <th>PTS</th>\n",
              "    </tr>\n",
              "  </thead>\n",
              "  <tbody>\n",
              "    <tr>\n",
              "      <th>7358</th>\n",
              "      <td>7358.0</td>\n",
              "      <td>1984.0</td>\n",
              "      <td>Charles Jones</td>\n",
              "      <td>PF</td>\n",
              "      <td>26.0</td>\n",
              "      <td>PHI</td>\n",
              "      <td>1.0</td>\n",
              "      <td>0.0</td>\n",
              "      <td>3.0</td>\n",
              "      <td>-19.5</td>\n",
              "      <td>...</td>\n",
              "      <td>0.25</td>\n",
              "      <td>0.0</td>\n",
              "      <td>0.0</td>\n",
              "      <td>0.0</td>\n",
              "      <td>0.0</td>\n",
              "      <td>0.0</td>\n",
              "      <td>0.0</td>\n",
              "      <td>0.0</td>\n",
              "      <td>1.0</td>\n",
              "      <td>1.0</td>\n",
              "    </tr>\n",
              "    <tr>\n",
              "      <th>8128</th>\n",
              "      <td>8128.0</td>\n",
              "      <td>1986.0</td>\n",
              "      <td>Brian Martin</td>\n",
              "      <td>SF</td>\n",
              "      <td>23.0</td>\n",
              "      <td>POR</td>\n",
              "      <td>5.0</td>\n",
              "      <td>0.0</td>\n",
              "      <td>14.0</td>\n",
              "      <td>-4.3</td>\n",
              "      <td>...</td>\n",
              "      <td>0.00</td>\n",
              "      <td>0.0</td>\n",
              "      <td>0.0</td>\n",
              "      <td>0.0</td>\n",
              "      <td>0.0</td>\n",
              "      <td>0.0</td>\n",
              "      <td>0.0</td>\n",
              "      <td>0.0</td>\n",
              "      <td>5.0</td>\n",
              "      <td>4.0</td>\n",
              "    </tr>\n",
              "    <tr>\n",
              "      <th>12055</th>\n",
              "      <td>12055.0</td>\n",
              "      <td>1995.0</td>\n",
              "      <td>Rich King</td>\n",
              "      <td>C</td>\n",
              "      <td>25.0</td>\n",
              "      <td>SEA</td>\n",
              "      <td>2.0</td>\n",
              "      <td>0.0</td>\n",
              "      <td>6.0</td>\n",
              "      <td>-19.8</td>\n",
              "      <td>...</td>\n",
              "      <td>0.00</td>\n",
              "      <td>0.0</td>\n",
              "      <td>0.0</td>\n",
              "      <td>0.0</td>\n",
              "      <td>0.0</td>\n",
              "      <td>0.0</td>\n",
              "      <td>0.0</td>\n",
              "      <td>0.0</td>\n",
              "      <td>1.0</td>\n",
              "      <td>0.0</td>\n",
              "    </tr>\n",
              "    <tr>\n",
              "      <th>14454</th>\n",
              "      <td>14454.0</td>\n",
              "      <td>1999.0</td>\n",
              "      <td>Monty Williams</td>\n",
              "      <td>SF</td>\n",
              "      <td>27.0</td>\n",
              "      <td>DEN</td>\n",
              "      <td>1.0</td>\n",
              "      <td>0.0</td>\n",
              "      <td>6.0</td>\n",
              "      <td>-7.6</td>\n",
              "      <td>...</td>\n",
              "      <td>0.50</td>\n",
              "      <td>0.0</td>\n",
              "      <td>0.0</td>\n",
              "      <td>0.0</td>\n",
              "      <td>0.0</td>\n",
              "      <td>0.0</td>\n",
              "      <td>0.0</td>\n",
              "      <td>0.0</td>\n",
              "      <td>0.0</td>\n",
              "      <td>1.0</td>\n",
              "    </tr>\n",
              "    <tr>\n",
              "      <th>16368</th>\n",
              "      <td>16368.0</td>\n",
              "      <td>2003.0</td>\n",
              "      <td>Don Reid</td>\n",
              "      <td>PF</td>\n",
              "      <td>29.0</td>\n",
              "      <td>DET</td>\n",
              "      <td>1.0</td>\n",
              "      <td>0.0</td>\n",
              "      <td>10.0</td>\n",
              "      <td>-17.3</td>\n",
              "      <td>...</td>\n",
              "      <td>0.50</td>\n",
              "      <td>0.0</td>\n",
              "      <td>0.0</td>\n",
              "      <td>0.0</td>\n",
              "      <td>0.0</td>\n",
              "      <td>0.0</td>\n",
              "      <td>0.0</td>\n",
              "      <td>0.0</td>\n",
              "      <td>4.0</td>\n",
              "      <td>1.0</td>\n",
              "    </tr>\n",
              "    <tr>\n",
              "      <th>22419</th>\n",
              "      <td>22419.0</td>\n",
              "      <td>2014.0</td>\n",
              "      <td>Dewayne Dedmon</td>\n",
              "      <td>C</td>\n",
              "      <td>24.0</td>\n",
              "      <td>GSW</td>\n",
              "      <td>4.0</td>\n",
              "      <td>0.0</td>\n",
              "      <td>6.0</td>\n",
              "      <td>-5.1</td>\n",
              "      <td>...</td>\n",
              "      <td>0.50</td>\n",
              "      <td>0.0</td>\n",
              "      <td>0.0</td>\n",
              "      <td>0.0</td>\n",
              "      <td>0.0</td>\n",
              "      <td>0.0</td>\n",
              "      <td>0.0</td>\n",
              "      <td>0.0</td>\n",
              "      <td>1.0</td>\n",
              "      <td>1.0</td>\n",
              "    </tr>\n",
              "  </tbody>\n",
              "</table>\n",
              "<p>6 rows × 51 columns</p>\n",
              "</div>"
            ],
            "text/plain": [
              "            X1    Year          Player Pos   Age   Tm    G   GS    MP   PER  \\\n",
              "7358    7358.0  1984.0   Charles Jones  PF  26.0  PHI  1.0  0.0   3.0 -19.5   \n",
              "8128    8128.0  1986.0    Brian Martin  SF  23.0  POR  5.0  0.0  14.0  -4.3   \n",
              "12055  12055.0  1995.0       Rich King   C  25.0  SEA  2.0  0.0   6.0 -19.8   \n",
              "14454  14454.0  1999.0  Monty Williams  SF  27.0  DEN  1.0  0.0   6.0  -7.6   \n",
              "16368  16368.0  2003.0        Don Reid  PF  29.0  DET  1.0  0.0  10.0 -17.3   \n",
              "22419  22419.0  2014.0  Dewayne Dedmon   C  24.0  GSW  4.0  0.0   6.0  -5.1   \n",
              "\n",
              "       ...   FT%  ORB  DRB  TRB  AST  STL  BLK  TOV   PF  PTS  \n",
              "7358   ...  0.25  0.0  0.0  0.0  0.0  0.0  0.0  0.0  1.0  1.0  \n",
              "8128   ...  0.00  0.0  0.0  0.0  0.0  0.0  0.0  0.0  5.0  4.0  \n",
              "12055  ...  0.00  0.0  0.0  0.0  0.0  0.0  0.0  0.0  1.0  0.0  \n",
              "14454  ...  0.50  0.0  0.0  0.0  0.0  0.0  0.0  0.0  0.0  1.0  \n",
              "16368  ...  0.50  0.0  0.0  0.0  0.0  0.0  0.0  0.0  4.0  1.0  \n",
              "22419  ...  0.50  0.0  0.0  0.0  0.0  0.0  0.0  0.0  1.0  1.0  \n",
              "\n",
              "[6 rows x 51 columns]"
            ]
          },
          "execution_count": 48,
          "metadata": {},
          "output_type": "execute_result"
        }
      ],
      "source": [
        "stats[stats['PER'] < 0]"
      ]
    },
    {
      "cell_type": "markdown",
      "id": "RVcYFCwU1IFJ",
      "metadata": {
        "id": "RVcYFCwU1IFJ"
      },
      "source": [
        "- Finalmente, así se ve nuestro dataframe de stats después de imputar PER y limpiar los datos nulos."
      ]
    },
    {
      "cell_type": "code",
      "execution_count": 49,
      "id": "JHRJCuGG1Dwq",
      "metadata": {
        "colab": {
          "base_uri": "https://localhost:8080/",
          "height": 520
        },
        "id": "JHRJCuGG1Dwq",
        "outputId": "9949f852-61fc-4dec-f1b9-7ec1d0689e0c"
      },
      "outputs": [
        {
          "data": {
            "text/html": [
              "<div>\n",
              "<style scoped>\n",
              "    .dataframe tbody tr th:only-of-type {\n",
              "        vertical-align: middle;\n",
              "    }\n",
              "\n",
              "    .dataframe tbody tr th {\n",
              "        vertical-align: top;\n",
              "    }\n",
              "\n",
              "    .dataframe thead th {\n",
              "        text-align: right;\n",
              "    }\n",
              "</style>\n",
              "<table border=\"1\" class=\"dataframe\">\n",
              "  <thead>\n",
              "    <tr style=\"text-align: right;\">\n",
              "      <th></th>\n",
              "      <th>X1</th>\n",
              "      <th>Year</th>\n",
              "      <th>Player</th>\n",
              "      <th>Pos</th>\n",
              "      <th>Age</th>\n",
              "      <th>Tm</th>\n",
              "      <th>G</th>\n",
              "      <th>GS</th>\n",
              "      <th>MP</th>\n",
              "      <th>PER</th>\n",
              "      <th>...</th>\n",
              "      <th>FT%</th>\n",
              "      <th>ORB</th>\n",
              "      <th>DRB</th>\n",
              "      <th>TRB</th>\n",
              "      <th>AST</th>\n",
              "      <th>STL</th>\n",
              "      <th>BLK</th>\n",
              "      <th>TOV</th>\n",
              "      <th>PF</th>\n",
              "      <th>PTS</th>\n",
              "    </tr>\n",
              "  </thead>\n",
              "  <tbody>\n",
              "    <tr>\n",
              "      <th>7358</th>\n",
              "      <td>7358.0</td>\n",
              "      <td>1984.0</td>\n",
              "      <td>Charles Jones</td>\n",
              "      <td>PF</td>\n",
              "      <td>26.0</td>\n",
              "      <td>PHI</td>\n",
              "      <td>1.0</td>\n",
              "      <td>0.0</td>\n",
              "      <td>3.0</td>\n",
              "      <td>-19.5</td>\n",
              "      <td>...</td>\n",
              "      <td>0.25</td>\n",
              "      <td>0.0</td>\n",
              "      <td>0.0</td>\n",
              "      <td>0.0</td>\n",
              "      <td>0.0</td>\n",
              "      <td>0.0</td>\n",
              "      <td>0.0</td>\n",
              "      <td>0.0</td>\n",
              "      <td>1.0</td>\n",
              "      <td>1.0</td>\n",
              "    </tr>\n",
              "    <tr>\n",
              "      <th>8128</th>\n",
              "      <td>8128.0</td>\n",
              "      <td>1986.0</td>\n",
              "      <td>Brian Martin</td>\n",
              "      <td>SF</td>\n",
              "      <td>23.0</td>\n",
              "      <td>POR</td>\n",
              "      <td>5.0</td>\n",
              "      <td>0.0</td>\n",
              "      <td>14.0</td>\n",
              "      <td>-4.3</td>\n",
              "      <td>...</td>\n",
              "      <td>0.00</td>\n",
              "      <td>0.0</td>\n",
              "      <td>0.0</td>\n",
              "      <td>0.0</td>\n",
              "      <td>0.0</td>\n",
              "      <td>0.0</td>\n",
              "      <td>0.0</td>\n",
              "      <td>0.0</td>\n",
              "      <td>5.0</td>\n",
              "      <td>4.0</td>\n",
              "    </tr>\n",
              "    <tr>\n",
              "      <th>10244</th>\n",
              "      <td>10244.0</td>\n",
              "      <td>1991.0</td>\n",
              "      <td>Ian Lockhart</td>\n",
              "      <td>SF</td>\n",
              "      <td>23.0</td>\n",
              "      <td>PHO</td>\n",
              "      <td>1.0</td>\n",
              "      <td>0.0</td>\n",
              "      <td>2.0</td>\n",
              "      <td>76.3</td>\n",
              "      <td>...</td>\n",
              "      <td>1.00</td>\n",
              "      <td>0.0</td>\n",
              "      <td>0.0</td>\n",
              "      <td>0.0</td>\n",
              "      <td>0.0</td>\n",
              "      <td>0.0</td>\n",
              "      <td>0.0</td>\n",
              "      <td>0.0</td>\n",
              "      <td>0.0</td>\n",
              "      <td>4.0</td>\n",
              "    </tr>\n",
              "    <tr>\n",
              "      <th>12055</th>\n",
              "      <td>12055.0</td>\n",
              "      <td>1995.0</td>\n",
              "      <td>Rich King</td>\n",
              "      <td>C</td>\n",
              "      <td>25.0</td>\n",
              "      <td>SEA</td>\n",
              "      <td>2.0</td>\n",
              "      <td>0.0</td>\n",
              "      <td>6.0</td>\n",
              "      <td>-19.8</td>\n",
              "      <td>...</td>\n",
              "      <td>0.00</td>\n",
              "      <td>0.0</td>\n",
              "      <td>0.0</td>\n",
              "      <td>0.0</td>\n",
              "      <td>0.0</td>\n",
              "      <td>0.0</td>\n",
              "      <td>0.0</td>\n",
              "      <td>0.0</td>\n",
              "      <td>1.0</td>\n",
              "      <td>0.0</td>\n",
              "    </tr>\n",
              "    <tr>\n",
              "      <th>14454</th>\n",
              "      <td>14454.0</td>\n",
              "      <td>1999.0</td>\n",
              "      <td>Monty Williams</td>\n",
              "      <td>SF</td>\n",
              "      <td>27.0</td>\n",
              "      <td>DEN</td>\n",
              "      <td>1.0</td>\n",
              "      <td>0.0</td>\n",
              "      <td>6.0</td>\n",
              "      <td>-7.6</td>\n",
              "      <td>...</td>\n",
              "      <td>0.50</td>\n",
              "      <td>0.0</td>\n",
              "      <td>0.0</td>\n",
              "      <td>0.0</td>\n",
              "      <td>0.0</td>\n",
              "      <td>0.0</td>\n",
              "      <td>0.0</td>\n",
              "      <td>0.0</td>\n",
              "      <td>0.0</td>\n",
              "      <td>1.0</td>\n",
              "    </tr>\n",
              "    <tr>\n",
              "      <th>16368</th>\n",
              "      <td>16368.0</td>\n",
              "      <td>2003.0</td>\n",
              "      <td>Don Reid</td>\n",
              "      <td>PF</td>\n",
              "      <td>29.0</td>\n",
              "      <td>DET</td>\n",
              "      <td>1.0</td>\n",
              "      <td>0.0</td>\n",
              "      <td>10.0</td>\n",
              "      <td>-17.3</td>\n",
              "      <td>...</td>\n",
              "      <td>0.50</td>\n",
              "      <td>0.0</td>\n",
              "      <td>0.0</td>\n",
              "      <td>0.0</td>\n",
              "      <td>0.0</td>\n",
              "      <td>0.0</td>\n",
              "      <td>0.0</td>\n",
              "      <td>0.0</td>\n",
              "      <td>4.0</td>\n",
              "      <td>1.0</td>\n",
              "    </tr>\n",
              "    <tr>\n",
              "      <th>16519</th>\n",
              "      <td>16519.0</td>\n",
              "      <td>2004.0</td>\n",
              "      <td>Dana Barros</td>\n",
              "      <td>SG</td>\n",
              "      <td>36.0</td>\n",
              "      <td>BOS</td>\n",
              "      <td>1.0</td>\n",
              "      <td>0.0</td>\n",
              "      <td>11.0</td>\n",
              "      <td>17.8</td>\n",
              "      <td>...</td>\n",
              "      <td>1.00</td>\n",
              "      <td>0.0</td>\n",
              "      <td>0.0</td>\n",
              "      <td>0.0</td>\n",
              "      <td>0.0</td>\n",
              "      <td>0.0</td>\n",
              "      <td>0.0</td>\n",
              "      <td>0.0</td>\n",
              "      <td>2.0</td>\n",
              "      <td>6.0</td>\n",
              "    </tr>\n",
              "    <tr>\n",
              "      <th>20836</th>\n",
              "      <td>20836.0</td>\n",
              "      <td>2011.0</td>\n",
              "      <td>Trey Johnson</td>\n",
              "      <td>SG</td>\n",
              "      <td>26.0</td>\n",
              "      <td>LAL</td>\n",
              "      <td>1.0</td>\n",
              "      <td>0.0</td>\n",
              "      <td>13.0</td>\n",
              "      <td>16.2</td>\n",
              "      <td>...</td>\n",
              "      <td>1.00</td>\n",
              "      <td>0.0</td>\n",
              "      <td>0.0</td>\n",
              "      <td>0.0</td>\n",
              "      <td>0.0</td>\n",
              "      <td>0.0</td>\n",
              "      <td>0.0</td>\n",
              "      <td>0.0</td>\n",
              "      <td>1.0</td>\n",
              "      <td>6.0</td>\n",
              "    </tr>\n",
              "    <tr>\n",
              "      <th>22419</th>\n",
              "      <td>22419.0</td>\n",
              "      <td>2014.0</td>\n",
              "      <td>Dewayne Dedmon</td>\n",
              "      <td>C</td>\n",
              "      <td>24.0</td>\n",
              "      <td>GSW</td>\n",
              "      <td>4.0</td>\n",
              "      <td>0.0</td>\n",
              "      <td>6.0</td>\n",
              "      <td>-5.1</td>\n",
              "      <td>...</td>\n",
              "      <td>0.50</td>\n",
              "      <td>0.0</td>\n",
              "      <td>0.0</td>\n",
              "      <td>0.0</td>\n",
              "      <td>0.0</td>\n",
              "      <td>0.0</td>\n",
              "      <td>0.0</td>\n",
              "      <td>0.0</td>\n",
              "      <td>1.0</td>\n",
              "      <td>1.0</td>\n",
              "    </tr>\n",
              "  </tbody>\n",
              "</table>\n",
              "<p>9 rows × 51 columns</p>\n",
              "</div>"
            ],
            "text/plain": [
              "            X1    Year          Player Pos   Age   Tm    G   GS    MP   PER  \\\n",
              "7358    7358.0  1984.0   Charles Jones  PF  26.0  PHI  1.0  0.0   3.0 -19.5   \n",
              "8128    8128.0  1986.0    Brian Martin  SF  23.0  POR  5.0  0.0  14.0  -4.3   \n",
              "10244  10244.0  1991.0    Ian Lockhart  SF  23.0  PHO  1.0  0.0   2.0  76.3   \n",
              "12055  12055.0  1995.0       Rich King   C  25.0  SEA  2.0  0.0   6.0 -19.8   \n",
              "14454  14454.0  1999.0  Monty Williams  SF  27.0  DEN  1.0  0.0   6.0  -7.6   \n",
              "16368  16368.0  2003.0        Don Reid  PF  29.0  DET  1.0  0.0  10.0 -17.3   \n",
              "16519  16519.0  2004.0     Dana Barros  SG  36.0  BOS  1.0  0.0  11.0  17.8   \n",
              "20836  20836.0  2011.0    Trey Johnson  SG  26.0  LAL  1.0  0.0  13.0  16.2   \n",
              "22419  22419.0  2014.0  Dewayne Dedmon   C  24.0  GSW  4.0  0.0   6.0  -5.1   \n",
              "\n",
              "       ...   FT%  ORB  DRB  TRB  AST  STL  BLK  TOV   PF  PTS  \n",
              "7358   ...  0.25  0.0  0.0  0.0  0.0  0.0  0.0  0.0  1.0  1.0  \n",
              "8128   ...  0.00  0.0  0.0  0.0  0.0  0.0  0.0  0.0  5.0  4.0  \n",
              "10244  ...  1.00  0.0  0.0  0.0  0.0  0.0  0.0  0.0  0.0  4.0  \n",
              "12055  ...  0.00  0.0  0.0  0.0  0.0  0.0  0.0  0.0  1.0  0.0  \n",
              "14454  ...  0.50  0.0  0.0  0.0  0.0  0.0  0.0  0.0  0.0  1.0  \n",
              "16368  ...  0.50  0.0  0.0  0.0  0.0  0.0  0.0  0.0  4.0  1.0  \n",
              "16519  ...  1.00  0.0  0.0  0.0  0.0  0.0  0.0  0.0  2.0  6.0  \n",
              "20836  ...  1.00  0.0  0.0  0.0  0.0  0.0  0.0  0.0  1.0  6.0  \n",
              "22419  ...  0.50  0.0  0.0  0.0  0.0  0.0  0.0  0.0  1.0  1.0  \n",
              "\n",
              "[9 rows x 51 columns]"
            ]
          },
          "execution_count": 49,
          "metadata": {},
          "output_type": "execute_result"
        }
      ],
      "source": [
        "stats"
      ]
    }
  ],
  "metadata": {
    "colab": {
      "provenance": []
    },
    "kernelspec": {
      "display_name": "base",
      "language": "python",
      "name": "python3"
    },
    "language_info": {
      "codemirror_mode": {
        "name": "ipython",
        "version": 3
      },
      "file_extension": ".py",
      "mimetype": "text/x-python",
      "name": "python",
      "nbconvert_exporter": "python",
      "pygments_lexer": "ipython3",
      "version": "3.12.7"
    }
  },
  "nbformat": 4,
  "nbformat_minor": 5
}
