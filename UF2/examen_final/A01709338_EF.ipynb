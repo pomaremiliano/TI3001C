{
 "cells": [
  {
   "cell_type": "markdown",
   "metadata": {},
   "source": [
    "# Evidencia 2. Evaluación integradora "
   ]
  },
  {
   "cell_type": "markdown",
   "metadata": {},
   "source": [
    "- Jorge Emiliano Pomar \n",
    "- A01709338\n",
    "- 21 de marzo de 2025"
   ]
  },
  {
   "cell_type": "code",
   "execution_count": 39,
   "metadata": {},
   "outputs": [],
   "source": [
    "import pandas as pd"
   ]
  },
  {
   "cell_type": "markdown",
   "metadata": {},
   "source": [
    "## Pregunta 1\n",
    "Imprime el total de registros no nulos en la columna “embarazos”."
   ]
  },
  {
   "cell_type": "code",
   "execution_count": 40,
   "metadata": {},
   "outputs": [
    {
     "name": "stdout",
     "output_type": "stream",
     "text": [
      "<class 'pandas.core.frame.DataFrame'>\n",
      "RangeIndex: 497 entries, 0 to 496\n",
      "Data columns (total 6 columns):\n",
      " #   Column     Non-Null Count  Dtype  \n",
      "---  ------     --------------  -----  \n",
      " 0   embarazos  419 non-null    float64\n",
      " 1   plasma     488 non-null    float64\n",
      " 2   presion    497 non-null    int64  \n",
      " 3   masa       497 non-null    float64\n",
      " 4   edad       497 non-null    int64  \n",
      " 5   estado     497 non-null    object \n",
      "dtypes: float64(3), int64(2), object(1)\n",
      "memory usage: 23.4+ KB\n"
     ]
    }
   ],
   "source": [
    "df = pd.read_csv('Diabetes.csv')\n",
    "df.info()"
   ]
  },
  {
   "cell_type": "code",
   "execution_count": 41,
   "metadata": {},
   "outputs": [
    {
     "name": "stdout",
     "output_type": "stream",
     "text": [
      "<class 'pandas.core.frame.DataFrame'>\n",
      "RangeIndex: 497 entries, 0 to 496\n",
      "Data columns (total 6 columns):\n",
      " #   Column     Non-Null Count  Dtype  \n",
      "---  ------     --------------  -----  \n",
      " 0   embarazos  419 non-null    float64\n",
      " 1   plasma     488 non-null    float64\n",
      " 2   presion    497 non-null    int64  \n",
      " 3   masa       497 non-null    float64\n",
      " 4   edad       497 non-null    int64  \n",
      " 5   estado     497 non-null    object \n",
      "dtypes: float64(3), int64(2), object(1)\n",
      "memory usage: 23.4+ KB\n"
     ]
    }
   ],
   "source": [
    "df.info()"
   ]
  },
  {
   "cell_type": "code",
   "execution_count": 42,
   "metadata": {},
   "outputs": [
    {
     "data": {
      "text/plain": [
       "embarazos    78\n",
       "plasma        9\n",
       "presion       0\n",
       "masa          0\n",
       "edad          0\n",
       "estado        0\n",
       "dtype: int64"
      ]
     },
     "execution_count": 42,
     "metadata": {},
     "output_type": "execute_result"
    }
   ],
   "source": [
    "df.isnull().sum()"
   ]
  },
  {
   "cell_type": "markdown",
   "metadata": {},
   "source": [
    "## Pregunta 2\n",
    "Borra a los pacientes con los índices 5, 20 y 60 e imprime el conteo de registros no nulos por columna con el total actualizado."
   ]
  },
  {
   "cell_type": "code",
   "execution_count": 43,
   "metadata": {},
   "outputs": [],
   "source": [
    "df = df.drop(index=[5, 20, 60])"
   ]
  },
  {
   "cell_type": "code",
   "execution_count": 44,
   "metadata": {},
   "outputs": [
    {
     "name": "stdout",
     "output_type": "stream",
     "text": [
      "<class 'pandas.core.frame.DataFrame'>\n",
      "Index: 494 entries, 0 to 496\n",
      "Data columns (total 6 columns):\n",
      " #   Column     Non-Null Count  Dtype  \n",
      "---  ------     --------------  -----  \n",
      " 0   embarazos  416 non-null    float64\n",
      " 1   plasma     485 non-null    float64\n",
      " 2   presion    494 non-null    int64  \n",
      " 3   masa       494 non-null    float64\n",
      " 4   edad       494 non-null    int64  \n",
      " 5   estado     494 non-null    object \n",
      "dtypes: float64(3), int64(2), object(1)\n",
      "memory usage: 27.0+ KB\n"
     ]
    }
   ],
   "source": [
    "df.info()"
   ]
  },
  {
   "cell_type": "markdown",
   "metadata": {},
   "source": [
    "## Pregunta 3\n",
    "Despliega la descripción estadística del dataframe actualizado (redondeado a 2 dígitos) y completa la información para la variable edad:"
   ]
  },
  {
   "cell_type": "code",
   "execution_count": 45,
   "metadata": {},
   "outputs": [
    {
     "data": {
      "text/html": [
       "<div>\n",
       "<style scoped>\n",
       "    .dataframe tbody tr th:only-of-type {\n",
       "        vertical-align: middle;\n",
       "    }\n",
       "\n",
       "    .dataframe tbody tr th {\n",
       "        vertical-align: top;\n",
       "    }\n",
       "\n",
       "    .dataframe thead th {\n",
       "        text-align: right;\n",
       "    }\n",
       "</style>\n",
       "<table border=\"1\" class=\"dataframe\">\n",
       "  <thead>\n",
       "    <tr style=\"text-align: right;\">\n",
       "      <th></th>\n",
       "      <th>embarazos</th>\n",
       "      <th>plasma</th>\n",
       "      <th>presion</th>\n",
       "      <th>masa</th>\n",
       "      <th>edad</th>\n",
       "      <th>estado</th>\n",
       "    </tr>\n",
       "  </thead>\n",
       "  <tbody>\n",
       "    <tr>\n",
       "      <th>0</th>\n",
       "      <td>2</td>\n",
       "      <td>81</td>\n",
       "      <td>72</td>\n",
       "      <td>30.1</td>\n",
       "      <td>25</td>\n",
       "      <td>negative</td>\n",
       "    </tr>\n",
       "    <tr>\n",
       "      <th>1</th>\n",
       "      <td>7</td>\n",
       "      <td>195</td>\n",
       "      <td>70</td>\n",
       "      <td>25.1</td>\n",
       "      <td>55</td>\n",
       "      <td>positive</td>\n",
       "    </tr>\n",
       "    <tr>\n",
       "      <th>2</th>\n",
       "      <td>6</td>\n",
       "      <td>154</td>\n",
       "      <td>74</td>\n",
       "      <td>29.3</td>\n",
       "      <td>39</td>\n",
       "      <td>negative</td>\n",
       "    </tr>\n",
       "  </tbody>\n",
       "</table>\n",
       "</div>"
      ],
      "text/plain": [
       "   embarazos  plasma  presion  masa  edad    estado\n",
       "0          2      81       72  30.1    25  negative\n",
       "1          7     195       70  25.1    55  positive\n",
       "2          6     154       74  29.3    39  negative"
      ]
     },
     "execution_count": 45,
     "metadata": {},
     "output_type": "execute_result"
    }
   ],
   "source": [
    "datos_nuevos = pd.DataFrame(dict(\n",
    "    embarazos= [2, 7, 6],\n",
    "    plasma= [81,195,154],\n",
    "    presion=[72, 70, 74],\n",
    "    masa=[30.1, 25.1, 29.3],\n",
    "    edad=[25, 55, 39],\n",
    "    estado=['negative', 'positive', 'negative']\n",
    "))\n",
    "datos_nuevos\n"
   ]
  },
  {
   "cell_type": "code",
   "execution_count": 46,
   "metadata": {},
   "outputs": [],
   "source": [
    "datos_nuevos['embarazos'] = datos_nuevos['embarazos'].astype(float)\n",
    "\n",
    "df = pd.merge(df, datos_nuevos, how='outer')"
   ]
  },
  {
   "cell_type": "code",
   "execution_count": 47,
   "metadata": {},
   "outputs": [
    {
     "data": {
      "text/html": [
       "<div>\n",
       "<style scoped>\n",
       "    .dataframe tbody tr th:only-of-type {\n",
       "        vertical-align: middle;\n",
       "    }\n",
       "\n",
       "    .dataframe tbody tr th {\n",
       "        vertical-align: top;\n",
       "    }\n",
       "\n",
       "    .dataframe thead th {\n",
       "        text-align: right;\n",
       "    }\n",
       "</style>\n",
       "<table border=\"1\" class=\"dataframe\">\n",
       "  <thead>\n",
       "    <tr style=\"text-align: right;\">\n",
       "      <th></th>\n",
       "      <th>count</th>\n",
       "      <th>mean</th>\n",
       "      <th>std</th>\n",
       "      <th>min</th>\n",
       "      <th>25%</th>\n",
       "      <th>50%</th>\n",
       "      <th>75%</th>\n",
       "      <th>max</th>\n",
       "    </tr>\n",
       "  </thead>\n",
       "  <tbody>\n",
       "    <tr>\n",
       "      <th>embarazos</th>\n",
       "      <td>419.0</td>\n",
       "      <td>4.52</td>\n",
       "      <td>3.18</td>\n",
       "      <td>1.0</td>\n",
       "      <td>2.0</td>\n",
       "      <td>4.0</td>\n",
       "      <td>7.0</td>\n",
       "      <td>17.0</td>\n",
       "    </tr>\n",
       "    <tr>\n",
       "      <th>plasma</th>\n",
       "      <td>488.0</td>\n",
       "      <td>121.72</td>\n",
       "      <td>32.54</td>\n",
       "      <td>0.0</td>\n",
       "      <td>100.0</td>\n",
       "      <td>118.0</td>\n",
       "      <td>143.0</td>\n",
       "      <td>197.0</td>\n",
       "    </tr>\n",
       "    <tr>\n",
       "      <th>presion</th>\n",
       "      <td>497.0</td>\n",
       "      <td>68.84</td>\n",
       "      <td>19.23</td>\n",
       "      <td>0.0</td>\n",
       "      <td>64.0</td>\n",
       "      <td>70.0</td>\n",
       "      <td>80.0</td>\n",
       "      <td>122.0</td>\n",
       "    </tr>\n",
       "    <tr>\n",
       "      <th>masa</th>\n",
       "      <td>497.0</td>\n",
       "      <td>32.04</td>\n",
       "      <td>8.09</td>\n",
       "      <td>0.0</td>\n",
       "      <td>27.1</td>\n",
       "      <td>32.0</td>\n",
       "      <td>36.6</td>\n",
       "      <td>67.1</td>\n",
       "    </tr>\n",
       "    <tr>\n",
       "      <th>edad</th>\n",
       "      <td>497.0</td>\n",
       "      <td>33.14</td>\n",
       "      <td>11.65</td>\n",
       "      <td>21.0</td>\n",
       "      <td>24.0</td>\n",
       "      <td>29.0</td>\n",
       "      <td>40.0</td>\n",
       "      <td>81.0</td>\n",
       "    </tr>\n",
       "  </tbody>\n",
       "</table>\n",
       "</div>"
      ],
      "text/plain": [
       "           count    mean    std   min    25%    50%    75%    max\n",
       "embarazos  419.0    4.52   3.18   1.0    2.0    4.0    7.0   17.0\n",
       "plasma     488.0  121.72  32.54   0.0  100.0  118.0  143.0  197.0\n",
       "presion    497.0   68.84  19.23   0.0   64.0   70.0   80.0  122.0\n",
       "masa       497.0   32.04   8.09   0.0   27.1   32.0   36.6   67.1\n",
       "edad       497.0   33.14  11.65  21.0   24.0   29.0   40.0   81.0"
      ]
     },
     "execution_count": 47,
     "metadata": {},
     "output_type": "execute_result"
    }
   ],
   "source": [
    "df.describe().T.round(2)"
   ]
  },
  {
   "cell_type": "markdown",
   "metadata": {},
   "source": [
    "## Pregunta 4\n",
    "Reemplaza los valores nulos de la columna “embarazos” por 0 y los de la columna “plasma” por la mediana de los pacientes.\n",
    "\n",
    "Consulta los promedios (2 decimales) de ambas variables (posterior a imputación) y responde:\n",
    "Promedio de \"embarazos\":\n",
    "Promedio de \"plasma\":"
   ]
  },
  {
   "cell_type": "markdown",
   "metadata": {},
   "source": [
    "Reemplazar nulos de embarazos con 0"
   ]
  },
  {
   "cell_type": "code",
   "execution_count": 48,
   "metadata": {},
   "outputs": [
    {
     "name": "stderr",
     "output_type": "stream",
     "text": [
      "C:\\Users\\pomar\\AppData\\Local\\Temp\\ipykernel_52132\\4016700425.py:1: FutureWarning: A value is trying to be set on a copy of a DataFrame or Series through chained assignment using an inplace method.\n",
      "The behavior will change in pandas 3.0. This inplace method will never work because the intermediate object on which we are setting values always behaves as a copy.\n",
      "\n",
      "For example, when doing 'df[col].method(value, inplace=True)', try using 'df.method({col: value}, inplace=True)' or df[col] = df[col].method(value) instead, to perform the operation inplace on the original object.\n",
      "\n",
      "\n",
      "  df['embarazos'].fillna(0, inplace=True)\n"
     ]
    }
   ],
   "source": [
    "df['embarazos'].fillna(0, inplace=True)"
   ]
  },
  {
   "cell_type": "markdown",
   "metadata": {},
   "source": [
    "Reemplazar nulos de plasma con la mediana."
   ]
  },
  {
   "cell_type": "code",
   "execution_count": 49,
   "metadata": {},
   "outputs": [
    {
     "name": "stderr",
     "output_type": "stream",
     "text": [
      "C:\\Users\\pomar\\AppData\\Local\\Temp\\ipykernel_52132\\3526518911.py:1: FutureWarning: A value is trying to be set on a copy of a DataFrame or Series through chained assignment using an inplace method.\n",
      "The behavior will change in pandas 3.0. This inplace method will never work because the intermediate object on which we are setting values always behaves as a copy.\n",
      "\n",
      "For example, when doing 'df[col].method(value, inplace=True)', try using 'df.method({col: value}, inplace=True)' or df[col] = df[col].method(value) instead, to perform the operation inplace on the original object.\n",
      "\n",
      "\n",
      "  df['plasma'].fillna(df['plasma'].median(), inplace=True)\n"
     ]
    }
   ],
   "source": [
    "df['plasma'].fillna(df['plasma'].median(), inplace=True)"
   ]
  },
  {
   "cell_type": "markdown",
   "metadata": {},
   "source": [
    "Calcular promedios "
   ]
  },
  {
   "cell_type": "code",
   "execution_count": 50,
   "metadata": {},
   "outputs": [],
   "source": [
    "promedio_embarazos = df['embarazos'].mean().round(2)\n",
    "promedio_plasma = df['plasma'].mean().round(2)\n"
   ]
  },
  {
   "cell_type": "code",
   "execution_count": 51,
   "metadata": {},
   "outputs": [
    {
     "data": {
      "text/plain": [
       "3.81"
      ]
     },
     "execution_count": 51,
     "metadata": {},
     "output_type": "execute_result"
    }
   ],
   "source": [
    "promedio_embarazos"
   ]
  },
  {
   "cell_type": "code",
   "execution_count": 52,
   "metadata": {},
   "outputs": [
    {
     "data": {
      "text/plain": [
       "121.65"
      ]
     },
     "execution_count": 52,
     "metadata": {},
     "output_type": "execute_result"
    }
   ],
   "source": [
    "promedio_plasma"
   ]
  },
  {
   "cell_type": "markdown",
   "metadata": {},
   "source": [
    "## Pregunta 5\n",
    "Imprime los tres pacientes con la presión arterial más alta y rellena los campos con los valores en orden descendente "
   ]
  },
  {
   "cell_type": "code",
   "execution_count": 53,
   "metadata": {},
   "outputs": [
    {
     "data": {
      "text/html": [
       "<div>\n",
       "<style scoped>\n",
       "    .dataframe tbody tr th:only-of-type {\n",
       "        vertical-align: middle;\n",
       "    }\n",
       "\n",
       "    .dataframe tbody tr th {\n",
       "        vertical-align: top;\n",
       "    }\n",
       "\n",
       "    .dataframe thead th {\n",
       "        text-align: right;\n",
       "    }\n",
       "</style>\n",
       "<table border=\"1\" class=\"dataframe\">\n",
       "  <thead>\n",
       "    <tr style=\"text-align: right;\">\n",
       "      <th></th>\n",
       "      <th>embarazos</th>\n",
       "      <th>plasma</th>\n",
       "      <th>presion</th>\n",
       "      <th>masa</th>\n",
       "      <th>edad</th>\n",
       "      <th>estado</th>\n",
       "    </tr>\n",
       "  </thead>\n",
       "  <tbody>\n",
       "    <tr>\n",
       "      <th>30</th>\n",
       "      <td>1.0</td>\n",
       "      <td>96.0</td>\n",
       "      <td>122</td>\n",
       "      <td>22.4</td>\n",
       "      <td>27</td>\n",
       "      <td>negative</td>\n",
       "    </tr>\n",
       "    <tr>\n",
       "      <th>384</th>\n",
       "      <td>9.0</td>\n",
       "      <td>171.0</td>\n",
       "      <td>110</td>\n",
       "      <td>45.4</td>\n",
       "      <td>54</td>\n",
       "      <td>positive</td>\n",
       "    </tr>\n",
       "    <tr>\n",
       "      <th>467</th>\n",
       "      <td>0.0</td>\n",
       "      <td>129.0</td>\n",
       "      <td>110</td>\n",
       "      <td>67.1</td>\n",
       "      <td>26</td>\n",
       "      <td>positive</td>\n",
       "    </tr>\n",
       "    <tr>\n",
       "      <th>250</th>\n",
       "      <td>5.0</td>\n",
       "      <td>103.0</td>\n",
       "      <td>108</td>\n",
       "      <td>39.2</td>\n",
       "      <td>65</td>\n",
       "      <td>negative</td>\n",
       "    </tr>\n",
       "    <tr>\n",
       "      <th>268</th>\n",
       "      <td>5.0</td>\n",
       "      <td>137.0</td>\n",
       "      <td>108</td>\n",
       "      <td>48.8</td>\n",
       "      <td>37</td>\n",
       "      <td>positive</td>\n",
       "    </tr>\n",
       "  </tbody>\n",
       "</table>\n",
       "</div>"
      ],
      "text/plain": [
       "     embarazos  plasma  presion  masa  edad    estado\n",
       "30         1.0    96.0      122  22.4    27  negative\n",
       "384        9.0   171.0      110  45.4    54  positive\n",
       "467        0.0   129.0      110  67.1    26  positive\n",
       "250        5.0   103.0      108  39.2    65  negative\n",
       "268        5.0   137.0      108  48.8    37  positive"
      ]
     },
     "execution_count": 53,
     "metadata": {},
     "output_type": "execute_result"
    }
   ],
   "source": [
    "top_pacientes_presion_alta = df.nlargest(5, 'presion', keep='first')\n",
    "top_pacientes_presion_alta"
   ]
  },
  {
   "cell_type": "markdown",
   "metadata": {},
   "source": [
    "## Pregunta 6\n",
    "Imprime la presión promedio de pacientes que NO tienen diabetes:"
   ]
  },
  {
   "cell_type": "code",
   "execution_count": 54,
   "metadata": {},
   "outputs": [
    {
     "data": {
      "text/plain": [
       "68.33"
      ]
     },
     "execution_count": 54,
     "metadata": {},
     "output_type": "execute_result"
    }
   ],
   "source": [
    "presion_promedio_no_diabetes = df[df['estado'] == 'negative']['presion'].mean().round(2)\n",
    "presion_promedio_no_diabetes"
   ]
  },
  {
   "cell_type": "markdown",
   "metadata": {},
   "source": [
    "## Pregunta 7\n",
    "De acuerdo a la mediana, ¿Quién tiene la mayor cantidad de embarazos, los pacientes con diabetes (positive) o los que no tienen (negative)?\n",
    "\n",
    "Nota: Para responder a la pregunta codifica de manera que se despliegue \"Los pacientes con/sin diabetes tienen más embarazos: XX.XX\""
   ]
  },
  {
   "cell_type": "markdown",
   "metadata": {},
   "source": [
    "Se calcula la mediana de los que tienen diabetes y los que no tienen."
   ]
  },
  {
   "cell_type": "code",
   "execution_count": 55,
   "metadata": {},
   "outputs": [],
   "source": [
    "mediana_tiene = df[df['estado'] == 'positive']['embarazos'].median()\n",
    "mediana_notiene = df[df['estado'] == 'negative']['embarazos'].median()"
   ]
  },
  {
   "cell_type": "markdown",
   "metadata": {},
   "source": [
    "Si la mediana de los que tienen diabetes es mas grande de los que no tienen entonces se despliega quien tiene mas junto con el calculo de la mediana."
   ]
  },
  {
   "cell_type": "code",
   "execution_count": 56,
   "metadata": {},
   "outputs": [
    {
     "name": "stdout",
     "output_type": "stream",
     "text": [
      "Los pacientes con diabetes tienen más embarazos: 4.00\n"
     ]
    }
   ],
   "source": [
    "if mediana_tiene > mediana_notiene:\n",
    "    print(\"Los pacientes con diabetes tienen más embarazos: %.2f\" % mediana_tiene)\n",
    "else:\n",
    "    print(\"Los pacientes sin diabetes tienen más embarazos: %.2f\" % mediana_notiene)"
   ]
  },
  {
   "cell_type": "markdown",
   "metadata": {},
   "source": [
    "## Pregunta 8\n",
    "Genera una consulta (mask) y responde a la pregunta ¿Cuántos pacientes diabéticos tienen entre 20 y 40 años?\n"
   ]
  },
  {
   "cell_type": "code",
   "execution_count": 57,
   "metadata": {},
   "outputs": [
    {
     "data": {
      "text/plain": [
       "120"
      ]
     },
     "execution_count": 57,
     "metadata": {},
     "output_type": "execute_result"
    }
   ],
   "source": [
    "pacientes_diabeticos_20_40 = df[(df['estado'] == 'positive') & (df['edad'] >= 20) & (df['edad'] <= 40)]\n",
    "cantidad_pacientes = len(pacientes_diabeticos_20_40)\n",
    "cantidad_pacientes"
   ]
  },
  {
   "cell_type": "markdown",
   "metadata": {},
   "source": [
    "## Pregunta 9\n",
    "Ahora trabajaremos con otra fuente de información: `Mental Health Survey Data`. Estos son datos recolectados por la Open Source Mental Illness (OSMI) usando respuestas a cuestionarios de los años 2014, 2016, 2017, 2018 y 2019. Cada cuestionario mide comportamientos de salud mental y frecuencia de desórdenes de salud mental en el lugar de trabajo."
   ]
  },
  {
   "cell_type": "markdown",
   "metadata": {},
   "source": [
    "La base de datos SQLite contiene 3 tablas: Survey, Question, y Answer:\n",
    "\n",
    "    Survey (PRIMARY KEY INT SurveyID, TEXT Description)\n",
    "    Question (PRIMARY KEY QuestionID, TEXT QuestionText)\n",
    "    Answer (PRIMARY/FOREIGN KEY SurveyID, PRIMARY KEY UserID, PRIMARY/FOREIGN KEY QuestionID, TEXT AnswerText) \n",
    "\n",
    " \n",
    "\n",
    "Algunas consideraciones:\n",
    "\n",
    "    SurveyID es simplemente el año de la encuesta, es decir, 2014, 2016, 2017, 2018, 2019.\n",
    "    La misma pregunta se puede utilizar para varias encuestas.\n",
    "    La tabla de respuestas (Answer) es una tabla compuesta con varias claves primarias. SurveyID y QuestionID son FOREIGN KEYS.\n",
    "    Algunas preguntas pueden contener varias respuestas, por lo que el mismo usuario puede aparecer más de una vez para ese ID de pregunta. \n",
    "\n",
    "Carga cada tabla del archivo .sqlite a un DataFrame, posteriormente, completa la siguiente información de cada dataframe en la tabla:"
   ]
  },
  {
   "cell_type": "markdown",
   "metadata": {},
   "source": [
    "Importar y hacer conexion a bd"
   ]
  },
  {
   "cell_type": "code",
   "execution_count": 58,
   "metadata": {},
   "outputs": [
    {
     "data": {
      "text/plain": [
       "<sqlite3.Connection at 0x27716967c40>"
      ]
     },
     "execution_count": 58,
     "metadata": {},
     "output_type": "execute_result"
    }
   ],
   "source": [
    "import sqlite3\n",
    "\n",
    "conn = sqlite3.connect(\"mental_health.sqlite\")\n",
    "conn"
   ]
  },
  {
   "cell_type": "markdown",
   "metadata": {},
   "source": [
    "Hacer consulta de seleccion de toda la tabla a cada tabla"
   ]
  },
  {
   "cell_type": "code",
   "execution_count": 59,
   "metadata": {},
   "outputs": [],
   "source": [
    "df_survey = pd.read_sql_query(\"SELECT * FROM Survey\", conn)\n",
    "df_question = pd.read_sql_query(\"SELECT * FROM Question\", conn)\n",
    "df_answer = pd.read_sql_query(\"SELECT * FROM Answer\", conn)"
   ]
  },
  {
   "cell_type": "markdown",
   "metadata": {},
   "source": [
    "Informacion de cada dataframe"
   ]
  },
  {
   "cell_type": "code",
   "execution_count": 60,
   "metadata": {},
   "outputs": [
    {
     "name": "stdout",
     "output_type": "stream",
     "text": [
      "<class 'pandas.core.frame.DataFrame'>\n",
      "RangeIndex: 5 entries, 0 to 4\n",
      "Data columns (total 2 columns):\n",
      " #   Column       Non-Null Count  Dtype \n",
      "---  ------       --------------  ----- \n",
      " 0   SurveyID     5 non-null      int64 \n",
      " 1   Description  5 non-null      object\n",
      "dtypes: int64(1), object(1)\n",
      "memory usage: 212.0+ bytes\n"
     ]
    }
   ],
   "source": [
    "df_survey.info()"
   ]
  },
  {
   "cell_type": "code",
   "execution_count": 61,
   "metadata": {},
   "outputs": [
    {
     "name": "stdout",
     "output_type": "stream",
     "text": [
      "<class 'pandas.core.frame.DataFrame'>\n",
      "RangeIndex: 105 entries, 0 to 104\n",
      "Data columns (total 2 columns):\n",
      " #   Column        Non-Null Count  Dtype \n",
      "---  ------        --------------  ----- \n",
      " 0   questiontext  105 non-null    object\n",
      " 1   questionid    105 non-null    int64 \n",
      "dtypes: int64(1), object(1)\n",
      "memory usage: 1.8+ KB\n"
     ]
    }
   ],
   "source": [
    "df_question.info()"
   ]
  },
  {
   "cell_type": "code",
   "execution_count": 62,
   "metadata": {},
   "outputs": [
    {
     "name": "stdout",
     "output_type": "stream",
     "text": [
      "<class 'pandas.core.frame.DataFrame'>\n",
      "RangeIndex: 236898 entries, 0 to 236897\n",
      "Data columns (total 4 columns):\n",
      " #   Column      Non-Null Count   Dtype \n",
      "---  ------      --------------   ----- \n",
      " 0   AnswerText  236898 non-null  object\n",
      " 1   SurveyID    236898 non-null  int64 \n",
      " 2   UserID      236898 non-null  int64 \n",
      " 3   QuestionID  236898 non-null  int64 \n",
      "dtypes: int64(3), object(1)\n",
      "memory usage: 7.2+ MB\n"
     ]
    }
   ],
   "source": [
    "df_answer.info()"
   ]
  },
  {
   "cell_type": "markdown",
   "metadata": {},
   "source": [
    "## Pregunta 10\n",
    "\n",
    "\n",
    "Utilizando alguna función de combinación de dataframes de pandas (no consulta SQL), crea un nuevo DataFrame llamado answers que integre los textos del dataframe de preguntas junto con el DataFrame de respuestas.\n",
    "\n",
    "¿Cuáles son las dimensiones del dataframe resultante?\n",
    "\n",
    "Columnas:\n",
    "\n",
    "Filas:\n",
    "\n",
    " \n",
    "\n",
    "    Nota 1: No basta con cualquier tipo de operación de unión, debe haber correspondencia.\n",
    "    Nota 2: Revisa que el resultado no repita información en columnas.\n",
    "\n"
   ]
  },
  {
   "cell_type": "markdown",
   "metadata": {},
   "source": [
    "Inner Join para evitar perdida de datos. Tambien uso left y right on para mantener las primary key."
   ]
  },
  {
   "cell_type": "code",
   "execution_count": 63,
   "metadata": {},
   "outputs": [
    {
     "data": {
      "text/plain": [
       "(236898, 5)"
      ]
     },
     "execution_count": 63,
     "metadata": {},
     "output_type": "execute_result"
    }
   ],
   "source": [
    "answers = pd.merge(df_answer, df_question, left_on='QuestionID', right_on='questionid', how='inner').drop(columns=['questionid'])\n",
    "answers.shape"
   ]
  },
  {
   "cell_type": "code",
   "execution_count": 65,
   "metadata": {},
   "outputs": [
    {
     "name": "stdout",
     "output_type": "stream",
     "text": [
      "<class 'pandas.core.frame.DataFrame'>\n",
      "RangeIndex: 236898 entries, 0 to 236897\n",
      "Data columns (total 5 columns):\n",
      " #   Column        Non-Null Count   Dtype \n",
      "---  ------        --------------   ----- \n",
      " 0   AnswerText    236898 non-null  object\n",
      " 1   SurveyID      236898 non-null  int64 \n",
      " 2   UserID        236898 non-null  int64 \n",
      " 3   QuestionID    236898 non-null  int64 \n",
      " 4   questiontext  236898 non-null  object\n",
      "dtypes: int64(3), object(2)\n",
      "memory usage: 9.0+ MB\n"
     ]
    }
   ],
   "source": [
    "answers.info()"
   ]
  },
  {
   "cell_type": "code",
   "execution_count": 64,
   "metadata": {},
   "outputs": [
    {
     "data": {
      "text/plain": [
       "0"
      ]
     },
     "execution_count": 64,
     "metadata": {},
     "output_type": "execute_result"
    }
   ],
   "source": [
    "answers.duplicated().sum()"
   ]
  },
  {
   "cell_type": "markdown",
   "metadata": {},
   "source": [
    "## Pregunta 11\n",
    "\n",
    "De ese dataframe answers, filtra las filas con respuestas a la pregunta de edad (What is your age?) a otro dataframe answers_edad.\n",
    "Realiza las modificaciones necesarias para poder operar con la columna AnswerText en ese dataframe.\n",
    "Mediante agrupamiento, calcula la edad promedio de los usuarios que respondieron por año. Reporta tus resultados redondeando a 2 decimales.\n"
   ]
  },
  {
   "cell_type": "markdown",
   "metadata": {},
   "source": [
    "Copia de answers en nuevo df con la pregunta what is your age?"
   ]
  },
  {
   "cell_type": "code",
   "execution_count": 68,
   "metadata": {},
   "outputs": [],
   "source": [
    "answers_edad = answers[answers['questiontext'] == 'What is your age?'].copy()"
   ]
  },
  {
   "cell_type": "markdown",
   "metadata": {},
   "source": [
    "Cambiamos answers text a valores numericos."
   ]
  },
  {
   "cell_type": "code",
   "execution_count": 69,
   "metadata": {},
   "outputs": [],
   "source": [
    "answers_edad['AnswerText'] = pd.to_numeric(answers_edad['AnswerText'], errors='coerce')\n"
   ]
  },
  {
   "cell_type": "markdown",
   "metadata": {},
   "source": [
    "Hacemos un df con la edad promedio por año. "
   ]
  },
  {
   "cell_type": "code",
   "execution_count": 70,
   "metadata": {},
   "outputs": [
    {
     "data": {
      "text/plain": [
       "SurveyID\n",
       "2014    32.13\n",
       "2016    34.29\n",
       "2017    34.89\n",
       "2018    34.92\n",
       "2019    35.49\n",
       "Name: AnswerText, dtype: float64"
      ]
     },
     "execution_count": 70,
     "metadata": {},
     "output_type": "execute_result"
    }
   ],
   "source": [
    "\n",
    "edad_promedio_por_anio = answers_edad.groupby('SurveyID')['AnswerText'].mean().round(2)\n",
    "\n",
    "edad_promedio_por_anio"
   ]
  },
  {
   "cell_type": "markdown",
   "metadata": {},
   "source": [
    "## Pregunta 12\n",
    "De ese DataFrame (answers_edad), utiliza el método de detección de valores atípicos según Rango Interquartílico para la columna con la edad. Indica la cantidad de atípicos (no elimines): "
   ]
  },
  {
   "cell_type": "code",
   "execution_count": 74,
   "metadata": {},
   "outputs": [
    {
     "data": {
      "text/plain": [
       "124"
      ]
     },
     "execution_count": 74,
     "metadata": {},
     "output_type": "execute_result"
    }
   ],
   "source": [
    "df_cln = answers_edad.copy()\n",
    "q1 = df_cln['AnswerText'].quantile(0.25)\n",
    "q3 = df_cln['AnswerText'].quantile(0.75)\n",
    "iqr = q3 - q1\n",
    "\n",
    "lower = q1 - 1.5 * iqr\n",
    "upper = q3 + 1.5 * iqr\n",
    "\n",
    "outliers = df_cln[(df_cln['AnswerText'] < lower) | (df_cln['AnswerText'] > upper)]\n",
    "cantidad_atipicos = len(outliers)\n",
    "cantidad_atipicos"
   ]
  }
 ],
 "metadata": {
  "kernelspec": {
   "display_name": "base",
   "language": "python",
   "name": "python3"
  },
  "language_info": {
   "codemirror_mode": {
    "name": "ipython",
    "version": 3
   },
   "file_extension": ".py",
   "mimetype": "text/x-python",
   "name": "python",
   "nbconvert_exporter": "python",
   "pygments_lexer": "ipython3",
   "version": "3.12.7"
  }
 },
 "nbformat": 4,
 "nbformat_minor": 2
}
