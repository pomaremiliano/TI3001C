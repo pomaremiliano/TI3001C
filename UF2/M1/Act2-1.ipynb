{
 "cells": [
  {
   "cell_type": "markdown",
   "metadata": {},
   "source": [
    "# Actividad 2.1\n",
    "\n",
    "- Jorge Emiliano Pomar\n",
    "- A01709338\n",
    "- 17 de febrero de 2025\n"
   ]
  },
  {
   "cell_type": "markdown",
   "metadata": {},
   "source": [
    "## **Índice**\n",
    "\n",
    "- [Ejercicio 1](#Ejercicio-1)\n",
    "- [Ejercicio 2](#Ejercicio-2)\n",
    "- [Ejercicio 3](#Ejercicio-3)\n",
    "- [Ejercicio 4](#Ejercicio-4)\n",
    "- [Ejercicio 5](#Ejercicio-5)\n",
    "- [Ejercicio 6](#Ejercicio-6)\n",
    "- [Ejercicio 7](#Ejercicio-7)\n",
    "- [Ejercicio 8](#Ejercicio-8)\n",
    "- [Ejercicio 9](#Ejercicio-9)\n",
    "- [Ejercicio 10](#Ejercicio-10)\n"
   ]
  },
  {
   "cell_type": "markdown",
   "metadata": {},
   "source": [
    "## **Ejercicio 1**\n",
    "\n",
    "(15 pts) Crearán un DataFrame con la información de 5 personas por cada miembro (puede ser ficticia) según los siguientes criterios:\n",
    "\n",
    "    Columnas: Talla (altura en mts.), Peso (kgs) y color favorito\n",
    "    Índices: Nombres de las personas\n",
    "    Finalmente, incluirán una consulta donde mostrarán los colores favoritos de aquellas personas con peso menor al promedio.\n"
   ]
  },
  {
   "cell_type": "code",
   "execution_count": 1,
   "metadata": {},
   "outputs": [
    {
     "data": {
      "text/html": [
       "<div>\n",
       "<style scoped>\n",
       "    .dataframe tbody tr th:only-of-type {\n",
       "        vertical-align: middle;\n",
       "    }\n",
       "\n",
       "    .dataframe tbody tr th {\n",
       "        vertical-align: top;\n",
       "    }\n",
       "\n",
       "    .dataframe thead th {\n",
       "        text-align: right;\n",
       "    }\n",
       "</style>\n",
       "<table border=\"1\" class=\"dataframe\">\n",
       "  <thead>\n",
       "    <tr style=\"text-align: right;\">\n",
       "      <th></th>\n",
       "      <th>Talla</th>\n",
       "      <th>Peso</th>\n",
       "      <th>Color Favorito</th>\n",
       "    </tr>\n",
       "  </thead>\n",
       "  <tbody>\n",
       "    <tr>\n",
       "      <th>Valeria</th>\n",
       "      <td>1.60</td>\n",
       "      <td>60</td>\n",
       "      <td>rojo</td>\n",
       "    </tr>\n",
       "    <tr>\n",
       "      <th>Tomás</th>\n",
       "      <td>1.90</td>\n",
       "      <td>66</td>\n",
       "      <td>amarillo</td>\n",
       "    </tr>\n",
       "    <tr>\n",
       "      <th>Alejandro</th>\n",
       "      <td>1.85</td>\n",
       "      <td>56</td>\n",
       "      <td>azul</td>\n",
       "    </tr>\n",
       "    <tr>\n",
       "      <th>Daniela</th>\n",
       "      <td>1.56</td>\n",
       "      <td>43</td>\n",
       "      <td>morado</td>\n",
       "    </tr>\n",
       "    <tr>\n",
       "      <th>Jorge</th>\n",
       "      <td>1.40</td>\n",
       "      <td>54</td>\n",
       "      <td>naranja</td>\n",
       "    </tr>\n",
       "  </tbody>\n",
       "</table>\n",
       "</div>"
      ],
      "text/plain": [
       "           Talla  Peso Color Favorito\n",
       "Valeria     1.60    60           rojo\n",
       "Tomás       1.90    66       amarillo\n",
       "Alejandro   1.85    56           azul\n",
       "Daniela     1.56    43         morado\n",
       "Jorge       1.40    54        naranja"
      ]
     },
     "execution_count": 1,
     "metadata": {},
     "output_type": "execute_result"
    }
   ],
   "source": [
    "import pandas as pd\n",
    "\n",
    "tallas = [1.60, 1.90, 1.85, 1.56, 1.40]\n",
    "pesos = [60, 66, 56, 43, 54]\n",
    "colores = [\"rojo\", \"amarillo\", \"azul\", \"morado\", \"naranja\"]\n",
    "indices = [\"Valeria\", \"Tomás\", \"Alejandro\", \"Daniela\", \"Jorge\"]\n",
    "\n",
    "df = pd.DataFrame(\n",
    "    {\"Talla\": tallas, \"Peso\": pesos, \"Color Favorito\": colores}, index=indices\n",
    ")\n",
    "df"
   ]
  },
  {
   "cell_type": "markdown",
   "metadata": {},
   "source": [
    "## **Ejercicio 2**\n",
    "\n",
    "(7 pts) Agrega una columna donde calculen el IMC (usando ufuncs)\n"
   ]
  },
  {
   "cell_type": "code",
   "execution_count": 2,
   "metadata": {},
   "outputs": [
    {
     "data": {
      "text/html": [
       "<div>\n",
       "<style scoped>\n",
       "    .dataframe tbody tr th:only-of-type {\n",
       "        vertical-align: middle;\n",
       "    }\n",
       "\n",
       "    .dataframe tbody tr th {\n",
       "        vertical-align: top;\n",
       "    }\n",
       "\n",
       "    .dataframe thead th {\n",
       "        text-align: right;\n",
       "    }\n",
       "</style>\n",
       "<table border=\"1\" class=\"dataframe\">\n",
       "  <thead>\n",
       "    <tr style=\"text-align: right;\">\n",
       "      <th></th>\n",
       "      <th>Talla</th>\n",
       "      <th>Peso</th>\n",
       "      <th>Color Favorito</th>\n",
       "      <th>IMC</th>\n",
       "    </tr>\n",
       "  </thead>\n",
       "  <tbody>\n",
       "    <tr>\n",
       "      <th>Valeria</th>\n",
       "      <td>1.60</td>\n",
       "      <td>60</td>\n",
       "      <td>rojo</td>\n",
       "      <td>23.437500</td>\n",
       "    </tr>\n",
       "    <tr>\n",
       "      <th>Tomás</th>\n",
       "      <td>1.90</td>\n",
       "      <td>66</td>\n",
       "      <td>amarillo</td>\n",
       "      <td>18.282548</td>\n",
       "    </tr>\n",
       "    <tr>\n",
       "      <th>Alejandro</th>\n",
       "      <td>1.85</td>\n",
       "      <td>56</td>\n",
       "      <td>azul</td>\n",
       "      <td>16.362308</td>\n",
       "    </tr>\n",
       "    <tr>\n",
       "      <th>Daniela</th>\n",
       "      <td>1.56</td>\n",
       "      <td>43</td>\n",
       "      <td>morado</td>\n",
       "      <td>17.669297</td>\n",
       "    </tr>\n",
       "    <tr>\n",
       "      <th>Jorge</th>\n",
       "      <td>1.40</td>\n",
       "      <td>54</td>\n",
       "      <td>naranja</td>\n",
       "      <td>27.551020</td>\n",
       "    </tr>\n",
       "  </tbody>\n",
       "</table>\n",
       "</div>"
      ],
      "text/plain": [
       "           Talla  Peso Color Favorito        IMC\n",
       "Valeria     1.60    60           rojo  23.437500\n",
       "Tomás       1.90    66       amarillo  18.282548\n",
       "Alejandro   1.85    56           azul  16.362308\n",
       "Daniela     1.56    43         morado  17.669297\n",
       "Jorge       1.40    54        naranja  27.551020"
      ]
     },
     "execution_count": 2,
     "metadata": {},
     "output_type": "execute_result"
    }
   ],
   "source": [
    "df[\"IMC\"] = df[\"Peso\"] / (df[\"Talla\"] ** 2)\n",
    "df"
   ]
  },
  {
   "cell_type": "markdown",
   "metadata": {},
   "source": [
    "## **Ejercicio 3**\n",
    "\n",
    "(7 pts) Agrega 1 columna para salario mensual. Sugerencia: puedes investigar la función numpy.random para generar números aleatorios.\n"
   ]
  },
  {
   "cell_type": "code",
   "execution_count": 3,
   "metadata": {},
   "outputs": [
    {
     "data": {
      "text/html": [
       "<div>\n",
       "<style scoped>\n",
       "    .dataframe tbody tr th:only-of-type {\n",
       "        vertical-align: middle;\n",
       "    }\n",
       "\n",
       "    .dataframe tbody tr th {\n",
       "        vertical-align: top;\n",
       "    }\n",
       "\n",
       "    .dataframe thead th {\n",
       "        text-align: right;\n",
       "    }\n",
       "</style>\n",
       "<table border=\"1\" class=\"dataframe\">\n",
       "  <thead>\n",
       "    <tr style=\"text-align: right;\">\n",
       "      <th></th>\n",
       "      <th>Talla</th>\n",
       "      <th>Peso</th>\n",
       "      <th>Color Favorito</th>\n",
       "      <th>IMC</th>\n",
       "      <th>SalarioMensual</th>\n",
       "    </tr>\n",
       "  </thead>\n",
       "  <tbody>\n",
       "    <tr>\n",
       "      <th>Valeria</th>\n",
       "      <td>1.60</td>\n",
       "      <td>60</td>\n",
       "      <td>rojo</td>\n",
       "      <td>23.437500</td>\n",
       "      <td>230250</td>\n",
       "    </tr>\n",
       "    <tr>\n",
       "      <th>Tomás</th>\n",
       "      <td>1.90</td>\n",
       "      <td>66</td>\n",
       "      <td>amarillo</td>\n",
       "      <td>18.282548</td>\n",
       "      <td>28456</td>\n",
       "    </tr>\n",
       "    <tr>\n",
       "      <th>Alejandro</th>\n",
       "      <td>1.85</td>\n",
       "      <td>56</td>\n",
       "      <td>azul</td>\n",
       "      <td>16.362308</td>\n",
       "      <td>122408</td>\n",
       "    </tr>\n",
       "    <tr>\n",
       "      <th>Daniela</th>\n",
       "      <td>1.56</td>\n",
       "      <td>43</td>\n",
       "      <td>morado</td>\n",
       "      <td>17.669297</td>\n",
       "      <td>77368</td>\n",
       "    </tr>\n",
       "    <tr>\n",
       "      <th>Jorge</th>\n",
       "      <td>1.40</td>\n",
       "      <td>54</td>\n",
       "      <td>naranja</td>\n",
       "      <td>27.551020</td>\n",
       "      <td>123150</td>\n",
       "    </tr>\n",
       "  </tbody>\n",
       "</table>\n",
       "</div>"
      ],
      "text/plain": [
       "           Talla  Peso Color Favorito        IMC  SalarioMensual\n",
       "Valeria     1.60    60           rojo  23.437500          230250\n",
       "Tomás       1.90    66       amarillo  18.282548           28456\n",
       "Alejandro   1.85    56           azul  16.362308          122408\n",
       "Daniela     1.56    43         morado  17.669297           77368\n",
       "Jorge       1.40    54        naranja  27.551020          123150"
      ]
     },
     "execution_count": 3,
     "metadata": {},
     "output_type": "execute_result"
    }
   ],
   "source": [
    "import numpy as np\n",
    "\n",
    "salarios = np.random.randint(8000, 300000, size=len(df))\n",
    "df[\"SalarioMensual\"] = salarios\n",
    "df"
   ]
  },
  {
   "cell_type": "markdown",
   "metadata": {},
   "source": [
    "## **Ejercicio 4**\n",
    "\n",
    "(10 pts) Agrega 2 nuevas columnas con el salario mensual e IMC relativos al promedio.\n"
   ]
  },
  {
   "cell_type": "code",
   "execution_count": 4,
   "metadata": {},
   "outputs": [
    {
     "data": {
      "text/html": [
       "<div>\n",
       "<style scoped>\n",
       "    .dataframe tbody tr th:only-of-type {\n",
       "        vertical-align: middle;\n",
       "    }\n",
       "\n",
       "    .dataframe tbody tr th {\n",
       "        vertical-align: top;\n",
       "    }\n",
       "\n",
       "    .dataframe thead th {\n",
       "        text-align: right;\n",
       "    }\n",
       "</style>\n",
       "<table border=\"1\" class=\"dataframe\">\n",
       "  <thead>\n",
       "    <tr style=\"text-align: right;\">\n",
       "      <th></th>\n",
       "      <th>Talla</th>\n",
       "      <th>Peso</th>\n",
       "      <th>Color Favorito</th>\n",
       "      <th>IMC</th>\n",
       "      <th>SalarioMensual</th>\n",
       "      <th>IMCRelativos</th>\n",
       "    </tr>\n",
       "  </thead>\n",
       "  <tbody>\n",
       "    <tr>\n",
       "      <th>Valeria</th>\n",
       "      <td>1.60</td>\n",
       "      <td>60</td>\n",
       "      <td>rojo</td>\n",
       "      <td>23.437500</td>\n",
       "      <td>230250</td>\n",
       "      <td>113.440917</td>\n",
       "    </tr>\n",
       "    <tr>\n",
       "      <th>Tomás</th>\n",
       "      <td>1.90</td>\n",
       "      <td>66</td>\n",
       "      <td>amarillo</td>\n",
       "      <td>18.282548</td>\n",
       "      <td>28456</td>\n",
       "      <td>88.490200</td>\n",
       "    </tr>\n",
       "    <tr>\n",
       "      <th>Alejandro</th>\n",
       "      <td>1.85</td>\n",
       "      <td>56</td>\n",
       "      <td>azul</td>\n",
       "      <td>16.362308</td>\n",
       "      <td>122408</td>\n",
       "      <td>79.195957</td>\n",
       "    </tr>\n",
       "    <tr>\n",
       "      <th>Daniela</th>\n",
       "      <td>1.56</td>\n",
       "      <td>43</td>\n",
       "      <td>morado</td>\n",
       "      <td>17.669297</td>\n",
       "      <td>77368</td>\n",
       "      <td>85.521971</td>\n",
       "    </tr>\n",
       "    <tr>\n",
       "      <th>Jorge</th>\n",
       "      <td>1.40</td>\n",
       "      <td>54</td>\n",
       "      <td>naranja</td>\n",
       "      <td>27.551020</td>\n",
       "      <td>123150</td>\n",
       "      <td>133.350955</td>\n",
       "    </tr>\n",
       "  </tbody>\n",
       "</table>\n",
       "</div>"
      ],
      "text/plain": [
       "           Talla  Peso Color Favorito        IMC  SalarioMensual  IMCRelativos\n",
       "Valeria     1.60    60           rojo  23.437500          230250    113.440917\n",
       "Tomás       1.90    66       amarillo  18.282548           28456     88.490200\n",
       "Alejandro   1.85    56           azul  16.362308          122408     79.195957\n",
       "Daniela     1.56    43         morado  17.669297           77368     85.521971\n",
       "Jorge       1.40    54        naranja  27.551020          123150    133.350955"
      ]
     },
     "execution_count": 4,
     "metadata": {},
     "output_type": "execute_result"
    }
   ],
   "source": [
    "df[\"IMCRelativos\"] = df[\"IMC\"] / df[\"IMC\"].mean() * 100\n",
    "df"
   ]
  },
  {
   "cell_type": "code",
   "execution_count": 5,
   "metadata": {},
   "outputs": [
    {
     "data": {
      "text/html": [
       "<div>\n",
       "<style scoped>\n",
       "    .dataframe tbody tr th:only-of-type {\n",
       "        vertical-align: middle;\n",
       "    }\n",
       "\n",
       "    .dataframe tbody tr th {\n",
       "        vertical-align: top;\n",
       "    }\n",
       "\n",
       "    .dataframe thead th {\n",
       "        text-align: right;\n",
       "    }\n",
       "</style>\n",
       "<table border=\"1\" class=\"dataframe\">\n",
       "  <thead>\n",
       "    <tr style=\"text-align: right;\">\n",
       "      <th></th>\n",
       "      <th>Talla</th>\n",
       "      <th>Peso</th>\n",
       "      <th>Color Favorito</th>\n",
       "      <th>IMC</th>\n",
       "      <th>SalarioMensual</th>\n",
       "      <th>IMCRelativos</th>\n",
       "      <th>Salarios_Relativos</th>\n",
       "    </tr>\n",
       "  </thead>\n",
       "  <tbody>\n",
       "    <tr>\n",
       "      <th>Valeria</th>\n",
       "      <td>1.60</td>\n",
       "      <td>60</td>\n",
       "      <td>rojo</td>\n",
       "      <td>23.437500</td>\n",
       "      <td>230250</td>\n",
       "      <td>113.440917</td>\n",
       "      <td>197.934433</td>\n",
       "    </tr>\n",
       "    <tr>\n",
       "      <th>Tomás</th>\n",
       "      <td>1.90</td>\n",
       "      <td>66</td>\n",
       "      <td>amarillo</td>\n",
       "      <td>18.282548</td>\n",
       "      <td>28456</td>\n",
       "      <td>88.490200</td>\n",
       "      <td>24.462203</td>\n",
       "    </tr>\n",
       "    <tr>\n",
       "      <th>Alejandro</th>\n",
       "      <td>1.85</td>\n",
       "      <td>56</td>\n",
       "      <td>azul</td>\n",
       "      <td>16.362308</td>\n",
       "      <td>122408</td>\n",
       "      <td>79.195957</td>\n",
       "      <td>105.228048</td>\n",
       "    </tr>\n",
       "    <tr>\n",
       "      <th>Daniela</th>\n",
       "      <td>1.56</td>\n",
       "      <td>43</td>\n",
       "      <td>morado</td>\n",
       "      <td>17.669297</td>\n",
       "      <td>77368</td>\n",
       "      <td>85.521971</td>\n",
       "      <td>66.509408</td>\n",
       "    </tr>\n",
       "    <tr>\n",
       "      <th>Jorge</th>\n",
       "      <td>1.40</td>\n",
       "      <td>54</td>\n",
       "      <td>naranja</td>\n",
       "      <td>27.551020</td>\n",
       "      <td>123150</td>\n",
       "      <td>133.350955</td>\n",
       "      <td>105.865908</td>\n",
       "    </tr>\n",
       "  </tbody>\n",
       "</table>\n",
       "</div>"
      ],
      "text/plain": [
       "           Talla  Peso Color Favorito        IMC  SalarioMensual  \\\n",
       "Valeria     1.60    60           rojo  23.437500          230250   \n",
       "Tomás       1.90    66       amarillo  18.282548           28456   \n",
       "Alejandro   1.85    56           azul  16.362308          122408   \n",
       "Daniela     1.56    43         morado  17.669297           77368   \n",
       "Jorge       1.40    54        naranja  27.551020          123150   \n",
       "\n",
       "           IMCRelativos  Salarios_Relativos  \n",
       "Valeria      113.440917          197.934433  \n",
       "Tomás         88.490200           24.462203  \n",
       "Alejandro     79.195957          105.228048  \n",
       "Daniela       85.521971           66.509408  \n",
       "Jorge        133.350955          105.865908  "
      ]
     },
     "execution_count": 5,
     "metadata": {},
     "output_type": "execute_result"
    }
   ],
   "source": [
    "df[\"Salarios_Relativos\"] = df[\"SalarioMensual\"] / df[\"SalarioMensual\"].mean() * 100\n",
    "df"
   ]
  },
  {
   "cell_type": "markdown",
   "metadata": {},
   "source": [
    "## **Ejercicio 5**\n",
    "\n",
    "(7 pts) Borra mediante los 3 métodos vistos las columnas IMC, IMC mensual relativo y salario mensual relativo.\n"
   ]
  },
  {
   "cell_type": "code",
   "execution_count": null,
   "metadata": {},
   "outputs": [
    {
     "data": {
      "text/html": [
       "<div>\n",
       "<style scoped>\n",
       "    .dataframe tbody tr th:only-of-type {\n",
       "        vertical-align: middle;\n",
       "    }\n",
       "\n",
       "    .dataframe tbody tr th {\n",
       "        vertical-align: top;\n",
       "    }\n",
       "\n",
       "    .dataframe thead th {\n",
       "        text-align: right;\n",
       "    }\n",
       "</style>\n",
       "<table border=\"1\" class=\"dataframe\">\n",
       "  <thead>\n",
       "    <tr style=\"text-align: right;\">\n",
       "      <th></th>\n",
       "      <th>Talla</th>\n",
       "      <th>Peso</th>\n",
       "      <th>Color Favorito</th>\n",
       "      <th>SalarioMensual</th>\n",
       "    </tr>\n",
       "  </thead>\n",
       "  <tbody>\n",
       "    <tr>\n",
       "      <th>Valeria</th>\n",
       "      <td>1.60</td>\n",
       "      <td>60</td>\n",
       "      <td>rojo</td>\n",
       "      <td>230250</td>\n",
       "    </tr>\n",
       "    <tr>\n",
       "      <th>Tomás</th>\n",
       "      <td>1.90</td>\n",
       "      <td>66</td>\n",
       "      <td>amarillo</td>\n",
       "      <td>28456</td>\n",
       "    </tr>\n",
       "    <tr>\n",
       "      <th>Alejandro</th>\n",
       "      <td>1.85</td>\n",
       "      <td>56</td>\n",
       "      <td>azul</td>\n",
       "      <td>122408</td>\n",
       "    </tr>\n",
       "    <tr>\n",
       "      <th>Daniela</th>\n",
       "      <td>1.56</td>\n",
       "      <td>43</td>\n",
       "      <td>morado</td>\n",
       "      <td>77368</td>\n",
       "    </tr>\n",
       "    <tr>\n",
       "      <th>Jorge</th>\n",
       "      <td>1.40</td>\n",
       "      <td>54</td>\n",
       "      <td>naranja</td>\n",
       "      <td>123150</td>\n",
       "    </tr>\n",
       "  </tbody>\n",
       "</table>\n",
       "</div>"
      ],
      "text/plain": [
       "           Talla  Peso Color Favorito  SalarioMensual\n",
       "Valeria     1.60    60           rojo          230250\n",
       "Tomás       1.90    66       amarillo           28456\n",
       "Alejandro   1.85    56           azul          122408\n",
       "Daniela     1.56    43         morado           77368\n",
       "Jorge       1.40    54        naranja          123150"
      ]
     },
     "execution_count": 6,
     "metadata": {},
     "output_type": "execute_result"
    }
   ],
   "source": [
    "# 1 drop\n",
    "df.drop(\"IMCRelativos\", axis=1)\n",
    "\n",
    "# 2 pop\n",
    "df.pop(\"Salarios_Relativos\")\n",
    "\n",
    "# 3 del\n",
    "del df[\"IMC\"]\n",
    "\n",
    "df"
   ]
  },
  {
   "cell_type": "markdown",
   "metadata": {},
   "source": [
    "## **Ejercicio 6**\n",
    "\n",
    "(10 pts) Agrega 3 filas con nuevos registros de personas.\n"
   ]
  },
  {
   "cell_type": "code",
   "execution_count": 7,
   "metadata": {},
   "outputs": [
    {
     "data": {
      "text/html": [
       "<div>\n",
       "<style scoped>\n",
       "    .dataframe tbody tr th:only-of-type {\n",
       "        vertical-align: middle;\n",
       "    }\n",
       "\n",
       "    .dataframe tbody tr th {\n",
       "        vertical-align: top;\n",
       "    }\n",
       "\n",
       "    .dataframe thead th {\n",
       "        text-align: right;\n",
       "    }\n",
       "</style>\n",
       "<table border=\"1\" class=\"dataframe\">\n",
       "  <thead>\n",
       "    <tr style=\"text-align: right;\">\n",
       "      <th></th>\n",
       "      <th>Talla</th>\n",
       "      <th>Peso</th>\n",
       "      <th>Color Favorito</th>\n",
       "      <th>SalarioMensual</th>\n",
       "    </tr>\n",
       "  </thead>\n",
       "  <tbody>\n",
       "    <tr>\n",
       "      <th>Valeria</th>\n",
       "      <td>1.60</td>\n",
       "      <td>60</td>\n",
       "      <td>rojo</td>\n",
       "      <td>230250</td>\n",
       "    </tr>\n",
       "    <tr>\n",
       "      <th>Tomás</th>\n",
       "      <td>1.90</td>\n",
       "      <td>66</td>\n",
       "      <td>amarillo</td>\n",
       "      <td>28456</td>\n",
       "    </tr>\n",
       "    <tr>\n",
       "      <th>Alejandro</th>\n",
       "      <td>1.85</td>\n",
       "      <td>56</td>\n",
       "      <td>azul</td>\n",
       "      <td>122408</td>\n",
       "    </tr>\n",
       "    <tr>\n",
       "      <th>Daniela</th>\n",
       "      <td>1.56</td>\n",
       "      <td>43</td>\n",
       "      <td>morado</td>\n",
       "      <td>77368</td>\n",
       "    </tr>\n",
       "    <tr>\n",
       "      <th>Jorge</th>\n",
       "      <td>1.40</td>\n",
       "      <td>54</td>\n",
       "      <td>naranja</td>\n",
       "      <td>123150</td>\n",
       "    </tr>\n",
       "    <tr>\n",
       "      <th>Iván</th>\n",
       "      <td>1.63</td>\n",
       "      <td>72</td>\n",
       "      <td>rosa</td>\n",
       "      <td>30000</td>\n",
       "    </tr>\n",
       "    <tr>\n",
       "      <th>Maru</th>\n",
       "      <td>1.54</td>\n",
       "      <td>49</td>\n",
       "      <td>plateado</td>\n",
       "      <td>40000</td>\n",
       "    </tr>\n",
       "    <tr>\n",
       "      <th>Ana</th>\n",
       "      <td>1.70</td>\n",
       "      <td>54</td>\n",
       "      <td>negro</td>\n",
       "      <td>50000</td>\n",
       "    </tr>\n",
       "  </tbody>\n",
       "</table>\n",
       "</div>"
      ],
      "text/plain": [
       "           Talla  Peso Color Favorito  SalarioMensual\n",
       "Valeria     1.60    60           rojo          230250\n",
       "Tomás       1.90    66       amarillo           28456\n",
       "Alejandro   1.85    56           azul          122408\n",
       "Daniela     1.56    43         morado           77368\n",
       "Jorge       1.40    54        naranja          123150\n",
       "Iván        1.63    72           rosa           30000\n",
       "Maru        1.54    49       plateado           40000\n",
       "Ana         1.70    54          negro           50000"
      ]
     },
     "execution_count": 7,
     "metadata": {},
     "output_type": "execute_result"
    }
   ],
   "source": [
    "df.loc[\"Iván\"] = [1.63, 72, \"rosa\", 30000]\n",
    "\n",
    "\n",
    "df.loc[\"Maru\"] = [1.54, 49, \"plateado\", 40000]\n",
    "\n",
    "df.loc[\"Ana\"] = [1.70, 54, \"negro\", 50000]\n",
    "\n",
    "df"
   ]
  },
  {
   "cell_type": "markdown",
   "metadata": {},
   "source": [
    "## **Ejercicio 7**\n",
    "\n",
    "(7 pts) Muestra los resultados de la exploración del dataframe (diapositivas 10-11)\n"
   ]
  },
  {
   "cell_type": "markdown",
   "metadata": {},
   "source": [
    "### 1. df - muestra los primeros 30\n"
   ]
  },
  {
   "cell_type": "code",
   "execution_count": 8,
   "metadata": {},
   "outputs": [
    {
     "data": {
      "text/html": [
       "<div>\n",
       "<style scoped>\n",
       "    .dataframe tbody tr th:only-of-type {\n",
       "        vertical-align: middle;\n",
       "    }\n",
       "\n",
       "    .dataframe tbody tr th {\n",
       "        vertical-align: top;\n",
       "    }\n",
       "\n",
       "    .dataframe thead th {\n",
       "        text-align: right;\n",
       "    }\n",
       "</style>\n",
       "<table border=\"1\" class=\"dataframe\">\n",
       "  <thead>\n",
       "    <tr style=\"text-align: right;\">\n",
       "      <th></th>\n",
       "      <th>Talla</th>\n",
       "      <th>Peso</th>\n",
       "      <th>Color Favorito</th>\n",
       "      <th>SalarioMensual</th>\n",
       "    </tr>\n",
       "  </thead>\n",
       "  <tbody>\n",
       "    <tr>\n",
       "      <th>Valeria</th>\n",
       "      <td>1.60</td>\n",
       "      <td>60</td>\n",
       "      <td>rojo</td>\n",
       "      <td>230250</td>\n",
       "    </tr>\n",
       "    <tr>\n",
       "      <th>Tomás</th>\n",
       "      <td>1.90</td>\n",
       "      <td>66</td>\n",
       "      <td>amarillo</td>\n",
       "      <td>28456</td>\n",
       "    </tr>\n",
       "    <tr>\n",
       "      <th>Alejandro</th>\n",
       "      <td>1.85</td>\n",
       "      <td>56</td>\n",
       "      <td>azul</td>\n",
       "      <td>122408</td>\n",
       "    </tr>\n",
       "    <tr>\n",
       "      <th>Daniela</th>\n",
       "      <td>1.56</td>\n",
       "      <td>43</td>\n",
       "      <td>morado</td>\n",
       "      <td>77368</td>\n",
       "    </tr>\n",
       "    <tr>\n",
       "      <th>Jorge</th>\n",
       "      <td>1.40</td>\n",
       "      <td>54</td>\n",
       "      <td>naranja</td>\n",
       "      <td>123150</td>\n",
       "    </tr>\n",
       "    <tr>\n",
       "      <th>Iván</th>\n",
       "      <td>1.63</td>\n",
       "      <td>72</td>\n",
       "      <td>rosa</td>\n",
       "      <td>30000</td>\n",
       "    </tr>\n",
       "    <tr>\n",
       "      <th>Maru</th>\n",
       "      <td>1.54</td>\n",
       "      <td>49</td>\n",
       "      <td>plateado</td>\n",
       "      <td>40000</td>\n",
       "    </tr>\n",
       "    <tr>\n",
       "      <th>Ana</th>\n",
       "      <td>1.70</td>\n",
       "      <td>54</td>\n",
       "      <td>negro</td>\n",
       "      <td>50000</td>\n",
       "    </tr>\n",
       "  </tbody>\n",
       "</table>\n",
       "</div>"
      ],
      "text/plain": [
       "           Talla  Peso Color Favorito  SalarioMensual\n",
       "Valeria     1.60    60           rojo          230250\n",
       "Tomás       1.90    66       amarillo           28456\n",
       "Alejandro   1.85    56           azul          122408\n",
       "Daniela     1.56    43         morado           77368\n",
       "Jorge       1.40    54        naranja          123150\n",
       "Iván        1.63    72           rosa           30000\n",
       "Maru        1.54    49       plateado           40000\n",
       "Ana         1.70    54          negro           50000"
      ]
     },
     "execution_count": 8,
     "metadata": {},
     "output_type": "execute_result"
    }
   ],
   "source": [
    "df"
   ]
  },
  {
   "cell_type": "markdown",
   "metadata": {},
   "source": [
    "### 2. type - muestra el tipo de datos\n"
   ]
  },
  {
   "cell_type": "code",
   "execution_count": 9,
   "metadata": {},
   "outputs": [
    {
     "data": {
      "text/plain": [
       "pandas.core.frame.DataFrame"
      ]
     },
     "execution_count": 9,
     "metadata": {},
     "output_type": "execute_result"
    }
   ],
   "source": [
    "type(df)"
   ]
  },
  {
   "cell_type": "markdown",
   "metadata": {},
   "source": [
    "### 3. head - muestra las primeras 5 filas\n"
   ]
  },
  {
   "cell_type": "code",
   "execution_count": 10,
   "metadata": {},
   "outputs": [
    {
     "data": {
      "text/html": [
       "<div>\n",
       "<style scoped>\n",
       "    .dataframe tbody tr th:only-of-type {\n",
       "        vertical-align: middle;\n",
       "    }\n",
       "\n",
       "    .dataframe tbody tr th {\n",
       "        vertical-align: top;\n",
       "    }\n",
       "\n",
       "    .dataframe thead th {\n",
       "        text-align: right;\n",
       "    }\n",
       "</style>\n",
       "<table border=\"1\" class=\"dataframe\">\n",
       "  <thead>\n",
       "    <tr style=\"text-align: right;\">\n",
       "      <th></th>\n",
       "      <th>Talla</th>\n",
       "      <th>Peso</th>\n",
       "      <th>Color Favorito</th>\n",
       "      <th>SalarioMensual</th>\n",
       "    </tr>\n",
       "  </thead>\n",
       "  <tbody>\n",
       "    <tr>\n",
       "      <th>Valeria</th>\n",
       "      <td>1.60</td>\n",
       "      <td>60</td>\n",
       "      <td>rojo</td>\n",
       "      <td>230250</td>\n",
       "    </tr>\n",
       "    <tr>\n",
       "      <th>Tomás</th>\n",
       "      <td>1.90</td>\n",
       "      <td>66</td>\n",
       "      <td>amarillo</td>\n",
       "      <td>28456</td>\n",
       "    </tr>\n",
       "    <tr>\n",
       "      <th>Alejandro</th>\n",
       "      <td>1.85</td>\n",
       "      <td>56</td>\n",
       "      <td>azul</td>\n",
       "      <td>122408</td>\n",
       "    </tr>\n",
       "    <tr>\n",
       "      <th>Daniela</th>\n",
       "      <td>1.56</td>\n",
       "      <td>43</td>\n",
       "      <td>morado</td>\n",
       "      <td>77368</td>\n",
       "    </tr>\n",
       "    <tr>\n",
       "      <th>Jorge</th>\n",
       "      <td>1.40</td>\n",
       "      <td>54</td>\n",
       "      <td>naranja</td>\n",
       "      <td>123150</td>\n",
       "    </tr>\n",
       "  </tbody>\n",
       "</table>\n",
       "</div>"
      ],
      "text/plain": [
       "           Talla  Peso Color Favorito  SalarioMensual\n",
       "Valeria     1.60    60           rojo          230250\n",
       "Tomás       1.90    66       amarillo           28456\n",
       "Alejandro   1.85    56           azul          122408\n",
       "Daniela     1.56    43         morado           77368\n",
       "Jorge       1.40    54        naranja          123150"
      ]
     },
     "execution_count": 10,
     "metadata": {},
     "output_type": "execute_result"
    }
   ],
   "source": [
    "df.head()"
   ]
  },
  {
   "cell_type": "markdown",
   "metadata": {},
   "source": [
    "### 4. tail - muestra las últimas 5 filas\n"
   ]
  },
  {
   "cell_type": "code",
   "execution_count": 11,
   "metadata": {},
   "outputs": [
    {
     "data": {
      "text/html": [
       "<div>\n",
       "<style scoped>\n",
       "    .dataframe tbody tr th:only-of-type {\n",
       "        vertical-align: middle;\n",
       "    }\n",
       "\n",
       "    .dataframe tbody tr th {\n",
       "        vertical-align: top;\n",
       "    }\n",
       "\n",
       "    .dataframe thead th {\n",
       "        text-align: right;\n",
       "    }\n",
       "</style>\n",
       "<table border=\"1\" class=\"dataframe\">\n",
       "  <thead>\n",
       "    <tr style=\"text-align: right;\">\n",
       "      <th></th>\n",
       "      <th>Talla</th>\n",
       "      <th>Peso</th>\n",
       "      <th>Color Favorito</th>\n",
       "      <th>SalarioMensual</th>\n",
       "    </tr>\n",
       "  </thead>\n",
       "  <tbody>\n",
       "    <tr>\n",
       "      <th>Daniela</th>\n",
       "      <td>1.56</td>\n",
       "      <td>43</td>\n",
       "      <td>morado</td>\n",
       "      <td>77368</td>\n",
       "    </tr>\n",
       "    <tr>\n",
       "      <th>Jorge</th>\n",
       "      <td>1.40</td>\n",
       "      <td>54</td>\n",
       "      <td>naranja</td>\n",
       "      <td>123150</td>\n",
       "    </tr>\n",
       "    <tr>\n",
       "      <th>Iván</th>\n",
       "      <td>1.63</td>\n",
       "      <td>72</td>\n",
       "      <td>rosa</td>\n",
       "      <td>30000</td>\n",
       "    </tr>\n",
       "    <tr>\n",
       "      <th>Maru</th>\n",
       "      <td>1.54</td>\n",
       "      <td>49</td>\n",
       "      <td>plateado</td>\n",
       "      <td>40000</td>\n",
       "    </tr>\n",
       "    <tr>\n",
       "      <th>Ana</th>\n",
       "      <td>1.70</td>\n",
       "      <td>54</td>\n",
       "      <td>negro</td>\n",
       "      <td>50000</td>\n",
       "    </tr>\n",
       "  </tbody>\n",
       "</table>\n",
       "</div>"
      ],
      "text/plain": [
       "         Talla  Peso Color Favorito  SalarioMensual\n",
       "Daniela   1.56    43         morado           77368\n",
       "Jorge     1.40    54        naranja          123150\n",
       "Iván      1.63    72           rosa           30000\n",
       "Maru      1.54    49       plateado           40000\n",
       "Ana       1.70    54          negro           50000"
      ]
     },
     "execution_count": 11,
     "metadata": {},
     "output_type": "execute_result"
    }
   ],
   "source": [
    "df.tail()"
   ]
  },
  {
   "cell_type": "markdown",
   "metadata": {},
   "source": [
    "### 5. index - muestra los labels\n"
   ]
  },
  {
   "cell_type": "code",
   "execution_count": 12,
   "metadata": {},
   "outputs": [
    {
     "data": {
      "text/plain": [
       "Index(['Valeria', 'Tomás', 'Alejandro', 'Daniela', 'Jorge', 'Iván', 'Maru',\n",
       "       'Ana'],\n",
       "      dtype='object')"
      ]
     },
     "execution_count": 12,
     "metadata": {},
     "output_type": "execute_result"
    }
   ],
   "source": [
    "df.index"
   ]
  },
  {
   "cell_type": "markdown",
   "metadata": {},
   "source": [
    "### 6. columns - muestra las columnas\n"
   ]
  },
  {
   "cell_type": "code",
   "execution_count": 13,
   "metadata": {},
   "outputs": [
    {
     "data": {
      "text/plain": [
       "Index(['Talla', 'Peso', 'Color Favorito', 'SalarioMensual'], dtype='object')"
      ]
     },
     "execution_count": 13,
     "metadata": {},
     "output_type": "execute_result"
    }
   ],
   "source": [
    "df.columns"
   ]
  },
  {
   "cell_type": "markdown",
   "metadata": {},
   "source": [
    "### 7. dtypes - muestra los tipos de datos de cada columna\n"
   ]
  },
  {
   "cell_type": "code",
   "execution_count": 14,
   "metadata": {},
   "outputs": [
    {
     "data": {
      "text/plain": [
       "Talla             float64\n",
       "Peso                int64\n",
       "Color Favorito     object\n",
       "SalarioMensual      int64\n",
       "dtype: object"
      ]
     },
     "execution_count": 14,
     "metadata": {},
     "output_type": "execute_result"
    }
   ],
   "source": [
    "df.dtypes"
   ]
  },
  {
   "cell_type": "markdown",
   "metadata": {},
   "source": [
    "### 8. shape - muestra numero de filas y columnas\n"
   ]
  },
  {
   "cell_type": "code",
   "execution_count": 15,
   "metadata": {},
   "outputs": [
    {
     "data": {
      "text/plain": [
       "(8, 4)"
      ]
     },
     "execution_count": 15,
     "metadata": {},
     "output_type": "execute_result"
    }
   ],
   "source": [
    "df.shape"
   ]
  },
  {
   "cell_type": "markdown",
   "metadata": {},
   "source": [
    "### 9. values - numpy array\n"
   ]
  },
  {
   "cell_type": "code",
   "execution_count": 16,
   "metadata": {},
   "outputs": [
    {
     "data": {
      "text/plain": [
       "array([[1.6, 60, 'rojo', 230250],\n",
       "       [1.9, 66, 'amarillo', 28456],\n",
       "       [1.85, 56, 'azul', 122408],\n",
       "       [1.56, 43, 'morado', 77368],\n",
       "       [1.4, 54, 'naranja', 123150],\n",
       "       [1.63, 72, 'rosa', 30000],\n",
       "       [1.54, 49, 'plateado', 40000],\n",
       "       [1.7, 54, 'negro', 50000]], dtype=object)"
      ]
     },
     "execution_count": 16,
     "metadata": {},
     "output_type": "execute_result"
    }
   ],
   "source": [
    "df.values"
   ]
  },
  {
   "cell_type": "markdown",
   "metadata": {},
   "source": [
    "### 10. info() - resume la info del dataframe\n"
   ]
  },
  {
   "cell_type": "code",
   "execution_count": 17,
   "metadata": {},
   "outputs": [
    {
     "name": "stdout",
     "output_type": "stream",
     "text": [
      "<class 'pandas.core.frame.DataFrame'>\n",
      "Index: 8 entries, Valeria to Ana\n",
      "Data columns (total 4 columns):\n",
      " #   Column          Non-Null Count  Dtype  \n",
      "---  ------          --------------  -----  \n",
      " 0   Talla           8 non-null      float64\n",
      " 1   Peso            8 non-null      int64  \n",
      " 2   Color Favorito  8 non-null      object \n",
      " 3   SalarioMensual  8 non-null      int64  \n",
      "dtypes: float64(1), int64(2), object(1)\n",
      "memory usage: 320.0+ bytes\n"
     ]
    }
   ],
   "source": [
    "df.info()"
   ]
  },
  {
   "cell_type": "markdown",
   "metadata": {},
   "source": [
    "## **Ejercicio 8**\n",
    "\n",
    "(10 puntos) Agrega una columna derivada que indique si el salario es mayor o menor al promedio.\n"
   ]
  },
  {
   "cell_type": "code",
   "execution_count": 18,
   "metadata": {},
   "outputs": [
    {
     "data": {
      "text/html": [
       "<div>\n",
       "<style scoped>\n",
       "    .dataframe tbody tr th:only-of-type {\n",
       "        vertical-align: middle;\n",
       "    }\n",
       "\n",
       "    .dataframe tbody tr th {\n",
       "        vertical-align: top;\n",
       "    }\n",
       "\n",
       "    .dataframe thead th {\n",
       "        text-align: right;\n",
       "    }\n",
       "</style>\n",
       "<table border=\"1\" class=\"dataframe\">\n",
       "  <thead>\n",
       "    <tr style=\"text-align: right;\">\n",
       "      <th></th>\n",
       "      <th>Talla</th>\n",
       "      <th>Peso</th>\n",
       "      <th>Color Favorito</th>\n",
       "      <th>SalarioMensual</th>\n",
       "      <th>mayor_menor</th>\n",
       "    </tr>\n",
       "  </thead>\n",
       "  <tbody>\n",
       "    <tr>\n",
       "      <th>Valeria</th>\n",
       "      <td>1.60</td>\n",
       "      <td>60</td>\n",
       "      <td>rojo</td>\n",
       "      <td>230250</td>\n",
       "      <td>Mayor</td>\n",
       "    </tr>\n",
       "    <tr>\n",
       "      <th>Tomás</th>\n",
       "      <td>1.90</td>\n",
       "      <td>66</td>\n",
       "      <td>amarillo</td>\n",
       "      <td>28456</td>\n",
       "      <td>Menor</td>\n",
       "    </tr>\n",
       "    <tr>\n",
       "      <th>Alejandro</th>\n",
       "      <td>1.85</td>\n",
       "      <td>56</td>\n",
       "      <td>azul</td>\n",
       "      <td>122408</td>\n",
       "      <td>Mayor</td>\n",
       "    </tr>\n",
       "    <tr>\n",
       "      <th>Daniela</th>\n",
       "      <td>1.56</td>\n",
       "      <td>43</td>\n",
       "      <td>morado</td>\n",
       "      <td>77368</td>\n",
       "      <td>Menor</td>\n",
       "    </tr>\n",
       "    <tr>\n",
       "      <th>Jorge</th>\n",
       "      <td>1.40</td>\n",
       "      <td>54</td>\n",
       "      <td>naranja</td>\n",
       "      <td>123150</td>\n",
       "      <td>Mayor</td>\n",
       "    </tr>\n",
       "    <tr>\n",
       "      <th>Iván</th>\n",
       "      <td>1.63</td>\n",
       "      <td>72</td>\n",
       "      <td>rosa</td>\n",
       "      <td>30000</td>\n",
       "      <td>Menor</td>\n",
       "    </tr>\n",
       "    <tr>\n",
       "      <th>Maru</th>\n",
       "      <td>1.54</td>\n",
       "      <td>49</td>\n",
       "      <td>plateado</td>\n",
       "      <td>40000</td>\n",
       "      <td>Menor</td>\n",
       "    </tr>\n",
       "    <tr>\n",
       "      <th>Ana</th>\n",
       "      <td>1.70</td>\n",
       "      <td>54</td>\n",
       "      <td>negro</td>\n",
       "      <td>50000</td>\n",
       "      <td>Menor</td>\n",
       "    </tr>\n",
       "  </tbody>\n",
       "</table>\n",
       "</div>"
      ],
      "text/plain": [
       "           Talla  Peso Color Favorito  SalarioMensual mayor_menor\n",
       "Valeria     1.60    60           rojo          230250       Mayor\n",
       "Tomás       1.90    66       amarillo           28456       Menor\n",
       "Alejandro   1.85    56           azul          122408       Mayor\n",
       "Daniela     1.56    43         morado           77368       Menor\n",
       "Jorge       1.40    54        naranja          123150       Mayor\n",
       "Iván        1.63    72           rosa           30000       Menor\n",
       "Maru        1.54    49       plateado           40000       Menor\n",
       "Ana         1.70    54          negro           50000       Menor"
      ]
     },
     "execution_count": 18,
     "metadata": {},
     "output_type": "execute_result"
    }
   ],
   "source": [
    "salarios_promedios = df[\"SalarioMensual\"].mean()\n",
    "df[\"mayor_menor\"] = [\n",
    "    \"Mayor\" if i >= salarios_promedios else \"Menor\" for i in df[\"SalarioMensual\"]\n",
    "]\n",
    "df"
   ]
  },
  {
   "cell_type": "markdown",
   "metadata": {},
   "source": [
    "## **Ejercicio 9**\n",
    "\n",
    "(12 pts) Agrega una columna Boolean que indique si el color favorito es cálido o frío.\n"
   ]
  },
  {
   "cell_type": "code",
   "execution_count": 19,
   "metadata": {},
   "outputs": [
    {
     "data": {
      "text/html": [
       "<div>\n",
       "<style scoped>\n",
       "    .dataframe tbody tr th:only-of-type {\n",
       "        vertical-align: middle;\n",
       "    }\n",
       "\n",
       "    .dataframe tbody tr th {\n",
       "        vertical-align: top;\n",
       "    }\n",
       "\n",
       "    .dataframe thead th {\n",
       "        text-align: right;\n",
       "    }\n",
       "</style>\n",
       "<table border=\"1\" class=\"dataframe\">\n",
       "  <thead>\n",
       "    <tr style=\"text-align: right;\">\n",
       "      <th></th>\n",
       "      <th>Talla</th>\n",
       "      <th>Peso</th>\n",
       "      <th>Color Favorito</th>\n",
       "      <th>SalarioMensual</th>\n",
       "      <th>mayor_menor</th>\n",
       "      <th>calido_frio</th>\n",
       "    </tr>\n",
       "  </thead>\n",
       "  <tbody>\n",
       "    <tr>\n",
       "      <th>Valeria</th>\n",
       "      <td>1.60</td>\n",
       "      <td>60</td>\n",
       "      <td>rojo</td>\n",
       "      <td>230250</td>\n",
       "      <td>Mayor</td>\n",
       "      <td>Cálido</td>\n",
       "    </tr>\n",
       "    <tr>\n",
       "      <th>Tomás</th>\n",
       "      <td>1.90</td>\n",
       "      <td>66</td>\n",
       "      <td>amarillo</td>\n",
       "      <td>28456</td>\n",
       "      <td>Menor</td>\n",
       "      <td>Cálido</td>\n",
       "    </tr>\n",
       "    <tr>\n",
       "      <th>Alejandro</th>\n",
       "      <td>1.85</td>\n",
       "      <td>56</td>\n",
       "      <td>azul</td>\n",
       "      <td>122408</td>\n",
       "      <td>Mayor</td>\n",
       "      <td>Frío</td>\n",
       "    </tr>\n",
       "    <tr>\n",
       "      <th>Daniela</th>\n",
       "      <td>1.56</td>\n",
       "      <td>43</td>\n",
       "      <td>morado</td>\n",
       "      <td>77368</td>\n",
       "      <td>Menor</td>\n",
       "      <td>Frío</td>\n",
       "    </tr>\n",
       "    <tr>\n",
       "      <th>Jorge</th>\n",
       "      <td>1.40</td>\n",
       "      <td>54</td>\n",
       "      <td>naranja</td>\n",
       "      <td>123150</td>\n",
       "      <td>Mayor</td>\n",
       "      <td>Cálido</td>\n",
       "    </tr>\n",
       "    <tr>\n",
       "      <th>Iván</th>\n",
       "      <td>1.63</td>\n",
       "      <td>72</td>\n",
       "      <td>rosa</td>\n",
       "      <td>30000</td>\n",
       "      <td>Menor</td>\n",
       "      <td>Frío</td>\n",
       "    </tr>\n",
       "    <tr>\n",
       "      <th>Maru</th>\n",
       "      <td>1.54</td>\n",
       "      <td>49</td>\n",
       "      <td>plateado</td>\n",
       "      <td>40000</td>\n",
       "      <td>Menor</td>\n",
       "      <td>Frío</td>\n",
       "    </tr>\n",
       "    <tr>\n",
       "      <th>Ana</th>\n",
       "      <td>1.70</td>\n",
       "      <td>54</td>\n",
       "      <td>negro</td>\n",
       "      <td>50000</td>\n",
       "      <td>Menor</td>\n",
       "      <td>Frío</td>\n",
       "    </tr>\n",
       "  </tbody>\n",
       "</table>\n",
       "</div>"
      ],
      "text/plain": [
       "           Talla  Peso Color Favorito  SalarioMensual mayor_menor calido_frio\n",
       "Valeria     1.60    60           rojo          230250       Mayor      Cálido\n",
       "Tomás       1.90    66       amarillo           28456       Menor      Cálido\n",
       "Alejandro   1.85    56           azul          122408       Mayor        Frío\n",
       "Daniela     1.56    43         morado           77368       Menor        Frío\n",
       "Jorge       1.40    54        naranja          123150       Mayor      Cálido\n",
       "Iván        1.63    72           rosa           30000       Menor        Frío\n",
       "Maru        1.54    49       plateado           40000       Menor        Frío\n",
       "Ana         1.70    54          negro           50000       Menor        Frío"
      ]
     },
     "execution_count": 19,
     "metadata": {},
     "output_type": "execute_result"
    }
   ],
   "source": [
    "calidos = [\"rojo\", \"amarillo\", \"naranja\"]\n",
    "df[\"calido_frio\"] = [\n",
    "    \"Cálido\" if color in calidos else \"Frío\" for color in df[\"Color Favorito\"]\n",
    "]\n",
    "df"
   ]
  },
  {
   "cell_type": "markdown",
   "metadata": {},
   "source": [
    "## **Ejercicio 10**\n",
    "\n",
    "(15 pts) Incluir 3 consultas simples y 3 consultas con múltiples condiciones lógicas. No olviden incluir una descripción de lo que realiza cada consulta.\n"
   ]
  },
  {
   "cell_type": "markdown",
   "metadata": {},
   "source": [
    "### 1. Consulta simple: Seleccionar a las personas con peso mayor a 50 kg.\n"
   ]
  },
  {
   "cell_type": "code",
   "execution_count": 20,
   "metadata": {},
   "outputs": [
    {
     "data": {
      "text/html": [
       "<div>\n",
       "<style scoped>\n",
       "    .dataframe tbody tr th:only-of-type {\n",
       "        vertical-align: middle;\n",
       "    }\n",
       "\n",
       "    .dataframe tbody tr th {\n",
       "        vertical-align: top;\n",
       "    }\n",
       "\n",
       "    .dataframe thead th {\n",
       "        text-align: right;\n",
       "    }\n",
       "</style>\n",
       "<table border=\"1\" class=\"dataframe\">\n",
       "  <thead>\n",
       "    <tr style=\"text-align: right;\">\n",
       "      <th></th>\n",
       "      <th>Talla</th>\n",
       "      <th>Peso</th>\n",
       "      <th>Color Favorito</th>\n",
       "      <th>SalarioMensual</th>\n",
       "      <th>mayor_menor</th>\n",
       "      <th>calido_frio</th>\n",
       "    </tr>\n",
       "  </thead>\n",
       "  <tbody>\n",
       "    <tr>\n",
       "      <th>Valeria</th>\n",
       "      <td>1.60</td>\n",
       "      <td>60</td>\n",
       "      <td>rojo</td>\n",
       "      <td>230250</td>\n",
       "      <td>Mayor</td>\n",
       "      <td>Cálido</td>\n",
       "    </tr>\n",
       "    <tr>\n",
       "      <th>Tomás</th>\n",
       "      <td>1.90</td>\n",
       "      <td>66</td>\n",
       "      <td>amarillo</td>\n",
       "      <td>28456</td>\n",
       "      <td>Menor</td>\n",
       "      <td>Cálido</td>\n",
       "    </tr>\n",
       "    <tr>\n",
       "      <th>Alejandro</th>\n",
       "      <td>1.85</td>\n",
       "      <td>56</td>\n",
       "      <td>azul</td>\n",
       "      <td>122408</td>\n",
       "      <td>Mayor</td>\n",
       "      <td>Frío</td>\n",
       "    </tr>\n",
       "    <tr>\n",
       "      <th>Jorge</th>\n",
       "      <td>1.40</td>\n",
       "      <td>54</td>\n",
       "      <td>naranja</td>\n",
       "      <td>123150</td>\n",
       "      <td>Mayor</td>\n",
       "      <td>Cálido</td>\n",
       "    </tr>\n",
       "    <tr>\n",
       "      <th>Iván</th>\n",
       "      <td>1.63</td>\n",
       "      <td>72</td>\n",
       "      <td>rosa</td>\n",
       "      <td>30000</td>\n",
       "      <td>Menor</td>\n",
       "      <td>Frío</td>\n",
       "    </tr>\n",
       "    <tr>\n",
       "      <th>Ana</th>\n",
       "      <td>1.70</td>\n",
       "      <td>54</td>\n",
       "      <td>negro</td>\n",
       "      <td>50000</td>\n",
       "      <td>Menor</td>\n",
       "      <td>Frío</td>\n",
       "    </tr>\n",
       "  </tbody>\n",
       "</table>\n",
       "</div>"
      ],
      "text/plain": [
       "           Talla  Peso Color Favorito  SalarioMensual mayor_menor calido_frio\n",
       "Valeria     1.60    60           rojo          230250       Mayor      Cálido\n",
       "Tomás       1.90    66       amarillo           28456       Menor      Cálido\n",
       "Alejandro   1.85    56           azul          122408       Mayor        Frío\n",
       "Jorge       1.40    54        naranja          123150       Mayor      Cálido\n",
       "Iván        1.63    72           rosa           30000       Menor        Frío\n",
       "Ana         1.70    54          negro           50000       Menor        Frío"
      ]
     },
     "execution_count": 20,
     "metadata": {},
     "output_type": "execute_result"
    }
   ],
   "source": [
    "df[df['Peso'] > 50]"
   ]
  },
  {
   "cell_type": "markdown",
   "metadata": {},
   "source": [
    "### 2. Consulta simple: Personas que miden más de 1.70 mts."
   ]
  },
  {
   "cell_type": "code",
   "execution_count": 21,
   "metadata": {},
   "outputs": [
    {
     "data": {
      "text/html": [
       "<div>\n",
       "<style scoped>\n",
       "    .dataframe tbody tr th:only-of-type {\n",
       "        vertical-align: middle;\n",
       "    }\n",
       "\n",
       "    .dataframe tbody tr th {\n",
       "        vertical-align: top;\n",
       "    }\n",
       "\n",
       "    .dataframe thead th {\n",
       "        text-align: right;\n",
       "    }\n",
       "</style>\n",
       "<table border=\"1\" class=\"dataframe\">\n",
       "  <thead>\n",
       "    <tr style=\"text-align: right;\">\n",
       "      <th></th>\n",
       "      <th>Talla</th>\n",
       "      <th>Peso</th>\n",
       "      <th>Color Favorito</th>\n",
       "      <th>SalarioMensual</th>\n",
       "      <th>mayor_menor</th>\n",
       "      <th>calido_frio</th>\n",
       "    </tr>\n",
       "  </thead>\n",
       "  <tbody>\n",
       "    <tr>\n",
       "      <th>Tomás</th>\n",
       "      <td>1.90</td>\n",
       "      <td>66</td>\n",
       "      <td>amarillo</td>\n",
       "      <td>28456</td>\n",
       "      <td>Menor</td>\n",
       "      <td>Cálido</td>\n",
       "    </tr>\n",
       "    <tr>\n",
       "      <th>Alejandro</th>\n",
       "      <td>1.85</td>\n",
       "      <td>56</td>\n",
       "      <td>azul</td>\n",
       "      <td>122408</td>\n",
       "      <td>Mayor</td>\n",
       "      <td>Frío</td>\n",
       "    </tr>\n",
       "  </tbody>\n",
       "</table>\n",
       "</div>"
      ],
      "text/plain": [
       "           Talla  Peso Color Favorito  SalarioMensual mayor_menor calido_frio\n",
       "Tomás       1.90    66       amarillo           28456       Menor      Cálido\n",
       "Alejandro   1.85    56           azul          122408       Mayor        Frío"
      ]
     },
     "execution_count": 21,
     "metadata": {},
     "output_type": "execute_result"
    }
   ],
   "source": [
    "df[df['Talla'] > 1.70]"
   ]
  },
  {
   "cell_type": "markdown",
   "metadata": {},
   "source": [
    "### 3. Consulta simple: Personas que les gusta un color cálido."
   ]
  },
  {
   "cell_type": "code",
   "execution_count": 22,
   "metadata": {},
   "outputs": [
    {
     "data": {
      "text/html": [
       "<div>\n",
       "<style scoped>\n",
       "    .dataframe tbody tr th:only-of-type {\n",
       "        vertical-align: middle;\n",
       "    }\n",
       "\n",
       "    .dataframe tbody tr th {\n",
       "        vertical-align: top;\n",
       "    }\n",
       "\n",
       "    .dataframe thead th {\n",
       "        text-align: right;\n",
       "    }\n",
       "</style>\n",
       "<table border=\"1\" class=\"dataframe\">\n",
       "  <thead>\n",
       "    <tr style=\"text-align: right;\">\n",
       "      <th></th>\n",
       "      <th>Talla</th>\n",
       "      <th>Peso</th>\n",
       "      <th>Color Favorito</th>\n",
       "      <th>SalarioMensual</th>\n",
       "      <th>mayor_menor</th>\n",
       "      <th>calido_frio</th>\n",
       "    </tr>\n",
       "  </thead>\n",
       "  <tbody>\n",
       "    <tr>\n",
       "      <th>Valeria</th>\n",
       "      <td>1.6</td>\n",
       "      <td>60</td>\n",
       "      <td>rojo</td>\n",
       "      <td>230250</td>\n",
       "      <td>Mayor</td>\n",
       "      <td>Cálido</td>\n",
       "    </tr>\n",
       "    <tr>\n",
       "      <th>Tomás</th>\n",
       "      <td>1.9</td>\n",
       "      <td>66</td>\n",
       "      <td>amarillo</td>\n",
       "      <td>28456</td>\n",
       "      <td>Menor</td>\n",
       "      <td>Cálido</td>\n",
       "    </tr>\n",
       "    <tr>\n",
       "      <th>Jorge</th>\n",
       "      <td>1.4</td>\n",
       "      <td>54</td>\n",
       "      <td>naranja</td>\n",
       "      <td>123150</td>\n",
       "      <td>Mayor</td>\n",
       "      <td>Cálido</td>\n",
       "    </tr>\n",
       "  </tbody>\n",
       "</table>\n",
       "</div>"
      ],
      "text/plain": [
       "         Talla  Peso Color Favorito  SalarioMensual mayor_menor calido_frio\n",
       "Valeria    1.6    60           rojo          230250       Mayor      Cálido\n",
       "Tomás      1.9    66       amarillo           28456       Menor      Cálido\n",
       "Jorge      1.4    54        naranja          123150       Mayor      Cálido"
      ]
     },
     "execution_count": 22,
     "metadata": {},
     "output_type": "execute_result"
    }
   ],
   "source": [
    "df[df['calido_frio'] == 'Cálido']"
   ]
  },
  {
   "cell_type": "markdown",
   "metadata": {},
   "source": [
    "### 4. Consulta multiple: Personas que miden más de 1.70 mts y les gusta un color cálido.\n"
   ]
  },
  {
   "cell_type": "code",
   "execution_count": 23,
   "metadata": {},
   "outputs": [
    {
     "data": {
      "text/html": [
       "<div>\n",
       "<style scoped>\n",
       "    .dataframe tbody tr th:only-of-type {\n",
       "        vertical-align: middle;\n",
       "    }\n",
       "\n",
       "    .dataframe tbody tr th {\n",
       "        vertical-align: top;\n",
       "    }\n",
       "\n",
       "    .dataframe thead th {\n",
       "        text-align: right;\n",
       "    }\n",
       "</style>\n",
       "<table border=\"1\" class=\"dataframe\">\n",
       "  <thead>\n",
       "    <tr style=\"text-align: right;\">\n",
       "      <th></th>\n",
       "      <th>Talla</th>\n",
       "      <th>Peso</th>\n",
       "      <th>Color Favorito</th>\n",
       "      <th>SalarioMensual</th>\n",
       "      <th>mayor_menor</th>\n",
       "      <th>calido_frio</th>\n",
       "    </tr>\n",
       "  </thead>\n",
       "  <tbody>\n",
       "    <tr>\n",
       "      <th>Tomás</th>\n",
       "      <td>1.9</td>\n",
       "      <td>66</td>\n",
       "      <td>amarillo</td>\n",
       "      <td>28456</td>\n",
       "      <td>Menor</td>\n",
       "      <td>Cálido</td>\n",
       "    </tr>\n",
       "  </tbody>\n",
       "</table>\n",
       "</div>"
      ],
      "text/plain": [
       "       Talla  Peso Color Favorito  SalarioMensual mayor_menor calido_frio\n",
       "Tomás    1.9    66       amarillo           28456       Menor      Cálido"
      ]
     },
     "execution_count": 23,
     "metadata": {},
     "output_type": "execute_result"
    }
   ],
   "source": [
    "df[(df['Talla'] > 1.70) & (df['calido_frio'] == 'Cálido')]"
   ]
  },
  {
   "cell_type": "markdown",
   "metadata": {},
   "source": [
    "### 5. Consulta multiple: Personas tienen un salario mayor al promedio y su color favorito es rojo."
   ]
  },
  {
   "cell_type": "code",
   "execution_count": 29,
   "metadata": {},
   "outputs": [
    {
     "data": {
      "text/html": [
       "<div>\n",
       "<style scoped>\n",
       "    .dataframe tbody tr th:only-of-type {\n",
       "        vertical-align: middle;\n",
       "    }\n",
       "\n",
       "    .dataframe tbody tr th {\n",
       "        vertical-align: top;\n",
       "    }\n",
       "\n",
       "    .dataframe thead th {\n",
       "        text-align: right;\n",
       "    }\n",
       "</style>\n",
       "<table border=\"1\" class=\"dataframe\">\n",
       "  <thead>\n",
       "    <tr style=\"text-align: right;\">\n",
       "      <th></th>\n",
       "      <th>Talla</th>\n",
       "      <th>Peso</th>\n",
       "      <th>Color Favorito</th>\n",
       "      <th>SalarioMensual</th>\n",
       "      <th>mayor_menor</th>\n",
       "      <th>calido_frio</th>\n",
       "    </tr>\n",
       "  </thead>\n",
       "  <tbody>\n",
       "    <tr>\n",
       "      <th>Valeria</th>\n",
       "      <td>1.6</td>\n",
       "      <td>60</td>\n",
       "      <td>rojo</td>\n",
       "      <td>230250</td>\n",
       "      <td>Mayor</td>\n",
       "      <td>Cálido</td>\n",
       "    </tr>\n",
       "  </tbody>\n",
       "</table>\n",
       "</div>"
      ],
      "text/plain": [
       "         Talla  Peso Color Favorito  SalarioMensual mayor_menor calido_frio\n",
       "Valeria    1.6    60           rojo          230250       Mayor      Cálido"
      ]
     },
     "execution_count": 29,
     "metadata": {},
     "output_type": "execute_result"
    }
   ],
   "source": [
    "df[(df['mayor_menor'] == 'Mayor') & (df['Color Favorito'] == 'rojo')]"
   ]
  },
  {
   "cell_type": "markdown",
   "metadata": {},
   "source": [
    "### 6. Consulta multiple: Personas que pesan menos de 60kg y el salario es menor al promedio."
   ]
  },
  {
   "cell_type": "code",
   "execution_count": 25,
   "metadata": {},
   "outputs": [
    {
     "data": {
      "text/html": [
       "<div>\n",
       "<style scoped>\n",
       "    .dataframe tbody tr th:only-of-type {\n",
       "        vertical-align: middle;\n",
       "    }\n",
       "\n",
       "    .dataframe tbody tr th {\n",
       "        vertical-align: top;\n",
       "    }\n",
       "\n",
       "    .dataframe thead th {\n",
       "        text-align: right;\n",
       "    }\n",
       "</style>\n",
       "<table border=\"1\" class=\"dataframe\">\n",
       "  <thead>\n",
       "    <tr style=\"text-align: right;\">\n",
       "      <th></th>\n",
       "      <th>Talla</th>\n",
       "      <th>Peso</th>\n",
       "      <th>Color Favorito</th>\n",
       "      <th>SalarioMensual</th>\n",
       "      <th>mayor_menor</th>\n",
       "      <th>calido_frio</th>\n",
       "    </tr>\n",
       "  </thead>\n",
       "  <tbody>\n",
       "    <tr>\n",
       "      <th>Daniela</th>\n",
       "      <td>1.56</td>\n",
       "      <td>43</td>\n",
       "      <td>morado</td>\n",
       "      <td>77368</td>\n",
       "      <td>Menor</td>\n",
       "      <td>Frío</td>\n",
       "    </tr>\n",
       "    <tr>\n",
       "      <th>Maru</th>\n",
       "      <td>1.54</td>\n",
       "      <td>49</td>\n",
       "      <td>plateado</td>\n",
       "      <td>40000</td>\n",
       "      <td>Menor</td>\n",
       "      <td>Frío</td>\n",
       "    </tr>\n",
       "    <tr>\n",
       "      <th>Ana</th>\n",
       "      <td>1.70</td>\n",
       "      <td>54</td>\n",
       "      <td>negro</td>\n",
       "      <td>50000</td>\n",
       "      <td>Menor</td>\n",
       "      <td>Frío</td>\n",
       "    </tr>\n",
       "  </tbody>\n",
       "</table>\n",
       "</div>"
      ],
      "text/plain": [
       "         Talla  Peso Color Favorito  SalarioMensual mayor_menor calido_frio\n",
       "Daniela   1.56    43         morado           77368       Menor        Frío\n",
       "Maru      1.54    49       plateado           40000       Menor        Frío\n",
       "Ana       1.70    54          negro           50000       Menor        Frío"
      ]
     },
     "execution_count": 25,
     "metadata": {},
     "output_type": "execute_result"
    }
   ],
   "source": [
    "df[(df['Peso'] < 60) & (df['mayor_menor'] == 'Menor')]"
   ]
  }
 ],
 "metadata": {
  "kernelspec": {
   "display_name": "Python 3",
   "language": "python",
   "name": "python3"
  },
  "language_info": {
   "codemirror_mode": {
    "name": "ipython",
    "version": 3
   },
   "file_extension": ".py",
   "mimetype": "text/x-python",
   "name": "python",
   "nbconvert_exporter": "python",
   "pygments_lexer": "ipython3",
   "version": "3.12.3"
  }
 },
 "nbformat": 4,
 "nbformat_minor": 2
}
