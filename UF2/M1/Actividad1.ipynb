{
  "cells": [
    {
      "cell_type": "markdown",
      "metadata": {},
      "source": [
        "# Actividad introductoria "
      ]
    },
    {
      "cell_type": "markdown",
      "metadata": {},
      "source": [
        "- Iván Ricardo Paredes Avilez A01705083\n",
        "- Jorge Emiliano Pomar Mendoza A01709338\n",
        "\n",
        "    Fecha: 11 de febrero de 2025"
      ]
    },
    {
      "cell_type": "markdown",
      "metadata": {},
      "source": [
        "Índice \n",
        "1. [Ice Breakers](#Ice-Breakers)\n",
        "2. [Diferencias entre Analítica de Datos y Ciencia de Datos](#Diferencias-entre-Analítica-de-Datos-y-Ciencia-de-Datos)\n",
        "3. [Conclusiones](#Conclusiones)\n",
        "4. [Referencias](#Referencias)"
      ]
    },
    {
      "cell_type": "markdown",
      "metadata": {
        "id": "kJogkQgVJGfD"
      },
      "source": [
        "\n",
        "## Ice Breakers"
      ]
    },
    {
      "cell_type": "markdown",
      "metadata": {
        "id": "luqkKX1CJa7T"
      },
      "source": [
        "1. ¿Cuál es tu pasatiempo favorito y por qué?\n",
        "- Iván: Ver reels de instagram porque el algoritmo me conoce tan bien que me la paso riendo un buen rato.\n",
        "- Emi: Ver películas y escuchar música. \n"
      ]
    },
    {
      "cell_type": "markdown",
      "metadata": {
        "id": "VDd7LThQK4rj"
      },
      "source": [
        "2. Si pudieras viajar a cualquier lugar del mundo, ¿a dónde irías y por qué?\n",
        "- Iván: Dubai porque está a otro nivel de vida.\n",
        "- Emi: Japón, me gustaría conocer la cultura y la tecnología que tienen.\n",
        "\n"
      ]
    },
    {
      "cell_type": "markdown",
      "metadata": {},
      "source": [
        "3. ¿Tienes alguna mascota? Cuéntame sobre ella.\n",
        "- Iván: Tengo un perro. Se llama Chewie. Es un chow chow. Tiene 9 años\n",
        "- Emi: Tengo 2 gatos. Janis y Tomás"
      ]
    },
    {
      "cell_type": "markdown",
      "metadata": {},
      "source": [
        "4. ¿Cuál es tu película o serie favorita?\n",
        "- Iván: Mi serie favorita es Game of Thrones\n",
        "- Emi: Doctor House"
      ]
    },
    {
      "cell_type": "markdown",
      "metadata": {},
      "source": [
        "5. ¿Qué tipo de música te gusta escuchar?\n",
        "- Iván: Me gusta el Pop y la música EDM\n",
        "- Emi: Los corridos tumbados. "
      ]
    },
    {
      "cell_type": "markdown",
      "metadata": {},
      "source": [
        "6. Si pudieras tener un superpoder, ¿cuál elegirías?\n",
        "- Iván: Volar\n",
        "- Emi: Detener el tiempo"
      ]
    },
    {
      "cell_type": "markdown",
      "metadata": {
        "vscode": {
          "languageId": "plaintext"
        }
      },
      "source": [
        "7. ¿Cuál es el libro que más te ha impactado?\n",
        "- Iván: Harry Potter\n",
        "- Emi: Los juegos del Hambre"
      ]
    },
    {
      "cell_type": "markdown",
      "metadata": {},
      "source": [
        "8. ¿Cuál ha sido tu mejor experiencia en la escuela hasta ahora?\n",
        "- Iván: Haber pasado sexto semestre.\n",
        "- Emi: Crear una solución de software que al socio formador le funcionó y siguió utilizando."
      ]
    },
    {
      "cell_type": "markdown",
      "metadata": {},
      "source": [
        "9. ¿Qué comida no puedes resistir?\n",
        "- Iván: La pizza.\n",
        "- Emi: Chilaquiles."
      ]
    },
    {
      "cell_type": "markdown",
      "metadata": {},
      "source": [
        "10. ¿Tienes algún talento especial que te gustaría compartir?\n",
        "- Iván: Tocar el piano.\n",
        "- Emi: no tiene."
      ]
    },
    {
      "cell_type": "markdown",
      "metadata": {},
      "source": [
        "## Diferencias entre Analítica de Datos y Ciencia de Datos"
      ]
    },
    {
      "cell_type": "markdown",
      "metadata": {},
      "source": [
        "### 1. ¿Qué es la Analítica de Datos?\n",
        "Es la organización y la interpretación de una muestra de datos para obtener información de valor para la toma de decisiones. \n",
        "(¿Qué Es El Análisis De Datos? - Explicación Del Análisis De Datos - AWS, n.d.)"
      ]
    },
    {
      "cell_type": "markdown",
      "metadata": {
        "vscode": {
          "languageId": "plaintext"
        }
      },
      "source": [
        "### 2. ¿Qué es la Ciencia de Datos?\n",
        "La ciencia de datos es un área que integra conceptos de matemáticas, estadística, inteligencia artificial e ingeniería informática para procesar y analizar grandes volúmenes de información. Su objetivo es identificar patrones y extraer conocimientos valiosos que permitan comprender eventos pasados, predecir futuros resultados y tomar decisiones estratégicas basadas en datos.\n",
        "(¿Qué Es la Ciencia de Datos? - Explicación de la Ciencia de Datos - AWS, s. f.)\n"
      ]
    },
    {
      "cell_type": "markdown",
      "metadata": {},
      "source": [
        "### 3. ¿Cuáles son las principales diferencias entre ambas disciplinas?\n",
        "   \n",
        "La ciencia de datos se enfoca en crear predicciónes con los datos proporcionados mientras que la analítica de datos es darle una interpretación de valor a los datos para tomar decisiones. (Diferencia Entre Data Science Y Data Analytics - Máster En Data Science, 2024)"
      ]
    },
    {
      "cell_type": "markdown",
      "metadata": {},
      "source": [
        "### 4. ¿Qué herramientas (software) y técnicas se utilizan en cada una?\n",
        "En ciencia de datos se utilizan las siguientes herramientas:\n",
        "- SQL\n",
        "- Microsoft Excel\n",
        "- Python\n",
        "- R\n",
        "- Tableau\n",
        "- Power BI\n",
        "- Apache Hadoop\n",
        "- Apache Spark\n",
        "- SAS\n",
        "- Google Analytics\n",
        "  \n",
        "(ISDI España, La Escuela de Negocios de la Era Digital, 2024)\n",
        "\n",
        "En analítica de datos se usan las siguientes herramientas:\n",
        "- Excel para el análisis de datos\n",
        "- Microsoft Power BI\n",
        "- Python\n",
        "- SQL\n",
        "- Programación en R \n",
        "- Tableau \n",
        "- QlikView \n",
        "- Apache Spark \n",
        "(Udecataluña, s. f.)"
      ]
    },
    {
      "cell_type": "markdown",
      "metadata": {},
      "source": [
        "### 5. ¿Qué tipo de respuestas busca responder cada disciplina?\n",
        "   \n",
        "En la ciencia de datos se intenta responder si hay uno o varios patrones en los datos que permitan predecir un resultado futuro. En la analítica de datos se busca responder a preguntas específicas que permitan tomar decisiones basadas en datos. (Diferencia Entre Data Science Y Data Analytics - Máster En Data Science, 2024)"
      ]
    },
    {
      "cell_type": "markdown",
      "metadata": {},
      "source": [
        "## Conclusiones \n",
        "La ciencia de datos abarca un espectro más amplio y busca innovar con modelos avanzados y automatización, mientras que la analítica de datos se enfoca en interpretar y visualizar la información existente para mejorar la toma de decisiones en negocios y otros campos."
      ]
    },
    {
      "cell_type": "markdown",
      "metadata": {},
      "source": [
        "## Referencias \n",
        "\n",
        "¿Qué es el análisis de datos? - Explicación del análisis de datos - AWS. (n.d.). Amazon Web Services, Inc. https://aws.amazon.com/es/what-is/data-analytics/\n",
        "\n",
        "¿Qué es la ciencia de datos? - Explicación de la ciencia de datos - AWS. (s. f.). Amazon Web Services, Inc. https://aws.amazon.com/es/what-is/data-science/\n",
        "\n",
        "Diferencia entre Data Science y Data Analytics - Máster en Data Science. (2024, June 10). Máster En Data Science. https://www.master-data-scientist.com/diferencia-data-science-data-analytics/\n",
        "\n",
        "ISDI España, La Escuela de Negocios de la Era Digital. (2024, 19 marzo). 10 herramientas de análisis de datos imprescindibles. ISDI España. https://www.isdi.education/es/blog/herramientas-de-analisis-de-datos\n",
        "\n",
        "Udecataluña. (s. f.). herramientas de análisis de datos y su importancia. https://www.ucatalunya.edu.co/blog/las-mejores-herramientas-de-analisis-de-datos-y-su-importancia-para-la-toma-de-decisiones\n",
        "\n",
        "\n"
      ]
    }
  ],
  "metadata": {
    "colab": {
      "provenance": []
    },
    "kernelspec": {
      "display_name": "Python 3",
      "name": "python3"
    },
    "language_info": {
      "name": "python"
    }
  },
  "nbformat": 4,
  "nbformat_minor": 0
}
