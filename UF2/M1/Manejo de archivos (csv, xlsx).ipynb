{
 "cells": [
  {
   "cell_type": "markdown",
   "metadata": {
    "id": "SAchEBy74ZHW"
   },
   "source": [
    "# Lectura de fuentes de Datos con Pandas\n",
    "Para este tema usaremos los archivos de ejemplo en [este folder](https://drive.google.com/drive/folders/1mSVesRg7VNjEmBE8laRQqW9Y7ull3OOX?usp=drive_link).\n"
   ]
  },
  {
   "cell_type": "markdown",
   "metadata": {
    "id": "clG3JK4tCMeL"
   },
   "source": [
    "## Lectura de tablas en archivos planos\n",
    "\n",
    "**Pandas** es una librería con gran potencial para lectura de datos. A continuación se enumeran algunas de las facilidades que presenta sus funciones de lectura:\n",
    "\n",
    "* Lidiar con codificaciones extrañas\n",
    "* Encabezados de tablas\n",
    "* Columnas\n",
    "* Parsear columnas de fechas\n",
    "* Setear tipo de datos\n",
    "* Encontrar y localizar datos inválidos\n",
    "* Adjuntar datos a un .csv existente"
   ]
  },
  {
   "cell_type": "markdown",
   "metadata": {
    "id": "-0FOmGFrBPTE"
   },
   "source": [
    "Las funciones `read_csv()` y `read_table()` de **pandas** se utilizan para leer datos desde archivos, pero tienen algunas diferencias clave:\n",
    "\n",
    "### Función read_csv\n",
    "La función `read_csv()` de pandas se utiliza para leer archivos CSV (Comma-Separated Values) y convertirlos en un *DataFrame*.\n",
    "* Delimitador por defecto: Utiliza una coma (`,`) como delimitador.\n",
    "* Uso común: Ideal para archivos **CSV** (Comma-Separated Values).\n",
    "* Parámetros adicionales: Permite especificar el delimitador usando el parámetro `sep`, aunque por defecto ya está configurado para archivos CSV."
   ]
  },
  {
   "cell_type": "code",
   "execution_count": 33,
   "metadata": {
    "colab": {
     "base_uri": "https://localhost:8080/"
    },
    "executionInfo": {
     "elapsed": 200,
     "status": "ok",
     "timestamp": 1723585811260,
     "user": {
      "displayName": "Francisco Javier Navarro Barrón",
      "userId": "10181626055026217558"
     },
     "user_tz": 360
    },
    "id": "PQiwjCigAEtH",
    "outputId": "f41160b1-7911-401d-ec25-d2205c0cd22e"
   },
   "outputs": [
    {
     "name": "stderr",
     "output_type": "stream",
     "text": [
      "\"head\" no se reconoce como un comando interno o externo,\n",
      "programa o archivo por lotes ejecutable.\n"
     ]
    }
   ],
   "source": [
    "# Comando bash para desplegar el contenido\n",
    "!head dates.txt"
   ]
  },
  {
   "cell_type": "code",
   "execution_count": 34,
   "metadata": {
    "colab": {
     "base_uri": "https://localhost:8080/",
     "height": 143
    },
    "executionInfo": {
     "elapsed": 1014,
     "status": "ok",
     "timestamp": 1723585895859,
     "user": {
      "displayName": "Francisco Javier Navarro Barrón",
      "userId": "10181626055026217558"
     },
     "user_tz": 360
    },
    "id": "rfSfG4PH4U6t",
    "outputId": "2ddb2360-cbbd-47d5-bd08-360eb5e42c6f"
   },
   "outputs": [
    {
     "data": {
      "text/html": [
       "<div>\n",
       "<style scoped>\n",
       "    .dataframe tbody tr th:only-of-type {\n",
       "        vertical-align: middle;\n",
       "    }\n",
       "\n",
       "    .dataframe tbody tr th {\n",
       "        vertical-align: top;\n",
       "    }\n",
       "\n",
       "    .dataframe thead th {\n",
       "        text-align: right;\n",
       "    }\n",
       "</style>\n",
       "<table border=\"1\" class=\"dataframe\">\n",
       "  <thead>\n",
       "    <tr style=\"text-align: right;\">\n",
       "      <th></th>\n",
       "      <th>date</th>\n",
       "      <th>product</th>\n",
       "      <th>price</th>\n",
       "    </tr>\n",
       "  </thead>\n",
       "  <tbody>\n",
       "    <tr>\n",
       "      <th>0</th>\n",
       "      <td>1/1/2019</td>\n",
       "      <td>A</td>\n",
       "      <td>10</td>\n",
       "    </tr>\n",
       "    <tr>\n",
       "      <th>1</th>\n",
       "      <td>2/1/2020</td>\n",
       "      <td>B</td>\n",
       "      <td>20</td>\n",
       "    </tr>\n",
       "    <tr>\n",
       "      <th>2</th>\n",
       "      <td>3/1/1998</td>\n",
       "      <td>C</td>\n",
       "      <td>30</td>\n",
       "    </tr>\n",
       "  </tbody>\n",
       "</table>\n",
       "</div>"
      ],
      "text/plain": [
       "       date product  price\n",
       "0  1/1/2019       A     10\n",
       "1  2/1/2020       B     20\n",
       "2  3/1/1998       C     30"
      ]
     },
     "execution_count": 34,
     "metadata": {},
     "output_type": "execute_result"
    }
   ],
   "source": [
    "import pandas as pd\n",
    "\n",
    "df = pd.read_csv('./Files/dates.txt') # sep: coma\n",
    "df"
   ]
  },
  {
   "cell_type": "markdown",
   "metadata": {
    "id": "yHEmuhlKOzNt"
   },
   "source": [
    "`sep`: Delimitador de los campos. Por defecto es una coma (`,`), pero puedes cambiarlo si el archivo usa otro delimitador."
   ]
  },
  {
   "cell_type": "code",
   "execution_count": 35,
   "metadata": {
    "colab": {
     "base_uri": "https://localhost:8080/"
    },
    "executionInfo": {
     "elapsed": 235,
     "status": "ok",
     "timestamp": 1723586148334,
     "user": {
      "displayName": "Francisco Javier Navarro Barrón",
      "userId": "10181626055026217558"
     },
     "user_tz": 360
    },
    "id": "shMCPxYZrNhG",
    "outputId": "fe986e8a-8505-4ae4-dc2b-e5c74a1c9bae"
   },
   "outputs": [
    {
     "name": "stderr",
     "output_type": "stream",
     "text": [
      "\"head\" no se reconoce como un comando interno o externo,\n",
      "programa o archivo por lotes ejecutable.\n"
     ]
    }
   ],
   "source": [
    "!head data.csv"
   ]
  },
  {
   "cell_type": "code",
   "execution_count": 36,
   "metadata": {
    "colab": {
     "base_uri": "https://localhost:8080/",
     "height": 206
    },
    "executionInfo": {
     "elapsed": 235,
     "status": "ok",
     "timestamp": 1723586237164,
     "user": {
      "displayName": "Francisco Javier Navarro Barrón",
      "userId": "10181626055026217558"
     },
     "user_tz": 360
    },
    "id": "MWvrlUqNrdfX",
    "outputId": "a696858c-9dba-4907-ab6b-11e31f5523b1"
   },
   "outputs": [
    {
     "data": {
      "text/html": [
       "<div>\n",
       "<style scoped>\n",
       "    .dataframe tbody tr th:only-of-type {\n",
       "        vertical-align: middle;\n",
       "    }\n",
       "\n",
       "    .dataframe tbody tr th {\n",
       "        vertical-align: top;\n",
       "    }\n",
       "\n",
       "    .dataframe thead th {\n",
       "        text-align: right;\n",
       "    }\n",
       "</style>\n",
       "<table border=\"1\" class=\"dataframe\">\n",
       "  <thead>\n",
       "    <tr style=\"text-align: right;\">\n",
       "      <th></th>\n",
       "      <th>Age</th>\n",
       "      <th>Sex</th>\n",
       "      <th>ID</th>\n",
       "      <th>Race</th>\n",
       "      <th>Country</th>\n",
       "      <th>Education</th>\n",
       "      <th>Education-Num</th>\n",
       "      <th>Marital Status</th>\n",
       "      <th>Relationship</th>\n",
       "    </tr>\n",
       "  </thead>\n",
       "  <tbody>\n",
       "    <tr>\n",
       "      <th>0</th>\n",
       "      <td>39.0</td>\n",
       "      <td>Male</td>\n",
       "      <td>49084</td>\n",
       "      <td>White</td>\n",
       "      <td>United-States</td>\n",
       "      <td>Bachelors</td>\n",
       "      <td>13.0</td>\n",
       "      <td>Never-married</td>\n",
       "      <td>Not-in-family</td>\n",
       "    </tr>\n",
       "    <tr>\n",
       "      <th>1</th>\n",
       "      <td>50.0</td>\n",
       "      <td>Male</td>\n",
       "      <td>68553</td>\n",
       "      <td>White</td>\n",
       "      <td>United-States</td>\n",
       "      <td>Bachelors</td>\n",
       "      <td>13.0</td>\n",
       "      <td>Married-civ-spouse</td>\n",
       "      <td>Husband</td>\n",
       "    </tr>\n",
       "    <tr>\n",
       "      <th>2</th>\n",
       "      <td>38.0</td>\n",
       "      <td>Male</td>\n",
       "      <td>143654</td>\n",
       "      <td>White</td>\n",
       "      <td>United-States</td>\n",
       "      <td>HS-grad</td>\n",
       "      <td>9.0</td>\n",
       "      <td>Divorced</td>\n",
       "      <td>Not-in-family</td>\n",
       "    </tr>\n",
       "    <tr>\n",
       "      <th>3</th>\n",
       "      <td>53.0</td>\n",
       "      <td>Male</td>\n",
       "      <td>41510</td>\n",
       "      <td>Black</td>\n",
       "      <td>United-States</td>\n",
       "      <td>11th</td>\n",
       "      <td>7.0</td>\n",
       "      <td>Married-civ-spouse</td>\n",
       "      <td>Husband</td>\n",
       "    </tr>\n",
       "    <tr>\n",
       "      <th>4</th>\n",
       "      <td>28.0</td>\n",
       "      <td>Female</td>\n",
       "      <td>195025</td>\n",
       "      <td>Black</td>\n",
       "      <td>Cuba</td>\n",
       "      <td>Bachelors</td>\n",
       "      <td>13.0</td>\n",
       "      <td>Married-civ-spouse</td>\n",
       "      <td>Wife</td>\n",
       "    </tr>\n",
       "  </tbody>\n",
       "</table>\n",
       "</div>"
      ],
      "text/plain": [
       "    Age      Sex      ID    Race         Country   Education  Education-Num  \\\n",
       "0  39.0     Male   49084   White   United-States   Bachelors           13.0   \n",
       "1  50.0     Male   68553   White   United-States   Bachelors           13.0   \n",
       "2  38.0     Male  143654   White   United-States     HS-grad            9.0   \n",
       "3  53.0     Male   41510   Black   United-States        11th            7.0   \n",
       "4  28.0   Female  195025   Black            Cuba   Bachelors           13.0   \n",
       "\n",
       "        Marital Status    Relationship  \n",
       "0        Never-married   Not-in-family  \n",
       "1   Married-civ-spouse         Husband  \n",
       "2             Divorced   Not-in-family  \n",
       "3   Married-civ-spouse         Husband  \n",
       "4   Married-civ-spouse            Wife  "
      ]
     },
     "execution_count": 36,
     "metadata": {},
     "output_type": "execute_result"
    }
   ],
   "source": [
    "pd.read_csv('./Files/data.csv', sep='|').head()"
   ]
  },
  {
   "cell_type": "markdown",
   "metadata": {
    "id": "VUTqm-elB1RU"
   },
   "source": [
    "### Función read_table\n",
    "* Delimitador por defecto: Utiliza una tabulación (`\\t`) como delimitador.\n",
    "* Uso común: Más adecuado para archivos de texto **tabulados**.\n",
    "* Parámetros adicionales: También permite especificar otros delimitadores mediante el parámetro `sep`."
   ]
  },
  {
   "cell_type": "code",
   "execution_count": 37,
   "metadata": {
    "colab": {
     "base_uri": "https://localhost:8080/",
     "height": 143
    },
    "executionInfo": {
     "elapsed": 259,
     "status": "ok",
     "timestamp": 1723586095187,
     "user": {
      "displayName": "Francisco Javier Navarro Barrón",
      "userId": "10181626055026217558"
     },
     "user_tz": 360
    },
    "id": "GXk9KCe0sWZL",
    "outputId": "b9212917-7114-4d1a-fdd3-6c2d7384056f"
   },
   "outputs": [
    {
     "data": {
      "text/html": [
       "<div>\n",
       "<style scoped>\n",
       "    .dataframe tbody tr th:only-of-type {\n",
       "        vertical-align: middle;\n",
       "    }\n",
       "\n",
       "    .dataframe tbody tr th {\n",
       "        vertical-align: top;\n",
       "    }\n",
       "\n",
       "    .dataframe thead th {\n",
       "        text-align: right;\n",
       "    }\n",
       "</style>\n",
       "<table border=\"1\" class=\"dataframe\">\n",
       "  <thead>\n",
       "    <tr style=\"text-align: right;\">\n",
       "      <th></th>\n",
       "      <th>date</th>\n",
       "      <th>product</th>\n",
       "      <th>price</th>\n",
       "    </tr>\n",
       "  </thead>\n",
       "  <tbody>\n",
       "    <tr>\n",
       "      <th>0</th>\n",
       "      <td>1/1/2019</td>\n",
       "      <td>A</td>\n",
       "      <td>10</td>\n",
       "    </tr>\n",
       "    <tr>\n",
       "      <th>1</th>\n",
       "      <td>2/1/2020</td>\n",
       "      <td>B</td>\n",
       "      <td>20</td>\n",
       "    </tr>\n",
       "    <tr>\n",
       "      <th>2</th>\n",
       "      <td>3/1/1998</td>\n",
       "      <td>C</td>\n",
       "      <td>30</td>\n",
       "    </tr>\n",
       "  </tbody>\n",
       "</table>\n",
       "</div>"
      ],
      "text/plain": [
       "       date product  price\n",
       "0  1/1/2019       A     10\n",
       "1  2/1/2020       B     20\n",
       "2  3/1/1998       C     30"
      ]
     },
     "execution_count": 37,
     "metadata": {},
     "output_type": "execute_result"
    }
   ],
   "source": [
    "df = pd.read_table('./Files/dates.txt', sep=',') # sep: coma\n",
    "df"
   ]
  },
  {
   "cell_type": "code",
   "execution_count": 38,
   "metadata": {
    "colab": {
     "base_uri": "https://localhost:8080/"
    },
    "executionInfo": {
     "elapsed": 12,
     "status": "ok",
     "timestamp": 1723586357893,
     "user": {
      "displayName": "Francisco Javier Navarro Barrón",
      "userId": "10181626055026217558"
     },
     "user_tz": 360
    },
    "id": "528Ls2H6wJCg",
    "outputId": "5a7e70a4-ddd8-444d-8ac5-812d8e8ba1bd"
   },
   "outputs": [
    {
     "name": "stderr",
     "output_type": "stream",
     "text": [
      "\"cat\" no se reconoce como un comando interno o externo,\n",
      "programa o archivo por lotes ejecutable.\n"
     ]
    }
   ],
   "source": [
    "!cat test.txt"
   ]
  },
  {
   "cell_type": "code",
   "execution_count": 39,
   "metadata": {
    "colab": {
     "base_uri": "https://localhost:8080/",
     "height": 143
    },
    "executionInfo": {
     "elapsed": 225,
     "status": "ok",
     "timestamp": 1723586390778,
     "user": {
      "displayName": "Francisco Javier Navarro Barrón",
      "userId": "10181626055026217558"
     },
     "user_tz": 360
    },
    "id": "bjJGikU-sUOJ",
    "outputId": "d51e512a-76a6-40e9-a9a4-f0585bbdec53"
   },
   "outputs": [
    {
     "data": {
      "text/html": [
       "<div>\n",
       "<style scoped>\n",
       "    .dataframe tbody tr th:only-of-type {\n",
       "        vertical-align: middle;\n",
       "    }\n",
       "\n",
       "    .dataframe tbody tr th {\n",
       "        vertical-align: top;\n",
       "    }\n",
       "\n",
       "    .dataframe thead th {\n",
       "        text-align: right;\n",
       "    }\n",
       "</style>\n",
       "<table border=\"1\" class=\"dataframe\">\n",
       "  <thead>\n",
       "    <tr style=\"text-align: right;\">\n",
       "      <th></th>\n",
       "      <th>a</th>\n",
       "      <th>b</th>\n",
       "      <th>c</th>\n",
       "      <th>d</th>\n",
       "      <th>message</th>\n",
       "    </tr>\n",
       "  </thead>\n",
       "  <tbody>\n",
       "    <tr>\n",
       "      <th>0</th>\n",
       "      <td>1</td>\n",
       "      <td>2</td>\n",
       "      <td>3</td>\n",
       "      <td>4</td>\n",
       "      <td>hello</td>\n",
       "    </tr>\n",
       "    <tr>\n",
       "      <th>1</th>\n",
       "      <td>5</td>\n",
       "      <td>6</td>\n",
       "      <td>7</td>\n",
       "      <td>8</td>\n",
       "      <td>world</td>\n",
       "    </tr>\n",
       "    <tr>\n",
       "      <th>2</th>\n",
       "      <td>9</td>\n",
       "      <td>10</td>\n",
       "      <td>11</td>\n",
       "      <td>12</td>\n",
       "      <td>foo</td>\n",
       "    </tr>\n",
       "  </tbody>\n",
       "</table>\n",
       "</div>"
      ],
      "text/plain": [
       "   a   b   c   d message\n",
       "0  1   2   3   4   hello\n",
       "1  5   6   7   8   world\n",
       "2  9  10  11  12     foo"
      ]
     },
     "execution_count": 39,
     "metadata": {},
     "output_type": "execute_result"
    }
   ],
   "source": [
    "pd.read_table('./Files/test.txt', sep=' ')"
   ]
  },
  {
   "cell_type": "markdown",
   "metadata": {
    "id": "w-C1gZLoDih8"
   },
   "source": [
    "**header**: Este argumento de `read_csv()` indica la fila que se utilizará como nombres de las columnas. Por defecto es 0 (la primera fila) pero en algunos escenarios puede ser útil cambiar esto. Veámos:"
   ]
  },
  {
   "cell_type": "code",
   "execution_count": 40,
   "metadata": {
    "colab": {
     "base_uri": "https://localhost:8080/",
     "height": 174
    },
    "executionInfo": {
     "elapsed": 210,
     "status": "ok",
     "timestamp": 1723586519386,
     "user": {
      "displayName": "Francisco Javier Navarro Barrón",
      "userId": "10181626055026217558"
     },
     "user_tz": 360
    },
    "id": "DpKAJ1YLseFm",
    "outputId": "64bc1816-969e-431f-88ea-f601ff78f984"
   },
   "outputs": [
    {
     "data": {
      "text/html": [
       "<div>\n",
       "<style scoped>\n",
       "    .dataframe tbody tr th:only-of-type {\n",
       "        vertical-align: middle;\n",
       "    }\n",
       "\n",
       "    .dataframe tbody tr th {\n",
       "        vertical-align: top;\n",
       "    }\n",
       "\n",
       "    .dataframe thead th {\n",
       "        text-align: right;\n",
       "    }\n",
       "</style>\n",
       "<table border=\"1\" class=\"dataframe\">\n",
       "  <thead>\n",
       "    <tr style=\"text-align: right;\">\n",
       "      <th></th>\n",
       "      <th>0</th>\n",
       "      <th>1</th>\n",
       "      <th>2</th>\n",
       "      <th>3</th>\n",
       "      <th>4</th>\n",
       "    </tr>\n",
       "  </thead>\n",
       "  <tbody>\n",
       "    <tr>\n",
       "      <th>0</th>\n",
       "      <td>a</td>\n",
       "      <td>b</td>\n",
       "      <td>c</td>\n",
       "      <td>d</td>\n",
       "      <td>message</td>\n",
       "    </tr>\n",
       "    <tr>\n",
       "      <th>1</th>\n",
       "      <td>1</td>\n",
       "      <td>2</td>\n",
       "      <td>3</td>\n",
       "      <td>4</td>\n",
       "      <td>hello</td>\n",
       "    </tr>\n",
       "    <tr>\n",
       "      <th>2</th>\n",
       "      <td>5</td>\n",
       "      <td>6</td>\n",
       "      <td>7</td>\n",
       "      <td>8</td>\n",
       "      <td>world</td>\n",
       "    </tr>\n",
       "    <tr>\n",
       "      <th>3</th>\n",
       "      <td>9</td>\n",
       "      <td>10</td>\n",
       "      <td>11</td>\n",
       "      <td>12</td>\n",
       "      <td>foo</td>\n",
       "    </tr>\n",
       "  </tbody>\n",
       "</table>\n",
       "</div>"
      ],
      "text/plain": [
       "   0   1   2   3        4\n",
       "0  a   b   c   d  message\n",
       "1  1   2   3   4    hello\n",
       "2  5   6   7   8    world\n",
       "3  9  10  11  12      foo"
      ]
     },
     "execution_count": 40,
     "metadata": {},
     "output_type": "execute_result"
    }
   ],
   "source": [
    "# Caso sin cabecera\n",
    "pd.read_table('./Files/test.txt', sep=' ', header=None)"
   ]
  },
  {
   "cell_type": "code",
   "execution_count": 41,
   "metadata": {
    "colab": {
     "base_uri": "https://localhost:8080/",
     "height": 112
    },
    "executionInfo": {
     "elapsed": 225,
     "status": "ok",
     "timestamp": 1723586573879,
     "user": {
      "displayName": "Francisco Javier Navarro Barrón",
      "userId": "10181626055026217558"
     },
     "user_tz": 360
    },
    "id": "blq-tdGtD5SE",
    "outputId": "4a3cd91b-d188-4ea6-a4b8-d51fc1f53def"
   },
   "outputs": [
    {
     "data": {
      "text/html": [
       "<div>\n",
       "<style scoped>\n",
       "    .dataframe tbody tr th:only-of-type {\n",
       "        vertical-align: middle;\n",
       "    }\n",
       "\n",
       "    .dataframe tbody tr th {\n",
       "        vertical-align: top;\n",
       "    }\n",
       "\n",
       "    .dataframe thead th {\n",
       "        text-align: right;\n",
       "    }\n",
       "</style>\n",
       "<table border=\"1\" class=\"dataframe\">\n",
       "  <thead>\n",
       "    <tr style=\"text-align: right;\">\n",
       "      <th></th>\n",
       "      <th>1</th>\n",
       "      <th>2</th>\n",
       "      <th>3</th>\n",
       "      <th>4</th>\n",
       "      <th>hello</th>\n",
       "    </tr>\n",
       "  </thead>\n",
       "  <tbody>\n",
       "    <tr>\n",
       "      <th>0</th>\n",
       "      <td>5</td>\n",
       "      <td>6</td>\n",
       "      <td>7</td>\n",
       "      <td>8</td>\n",
       "      <td>world</td>\n",
       "    </tr>\n",
       "    <tr>\n",
       "      <th>1</th>\n",
       "      <td>9</td>\n",
       "      <td>10</td>\n",
       "      <td>11</td>\n",
       "      <td>12</td>\n",
       "      <td>foo</td>\n",
       "    </tr>\n",
       "  </tbody>\n",
       "</table>\n",
       "</div>"
      ],
      "text/plain": [
       "   1   2   3   4  hello\n",
       "0  5   6   7   8  world\n",
       "1  9  10  11  12    foo"
      ]
     },
     "execution_count": 41,
     "metadata": {},
     "output_type": "execute_result"
    }
   ],
   "source": [
    "# Caso con cabecera en 2da fila\n",
    "pd.read_table('./Files/test.txt', sep=' ', header=1)"
   ]
  },
  {
   "cell_type": "markdown",
   "metadata": {
    "id": "qbJNzkdLEyNU"
   },
   "source": [
    "Podemos especificar otras cabecera de columnas con el argumento `names`:"
   ]
  },
  {
   "cell_type": "code",
   "execution_count": 42,
   "metadata": {
    "colab": {
     "base_uri": "https://localhost:8080/",
     "height": 174
    },
    "executionInfo": {
     "elapsed": 219,
     "status": "ok",
     "timestamp": 1723586787251,
     "user": {
      "displayName": "Francisco Javier Navarro Barrón",
      "userId": "10181626055026217558"
     },
     "user_tz": 360
    },
    "id": "yuXzN41Ys5mc",
    "outputId": "4e3d9f7e-4ad3-4a1b-fd8a-cde59a002685"
   },
   "outputs": [
    {
     "data": {
      "text/html": [
       "<div>\n",
       "<style scoped>\n",
       "    .dataframe tbody tr th:only-of-type {\n",
       "        vertical-align: middle;\n",
       "    }\n",
       "\n",
       "    .dataframe tbody tr th {\n",
       "        vertical-align: top;\n",
       "    }\n",
       "\n",
       "    .dataframe thead th {\n",
       "        text-align: right;\n",
       "    }\n",
       "</style>\n",
       "<table border=\"1\" class=\"dataframe\">\n",
       "  <thead>\n",
       "    <tr style=\"text-align: right;\">\n",
       "      <th></th>\n",
       "      <th>N1</th>\n",
       "      <th>N2</th>\n",
       "      <th>N3</th>\n",
       "      <th>N4</th>\n",
       "      <th>Mensaje</th>\n",
       "    </tr>\n",
       "  </thead>\n",
       "  <tbody>\n",
       "    <tr>\n",
       "      <th>0</th>\n",
       "      <td>a</td>\n",
       "      <td>b</td>\n",
       "      <td>c</td>\n",
       "      <td>d</td>\n",
       "      <td>message</td>\n",
       "    </tr>\n",
       "    <tr>\n",
       "      <th>1</th>\n",
       "      <td>1</td>\n",
       "      <td>2</td>\n",
       "      <td>3</td>\n",
       "      <td>4</td>\n",
       "      <td>hello</td>\n",
       "    </tr>\n",
       "    <tr>\n",
       "      <th>2</th>\n",
       "      <td>5</td>\n",
       "      <td>6</td>\n",
       "      <td>7</td>\n",
       "      <td>8</td>\n",
       "      <td>world</td>\n",
       "    </tr>\n",
       "    <tr>\n",
       "      <th>3</th>\n",
       "      <td>9</td>\n",
       "      <td>10</td>\n",
       "      <td>11</td>\n",
       "      <td>12</td>\n",
       "      <td>foo</td>\n",
       "    </tr>\n",
       "  </tbody>\n",
       "</table>\n",
       "</div>"
      ],
      "text/plain": [
       "  N1  N2  N3  N4  Mensaje\n",
       "0  a   b   c   d  message\n",
       "1  1   2   3   4    hello\n",
       "2  5   6   7   8    world\n",
       "3  9  10  11  12      foo"
      ]
     },
     "execution_count": 42,
     "metadata": {},
     "output_type": "execute_result"
    }
   ],
   "source": [
    "pd.read_table('./Files/test.txt', sep=' ', names=['N1','N2','N3','N4','Mensaje'])"
   ]
  },
  {
   "cell_type": "markdown",
   "metadata": {
    "id": "EbiHHOdpQkWz"
   },
   "source": [
    "El argumento `parse_dates` en la función `read_csv` de **pandas** se utiliza para especificar qué columnas del archivo CSV deben ser interpretadas como **fechas**. Esto permite que pandas convierta automáticamente esas columnas en objetos de tipo *datetime*, facilitando el análisis de datos temporales.\n",
    "\n",
    "Nota: `parse_dates` puede usarse con una columna única, varias columnas y columnas combinadas (varias columnas que juntas forman una fecha)."
   ]
  },
  {
   "cell_type": "code",
   "execution_count": 43,
   "metadata": {
    "colab": {
     "base_uri": "https://localhost:8080/"
    },
    "executionInfo": {
     "elapsed": 198,
     "status": "ok",
     "timestamp": 1723586821101,
     "user": {
      "displayName": "Francisco Javier Navarro Barrón",
      "userId": "10181626055026217558"
     },
     "user_tz": 360
    },
    "id": "QmXAQX10tGj3",
    "outputId": "000a8da0-cfdd-4b22-d53b-b6c84e3b2a8c"
   },
   "outputs": [
    {
     "name": "stderr",
     "output_type": "stream",
     "text": [
      "\"cat\" no se reconoce como un comando interno o externo,\n",
      "programa o archivo por lotes ejecutable.\n"
     ]
    }
   ],
   "source": [
    "!cat ./Files/dates.txt"
   ]
  },
  {
   "cell_type": "code",
   "execution_count": 44,
   "metadata": {
    "colab": {
     "base_uri": "https://localhost:8080/"
    },
    "executionInfo": {
     "elapsed": 200,
     "status": "ok",
     "timestamp": 1723586880539,
     "user": {
      "displayName": "Francisco Javier Navarro Barrón",
      "userId": "10181626055026217558"
     },
     "user_tz": 360
    },
    "id": "qIjXmMsrteZP",
    "outputId": "4b1a1df9-4688-485b-b356-128813707142"
   },
   "outputs": [
    {
     "name": "stdout",
     "output_type": "stream",
     "text": [
      "<class 'pandas.core.frame.DataFrame'>\n",
      "RangeIndex: 3 entries, 0 to 2\n",
      "Data columns (total 3 columns):\n",
      " #   Column   Non-Null Count  Dtype \n",
      "---  ------   --------------  ----- \n",
      " 0   date     3 non-null      object\n",
      " 1   product  3 non-null      object\n",
      " 2   price    3 non-null      int64 \n",
      "dtypes: int64(1), object(2)\n",
      "memory usage: 204.0+ bytes\n"
     ]
    }
   ],
   "source": [
    "df.info() # La columna date se tomó como object"
   ]
  },
  {
   "cell_type": "code",
   "execution_count": 45,
   "metadata": {
    "colab": {
     "base_uri": "https://localhost:8080/"
    },
    "executionInfo": {
     "elapsed": 282,
     "status": "ok",
     "timestamp": 1723586983122,
     "user": {
      "displayName": "Francisco Javier Navarro Barrón",
      "userId": "10181626055026217558"
     },
     "user_tz": 360
    },
    "id": "mAUd9QYXtp1k",
    "outputId": "05115c11-13c7-4c67-ca5a-9526dfa9471f"
   },
   "outputs": [
    {
     "name": "stdout",
     "output_type": "stream",
     "text": [
      "<class 'pandas.core.frame.DataFrame'>\n",
      "RangeIndex: 3 entries, 0 to 2\n",
      "Data columns (total 3 columns):\n",
      " #   Column   Non-Null Count  Dtype         \n",
      "---  ------   --------------  -----         \n",
      " 0   date     3 non-null      datetime64[ns]\n",
      " 1   product  3 non-null      object        \n",
      " 2   price    3 non-null      int64         \n",
      "dtypes: datetime64[ns](1), int64(1), object(1)\n",
      "memory usage: 204.0+ bytes\n"
     ]
    }
   ],
   "source": [
    "df = pd.read_csv('./Files/dates.txt', parse_dates=['date'])\n",
    "df.info()"
   ]
  },
  {
   "cell_type": "markdown",
   "metadata": {
    "id": "unR1emvhubXS"
   },
   "source": [
    "### Parseo manual de fechas"
   ]
  },
  {
   "cell_type": "markdown",
   "metadata": {
    "id": "lY0V2VoLRhzp"
   },
   "source": [
    "**Columnas combinadas**: Si tienes varias columnas que juntas forman una fecha (por ejemplo, año, mes y día), puedes pasarlas como una lista de listas."
   ]
  },
  {
   "cell_type": "code",
   "execution_count": 46,
   "metadata": {
    "colab": {
     "base_uri": "https://localhost:8080/"
    },
    "executionInfo": {
     "elapsed": 237,
     "status": "ok",
     "timestamp": 1723587121825,
     "user": {
      "displayName": "Francisco Javier Navarro Barrón",
      "userId": "10181626055026217558"
     },
     "user_tz": 360
    },
    "id": "sSaAWA0WuTFN",
    "outputId": "67f06d43-585d-4b03-b843-b1a2370badc4"
   },
   "outputs": [
    {
     "name": "stderr",
     "output_type": "stream",
     "text": [
      "\"cat\" no se reconoce como un comando interno o externo,\n",
      "programa o archivo por lotes ejecutable.\n"
     ]
    }
   ],
   "source": [
    "!cat data_4.csv"
   ]
  },
  {
   "cell_type": "code",
   "execution_count": 47,
   "metadata": {
    "colab": {
     "base_uri": "https://localhost:8080/",
     "height": 174
    },
    "executionInfo": {
     "elapsed": 195,
     "status": "ok",
     "timestamp": 1723587149282,
     "user": {
      "displayName": "Francisco Javier Navarro Barrón",
      "userId": "10181626055026217558"
     },
     "user_tz": 360
    },
    "id": "HY0UlRtHud5T",
    "outputId": "b1e9757a-ce95-4f09-fbb5-a2056a9985d1"
   },
   "outputs": [
    {
     "data": {
      "text/html": [
       "<div>\n",
       "<style scoped>\n",
       "    .dataframe tbody tr th:only-of-type {\n",
       "        vertical-align: middle;\n",
       "    }\n",
       "\n",
       "    .dataframe tbody tr th {\n",
       "        vertical-align: top;\n",
       "    }\n",
       "\n",
       "    .dataframe thead th {\n",
       "        text-align: right;\n",
       "    }\n",
       "</style>\n",
       "<table border=\"1\" class=\"dataframe\">\n",
       "  <thead>\n",
       "    <tr style=\"text-align: right;\">\n",
       "      <th></th>\n",
       "      <th>year</th>\n",
       "      <th>month</th>\n",
       "      <th>day</th>\n",
       "      <th>product</th>\n",
       "      <th>price</th>\n",
       "    </tr>\n",
       "  </thead>\n",
       "  <tbody>\n",
       "    <tr>\n",
       "      <th>0</th>\n",
       "      <td>2019</td>\n",
       "      <td>1</td>\n",
       "      <td>1</td>\n",
       "      <td>A</td>\n",
       "      <td>10</td>\n",
       "    </tr>\n",
       "    <tr>\n",
       "      <th>1</th>\n",
       "      <td>2020</td>\n",
       "      <td>1</td>\n",
       "      <td>2</td>\n",
       "      <td>B</td>\n",
       "      <td>20</td>\n",
       "    </tr>\n",
       "    <tr>\n",
       "      <th>2</th>\n",
       "      <td>2021</td>\n",
       "      <td>1</td>\n",
       "      <td>4</td>\n",
       "      <td>C</td>\n",
       "      <td>30</td>\n",
       "    </tr>\n",
       "    <tr>\n",
       "      <th>3</th>\n",
       "      <td>2019</td>\n",
       "      <td>1</td>\n",
       "      <td>5</td>\n",
       "      <td>D</td>\n",
       "      <td>40</td>\n",
       "    </tr>\n",
       "  </tbody>\n",
       "</table>\n",
       "</div>"
      ],
      "text/plain": [
       "   year  month  day product  price\n",
       "0  2019      1    1       A     10\n",
       "1  2020      1    2       B     20\n",
       "2  2021      1    4       C     30\n",
       "3  2019      1    5       D     40"
      ]
     },
     "execution_count": 47,
     "metadata": {},
     "output_type": "execute_result"
    }
   ],
   "source": [
    "pd.read_csv('./Files/data_4.csv')"
   ]
  },
  {
   "cell_type": "code",
   "execution_count": 48,
   "metadata": {
    "colab": {
     "base_uri": "https://localhost:8080/"
    },
    "executionInfo": {
     "elapsed": 199,
     "status": "ok",
     "timestamp": 1723587298353,
     "user": {
      "displayName": "Francisco Javier Navarro Barrón",
      "userId": "10181626055026217558"
     },
     "user_tz": 360
    },
    "id": "ezmNHUrQujmZ",
    "outputId": "df2a040f-ac44-4c78-a7ca-aa91ead005e1"
   },
   "outputs": [
    {
     "name": "stdout",
     "output_type": "stream",
     "text": [
      "<class 'pandas.core.frame.DataFrame'>\n",
      "RangeIndex: 4 entries, 0 to 3\n",
      "Data columns (total 3 columns):\n",
      " #   Column          Non-Null Count  Dtype         \n",
      "---  ------          --------------  -----         \n",
      " 0   year_month_day  4 non-null      datetime64[ns]\n",
      " 1   product         4 non-null      object        \n",
      " 2   price           4 non-null      int64         \n",
      "dtypes: datetime64[ns](1), int64(1), object(1)\n",
      "memory usage: 228.0+ bytes\n"
     ]
    },
    {
     "name": "stderr",
     "output_type": "stream",
     "text": [
      "C:\\Users\\pomar\\AppData\\Local\\Temp\\ipykernel_21812\\2875875891.py:1: FutureWarning: Support for nested sequences for 'parse_dates' in pd.read_csv is deprecated. Combine the desired columns with pd.to_datetime after parsing instead.\n",
      "  df=pd.read_csv('./Files/data_4.csv', parse_dates=[['year', 'month', 'day']])\n"
     ]
    }
   ],
   "source": [
    "df=pd.read_csv('./Files/data_4.csv', parse_dates=[['year', 'month', 'day']])\n",
    "df.info()"
   ]
  },
  {
   "cell_type": "markdown",
   "metadata": {
    "id": "eIYbfMXsScaf"
   },
   "source": [
    "**Parseo indicando formato fecha y hora**\n",
    "\n",
    "El argumento `date_format` en la función `read_csv` permite especificar una función personalizada para analizar las fechas al leer el archivo CSV. Esto es útil cuando las fechas en el archivo tienen un formato que no es reconocido automáticamente o cuando deseas aplicar una lógica específica al convertir las cadenas de texto en objetos de tipo `datetime`.\n",
    "\n",
    "* Note: The argument 'date_parser' is deprecated and will be removed in a future version."
   ]
  },
  {
   "cell_type": "code",
   "execution_count": 49,
   "metadata": {
    "colab": {
     "base_uri": "https://localhost:8080/"
    },
    "executionInfo": {
     "elapsed": 239,
     "status": "ok",
     "timestamp": 1723587452515,
     "user": {
      "displayName": "Francisco Javier Navarro Barrón",
      "userId": "10181626055026217558"
     },
     "user_tz": 360
    },
    "id": "Dk6sle1ZvADV",
    "outputId": "9548770d-d98a-476c-bec8-0c767bb34a7d"
   },
   "outputs": [
    {
     "name": "stderr",
     "output_type": "stream",
     "text": [
      "\"cat\" no se reconoce como un comando interno o externo,\n",
      "programa o archivo por lotes ejecutable.\n"
     ]
    }
   ],
   "source": [
    "!cat data_6.csv"
   ]
  },
  {
   "cell_type": "code",
   "execution_count": 50,
   "metadata": {
    "colab": {
     "base_uri": "https://localhost:8080/"
    },
    "executionInfo": {
     "elapsed": 234,
     "status": "ok",
     "timestamp": 1723587488666,
     "user": {
      "displayName": "Francisco Javier Navarro Barrón",
      "userId": "10181626055026217558"
     },
     "user_tz": 360
    },
    "id": "AD03EuQxv3ht",
    "outputId": "ca411bbf-aab7-4637-e05b-6f48ca554176"
   },
   "outputs": [
    {
     "name": "stdout",
     "output_type": "stream",
     "text": [
      "<class 'pandas.core.frame.DataFrame'>\n",
      "RangeIndex: 3 entries, 0 to 2\n",
      "Data columns (total 3 columns):\n",
      " #   Column   Non-Null Count  Dtype \n",
      "---  ------   --------------  ----- \n",
      " 0   date     3 non-null      object\n",
      " 1   product  3 non-null      object\n",
      " 2    price   3 non-null      int64 \n",
      "dtypes: int64(1), object(2)\n",
      "memory usage: 204.0+ bytes\n"
     ]
    }
   ],
   "source": [
    "pd.read_csv('./Files/data_6.csv').info() # lo toma como un object"
   ]
  },
  {
   "cell_type": "code",
   "execution_count": 51,
   "metadata": {
    "colab": {
     "base_uri": "https://localhost:8080/",
     "height": 143
    },
    "executionInfo": {
     "elapsed": 15,
     "status": "ok",
     "timestamp": 1723587658521,
     "user": {
      "displayName": "Francisco Javier Navarro Barrón",
      "userId": "10181626055026217558"
     },
     "user_tz": 360
    },
    "id": "AUeu7axNUFnw",
    "outputId": "fd362b41-9f71-480f-8653-30dcc6a91f98"
   },
   "outputs": [
    {
     "data": {
      "text/html": [
       "<div>\n",
       "<style scoped>\n",
       "    .dataframe tbody tr th:only-of-type {\n",
       "        vertical-align: middle;\n",
       "    }\n",
       "\n",
       "    .dataframe tbody tr th {\n",
       "        vertical-align: top;\n",
       "    }\n",
       "\n",
       "    .dataframe thead th {\n",
       "        text-align: right;\n",
       "    }\n",
       "</style>\n",
       "<table border=\"1\" class=\"dataframe\">\n",
       "  <thead>\n",
       "    <tr style=\"text-align: right;\">\n",
       "      <th></th>\n",
       "      <th>date</th>\n",
       "      <th>product</th>\n",
       "      <th>price</th>\n",
       "    </tr>\n",
       "  </thead>\n",
       "  <tbody>\n",
       "    <tr>\n",
       "      <th>0</th>\n",
       "      <td>2016-06-10 20:30:00</td>\n",
       "      <td>A</td>\n",
       "      <td>10</td>\n",
       "    </tr>\n",
       "    <tr>\n",
       "      <th>1</th>\n",
       "      <td>2016-07-01 19:45:30</td>\n",
       "      <td>B</td>\n",
       "      <td>20</td>\n",
       "    </tr>\n",
       "    <tr>\n",
       "      <th>2</th>\n",
       "      <td>2016-10-12 04:05:01</td>\n",
       "      <td>C</td>\n",
       "      <td>30</td>\n",
       "    </tr>\n",
       "  </tbody>\n",
       "</table>\n",
       "</div>"
      ],
      "text/plain": [
       "                 date product   price\n",
       "0 2016-06-10 20:30:00       A      10\n",
       "1 2016-07-01 19:45:30       B      20\n",
       "2 2016-10-12 04:05:01       C      30"
      ]
     },
     "execution_count": 51,
     "metadata": {},
     "output_type": "execute_result"
    }
   ],
   "source": [
    "df = pd.read_csv('./Files/data_6.csv', parse_dates=['date'],\n",
    "            date_format='%Y-%m-%d %H:%M:%S')\n",
    "df"
   ]
  },
  {
   "cell_type": "code",
   "execution_count": null,
   "metadata": {},
   "outputs": [],
   "source": []
  },
  {
   "cell_type": "code",
   "execution_count": 52,
   "metadata": {
    "colab": {
     "base_uri": "https://localhost:8080/"
    },
    "executionInfo": {
     "elapsed": 213,
     "status": "ok",
     "timestamp": 1723587666336,
     "user": {
      "displayName": "Francisco Javier Navarro Barrón",
      "userId": "10181626055026217558"
     },
     "user_tz": 360
    },
    "id": "js6t4jssk4vS",
    "outputId": "efb70006-d5f6-4b31-c60c-bf91ec273998"
   },
   "outputs": [
    {
     "name": "stdout",
     "output_type": "stream",
     "text": [
      "<class 'pandas.core.frame.DataFrame'>\n",
      "RangeIndex: 3 entries, 0 to 2\n",
      "Data columns (total 3 columns):\n",
      " #   Column   Non-Null Count  Dtype         \n",
      "---  ------   --------------  -----         \n",
      " 0   date     3 non-null      datetime64[ns]\n",
      " 1   product  3 non-null      object        \n",
      " 2    price   3 non-null      int64         \n",
      "dtypes: datetime64[ns](1), int64(1), object(1)\n",
      "memory usage: 204.0+ bytes\n"
     ]
    }
   ],
   "source": [
    "df.info()"
   ]
  },
  {
   "cell_type": "markdown",
   "metadata": {
    "id": "EWSt5YoSwtx4"
   },
   "source": [
    "### Parseo de Booleanos\n",
    "`read_csv` puede detectar automáticamente booleanos si se le indica.\n",
    "\n",
    "“asistió” se refiere a la asistencia de un alumno y “Tarea” si completo la tarea o no."
   ]
  },
  {
   "cell_type": "code",
   "execution_count": 53,
   "metadata": {
    "colab": {
     "base_uri": "https://localhost:8080/"
    },
    "executionInfo": {
     "elapsed": 257,
     "status": "ok",
     "timestamp": 1723587992430,
     "user": {
      "displayName": "Francisco Javier Navarro Barrón",
      "userId": "10181626055026217558"
     },
     "user_tz": 360
    },
    "id": "FpknYiaPwbz-",
    "outputId": "fe6533cc-f0e4-4911-9407-472f39ff38c1"
   },
   "outputs": [
    {
     "name": "stderr",
     "output_type": "stream",
     "text": [
      "\"head\" no se reconoce como un comando interno o externo,\n",
      "programa o archivo por lotes ejecutable.\n"
     ]
    }
   ],
   "source": [
    "!head encuesta.txt"
   ]
  },
  {
   "cell_type": "code",
   "execution_count": 54,
   "metadata": {
    "colab": {
     "base_uri": "https://localhost:8080/",
     "height": 206
    },
    "executionInfo": {
     "elapsed": 211,
     "status": "ok",
     "timestamp": 1723588120220,
     "user": {
      "displayName": "Francisco Javier Navarro Barrón",
      "userId": "10181626055026217558"
     },
     "user_tz": 360
    },
    "id": "mQJ00lrSpact",
    "outputId": "6e57f977-8648-468e-b774-480addb6ab1b"
   },
   "outputs": [
    {
     "data": {
      "text/html": [
       "<div>\n",
       "<style scoped>\n",
       "    .dataframe tbody tr th:only-of-type {\n",
       "        vertical-align: middle;\n",
       "    }\n",
       "\n",
       "    .dataframe tbody tr th {\n",
       "        vertical-align: top;\n",
       "    }\n",
       "\n",
       "    .dataframe thead th {\n",
       "        text-align: right;\n",
       "    }\n",
       "</style>\n",
       "<table border=\"1\" class=\"dataframe\">\n",
       "  <thead>\n",
       "    <tr style=\"text-align: right;\">\n",
       "      <th></th>\n",
       "      <th>ID            asistio             Tarea    Comportamiento      Pago</th>\n",
       "    </tr>\n",
       "  </thead>\n",
       "  <tbody>\n",
       "    <tr>\n",
       "      <th>0</th>\n",
       "      <td>cef3615d61b202f1dc794ef2746df14        1      ...</td>\n",
       "    </tr>\n",
       "    <tr>\n",
       "      <th>1</th>\n",
       "      <td>323e5a13644d18185c743c241407754        0      ...</td>\n",
       "    </tr>\n",
       "    <tr>\n",
       "      <th>2</th>\n",
       "      <td>b29a107e5cd062e654a63764157461d        0      ...</td>\n",
       "    </tr>\n",
       "    <tr>\n",
       "      <th>3</th>\n",
       "      <td>04a11e4bcb573a1261eb0d9948d32637       1      ...</td>\n",
       "    </tr>\n",
       "    <tr>\n",
       "      <th>4</th>\n",
       "      <td>9368291c3d5d5f5c8cdb1a575e18bec        1      ...</td>\n",
       "    </tr>\n",
       "  </tbody>\n",
       "</table>\n",
       "</div>"
      ],
      "text/plain": [
       "  ID            asistio             Tarea    Comportamiento      Pago                                                                                       \n",
       "0  cef3615d61b202f1dc794ef2746df14        1      ...                                                                                                        \n",
       "1  323e5a13644d18185c743c241407754        0      ...                                                                                                        \n",
       "2  b29a107e5cd062e654a63764157461d        0      ...                                                                                                        \n",
       "3  04a11e4bcb573a1261eb0d9948d32637       1      ...                                                                                                        \n",
       "4  9368291c3d5d5f5c8cdb1a575e18bec        1      ...                                                                                                        "
      ]
     },
     "execution_count": 54,
     "metadata": {},
     "output_type": "execute_result"
    }
   ],
   "source": [
    "pd.read_csv('./Files/encuesta.txt').head()"
   ]
  },
  {
   "cell_type": "code",
   "execution_count": 55,
   "metadata": {
    "colab": {
     "base_uri": "https://localhost:8080/",
     "height": 272
    },
    "executionInfo": {
     "elapsed": 233,
     "status": "ok",
     "timestamp": 1723588171244,
     "user": {
      "displayName": "Francisco Javier Navarro Barrón",
      "userId": "10181626055026217558"
     },
     "user_tz": 360
    },
    "id": "6yRbZsDzqOE-",
    "outputId": "d69c4b3c-60f3-42b5-859e-227d2289bbed"
   },
   "outputs": [
    {
     "data": {
      "text/html": [
       "<div>\n",
       "<style scoped>\n",
       "    .dataframe tbody tr th:only-of-type {\n",
       "        vertical-align: middle;\n",
       "    }\n",
       "\n",
       "    .dataframe tbody tr th {\n",
       "        vertical-align: top;\n",
       "    }\n",
       "\n",
       "    .dataframe thead th {\n",
       "        text-align: right;\n",
       "    }\n",
       "</style>\n",
       "<table border=\"1\" class=\"dataframe\">\n",
       "  <thead>\n",
       "    <tr style=\"text-align: right;\">\n",
       "      <th></th>\n",
       "      <th>Unnamed: 0</th>\n",
       "      <th>Unnamed: 1</th>\n",
       "      <th>Unnamed: 2</th>\n",
       "      <th>Unnamed: 3</th>\n",
       "      <th>Unnamed: 4</th>\n",
       "      <th>Unnamed: 5</th>\n",
       "      <th>Unnamed: 6</th>\n",
       "      <th>Unnamed: 7</th>\n",
       "      <th>Unnamed: 8</th>\n",
       "      <th>Unnamed: 9</th>\n",
       "      <th>...</th>\n",
       "      <th>Unnamed: 137</th>\n",
       "      <th>Unnamed: 138</th>\n",
       "      <th>Unnamed: 139</th>\n",
       "      <th>Unnamed: 140</th>\n",
       "      <th>Unnamed: 141</th>\n",
       "      <th>Unnamed: 142</th>\n",
       "      <th>Unnamed: 143</th>\n",
       "      <th>Unnamed: 144</th>\n",
       "      <th>Unnamed: 145</th>\n",
       "      <th>Unnamed: 146</th>\n",
       "    </tr>\n",
       "  </thead>\n",
       "  <tbody>\n",
       "    <tr>\n",
       "      <th>0</th>\n",
       "      <td>cef3615d61b202f1dc794ef2746df14</td>\n",
       "      <td>NaN</td>\n",
       "      <td>NaN</td>\n",
       "      <td>NaN</td>\n",
       "      <td>NaN</td>\n",
       "      <td>NaN</td>\n",
       "      <td>NaN</td>\n",
       "      <td>NaN</td>\n",
       "      <td>1.0</td>\n",
       "      <td>NaN</td>\n",
       "      <td>...</td>\n",
       "      <td>NaN</td>\n",
       "      <td>NaN</td>\n",
       "      <td>NaN</td>\n",
       "      <td>NaN</td>\n",
       "      <td>NaN</td>\n",
       "      <td>NaN</td>\n",
       "      <td>NaN</td>\n",
       "      <td>NaN</td>\n",
       "      <td>NaN</td>\n",
       "      <td>NaN</td>\n",
       "    </tr>\n",
       "    <tr>\n",
       "      <th>1</th>\n",
       "      <td>323e5a13644d18185c743c241407754</td>\n",
       "      <td>NaN</td>\n",
       "      <td>NaN</td>\n",
       "      <td>NaN</td>\n",
       "      <td>NaN</td>\n",
       "      <td>NaN</td>\n",
       "      <td>NaN</td>\n",
       "      <td>NaN</td>\n",
       "      <td>0.0</td>\n",
       "      <td>NaN</td>\n",
       "      <td>...</td>\n",
       "      <td>NaN</td>\n",
       "      <td>NaN</td>\n",
       "      <td>NaN</td>\n",
       "      <td>NaN</td>\n",
       "      <td>NaN</td>\n",
       "      <td>NaN</td>\n",
       "      <td>NaN</td>\n",
       "      <td>NaN</td>\n",
       "      <td>NaN</td>\n",
       "      <td>NaN</td>\n",
       "    </tr>\n",
       "    <tr>\n",
       "      <th>2</th>\n",
       "      <td>b29a107e5cd062e654a63764157461d</td>\n",
       "      <td>NaN</td>\n",
       "      <td>NaN</td>\n",
       "      <td>NaN</td>\n",
       "      <td>NaN</td>\n",
       "      <td>NaN</td>\n",
       "      <td>NaN</td>\n",
       "      <td>NaN</td>\n",
       "      <td>0.0</td>\n",
       "      <td>NaN</td>\n",
       "      <td>...</td>\n",
       "      <td>NaN</td>\n",
       "      <td>NaN</td>\n",
       "      <td>NaN</td>\n",
       "      <td>NaN</td>\n",
       "      <td>NaN</td>\n",
       "      <td>NaN</td>\n",
       "      <td>NaN</td>\n",
       "      <td>NaN</td>\n",
       "      <td>NaN</td>\n",
       "      <td>NaN</td>\n",
       "    </tr>\n",
       "    <tr>\n",
       "      <th>3</th>\n",
       "      <td>04a11e4bcb573a1261eb0d9948d32637</td>\n",
       "      <td>NaN</td>\n",
       "      <td>NaN</td>\n",
       "      <td>NaN</td>\n",
       "      <td>NaN</td>\n",
       "      <td>NaN</td>\n",
       "      <td>NaN</td>\n",
       "      <td>1.0</td>\n",
       "      <td>NaN</td>\n",
       "      <td>NaN</td>\n",
       "      <td>...</td>\n",
       "      <td>NaN</td>\n",
       "      <td>NaN</td>\n",
       "      <td>NaN</td>\n",
       "      <td>NaN</td>\n",
       "      <td>NaN</td>\n",
       "      <td>NaN</td>\n",
       "      <td>NaN</td>\n",
       "      <td>NaN</td>\n",
       "      <td>NaN</td>\n",
       "      <td>NaN</td>\n",
       "    </tr>\n",
       "    <tr>\n",
       "      <th>4</th>\n",
       "      <td>9368291c3d5d5f5c8cdb1a575e18bec</td>\n",
       "      <td>NaN</td>\n",
       "      <td>NaN</td>\n",
       "      <td>NaN</td>\n",
       "      <td>NaN</td>\n",
       "      <td>NaN</td>\n",
       "      <td>NaN</td>\n",
       "      <td>NaN</td>\n",
       "      <td>1.0</td>\n",
       "      <td>NaN</td>\n",
       "      <td>...</td>\n",
       "      <td>NaN</td>\n",
       "      <td>NaN</td>\n",
       "      <td>NaN</td>\n",
       "      <td>NaN</td>\n",
       "      <td>NaN</td>\n",
       "      <td>NaN</td>\n",
       "      <td>NaN</td>\n",
       "      <td>NaN</td>\n",
       "      <td>NaN</td>\n",
       "      <td>NaN</td>\n",
       "    </tr>\n",
       "  </tbody>\n",
       "</table>\n",
       "<p>5 rows × 147 columns</p>\n",
       "</div>"
      ],
      "text/plain": [
       "                         Unnamed: 0  Unnamed: 1  Unnamed: 2  Unnamed: 3  \\\n",
       "0   cef3615d61b202f1dc794ef2746df14         NaN         NaN         NaN   \n",
       "1   323e5a13644d18185c743c241407754         NaN         NaN         NaN   \n",
       "2   b29a107e5cd062e654a63764157461d         NaN         NaN         NaN   \n",
       "3  04a11e4bcb573a1261eb0d9948d32637         NaN         NaN         NaN   \n",
       "4   9368291c3d5d5f5c8cdb1a575e18bec         NaN         NaN         NaN   \n",
       "\n",
       "   Unnamed: 4  Unnamed: 5  Unnamed: 6  Unnamed: 7  Unnamed: 8  Unnamed: 9  \\\n",
       "0         NaN         NaN         NaN         NaN         1.0         NaN   \n",
       "1         NaN         NaN         NaN         NaN         0.0         NaN   \n",
       "2         NaN         NaN         NaN         NaN         0.0         NaN   \n",
       "3         NaN         NaN         NaN         1.0         NaN         NaN   \n",
       "4         NaN         NaN         NaN         NaN         1.0         NaN   \n",
       "\n",
       "   ...  Unnamed: 137  Unnamed: 138  Unnamed: 139  Unnamed: 140  Unnamed: 141  \\\n",
       "0  ...           NaN           NaN           NaN           NaN           NaN   \n",
       "1  ...           NaN           NaN           NaN           NaN           NaN   \n",
       "2  ...           NaN           NaN           NaN           NaN           NaN   \n",
       "3  ...           NaN           NaN           NaN           NaN           NaN   \n",
       "4  ...           NaN           NaN           NaN           NaN           NaN   \n",
       "\n",
       "   Unnamed: 142  Unnamed: 143  Unnamed: 144  Unnamed: 145  Unnamed: 146  \n",
       "0           NaN           NaN           NaN           NaN           NaN  \n",
       "1           NaN           NaN           NaN           NaN           NaN  \n",
       "2           NaN           NaN           NaN           NaN           NaN  \n",
       "3           NaN           NaN           NaN           NaN           NaN  \n",
       "4           NaN           NaN           NaN           NaN           NaN  \n",
       "\n",
       "[5 rows x 147 columns]"
      ]
     },
     "execution_count": 55,
     "metadata": {},
     "output_type": "execute_result"
    }
   ],
   "source": [
    "pd.read_csv('./Files/encuesta.txt', sep=' ').head()"
   ]
  },
  {
   "cell_type": "code",
   "execution_count": 56,
   "metadata": {
    "colab": {
     "base_uri": "https://localhost:8080/",
     "height": 237
    },
    "executionInfo": {
     "elapsed": 220,
     "status": "ok",
     "timestamp": 1723588465025,
     "user": {
      "displayName": "Francisco Javier Navarro Barrón",
      "userId": "10181626055026217558"
     },
     "user_tz": 360
    },
    "id": "lCnbbphXwabz",
    "outputId": "37c5a645-b250-432d-eb5a-9bb095bc34d1"
   },
   "outputs": [
    {
     "name": "stderr",
     "output_type": "stream",
     "text": [
      "C:\\Users\\pomar\\AppData\\Local\\Temp\\ipykernel_21812\\1223664256.py:3: FutureWarning: The 'delim_whitespace' keyword in pd.read_csv is deprecated and will be removed in a future version. Use ``sep='\\s+'`` instead\n",
      "  df = pd.read_csv('./Files/encuesta.txt', delim_whitespace=True, index_col='ID')\n"
     ]
    },
    {
     "data": {
      "text/html": [
       "<div>\n",
       "<style scoped>\n",
       "    .dataframe tbody tr th:only-of-type {\n",
       "        vertical-align: middle;\n",
       "    }\n",
       "\n",
       "    .dataframe tbody tr th {\n",
       "        vertical-align: top;\n",
       "    }\n",
       "\n",
       "    .dataframe thead th {\n",
       "        text-align: right;\n",
       "    }\n",
       "</style>\n",
       "<table border=\"1\" class=\"dataframe\">\n",
       "  <thead>\n",
       "    <tr style=\"text-align: right;\">\n",
       "      <th></th>\n",
       "      <th>asistio</th>\n",
       "      <th>Tarea</th>\n",
       "      <th>Comportamiento</th>\n",
       "      <th>Pago</th>\n",
       "    </tr>\n",
       "    <tr>\n",
       "      <th>ID</th>\n",
       "      <th></th>\n",
       "      <th></th>\n",
       "      <th></th>\n",
       "      <th></th>\n",
       "    </tr>\n",
       "  </thead>\n",
       "  <tbody>\n",
       "    <tr>\n",
       "      <th>cef3615d61b202f1dc794ef2746df14</th>\n",
       "      <td>1</td>\n",
       "      <td>1.0</td>\n",
       "      <td>0.0</td>\n",
       "      <td>si</td>\n",
       "    </tr>\n",
       "    <tr>\n",
       "      <th>323e5a13644d18185c743c241407754</th>\n",
       "      <td>0</td>\n",
       "      <td>0.0</td>\n",
       "      <td>NaN</td>\n",
       "      <td>no</td>\n",
       "    </tr>\n",
       "    <tr>\n",
       "      <th>b29a107e5cd062e654a63764157461d</th>\n",
       "      <td>0</td>\n",
       "      <td>0.0</td>\n",
       "      <td>NaN</td>\n",
       "      <td>no</td>\n",
       "    </tr>\n",
       "    <tr>\n",
       "      <th>04a11e4bcb573a1261eb0d9948d32637</th>\n",
       "      <td>1</td>\n",
       "      <td>0.0</td>\n",
       "      <td>0.0</td>\n",
       "      <td>si</td>\n",
       "    </tr>\n",
       "    <tr>\n",
       "      <th>9368291c3d5d5f5c8cdb1a575e18bec</th>\n",
       "      <td>1</td>\n",
       "      <td>0.0</td>\n",
       "      <td>0.0</td>\n",
       "      <td>si</td>\n",
       "    </tr>\n",
       "  </tbody>\n",
       "</table>\n",
       "</div>"
      ],
      "text/plain": [
       "                                  asistio  Tarea  Comportamiento Pago\n",
       "ID                                                                   \n",
       "cef3615d61b202f1dc794ef2746df14         1    1.0             0.0   si\n",
       "323e5a13644d18185c743c241407754         0    0.0             NaN   no\n",
       "b29a107e5cd062e654a63764157461d         0    0.0             NaN   no\n",
       "04a11e4bcb573a1261eb0d9948d32637        1    0.0             0.0   si\n",
       "9368291c3d5d5f5c8cdb1a575e18bec         1    0.0             0.0   si"
      ]
     },
     "execution_count": 56,
     "metadata": {},
     "output_type": "execute_result"
    }
   ],
   "source": [
    "# delim_whitespace=True toma múltiples espacios consecutivos como uno solo\n",
    "# index_col: usa X columna como ID\n",
    "df = pd.read_csv('./Files/encuesta.txt', delim_whitespace=True, index_col='ID')\n",
    "df.head()"
   ]
  },
  {
   "cell_type": "code",
   "execution_count": 57,
   "metadata": {
    "colab": {
     "base_uri": "https://localhost:8080/"
    },
    "executionInfo": {
     "elapsed": 222,
     "status": "ok",
     "timestamp": 1723588419855,
     "user": {
      "displayName": "Francisco Javier Navarro Barrón",
      "userId": "10181626055026217558"
     },
     "user_tz": 360
    },
    "id": "U3ci2YbYpzvG",
    "outputId": "c864bb5c-1283-44af-e92c-e3d536dbc83f"
   },
   "outputs": [
    {
     "name": "stdout",
     "output_type": "stream",
     "text": [
      "<class 'pandas.core.frame.DataFrame'>\n",
      "Index: 30 entries, cef3615d61b202f1dc794ef2746df14 to df891ef669fb23701f6622f14843bda2\n",
      "Data columns (total 4 columns):\n",
      " #   Column          Non-Null Count  Dtype  \n",
      "---  ------          --------------  -----  \n",
      " 0   asistio         30 non-null     int64  \n",
      " 1   Tarea           30 non-null     float64\n",
      " 2   Comportamiento  18 non-null     float64\n",
      " 3   Pago            30 non-null     object \n",
      "dtypes: float64(2), int64(1), object(1)\n",
      "memory usage: 1.2+ KB\n"
     ]
    }
   ],
   "source": [
    "df.info()"
   ]
  },
  {
   "cell_type": "markdown",
   "metadata": {
    "id": "kpJfw5EzWPTA"
   },
   "source": [
    "`dtype`: Define el tipo de datos para las columnas especificando con un diccionario.\n",
    "\n",
    "Ejemplo\n",
    "\n",
    "`df = pd.read_csv('archivo.csv', dtype={'columna1': 'str', 'columna2': 'int'})`"
   ]
  },
  {
   "cell_type": "code",
   "execution_count": 58,
   "metadata": {
    "colab": {
     "base_uri": "https://localhost:8080/"
    },
    "executionInfo": {
     "elapsed": 230,
     "status": "ok",
     "timestamp": 1723588734697,
     "user": {
      "displayName": "Francisco Javier Navarro Barrón",
      "userId": "10181626055026217558"
     },
     "user_tz": 360
    },
    "id": "r4NeurS6qvYw",
    "outputId": "3188aeb5-40fe-4861-f5fa-162367fb03ed"
   },
   "outputs": [
    {
     "name": "stdout",
     "output_type": "stream",
     "text": [
      "<class 'pandas.core.frame.DataFrame'>\n",
      "Index: 30 entries, cef3615d61b202f1dc794ef2746df14 to df891ef669fb23701f6622f14843bda2\n",
      "Data columns (total 4 columns):\n",
      " #   Column          Non-Null Count  Dtype  \n",
      "---  ------          --------------  -----  \n",
      " 0   asistio         30 non-null     bool   \n",
      " 1   Tarea           30 non-null     bool   \n",
      " 2   Comportamiento  18 non-null     float64\n",
      " 3   Pago            30 non-null     object \n",
      "dtypes: bool(2), float64(1), object(1)\n",
      "memory usage: 1.8+ KB\n"
     ]
    },
    {
     "name": "stderr",
     "output_type": "stream",
     "text": [
      "C:\\Users\\pomar\\AppData\\Local\\Temp\\ipykernel_21812\\183700401.py:1: FutureWarning: The 'delim_whitespace' keyword in pd.read_csv is deprecated and will be removed in a future version. Use ``sep='\\s+'`` instead\n",
      "  df = pd.read_csv('./Files/encuesta.txt',\n"
     ]
    }
   ],
   "source": [
    "df = pd.read_csv('./Files/encuesta.txt',\n",
    "                 delim_whitespace=True,\n",
    "                 index_col='ID',\n",
    "                 dtype={'asistio': bool, 'Tarea': bool})\n",
    "df.info() # 'Comportamiento': bool, 'Pago': bool"
   ]
  },
  {
   "cell_type": "markdown",
   "metadata": {
    "id": "l06MPk0srgYb"
   },
   "source": [
    "**Hallazgos**:\n",
    "* `Comportamiento` no se puede convertir a `bool` porque tiene valores `NaN`\n",
    "* `Pago` no se puede convertir porque no se puede \"inferir\" de `Object` a `bool`\n",
    "\n",
    "**Pistas**:\n",
    "* `true_values`: Lista de cadenas que representan `True`.\n",
    "* `false_values`: Lista de cadenas que representan `False`.\n",
    "* `na_filter=True`: Busca y convierte valores `NaN` automáticamente.\n",
    "* `na_filter=False`: Desactiva la búsqueda de `NaN`"
   ]
  },
  {
   "cell_type": "code",
   "execution_count": 59,
   "metadata": {
    "colab": {
     "base_uri": "https://localhost:8080/",
     "height": 237
    },
    "executionInfo": {
     "elapsed": 192,
     "status": "ok",
     "timestamp": 1723588853312,
     "user": {
      "displayName": "Francisco Javier Navarro Barrón",
      "userId": "10181626055026217558"
     },
     "user_tz": 360
    },
    "id": "TVesCbG0egMt",
    "outputId": "4f9cdfa8-c45f-44e4-b00a-6b532c1eaf37"
   },
   "outputs": [
    {
     "name": "stderr",
     "output_type": "stream",
     "text": [
      "C:\\Users\\pomar\\AppData\\Local\\Temp\\ipykernel_21812\\3894321364.py:1: FutureWarning: The 'delim_whitespace' keyword in pd.read_csv is deprecated and will be removed in a future version. Use ``sep='\\s+'`` instead\n",
      "  df = pd.read_csv('./Files/encuesta.txt',\n"
     ]
    },
    {
     "data": {
      "text/html": [
       "<div>\n",
       "<style scoped>\n",
       "    .dataframe tbody tr th:only-of-type {\n",
       "        vertical-align: middle;\n",
       "    }\n",
       "\n",
       "    .dataframe tbody tr th {\n",
       "        vertical-align: top;\n",
       "    }\n",
       "\n",
       "    .dataframe thead th {\n",
       "        text-align: right;\n",
       "    }\n",
       "</style>\n",
       "<table border=\"1\" class=\"dataframe\">\n",
       "  <thead>\n",
       "    <tr style=\"text-align: right;\">\n",
       "      <th></th>\n",
       "      <th>asistio</th>\n",
       "      <th>Tarea</th>\n",
       "      <th>Comportamiento</th>\n",
       "      <th>Pago</th>\n",
       "    </tr>\n",
       "    <tr>\n",
       "      <th>ID</th>\n",
       "      <th></th>\n",
       "      <th></th>\n",
       "      <th></th>\n",
       "      <th></th>\n",
       "    </tr>\n",
       "  </thead>\n",
       "  <tbody>\n",
       "    <tr>\n",
       "      <th>e886db962a67fdf6cddbd4e85ea5d6e6</th>\n",
       "      <td>False</td>\n",
       "      <td>True</td>\n",
       "      <td>NaN</td>\n",
       "      <td>True</td>\n",
       "    </tr>\n",
       "    <tr>\n",
       "      <th>1f641566628797bf0f811701e818b2c</th>\n",
       "      <td>True</td>\n",
       "      <td>True</td>\n",
       "      <td>0.0</td>\n",
       "      <td>True</td>\n",
       "    </tr>\n",
       "    <tr>\n",
       "      <th>10c74fd18bddfb3e26c1878a853e7f8</th>\n",
       "      <td>True</td>\n",
       "      <td>False</td>\n",
       "      <td>0.0</td>\n",
       "      <td>True</td>\n",
       "    </tr>\n",
       "    <tr>\n",
       "      <th>b953218838a2f7057ec179cae0cf83ad</th>\n",
       "      <td>True</td>\n",
       "      <td>False</td>\n",
       "      <td>1.0</td>\n",
       "      <td>True</td>\n",
       "    </tr>\n",
       "    <tr>\n",
       "      <th>6dff182b452487f07a47596f314bddc</th>\n",
       "      <td>False</td>\n",
       "      <td>True</td>\n",
       "      <td>NaN</td>\n",
       "      <td>True</td>\n",
       "    </tr>\n",
       "  </tbody>\n",
       "</table>\n",
       "</div>"
      ],
      "text/plain": [
       "                                  asistio  Tarea  Comportamiento  Pago\n",
       "ID                                                                    \n",
       "e886db962a67fdf6cddbd4e85ea5d6e6    False   True             NaN  True\n",
       "1f641566628797bf0f811701e818b2c      True   True             0.0  True\n",
       "10c74fd18bddfb3e26c1878a853e7f8      True  False             0.0  True\n",
       "b953218838a2f7057ec179cae0cf83ad     True  False             1.0  True\n",
       "6dff182b452487f07a47596f314bddc     False   True             NaN  True"
      ]
     },
     "execution_count": 59,
     "metadata": {},
     "output_type": "execute_result"
    }
   ],
   "source": [
    "df = pd.read_csv('./Files/encuesta.txt',\n",
    "                 delim_whitespace=True,\n",
    "                 index_col='ID',\n",
    "                 dtype={'asistio': bool, 'Tarea': bool},\n",
    "                 true_values=['si'], false_values=['no'])\n",
    "df.sample(5) # Muestra 5 filas al azar"
   ]
  },
  {
   "cell_type": "code",
   "execution_count": 60,
   "metadata": {
    "colab": {
     "base_uri": "https://localhost:8080/"
    },
    "executionInfo": {
     "elapsed": 198,
     "status": "ok",
     "timestamp": 1723589087280,
     "user": {
      "displayName": "Francisco Javier Navarro Barrón",
      "userId": "10181626055026217558"
     },
     "user_tz": 360
    },
    "id": "XcYBez7msejG",
    "outputId": "742edcbb-f224-49ed-8644-096025f3e73b"
   },
   "outputs": [
    {
     "name": "stdout",
     "output_type": "stream",
     "text": [
      "<class 'pandas.core.frame.DataFrame'>\n",
      "Index: 30 entries, cef3615d61b202f1dc794ef2746df14 to df891ef669fb23701f6622f14843bda2\n",
      "Data columns (total 4 columns):\n",
      " #   Column          Non-Null Count  Dtype\n",
      "---  ------          --------------  -----\n",
      " 0   asistio         30 non-null     bool \n",
      " 1   Tarea           30 non-null     bool \n",
      " 2   Comportamiento  30 non-null     bool \n",
      " 3   Pago            30 non-null     bool \n",
      "dtypes: bool(4)\n",
      "memory usage: 1.4+ KB\n"
     ]
    },
    {
     "name": "stderr",
     "output_type": "stream",
     "text": [
      "C:\\Users\\pomar\\AppData\\Local\\Temp\\ipykernel_21812\\313194492.py:2: FutureWarning: The 'delim_whitespace' keyword in pd.read_csv is deprecated and will be removed in a future version. Use ``sep='\\s+'`` instead\n",
      "  df = pd.read_csv('./Files/encuesta.txt',\n"
     ]
    }
   ],
   "source": [
    "# na_filter: controlar si debe o no filtrar los valores que se consideran NaN\n",
    "df = pd.read_csv('./Files/encuesta.txt',\n",
    "                 delim_whitespace=True,\n",
    "                 index_col='ID',\n",
    "                 dtype={'asistio': bool, 'Tarea': bool},\n",
    "                 true_values=['si','1.0'], false_values=['no','0.0','NaN'],\n",
    "                 na_filter=False)\n",
    "df.info()"
   ]
  },
  {
   "cell_type": "code",
   "execution_count": 61,
   "metadata": {
    "colab": {
     "base_uri": "https://localhost:8080/",
     "height": 237
    },
    "executionInfo": {
     "elapsed": 193,
     "status": "ok",
     "timestamp": 1723589105278,
     "user": {
      "displayName": "Francisco Javier Navarro Barrón",
      "userId": "10181626055026217558"
     },
     "user_tz": 360
    },
    "id": "B6SuKYXD6oCX",
    "outputId": "37abe845-d1ce-40a4-db89-4ebf2310a626"
   },
   "outputs": [
    {
     "data": {
      "text/html": [
       "<div>\n",
       "<style scoped>\n",
       "    .dataframe tbody tr th:only-of-type {\n",
       "        vertical-align: middle;\n",
       "    }\n",
       "\n",
       "    .dataframe tbody tr th {\n",
       "        vertical-align: top;\n",
       "    }\n",
       "\n",
       "    .dataframe thead th {\n",
       "        text-align: right;\n",
       "    }\n",
       "</style>\n",
       "<table border=\"1\" class=\"dataframe\">\n",
       "  <thead>\n",
       "    <tr style=\"text-align: right;\">\n",
       "      <th></th>\n",
       "      <th>asistio</th>\n",
       "      <th>Tarea</th>\n",
       "      <th>Comportamiento</th>\n",
       "      <th>Pago</th>\n",
       "    </tr>\n",
       "    <tr>\n",
       "      <th>ID</th>\n",
       "      <th></th>\n",
       "      <th></th>\n",
       "      <th></th>\n",
       "      <th></th>\n",
       "    </tr>\n",
       "  </thead>\n",
       "  <tbody>\n",
       "    <tr>\n",
       "      <th>e886db962a67fdf6cddbd4e85ea5d6e6</th>\n",
       "      <td>False</td>\n",
       "      <td>True</td>\n",
       "      <td>False</td>\n",
       "      <td>True</td>\n",
       "    </tr>\n",
       "    <tr>\n",
       "      <th>fb120d2658407cbedfd9f1136c94ac61</th>\n",
       "      <td>True</td>\n",
       "      <td>False</td>\n",
       "      <td>True</td>\n",
       "      <td>True</td>\n",
       "    </tr>\n",
       "    <tr>\n",
       "      <th>be38b0df499caf723af579aa6b173b0a</th>\n",
       "      <td>False</td>\n",
       "      <td>True</td>\n",
       "      <td>False</td>\n",
       "      <td>False</td>\n",
       "    </tr>\n",
       "    <tr>\n",
       "      <th>36f9d95975bfd2c89cfe75baca2d58d2</th>\n",
       "      <td>True</td>\n",
       "      <td>False</td>\n",
       "      <td>False</td>\n",
       "      <td>True</td>\n",
       "    </tr>\n",
       "    <tr>\n",
       "      <th>dd0e77eab270e4b67c19b0d6bbf621b</th>\n",
       "      <td>False</td>\n",
       "      <td>False</td>\n",
       "      <td>False</td>\n",
       "      <td>False</td>\n",
       "    </tr>\n",
       "  </tbody>\n",
       "</table>\n",
       "</div>"
      ],
      "text/plain": [
       "                                  asistio  Tarea  Comportamiento   Pago\n",
       "ID                                                                     \n",
       "e886db962a67fdf6cddbd4e85ea5d6e6    False   True           False   True\n",
       "fb120d2658407cbedfd9f1136c94ac61     True  False            True   True\n",
       "be38b0df499caf723af579aa6b173b0a    False   True           False  False\n",
       "36f9d95975bfd2c89cfe75baca2d58d2     True  False           False   True\n",
       "dd0e77eab270e4b67c19b0d6bbf621b     False  False           False  False"
      ]
     },
     "execution_count": 61,
     "metadata": {},
     "output_type": "execute_result"
    }
   ],
   "source": [
    "df.sample(5)"
   ]
  },
  {
   "cell_type": "markdown",
   "metadata": {
    "id": "Sg_1pPWxfQPK"
   },
   "source": [
    "Hay más argumentos a explorar, por ejemplo:\n",
    "\n",
    "* `index_col`: Especifica qué columna usar como índice del DataFrame.\n",
    "```\n",
    "df = pd.read_csv('archivo.csv', index_col=0)\n",
    "# Usa la primera columna como índice\n",
    "```\n",
    "\n",
    "* `usecols`: Permite seleccionar un subconjunto de columnas a leer.\n",
    "```\n",
    "df = pd.read_csv('archivo.csv', usecols=['columna1', 'columna2'])\n",
    "```\n",
    "\n",
    "* `nrows`: Lee solo un número específico de filas.\n",
    "```\n",
    "df = pd.read_csv('archivo.csv', nrows=10)\n",
    "# Lee solo las primeras 10 filas\n",
    "```\n",
    "\n"
   ]
  },
  {
   "cell_type": "markdown",
   "metadata": {
    "id": "lhOZFxfgPLn2"
   },
   "source": [
    "## Hojas de cálculo\n",
    "* Consisten en datos almacenados de forma tabular en filas y columnas.\n",
    "* A diferencia de los archivos planos, pueden tener fórmulas y formato.\n",
    "* Un solo archivo puede tener diferentes hojas de cálculo."
   ]
  },
  {
   "cell_type": "code",
   "execution_count": 62,
   "metadata": {
    "id": "RVkcovkzPO-Z"
   },
   "outputs": [
    {
     "name": "stdout",
     "output_type": "stream",
     "text": [
      "\u001b[1;31mSignature:\u001b[0m\n",
      "\u001b[0mpd\u001b[0m\u001b[1;33m.\u001b[0m\u001b[0mread_excel\u001b[0m\u001b[1;33m(\u001b[0m\u001b[1;33m\n",
      "\u001b[0m    \u001b[0mio\u001b[0m\u001b[1;33m,\u001b[0m\u001b[1;33m\n",
      "\u001b[0m    \u001b[0msheet_name\u001b[0m\u001b[1;33m:\u001b[0m \u001b[1;34m'str | int | list[IntStrT] | None'\u001b[0m \u001b[1;33m=\u001b[0m \u001b[1;36m0\u001b[0m\u001b[1;33m,\u001b[0m\u001b[1;33m\n",
      "\u001b[0m    \u001b[1;33m*\u001b[0m\u001b[1;33m,\u001b[0m\u001b[1;33m\n",
      "\u001b[0m    \u001b[0mheader\u001b[0m\u001b[1;33m:\u001b[0m \u001b[1;34m'int | Sequence[int] | None'\u001b[0m \u001b[1;33m=\u001b[0m \u001b[1;36m0\u001b[0m\u001b[1;33m,\u001b[0m\u001b[1;33m\n",
      "\u001b[0m    \u001b[0mnames\u001b[0m\u001b[1;33m:\u001b[0m \u001b[1;34m'SequenceNotStr[Hashable] | range | None'\u001b[0m \u001b[1;33m=\u001b[0m \u001b[1;32mNone\u001b[0m\u001b[1;33m,\u001b[0m\u001b[1;33m\n",
      "\u001b[0m    \u001b[0mindex_col\u001b[0m\u001b[1;33m:\u001b[0m \u001b[1;34m'int | str | Sequence[int] | None'\u001b[0m \u001b[1;33m=\u001b[0m \u001b[1;32mNone\u001b[0m\u001b[1;33m,\u001b[0m\u001b[1;33m\n",
      "\u001b[0m    \u001b[0musecols\u001b[0m\u001b[1;33m:\u001b[0m \u001b[1;34m'int | str | Sequence[int] | Sequence[str] | Callable[[str], bool] | None'\u001b[0m \u001b[1;33m=\u001b[0m \u001b[1;32mNone\u001b[0m\u001b[1;33m,\u001b[0m\u001b[1;33m\n",
      "\u001b[0m    \u001b[0mdtype\u001b[0m\u001b[1;33m:\u001b[0m \u001b[1;34m'DtypeArg | None'\u001b[0m \u001b[1;33m=\u001b[0m \u001b[1;32mNone\u001b[0m\u001b[1;33m,\u001b[0m\u001b[1;33m\n",
      "\u001b[0m    \u001b[0mengine\u001b[0m\u001b[1;33m:\u001b[0m \u001b[1;34m\"Literal['xlrd', 'openpyxl', 'odf', 'pyxlsb', 'calamine'] | None\"\u001b[0m \u001b[1;33m=\u001b[0m \u001b[1;32mNone\u001b[0m\u001b[1;33m,\u001b[0m\u001b[1;33m\n",
      "\u001b[0m    \u001b[0mconverters\u001b[0m\u001b[1;33m:\u001b[0m \u001b[1;34m'dict[str, Callable] | dict[int, Callable] | None'\u001b[0m \u001b[1;33m=\u001b[0m \u001b[1;32mNone\u001b[0m\u001b[1;33m,\u001b[0m\u001b[1;33m\n",
      "\u001b[0m    \u001b[0mtrue_values\u001b[0m\u001b[1;33m:\u001b[0m \u001b[1;34m'Iterable[Hashable] | None'\u001b[0m \u001b[1;33m=\u001b[0m \u001b[1;32mNone\u001b[0m\u001b[1;33m,\u001b[0m\u001b[1;33m\n",
      "\u001b[0m    \u001b[0mfalse_values\u001b[0m\u001b[1;33m:\u001b[0m \u001b[1;34m'Iterable[Hashable] | None'\u001b[0m \u001b[1;33m=\u001b[0m \u001b[1;32mNone\u001b[0m\u001b[1;33m,\u001b[0m\u001b[1;33m\n",
      "\u001b[0m    \u001b[0mskiprows\u001b[0m\u001b[1;33m:\u001b[0m \u001b[1;34m'Sequence[int] | int | Callable[[int], object] | None'\u001b[0m \u001b[1;33m=\u001b[0m \u001b[1;32mNone\u001b[0m\u001b[1;33m,\u001b[0m\u001b[1;33m\n",
      "\u001b[0m    \u001b[0mnrows\u001b[0m\u001b[1;33m:\u001b[0m \u001b[1;34m'int | None'\u001b[0m \u001b[1;33m=\u001b[0m \u001b[1;32mNone\u001b[0m\u001b[1;33m,\u001b[0m\u001b[1;33m\n",
      "\u001b[0m    \u001b[0mna_values\u001b[0m\u001b[1;33m=\u001b[0m\u001b[1;32mNone\u001b[0m\u001b[1;33m,\u001b[0m\u001b[1;33m\n",
      "\u001b[0m    \u001b[0mkeep_default_na\u001b[0m\u001b[1;33m:\u001b[0m \u001b[1;34m'bool'\u001b[0m \u001b[1;33m=\u001b[0m \u001b[1;32mTrue\u001b[0m\u001b[1;33m,\u001b[0m\u001b[1;33m\n",
      "\u001b[0m    \u001b[0mna_filter\u001b[0m\u001b[1;33m:\u001b[0m \u001b[1;34m'bool'\u001b[0m \u001b[1;33m=\u001b[0m \u001b[1;32mTrue\u001b[0m\u001b[1;33m,\u001b[0m\u001b[1;33m\n",
      "\u001b[0m    \u001b[0mverbose\u001b[0m\u001b[1;33m:\u001b[0m \u001b[1;34m'bool'\u001b[0m \u001b[1;33m=\u001b[0m \u001b[1;32mFalse\u001b[0m\u001b[1;33m,\u001b[0m\u001b[1;33m\n",
      "\u001b[0m    \u001b[0mparse_dates\u001b[0m\u001b[1;33m:\u001b[0m \u001b[1;34m'list | dict | bool'\u001b[0m \u001b[1;33m=\u001b[0m \u001b[1;32mFalse\u001b[0m\u001b[1;33m,\u001b[0m\u001b[1;33m\n",
      "\u001b[0m    \u001b[0mdate_parser\u001b[0m\u001b[1;33m:\u001b[0m \u001b[1;34m'Callable | lib.NoDefault'\u001b[0m \u001b[1;33m=\u001b[0m \u001b[1;33m<\u001b[0m\u001b[0mno_default\u001b[0m\u001b[1;33m>\u001b[0m\u001b[1;33m,\u001b[0m\u001b[1;33m\n",
      "\u001b[0m    \u001b[0mdate_format\u001b[0m\u001b[1;33m:\u001b[0m \u001b[1;34m'dict[Hashable, str] | str | None'\u001b[0m \u001b[1;33m=\u001b[0m \u001b[1;32mNone\u001b[0m\u001b[1;33m,\u001b[0m\u001b[1;33m\n",
      "\u001b[0m    \u001b[0mthousands\u001b[0m\u001b[1;33m:\u001b[0m \u001b[1;34m'str | None'\u001b[0m \u001b[1;33m=\u001b[0m \u001b[1;32mNone\u001b[0m\u001b[1;33m,\u001b[0m\u001b[1;33m\n",
      "\u001b[0m    \u001b[0mdecimal\u001b[0m\u001b[1;33m:\u001b[0m \u001b[1;34m'str'\u001b[0m \u001b[1;33m=\u001b[0m \u001b[1;34m'.'\u001b[0m\u001b[1;33m,\u001b[0m\u001b[1;33m\n",
      "\u001b[0m    \u001b[0mcomment\u001b[0m\u001b[1;33m:\u001b[0m \u001b[1;34m'str | None'\u001b[0m \u001b[1;33m=\u001b[0m \u001b[1;32mNone\u001b[0m\u001b[1;33m,\u001b[0m\u001b[1;33m\n",
      "\u001b[0m    \u001b[0mskipfooter\u001b[0m\u001b[1;33m:\u001b[0m \u001b[1;34m'int'\u001b[0m \u001b[1;33m=\u001b[0m \u001b[1;36m0\u001b[0m\u001b[1;33m,\u001b[0m\u001b[1;33m\n",
      "\u001b[0m    \u001b[0mstorage_options\u001b[0m\u001b[1;33m:\u001b[0m \u001b[1;34m'StorageOptions | None'\u001b[0m \u001b[1;33m=\u001b[0m \u001b[1;32mNone\u001b[0m\u001b[1;33m,\u001b[0m\u001b[1;33m\n",
      "\u001b[0m    \u001b[0mdtype_backend\u001b[0m\u001b[1;33m:\u001b[0m \u001b[1;34m'DtypeBackend | lib.NoDefault'\u001b[0m \u001b[1;33m=\u001b[0m \u001b[1;33m<\u001b[0m\u001b[0mno_default\u001b[0m\u001b[1;33m>\u001b[0m\u001b[1;33m,\u001b[0m\u001b[1;33m\n",
      "\u001b[0m    \u001b[0mengine_kwargs\u001b[0m\u001b[1;33m:\u001b[0m \u001b[1;34m'dict | None'\u001b[0m \u001b[1;33m=\u001b[0m \u001b[1;32mNone\u001b[0m\u001b[1;33m,\u001b[0m\u001b[1;33m\n",
      "\u001b[0m\u001b[1;33m)\u001b[0m \u001b[1;33m->\u001b[0m \u001b[1;34m'DataFrame | dict[IntStrT, DataFrame]'\u001b[0m\u001b[1;33m\u001b[0m\u001b[1;33m\u001b[0m\u001b[0m\n",
      "\u001b[1;31mDocstring:\u001b[0m\n",
      "Read an Excel file into a ``pandas`` ``DataFrame``.\n",
      "\n",
      "Supports `xls`, `xlsx`, `xlsm`, `xlsb`, `odf`, `ods` and `odt` file extensions\n",
      "read from a local filesystem or URL. Supports an option to read\n",
      "a single sheet or a list of sheets.\n",
      "\n",
      "Parameters\n",
      "----------\n",
      "io : str, bytes, ExcelFile, xlrd.Book, path object, or file-like object\n",
      "    Any valid string path is acceptable. The string could be a URL. Valid\n",
      "    URL schemes include http, ftp, s3, and file. For file URLs, a host is\n",
      "    expected. A local file could be: ``file://localhost/path/to/table.xlsx``.\n",
      "\n",
      "    If you want to pass in a path object, pandas accepts any ``os.PathLike``.\n",
      "\n",
      "    By file-like object, we refer to objects with a ``read()`` method,\n",
      "    such as a file handle (e.g. via builtin ``open`` function)\n",
      "    or ``StringIO``.\n",
      "\n",
      "    .. deprecated:: 2.1.0\n",
      "        Passing byte strings is deprecated. To read from a\n",
      "        byte string, wrap it in a ``BytesIO`` object.\n",
      "sheet_name : str, int, list, or None, default 0\n",
      "    Strings are used for sheet names. Integers are used in zero-indexed\n",
      "    sheet positions (chart sheets do not count as a sheet position).\n",
      "    Lists of strings/integers are used to request multiple sheets.\n",
      "    Specify ``None`` to get all worksheets.\n",
      "\n",
      "    Available cases:\n",
      "\n",
      "    * Defaults to ``0``: 1st sheet as a `DataFrame`\n",
      "    * ``1``: 2nd sheet as a `DataFrame`\n",
      "    * ``\"Sheet1\"``: Load sheet with name \"Sheet1\"\n",
      "    * ``[0, 1, \"Sheet5\"]``: Load first, second and sheet named \"Sheet5\"\n",
      "      as a dict of `DataFrame`\n",
      "    * ``None``: All worksheets.\n",
      "\n",
      "header : int, list of int, default 0\n",
      "    Row (0-indexed) to use for the column labels of the parsed\n",
      "    DataFrame. If a list of integers is passed those row positions will\n",
      "    be combined into a ``MultiIndex``. Use None if there is no header.\n",
      "names : array-like, default None\n",
      "    List of column names to use. If file contains no header row,\n",
      "    then you should explicitly pass header=None.\n",
      "index_col : int, str, list of int, default None\n",
      "    Column (0-indexed) to use as the row labels of the DataFrame.\n",
      "    Pass None if there is no such column.  If a list is passed,\n",
      "    those columns will be combined into a ``MultiIndex``.  If a\n",
      "    subset of data is selected with ``usecols``, index_col\n",
      "    is based on the subset.\n",
      "\n",
      "    Missing values will be forward filled to allow roundtripping with\n",
      "    ``to_excel`` for ``merged_cells=True``. To avoid forward filling the\n",
      "    missing values use ``set_index`` after reading the data instead of\n",
      "    ``index_col``.\n",
      "usecols : str, list-like, or callable, default None\n",
      "    * If None, then parse all columns.\n",
      "    * If str, then indicates comma separated list of Excel column letters\n",
      "      and column ranges (e.g. \"A:E\" or \"A,C,E:F\"). Ranges are inclusive of\n",
      "      both sides.\n",
      "    * If list of int, then indicates list of column numbers to be parsed\n",
      "      (0-indexed).\n",
      "    * If list of string, then indicates list of column names to be parsed.\n",
      "    * If callable, then evaluate each column name against it and parse the\n",
      "      column if the callable returns ``True``.\n",
      "\n",
      "    Returns a subset of the columns according to behavior above.\n",
      "dtype : Type name or dict of column -> type, default None\n",
      "    Data type for data or columns. E.g. {'a': np.float64, 'b': np.int32}\n",
      "    Use ``object`` to preserve data as stored in Excel and not interpret dtype,\n",
      "    which will necessarily result in ``object`` dtype.\n",
      "    If converters are specified, they will be applied INSTEAD\n",
      "    of dtype conversion.\n",
      "    If you use ``None``, it will infer the dtype of each column based on the data.\n",
      "engine : {'openpyxl', 'calamine', 'odf', 'pyxlsb', 'xlrd'}, default None\n",
      "    If io is not a buffer or path, this must be set to identify io.\n",
      "    Engine compatibility :\n",
      "\n",
      "    - ``openpyxl`` supports newer Excel file formats.\n",
      "    - ``calamine`` supports Excel (.xls, .xlsx, .xlsm, .xlsb)\n",
      "      and OpenDocument (.ods) file formats.\n",
      "    - ``odf`` supports OpenDocument file formats (.odf, .ods, .odt).\n",
      "    - ``pyxlsb`` supports Binary Excel files.\n",
      "    - ``xlrd`` supports old-style Excel files (.xls).\n",
      "\n",
      "    When ``engine=None``, the following logic will be used to determine the engine:\n",
      "\n",
      "    - If ``path_or_buffer`` is an OpenDocument format (.odf, .ods, .odt),\n",
      "      then `odf <https://pypi.org/project/odfpy/>`_ will be used.\n",
      "    - Otherwise if ``path_or_buffer`` is an xls format, ``xlrd`` will be used.\n",
      "    - Otherwise if ``path_or_buffer`` is in xlsb format, ``pyxlsb`` will be used.\n",
      "    - Otherwise ``openpyxl`` will be used.\n",
      "converters : dict, default None\n",
      "    Dict of functions for converting values in certain columns. Keys can\n",
      "    either be integers or column labels, values are functions that take one\n",
      "    input argument, the Excel cell content, and return the transformed\n",
      "    content.\n",
      "true_values : list, default None\n",
      "    Values to consider as True.\n",
      "false_values : list, default None\n",
      "    Values to consider as False.\n",
      "skiprows : list-like, int, or callable, optional\n",
      "    Line numbers to skip (0-indexed) or number of lines to skip (int) at the\n",
      "    start of the file. If callable, the callable function will be evaluated\n",
      "    against the row indices, returning True if the row should be skipped and\n",
      "    False otherwise. An example of a valid callable argument would be ``lambda\n",
      "    x: x in [0, 2]``.\n",
      "nrows : int, default None\n",
      "    Number of rows to parse.\n",
      "na_values : scalar, str, list-like, or dict, default None\n",
      "    Additional strings to recognize as NA/NaN. If dict passed, specific\n",
      "    per-column NA values. By default the following values are interpreted\n",
      "    as NaN: '', '#N/A', '#N/A N/A', '#NA', '-1.#IND', '-1.#QNAN', '-NaN', '-nan',\n",
      "    '1.#IND', '1.#QNAN', '<NA>', 'N/A', 'NA', 'NULL', 'NaN', 'None',\n",
      "    'n/a', 'nan', 'null'.\n",
      "keep_default_na : bool, default True\n",
      "    Whether or not to include the default NaN values when parsing the data.\n",
      "    Depending on whether ``na_values`` is passed in, the behavior is as follows:\n",
      "\n",
      "    * If ``keep_default_na`` is True, and ``na_values`` are specified,\n",
      "      ``na_values`` is appended to the default NaN values used for parsing.\n",
      "    * If ``keep_default_na`` is True, and ``na_values`` are not specified, only\n",
      "      the default NaN values are used for parsing.\n",
      "    * If ``keep_default_na`` is False, and ``na_values`` are specified, only\n",
      "      the NaN values specified ``na_values`` are used for parsing.\n",
      "    * If ``keep_default_na`` is False, and ``na_values`` are not specified, no\n",
      "      strings will be parsed as NaN.\n",
      "\n",
      "    Note that if `na_filter` is passed in as False, the ``keep_default_na`` and\n",
      "    ``na_values`` parameters will be ignored.\n",
      "na_filter : bool, default True\n",
      "    Detect missing value markers (empty strings and the value of na_values). In\n",
      "    data without any NAs, passing ``na_filter=False`` can improve the\n",
      "    performance of reading a large file.\n",
      "verbose : bool, default False\n",
      "    Indicate number of NA values placed in non-numeric columns.\n",
      "parse_dates : bool, list-like, or dict, default False\n",
      "    The behavior is as follows:\n",
      "\n",
      "    * ``bool``. If True -> try parsing the index.\n",
      "    * ``list`` of int or names. e.g. If [1, 2, 3] -> try parsing columns 1, 2, 3\n",
      "      each as a separate date column.\n",
      "    * ``list`` of lists. e.g.  If [[1, 3]] -> combine columns 1 and 3 and parse as\n",
      "      a single date column.\n",
      "    * ``dict``, e.g. {'foo' : [1, 3]} -> parse columns 1, 3 as date and call\n",
      "      result 'foo'\n",
      "\n",
      "    If a column or index contains an unparsable date, the entire column or\n",
      "    index will be returned unaltered as an object data type. If you don`t want to\n",
      "    parse some cells as date just change their type in Excel to \"Text\".\n",
      "    For non-standard datetime parsing, use ``pd.to_datetime`` after ``pd.read_excel``.\n",
      "\n",
      "    Note: A fast-path exists for iso8601-formatted dates.\n",
      "date_parser : function, optional\n",
      "    Function to use for converting a sequence of string columns to an array of\n",
      "    datetime instances. The default uses ``dateutil.parser.parser`` to do the\n",
      "    conversion. Pandas will try to call `date_parser` in three different ways,\n",
      "    advancing to the next if an exception occurs: 1) Pass one or more arrays\n",
      "    (as defined by `parse_dates`) as arguments; 2) concatenate (row-wise) the\n",
      "    string values from the columns defined by `parse_dates` into a single array\n",
      "    and pass that; and 3) call `date_parser` once for each row using one or\n",
      "    more strings (corresponding to the columns defined by `parse_dates`) as\n",
      "    arguments.\n",
      "\n",
      "    .. deprecated:: 2.0.0\n",
      "       Use ``date_format`` instead, or read in as ``object`` and then apply\n",
      "       :func:`to_datetime` as-needed.\n",
      "date_format : str or dict of column -> format, default ``None``\n",
      "   If used in conjunction with ``parse_dates``, will parse dates according to this\n",
      "   format. For anything more complex,\n",
      "   please read in as ``object`` and then apply :func:`to_datetime` as-needed.\n",
      "\n",
      "   .. versionadded:: 2.0.0\n",
      "thousands : str, default None\n",
      "    Thousands separator for parsing string columns to numeric.  Note that\n",
      "    this parameter is only necessary for columns stored as TEXT in Excel,\n",
      "    any numeric columns will automatically be parsed, regardless of display\n",
      "    format.\n",
      "decimal : str, default '.'\n",
      "    Character to recognize as decimal point for parsing string columns to numeric.\n",
      "    Note that this parameter is only necessary for columns stored as TEXT in Excel,\n",
      "    any numeric columns will automatically be parsed, regardless of display\n",
      "    format.(e.g. use ',' for European data).\n",
      "\n",
      "    .. versionadded:: 1.4.0\n",
      "\n",
      "comment : str, default None\n",
      "    Comments out remainder of line. Pass a character or characters to this\n",
      "    argument to indicate comments in the input file. Any data between the\n",
      "    comment string and the end of the current line is ignored.\n",
      "skipfooter : int, default 0\n",
      "    Rows at the end to skip (0-indexed).\n",
      "storage_options : dict, optional\n",
      "    Extra options that make sense for a particular storage connection, e.g.\n",
      "    host, port, username, password, etc. For HTTP(S) URLs the key-value pairs\n",
      "    are forwarded to ``urllib.request.Request`` as header options. For other\n",
      "    URLs (e.g. starting with \"s3://\", and \"gcs://\") the key-value pairs are\n",
      "    forwarded to ``fsspec.open``. Please see ``fsspec`` and ``urllib`` for more\n",
      "    details, and for more examples on storage options refer `here\n",
      "    <https://pandas.pydata.org/docs/user_guide/io.html?\n",
      "    highlight=storage_options#reading-writing-remote-files>`_.\n",
      "\n",
      "dtype_backend : {'numpy_nullable', 'pyarrow'}, default 'numpy_nullable'\n",
      "    Back-end data type applied to the resultant :class:`DataFrame`\n",
      "    (still experimental). Behaviour is as follows:\n",
      "\n",
      "    * ``\"numpy_nullable\"``: returns nullable-dtype-backed :class:`DataFrame`\n",
      "      (default).\n",
      "    * ``\"pyarrow\"``: returns pyarrow-backed nullable :class:`ArrowDtype`\n",
      "      DataFrame.\n",
      "\n",
      "    .. versionadded:: 2.0\n",
      "\n",
      "engine_kwargs : dict, optional\n",
      "    Arbitrary keyword arguments passed to excel engine.\n",
      "\n",
      "Returns\n",
      "-------\n",
      "DataFrame or dict of DataFrames\n",
      "    DataFrame from the passed in Excel file. See notes in sheet_name\n",
      "    argument for more information on when a dict of DataFrames is returned.\n",
      "\n",
      "See Also\n",
      "--------\n",
      "DataFrame.to_excel : Write DataFrame to an Excel file.\n",
      "DataFrame.to_csv : Write DataFrame to a comma-separated values (csv) file.\n",
      "read_csv : Read a comma-separated values (csv) file into DataFrame.\n",
      "read_fwf : Read a table of fixed-width formatted lines into DataFrame.\n",
      "\n",
      "Notes\n",
      "-----\n",
      "For specific information on the methods used for each Excel engine, refer to the pandas\n",
      ":ref:`user guide <io.excel_reader>`\n",
      "\n",
      "Examples\n",
      "--------\n",
      "The file can be read using the file name as string or an open file object:\n",
      "\n",
      ">>> pd.read_excel('tmp.xlsx', index_col=0)  # doctest: +SKIP\n",
      "       Name  Value\n",
      "0   string1      1\n",
      "1   string2      2\n",
      "2  #Comment      3\n",
      "\n",
      ">>> pd.read_excel(open('tmp.xlsx', 'rb'),\n",
      "...               sheet_name='Sheet3')  # doctest: +SKIP\n",
      "   Unnamed: 0      Name  Value\n",
      "0           0   string1      1\n",
      "1           1   string2      2\n",
      "2           2  #Comment      3\n",
      "\n",
      "Index and header can be specified via the `index_col` and `header` arguments\n",
      "\n",
      ">>> pd.read_excel('tmp.xlsx', index_col=None, header=None)  # doctest: +SKIP\n",
      "     0         1      2\n",
      "0  NaN      Name  Value\n",
      "1  0.0   string1      1\n",
      "2  1.0   string2      2\n",
      "3  2.0  #Comment      3\n",
      "\n",
      "Column types are inferred but can be explicitly specified\n",
      "\n",
      ">>> pd.read_excel('tmp.xlsx', index_col=0,\n",
      "...               dtype={'Name': str, 'Value': float})  # doctest: +SKIP\n",
      "       Name  Value\n",
      "0   string1    1.0\n",
      "1   string2    2.0\n",
      "2  #Comment    3.0\n",
      "\n",
      "True, False, and NA values, and thousands separators have defaults,\n",
      "but can be explicitly specified, too. Supply the values you would like\n",
      "as strings or lists of strings!\n",
      "\n",
      ">>> pd.read_excel('tmp.xlsx', index_col=0,\n",
      "...               na_values=['string1', 'string2'])  # doctest: +SKIP\n",
      "       Name  Value\n",
      "0       NaN      1\n",
      "1       NaN      2\n",
      "2  #Comment      3\n",
      "\n",
      "Comment lines in the excel input file can be skipped using the\n",
      "``comment`` kwarg.\n",
      "\n",
      ">>> pd.read_excel('tmp.xlsx', index_col=0, comment='#')  # doctest: +SKIP\n",
      "      Name  Value\n",
      "0  string1    1.0\n",
      "1  string2    2.0\n",
      "2     None    NaN\n",
      "\u001b[1;31mFile:\u001b[0m      c:\\users\\pomar\\appdata\\local\\programs\\python\\python312\\lib\\site-packages\\pandas\\io\\excel\\_base.py\n",
      "\u001b[1;31mType:\u001b[0m      function"
     ]
    }
   ],
   "source": [
    "pd.read_excel?"
   ]
  },
  {
   "cell_type": "code",
   "execution_count": null,
   "metadata": {
    "colab": {
     "base_uri": "https://localhost:8080/",
     "height": 206
    },
    "executionInfo": {
     "elapsed": 8435,
     "status": "ok",
     "timestamp": 1723590708134,
     "user": {
      "displayName": "Francisco Javier Navarro Barrón",
      "userId": "10181626055026217558"
     },
     "user_tz": 360
    },
    "id": "sBn20Q3PPrvR",
    "outputId": "dfb53413-e6be-4e61-e4fc-1ee23e835335"
   },
   "outputs": [
    {
     "name": "stderr",
     "output_type": "stream",
     "text": [
      "\n",
      "[notice] A new release of pip is available: 24.0 -> 25.0.1\n",
      "[notice] To update, run: python.exe -m pip install --upgrade pip\n"
     ]
    },
    {
     "name": "stdout",
     "output_type": "stream",
     "text": [
      "Requirement already satisfied: openpyxl in c:\\users\\pomar\\appdata\\local\\programs\\python\\python312\\lib\\site-packages (3.1.5)\n",
      "Requirement already satisfied: et-xmlfile in c:\\users\\pomar\\appdata\\local\\programs\\python\\python312\\lib\\site-packages (from openpyxl) (2.0.0)\n",
      "Note: you may need to restart the kernel to use updated packages.\n"
     ]
    },
    {
     "data": {
      "text/html": [
       "<div>\n",
       "<style scoped>\n",
       "    .dataframe tbody tr th:only-of-type {\n",
       "        vertical-align: middle;\n",
       "    }\n",
       "\n",
       "    .dataframe tbody tr th {\n",
       "        vertical-align: top;\n",
       "    }\n",
       "\n",
       "    .dataframe thead th {\n",
       "        text-align: right;\n",
       "    }\n",
       "</style>\n",
       "<table border=\"1\" class=\"dataframe\">\n",
       "  <thead>\n",
       "    <tr style=\"text-align: right;\">\n",
       "      <th></th>\n",
       "      <th>Age</th>\n",
       "      <th>Sex</th>\n",
       "      <th>ID</th>\n",
       "      <th>Race</th>\n",
       "      <th>Country</th>\n",
       "      <th>Education</th>\n",
       "      <th>Education-Num</th>\n",
       "      <th>Marital Status</th>\n",
       "      <th>Relationship</th>\n",
       "    </tr>\n",
       "  </thead>\n",
       "  <tbody>\n",
       "    <tr>\n",
       "      <th>0</th>\n",
       "      <td>39.0</td>\n",
       "      <td>Male</td>\n",
       "      <td>49084</td>\n",
       "      <td>White</td>\n",
       "      <td>United-States</td>\n",
       "      <td>Bachelors</td>\n",
       "      <td>13.0</td>\n",
       "      <td>Never-married</td>\n",
       "      <td>Not-in-family</td>\n",
       "    </tr>\n",
       "    <tr>\n",
       "      <th>1</th>\n",
       "      <td>50.0</td>\n",
       "      <td>Male</td>\n",
       "      <td>68553</td>\n",
       "      <td>White</td>\n",
       "      <td>United-States</td>\n",
       "      <td>Bachelors</td>\n",
       "      <td>13.0</td>\n",
       "      <td>Married-civ-spouse</td>\n",
       "      <td>Husband</td>\n",
       "    </tr>\n",
       "    <tr>\n",
       "      <th>2</th>\n",
       "      <td>38.0</td>\n",
       "      <td>Male</td>\n",
       "      <td>143654</td>\n",
       "      <td>White</td>\n",
       "      <td>United-States</td>\n",
       "      <td>HS-grad</td>\n",
       "      <td>9.0</td>\n",
       "      <td>Divorced</td>\n",
       "      <td>Not-in-family</td>\n",
       "    </tr>\n",
       "    <tr>\n",
       "      <th>3</th>\n",
       "      <td>53.0</td>\n",
       "      <td>Male</td>\n",
       "      <td>41510</td>\n",
       "      <td>Black</td>\n",
       "      <td>United-States</td>\n",
       "      <td>11th</td>\n",
       "      <td>7.0</td>\n",
       "      <td>Married-civ-spouse</td>\n",
       "      <td>Husband</td>\n",
       "    </tr>\n",
       "    <tr>\n",
       "      <th>4</th>\n",
       "      <td>28.0</td>\n",
       "      <td>Female</td>\n",
       "      <td>195025</td>\n",
       "      <td>Black</td>\n",
       "      <td>Cuba</td>\n",
       "      <td>Bachelors</td>\n",
       "      <td>13.0</td>\n",
       "      <td>Married-civ-spouse</td>\n",
       "      <td>Wife</td>\n",
       "    </tr>\n",
       "  </tbody>\n",
       "</table>\n",
       "</div>"
      ],
      "text/plain": [
       "    Age      Sex      ID    Race         Country   Education  Education-Num  \\\n",
       "0  39.0     Male   49084   White   United-States   Bachelors           13.0   \n",
       "1  50.0     Male   68553   White   United-States   Bachelors           13.0   \n",
       "2  38.0     Male  143654   White   United-States     HS-grad            9.0   \n",
       "3  53.0     Male   41510   Black   United-States        11th            7.0   \n",
       "4  28.0   Female  195025   Black            Cuba   Bachelors           13.0   \n",
       "\n",
       "        Marital Status    Relationship  \n",
       "0        Never-married   Not-in-family  \n",
       "1   Married-civ-spouse         Husband  \n",
       "2             Divorced   Not-in-family  \n",
       "3   Married-civ-spouse         Husband  \n",
       "4   Married-civ-spouse            Wife  "
      ]
     },
     "execution_count": 63,
     "metadata": {},
     "output_type": "execute_result"
    }
   ],
   "source": [
    "## %pip install openpyxl\n",
    "df = pd.read_excel('./Files/data.xlsx', sheet_name=1)\n",
    "df.head()"
   ]
  },
  {
   "cell_type": "code",
   "execution_count": 64,
   "metadata": {
    "colab": {
     "base_uri": "https://localhost:8080/",
     "height": 206
    },
    "executionInfo": {
     "elapsed": 7794,
     "status": "ok",
     "timestamp": 1723590756284,
     "user": {
      "displayName": "Francisco Javier Navarro Barrón",
      "userId": "10181626055026217558"
     },
     "user_tz": 360
    },
    "id": "oAZy4F6HRUkM",
    "outputId": "2df308af-d978-4b0c-edef-2975aad35c66"
   },
   "outputs": [
    {
     "data": {
      "text/html": [
       "<div>\n",
       "<style scoped>\n",
       "    .dataframe tbody tr th:only-of-type {\n",
       "        vertical-align: middle;\n",
       "    }\n",
       "\n",
       "    .dataframe tbody tr th {\n",
       "        vertical-align: top;\n",
       "    }\n",
       "\n",
       "    .dataframe thead th {\n",
       "        text-align: right;\n",
       "    }\n",
       "</style>\n",
       "<table border=\"1\" class=\"dataframe\">\n",
       "  <thead>\n",
       "    <tr style=\"text-align: right;\">\n",
       "      <th></th>\n",
       "      <th>ID</th>\n",
       "      <th>Race</th>\n",
       "      <th>Country</th>\n",
       "      <th>Education</th>\n",
       "      <th>Education-Num</th>\n",
       "      <th>Relationship</th>\n",
       "    </tr>\n",
       "  </thead>\n",
       "  <tbody>\n",
       "    <tr>\n",
       "      <th>0</th>\n",
       "      <td>49084</td>\n",
       "      <td>White</td>\n",
       "      <td>United-States</td>\n",
       "      <td>Bachelors</td>\n",
       "      <td>13.0</td>\n",
       "      <td>Not-in-family</td>\n",
       "    </tr>\n",
       "    <tr>\n",
       "      <th>1</th>\n",
       "      <td>68553</td>\n",
       "      <td>White</td>\n",
       "      <td>United-States</td>\n",
       "      <td>Bachelors</td>\n",
       "      <td>13.0</td>\n",
       "      <td>Husband</td>\n",
       "    </tr>\n",
       "    <tr>\n",
       "      <th>2</th>\n",
       "      <td>143654</td>\n",
       "      <td>White</td>\n",
       "      <td>United-States</td>\n",
       "      <td>HS-grad</td>\n",
       "      <td>9.0</td>\n",
       "      <td>Not-in-family</td>\n",
       "    </tr>\n",
       "    <tr>\n",
       "      <th>3</th>\n",
       "      <td>41510</td>\n",
       "      <td>Black</td>\n",
       "      <td>United-States</td>\n",
       "      <td>11th</td>\n",
       "      <td>7.0</td>\n",
       "      <td>Husband</td>\n",
       "    </tr>\n",
       "    <tr>\n",
       "      <th>4</th>\n",
       "      <td>195025</td>\n",
       "      <td>Black</td>\n",
       "      <td>Cuba</td>\n",
       "      <td>Bachelors</td>\n",
       "      <td>13.0</td>\n",
       "      <td>Wife</td>\n",
       "    </tr>\n",
       "  </tbody>\n",
       "</table>\n",
       "</div>"
      ],
      "text/plain": [
       "       ID    Race         Country   Education  Education-Num    Relationship\n",
       "0   49084   White   United-States   Bachelors           13.0   Not-in-family\n",
       "1   68553   White   United-States   Bachelors           13.0         Husband\n",
       "2  143654   White   United-States     HS-grad            9.0   Not-in-family\n",
       "3   41510   Black   United-States        11th            7.0         Husband\n",
       "4  195025   Black            Cuba   Bachelors           13.0            Wife"
      ]
     },
     "execution_count": 64,
     "metadata": {},
     "output_type": "execute_result"
    }
   ],
   "source": [
    "df = pd.read_excel('./Files/data.xlsx', sheet_name=1, usecols='C:G,I')\n",
    "df.head()"
   ]
  },
  {
   "cell_type": "markdown",
   "metadata": {
    "id": "HE-bdikGgruL"
   },
   "source": [
    "Usar `pd.ExcelFile()` es útil cuando necesitas trabajar con un archivo de Excel que contiene múltiples hojas y deseas acceder a ellas de manera eficiente."
   ]
  },
  {
   "cell_type": "code",
   "execution_count": 65,
   "metadata": {
    "colab": {
     "base_uri": "https://localhost:8080/",
     "height": 203
    },
    "executionInfo": {
     "elapsed": 226,
     "status": "ok",
     "timestamp": 1723590883183,
     "user": {
      "displayName": "Francisco Javier Navarro Barrón",
      "userId": "10181626055026217558"
     },
     "user_tz": 360
    },
    "id": "wTFTHuDzSBzW",
    "outputId": "69db9512-b857-4856-c8b3-d8368d6f0373"
   },
   "outputs": [
    {
     "data": {
      "text/plain": [
       "pandas.io.excel._base.ExcelFile"
      ]
     },
     "execution_count": 65,
     "metadata": {},
     "output_type": "execute_result"
    }
   ],
   "source": [
    "xls = pd.ExcelFile('./Files/data.xlsx') # objeto que referencia a la hoja de cálculo\n",
    "type(xls)"
   ]
  },
  {
   "cell_type": "code",
   "execution_count": 66,
   "metadata": {
    "colab": {
     "base_uri": "https://localhost:8080/"
    },
    "executionInfo": {
     "elapsed": 205,
     "status": "ok",
     "timestamp": 1723590908051,
     "user": {
      "displayName": "Francisco Javier Navarro Barrón",
      "userId": "10181626055026217558"
     },
     "user_tz": 360
    },
    "id": "EPewnMO0SHge",
    "outputId": "1288d4f1-d8db-4cd3-9bd7-ffec5dd9c241"
   },
   "outputs": [
    {
     "data": {
      "text/plain": [
       "['Sheet1', 'Sheet1_2']"
      ]
     },
     "execution_count": 66,
     "metadata": {},
     "output_type": "execute_result"
    }
   ],
   "source": [
    "xls.sheet_names"
   ]
  },
  {
   "cell_type": "code",
   "execution_count": 67,
   "metadata": {
    "colab": {
     "base_uri": "https://localhost:8080/",
     "height": 206
    },
    "executionInfo": {
     "elapsed": 7909,
     "status": "ok",
     "timestamp": 1723590984865,
     "user": {
      "displayName": "Francisco Javier Navarro Barrón",
      "userId": "10181626055026217558"
     },
     "user_tz": 360
    },
    "id": "B8iMJH3vSRQN",
    "outputId": "24c5452f-758d-4b95-d1f0-39d42588bbe4"
   },
   "outputs": [
    {
     "data": {
      "text/html": [
       "<div>\n",
       "<style scoped>\n",
       "    .dataframe tbody tr th:only-of-type {\n",
       "        vertical-align: middle;\n",
       "    }\n",
       "\n",
       "    .dataframe tbody tr th {\n",
       "        vertical-align: top;\n",
       "    }\n",
       "\n",
       "    .dataframe thead th {\n",
       "        text-align: right;\n",
       "    }\n",
       "</style>\n",
       "<table border=\"1\" class=\"dataframe\">\n",
       "  <thead>\n",
       "    <tr style=\"text-align: right;\">\n",
       "      <th></th>\n",
       "      <th>Age</th>\n",
       "      <th>Sex</th>\n",
       "      <th>ID</th>\n",
       "      <th>Race</th>\n",
       "      <th>Country</th>\n",
       "      <th>Education</th>\n",
       "      <th>Education-Num</th>\n",
       "      <th>Marital Status</th>\n",
       "      <th>Relationship</th>\n",
       "    </tr>\n",
       "  </thead>\n",
       "  <tbody>\n",
       "    <tr>\n",
       "      <th>0</th>\n",
       "      <td>39.0</td>\n",
       "      <td>Male</td>\n",
       "      <td>49084</td>\n",
       "      <td>White</td>\n",
       "      <td>United-States</td>\n",
       "      <td>Bachelors</td>\n",
       "      <td>13.0</td>\n",
       "      <td>Never-married</td>\n",
       "      <td>Not-in-family</td>\n",
       "    </tr>\n",
       "    <tr>\n",
       "      <th>1</th>\n",
       "      <td>50.0</td>\n",
       "      <td>Male</td>\n",
       "      <td>68553</td>\n",
       "      <td>White</td>\n",
       "      <td>United-States</td>\n",
       "      <td>Bachelors</td>\n",
       "      <td>13.0</td>\n",
       "      <td>Married-civ-spouse</td>\n",
       "      <td>Husband</td>\n",
       "    </tr>\n",
       "    <tr>\n",
       "      <th>2</th>\n",
       "      <td>38.0</td>\n",
       "      <td>Male</td>\n",
       "      <td>143654</td>\n",
       "      <td>White</td>\n",
       "      <td>United-States</td>\n",
       "      <td>HS-grad</td>\n",
       "      <td>9.0</td>\n",
       "      <td>Divorced</td>\n",
       "      <td>Not-in-family</td>\n",
       "    </tr>\n",
       "    <tr>\n",
       "      <th>3</th>\n",
       "      <td>53.0</td>\n",
       "      <td>Male</td>\n",
       "      <td>41510</td>\n",
       "      <td>Black</td>\n",
       "      <td>United-States</td>\n",
       "      <td>11th</td>\n",
       "      <td>7.0</td>\n",
       "      <td>Married-civ-spouse</td>\n",
       "      <td>Husband</td>\n",
       "    </tr>\n",
       "    <tr>\n",
       "      <th>4</th>\n",
       "      <td>28.0</td>\n",
       "      <td>Female</td>\n",
       "      <td>195025</td>\n",
       "      <td>Black</td>\n",
       "      <td>Cuba</td>\n",
       "      <td>Bachelors</td>\n",
       "      <td>13.0</td>\n",
       "      <td>Married-civ-spouse</td>\n",
       "      <td>Wife</td>\n",
       "    </tr>\n",
       "  </tbody>\n",
       "</table>\n",
       "</div>"
      ],
      "text/plain": [
       "    Age      Sex      ID    Race         Country   Education  Education-Num  \\\n",
       "0  39.0     Male   49084   White   United-States   Bachelors           13.0   \n",
       "1  50.0     Male   68553   White   United-States   Bachelors           13.0   \n",
       "2  38.0     Male  143654   White   United-States     HS-grad            9.0   \n",
       "3  53.0     Male   41510   Black   United-States        11th            7.0   \n",
       "4  28.0   Female  195025   Black            Cuba   Bachelors           13.0   \n",
       "\n",
       "        Marital Status    Relationship  \n",
       "0        Never-married   Not-in-family  \n",
       "1   Married-civ-spouse         Husband  \n",
       "2             Divorced   Not-in-family  \n",
       "3   Married-civ-spouse         Husband  \n",
       "4   Married-civ-spouse            Wife  "
      ]
     },
     "execution_count": 67,
     "metadata": {},
     "output_type": "execute_result"
    }
   ],
   "source": [
    "sht = xls.parse(sheet_name='Sheet1_2')\n",
    "sht.head()"
   ]
  },
  {
   "cell_type": "code",
   "execution_count": 68,
   "metadata": {
    "colab": {
     "base_uri": "https://localhost:8080/"
    },
    "executionInfo": {
     "elapsed": 453,
     "status": "ok",
     "timestamp": 1723591561894,
     "user": {
      "displayName": "Francisco Javier Navarro Barrón",
      "userId": "10181626055026217558"
     },
     "user_tz": 360
    },
    "id": "0zLR_w-US3C-",
    "outputId": "593217f5-fa57-49cf-be76-cb2f19b255de"
   },
   "outputs": [
    {
     "name": "stderr",
     "output_type": "stream",
     "text": [
      "\"head\" no se reconoce como un comando interno o externo,\n",
      "programa o archivo por lotes ejecutable.\n"
     ]
    }
   ],
   "source": [
    "# Como serializar (guardar) a CSV\n",
    "sht.to_csv('sht.csv', index=False) # Index: False, no incluye el indice\n",
    "!head sht.csv"
   ]
  },
  {
   "cell_type": "code",
   "execution_count": 69,
   "metadata": {
    "id": "rSUVOUo3xljm"
   },
   "outputs": [],
   "source": [
    "# Como serializar (guardar) a XLSX (Excel)\n",
    "sht.to_excel('Otro.xlsx', index=False)\n",
    "#!head Otro.xlsx"
   ]
  },
  {
   "cell_type": "code",
   "execution_count": 70,
   "metadata": {
    "id": "kdUei_Ztxsyd"
   },
   "outputs": [],
   "source": [
    "pd.to_pickle(sht, 'serializado.pkl')"
   ]
  },
  {
   "cell_type": "code",
   "execution_count": null,
   "metadata": {
    "id": "d1s10iKjx75h"
   },
   "outputs": [],
   "source": []
  },
  {
   "cell_type": "code",
   "execution_count": null,
   "metadata": {
    "id": "d3Cb8zz0yHro"
   },
   "outputs": [],
   "source": []
  },
  {
   "cell_type": "code",
   "execution_count": null,
   "metadata": {
    "id": "ldA4uFmIS-07"
   },
   "outputs": [],
   "source": []
  },
  {
   "cell_type": "code",
   "execution_count": null,
   "metadata": {
    "id": "8CxrDVUQVOpi"
   },
   "outputs": [],
   "source": []
  },
  {
   "cell_type": "code",
   "execution_count": null,
   "metadata": {
    "id": "BcF3ugXiVtlU"
   },
   "outputs": [],
   "source": []
  },
  {
   "cell_type": "code",
   "execution_count": null,
   "metadata": {
    "id": "Jec5KJgkV7f1"
   },
   "outputs": [],
   "source": []
  }
 ],
 "metadata": {
  "colab": {
   "authorship_tag": "ABX9TyOh/ER9iPb1DjkeLKi3atnX",
   "mount_file_id": "1pusqZ1vL9yQ7SGN-LeOh4TPPguapKybg",
   "provenance": []
  },
  "kernelspec": {
   "display_name": "Python 3",
   "name": "python3"
  },
  "language_info": {
   "codemirror_mode": {
    "name": "ipython",
    "version": 3
   },
   "file_extension": ".py",
   "mimetype": "text/x-python",
   "name": "python",
   "nbconvert_exporter": "python",
   "pygments_lexer": "ipython3",
   "version": "3.12.3"
  }
 },
 "nbformat": 4,
 "nbformat_minor": 0
}
