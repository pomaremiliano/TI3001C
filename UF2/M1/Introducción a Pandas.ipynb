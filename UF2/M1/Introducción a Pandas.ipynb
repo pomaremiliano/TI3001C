{
 "cells": [
  {
   "cell_type": "markdown",
   "metadata": {
    "id": "yTR2OHm0cgKU"
   },
   "source": [
    "# Introducción a la manipulación de datos con Pandas (Parte I)"
   ]
  },
  {
   "cell_type": "markdown",
   "metadata": {
    "id": "CYN4v9Nhcq7i"
   },
   "source": [
    "## Data Wrangling\n",
    "Un famoso dicho surgido en los inicios de la computación moderna es \"Garbage In, Garbage Out\", también conocido por sus iniciales **GIGO**. Esto significa que si los datos de entrada no están correctamente preparados, cualquier procesamiento posterior dará resultados incorrectos. Los datos son habitualmente caóticos, con lo que si los introducimos en nuestros algoritmos y modelos sin más, obtendremos todo tipo de errores y resultados inválidos. Por esto, la limpieza de datos o Data Wrangling es un aspecto fundamental en todo proyecto de Data Science.\n",
    "\n",
    "Cuando hablamos de **Data Wrangling** en Python, estamos hablando de Pandas. El Data Wrangling, también conocido como **Data Munging** o preprocesamiento y manipulación de datos, es un conjunto de operaciones en el proceso de Data Science que tienen que ver con tomar los datos \"crudos\" asociados a los problemas del mundo real, organizarlos, \"limpiarlos\" y convertirlos en un *input* valioso y útil para los algoritmos que se van a usar a continuación en dicho proceso.\n",
    "\n",
    "Es importante recordar que cuando hacemos práctica de Data Science, es común que  trabajemos con datos ordenados, pero en el mundo real esto no siempre es así. Los datos pueden estar mal organizados, u organizados para otro propósito; pueden estar incompletos; pueden existir valores anómalos que pueden a su vez ser de interés o no. Todas estas situaciones deben ser resueltas con Data Wrangling antes de aplicar cualquier análisis o algoritmo. De lo contrario, podríamos obtener resultados erróneos, o directamente sería imposible obtenerlos.\n"
   ]
  },
  {
   "cell_type": "markdown",
   "metadata": {
    "id": "_2UVFY9oPUDv"
   },
   "source": [
    "## Pandas al rescate: estructuras de datos\n",
    "El proceso de Data Wrangling será cubierto en profundidad más adelante. En esta clase, introducimos la parte práctica de este proceso a través del uso de **Pandas**.\n",
    "\n",
    "**Pandas** es una librería de uso libre que está construida sobre **NumPy**. Esto quiere decir que toma las estructuras básicas de NumPy y las extiende y mejora añadiendo métodos muy útiles, haciendo de esta forma más fácil la manipulación de datos que son más complejos, de forma totalmente compatible con NumPy.\n",
    "\n",
    "En particular, **Pandas** define dos tipos de datos, denominados *Series* y *DataFrame*, que proveen una funcionalidad muy eficiente y práctica para manipular datos complejos y de gran volumen. Veamos estas estructuras de datos en profundidad a continuación."
   ]
  },
  {
   "cell_type": "markdown",
   "metadata": {
    "id": "nQJvmsatPqUk"
   },
   "source": [
    "## Series\n",
    "Un objeto *Series* es, básicamente, un array con índices. Los índices juegan un papel fundamental en la manipulación de datos, como veremos más adelante. Si bien los arrays ya tienen índices, teniendo en cuenta que cualquiera de sus elementos puede ser accedido referenciándolo con el índice entre corchetes, de la forma `objeto[índice]`, los objetos *Series* explotan al máximo esta funcionalidad agregándole vitaminas.\n",
    "Comencemos definiendo un objeto *Series* y veamos cómo funciona."
   ]
  },
  {
   "cell_type": "code",
   "execution_count": 1,
   "metadata": {
    "colab": {
     "base_uri": "https://localhost:8080/"
    },
    "executionInfo": {
     "elapsed": 4367,
     "status": "ok",
     "timestamp": 1723151778210,
     "user": {
      "displayName": "Francisco Javier Navarro Barrón",
      "userId": "10181626055026217558"
     },
     "user_tz": 360
    },
    "id": "_-ZTdJQflgm5",
    "outputId": "7d7c430e-6457-4be0-b729-3ad166400bb4"
   },
   "outputs": [
    {
     "name": "stdout",
     "output_type": "stream",
     "text": [
      "Note: you may need to restart the kernel to use updated packages.\n"
     ]
    },
    {
     "name": "stderr",
     "output_type": "stream",
     "text": [
      "ERROR: Invalid requirement: '#'\n",
      "\n",
      "[notice] A new release of pip is available: 24.0 -> 25.0.1\n",
      "[notice] To update, run: python.exe -m pip install --upgrade pip\n"
     ]
    }
   ],
   "source": [
    "%pip install pandas # instalar libreria"
   ]
  },
  {
   "cell_type": "code",
   "execution_count": null,
   "metadata": {
    "colab": {
     "base_uri": "https://localhost:8080/",
     "height": 397
    },
    "executionInfo": {
     "elapsed": 79,
     "status": "ok",
     "timestamp": 1723151778210,
     "user": {
      "displayName": "Francisco Javier Navarro Barrón",
      "userId": "10181626055026217558"
     },
     "user_tz": 360
    },
    "id": "_wcJtv5bafXd",
    "outputId": "1a21a24b-9577-4b49-e369-f3e789de36a9"
   },
   "outputs": [
    {
     "data": {
      "text/plain": [
       "0     50\n",
       "1     52\n",
       "2     54\n",
       "3     56\n",
       "4     58\n",
       "5     60\n",
       "6     62\n",
       "7     64\n",
       "8     66\n",
       "9     68\n",
       "10    70\n",
       "dtype: int64"
      ]
     },
     "execution_count": 98,
     "metadata": {},
     "output_type": "execute_result"
    }
   ],
   "source": [
    "import pandas as pd # importar la libreria pandas\n",
    "\n",
    "# Serie con 2 valores\n",
    "# índices por defecto\n",
    "Numeros = range(50,70,2) # Números pares entre 50 y 70\n",
    "# Números pares entre 50 y 70 (inclusivo, exclusivo)\n",
    "Numeros_serie = pd.Series(Numeros) # Creamos un objeto Series\n",
    "Numeros_serie # El objeto Series"
   ]
  },
  {
   "cell_type": "code",
   "execution_count": 3,
   "metadata": {
    "colab": {
     "base_uri": "https://localhost:8080/"
    },
    "executionInfo": {
     "elapsed": 78,
     "status": "ok",
     "timestamp": 1723151778210,
     "user": {
      "displayName": "Francisco Javier Navarro Barrón",
      "userId": "10181626055026217558"
     },
     "user_tz": 360
    },
    "id": "9dggDbPKm3LA",
    "outputId": "88afd205-9d8b-43bf-897f-e01ab07b4e22"
   },
   "outputs": [
    {
     "name": "stdout",
     "output_type": "stream",
     "text": [
      "[50 52 54 56 58 60 62 64 66 68]\n",
      "RangeIndex(start=0, stop=10, step=1)\n"
     ]
    }
   ],
   "source": [
    "# Valores del objeto\n",
    "print(Numeros_serie.values)\n",
    "\n",
    "# Índices del objeto\n",
    "print(Numeros_serie.index)"
   ]
  },
  {
   "cell_type": "code",
   "execution_count": 4,
   "metadata": {
    "colab": {
     "base_uri": "https://localhost:8080/",
     "height": 146
    },
    "executionInfo": {
     "elapsed": 73,
     "status": "ok",
     "timestamp": 1723151778210,
     "user": {
      "displayName": "Francisco Javier Navarro Barrón",
      "userId": "10181626055026217558"
     },
     "user_tz": 360
    },
    "id": "QXFbkQZOl-Kp",
    "outputId": "f0472829-03cf-44b2-db11-abf59ce91fd2"
   },
   "outputs": [
    {
     "data": {
      "text/plain": [
       "a    0.1\n",
       "b    0.2\n",
       "dtype: float64"
      ]
     },
     "execution_count": 4,
     "metadata": {},
     "output_type": "execute_result"
    }
   ],
   "source": [
    "# Serie con 2 valores, índices personalizados\n",
    "s1 = pd.Series([0.1, 0.2], index=['a','b'])\n",
    "s1"
   ]
  },
  {
   "cell_type": "code",
   "execution_count": 5,
   "metadata": {
    "colab": {
     "base_uri": "https://localhost:8080/",
     "height": 146
    },
    "executionInfo": {
     "elapsed": 72,
     "status": "ok",
     "timestamp": 1723151778210,
     "user": {
      "displayName": "Francisco Javier Navarro Barrón",
      "userId": "10181626055026217558"
     },
     "user_tz": 360
    },
    "id": "e16YdPf3p8O1",
    "outputId": "53591e98-f55a-4c88-9d47-373abd4a4e57"
   },
   "outputs": [
    {
     "data": {
      "text/plain": [
       "0    0.1\n",
       "1    0.2\n",
       "dtype: float64"
      ]
     },
     "execution_count": 5,
     "metadata": {},
     "output_type": "execute_result"
    }
   ],
   "source": [
    "# índices por defecto\n",
    "pd.Series([0.1, 0.2])"
   ]
  },
  {
   "cell_type": "code",
   "execution_count": 6,
   "metadata": {
    "colab": {
     "base_uri": "https://localhost:8080/"
    },
    "executionInfo": {
     "elapsed": 72,
     "status": "ok",
     "timestamp": 1723151778210,
     "user": {
      "displayName": "Francisco Javier Navarro Barrón",
      "userId": "10181626055026217558"
     },
     "user_tz": 360
    },
    "id": "kaZc2yYXnQhY",
    "outputId": "06e9780f-2c32-4b13-9811-b250e9981fdb"
   },
   "outputs": [
    {
     "data": {
      "text/plain": [
       "68"
      ]
     },
     "execution_count": 6,
     "metadata": {},
     "output_type": "execute_result"
    }
   ],
   "source": [
    "# Acceso de forma tradicional, como en NumPy\n",
    "Numeros_serie[9]"
   ]
  },
  {
   "cell_type": "code",
   "execution_count": 7,
   "metadata": {
    "colab": {
     "base_uri": "https://localhost:8080/"
    },
    "executionInfo": {
     "elapsed": 69,
     "status": "ok",
     "timestamp": 1723151778210,
     "user": {
      "displayName": "Francisco Javier Navarro Barrón",
      "userId": "10181626055026217558"
     },
     "user_tz": 360
    },
    "id": "M4Um-wc7ni6X",
    "outputId": "06c0ffd4-a685-4ca3-c429-4ec7df02454f"
   },
   "outputs": [
    {
     "data": {
      "text/plain": [
       "68"
      ]
     },
     "execution_count": 7,
     "metadata": {},
     "output_type": "execute_result"
    }
   ],
   "source": [
    "# -1: último elemento\n",
    "Numeros_serie.iloc[-1]"
   ]
  },
  {
   "cell_type": "code",
   "execution_count": 8,
   "metadata": {
    "colab": {
     "base_uri": "https://localhost:8080/"
    },
    "executionInfo": {
     "elapsed": 68,
     "status": "ok",
     "timestamp": 1723151778210,
     "user": {
      "displayName": "Francisco Javier Navarro Barrón",
      "userId": "10181626055026217558"
     },
     "user_tz": 360
    },
    "id": "BupZa1H1qzoz",
    "outputId": "533d3a19-244d-4995-c72f-5f59d4176040"
   },
   "outputs": [
    {
     "data": {
      "text/plain": [
       "66"
      ]
     },
     "execution_count": 8,
     "metadata": {},
     "output_type": "execute_result"
    }
   ],
   "source": [
    "# -2: penúltimo elemento\n",
    "Numeros_serie.iloc[-2]"
   ]
  },
  {
   "cell_type": "markdown",
   "metadata": {
    "id": "E4SXuarWj_Ps"
   },
   "source": [
    "Entonces, ¿no es esto un objeto *NumPy*?. Casi. La diferencia está en los índices. Al definirse de manera explícita incorporan más flexibilidad que termina siendo muy útil a la hora de llevar a cabo operaciones muy comunes con los datos.\n",
    "\n",
    "Para empezar, los índices son de un solo tipo y no pueden cambiarse, pero sí pueden definirse como queramos.\n",
    "Supongamos que queremos utilizar texto en vez de números:\n"
   ]
  },
  {
   "cell_type": "code",
   "execution_count": 9,
   "metadata": {
    "colab": {
     "base_uri": "https://localhost:8080/",
     "height": 397
    },
    "executionInfo": {
     "elapsed": 67,
     "status": "ok",
     "timestamp": 1723151778210,
     "user": {
      "displayName": "Francisco Javier Navarro Barrón",
      "userId": "10181626055026217558"
     },
     "user_tz": 360
    },
    "id": "B73C74AdkLqg",
    "outputId": "bf289228-79d9-46f6-9e04-ee132882a131"
   },
   "outputs": [
    {
     "data": {
      "text/plain": [
       "primero     1\n",
       "segundo     2\n",
       "tercero     3\n",
       "cuarto      4\n",
       "quinto      5\n",
       "sexto       6\n",
       "séptimo     7\n",
       "octavo      8\n",
       "noveno      9\n",
       "décimo     10\n",
       "dtype: int64"
      ]
     },
     "execution_count": 9,
     "metadata": {},
     "output_type": "execute_result"
    }
   ],
   "source": [
    "# Crea tu propia Serie con los siguientes valores como índice\n",
    "# Array de índices personalizados\n",
    "Numeros_en_texto = ['primero','segundo','tercero','cuarto','quinto','sexto','séptimo','octavo','noveno','décimo']\n",
    "\n",
    "s2 = pd.Series(range(1,11), index=Numeros_en_texto)\n",
    "s2"
   ]
  },
  {
   "cell_type": "code",
   "execution_count": 10,
   "metadata": {
    "colab": {
     "base_uri": "https://localhost:8080/",
     "height": 397
    },
    "executionInfo": {
     "elapsed": 66,
     "status": "ok",
     "timestamp": 1723151778210,
     "user": {
      "displayName": "Francisco Javier Navarro Barrón",
      "userId": "10181626055026217558"
     },
     "user_tz": 360
    },
    "id": "rY2AYR-DtBsY",
    "outputId": "9cef9833-3546-4b4a-f8c7-d324574cb48f"
   },
   "outputs": [
    {
     "data": {
      "text/plain": [
       "21     1\n",
       "22     2\n",
       "23     3\n",
       "24     4\n",
       "25     5\n",
       "26     6\n",
       "27     7\n",
       "28     8\n",
       "29     9\n",
       "30    10\n",
       "dtype: int64"
      ]
     },
     "execution_count": 10,
     "metadata": {},
     "output_type": "execute_result"
    }
   ],
   "source": [
    "# También podemos usar range como índice\n",
    "pd.Series(range(1,11), index=range(21,31))"
   ]
  },
  {
   "cell_type": "markdown",
   "metadata": {
    "id": "lXNUUvDVkv53"
   },
   "source": [
    "Recordemos que tanto los valores como los índices son de un sólo tipo de dato, cada uno por su lado, que queda fijo en la creación del objeto. Esto mantiene la eficiencia de los objetos en Python: al ser las estructuras de un solo tipo, las operaciones para cada elemento son las mismas, y en consecuencia el tiempo de procesamiento es menor.\n",
    "\n",
    "## DataFrame\n",
    "Un *DataFrame* es una extensión del objeto Series para trabajar en dos dimensiones. Puede pensarse como una sucesión de objetos Series del mismo tamaño, y que comparten los mismos índices. Un esquema de un DataFrame sería el siguiente:\n",
    "![series-and-dataframe.width-1200.png](data:image/png;base64,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)\n",
    "Veamos un ejemplo:"
   ]
  },
  {
   "cell_type": "code",
   "execution_count": 11,
   "metadata": {
    "colab": {
     "base_uri": "https://localhost:8080/",
     "height": 174
    },
    "executionInfo": {
     "elapsed": 68,
     "status": "ok",
     "timestamp": 1723151778212,
     "user": {
      "displayName": "Francisco Javier Navarro Barrón",
      "userId": "10181626055026217558"
     },
     "user_tz": 360
    },
    "id": "ivxZFtHYlVok",
    "outputId": "265348d2-ef4c-43b3-f4d9-bb770344675e"
   },
   "outputs": [
    {
     "data": {
      "text/html": [
       "<div>\n",
       "<style scoped>\n",
       "    .dataframe tbody tr th:only-of-type {\n",
       "        vertical-align: middle;\n",
       "    }\n",
       "\n",
       "    .dataframe tbody tr th {\n",
       "        vertical-align: top;\n",
       "    }\n",
       "\n",
       "    .dataframe thead th {\n",
       "        text-align: right;\n",
       "    }\n",
       "</style>\n",
       "<table border=\"1\" class=\"dataframe\">\n",
       "  <thead>\n",
       "    <tr style=\"text-align: right;\">\n",
       "      <th></th>\n",
       "      <th>apples</th>\n",
       "      <th>oranges</th>\n",
       "    </tr>\n",
       "  </thead>\n",
       "  <tbody>\n",
       "    <tr>\n",
       "      <th>0</th>\n",
       "      <td>3</td>\n",
       "      <td>0</td>\n",
       "    </tr>\n",
       "    <tr>\n",
       "      <th>1</th>\n",
       "      <td>2</td>\n",
       "      <td>3</td>\n",
       "    </tr>\n",
       "    <tr>\n",
       "      <th>2</th>\n",
       "      <td>0</td>\n",
       "      <td>7</td>\n",
       "    </tr>\n",
       "    <tr>\n",
       "      <th>3</th>\n",
       "      <td>1</td>\n",
       "      <td>2</td>\n",
       "    </tr>\n",
       "  </tbody>\n",
       "</table>\n",
       "</div>"
      ],
      "text/plain": [
       "   apples  oranges\n",
       "0       3        0\n",
       "1       2        3\n",
       "2       0        7\n",
       "3       1        2"
      ]
     },
     "execution_count": 11,
     "metadata": {},
     "output_type": "execute_result"
    }
   ],
   "source": [
    "# Listas con valores de apples y oranges\n",
    "apples = [3, 2, 0, 1]\n",
    "oranges = [0, 3, 7, 2]\n",
    "\n",
    "# Construir objetos Series\n",
    "series_apples = pd.Series(apples)\n",
    "series_oranges = pd.Series(oranges)\n",
    "\n",
    "df = pd.DataFrame({'apples':series_apples,\n",
    "                   'oranges':series_oranges})\n",
    "df"
   ]
  },
  {
   "cell_type": "code",
   "execution_count": 12,
   "metadata": {
    "colab": {
     "base_uri": "https://localhost:8080/",
     "height": 174
    },
    "executionInfo": {
     "elapsed": 67,
     "status": "ok",
     "timestamp": 1723151778212,
     "user": {
      "displayName": "Francisco Javier Navarro Barrón",
      "userId": "10181626055026217558"
     },
     "user_tz": 360
    },
    "id": "KWByBicC1JXE",
    "outputId": "bc863ebc-007e-458b-b1e0-1706e961fec5"
   },
   "outputs": [
    {
     "data": {
      "text/html": [
       "<div>\n",
       "<style scoped>\n",
       "    .dataframe tbody tr th:only-of-type {\n",
       "        vertical-align: middle;\n",
       "    }\n",
       "\n",
       "    .dataframe tbody tr th {\n",
       "        vertical-align: top;\n",
       "    }\n",
       "\n",
       "    .dataframe thead th {\n",
       "        text-align: right;\n",
       "    }\n",
       "</style>\n",
       "<table border=\"1\" class=\"dataframe\">\n",
       "  <thead>\n",
       "    <tr style=\"text-align: right;\">\n",
       "      <th></th>\n",
       "      <th>apples</th>\n",
       "      <th>oranges</th>\n",
       "    </tr>\n",
       "  </thead>\n",
       "  <tbody>\n",
       "    <tr>\n",
       "      <th>0</th>\n",
       "      <td>3</td>\n",
       "      <td>0</td>\n",
       "    </tr>\n",
       "    <tr>\n",
       "      <th>1</th>\n",
       "      <td>2</td>\n",
       "      <td>3</td>\n",
       "    </tr>\n",
       "    <tr>\n",
       "      <th>2</th>\n",
       "      <td>0</td>\n",
       "      <td>7</td>\n",
       "    </tr>\n",
       "    <tr>\n",
       "      <th>3</th>\n",
       "      <td>1</td>\n",
       "      <td>2</td>\n",
       "    </tr>\n",
       "  </tbody>\n",
       "</table>\n",
       "</div>"
      ],
      "text/plain": [
       "   apples  oranges\n",
       "0       3        0\n",
       "1       2        3\n",
       "2       0        7\n",
       "3       1        2"
      ]
     },
     "execution_count": 12,
     "metadata": {},
     "output_type": "execute_result"
    }
   ],
   "source": [
    "# Otra opción utilizando directamente las listas (no Series)\n",
    "df2 = pd.DataFrame({'apples':apples,'oranges':oranges})\n",
    "df2"
   ]
  },
  {
   "cell_type": "markdown",
   "metadata": {
    "id": "7kHPqyGIQBQ9"
   },
   "source": [
    "Veamos ahora otro ejemplo especificando los índices según modelos de autos."
   ]
  },
  {
   "cell_type": "code",
   "execution_count": 13,
   "metadata": {
    "colab": {
     "base_uri": "https://localhost:8080/"
    },
    "executionInfo": {
     "elapsed": 67,
     "status": "ok",
     "timestamp": 1723151778212,
     "user": {
      "displayName": "Francisco Javier Navarro Barrón",
      "userId": "10181626055026217558"
     },
     "user_tz": 360
    },
    "id": "ZGY109NOr2Kj",
    "outputId": "139a484f-b425-45a0-d06b-b3dd96f14b69"
   },
   "outputs": [
    {
     "name": "stdout",
     "output_type": "stream",
     "text": [
      "['A4 3.0 Quattro 4dr manual', 'A4 3.0 Quattro 4dr auto', 'A6 3.0 4dr', 'A6 3.0 Quattro 4dr', 'A4 3.0 convertible 2dr'] \n",
      " [3583, 3627, 3561, 3880, 3814] \n",
      " ['$33,430', '$34,480', '$36,640', '$39,640', '$42,490']\n"
     ]
    }
   ],
   "source": [
    "modelos = ['A4 3.0 Quattro 4dr manual',\n",
    " 'A4 3.0 Quattro 4dr auto',\n",
    " 'A6 3.0 4dr',\n",
    " 'A6 3.0 Quattro 4dr',\n",
    " 'A4 3.0 convertible 2dr']\n",
    "peso = [3583, 3627, 3561, 3880, 3814]\n",
    "precios = ['$33,430', '$34,480', '$36,640', '$39,640', '$42,490']\n",
    "print(modelos,'\\n',peso,'\\n',precios)"
   ]
  },
  {
   "cell_type": "code",
   "execution_count": 14,
   "metadata": {
    "colab": {
     "base_uri": "https://localhost:8080/"
    },
    "executionInfo": {
     "elapsed": 64,
     "status": "ok",
     "timestamp": 1723151778212,
     "user": {
      "displayName": "Francisco Javier Navarro Barrón",
      "userId": "10181626055026217558"
     },
     "user_tz": 360
    },
    "id": "JCzTIeSSuw0a",
    "outputId": "1e1786e6-8c2c-45dd-a4fb-a6522b879696"
   },
   "outputs": [
    {
     "name": "stdout",
     "output_type": "stream",
     "text": [
      "A4 3.0 Quattro 4dr manual    3583\n",
      "A4 3.0 Quattro 4dr auto      3627\n",
      "A6 3.0 4dr                   3561\n",
      "A6 3.0 Quattro 4dr           3880\n",
      "A4 3.0 convertible 2dr       3814\n",
      "dtype: int64\n",
      "\n",
      "\n",
      "A4 3.0 Quattro 4dr manual    $33,430\n",
      "A4 3.0 Quattro 4dr auto      $34,480\n",
      "A6 3.0 4dr                   $36,640\n",
      "A6 3.0 Quattro 4dr           $39,640\n",
      "A4 3.0 convertible 2dr       $42,490\n",
      "dtype: object\n"
     ]
    }
   ],
   "source": [
    "# Construimos un objeto Series con los modelos y sus pesos\n",
    "Autos_peso = pd.Series(peso, index=modelos)\n",
    "# Construimos un objeto Series con los modelos y sus precios\n",
    "Autos_precio = pd.Series(precios, index=modelos)\n",
    "\n",
    "print(Autos_peso)\n",
    "print('\\n')\n",
    "print(Autos_precio)\n",
    "# Los índices son los mismos? SI"
   ]
  },
  {
   "cell_type": "code",
   "execution_count": 15,
   "metadata": {
    "colab": {
     "base_uri": "https://localhost:8080/",
     "height": 206
    },
    "executionInfo": {
     "elapsed": 62,
     "status": "ok",
     "timestamp": 1723151778212,
     "user": {
      "displayName": "Francisco Javier Navarro Barrón",
      "userId": "10181626055026217558"
     },
     "user_tz": 360
    },
    "id": "56AiKE3XvPAH",
    "outputId": "2cd66fcf-79dd-4116-c570-e2a4ab0fc935"
   },
   "outputs": [
    {
     "data": {
      "text/html": [
       "<div>\n",
       "<style scoped>\n",
       "    .dataframe tbody tr th:only-of-type {\n",
       "        vertical-align: middle;\n",
       "    }\n",
       "\n",
       "    .dataframe tbody tr th {\n",
       "        vertical-align: top;\n",
       "    }\n",
       "\n",
       "    .dataframe thead th {\n",
       "        text-align: right;\n",
       "    }\n",
       "</style>\n",
       "<table border=\"1\" class=\"dataframe\">\n",
       "  <thead>\n",
       "    <tr style=\"text-align: right;\">\n",
       "      <th></th>\n",
       "      <th>Peso</th>\n",
       "      <th>Precio</th>\n",
       "    </tr>\n",
       "  </thead>\n",
       "  <tbody>\n",
       "    <tr>\n",
       "      <th>A4 3.0 Quattro 4dr manual</th>\n",
       "      <td>3583</td>\n",
       "      <td>$33,430</td>\n",
       "    </tr>\n",
       "    <tr>\n",
       "      <th>A4 3.0 Quattro 4dr auto</th>\n",
       "      <td>3627</td>\n",
       "      <td>$34,480</td>\n",
       "    </tr>\n",
       "    <tr>\n",
       "      <th>A6 3.0 4dr</th>\n",
       "      <td>3561</td>\n",
       "      <td>$36,640</td>\n",
       "    </tr>\n",
       "    <tr>\n",
       "      <th>A6 3.0 Quattro 4dr</th>\n",
       "      <td>3880</td>\n",
       "      <td>$39,640</td>\n",
       "    </tr>\n",
       "    <tr>\n",
       "      <th>A4 3.0 convertible 2dr</th>\n",
       "      <td>3814</td>\n",
       "      <td>$42,490</td>\n",
       "    </tr>\n",
       "  </tbody>\n",
       "</table>\n",
       "</div>"
      ],
      "text/plain": [
       "                           Peso   Precio\n",
       "A4 3.0 Quattro 4dr manual  3583  $33,430\n",
       "A4 3.0 Quattro 4dr auto    3627  $34,480\n",
       "A6 3.0 4dr                 3561  $36,640\n",
       "A6 3.0 Quattro 4dr         3880  $39,640\n",
       "A4 3.0 convertible 2dr     3814  $42,490"
      ]
     },
     "execution_count": 15,
     "metadata": {},
     "output_type": "execute_result"
    }
   ],
   "source": [
    "# Integramos todo en un Dataframe\n",
    "# Constructor usando diccionarios: {key1 -> value1 , key2 -> value2}\n",
    "# La llave será el nombre de la columna en el DataFrame\n",
    "Autos = pd.DataFrame({'Peso':Autos_peso,'Precio':Autos_precio})\n",
    "Autos"
   ]
  },
  {
   "cell_type": "markdown",
   "metadata": {
    "id": "ApOvEy8IvOfz"
   },
   "source": []
  },
  {
   "cell_type": "markdown",
   "metadata": {
    "id": "pMsY1PUzmVOb"
   },
   "source": [
    "Veamos un último ejemplo más avanzado: Ajedrez con un DataFrame"
   ]
  },
  {
   "cell_type": "code",
   "execution_count": 16,
   "metadata": {
    "colab": {
     "base_uri": "https://localhost:8080/"
    },
    "executionInfo": {
     "elapsed": 61,
     "status": "ok",
     "timestamp": 1723151778212,
     "user": {
      "displayName": "Francisco Javier Navarro Barrón",
      "userId": "10181626055026217558"
     },
     "user_tz": 360
    },
    "id": "KJRiJIWAmYUZ",
    "outputId": "40f6b96c-93c8-4e7d-e035-456259023fd6"
   },
   "outputs": [
    {
     "data": {
      "text/plain": [
       "array([[ 1,  2,  3,  4,  5,  6,  7,  8],\n",
       "       [ 9, 10, 11, 12, 13, 14, 15, 16],\n",
       "       [17, 18, 19, 20, 21, 22, 23, 24],\n",
       "       [25, 26, 27, 28, 29, 30, 31, 32],\n",
       "       [33, 34, 35, 36, 37, 38, 39, 40],\n",
       "       [41, 42, 43, 44, 45, 46, 47, 48],\n",
       "       [49, 50, 51, 52, 53, 54, 55, 56],\n",
       "       [57, 58, 59, 60, 61, 62, 63, 64]])"
      ]
     },
     "execution_count": 16,
     "metadata": {},
     "output_type": "execute_result"
    }
   ],
   "source": [
    "import numpy as np # importar numpy\n",
    "\n",
    "Ajedrez_64 = np.arange(1,65).reshape(8,8) # reacomoda los 64 valores en 8 filas, 8 columnas\n",
    "Ajedrez_64"
   ]
  },
  {
   "cell_type": "code",
   "execution_count": 17,
   "metadata": {
    "colab": {
     "base_uri": "https://localhost:8080/",
     "height": 300
    },
    "executionInfo": {
     "elapsed": 59,
     "status": "ok",
     "timestamp": 1723151778212,
     "user": {
      "displayName": "Francisco Javier Navarro Barrón",
      "userId": "10181626055026217558"
     },
     "user_tz": 360
    },
    "id": "NiT0By-uuQbK",
    "outputId": "50a837c0-d1a3-4f92-8c5d-74db527853f0"
   },
   "outputs": [
    {
     "data": {
      "text/html": [
       "<div>\n",
       "<style scoped>\n",
       "    .dataframe tbody tr th:only-of-type {\n",
       "        vertical-align: middle;\n",
       "    }\n",
       "\n",
       "    .dataframe tbody tr th {\n",
       "        vertical-align: top;\n",
       "    }\n",
       "\n",
       "    .dataframe thead th {\n",
       "        text-align: right;\n",
       "    }\n",
       "</style>\n",
       "<table border=\"1\" class=\"dataframe\">\n",
       "  <thead>\n",
       "    <tr style=\"text-align: right;\">\n",
       "      <th></th>\n",
       "      <th>1</th>\n",
       "      <th>2</th>\n",
       "      <th>3</th>\n",
       "      <th>4</th>\n",
       "      <th>5</th>\n",
       "      <th>6</th>\n",
       "      <th>7</th>\n",
       "      <th>8</th>\n",
       "    </tr>\n",
       "  </thead>\n",
       "  <tbody>\n",
       "    <tr>\n",
       "      <th>A</th>\n",
       "      <td>1</td>\n",
       "      <td>2</td>\n",
       "      <td>3</td>\n",
       "      <td>4</td>\n",
       "      <td>5</td>\n",
       "      <td>6</td>\n",
       "      <td>7</td>\n",
       "      <td>8</td>\n",
       "    </tr>\n",
       "    <tr>\n",
       "      <th>B</th>\n",
       "      <td>9</td>\n",
       "      <td>10</td>\n",
       "      <td>11</td>\n",
       "      <td>12</td>\n",
       "      <td>13</td>\n",
       "      <td>14</td>\n",
       "      <td>15</td>\n",
       "      <td>16</td>\n",
       "    </tr>\n",
       "    <tr>\n",
       "      <th>C</th>\n",
       "      <td>17</td>\n",
       "      <td>18</td>\n",
       "      <td>19</td>\n",
       "      <td>20</td>\n",
       "      <td>21</td>\n",
       "      <td>22</td>\n",
       "      <td>23</td>\n",
       "      <td>24</td>\n",
       "    </tr>\n",
       "    <tr>\n",
       "      <th>D</th>\n",
       "      <td>25</td>\n",
       "      <td>26</td>\n",
       "      <td>27</td>\n",
       "      <td>28</td>\n",
       "      <td>29</td>\n",
       "      <td>30</td>\n",
       "      <td>31</td>\n",
       "      <td>32</td>\n",
       "    </tr>\n",
       "    <tr>\n",
       "      <th>E</th>\n",
       "      <td>33</td>\n",
       "      <td>34</td>\n",
       "      <td>35</td>\n",
       "      <td>36</td>\n",
       "      <td>37</td>\n",
       "      <td>38</td>\n",
       "      <td>39</td>\n",
       "      <td>40</td>\n",
       "    </tr>\n",
       "    <tr>\n",
       "      <th>F</th>\n",
       "      <td>41</td>\n",
       "      <td>42</td>\n",
       "      <td>43</td>\n",
       "      <td>44</td>\n",
       "      <td>45</td>\n",
       "      <td>46</td>\n",
       "      <td>47</td>\n",
       "      <td>48</td>\n",
       "    </tr>\n",
       "    <tr>\n",
       "      <th>G</th>\n",
       "      <td>49</td>\n",
       "      <td>50</td>\n",
       "      <td>51</td>\n",
       "      <td>52</td>\n",
       "      <td>53</td>\n",
       "      <td>54</td>\n",
       "      <td>55</td>\n",
       "      <td>56</td>\n",
       "    </tr>\n",
       "    <tr>\n",
       "      <th>H</th>\n",
       "      <td>57</td>\n",
       "      <td>58</td>\n",
       "      <td>59</td>\n",
       "      <td>60</td>\n",
       "      <td>61</td>\n",
       "      <td>62</td>\n",
       "      <td>63</td>\n",
       "      <td>64</td>\n",
       "    </tr>\n",
       "  </tbody>\n",
       "</table>\n",
       "</div>"
      ],
      "text/plain": [
       "    1   2   3   4   5   6   7   8\n",
       "A   1   2   3   4   5   6   7   8\n",
       "B   9  10  11  12  13  14  15  16\n",
       "C  17  18  19  20  21  22  23  24\n",
       "D  25  26  27  28  29  30  31  32\n",
       "E  33  34  35  36  37  38  39  40\n",
       "F  41  42  43  44  45  46  47  48\n",
       "G  49  50  51  52  53  54  55  56\n",
       "H  57  58  59  60  61  62  63  64"
      ]
     },
     "execution_count": 17,
     "metadata": {},
     "output_type": "execute_result"
    }
   ],
   "source": [
    "# Tablero con letras como filas y números como columnas\n",
    "Ajedrez_df = pd.DataFrame(Ajedrez_64,\n",
    "                          columns=range(1, 9),\n",
    "                          index=['A','B','C','D','E','F','G','H'])\n",
    "Ajedrez_df"
   ]
  },
  {
   "cell_type": "markdown",
   "metadata": {
    "id": "3grSuU96m3ge"
   },
   "source": [
    "### Selección de elementos\n",
    "\n",
    "Una vez creados estos objetos, veamos la mejor forma de trabajar con ellos. Una primera toma de contacto es el acceso a los elementos. Veamos cómo hacer esto con los ejemplos anteriores. A continuación veremos ejemplos con el tipo **Series**"
   ]
  },
  {
   "cell_type": "code",
   "execution_count": 18,
   "metadata": {
    "colab": {
     "base_uri": "https://localhost:8080/"
    },
    "executionInfo": {
     "elapsed": 58,
     "status": "ok",
     "timestamp": 1723151778212,
     "user": {
      "displayName": "Francisco Javier Navarro Barrón",
      "userId": "10181626055026217558"
     },
     "user_tz": 360
    },
    "id": "IAp8WvysnBIu",
    "outputId": "0c6a1f4b-d6b7-4086-9e1d-6bb0270679d8"
   },
   "outputs": [
    {
     "name": "stdout",
     "output_type": "stream",
     "text": [
      "primero    50\n",
      "segundo    52\n",
      "tercero    54\n",
      "cuarto     56\n",
      "quinto     58\n",
      "sexto      60\n",
      "séptimo    62\n",
      "octavo     64\n",
      "noveno     66\n",
      "décimo     68\n",
      "dtype: int64\n",
      "58\n",
      "58\n",
      "58\n"
     ]
    }
   ],
   "source": [
    "# Modificamos el indice\n",
    "Numeros_serie.index = Numeros_en_texto\n",
    "print(Numeros_serie)\n",
    "\n",
    "# Accedo al elemento referenciando su índice\n",
    "print(Numeros_serie['quinto']) # nos dió KeyError la primera vez\n",
    "\n",
    "# Estilo pandas, accediendo al quinto elemento. Equivalente al anterior, por claridad recomendamos usar este cuando trabajamos con Pandas\n",
    "print(Numeros_serie.loc['quinto'])\n",
    "\n",
    "# Estilo de acceso tradicional, selecciona el quinto elemento. Si los índices son numéricos, iloc y loc ayudan a entender el tipo de referencia\n",
    "print(Numeros_serie.iloc[4])"
   ]
  },
  {
   "cell_type": "code",
   "execution_count": 19,
   "metadata": {
    "id": "JhpKOwRsx0pu"
   },
   "outputs": [],
   "source": [
    "# ¿Hay un objeto con el índice 'quinto'?\n",
    "if 'milésimo' in Numeros_serie:\n",
    "  print('Si está!\\n es ', Numeros_serie['milésimo'])"
   ]
  },
  {
   "cell_type": "code",
   "execution_count": 20,
   "metadata": {
    "colab": {
     "base_uri": "https://localhost:8080/",
     "height": 397
    },
    "executionInfo": {
     "elapsed": 57,
     "status": "ok",
     "timestamp": 1723151778213,
     "user": {
      "displayName": "Francisco Javier Navarro Barrón",
      "userId": "10181626055026217558"
     },
     "user_tz": 360
    },
    "id": "YsZYuGF85qiL",
    "outputId": "ca16bed8-a863-41c3-dec4-1b2d67770c31"
   },
   "outputs": [
    {
     "data": {
      "text/plain": [
       "primero    50\n",
       "segundo    52\n",
       "tercero    54\n",
       "cuarto     56\n",
       "quinto      0\n",
       "sexto      60\n",
       "séptimo    62\n",
       "octavo     64\n",
       "noveno     66\n",
       "décimo     68\n",
       "dtype: int64"
      ]
     },
     "execution_count": 20,
     "metadata": {},
     "output_type": "execute_result"
    }
   ],
   "source": [
    "# Modificar un elemento referenciándolo por su índice\n",
    "Numeros_serie['quinto'] = 0\n",
    "Numeros_serie"
   ]
  },
  {
   "cell_type": "markdown",
   "metadata": {
    "id": "xa8uTMOhzMhi"
   },
   "source": [
    "Selección de elementos con un criterio"
   ]
  },
  {
   "cell_type": "code",
   "execution_count": 21,
   "metadata": {
    "colab": {
     "base_uri": "https://localhost:8080/",
     "height": 240
    },
    "executionInfo": {
     "elapsed": 57,
     "status": "ok",
     "timestamp": 1723151778213,
     "user": {
      "displayName": "Francisco Javier Navarro Barrón",
      "userId": "10181626055026217558"
     },
     "user_tz": 360
    },
    "id": "D41i8gcEzLCW",
    "outputId": "74a21929-5722-4570-ec93-a7fe8840531b"
   },
   "outputs": [
    {
     "data": {
      "text/plain": [
       "sexto      60\n",
       "séptimo    62\n",
       "octavo     64\n",
       "noveno     66\n",
       "décimo     68\n",
       "dtype: int64"
      ]
     },
     "execution_count": 21,
     "metadata": {},
     "output_type": "execute_result"
    }
   ],
   "source": [
    "# Muestrame todos aquellos valores mayor o igual a 60\n",
    "Numeros_serie[Numeros_serie >= 60]"
   ]
  },
  {
   "cell_type": "markdown",
   "metadata": {
    "id": "M6l1-ENdoKV_"
   },
   "source": [
    "Con *DataFrame*, extendemos estas formas de acceso al considerar filas (índices) y columnas."
   ]
  },
  {
   "cell_type": "code",
   "execution_count": 22,
   "metadata": {
    "colab": {
     "base_uri": "https://localhost:8080/"
    },
    "executionInfo": {
     "elapsed": 650,
     "status": "ok",
     "timestamp": 1723151778807,
     "user": {
      "displayName": "Francisco Javier Navarro Barrón",
      "userId": "10181626055026217558"
     },
     "user_tz": 360
    },
    "id": "Al05kYzYpCBs",
    "outputId": "3e73debc-e45d-4283-dbc5-54fc6a2ddfe7"
   },
   "outputs": [
    {
     "data": {
      "text/plain": [
       "Index(['A4 3.0 Quattro 4dr manual', 'A4 3.0 Quattro 4dr auto', 'A6 3.0 4dr',\n",
       "       'A6 3.0 Quattro 4dr', 'A4 3.0 convertible 2dr'],\n",
       "      dtype='object')"
      ]
     },
     "execution_count": 22,
     "metadata": {},
     "output_type": "execute_result"
    }
   ],
   "source": [
    "# Índices: se usan para filas\n",
    "Autos.index"
   ]
  },
  {
   "cell_type": "code",
   "execution_count": 23,
   "metadata": {
    "colab": {
     "base_uri": "https://localhost:8080/"
    },
    "executionInfo": {
     "elapsed": 94,
     "status": "ok",
     "timestamp": 1723151778807,
     "user": {
      "displayName": "Francisco Javier Navarro Barrón",
      "userId": "10181626055026217558"
     },
     "user_tz": 360
    },
    "id": "qrTQwqXaps2f",
    "outputId": "5865434e-72d2-480e-9497-2133613da354"
   },
   "outputs": [
    {
     "data": {
      "text/plain": [
       "Index(['Peso', 'Precio'], dtype='object')"
      ]
     },
     "execution_count": 23,
     "metadata": {},
     "output_type": "execute_result"
    }
   ],
   "source": [
    "# Columnas del DataFrame\n",
    "Autos.columns"
   ]
  },
  {
   "cell_type": "code",
   "execution_count": 24,
   "metadata": {
    "colab": {
     "base_uri": "https://localhost:8080/"
    },
    "executionInfo": {
     "elapsed": 93,
     "status": "ok",
     "timestamp": 1723151778808,
     "user": {
      "displayName": "Francisco Javier Navarro Barrón",
      "userId": "10181626055026217558"
     },
     "user_tz": 360
    },
    "id": "1Qb2uAD1pwaG",
    "outputId": "8054f4db-bcc5-4102-fc4e-971fbb39303f"
   },
   "outputs": [
    {
     "data": {
      "text/plain": [
       "array([[3583, '$33,430'],\n",
       "       [3627, '$34,480'],\n",
       "       [3561, '$36,640'],\n",
       "       [3880, '$39,640'],\n",
       "       [3814, '$42,490']], dtype=object)"
      ]
     },
     "execution_count": 24,
     "metadata": {},
     "output_type": "execute_result"
    }
   ],
   "source": [
    "# Todos los datos\n",
    "Autos.values"
   ]
  },
  {
   "cell_type": "code",
   "execution_count": 25,
   "metadata": {
    "colab": {
     "base_uri": "https://localhost:8080/",
     "height": 240
    },
    "executionInfo": {
     "elapsed": 91,
     "status": "ok",
     "timestamp": 1723151778808,
     "user": {
      "displayName": "Francisco Javier Navarro Barrón",
      "userId": "10181626055026217558"
     },
     "user_tz": 360
    },
    "id": "-g0RZINsp0vW",
    "outputId": "fbda69ca-127e-4df5-bdf3-2b276d57ac6e"
   },
   "outputs": [
    {
     "data": {
      "text/plain": [
       "A4 3.0 Quattro 4dr manual    3583\n",
       "A4 3.0 Quattro 4dr auto      3627\n",
       "A6 3.0 4dr                   3561\n",
       "A6 3.0 Quattro 4dr           3880\n",
       "A4 3.0 convertible 2dr       3814\n",
       "Name: Peso, dtype: int64"
      ]
     },
     "execution_count": 25,
     "metadata": {},
     "output_type": "execute_result"
    }
   ],
   "source": [
    "# Selecciono la columna \"Peso\"\n",
    "Autos['Peso']"
   ]
  },
  {
   "cell_type": "code",
   "execution_count": 26,
   "metadata": {
    "colab": {
     "base_uri": "https://localhost:8080/"
    },
    "executionInfo": {
     "elapsed": 90,
     "status": "ok",
     "timestamp": 1723151778808,
     "user": {
      "displayName": "Francisco Javier Navarro Barrón",
      "userId": "10181626055026217558"
     },
     "user_tz": 360
    },
    "id": "qlfTW5sZp2rf",
    "outputId": "4580fe50-af2a-4c2b-c0db-1bcbf9b98893"
   },
   "outputs": [
    {
     "data": {
      "text/plain": [
       "array([3627, '$34,480'], dtype=object)"
      ]
     },
     "execution_count": 26,
     "metadata": {},
     "output_type": "execute_result"
    }
   ],
   "source": [
    "# Selecciono la segunda fila (datos \"crudos\")\n",
    "Autos.values[1]"
   ]
  },
  {
   "cell_type": "code",
   "execution_count": 27,
   "metadata": {
    "colab": {
     "base_uri": "https://localhost:8080/",
     "height": 146
    },
    "executionInfo": {
     "elapsed": 89,
     "status": "ok",
     "timestamp": 1723151778809,
     "user": {
      "displayName": "Francisco Javier Navarro Barrón",
      "userId": "10181626055026217558"
     },
     "user_tz": 360
    },
    "id": "_K_OuzGip5jj",
    "outputId": "a552edbf-b811-4a96-dea2-a820fb2db705"
   },
   "outputs": [
    {
     "data": {
      "text/plain": [
       "Peso         3627\n",
       "Precio    $34,480\n",
       "Name: A4 3.0 Quattro 4dr auto, dtype: object"
      ]
     },
     "execution_count": 27,
     "metadata": {},
     "output_type": "execute_result"
    }
   ],
   "source": [
    "Autos.loc['A4 3.0 Quattro 4dr auto'] # Equivalente al anterior, pero lo devuelve como una Serie"
   ]
  },
  {
   "cell_type": "code",
   "execution_count": 28,
   "metadata": {
    "colab": {
     "base_uri": "https://localhost:8080/",
     "height": 146
    },
    "executionInfo": {
     "elapsed": 89,
     "status": "ok",
     "timestamp": 1723151778809,
     "user": {
      "displayName": "Francisco Javier Navarro Barrón",
      "userId": "10181626055026217558"
     },
     "user_tz": 360
    },
    "id": "UO6ZhBzjXVrB",
    "outputId": "6179a3e3-0b55-4e5b-af72-3cd836cb8545"
   },
   "outputs": [
    {
     "data": {
      "text/plain": [
       "A4 3.0 Quattro 4dr manual    $33,430\n",
       "A6 3.0 4dr                   $36,640\n",
       "Name: Precio, dtype: object"
      ]
     },
     "execution_count": 28,
     "metadata": {},
     "output_type": "execute_result"
    }
   ],
   "source": [
    "# Selección más compleja:\n",
    "# quiero aquellos registros que cumplen X condición, dame sus valores en Y columna\n",
    "Autos.loc[Autos_peso < 3600, # condicion\n",
    "          'Precio']"
   ]
  },
  {
   "cell_type": "code",
   "execution_count": 29,
   "metadata": {
    "colab": {
     "base_uri": "https://localhost:8080/",
     "height": 112
    },
    "executionInfo": {
     "elapsed": 88,
     "status": "ok",
     "timestamp": 1723151778809,
     "user": {
      "displayName": "Francisco Javier Navarro Barrón",
      "userId": "10181626055026217558"
     },
     "user_tz": 360
    },
    "id": "eYnIphv-9ISy",
    "outputId": "7d3928ff-780f-4b47-d145-dfc25166bc09"
   },
   "outputs": [
    {
     "data": {
      "text/html": [
       "<div>\n",
       "<style scoped>\n",
       "    .dataframe tbody tr th:only-of-type {\n",
       "        vertical-align: middle;\n",
       "    }\n",
       "\n",
       "    .dataframe tbody tr th {\n",
       "        vertical-align: top;\n",
       "    }\n",
       "\n",
       "    .dataframe thead th {\n",
       "        text-align: right;\n",
       "    }\n",
       "</style>\n",
       "<table border=\"1\" class=\"dataframe\">\n",
       "  <thead>\n",
       "    <tr style=\"text-align: right;\">\n",
       "      <th></th>\n",
       "      <th>Precio</th>\n",
       "      <th>Peso</th>\n",
       "    </tr>\n",
       "  </thead>\n",
       "  <tbody>\n",
       "    <tr>\n",
       "      <th>A4 3.0 Quattro 4dr manual</th>\n",
       "      <td>$33,430</td>\n",
       "      <td>3583</td>\n",
       "    </tr>\n",
       "    <tr>\n",
       "      <th>A6 3.0 4dr</th>\n",
       "      <td>$36,640</td>\n",
       "      <td>3561</td>\n",
       "    </tr>\n",
       "  </tbody>\n",
       "</table>\n",
       "</div>"
      ],
      "text/plain": [
       "                            Precio  Peso\n",
       "A4 3.0 Quattro 4dr manual  $33,430  3583\n",
       "A6 3.0 4dr                 $36,640  3561"
      ]
     },
     "execution_count": 29,
     "metadata": {},
     "output_type": "execute_result"
    }
   ],
   "source": [
    "# Selección más compleja:\n",
    "# quiero aquellos registros que cumplen X condición, dame 2 columnas\n",
    "Autos.loc[Autos_peso < 3600, # condicion\n",
    "          ['Precio','Peso']]"
   ]
  },
  {
   "cell_type": "code",
   "execution_count": 30,
   "metadata": {
    "colab": {
     "base_uri": "https://localhost:8080/"
    },
    "executionInfo": {
     "elapsed": 88,
     "status": "ok",
     "timestamp": 1723151778810,
     "user": {
      "displayName": "Francisco Javier Navarro Barrón",
      "userId": "10181626055026217558"
     },
     "user_tz": 360
    },
    "id": "IYeU89oL9ypx",
    "outputId": "01503aef-efa4-4e05-c475-072b9ac0021f"
   },
   "outputs": [
    {
     "data": {
      "text/plain": [
       "3693.0"
      ]
     },
     "execution_count": 30,
     "metadata": {},
     "output_type": "execute_result"
    }
   ],
   "source": [
    "Autos.Peso.mean()"
   ]
  },
  {
   "cell_type": "markdown",
   "metadata": {
    "id": "0eOXUeuxqW4b"
   },
   "source": [
    "## Operaciones con datos"
   ]
  },
  {
   "cell_type": "markdown",
   "metadata": {
    "id": "UocL7O9WWW_C"
   },
   "source": [
    "### Transposición\n",
    "La transposición consiste en intercambiar las filas de un *DataFrame* por sus columnas. Esta operación no realiza ninguna modificación sobre los datos, sino que es meramente un cambio visual. La transposición es útil ya que en ocasiones puede resultar más cómodo trabajar con el Data Frame transpuesto en lugar del original."
   ]
  },
  {
   "cell_type": "code",
   "execution_count": 31,
   "metadata": {
    "colab": {
     "base_uri": "https://localhost:8080/",
     "height": 206
    },
    "executionInfo": {
     "elapsed": 85,
     "status": "ok",
     "timestamp": 1723151778810,
     "user": {
      "displayName": "Francisco Javier Navarro Barrón",
      "userId": "10181626055026217558"
     },
     "user_tz": 360
    },
    "id": "s-ZPVn2RNoqt",
    "outputId": "7d07ea06-e71d-436c-b420-06ebaaa2cb03"
   },
   "outputs": [
    {
     "data": {
      "text/html": [
       "<div>\n",
       "<style scoped>\n",
       "    .dataframe tbody tr th:only-of-type {\n",
       "        vertical-align: middle;\n",
       "    }\n",
       "\n",
       "    .dataframe tbody tr th {\n",
       "        vertical-align: top;\n",
       "    }\n",
       "\n",
       "    .dataframe thead th {\n",
       "        text-align: right;\n",
       "    }\n",
       "</style>\n",
       "<table border=\"1\" class=\"dataframe\">\n",
       "  <thead>\n",
       "    <tr style=\"text-align: right;\">\n",
       "      <th></th>\n",
       "      <th>Peso</th>\n",
       "      <th>Precio</th>\n",
       "    </tr>\n",
       "  </thead>\n",
       "  <tbody>\n",
       "    <tr>\n",
       "      <th>A4 3.0 Quattro 4dr manual</th>\n",
       "      <td>3583</td>\n",
       "      <td>$33,430</td>\n",
       "    </tr>\n",
       "    <tr>\n",
       "      <th>A4 3.0 Quattro 4dr auto</th>\n",
       "      <td>3627</td>\n",
       "      <td>$34,480</td>\n",
       "    </tr>\n",
       "    <tr>\n",
       "      <th>A6 3.0 4dr</th>\n",
       "      <td>3561</td>\n",
       "      <td>$36,640</td>\n",
       "    </tr>\n",
       "    <tr>\n",
       "      <th>A6 3.0 Quattro 4dr</th>\n",
       "      <td>3880</td>\n",
       "      <td>$39,640</td>\n",
       "    </tr>\n",
       "    <tr>\n",
       "      <th>A4 3.0 convertible 2dr</th>\n",
       "      <td>3814</td>\n",
       "      <td>$42,490</td>\n",
       "    </tr>\n",
       "  </tbody>\n",
       "</table>\n",
       "</div>"
      ],
      "text/plain": [
       "                           Peso   Precio\n",
       "A4 3.0 Quattro 4dr manual  3583  $33,430\n",
       "A4 3.0 Quattro 4dr auto    3627  $34,480\n",
       "A6 3.0 4dr                 3561  $36,640\n",
       "A6 3.0 Quattro 4dr         3880  $39,640\n",
       "A4 3.0 convertible 2dr     3814  $42,490"
      ]
     },
     "execution_count": 31,
     "metadata": {},
     "output_type": "execute_result"
    }
   ],
   "source": [
    "Autos"
   ]
  },
  {
   "cell_type": "code",
   "execution_count": 32,
   "metadata": {
    "colab": {
     "base_uri": "https://localhost:8080/",
     "height": 129
    },
    "executionInfo": {
     "elapsed": 84,
     "status": "ok",
     "timestamp": 1723151778810,
     "user": {
      "displayName": "Francisco Javier Navarro Barrón",
      "userId": "10181626055026217558"
     },
     "user_tz": 360
    },
    "id": "YiCJnu4Op6z_",
    "outputId": "1bd562e1-4906-45f3-8651-289f0b7fa42b"
   },
   "outputs": [
    {
     "data": {
      "text/html": [
       "<div>\n",
       "<style scoped>\n",
       "    .dataframe tbody tr th:only-of-type {\n",
       "        vertical-align: middle;\n",
       "    }\n",
       "\n",
       "    .dataframe tbody tr th {\n",
       "        vertical-align: top;\n",
       "    }\n",
       "\n",
       "    .dataframe thead th {\n",
       "        text-align: right;\n",
       "    }\n",
       "</style>\n",
       "<table border=\"1\" class=\"dataframe\">\n",
       "  <thead>\n",
       "    <tr style=\"text-align: right;\">\n",
       "      <th></th>\n",
       "      <th>A4 3.0 Quattro 4dr manual</th>\n",
       "      <th>A4 3.0 Quattro 4dr auto</th>\n",
       "      <th>A6 3.0 4dr</th>\n",
       "      <th>A6 3.0 Quattro 4dr</th>\n",
       "      <th>A4 3.0 convertible 2dr</th>\n",
       "    </tr>\n",
       "  </thead>\n",
       "  <tbody>\n",
       "    <tr>\n",
       "      <th>Peso</th>\n",
       "      <td>3583</td>\n",
       "      <td>3627</td>\n",
       "      <td>3561</td>\n",
       "      <td>3880</td>\n",
       "      <td>3814</td>\n",
       "    </tr>\n",
       "    <tr>\n",
       "      <th>Precio</th>\n",
       "      <td>$33,430</td>\n",
       "      <td>$34,480</td>\n",
       "      <td>$36,640</td>\n",
       "      <td>$39,640</td>\n",
       "      <td>$42,490</td>\n",
       "    </tr>\n",
       "  </tbody>\n",
       "</table>\n",
       "</div>"
      ],
      "text/plain": [
       "       A4 3.0 Quattro 4dr manual A4 3.0 Quattro 4dr auto A6 3.0 4dr  \\\n",
       "Peso                        3583                    3627       3561   \n",
       "Precio                   $33,430                 $34,480    $36,640   \n",
       "\n",
       "       A6 3.0 Quattro 4dr A4 3.0 convertible 2dr  \n",
       "Peso                 3880                   3814  \n",
       "Precio            $39,640                $42,490  "
      ]
     },
     "execution_count": 32,
     "metadata": {},
     "output_type": "execute_result"
    }
   ],
   "source": [
    "Autos.T"
   ]
  },
  {
   "cell_type": "code",
   "execution_count": 33,
   "metadata": {
    "colab": {
     "base_uri": "https://localhost:8080/",
     "height": 112
    },
    "executionInfo": {
     "elapsed": 83,
     "status": "ok",
     "timestamp": 1723151778810,
     "user": {
      "displayName": "Francisco Javier Navarro Barrón",
      "userId": "10181626055026217558"
     },
     "user_tz": 360
    },
    "id": "myKSZfMuKGUX",
    "outputId": "95b8443e-f9f8-4c94-e74b-be2e5efc041a"
   },
   "outputs": [
    {
     "data": {
      "text/html": [
       "<div>\n",
       "<style scoped>\n",
       "    .dataframe tbody tr th:only-of-type {\n",
       "        vertical-align: middle;\n",
       "    }\n",
       "\n",
       "    .dataframe tbody tr th {\n",
       "        vertical-align: top;\n",
       "    }\n",
       "\n",
       "    .dataframe thead th {\n",
       "        text-align: right;\n",
       "    }\n",
       "</style>\n",
       "<table border=\"1\" class=\"dataframe\">\n",
       "  <thead>\n",
       "    <tr style=\"text-align: right;\">\n",
       "      <th></th>\n",
       "      <th>count</th>\n",
       "      <th>unique</th>\n",
       "      <th>top</th>\n",
       "      <th>freq</th>\n",
       "      <th>mean</th>\n",
       "      <th>std</th>\n",
       "      <th>min</th>\n",
       "      <th>25%</th>\n",
       "      <th>50%</th>\n",
       "      <th>75%</th>\n",
       "      <th>max</th>\n",
       "    </tr>\n",
       "  </thead>\n",
       "  <tbody>\n",
       "    <tr>\n",
       "      <th>Peso</th>\n",
       "      <td>5.0</td>\n",
       "      <td>NaN</td>\n",
       "      <td>NaN</td>\n",
       "      <td>NaN</td>\n",
       "      <td>3693.0</td>\n",
       "      <td>144.473181</td>\n",
       "      <td>3561.0</td>\n",
       "      <td>3583.0</td>\n",
       "      <td>3627.0</td>\n",
       "      <td>3814.0</td>\n",
       "      <td>3880.0</td>\n",
       "    </tr>\n",
       "    <tr>\n",
       "      <th>Precio</th>\n",
       "      <td>5</td>\n",
       "      <td>5</td>\n",
       "      <td>$33,430</td>\n",
       "      <td>1</td>\n",
       "      <td>NaN</td>\n",
       "      <td>NaN</td>\n",
       "      <td>NaN</td>\n",
       "      <td>NaN</td>\n",
       "      <td>NaN</td>\n",
       "      <td>NaN</td>\n",
       "      <td>NaN</td>\n",
       "    </tr>\n",
       "  </tbody>\n",
       "</table>\n",
       "</div>"
      ],
      "text/plain": [
       "       count unique      top freq    mean         std     min     25%     50%  \\\n",
       "Peso     5.0    NaN      NaN  NaN  3693.0  144.473181  3561.0  3583.0  3627.0   \n",
       "Precio     5      5  $33,430    1     NaN         NaN     NaN     NaN     NaN   \n",
       "\n",
       "           75%     max  \n",
       "Peso    3814.0  3880.0  \n",
       "Precio     NaN     NaN  "
      ]
     },
     "execution_count": 33,
     "metadata": {},
     "output_type": "execute_result"
    }
   ],
   "source": [
    "# Veamos utilidad con \"describe\"\n",
    "Autos.describe(include='all').T"
   ]
  },
  {
   "cell_type": "code",
   "execution_count": 34,
   "metadata": {
    "colab": {
     "base_uri": "https://localhost:8080/",
     "height": 206
    },
    "executionInfo": {
     "elapsed": 81,
     "status": "ok",
     "timestamp": 1723151778810,
     "user": {
      "displayName": "Francisco Javier Navarro Barrón",
      "userId": "10181626055026217558"
     },
     "user_tz": 360
    },
    "id": "U55xLy4bOWOt",
    "outputId": "d82d666a-31c3-4868-8c17-47961cd36e98"
   },
   "outputs": [
    {
     "data": {
      "text/html": [
       "<div>\n",
       "<style scoped>\n",
       "    .dataframe tbody tr th:only-of-type {\n",
       "        vertical-align: middle;\n",
       "    }\n",
       "\n",
       "    .dataframe tbody tr th {\n",
       "        vertical-align: top;\n",
       "    }\n",
       "\n",
       "    .dataframe thead th {\n",
       "        text-align: right;\n",
       "    }\n",
       "</style>\n",
       "<table border=\"1\" class=\"dataframe\">\n",
       "  <thead>\n",
       "    <tr style=\"text-align: right;\">\n",
       "      <th></th>\n",
       "      <th>Peso</th>\n",
       "      <th>Precio</th>\n",
       "    </tr>\n",
       "  </thead>\n",
       "  <tbody>\n",
       "    <tr>\n",
       "      <th>A4 3.0 Quattro 4dr manual</th>\n",
       "      <td>3583</td>\n",
       "      <td>$33,430</td>\n",
       "    </tr>\n",
       "    <tr>\n",
       "      <th>A4 3.0 Quattro 4dr auto</th>\n",
       "      <td>3627</td>\n",
       "      <td>$34,480</td>\n",
       "    </tr>\n",
       "    <tr>\n",
       "      <th>A6 3.0 4dr</th>\n",
       "      <td>3561</td>\n",
       "      <td>$36,640</td>\n",
       "    </tr>\n",
       "    <tr>\n",
       "      <th>A6 3.0 Quattro 4dr</th>\n",
       "      <td>3880</td>\n",
       "      <td>$39,640</td>\n",
       "    </tr>\n",
       "    <tr>\n",
       "      <th>A4 3.0 convertible 2dr</th>\n",
       "      <td>3814</td>\n",
       "      <td>$42,490</td>\n",
       "    </tr>\n",
       "  </tbody>\n",
       "</table>\n",
       "</div>"
      ],
      "text/plain": [
       "                           Peso   Precio\n",
       "A4 3.0 Quattro 4dr manual  3583  $33,430\n",
       "A4 3.0 Quattro 4dr auto    3627  $34,480\n",
       "A6 3.0 4dr                 3561  $36,640\n",
       "A6 3.0 Quattro 4dr         3880  $39,640\n",
       "A4 3.0 convertible 2dr     3814  $42,490"
      ]
     },
     "execution_count": 34,
     "metadata": {},
     "output_type": "execute_result"
    }
   ],
   "source": [
    "# No se modificó el DF\n",
    "Autos"
   ]
  },
  {
   "cell_type": "markdown",
   "metadata": {
    "id": "QzdVSeXpqjLi"
   },
   "source": [
    "### Funciones vectorizadas\n",
    "Las **funciones vectorizadas** o `ufuncs` (*universal functions*), permiten aplicar operaciones a *Series* o *DataFrames* completos sin necesidad de utilizar bucles explícitos. Esto se logra aprovechando las capacidades de *NumPy*, que es la biblioteca subyacente en la que se basa *Pandas*.\n",
    "\n",
    "\n",
    "**Ventajas**\n",
    "1. Rendimiento: Las operaciones vectorizadas son mucho más rápidas que los bucles tradicionales en *Python* porque están optimizadas en *C* y utilizan operaciones \"en bloque\".\n",
    "\n",
    "2. Código más limpio: Al evitar bucles, el código es más conciso y fácil de leer.\n",
    "\n",
    "3. Menos errores: Al trabajar con operaciones en masa, se reduce la posibilidad de errores que pueden ocurrir en bucles.\n",
    "\n",
    "**Ejemplos**:"
   ]
  },
  {
   "cell_type": "code",
   "execution_count": 35,
   "metadata": {
    "colab": {
     "base_uri": "https://localhost:8080/"
    },
    "executionInfo": {
     "elapsed": 81,
     "status": "ok",
     "timestamp": 1723151778810,
     "user": {
      "displayName": "Francisco Javier Navarro Barrón",
      "userId": "10181626055026217558"
     },
     "user_tz": 360
    },
    "id": "riL9GlpbZMYc",
    "outputId": "14fd44d7-b8e0-4a78-9a6c-03d10ab7eb15"
   },
   "outputs": [
    {
     "name": "stdout",
     "output_type": "stream",
     "text": [
      "0    1\n",
      "1    2\n",
      "2    3\n",
      "3    4\n",
      "dtype: int64\n",
      "0    11\n",
      "1    12\n",
      "2    13\n",
      "3    14\n",
      "dtype: int64\n"
     ]
    }
   ],
   "source": [
    "# Operaciones aritméticas\n",
    "s = pd.Series([1, 2, 3, 4])\n",
    "print(s)\n",
    "\n",
    "# Sumar 10 a cada elemento\n",
    "s = s + 10\n",
    "print(s)"
   ]
  },
  {
   "cell_type": "code",
   "execution_count": 36,
   "metadata": {
    "colab": {
     "base_uri": "https://localhost:8080/"
    },
    "executionInfo": {
     "elapsed": 78,
     "status": "ok",
     "timestamp": 1723151778810,
     "user": {
      "displayName": "Francisco Javier Navarro Barrón",
      "userId": "10181626055026217558"
     },
     "user_tz": 360
    },
    "id": "Pyzmk-huZK9f",
    "outputId": "b6bbfc9a-e0df-42a8-c11d-f180d3ad23ef"
   },
   "outputs": [
    {
     "name": "stdout",
     "output_type": "stream",
     "text": [
      "0     1\n",
      "1     4\n",
      "2     9\n",
      "3    16\n",
      "dtype: int64\n",
      "0    1.0\n",
      "1    2.0\n",
      "2    3.0\n",
      "3    4.0\n",
      "dtype: float64\n"
     ]
    }
   ],
   "source": [
    "# Funciones matemáticas\n",
    "s = pd.Series([1, 4, 9, 16])\n",
    "print(s)\n",
    "\n",
    "sqrt_s = np.sqrt(s) # esta función vectorizada no requiere que recorramos toda la lista\n",
    "print(sqrt_s)"
   ]
  },
  {
   "cell_type": "code",
   "execution_count": 37,
   "metadata": {
    "colab": {
     "base_uri": "https://localhost:8080/"
    },
    "executionInfo": {
     "elapsed": 76,
     "status": "ok",
     "timestamp": 1723151778810,
     "user": {
      "displayName": "Francisco Javier Navarro Barrón",
      "userId": "10181626055026217558"
     },
     "user_tz": 360
    },
    "id": "l_i0LQ-UZNw8",
    "outputId": "3bc0298e-79cd-43b8-9eba-d85d14f8442b"
   },
   "outputs": [
    {
     "name": "stdout",
     "output_type": "stream",
     "text": [
      "['Menor que 2' 'Menor que 2' 'Mayor que 2' 'Mayor que 2']\n"
     ]
    }
   ],
   "source": [
    "# Funciones condicionales\n",
    "s = pd.Series([1, 2, 3, 4])\n",
    "resultado = np.where(s > 2, 'Mayor que 2', 'Menor que 2')\n",
    "print(resultado)"
   ]
  },
  {
   "cell_type": "markdown",
   "metadata": {
    "id": "pzjvDRHMZWO6"
   },
   "source": [
    "En el siguiente bloque de código se calcula un nuevo *DataFrame*, el cual es resultado de realizar un cálculo sobre una determinada fila."
   ]
  },
  {
   "cell_type": "code",
   "execution_count": 38,
   "metadata": {
    "colab": {
     "base_uri": "https://localhost:8080/",
     "height": 206
    },
    "executionInfo": {
     "elapsed": 73,
     "status": "ok",
     "timestamp": 1723151778810,
     "user": {
      "displayName": "Francisco Javier Navarro Barrón",
      "userId": "10181626055026217558"
     },
     "user_tz": 360
    },
    "id": "9AZB8hvRq0dv",
    "outputId": "5da3dd9b-392b-4aa0-8022-5c65749f7637"
   },
   "outputs": [
    {
     "data": {
      "text/html": [
       "<div>\n",
       "<style scoped>\n",
       "    .dataframe tbody tr th:only-of-type {\n",
       "        vertical-align: middle;\n",
       "    }\n",
       "\n",
       "    .dataframe tbody tr th {\n",
       "        vertical-align: top;\n",
       "    }\n",
       "\n",
       "    .dataframe thead th {\n",
       "        text-align: right;\n",
       "    }\n",
       "</style>\n",
       "<table border=\"1\" class=\"dataframe\">\n",
       "  <thead>\n",
       "    <tr style=\"text-align: right;\">\n",
       "      <th></th>\n",
       "      <th>Peso</th>\n",
       "      <th>Largo</th>\n",
       "    </tr>\n",
       "  </thead>\n",
       "  <tbody>\n",
       "    <tr>\n",
       "      <th>A4 3.0 Quattro 4dr manual</th>\n",
       "      <td>3583</td>\n",
       "      <td>179</td>\n",
       "    </tr>\n",
       "    <tr>\n",
       "      <th>A4 3.0 Quattro 4dr auto</th>\n",
       "      <td>3627</td>\n",
       "      <td>179</td>\n",
       "    </tr>\n",
       "    <tr>\n",
       "      <th>A6 3.0 4dr</th>\n",
       "      <td>3561</td>\n",
       "      <td>192</td>\n",
       "    </tr>\n",
       "    <tr>\n",
       "      <th>A6 3.0 Quattro 4dr</th>\n",
       "      <td>3880</td>\n",
       "      <td>192</td>\n",
       "    </tr>\n",
       "    <tr>\n",
       "      <th>A4 3.0 convertible 2dr</th>\n",
       "      <td>3814</td>\n",
       "      <td>180</td>\n",
       "    </tr>\n",
       "  </tbody>\n",
       "</table>\n",
       "</div>"
      ],
      "text/plain": [
       "                           Peso  Largo\n",
       "A4 3.0 Quattro 4dr manual  3583    179\n",
       "A4 3.0 Quattro 4dr auto    3627    179\n",
       "A6 3.0 4dr                 3561    192\n",
       "A6 3.0 Quattro 4dr         3880    192\n",
       "A4 3.0 convertible 2dr     3814    180"
      ]
     },
     "execution_count": 38,
     "metadata": {},
     "output_type": "execute_result"
    }
   ],
   "source": [
    "largo = [179, 179, 192, 192, 180]\n",
    "# Crear dataframe a partir de peso y largo de autos\n",
    "Autos_2 = pd.DataFrame({'Peso': peso,'Largo': largo}, index=modelos)\n",
    "Autos_2"
   ]
  },
  {
   "cell_type": "code",
   "execution_count": 39,
   "metadata": {
    "colab": {
     "base_uri": "https://localhost:8080/"
    },
    "executionInfo": {
     "elapsed": 72,
     "status": "ok",
     "timestamp": 1723151778810,
     "user": {
      "displayName": "Francisco Javier Navarro Barrón",
      "userId": "10181626055026217558"
     },
     "user_tz": 360
    },
    "id": "Q9eA-BMS8IR1",
    "outputId": "9ce0815c-19c0-4898-e1e1-e95d1ee32d62"
   },
   "outputs": [
    {
     "name": "stdout",
     "output_type": "stream",
     "text": [
      "                                 Peso       Largo\n",
      "A4 3.0 Quattro 4dr manual  100.000000  100.000000\n",
      "A4 3.0 Quattro 4dr auto    101.228021  100.000000\n",
      "A6 3.0 4dr                  99.385989  107.262570\n",
      "A6 3.0 Quattro 4dr         108.289143  107.262570\n",
      "A4 3.0 convertible 2dr     106.447111  100.558659\n"
     ]
    }
   ],
   "source": [
    "# Cuánto mide y cuánto pesa cada auto en porcentaje con respecto al primero\n",
    "print(Autos_2 / Autos_2.iloc[0] * 100) # ufunc o Funcion vectorizada"
   ]
  },
  {
   "cell_type": "code",
   "execution_count": 40,
   "metadata": {
    "colab": {
     "base_uri": "https://localhost:8080/",
     "height": 206
    },
    "executionInfo": {
     "elapsed": 71,
     "status": "ok",
     "timestamp": 1723151778810,
     "user": {
      "displayName": "Francisco Javier Navarro Barrón",
      "userId": "10181626055026217558"
     },
     "user_tz": 360
    },
    "id": "T4m22hATR2Z7",
    "outputId": "1f0dcfbf-6a27-4bdf-aa6a-63d67e2c1e2c"
   },
   "outputs": [
    {
     "data": {
      "text/html": [
       "<div>\n",
       "<style scoped>\n",
       "    .dataframe tbody tr th:only-of-type {\n",
       "        vertical-align: middle;\n",
       "    }\n",
       "\n",
       "    .dataframe tbody tr th {\n",
       "        vertical-align: top;\n",
       "    }\n",
       "\n",
       "    .dataframe thead th {\n",
       "        text-align: right;\n",
       "    }\n",
       "</style>\n",
       "<table border=\"1\" class=\"dataframe\">\n",
       "  <thead>\n",
       "    <tr style=\"text-align: right;\">\n",
       "      <th></th>\n",
       "      <th>Peso</th>\n",
       "      <th>Largo</th>\n",
       "    </tr>\n",
       "  </thead>\n",
       "  <tbody>\n",
       "    <tr>\n",
       "      <th>A4 3.0 Quattro 4dr manual</th>\n",
       "      <td>97.021392</td>\n",
       "      <td>97.071584</td>\n",
       "    </tr>\n",
       "    <tr>\n",
       "      <th>A4 3.0 Quattro 4dr auto</th>\n",
       "      <td>98.212835</td>\n",
       "      <td>97.071584</td>\n",
       "    </tr>\n",
       "    <tr>\n",
       "      <th>A6 3.0 4dr</th>\n",
       "      <td>96.425670</td>\n",
       "      <td>104.121475</td>\n",
       "    </tr>\n",
       "    <tr>\n",
       "      <th>A6 3.0 Quattro 4dr</th>\n",
       "      <td>105.063634</td>\n",
       "      <td>104.121475</td>\n",
       "    </tr>\n",
       "    <tr>\n",
       "      <th>A4 3.0 convertible 2dr</th>\n",
       "      <td>103.276469</td>\n",
       "      <td>97.613883</td>\n",
       "    </tr>\n",
       "  </tbody>\n",
       "</table>\n",
       "</div>"
      ],
      "text/plain": [
       "                                 Peso       Largo\n",
       "A4 3.0 Quattro 4dr manual   97.021392   97.071584\n",
       "A4 3.0 Quattro 4dr auto     98.212835   97.071584\n",
       "A6 3.0 4dr                  96.425670  104.121475\n",
       "A6 3.0 Quattro 4dr         105.063634  104.121475\n",
       "A4 3.0 convertible 2dr     103.276469   97.613883"
      ]
     },
     "execution_count": 40,
     "metadata": {},
     "output_type": "execute_result"
    }
   ],
   "source": [
    "# Cuánto mide y pesa cada auto con respecto al promedio\n",
    "Autos_2 / Autos_2.mean() * 100"
   ]
  },
  {
   "cell_type": "code",
   "execution_count": 41,
   "metadata": {
    "colab": {
     "base_uri": "https://localhost:8080/",
     "height": 206
    },
    "executionInfo": {
     "elapsed": 70,
     "status": "ok",
     "timestamp": 1723151778810,
     "user": {
      "displayName": "Francisco Javier Navarro Barrón",
      "userId": "10181626055026217558"
     },
     "user_tz": 360
    },
    "id": "beIrlM-c8oX3",
    "outputId": "b02b8a6c-2562-49cc-ab89-0fa4aff2d3e0"
   },
   "outputs": [
    {
     "data": {
      "text/html": [
       "<div>\n",
       "<style scoped>\n",
       "    .dataframe tbody tr th:only-of-type {\n",
       "        vertical-align: middle;\n",
       "    }\n",
       "\n",
       "    .dataframe tbody tr th {\n",
       "        vertical-align: top;\n",
       "    }\n",
       "\n",
       "    .dataframe thead th {\n",
       "        text-align: right;\n",
       "    }\n",
       "</style>\n",
       "<table border=\"1\" class=\"dataframe\">\n",
       "  <thead>\n",
       "    <tr style=\"text-align: right;\">\n",
       "      <th></th>\n",
       "      <th>Peso</th>\n",
       "      <th>Largo</th>\n",
       "    </tr>\n",
       "  </thead>\n",
       "  <tbody>\n",
       "    <tr>\n",
       "      <th>A4 3.0 Quattro 4dr manual</th>\n",
       "      <td>3583</td>\n",
       "      <td>179</td>\n",
       "    </tr>\n",
       "    <tr>\n",
       "      <th>A4 3.0 Quattro 4dr auto</th>\n",
       "      <td>3627</td>\n",
       "      <td>179</td>\n",
       "    </tr>\n",
       "    <tr>\n",
       "      <th>A6 3.0 4dr</th>\n",
       "      <td>3561</td>\n",
       "      <td>192</td>\n",
       "    </tr>\n",
       "    <tr>\n",
       "      <th>A6 3.0 Quattro 4dr</th>\n",
       "      <td>3880</td>\n",
       "      <td>192</td>\n",
       "    </tr>\n",
       "    <tr>\n",
       "      <th>A4 3.0 convertible 2dr</th>\n",
       "      <td>3814</td>\n",
       "      <td>180</td>\n",
       "    </tr>\n",
       "  </tbody>\n",
       "</table>\n",
       "</div>"
      ],
      "text/plain": [
       "                           Peso  Largo\n",
       "A4 3.0 Quattro 4dr manual  3583    179\n",
       "A4 3.0 Quattro 4dr auto    3627    179\n",
       "A6 3.0 4dr                 3561    192\n",
       "A6 3.0 Quattro 4dr         3880    192\n",
       "A4 3.0 convertible 2dr     3814    180"
      ]
     },
     "execution_count": 41,
     "metadata": {},
     "output_type": "execute_result"
    }
   ],
   "source": [
    "Autos_2"
   ]
  },
  {
   "cell_type": "markdown",
   "metadata": {
    "id": "NBlqkYF_rSKe"
   },
   "source": [
    "### Conservación de índices\n",
    "Tengamos en cuenta que los resultados de las operaciones conservan los índices y las columnas, y los índices quedan alineados entre los objetos que participan de la operación. Veremos esto con ejemplos:"
   ]
  },
  {
   "cell_type": "code",
   "execution_count": 42,
   "metadata": {
    "colab": {
     "base_uri": "https://localhost:8080/",
     "height": 397
    },
    "executionInfo": {
     "elapsed": 70,
     "status": "ok",
     "timestamp": 1723151778811,
     "user": {
      "displayName": "Francisco Javier Navarro Barrón",
      "userId": "10181626055026217558"
     },
     "user_tz": 360
    },
    "id": "7WhVD059rWVS",
    "outputId": "d04c1f61-7647-4618-9bf9-32f3e543078d"
   },
   "outputs": [
    {
     "data": {
      "text/plain": [
       "primero    51\n",
       "segundo    53\n",
       "tercero    55\n",
       "cuarto     57\n",
       "quinto     59\n",
       "sexto      61\n",
       "séptimo    63\n",
       "octavo     65\n",
       "noveno     67\n",
       "décimo     69\n",
       "dtype: int64"
      ]
     },
     "execution_count": 42,
     "metadata": {},
     "output_type": "execute_result"
    }
   ],
   "source": [
    "Numeros_3 = range(51,70,2) # Números impares entre 50 y 70\n",
    "\n",
    "# Creo un objeto Series con el mismo índice que el anterior, que contenía los números pares\n",
    "Numeros_serie_3 = pd.Series(Numeros_3, index=Numeros_en_texto)\n",
    "Numeros_serie_3"
   ]
  },
  {
   "cell_type": "code",
   "execution_count": 43,
   "metadata": {
    "colab": {
     "base_uri": "https://localhost:8080/",
     "height": 397
    },
    "executionInfo": {
     "elapsed": 70,
     "status": "ok",
     "timestamp": 1723151778811,
     "user": {
      "displayName": "Francisco Javier Navarro Barrón",
      "userId": "10181626055026217558"
     },
     "user_tz": 360
    },
    "id": "ddkVrIPmTRMP",
    "outputId": "7b03e8de-fbbf-4796-9860-3a95608b9523"
   },
   "outputs": [
    {
     "data": {
      "text/plain": [
       "primero    52\n",
       "segundo    54\n",
       "tercero    56\n",
       "cuarto     58\n",
       "quinto     60\n",
       "sexto      62\n",
       "séptimo    64\n",
       "octavo     66\n",
       "noveno     68\n",
       "décimo     70\n",
       "dtype: int64"
      ]
     },
     "execution_count": 43,
     "metadata": {},
     "output_type": "execute_result"
    }
   ],
   "source": [
    "# Creo un objeto Series con el mismo índice que el anterior, que contenía los números pares\n",
    "Numeros_serie_2 = pd.Series(range(52, 71, 2), index=Numeros_en_texto)\n",
    "Numeros_serie_2"
   ]
  },
  {
   "cell_type": "code",
   "execution_count": 44,
   "metadata": {
    "colab": {
     "base_uri": "https://localhost:8080/"
    },
    "executionInfo": {
     "elapsed": 68,
     "status": "ok",
     "timestamp": 1723151778811,
     "user": {
      "displayName": "Francisco Javier Navarro Barrón",
      "userId": "10181626055026217558"
     },
     "user_tz": 360
    },
    "id": "zKh4mWxmrpXf",
    "outputId": "d1541a35-7bdd-4eeb-9fc7-e19d4f986add"
   },
   "outputs": [
    {
     "name": "stdout",
     "output_type": "stream",
     "text": [
      "primero    103\n",
      "segundo    107\n",
      "tercero    111\n",
      "cuarto     115\n",
      "quinto     119\n",
      "sexto      123\n",
      "séptimo    127\n",
      "octavo     131\n",
      "noveno     135\n",
      "décimo     139\n",
      "dtype: int64\n",
      "primero    103\n",
      "segundo    107\n",
      "tercero    111\n",
      "cuarto     115\n",
      "quinto     119\n",
      "sexto      123\n",
      "séptimo    127\n",
      "octavo     131\n",
      "noveno     135\n",
      "décimo     139\n",
      "dtype: int64\n"
     ]
    }
   ],
   "source": [
    "# Sumo ambos objetos, elemento a elemento. Los índices se conservan\n",
    "print(Numeros_serie_2 + Numeros_serie_3)\n",
    "\n",
    "# Suma con relleno\n",
    "print(Numeros_serie_2.add(Numeros_serie_3))"
   ]
  },
  {
   "cell_type": "code",
   "execution_count": 45,
   "metadata": {
    "colab": {
     "base_uri": "https://localhost:8080/"
    },
    "executionInfo": {
     "elapsed": 64,
     "status": "ok",
     "timestamp": 1723151778811,
     "user": {
      "displayName": "Francisco Javier Navarro Barrón",
      "userId": "10181626055026217558"
     },
     "user_tz": 360
    },
    "id": "kwCDfAbZsCOE",
    "outputId": "26a89d3d-a5d4-491c-e8d5-090142bad7b6"
   },
   "outputs": [
    {
     "name": "stdout",
     "output_type": "stream",
     "text": [
      "primero     78.0\n",
      "segundo     81.0\n",
      "tercero     84.0\n",
      "cuarto      87.0\n",
      "quinto      90.0\n",
      "sexto       93.0\n",
      "séptimo     96.0\n",
      "octavo      99.0\n",
      "noveno     102.0\n",
      "décimo     105.0\n",
      "dtype: float64\n",
      "primero     78.0\n",
      "segundo     81.0\n",
      "tercero     84.0\n",
      "cuarto      87.0\n",
      "quinto      90.0\n",
      "sexto       93.0\n",
      "séptimo     96.0\n",
      "octavo      99.0\n",
      "noveno     102.0\n",
      "décimo     105.0\n",
      "dtype: float64\n"
     ]
    }
   ],
   "source": [
    "# Otro ejemplo de conservación de índices\n",
    "print(Numeros_serie_2 * 1.5)\n",
    "\n",
    "# Multiplicacion con relleno\n",
    "print(Numeros_serie_2.mul(1.5))"
   ]
  },
  {
   "cell_type": "code",
   "execution_count": 46,
   "metadata": {
    "colab": {
     "base_uri": "https://localhost:8080/"
    },
    "executionInfo": {
     "elapsed": 62,
     "status": "ok",
     "timestamp": 1723151778811,
     "user": {
      "displayName": "Francisco Javier Navarro Barrón",
      "userId": "10181626055026217558"
     },
     "user_tz": 360
    },
    "id": "cyd4dY9u9Kjl",
    "outputId": "96dcb12c-b5fa-482e-a476-8de5002142a7"
   },
   "outputs": [
    {
     "name": "stdout",
     "output_type": "stream",
     "text": [
      "quinto     60\n",
      "sexto      62\n",
      "séptimo    64\n",
      "dtype: int64 \n",
      "\n",
      " sexto      61\n",
      "séptimo    63\n",
      "octavo     65\n",
      "dtype: int64 \n",
      "\n",
      "\n",
      "octavo       NaN\n",
      "quinto       NaN\n",
      "sexto      123.0\n",
      "séptimo    127.0\n",
      "dtype: float64\n"
     ]
    }
   ],
   "source": [
    "Numeros_serie_2_porcion = Numeros_serie_2[4:7] # Una porción de la serie de números pares\n",
    "Numeros_serie_3_porcion = Numeros_serie_3[5:8] # Una porción de la serie de números impares\n",
    "print(Numeros_serie_2_porcion, '\\n\\n', Numeros_serie_3_porcion, '\\n\\n')\n",
    "print(Numeros_serie_2_porcion + Numeros_serie_3_porcion) # Suma de las dos series"
   ]
  },
  {
   "cell_type": "markdown",
   "metadata": {
    "id": "OvvBCGxnsmU_"
   },
   "source": [
    "Observemos lo que sucede en la última línea. ¿Cómo son los dos objetos que se suman?\n",
    "\n",
    "Notemos que coinciden en dos índices, \"sexto\" y \"séptimo\". Estos índices se unen en la suma final. Los índices que no coinciden (\"quinto\", presente sólo en el primer objeto, y \"octavo\", presente sólo en el segundo) son rellenados con elementos vacíos, representados por el símbolo `NaN` (*Not a Number*).\n"
   ]
  },
  {
   "cell_type": "markdown",
   "metadata": {
    "id": "komCZ9Kmudoi"
   },
   "source": [
    "Podemos esquematizar la operación anterior de la siguiente forma:\n",
    "![Screenshot from 2022-04-18 17-10-44.png](data:image/png;base64,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)\n"
   ]
  },
  {
   "cell_type": "markdown",
   "metadata": {
    "id": "SQe2s-3TjnBp"
   },
   "source": [
    "Asimismo, los índices se ordenan automáticamente. En este caso, como es texto, se ordenan alfabéticamente. Si fueran números, se ordenan de menor a mayor.\n",
    "\n",
    "Ahora veamos cómo **Pandas** maneja los valores ausentes en el siguiente código:\n"
   ]
  },
  {
   "cell_type": "code",
   "execution_count": 47,
   "metadata": {
    "colab": {
     "base_uri": "https://localhost:8080/",
     "height": 209
    },
    "executionInfo": {
     "elapsed": 60,
     "status": "ok",
     "timestamp": 1723151778811,
     "user": {
      "displayName": "Francisco Javier Navarro Barrón",
      "userId": "10181626055026217558"
     },
     "user_tz": 360
    },
    "id": "TOWpxD_r-RV_",
    "outputId": "7e74b91f-1ed4-4869-f934-d373c5436d70"
   },
   "outputs": [
    {
     "data": {
      "text/plain": [
       "octavo      65.0\n",
       "quinto      60.0\n",
       "sexto      123.0\n",
       "séptimo    127.0\n",
       "dtype: float64"
      ]
     },
     "execution_count": 47,
     "metadata": {},
     "output_type": "execute_result"
    }
   ],
   "source": [
    "# Rellena NaN con ceros\n",
    "Numeros_serie_2_porcion.add(Numeros_serie_3_porcion, fill_value=0)"
   ]
  },
  {
   "cell_type": "code",
   "execution_count": null,
   "metadata": {
    "id": "9y279ts-tgi6"
   },
   "outputs": [],
   "source": []
  },
  {
   "cell_type": "markdown",
   "metadata": {
    "id": "5QGW3xsBkLgM"
   },
   "source": [
    "## Agregar/Borrar columnas\n",
    "Agregar y borrar columnas en un *DataFrame* de *Pandas* es bastante sencillo. Veamos algunas formas de hacerlo:"
   ]
  },
  {
   "cell_type": "code",
   "execution_count": 48,
   "metadata": {
    "colab": {
     "base_uri": "https://localhost:8080/",
     "height": 125
    },
    "executionInfo": {
     "elapsed": 60,
     "status": "ok",
     "timestamp": 1723151778811,
     "user": {
      "displayName": "Francisco Javier Navarro Barrón",
      "userId": "10181626055026217558"
     },
     "user_tz": 360
    },
    "id": "eowobcPwe4j3",
    "outputId": "cb616d0f-295b-4432-d398-e48cb22b38a6"
   },
   "outputs": [
    {
     "data": {
      "text/html": [
       "<div>\n",
       "<style scoped>\n",
       "    .dataframe tbody tr th:only-of-type {\n",
       "        vertical-align: middle;\n",
       "    }\n",
       "\n",
       "    .dataframe tbody tr th {\n",
       "        vertical-align: top;\n",
       "    }\n",
       "\n",
       "    .dataframe thead th {\n",
       "        text-align: right;\n",
       "    }\n",
       "</style>\n",
       "<table border=\"1\" class=\"dataframe\">\n",
       "  <thead>\n",
       "    <tr style=\"text-align: right;\">\n",
       "      <th></th>\n",
       "      <th>name</th>\n",
       "      <th>age</th>\n",
       "      <th>gender</th>\n",
       "      <th>job</th>\n",
       "    </tr>\n",
       "  </thead>\n",
       "  <tbody>\n",
       "    <tr>\n",
       "      <th>0</th>\n",
       "      <td>alice</td>\n",
       "      <td>19</td>\n",
       "      <td>F</td>\n",
       "      <td>student</td>\n",
       "    </tr>\n",
       "    <tr>\n",
       "      <th>1</th>\n",
       "      <td>john</td>\n",
       "      <td>26</td>\n",
       "      <td>M</td>\n",
       "      <td>student</td>\n",
       "    </tr>\n",
       "  </tbody>\n",
       "</table>\n",
       "</div>"
      ],
      "text/plain": [
       "    name  age gender      job\n",
       "0  alice   19      F  student\n",
       "1   john   26      M  student"
      ]
     },
     "execution_count": 48,
     "metadata": {},
     "output_type": "execute_result"
    }
   ],
   "source": [
    "columns = ['name', 'age', 'gender', 'job']\n",
    "\n",
    "user1 = pd.DataFrame([['alice', 19, \"F\", \"student\"], ['john', 26, \"M\", \"student\"]],\n",
    "                     columns=columns)\n",
    "user1"
   ]
  },
  {
   "cell_type": "markdown",
   "metadata": {
    "id": "qi1c77PZklGn"
   },
   "source": [
    "### Agregar Columnas\n",
    "1. Agregar una nueva columna con un **valor constante**:"
   ]
  },
  {
   "cell_type": "code",
   "execution_count": 49,
   "metadata": {
    "colab": {
     "base_uri": "https://localhost:8080/",
     "height": 125
    },
    "executionInfo": {
     "elapsed": 59,
     "status": "ok",
     "timestamp": 1723151778811,
     "user": {
      "displayName": "Francisco Javier Navarro Barrón",
      "userId": "10181626055026217558"
     },
     "user_tz": 360
    },
    "id": "DDYUfPEGfIuq",
    "outputId": "0acecbe2-4e98-4703-ec2b-e04781e77017"
   },
   "outputs": [
    {
     "data": {
      "text/html": [
       "<div>\n",
       "<style scoped>\n",
       "    .dataframe tbody tr th:only-of-type {\n",
       "        vertical-align: middle;\n",
       "    }\n",
       "\n",
       "    .dataframe tbody tr th {\n",
       "        vertical-align: top;\n",
       "    }\n",
       "\n",
       "    .dataframe thead th {\n",
       "        text-align: right;\n",
       "    }\n",
       "</style>\n",
       "<table border=\"1\" class=\"dataframe\">\n",
       "  <thead>\n",
       "    <tr style=\"text-align: right;\">\n",
       "      <th></th>\n",
       "      <th>name</th>\n",
       "      <th>age</th>\n",
       "      <th>gender</th>\n",
       "      <th>job</th>\n",
       "      <th>registered</th>\n",
       "    </tr>\n",
       "  </thead>\n",
       "  <tbody>\n",
       "    <tr>\n",
       "      <th>0</th>\n",
       "      <td>alice</td>\n",
       "      <td>19</td>\n",
       "      <td>F</td>\n",
       "      <td>student</td>\n",
       "      <td>True</td>\n",
       "    </tr>\n",
       "    <tr>\n",
       "      <th>1</th>\n",
       "      <td>john</td>\n",
       "      <td>26</td>\n",
       "      <td>M</td>\n",
       "      <td>student</td>\n",
       "      <td>True</td>\n",
       "    </tr>\n",
       "  </tbody>\n",
       "</table>\n",
       "</div>"
      ],
      "text/plain": [
       "    name  age gender      job  registered\n",
       "0  alice   19      F  student        True\n",
       "1   john   26      M  student        True"
      ]
     },
     "execution_count": 49,
     "metadata": {},
     "output_type": "execute_result"
    }
   ],
   "source": [
    "user1['registered'] = True\n",
    "user1"
   ]
  },
  {
   "cell_type": "markdown",
   "metadata": {
    "id": "EdIWcUH4lpMr"
   },
   "source": [
    "2. Agregar una nueva columna basada en otras columnas:"
   ]
  },
  {
   "cell_type": "code",
   "execution_count": 50,
   "metadata": {
    "colab": {
     "base_uri": "https://localhost:8080/",
     "height": 174
    },
    "executionInfo": {
     "elapsed": 58,
     "status": "ok",
     "timestamp": 1723151778811,
     "user": {
      "displayName": "Francisco Javier Navarro Barrón",
      "userId": "10181626055026217558"
     },
     "user_tz": 360
    },
    "id": "6qBfx8_1fZye",
    "outputId": "a0dd2ed5-0d72-4948-ffff-a89356e61175"
   },
   "outputs": [
    {
     "data": {
      "text/html": [
       "<div>\n",
       "<style scoped>\n",
       "    .dataframe tbody tr th:only-of-type {\n",
       "        vertical-align: middle;\n",
       "    }\n",
       "\n",
       "    .dataframe tbody tr th {\n",
       "        vertical-align: top;\n",
       "    }\n",
       "\n",
       "    .dataframe thead th {\n",
       "        text-align: right;\n",
       "    }\n",
       "</style>\n",
       "<table border=\"1\" class=\"dataframe\">\n",
       "  <thead>\n",
       "    <tr style=\"text-align: right;\">\n",
       "      <th></th>\n",
       "      <th>cereal</th>\n",
       "      <th>gramos</th>\n",
       "      <th>costo</th>\n",
       "      <th>ganancia</th>\n",
       "    </tr>\n",
       "  </thead>\n",
       "  <tbody>\n",
       "    <tr>\n",
       "      <th>0</th>\n",
       "      <td>Zucaritas</td>\n",
       "      <td>700</td>\n",
       "      <td>45.3</td>\n",
       "      <td>20</td>\n",
       "    </tr>\n",
       "    <tr>\n",
       "      <th>1</th>\n",
       "      <td>Trix</td>\n",
       "      <td>900</td>\n",
       "      <td>58.6</td>\n",
       "      <td>30</td>\n",
       "    </tr>\n",
       "    <tr>\n",
       "      <th>2</th>\n",
       "      <td>Froot Loops</td>\n",
       "      <td>850</td>\n",
       "      <td>54.1</td>\n",
       "      <td>25</td>\n",
       "    </tr>\n",
       "    <tr>\n",
       "      <th>3</th>\n",
       "      <td>Pop Corn</td>\n",
       "      <td>600</td>\n",
       "      <td>43.2</td>\n",
       "      <td>30</td>\n",
       "    </tr>\n",
       "  </tbody>\n",
       "</table>\n",
       "</div>"
      ],
      "text/plain": [
       "        cereal  gramos  costo  ganancia\n",
       "0    Zucaritas     700   45.3        20\n",
       "1         Trix     900   58.6        30\n",
       "2  Froot Loops     850   54.1        25\n",
       "3     Pop Corn     600   43.2        30"
      ]
     },
     "execution_count": 50,
     "metadata": {},
     "output_type": "execute_result"
    }
   ],
   "source": [
    "# Crear DF usando diccionario (dict)\n",
    "cereales = pd.DataFrame(dict(\n",
    "    cereal=['Zucaritas', 'Trix', 'Froot Loops', 'Pop Corn'],\n",
    "    gramos=[700, 900, 850, 600],\n",
    "    costo=[45.3, 58.6, 54.1, 43.2],\n",
    "    ganancia=[20, 30, 25, 30]\n",
    "))\n",
    "cereales"
   ]
  },
  {
   "cell_type": "code",
   "execution_count": 51,
   "metadata": {
    "colab": {
     "base_uri": "https://localhost:8080/",
     "height": 174
    },
    "executionInfo": {
     "elapsed": 766,
     "status": "ok",
     "timestamp": 1723151779519,
     "user": {
      "displayName": "Francisco Javier Navarro Barrón",
      "userId": "10181626055026217558"
     },
     "user_tz": 360
    },
    "id": "K4VTXUdbgc7h",
    "outputId": "6cbc5c77-ec65-4358-f112-71da2143fec1"
   },
   "outputs": [
    {
     "data": {
      "text/html": [
       "<div>\n",
       "<style scoped>\n",
       "    .dataframe tbody tr th:only-of-type {\n",
       "        vertical-align: middle;\n",
       "    }\n",
       "\n",
       "    .dataframe tbody tr th {\n",
       "        vertical-align: top;\n",
       "    }\n",
       "\n",
       "    .dataframe thead th {\n",
       "        text-align: right;\n",
       "    }\n",
       "</style>\n",
       "<table border=\"1\" class=\"dataframe\">\n",
       "  <thead>\n",
       "    <tr style=\"text-align: right;\">\n",
       "      <th></th>\n",
       "      <th>cereal</th>\n",
       "      <th>gramos</th>\n",
       "      <th>costo</th>\n",
       "      <th>ganancia</th>\n",
       "      <th>precio venta</th>\n",
       "    </tr>\n",
       "  </thead>\n",
       "  <tbody>\n",
       "    <tr>\n",
       "      <th>0</th>\n",
       "      <td>Zucaritas</td>\n",
       "      <td>700</td>\n",
       "      <td>45.3</td>\n",
       "      <td>20</td>\n",
       "      <td>65.3</td>\n",
       "    </tr>\n",
       "    <tr>\n",
       "      <th>1</th>\n",
       "      <td>Trix</td>\n",
       "      <td>900</td>\n",
       "      <td>58.6</td>\n",
       "      <td>30</td>\n",
       "      <td>88.6</td>\n",
       "    </tr>\n",
       "    <tr>\n",
       "      <th>2</th>\n",
       "      <td>Froot Loops</td>\n",
       "      <td>850</td>\n",
       "      <td>54.1</td>\n",
       "      <td>25</td>\n",
       "      <td>79.1</td>\n",
       "    </tr>\n",
       "    <tr>\n",
       "      <th>3</th>\n",
       "      <td>Pop Corn</td>\n",
       "      <td>600</td>\n",
       "      <td>43.2</td>\n",
       "      <td>30</td>\n",
       "      <td>73.2</td>\n",
       "    </tr>\n",
       "  </tbody>\n",
       "</table>\n",
       "</div>"
      ],
      "text/plain": [
       "        cereal  gramos  costo  ganancia  precio venta\n",
       "0    Zucaritas     700   45.3        20          65.3\n",
       "1         Trix     900   58.6        30          88.6\n",
       "2  Froot Loops     850   54.1        25          79.1\n",
       "3     Pop Corn     600   43.2        30          73.2"
      ]
     },
     "execution_count": 51,
     "metadata": {},
     "output_type": "execute_result"
    }
   ],
   "source": [
    "cereales['precio venta'] = cereales['costo'] + cereales['ganancia']\n",
    "cereales"
   ]
  },
  {
   "cell_type": "markdown",
   "metadata": {
    "id": "BO4Fg10Nn8NC"
   },
   "source": [
    "### Borrar Columnas\n",
    "1. Borrar una columna usando `drop`:"
   ]
  },
  {
   "cell_type": "code",
   "execution_count": 52,
   "metadata": {
    "colab": {
     "base_uri": "https://localhost:8080/",
     "height": 174
    },
    "executionInfo": {
     "elapsed": 46,
     "status": "ok",
     "timestamp": 1723151779521,
     "user": {
      "displayName": "Francisco Javier Navarro Barrón",
      "userId": "10181626055026217558"
     },
     "user_tz": 360
    },
    "id": "g1qsye3ig_HJ",
    "outputId": "5562788a-5655-476e-aa45-4622dd906130"
   },
   "outputs": [
    {
     "data": {
      "text/html": [
       "<div>\n",
       "<style scoped>\n",
       "    .dataframe tbody tr th:only-of-type {\n",
       "        vertical-align: middle;\n",
       "    }\n",
       "\n",
       "    .dataframe tbody tr th {\n",
       "        vertical-align: top;\n",
       "    }\n",
       "\n",
       "    .dataframe thead th {\n",
       "        text-align: right;\n",
       "    }\n",
       "</style>\n",
       "<table border=\"1\" class=\"dataframe\">\n",
       "  <thead>\n",
       "    <tr style=\"text-align: right;\">\n",
       "      <th></th>\n",
       "      <th>cereal</th>\n",
       "      <th>gramos</th>\n",
       "      <th>costo</th>\n",
       "      <th>ganancia</th>\n",
       "    </tr>\n",
       "  </thead>\n",
       "  <tbody>\n",
       "    <tr>\n",
       "      <th>0</th>\n",
       "      <td>Zucaritas</td>\n",
       "      <td>700</td>\n",
       "      <td>45.3</td>\n",
       "      <td>20</td>\n",
       "    </tr>\n",
       "    <tr>\n",
       "      <th>1</th>\n",
       "      <td>Trix</td>\n",
       "      <td>900</td>\n",
       "      <td>58.6</td>\n",
       "      <td>30</td>\n",
       "    </tr>\n",
       "    <tr>\n",
       "      <th>2</th>\n",
       "      <td>Froot Loops</td>\n",
       "      <td>850</td>\n",
       "      <td>54.1</td>\n",
       "      <td>25</td>\n",
       "    </tr>\n",
       "    <tr>\n",
       "      <th>3</th>\n",
       "      <td>Pop Corn</td>\n",
       "      <td>600</td>\n",
       "      <td>43.2</td>\n",
       "      <td>30</td>\n",
       "    </tr>\n",
       "  </tbody>\n",
       "</table>\n",
       "</div>"
      ],
      "text/plain": [
       "        cereal  gramos  costo  ganancia\n",
       "0    Zucaritas     700   45.3        20\n",
       "1         Trix     900   58.6        30\n",
       "2  Froot Loops     850   54.1        25\n",
       "3     Pop Corn     600   43.2        30"
      ]
     },
     "execution_count": 52,
     "metadata": {},
     "output_type": "execute_result"
    }
   ],
   "source": [
    "# asi solo devuelve una copia del DF\n",
    "# cereales.drop(columns=['precio venta'])\n",
    "\n",
    "# Si lo asignamos a la misma variable se conservan los cambios\n",
    "cereales = cereales.drop(columns=['precio venta'])\n",
    "cereales"
   ]
  },
  {
   "cell_type": "markdown",
   "metadata": {
    "id": "dXl_3JlQoRhs"
   },
   "source": [
    "2. Borrar una columna \"en su lugar\" con `drop` o `del`:"
   ]
  },
  {
   "cell_type": "code",
   "execution_count": 53,
   "metadata": {
    "id": "vAlDXOG_hsnb"
   },
   "outputs": [],
   "source": [
    "cereales['precio venta'] = cereales['costo'] + cereales['ganancia']\n",
    "del cereales['precio venta']"
   ]
  },
  {
   "cell_type": "code",
   "execution_count": 54,
   "metadata": {
    "colab": {
     "base_uri": "https://localhost:8080/",
     "height": 174
    },
    "executionInfo": {
     "elapsed": 44,
     "status": "ok",
     "timestamp": 1723151779521,
     "user": {
      "displayName": "Francisco Javier Navarro Barrón",
      "userId": "10181626055026217558"
     },
     "user_tz": 360
    },
    "id": "TJXDX6pti4II",
    "outputId": "cc1b0193-4e82-4dca-9670-25f8a4b498ef"
   },
   "outputs": [
    {
     "data": {
      "text/html": [
       "<div>\n",
       "<style scoped>\n",
       "    .dataframe tbody tr th:only-of-type {\n",
       "        vertical-align: middle;\n",
       "    }\n",
       "\n",
       "    .dataframe tbody tr th {\n",
       "        vertical-align: top;\n",
       "    }\n",
       "\n",
       "    .dataframe thead th {\n",
       "        text-align: right;\n",
       "    }\n",
       "</style>\n",
       "<table border=\"1\" class=\"dataframe\">\n",
       "  <thead>\n",
       "    <tr style=\"text-align: right;\">\n",
       "      <th></th>\n",
       "      <th>cereal</th>\n",
       "      <th>gramos</th>\n",
       "      <th>costo</th>\n",
       "      <th>ganancia</th>\n",
       "      <th>precio venta</th>\n",
       "    </tr>\n",
       "  </thead>\n",
       "  <tbody>\n",
       "    <tr>\n",
       "      <th>0</th>\n",
       "      <td>Zucaritas</td>\n",
       "      <td>700</td>\n",
       "      <td>45.3</td>\n",
       "      <td>20</td>\n",
       "      <td>65.3</td>\n",
       "    </tr>\n",
       "    <tr>\n",
       "      <th>1</th>\n",
       "      <td>Trix</td>\n",
       "      <td>900</td>\n",
       "      <td>58.6</td>\n",
       "      <td>30</td>\n",
       "      <td>88.6</td>\n",
       "    </tr>\n",
       "    <tr>\n",
       "      <th>2</th>\n",
       "      <td>Froot Loops</td>\n",
       "      <td>850</td>\n",
       "      <td>54.1</td>\n",
       "      <td>25</td>\n",
       "      <td>79.1</td>\n",
       "    </tr>\n",
       "    <tr>\n",
       "      <th>3</th>\n",
       "      <td>Pop Corn</td>\n",
       "      <td>600</td>\n",
       "      <td>43.2</td>\n",
       "      <td>30</td>\n",
       "      <td>73.2</td>\n",
       "    </tr>\n",
       "  </tbody>\n",
       "</table>\n",
       "</div>"
      ],
      "text/plain": [
       "        cereal  gramos  costo  ganancia  precio venta\n",
       "0    Zucaritas     700   45.3        20          65.3\n",
       "1         Trix     900   58.6        30          88.6\n",
       "2  Froot Loops     850   54.1        25          79.1\n",
       "3     Pop Corn     600   43.2        30          73.2"
      ]
     },
     "execution_count": 54,
     "metadata": {},
     "output_type": "execute_result"
    }
   ],
   "source": [
    "# Vuelvo a crear columna para ejemplificar borrado con drop inplace\n",
    "cereales['precio venta'] = cereales['costo'] + cereales['ganancia']\n",
    "cereales"
   ]
  },
  {
   "cell_type": "code",
   "execution_count": 55,
   "metadata": {
    "colab": {
     "base_uri": "https://localhost:8080/",
     "height": 174
    },
    "executionInfo": {
     "elapsed": 43,
     "status": "ok",
     "timestamp": 1723151779521,
     "user": {
      "displayName": "Francisco Javier Navarro Barrón",
      "userId": "10181626055026217558"
     },
     "user_tz": 360
    },
    "id": "3bNRE1DViDCA",
    "outputId": "2a4f0435-6f14-496c-b221-6b613237551b"
   },
   "outputs": [
    {
     "data": {
      "text/html": [
       "<div>\n",
       "<style scoped>\n",
       "    .dataframe tbody tr th:only-of-type {\n",
       "        vertical-align: middle;\n",
       "    }\n",
       "\n",
       "    .dataframe tbody tr th {\n",
       "        vertical-align: top;\n",
       "    }\n",
       "\n",
       "    .dataframe thead th {\n",
       "        text-align: right;\n",
       "    }\n",
       "</style>\n",
       "<table border=\"1\" class=\"dataframe\">\n",
       "  <thead>\n",
       "    <tr style=\"text-align: right;\">\n",
       "      <th></th>\n",
       "      <th>cereal</th>\n",
       "      <th>gramos</th>\n",
       "      <th>costo</th>\n",
       "      <th>ganancia</th>\n",
       "      <th>impuesto</th>\n",
       "      <th>precio venta</th>\n",
       "    </tr>\n",
       "  </thead>\n",
       "  <tbody>\n",
       "    <tr>\n",
       "      <th>0</th>\n",
       "      <td>Zucaritas</td>\n",
       "      <td>700</td>\n",
       "      <td>45.3</td>\n",
       "      <td>13.59</td>\n",
       "      <td>9.4224</td>\n",
       "      <td>68.3124</td>\n",
       "    </tr>\n",
       "    <tr>\n",
       "      <th>1</th>\n",
       "      <td>Trix</td>\n",
       "      <td>900</td>\n",
       "      <td>58.6</td>\n",
       "      <td>17.58</td>\n",
       "      <td>12.1888</td>\n",
       "      <td>88.3688</td>\n",
       "    </tr>\n",
       "    <tr>\n",
       "      <th>2</th>\n",
       "      <td>Froot Loops</td>\n",
       "      <td>850</td>\n",
       "      <td>54.1</td>\n",
       "      <td>16.23</td>\n",
       "      <td>11.2528</td>\n",
       "      <td>81.5828</td>\n",
       "    </tr>\n",
       "    <tr>\n",
       "      <th>3</th>\n",
       "      <td>Pop Corn</td>\n",
       "      <td>600</td>\n",
       "      <td>43.2</td>\n",
       "      <td>12.96</td>\n",
       "      <td>8.9856</td>\n",
       "      <td>65.1456</td>\n",
       "    </tr>\n",
       "  </tbody>\n",
       "</table>\n",
       "</div>"
      ],
      "text/plain": [
       "        cereal  gramos  costo  ganancia  impuesto  precio venta\n",
       "0    Zucaritas     700   45.3     13.59    9.4224       68.3124\n",
       "1         Trix     900   58.6     17.58   12.1888       88.3688\n",
       "2  Froot Loops     850   54.1     16.23   11.2528       81.5828\n",
       "3     Pop Corn     600   43.2     12.96    8.9856       65.1456"
      ]
     },
     "execution_count": 55,
     "metadata": {},
     "output_type": "execute_result"
    }
   ],
   "source": [
    "# Vamos a crear 2 columnas\n",
    "cereales.drop(columns=['precio venta'], inplace=True) # Recommended\n",
    "# Consideramos un impuesto del 16%\n",
    "# Y una ganancia de 30%\n",
    "cereales['ganancia'] = cereales['costo'] * 0.3\n",
    "cereales['impuesto'] = (cereales['costo'] + cereales['ganancia']) * 0.16\n",
    "\n",
    "cereales['precio venta'] = cereales['costo'] + cereales['ganancia'] + cereales['impuesto']\n",
    "cereales"
   ]
  },
  {
   "cell_type": "markdown",
   "metadata": {
    "id": "KGZU6-MP8rw6"
   },
   "source": [
    "# Otras formas de crear Dataframes\n",
    "1. Directamente usando las *listas* que contienen la información"
   ]
  },
  {
   "cell_type": "code",
   "execution_count": 56,
   "metadata": {
    "colab": {
     "base_uri": "https://localhost:8080/",
     "height": 125
    },
    "executionInfo": {
     "elapsed": 43,
     "status": "ok",
     "timestamp": 1723151779522,
     "user": {
      "displayName": "Francisco Javier Navarro Barrón",
      "userId": "10181626055026217558"
     },
     "user_tz": 360
    },
    "id": "DKlnpOdd9wxy",
    "outputId": "f4b172a2-2eec-41e1-9024-98be7440a47d"
   },
   "outputs": [
    {
     "data": {
      "text/html": [
       "<div>\n",
       "<style scoped>\n",
       "    .dataframe tbody tr th:only-of-type {\n",
       "        vertical-align: middle;\n",
       "    }\n",
       "\n",
       "    .dataframe tbody tr th {\n",
       "        vertical-align: top;\n",
       "    }\n",
       "\n",
       "    .dataframe thead th {\n",
       "        text-align: right;\n",
       "    }\n",
       "</style>\n",
       "<table border=\"1\" class=\"dataframe\">\n",
       "  <thead>\n",
       "    <tr style=\"text-align: right;\">\n",
       "      <th></th>\n",
       "      <th>name</th>\n",
       "      <th>age</th>\n",
       "      <th>gender</th>\n",
       "      <th>job</th>\n",
       "    </tr>\n",
       "  </thead>\n",
       "  <tbody>\n",
       "    <tr>\n",
       "      <th>0</th>\n",
       "      <td>alice</td>\n",
       "      <td>19</td>\n",
       "      <td>F</td>\n",
       "      <td>student</td>\n",
       "    </tr>\n",
       "    <tr>\n",
       "      <th>1</th>\n",
       "      <td>john</td>\n",
       "      <td>26</td>\n",
       "      <td>M</td>\n",
       "      <td>student</td>\n",
       "    </tr>\n",
       "  </tbody>\n",
       "</table>\n",
       "</div>"
      ],
      "text/plain": [
       "    name  age gender      job\n",
       "0  alice   19      F  student\n",
       "1   john   26      M  student"
      ]
     },
     "execution_count": 56,
     "metadata": {},
     "output_type": "execute_result"
    }
   ],
   "source": [
    "columns = ['name', 'age', 'gender', 'job']\n",
    "# Creamos registros fila por fila con listas\n",
    "user1 = pd.DataFrame([['alice', 19, \"F\", \"student\"], ['john', 26, \"M\", \"student\"]],\n",
    "                     columns=columns)\n",
    "user1"
   ]
  },
  {
   "cell_type": "markdown",
   "metadata": {
    "id": "d1DKeTku9CqP"
   },
   "source": [
    "2. Directamente a partir de un *diccionario*"
   ]
  },
  {
   "cell_type": "code",
   "execution_count": 57,
   "metadata": {
    "colab": {
     "base_uri": "https://localhost:8080/",
     "height": 125
    },
    "executionInfo": {
     "elapsed": 43,
     "status": "ok",
     "timestamp": 1723151779522,
     "user": {
      "displayName": "Francisco Javier Navarro Barrón",
      "userId": "10181626055026217558"
     },
     "user_tz": 360
    },
    "id": "Us1icqQ99xRw",
    "outputId": "5bc081b7-c6a3-40c7-c9c5-811a54be7268"
   },
   "outputs": [
    {
     "data": {
      "text/html": [
       "<div>\n",
       "<style scoped>\n",
       "    .dataframe tbody tr th:only-of-type {\n",
       "        vertical-align: middle;\n",
       "    }\n",
       "\n",
       "    .dataframe tbody tr th {\n",
       "        vertical-align: top;\n",
       "    }\n",
       "\n",
       "    .dataframe thead th {\n",
       "        text-align: right;\n",
       "    }\n",
       "</style>\n",
       "<table border=\"1\" class=\"dataframe\">\n",
       "  <thead>\n",
       "    <tr style=\"text-align: right;\">\n",
       "      <th></th>\n",
       "      <th>name</th>\n",
       "      <th>age</th>\n",
       "      <th>gender</th>\n",
       "      <th>job</th>\n",
       "    </tr>\n",
       "  </thead>\n",
       "  <tbody>\n",
       "    <tr>\n",
       "      <th>0</th>\n",
       "      <td>peter</td>\n",
       "      <td>33</td>\n",
       "      <td>M</td>\n",
       "      <td>engineer</td>\n",
       "    </tr>\n",
       "    <tr>\n",
       "      <th>1</th>\n",
       "      <td>julie</td>\n",
       "      <td>44</td>\n",
       "      <td>F</td>\n",
       "      <td>scientist</td>\n",
       "    </tr>\n",
       "  </tbody>\n",
       "</table>\n",
       "</div>"
      ],
      "text/plain": [
       "    name  age gender        job\n",
       "0  peter   33      M   engineer\n",
       "1  julie   44      F  scientist"
      ]
     },
     "execution_count": 57,
     "metadata": {},
     "output_type": "execute_result"
    }
   ],
   "source": [
    "user2 = pd.DataFrame(dict(name=['peter', 'julie'],\n",
    "                          age=[33, 44],\n",
    "                          gender=['M', 'F'],\n",
    "                          job=['engineer', 'scientist']))\n",
    "user2"
   ]
  },
  {
   "cell_type": "markdown",
   "metadata": {
    "id": "aYCWmnDb9P_X"
   },
   "source": [
    "## Examinar Dataframes\n",
    "Para examinar un DataFrame en pandas, puedes usar varias funciones y métodos que te permiten obtener información sobre su estructura, contenido y estadísticas."
   ]
  },
  {
   "cell_type": "code",
   "execution_count": 58,
   "metadata": {
    "colab": {
     "base_uri": "https://localhost:8080/"
    },
    "executionInfo": {
     "elapsed": 42,
     "status": "ok",
     "timestamp": 1723151779522,
     "user": {
      "displayName": "Francisco Javier Navarro Barrón",
      "userId": "10181626055026217558"
     },
     "user_tz": 360
    },
    "id": "u_KPI0R2-Ni6",
    "outputId": "4c9e086f-cc23-49f1-cc3d-d15facb275ee"
   },
   "outputs": [
    {
     "name": "stdout",
     "output_type": "stream",
     "text": [
      "   apples  oranges\n",
      "0       3        0\n",
      "1       2        3\n",
      "2       0        7\n",
      "3       1        2\n"
     ]
    }
   ],
   "source": [
    "print(df) # show the first 30 and last 30 rows"
   ]
  },
  {
   "cell_type": "code",
   "execution_count": 59,
   "metadata": {
    "colab": {
     "base_uri": "https://localhost:8080/",
     "height": 203
    },
    "executionInfo": {
     "elapsed": 807,
     "status": "ok",
     "timestamp": 1723151780294,
     "user": {
      "displayName": "Francisco Javier Navarro Barrón",
      "userId": "10181626055026217558"
     },
     "user_tz": 360
    },
    "id": "eOUuPpbJk8im",
    "outputId": "ba511c6a-9214-4444-d758-f850ceed789b"
   },
   "outputs": [
    {
     "data": {
      "text/plain": [
       "pandas.core.frame.DataFrame"
      ]
     },
     "execution_count": 59,
     "metadata": {},
     "output_type": "execute_result"
    }
   ],
   "source": [
    "type(df) # DataFrame"
   ]
  },
  {
   "cell_type": "code",
   "execution_count": 60,
   "metadata": {
    "colab": {
     "base_uri": "https://localhost:8080/",
     "height": 174
    },
    "executionInfo": {
     "elapsed": 116,
     "status": "ok",
     "timestamp": 1723151780294,
     "user": {
      "displayName": "Francisco Javier Navarro Barrón",
      "userId": "10181626055026217558"
     },
     "user_tz": 360
    },
    "id": "pcSWcLrplAI5",
    "outputId": "68701afc-e0c9-41a1-bff6-670865fce174"
   },
   "outputs": [
    {
     "data": {
      "text/html": [
       "<div>\n",
       "<style scoped>\n",
       "    .dataframe tbody tr th:only-of-type {\n",
       "        vertical-align: middle;\n",
       "    }\n",
       "\n",
       "    .dataframe tbody tr th {\n",
       "        vertical-align: top;\n",
       "    }\n",
       "\n",
       "    .dataframe thead th {\n",
       "        text-align: right;\n",
       "    }\n",
       "</style>\n",
       "<table border=\"1\" class=\"dataframe\">\n",
       "  <thead>\n",
       "    <tr style=\"text-align: right;\">\n",
       "      <th></th>\n",
       "      <th>apples</th>\n",
       "      <th>oranges</th>\n",
       "    </tr>\n",
       "  </thead>\n",
       "  <tbody>\n",
       "    <tr>\n",
       "      <th>0</th>\n",
       "      <td>3</td>\n",
       "      <td>0</td>\n",
       "    </tr>\n",
       "    <tr>\n",
       "      <th>1</th>\n",
       "      <td>2</td>\n",
       "      <td>3</td>\n",
       "    </tr>\n",
       "    <tr>\n",
       "      <th>2</th>\n",
       "      <td>0</td>\n",
       "      <td>7</td>\n",
       "    </tr>\n",
       "    <tr>\n",
       "      <th>3</th>\n",
       "      <td>1</td>\n",
       "      <td>2</td>\n",
       "    </tr>\n",
       "  </tbody>\n",
       "</table>\n",
       "</div>"
      ],
      "text/plain": [
       "   apples  oranges\n",
       "0       3        0\n",
       "1       2        3\n",
       "2       0        7\n",
       "3       1        2"
      ]
     },
     "execution_count": 60,
     "metadata": {},
     "output_type": "execute_result"
    }
   ],
   "source": [
    "df.head() # print the first 5 rows"
   ]
  },
  {
   "cell_type": "code",
   "execution_count": 61,
   "metadata": {
    "colab": {
     "base_uri": "https://localhost:8080/",
     "height": 174
    },
    "executionInfo": {
     "elapsed": 115,
     "status": "ok",
     "timestamp": 1723151780294,
     "user": {
      "displayName": "Francisco Javier Navarro Barrón",
      "userId": "10181626055026217558"
     },
     "user_tz": 360
    },
    "id": "mtx6EVBhlCwD",
    "outputId": "fef6ed8d-0f04-4910-f55c-f1b79e484c1a"
   },
   "outputs": [
    {
     "data": {
      "text/html": [
       "<div>\n",
       "<style scoped>\n",
       "    .dataframe tbody tr th:only-of-type {\n",
       "        vertical-align: middle;\n",
       "    }\n",
       "\n",
       "    .dataframe tbody tr th {\n",
       "        vertical-align: top;\n",
       "    }\n",
       "\n",
       "    .dataframe thead th {\n",
       "        text-align: right;\n",
       "    }\n",
       "</style>\n",
       "<table border=\"1\" class=\"dataframe\">\n",
       "  <thead>\n",
       "    <tr style=\"text-align: right;\">\n",
       "      <th></th>\n",
       "      <th>apples</th>\n",
       "      <th>oranges</th>\n",
       "    </tr>\n",
       "  </thead>\n",
       "  <tbody>\n",
       "    <tr>\n",
       "      <th>0</th>\n",
       "      <td>3</td>\n",
       "      <td>0</td>\n",
       "    </tr>\n",
       "    <tr>\n",
       "      <th>1</th>\n",
       "      <td>2</td>\n",
       "      <td>3</td>\n",
       "    </tr>\n",
       "    <tr>\n",
       "      <th>2</th>\n",
       "      <td>0</td>\n",
       "      <td>7</td>\n",
       "    </tr>\n",
       "    <tr>\n",
       "      <th>3</th>\n",
       "      <td>1</td>\n",
       "      <td>2</td>\n",
       "    </tr>\n",
       "  </tbody>\n",
       "</table>\n",
       "</div>"
      ],
      "text/plain": [
       "   apples  oranges\n",
       "0       3        0\n",
       "1       2        3\n",
       "2       0        7\n",
       "3       1        2"
      ]
     },
     "execution_count": 61,
     "metadata": {},
     "output_type": "execute_result"
    }
   ],
   "source": [
    "df.tail() # print the last 5 rows"
   ]
  },
  {
   "cell_type": "code",
   "execution_count": 62,
   "metadata": {
    "colab": {
     "base_uri": "https://localhost:8080/"
    },
    "executionInfo": {
     "elapsed": 115,
     "status": "ok",
     "timestamp": 1723151780294,
     "user": {
      "displayName": "Francisco Javier Navarro Barrón",
      "userId": "10181626055026217558"
     },
     "user_tz": 360
    },
    "id": "SqUVOh9SlKl1",
    "outputId": "5f429ae3-64a1-40eb-cc54-85496fa79740"
   },
   "outputs": [
    {
     "data": {
      "text/plain": [
       "RangeIndex(start=0, stop=4, step=1)"
      ]
     },
     "execution_count": 62,
     "metadata": {},
     "output_type": "execute_result"
    }
   ],
   "source": [
    "df.index # \"the index\" (aka \"the labels\")"
   ]
  },
  {
   "cell_type": "code",
   "execution_count": 63,
   "metadata": {
    "colab": {
     "base_uri": "https://localhost:8080/"
    },
    "executionInfo": {
     "elapsed": 108,
     "status": "ok",
     "timestamp": 1723151780294,
     "user": {
      "displayName": "Francisco Javier Navarro Barrón",
      "userId": "10181626055026217558"
     },
     "user_tz": 360
    },
    "id": "Q3kdZySTlM8f",
    "outputId": "925b467e-786a-4083-f649-f26afb62d4bc"
   },
   "outputs": [
    {
     "data": {
      "text/plain": [
       "Index(['apples', 'oranges'], dtype='object')"
      ]
     },
     "execution_count": 63,
     "metadata": {},
     "output_type": "execute_result"
    }
   ],
   "source": [
    "df.columns # column names (which is \"an index\")"
   ]
  },
  {
   "cell_type": "code",
   "execution_count": 64,
   "metadata": {
    "colab": {
     "base_uri": "https://localhost:8080/",
     "height": 146
    },
    "executionInfo": {
     "elapsed": 105,
     "status": "ok",
     "timestamp": 1723151780294,
     "user": {
      "displayName": "Francisco Javier Navarro Barrón",
      "userId": "10181626055026217558"
     },
     "user_tz": 360
    },
    "id": "WLmrWjfXlPZt",
    "outputId": "b9695f1f-d8e9-4573-bb7f-0bfb46a40927"
   },
   "outputs": [
    {
     "data": {
      "text/plain": [
       "apples     int64\n",
       "oranges    int64\n",
       "dtype: object"
      ]
     },
     "execution_count": 64,
     "metadata": {},
     "output_type": "execute_result"
    }
   ],
   "source": [
    "df.dtypes # data types of each column"
   ]
  },
  {
   "cell_type": "code",
   "execution_count": 65,
   "metadata": {
    "colab": {
     "base_uri": "https://localhost:8080/"
    },
    "executionInfo": {
     "elapsed": 104,
     "status": "ok",
     "timestamp": 1723151780294,
     "user": {
      "displayName": "Francisco Javier Navarro Barrón",
      "userId": "10181626055026217558"
     },
     "user_tz": 360
    },
    "id": "Y-XoVjaYlUXx",
    "outputId": "226e0d81-484e-442d-d3c9-26a416f00432"
   },
   "outputs": [
    {
     "data": {
      "text/plain": [
       "(4, 2)"
      ]
     },
     "execution_count": 65,
     "metadata": {},
     "output_type": "execute_result"
    }
   ],
   "source": [
    "df.shape # number of rows and columns"
   ]
  },
  {
   "cell_type": "code",
   "execution_count": 66,
   "metadata": {
    "colab": {
     "base_uri": "https://localhost:8080/"
    },
    "executionInfo": {
     "elapsed": 102,
     "status": "ok",
     "timestamp": 1723151780294,
     "user": {
      "displayName": "Francisco Javier Navarro Barrón",
      "userId": "10181626055026217558"
     },
     "user_tz": 360
    },
    "id": "QQOahRUWlX4o",
    "outputId": "28c864d6-3fbe-4cd2-e7f7-d8c9559be707"
   },
   "outputs": [
    {
     "data": {
      "text/plain": [
       "array([[3, 0],\n",
       "       [2, 3],\n",
       "       [0, 7],\n",
       "       [1, 2]], dtype=int64)"
      ]
     },
     "execution_count": 66,
     "metadata": {},
     "output_type": "execute_result"
    }
   ],
   "source": [
    "df.values # underlying numpy array"
   ]
  },
  {
   "cell_type": "code",
   "execution_count": 67,
   "metadata": {
    "colab": {
     "base_uri": "https://localhost:8080/"
    },
    "executionInfo": {
     "elapsed": 100,
     "status": "ok",
     "timestamp": 1723151780294,
     "user": {
      "displayName": "Francisco Javier Navarro Barrón",
      "userId": "10181626055026217558"
     },
     "user_tz": 360
    },
    "id": "hcrKQD_Ilboa",
    "outputId": "4b15c092-0336-44a5-9be6-f79cf56ca867"
   },
   "outputs": [
    {
     "name": "stdout",
     "output_type": "stream",
     "text": [
      "<class 'pandas.core.frame.DataFrame'>\n",
      "RangeIndex: 4 entries, 0 to 3\n",
      "Data columns (total 2 columns):\n",
      " #   Column   Non-Null Count  Dtype\n",
      "---  ------   --------------  -----\n",
      " 0   apples   4 non-null      int64\n",
      " 1   oranges  4 non-null      int64\n",
      "dtypes: int64(2)\n",
      "memory usage: 196.0 bytes\n"
     ]
    }
   ],
   "source": [
    "df.info() # concise summary (includes memory usage)"
   ]
  },
  {
   "cell_type": "markdown",
   "metadata": {
    "id": "LFS0-2OW-BxQ"
   },
   "source": [
    "## Seleccionando un Data Frame\n",
    "Para seleccionar datos de un DataFrame en pandas, puedes utilizar diferentes métodos y técnicas."
   ]
  },
  {
   "cell_type": "code",
   "execution_count": 68,
   "metadata": {
    "colab": {
     "base_uri": "https://localhost:8080/",
     "height": 209
    },
    "executionInfo": {
     "elapsed": 98,
     "status": "ok",
     "timestamp": 1723151780294,
     "user": {
      "displayName": "Francisco Javier Navarro Barrón",
      "userId": "10181626055026217558"
     },
     "user_tz": 360
    },
    "id": "bgD9ypvdmZ97",
    "outputId": "e3e040a8-7050-49ce-e70c-a0dd9d62cd74"
   },
   "outputs": [
    {
     "data": {
      "text/plain": [
       "0    45.3\n",
       "1    58.6\n",
       "2    54.1\n",
       "3    43.2\n",
       "Name: costo, dtype: float64"
      ]
     },
     "execution_count": 68,
     "metadata": {},
     "output_type": "execute_result"
    }
   ],
   "source": [
    "cereales.costo # punto -> nombre de la columna"
   ]
  },
  {
   "cell_type": "code",
   "execution_count": 69,
   "metadata": {
    "colab": {
     "base_uri": "https://localhost:8080/",
     "height": 209
    },
    "executionInfo": {
     "elapsed": 99,
     "status": "ok",
     "timestamp": 1723151780295,
     "user": {
      "displayName": "Francisco Javier Navarro Barrón",
      "userId": "10181626055026217558"
     },
     "user_tz": 360
    },
    "id": "cbAIhKoiml3-",
    "outputId": "ef63672e-4a31-4144-9323-db5982d2e403"
   },
   "outputs": [
    {
     "data": {
      "text/plain": [
       "0    45.3\n",
       "1    58.6\n",
       "2    54.1\n",
       "3    43.2\n",
       "Name: costo, dtype: float64"
      ]
     },
     "execution_count": 69,
     "metadata": {},
     "output_type": "execute_result"
    }
   ],
   "source": [
    "cereales['costo'] # útil cuando el nombre de la columna tiene espacios"
   ]
  },
  {
   "cell_type": "code",
   "execution_count": 70,
   "metadata": {
    "colab": {
     "base_uri": "https://localhost:8080/",
     "height": 209
    },
    "executionInfo": {
     "elapsed": 98,
     "status": "ok",
     "timestamp": 1723151780295,
     "user": {
      "displayName": "Francisco Javier Navarro Barrón",
      "userId": "10181626055026217558"
     },
     "user_tz": 360
    },
    "id": "7TF_9bK7mtPQ",
    "outputId": "acc8e4f1-fef7-4391-a4e8-25e2ced3f073"
   },
   "outputs": [
    {
     "data": {
      "text/plain": [
       "0    68.3124\n",
       "1    88.3688\n",
       "2    81.5828\n",
       "3    65.1456\n",
       "Name: precio venta, dtype: float64"
      ]
     },
     "execution_count": 70,
     "metadata": {},
     "output_type": "execute_result"
    }
   ],
   "source": [
    "cereales['precio venta']"
   ]
  },
  {
   "cell_type": "code",
   "execution_count": 71,
   "metadata": {
    "colab": {
     "base_uri": "https://localhost:8080/",
     "height": 174
    },
    "executionInfo": {
     "elapsed": 97,
     "status": "ok",
     "timestamp": 1723151780295,
     "user": {
      "displayName": "Francisco Javier Navarro Barrón",
      "userId": "10181626055026217558"
     },
     "user_tz": 360
    },
    "id": "yPOlUt1dnBfG",
    "outputId": "42eb8860-1e91-4745-98da-05d0d5609629"
   },
   "outputs": [
    {
     "data": {
      "text/html": [
       "<div>\n",
       "<style scoped>\n",
       "    .dataframe tbody tr th:only-of-type {\n",
       "        vertical-align: middle;\n",
       "    }\n",
       "\n",
       "    .dataframe tbody tr th {\n",
       "        vertical-align: top;\n",
       "    }\n",
       "\n",
       "    .dataframe thead th {\n",
       "        text-align: right;\n",
       "    }\n",
       "</style>\n",
       "<table border=\"1\" class=\"dataframe\">\n",
       "  <thead>\n",
       "    <tr style=\"text-align: right;\">\n",
       "      <th></th>\n",
       "      <th>precio venta</th>\n",
       "      <th>costo</th>\n",
       "    </tr>\n",
       "  </thead>\n",
       "  <tbody>\n",
       "    <tr>\n",
       "      <th>0</th>\n",
       "      <td>68.3124</td>\n",
       "      <td>45.3</td>\n",
       "    </tr>\n",
       "    <tr>\n",
       "      <th>1</th>\n",
       "      <td>88.3688</td>\n",
       "      <td>58.6</td>\n",
       "    </tr>\n",
       "    <tr>\n",
       "      <th>2</th>\n",
       "      <td>81.5828</td>\n",
       "      <td>54.1</td>\n",
       "    </tr>\n",
       "    <tr>\n",
       "      <th>3</th>\n",
       "      <td>65.1456</td>\n",
       "      <td>43.2</td>\n",
       "    </tr>\n",
       "  </tbody>\n",
       "</table>\n",
       "</div>"
      ],
      "text/plain": [
       "   precio venta  costo\n",
       "0       68.3124   45.3\n",
       "1       88.3688   58.6\n",
       "2       81.5828   54.1\n",
       "3       65.1456   43.2"
      ]
     },
     "execution_count": 71,
     "metadata": {},
     "output_type": "execute_result"
    }
   ],
   "source": [
    "# selecciono mas de una columna\n",
    "cereales[['precio venta', 'costo']] # usar doble corchete"
   ]
  },
  {
   "cell_type": "code",
   "execution_count": 72,
   "metadata": {
    "colab": {
     "base_uri": "https://localhost:8080/",
     "height": 174
    },
    "executionInfo": {
     "elapsed": 96,
     "status": "ok",
     "timestamp": 1723151780295,
     "user": {
      "displayName": "Francisco Javier Navarro Barrón",
      "userId": "10181626055026217558"
     },
     "user_tz": 360
    },
    "id": "q2l1bDITnY1R",
    "outputId": "8bdb79a0-afd0-4204-e0c8-fa251a4284b3"
   },
   "outputs": [
    {
     "data": {
      "text/html": [
       "<div>\n",
       "<style scoped>\n",
       "    .dataframe tbody tr th:only-of-type {\n",
       "        vertical-align: middle;\n",
       "    }\n",
       "\n",
       "    .dataframe tbody tr th {\n",
       "        vertical-align: top;\n",
       "    }\n",
       "\n",
       "    .dataframe thead th {\n",
       "        text-align: right;\n",
       "    }\n",
       "</style>\n",
       "<table border=\"1\" class=\"dataframe\">\n",
       "  <thead>\n",
       "    <tr style=\"text-align: right;\">\n",
       "      <th></th>\n",
       "      <th>precio venta</th>\n",
       "      <th>costo</th>\n",
       "    </tr>\n",
       "  </thead>\n",
       "  <tbody>\n",
       "    <tr>\n",
       "      <th>0</th>\n",
       "      <td>68.3124</td>\n",
       "      <td>45.3</td>\n",
       "    </tr>\n",
       "    <tr>\n",
       "      <th>1</th>\n",
       "      <td>88.3688</td>\n",
       "      <td>58.6</td>\n",
       "    </tr>\n",
       "    <tr>\n",
       "      <th>2</th>\n",
       "      <td>81.5828</td>\n",
       "      <td>54.1</td>\n",
       "    </tr>\n",
       "    <tr>\n",
       "      <th>3</th>\n",
       "      <td>65.1456</td>\n",
       "      <td>43.2</td>\n",
       "    </tr>\n",
       "  </tbody>\n",
       "</table>\n",
       "</div>"
      ],
      "text/plain": [
       "   precio venta  costo\n",
       "0       68.3124   45.3\n",
       "1       88.3688   58.6\n",
       "2       81.5828   54.1\n",
       "3       65.1456   43.2"
      ]
     },
     "execution_count": 72,
     "metadata": {},
     "output_type": "execute_result"
    }
   ],
   "source": [
    "columnas_favoritas = ['precio venta', 'costo'] # lista con columnas favoritas\n",
    "cereales[columnas_favoritas]"
   ]
  },
  {
   "cell_type": "code",
   "execution_count": 73,
   "metadata": {
    "colab": {
     "base_uri": "https://localhost:8080/",
     "height": 174
    },
    "executionInfo": {
     "elapsed": 93,
     "status": "ok",
     "timestamp": 1723151780295,
     "user": {
      "displayName": "Francisco Javier Navarro Barrón",
      "userId": "10181626055026217558"
     },
     "user_tz": 360
    },
    "id": "rehF1iVun9tf",
    "outputId": "03d09fc7-475d-4f44-9516-ca688bb69ce8"
   },
   "outputs": [
    {
     "data": {
      "text/html": [
       "<div>\n",
       "<style scoped>\n",
       "    .dataframe tbody tr th:only-of-type {\n",
       "        vertical-align: middle;\n",
       "    }\n",
       "\n",
       "    .dataframe tbody tr th {\n",
       "        vertical-align: top;\n",
       "    }\n",
       "\n",
       "    .dataframe thead th {\n",
       "        text-align: right;\n",
       "    }\n",
       "</style>\n",
       "<table border=\"1\" class=\"dataframe\">\n",
       "  <thead>\n",
       "    <tr style=\"text-align: right;\">\n",
       "      <th></th>\n",
       "      <th>apples</th>\n",
       "      <th>oranges</th>\n",
       "    </tr>\n",
       "  </thead>\n",
       "  <tbody>\n",
       "    <tr>\n",
       "      <th>0</th>\n",
       "      <td>3</td>\n",
       "      <td>0</td>\n",
       "    </tr>\n",
       "    <tr>\n",
       "      <th>1</th>\n",
       "      <td>2</td>\n",
       "      <td>3</td>\n",
       "    </tr>\n",
       "    <tr>\n",
       "      <th>2</th>\n",
       "      <td>0</td>\n",
       "      <td>7</td>\n",
       "    </tr>\n",
       "    <tr>\n",
       "      <th>3</th>\n",
       "      <td>1</td>\n",
       "      <td>2</td>\n",
       "    </tr>\n",
       "  </tbody>\n",
       "</table>\n",
       "</div>"
      ],
      "text/plain": [
       "   apples  oranges\n",
       "0       3        0\n",
       "1       2        3\n",
       "2       0        7\n",
       "3       1        2"
      ]
     },
     "execution_count": 73,
     "metadata": {},
     "output_type": "execute_result"
    }
   ],
   "source": [
    "df"
   ]
  },
  {
   "cell_type": "markdown",
   "metadata": {
    "id": "hWRzJNxG2ZrE"
   },
   "source": [
    "Selección de filas con el indexador `iloc`.\n",
    "Este puede ser usado de forma versatil para seleccionar y escribir filas ó registros específicos.\n",
    "\n"
   ]
  },
  {
   "cell_type": "code",
   "execution_count": 74,
   "metadata": {
    "colab": {
     "base_uri": "https://localhost:8080/",
     "height": 146
    },
    "executionInfo": {
     "elapsed": 92,
     "status": "ok",
     "timestamp": 1723151780295,
     "user": {
      "displayName": "Francisco Javier Navarro Barrón",
      "userId": "10181626055026217558"
     },
     "user_tz": 360
    },
    "id": "PB0gDtADnv8Q",
    "outputId": "5c62a59a-c5fc-447a-87ad-b90f67440a70"
   },
   "outputs": [
    {
     "data": {
      "text/plain": [
       "apples     3\n",
       "oranges    0\n",
       "Name: 0, dtype: int64"
      ]
     },
     "execution_count": 74,
     "metadata": {},
     "output_type": "execute_result"
    }
   ],
   "source": [
    "# Seleccion de filas\n",
    "df.iloc[0] # first row"
   ]
  },
  {
   "cell_type": "code",
   "execution_count": 75,
   "metadata": {
    "colab": {
     "base_uri": "https://localhost:8080/"
    },
    "executionInfo": {
     "elapsed": 92,
     "status": "ok",
     "timestamp": 1723151780295,
     "user": {
      "displayName": "Francisco Javier Navarro Barrón",
      "userId": "10181626055026217558"
     },
     "user_tz": 360
    },
    "id": "b7lP40UEoGOi",
    "outputId": "854231c0-12b0-4927-9f1d-517bc8c8521f"
   },
   "outputs": [
    {
     "data": {
      "text/plain": [
       "3"
      ]
     },
     "execution_count": 75,
     "metadata": {},
     "output_type": "execute_result"
    }
   ],
   "source": [
    "# Selección de elementos específicos\n",
    "df.iloc[0, 0] # fila 0, columna 0"
   ]
  },
  {
   "cell_type": "code",
   "execution_count": 76,
   "metadata": {
    "colab": {
     "base_uri": "https://localhost:8080/",
     "height": 174
    },
    "executionInfo": {
     "elapsed": 88,
     "status": "ok",
     "timestamp": 1723151780295,
     "user": {
      "displayName": "Francisco Javier Navarro Barrón",
      "userId": "10181626055026217558"
     },
     "user_tz": 360
    },
    "id": "2SLz8ocroVza",
    "outputId": "3619eaa9-9f0e-4fae-c19b-f6bbd5d71867"
   },
   "outputs": [
    {
     "data": {
      "text/html": [
       "<div>\n",
       "<style scoped>\n",
       "    .dataframe tbody tr th:only-of-type {\n",
       "        vertical-align: middle;\n",
       "    }\n",
       "\n",
       "    .dataframe tbody tr th {\n",
       "        vertical-align: top;\n",
       "    }\n",
       "\n",
       "    .dataframe thead th {\n",
       "        text-align: right;\n",
       "    }\n",
       "</style>\n",
       "<table border=\"1\" class=\"dataframe\">\n",
       "  <thead>\n",
       "    <tr style=\"text-align: right;\">\n",
       "      <th></th>\n",
       "      <th>apples</th>\n",
       "      <th>oranges</th>\n",
       "    </tr>\n",
       "  </thead>\n",
       "  <tbody>\n",
       "    <tr>\n",
       "      <th>0</th>\n",
       "      <td>4</td>\n",
       "      <td>0</td>\n",
       "    </tr>\n",
       "    <tr>\n",
       "      <th>1</th>\n",
       "      <td>2</td>\n",
       "      <td>3</td>\n",
       "    </tr>\n",
       "    <tr>\n",
       "      <th>2</th>\n",
       "      <td>0</td>\n",
       "      <td>7</td>\n",
       "    </tr>\n",
       "    <tr>\n",
       "      <th>3</th>\n",
       "      <td>1</td>\n",
       "      <td>2</td>\n",
       "    </tr>\n",
       "  </tbody>\n",
       "</table>\n",
       "</div>"
      ],
      "text/plain": [
       "   apples  oranges\n",
       "0       4        0\n",
       "1       2        3\n",
       "2       0        7\n",
       "3       1        2"
      ]
     },
     "execution_count": 76,
     "metadata": {},
     "output_type": "execute_result"
    }
   ],
   "source": [
    "# sobreescribo un solo valor\n",
    "df.iloc[0, 0] = 4\n",
    "df"
   ]
  },
  {
   "cell_type": "code",
   "execution_count": 77,
   "metadata": {
    "colab": {
     "base_uri": "https://localhost:8080/",
     "height": 174
    },
    "executionInfo": {
     "elapsed": 87,
     "status": "ok",
     "timestamp": 1723151780295,
     "user": {
      "displayName": "Francisco Javier Navarro Barrón",
      "userId": "10181626055026217558"
     },
     "user_tz": 360
    },
    "id": "HSB3vXqOog2K",
    "outputId": "06b1c9b9-b41c-4311-fb22-06938f0a247b"
   },
   "outputs": [
    {
     "data": {
      "text/html": [
       "<div>\n",
       "<style scoped>\n",
       "    .dataframe tbody tr th:only-of-type {\n",
       "        vertical-align: middle;\n",
       "    }\n",
       "\n",
       "    .dataframe tbody tr th {\n",
       "        vertical-align: top;\n",
       "    }\n",
       "\n",
       "    .dataframe thead th {\n",
       "        text-align: right;\n",
       "    }\n",
       "</style>\n",
       "<table border=\"1\" class=\"dataframe\">\n",
       "  <thead>\n",
       "    <tr style=\"text-align: right;\">\n",
       "      <th></th>\n",
       "      <th>apples</th>\n",
       "      <th>oranges</th>\n",
       "    </tr>\n",
       "  </thead>\n",
       "  <tbody>\n",
       "    <tr>\n",
       "      <th>0</th>\n",
       "      <td>5</td>\n",
       "      <td>6</td>\n",
       "    </tr>\n",
       "    <tr>\n",
       "      <th>1</th>\n",
       "      <td>2</td>\n",
       "      <td>3</td>\n",
       "    </tr>\n",
       "    <tr>\n",
       "      <th>2</th>\n",
       "      <td>0</td>\n",
       "      <td>7</td>\n",
       "    </tr>\n",
       "    <tr>\n",
       "      <th>3</th>\n",
       "      <td>1</td>\n",
       "      <td>2</td>\n",
       "    </tr>\n",
       "  </tbody>\n",
       "</table>\n",
       "</div>"
      ],
      "text/plain": [
       "   apples  oranges\n",
       "0       5        6\n",
       "1       2        3\n",
       "2       0        7\n",
       "3       1        2"
      ]
     },
     "execution_count": 77,
     "metadata": {},
     "output_type": "execute_result"
    }
   ],
   "source": [
    "# sobreescribo la fila 0 usando iloc y una lista\n",
    "df.iloc[0] = [5, 6]\n",
    "df"
   ]
  },
  {
   "cell_type": "code",
   "execution_count": 78,
   "metadata": {
    "colab": {
     "base_uri": "https://localhost:8080/",
     "height": 206
    },
    "executionInfo": {
     "elapsed": 87,
     "status": "ok",
     "timestamp": 1723151780295,
     "user": {
      "displayName": "Francisco Javier Navarro Barrón",
      "userId": "10181626055026217558"
     },
     "user_tz": 360
    },
    "id": "Y3or7aywpDwR",
    "outputId": "ee4f2f2a-cb46-40fd-cc08-17eaff62082b"
   },
   "outputs": [
    {
     "data": {
      "text/html": [
       "<div>\n",
       "<style scoped>\n",
       "    .dataframe tbody tr th:only-of-type {\n",
       "        vertical-align: middle;\n",
       "    }\n",
       "\n",
       "    .dataframe tbody tr th {\n",
       "        vertical-align: top;\n",
       "    }\n",
       "\n",
       "    .dataframe thead th {\n",
       "        text-align: right;\n",
       "    }\n",
       "</style>\n",
       "<table border=\"1\" class=\"dataframe\">\n",
       "  <thead>\n",
       "    <tr style=\"text-align: right;\">\n",
       "      <th></th>\n",
       "      <th>apples</th>\n",
       "      <th>oranges</th>\n",
       "    </tr>\n",
       "  </thead>\n",
       "  <tbody>\n",
       "    <tr>\n",
       "      <th>0</th>\n",
       "      <td>5</td>\n",
       "      <td>6</td>\n",
       "    </tr>\n",
       "    <tr>\n",
       "      <th>1</th>\n",
       "      <td>2</td>\n",
       "      <td>3</td>\n",
       "    </tr>\n",
       "    <tr>\n",
       "      <th>2</th>\n",
       "      <td>0</td>\n",
       "      <td>7</td>\n",
       "    </tr>\n",
       "    <tr>\n",
       "      <th>3</th>\n",
       "      <td>1</td>\n",
       "      <td>2</td>\n",
       "    </tr>\n",
       "    <tr>\n",
       "      <th>4</th>\n",
       "      <td>9</td>\n",
       "      <td>12</td>\n",
       "    </tr>\n",
       "  </tbody>\n",
       "</table>\n",
       "</div>"
      ],
      "text/plain": [
       "   apples  oranges\n",
       "0       5        6\n",
       "1       2        3\n",
       "2       0        7\n",
       "3       1        2\n",
       "4       9       12"
      ]
     },
     "execution_count": 78,
     "metadata": {},
     "output_type": "execute_result"
    }
   ],
   "source": [
    "# Agregar filas usando loc\n",
    "df.loc[4] = [9, 12]\n",
    "df"
   ]
  },
  {
   "cell_type": "code",
   "execution_count": 79,
   "metadata": {
    "colab": {
     "base_uri": "https://localhost:8080/"
    },
    "executionInfo": {
     "elapsed": 86,
     "status": "ok",
     "timestamp": 1723151780295,
     "user": {
      "displayName": "Francisco Javier Navarro Barrón",
      "userId": "10181626055026217558"
     },
     "user_tz": 360
    },
    "id": "YnzLP-Axp_x0",
    "outputId": "3b30b501-c0ec-4c11-bb3e-2a56e95d502d"
   },
   "outputs": [
    {
     "data": {
      "text/plain": [
       "(5, 2)"
      ]
     },
     "execution_count": 79,
     "metadata": {},
     "output_type": "execute_result"
    }
   ],
   "source": [
    "df.shape # 5 filas, 2 columnas"
   ]
  },
  {
   "cell_type": "code",
   "execution_count": 80,
   "metadata": {
    "colab": {
     "base_uri": "https://localhost:8080/",
     "height": 237
    },
    "executionInfo": {
     "elapsed": 84,
     "status": "ok",
     "timestamp": 1723151780295,
     "user": {
      "displayName": "Francisco Javier Navarro Barrón",
      "userId": "10181626055026217558"
     },
     "user_tz": 360
    },
    "id": "CF-LBfYqqF52",
    "outputId": "4488d082-a5f8-4096-97ab-412d7113d782"
   },
   "outputs": [
    {
     "data": {
      "text/html": [
       "<div>\n",
       "<style scoped>\n",
       "    .dataframe tbody tr th:only-of-type {\n",
       "        vertical-align: middle;\n",
       "    }\n",
       "\n",
       "    .dataframe tbody tr th {\n",
       "        vertical-align: top;\n",
       "    }\n",
       "\n",
       "    .dataframe thead th {\n",
       "        text-align: right;\n",
       "    }\n",
       "</style>\n",
       "<table border=\"1\" class=\"dataframe\">\n",
       "  <thead>\n",
       "    <tr style=\"text-align: right;\">\n",
       "      <th></th>\n",
       "      <th>apples</th>\n",
       "      <th>oranges</th>\n",
       "    </tr>\n",
       "  </thead>\n",
       "  <tbody>\n",
       "    <tr>\n",
       "      <th>0</th>\n",
       "      <td>5</td>\n",
       "      <td>6</td>\n",
       "    </tr>\n",
       "    <tr>\n",
       "      <th>1</th>\n",
       "      <td>2</td>\n",
       "      <td>3</td>\n",
       "    </tr>\n",
       "    <tr>\n",
       "      <th>2</th>\n",
       "      <td>0</td>\n",
       "      <td>7</td>\n",
       "    </tr>\n",
       "    <tr>\n",
       "      <th>3</th>\n",
       "      <td>1</td>\n",
       "      <td>2</td>\n",
       "    </tr>\n",
       "    <tr>\n",
       "      <th>4</th>\n",
       "      <td>9</td>\n",
       "      <td>12</td>\n",
       "    </tr>\n",
       "    <tr>\n",
       "      <th>5</th>\n",
       "      <td>1</td>\n",
       "      <td>2</td>\n",
       "    </tr>\n",
       "  </tbody>\n",
       "</table>\n",
       "</div>"
      ],
      "text/plain": [
       "   apples  oranges\n",
       "0       5        6\n",
       "1       2        3\n",
       "2       0        7\n",
       "3       1        2\n",
       "4       9       12\n",
       "5       1        2"
      ]
     },
     "execution_count": 80,
     "metadata": {},
     "output_type": "execute_result"
    }
   ],
   "source": [
    "df.loc[df.shape[0]] = [1,2] # agregar al final sin importar cuál es la última fila\n",
    "df"
   ]
  },
  {
   "cell_type": "code",
   "execution_count": 81,
   "metadata": {
    "colab": {
     "base_uri": "https://localhost:8080/",
     "height": 237
    },
    "executionInfo": {
     "elapsed": 83,
     "status": "ok",
     "timestamp": 1723151780295,
     "user": {
      "displayName": "Francisco Javier Navarro Barrón",
      "userId": "10181626055026217558"
     },
     "user_tz": 360
    },
    "id": "-f6iK7hMpn2I",
    "outputId": "2faabf35-35ea-4b3f-a11f-45716b328f12"
   },
   "outputs": [
    {
     "data": {
      "text/html": [
       "<div>\n",
       "<style scoped>\n",
       "    .dataframe tbody tr th:only-of-type {\n",
       "        vertical-align: middle;\n",
       "    }\n",
       "\n",
       "    .dataframe tbody tr th {\n",
       "        vertical-align: top;\n",
       "    }\n",
       "\n",
       "    .dataframe thead th {\n",
       "        text-align: right;\n",
       "    }\n",
       "</style>\n",
       "<table border=\"1\" class=\"dataframe\">\n",
       "  <thead>\n",
       "    <tr style=\"text-align: right;\">\n",
       "      <th></th>\n",
       "      <th>Peso</th>\n",
       "      <th>Precio</th>\n",
       "    </tr>\n",
       "  </thead>\n",
       "  <tbody>\n",
       "    <tr>\n",
       "      <th>A4 3.0 Quattro 4dr manual</th>\n",
       "      <td>3583</td>\n",
       "      <td>$33,430</td>\n",
       "    </tr>\n",
       "    <tr>\n",
       "      <th>A4 3.0 Quattro 4dr auto</th>\n",
       "      <td>3627</td>\n",
       "      <td>$34,480</td>\n",
       "    </tr>\n",
       "    <tr>\n",
       "      <th>A6 3.0 4dr</th>\n",
       "      <td>3561</td>\n",
       "      <td>$36,640</td>\n",
       "    </tr>\n",
       "    <tr>\n",
       "      <th>A6 3.0 Quattro 4dr</th>\n",
       "      <td>3880</td>\n",
       "      <td>$39,640</td>\n",
       "    </tr>\n",
       "    <tr>\n",
       "      <th>A4 3.0 convertible 2dr</th>\n",
       "      <td>3814</td>\n",
       "      <td>$42,490</td>\n",
       "    </tr>\n",
       "    <tr>\n",
       "      <th>Vocho</th>\n",
       "      <td>2000</td>\n",
       "      <td>$65,000</td>\n",
       "    </tr>\n",
       "  </tbody>\n",
       "</table>\n",
       "</div>"
      ],
      "text/plain": [
       "                           Peso   Precio\n",
       "A4 3.0 Quattro 4dr manual  3583  $33,430\n",
       "A4 3.0 Quattro 4dr auto    3627  $34,480\n",
       "A6 3.0 4dr                 3561  $36,640\n",
       "A6 3.0 Quattro 4dr         3880  $39,640\n",
       "A4 3.0 convertible 2dr     3814  $42,490\n",
       "Vocho                      2000  $65,000"
      ]
     },
     "execution_count": 81,
     "metadata": {},
     "output_type": "execute_result"
    }
   ],
   "source": [
    "Autos.loc['Vocho'] = [2000, '$65,000'] # Otro ejemplo\n",
    "Autos"
   ]
  },
  {
   "cell_type": "code",
   "execution_count": 82,
   "metadata": {
    "colab": {
     "base_uri": "https://localhost:8080/",
     "height": 174
    },
    "executionInfo": {
     "elapsed": 360,
     "status": "ok",
     "timestamp": 1723152072014,
     "user": {
      "displayName": "Francisco Javier Navarro Barrón",
      "userId": "10181626055026217558"
     },
     "user_tz": 360
    },
    "id": "_XWEoj-Y8_p2",
    "outputId": "efabc3c7-f909-48ff-c51f-3c2708314a66"
   },
   "outputs": [
    {
     "data": {
      "text/html": [
       "<div>\n",
       "<style scoped>\n",
       "    .dataframe tbody tr th:only-of-type {\n",
       "        vertical-align: middle;\n",
       "    }\n",
       "\n",
       "    .dataframe tbody tr th {\n",
       "        vertical-align: top;\n",
       "    }\n",
       "\n",
       "    .dataframe thead th {\n",
       "        text-align: right;\n",
       "    }\n",
       "</style>\n",
       "<table border=\"1\" class=\"dataframe\">\n",
       "  <thead>\n",
       "    <tr style=\"text-align: right;\">\n",
       "      <th></th>\n",
       "      <th>name</th>\n",
       "      <th>age</th>\n",
       "      <th>gender</th>\n",
       "      <th>job</th>\n",
       "    </tr>\n",
       "  </thead>\n",
       "  <tbody>\n",
       "    <tr>\n",
       "      <th>0</th>\n",
       "      <td>wendy</td>\n",
       "      <td>21</td>\n",
       "      <td>F</td>\n",
       "      <td>student</td>\n",
       "    </tr>\n",
       "    <tr>\n",
       "      <th>1</th>\n",
       "      <td>john</td>\n",
       "      <td>26</td>\n",
       "      <td>M</td>\n",
       "      <td>engineer</td>\n",
       "    </tr>\n",
       "    <tr>\n",
       "      <th>2</th>\n",
       "      <td>karen</td>\n",
       "      <td>33</td>\n",
       "      <td>F</td>\n",
       "      <td>scientist</td>\n",
       "    </tr>\n",
       "    <tr>\n",
       "      <th>3</th>\n",
       "      <td>rick</td>\n",
       "      <td>67</td>\n",
       "      <td>M</td>\n",
       "      <td>engineer</td>\n",
       "    </tr>\n",
       "  </tbody>\n",
       "</table>\n",
       "</div>"
      ],
      "text/plain": [
       "    name  age gender        job\n",
       "0  wendy   21      F    student\n",
       "1   john   26      M   engineer\n",
       "2  karen   33      F  scientist\n",
       "3   rick   67      M   engineer"
      ]
     },
     "execution_count": 82,
     "metadata": {},
     "output_type": "execute_result"
    }
   ],
   "source": [
    "df = pd.DataFrame(dict(name=['wendy', 'john', 'karen', 'rick'],\n",
    "                       age=[21, 26, 33, 67],\n",
    "                       gender=['F', 'M', 'F', 'M'],\n",
    "                       job=['student','engineer', 'scientist', 'engineer']))\n",
    "df"
   ]
  },
  {
   "cell_type": "markdown",
   "metadata": {
    "id": "_Wy-5W1Oy1KV"
   },
   "source": [
    "Selección simple con **condición**"
   ]
  },
  {
   "cell_type": "code",
   "execution_count": 83,
   "metadata": {
    "colab": {
     "base_uri": "https://localhost:8080/",
     "height": 112
    },
    "executionInfo": {
     "elapsed": 355,
     "status": "ok",
     "timestamp": 1723152138245,
     "user": {
      "displayName": "Francisco Javier Navarro Barrón",
      "userId": "10181626055026217558"
     },
     "user_tz": 360
    },
    "id": "buidW2b-3jCb",
    "outputId": "93bb8166-d0be-494c-d58c-fce7cf732156"
   },
   "outputs": [
    {
     "data": {
      "text/html": [
       "<div>\n",
       "<style scoped>\n",
       "    .dataframe tbody tr th:only-of-type {\n",
       "        vertical-align: middle;\n",
       "    }\n",
       "\n",
       "    .dataframe tbody tr th {\n",
       "        vertical-align: top;\n",
       "    }\n",
       "\n",
       "    .dataframe thead th {\n",
       "        text-align: right;\n",
       "    }\n",
       "</style>\n",
       "<table border=\"1\" class=\"dataframe\">\n",
       "  <thead>\n",
       "    <tr style=\"text-align: right;\">\n",
       "      <th></th>\n",
       "      <th>name</th>\n",
       "      <th>age</th>\n",
       "      <th>gender</th>\n",
       "      <th>job</th>\n",
       "    </tr>\n",
       "  </thead>\n",
       "  <tbody>\n",
       "    <tr>\n",
       "      <th>0</th>\n",
       "      <td>wendy</td>\n",
       "      <td>21</td>\n",
       "      <td>F</td>\n",
       "      <td>student</td>\n",
       "    </tr>\n",
       "    <tr>\n",
       "      <th>1</th>\n",
       "      <td>john</td>\n",
       "      <td>26</td>\n",
       "      <td>M</td>\n",
       "      <td>engineer</td>\n",
       "    </tr>\n",
       "  </tbody>\n",
       "</table>\n",
       "</div>"
      ],
      "text/plain": [
       "    name  age gender       job\n",
       "0  wendy   21      F   student\n",
       "1   john   26      M  engineer"
      ]
     },
     "execution_count": 83,
     "metadata": {},
     "output_type": "execute_result"
    }
   ],
   "source": [
    "df[df.age < 30]"
   ]
  },
  {
   "cell_type": "markdown",
   "metadata": {
    "id": "Z93Xi-Gk8IXA"
   },
   "source": [
    "Selección con **múltiples condiciones** lógicas."
   ]
  },
  {
   "cell_type": "code",
   "execution_count": 84,
   "metadata": {
    "colab": {
     "base_uri": "https://localhost:8080/",
     "height": 80
    },
    "executionInfo": {
     "elapsed": 359,
     "status": "ok",
     "timestamp": 1723152293291,
     "user": {
      "displayName": "Francisco Javier Navarro Barrón",
      "userId": "10181626055026217558"
     },
     "user_tz": 360
    },
    "id": "2YgrCkth9CQz",
    "outputId": "82d14ad0-3e28-4835-cb83-0a973a3bc4e4"
   },
   "outputs": [
    {
     "data": {
      "text/html": [
       "<div>\n",
       "<style scoped>\n",
       "    .dataframe tbody tr th:only-of-type {\n",
       "        vertical-align: middle;\n",
       "    }\n",
       "\n",
       "    .dataframe tbody tr th {\n",
       "        vertical-align: top;\n",
       "    }\n",
       "\n",
       "    .dataframe thead th {\n",
       "        text-align: right;\n",
       "    }\n",
       "</style>\n",
       "<table border=\"1\" class=\"dataframe\">\n",
       "  <thead>\n",
       "    <tr style=\"text-align: right;\">\n",
       "      <th></th>\n",
       "      <th>name</th>\n",
       "      <th>age</th>\n",
       "      <th>gender</th>\n",
       "      <th>job</th>\n",
       "    </tr>\n",
       "  </thead>\n",
       "  <tbody>\n",
       "    <tr>\n",
       "      <th>0</th>\n",
       "      <td>wendy</td>\n",
       "      <td>21</td>\n",
       "      <td>F</td>\n",
       "      <td>student</td>\n",
       "    </tr>\n",
       "  </tbody>\n",
       "</table>\n",
       "</div>"
      ],
      "text/plain": [
       "    name  age gender      job\n",
       "0  wendy   21      F  student"
      ]
     },
     "execution_count": 84,
     "metadata": {},
     "output_type": "execute_result"
    }
   ],
   "source": [
    "# Multiple AND conditions\n",
    "df[(df.age < 30) & (df.gender == 'F')]"
   ]
  },
  {
   "cell_type": "code",
   "execution_count": 85,
   "metadata": {
    "colab": {
     "base_uri": "https://localhost:8080/",
     "height": 112
    },
    "executionInfo": {
     "elapsed": 360,
     "status": "ok",
     "timestamp": 1723152382116,
     "user": {
      "displayName": "Francisco Javier Navarro Barrón",
      "userId": "10181626055026217558"
     },
     "user_tz": 360
    },
    "id": "QQ5KVun-9Fmk",
    "outputId": "e223b65b-2949-46c2-e579-9a4e341239f1"
   },
   "outputs": [
    {
     "data": {
      "text/html": [
       "<div>\n",
       "<style scoped>\n",
       "    .dataframe tbody tr th:only-of-type {\n",
       "        vertical-align: middle;\n",
       "    }\n",
       "\n",
       "    .dataframe tbody tr th {\n",
       "        vertical-align: top;\n",
       "    }\n",
       "\n",
       "    .dataframe thead th {\n",
       "        text-align: right;\n",
       "    }\n",
       "</style>\n",
       "<table border=\"1\" class=\"dataframe\">\n",
       "  <thead>\n",
       "    <tr style=\"text-align: right;\">\n",
       "      <th></th>\n",
       "      <th>name</th>\n",
       "      <th>age</th>\n",
       "      <th>gender</th>\n",
       "      <th>job</th>\n",
       "    </tr>\n",
       "  </thead>\n",
       "  <tbody>\n",
       "    <tr>\n",
       "      <th>0</th>\n",
       "      <td>wendy</td>\n",
       "      <td>21</td>\n",
       "      <td>F</td>\n",
       "      <td>student</td>\n",
       "    </tr>\n",
       "    <tr>\n",
       "      <th>2</th>\n",
       "      <td>karen</td>\n",
       "      <td>33</td>\n",
       "      <td>F</td>\n",
       "      <td>scientist</td>\n",
       "    </tr>\n",
       "  </tbody>\n",
       "</table>\n",
       "</div>"
      ],
      "text/plain": [
       "    name  age gender        job\n",
       "0  wendy   21      F    student\n",
       "2  karen   33      F  scientist"
      ]
     },
     "execution_count": 85,
     "metadata": {},
     "output_type": "execute_result"
    }
   ],
   "source": [
    "# Multiple OR conditions |\n",
    "df[(df.job == 'scientist') | (df.gender == 'F')]"
   ]
  },
  {
   "cell_type": "markdown",
   "metadata": {
    "id": "V18-iGMA8nkO"
   },
   "source": [
    "Podemos hacer esto aun más sofisticado si agregamos al final la lista de columnas a mostrar (entre corchetes), de esta manera, solo vemos las variables deseadas de aquellos registros que cumplen con un criterio."
   ]
  },
  {
   "cell_type": "code",
   "execution_count": 86,
   "metadata": {
    "colab": {
     "base_uri": "https://localhost:8080/",
     "height": 112
    },
    "executionInfo": {
     "elapsed": 326,
     "status": "ok",
     "timestamp": 1723152533308,
     "user": {
      "displayName": "Francisco Javier Navarro Barrón",
      "userId": "10181626055026217558"
     },
     "user_tz": 360
    },
    "id": "GBlFlY4N9D5a",
    "outputId": "3320f99e-d3f0-4240-a66f-af0b28b42568"
   },
   "outputs": [
    {
     "data": {
      "text/html": [
       "<div>\n",
       "<style scoped>\n",
       "    .dataframe tbody tr th:only-of-type {\n",
       "        vertical-align: middle;\n",
       "    }\n",
       "\n",
       "    .dataframe tbody tr th {\n",
       "        vertical-align: top;\n",
       "    }\n",
       "\n",
       "    .dataframe thead th {\n",
       "        text-align: right;\n",
       "    }\n",
       "</style>\n",
       "<table border=\"1\" class=\"dataframe\">\n",
       "  <thead>\n",
       "    <tr style=\"text-align: right;\">\n",
       "      <th></th>\n",
       "      <th>name</th>\n",
       "      <th>age</th>\n",
       "    </tr>\n",
       "  </thead>\n",
       "  <tbody>\n",
       "    <tr>\n",
       "      <th>0</th>\n",
       "      <td>wendy</td>\n",
       "      <td>21</td>\n",
       "    </tr>\n",
       "    <tr>\n",
       "      <th>2</th>\n",
       "      <td>karen</td>\n",
       "      <td>33</td>\n",
       "    </tr>\n",
       "  </tbody>\n",
       "</table>\n",
       "</div>"
      ],
      "text/plain": [
       "    name  age\n",
       "0  wendy   21\n",
       "2  karen   33"
      ]
     },
     "execution_count": 86,
     "metadata": {},
     "output_type": "execute_result"
    }
   ],
   "source": [
    "df[(df.job == 'scientist') | (df.gender == 'F')][['name','age']]"
   ]
  },
  {
   "cell_type": "markdown",
   "metadata": {
    "id": "jpUc_Rfp_Jkh"
   },
   "source": [
    "Tip: podemos usar \"**masks**\"  (máscaras), estos son una forma de filtrar filas específicas de un *DataFrame* basadas en criterios definidos (condiciones booleanas). Con esto puedes tener más claro que estas haciendo en tu código al separar las condiciones."
   ]
  },
  {
   "cell_type": "code",
   "execution_count": 87,
   "metadata": {
    "colab": {
     "base_uri": "https://localhost:8080/",
     "height": 112
    },
    "executionInfo": {
     "elapsed": 341,
     "status": "ok",
     "timestamp": 1723152674126,
     "user": {
      "displayName": "Francisco Javier Navarro Barrón",
      "userId": "10181626055026217558"
     },
     "user_tz": 360
    },
    "id": "FqibRWLW_NSz",
    "outputId": "a8a826ce-5127-4e31-9a53-53a571a3141c"
   },
   "outputs": [
    {
     "data": {
      "text/html": [
       "<div>\n",
       "<style scoped>\n",
       "    .dataframe tbody tr th:only-of-type {\n",
       "        vertical-align: middle;\n",
       "    }\n",
       "\n",
       "    .dataframe tbody tr th {\n",
       "        vertical-align: top;\n",
       "    }\n",
       "\n",
       "    .dataframe thead th {\n",
       "        text-align: right;\n",
       "    }\n",
       "</style>\n",
       "<table border=\"1\" class=\"dataframe\">\n",
       "  <thead>\n",
       "    <tr style=\"text-align: right;\">\n",
       "      <th></th>\n",
       "      <th>name</th>\n",
       "      <th>age</th>\n",
       "      <th>gender</th>\n",
       "      <th>job</th>\n",
       "    </tr>\n",
       "  </thead>\n",
       "  <tbody>\n",
       "    <tr>\n",
       "      <th>1</th>\n",
       "      <td>john</td>\n",
       "      <td>26</td>\n",
       "      <td>M</td>\n",
       "      <td>engineer</td>\n",
       "    </tr>\n",
       "    <tr>\n",
       "      <th>3</th>\n",
       "      <td>rick</td>\n",
       "      <td>67</td>\n",
       "      <td>M</td>\n",
       "      <td>engineer</td>\n",
       "    </tr>\n",
       "  </tbody>\n",
       "</table>\n",
       "</div>"
      ],
      "text/plain": [
       "   name  age gender       job\n",
       "1  john   26      M  engineer\n",
       "3  rick   67      M  engineer"
      ]
     },
     "execution_count": 87,
     "metadata": {},
     "output_type": "execute_result"
    }
   ],
   "source": [
    "# 1. Crear las máscaras\n",
    "es_ingeniero = df.job == 'engineer'\n",
    "\n",
    "# 2. Aplica la máscara\n",
    "df[es_ingeniero]"
   ]
  },
  {
   "cell_type": "markdown",
   "metadata": {
    "id": "qbRb6Dz9_4TP"
   },
   "source": [
    "**Máscaras Combinadas**\n",
    "\n",
    "Puedes combinar múltiples condiciones usando operadores lógicos (`&` para \"AND\", `|` para \"OR\"). Por ejemplo, para seleccionar usuarios que son mayores de 30 años y son científicos:"
   ]
  },
  {
   "cell_type": "code",
   "execution_count": 88,
   "metadata": {
    "colab": {
     "base_uri": "https://localhost:8080/",
     "height": 112
    },
    "executionInfo": {
     "elapsed": 310,
     "status": "ok",
     "timestamp": 1723152870568,
     "user": {
      "displayName": "Francisco Javier Navarro Barrón",
      "userId": "10181626055026217558"
     },
     "user_tz": 360
    },
    "id": "uyuYxf3fCEUK",
    "outputId": "21fff9d6-f3ed-4be8-cf6d-a2b8abace493"
   },
   "outputs": [
    {
     "data": {
      "text/html": [
       "<div>\n",
       "<style scoped>\n",
       "    .dataframe tbody tr th:only-of-type {\n",
       "        vertical-align: middle;\n",
       "    }\n",
       "\n",
       "    .dataframe tbody tr th {\n",
       "        vertical-align: top;\n",
       "    }\n",
       "\n",
       "    .dataframe thead th {\n",
       "        text-align: right;\n",
       "    }\n",
       "</style>\n",
       "<table border=\"1\" class=\"dataframe\">\n",
       "  <thead>\n",
       "    <tr style=\"text-align: right;\">\n",
       "      <th></th>\n",
       "      <th>name</th>\n",
       "      <th>age</th>\n",
       "      <th>gender</th>\n",
       "      <th>job</th>\n",
       "    </tr>\n",
       "  </thead>\n",
       "  <tbody>\n",
       "    <tr>\n",
       "      <th>1</th>\n",
       "      <td>john</td>\n",
       "      <td>26</td>\n",
       "      <td>M</td>\n",
       "      <td>engineer</td>\n",
       "    </tr>\n",
       "    <tr>\n",
       "      <th>3</th>\n",
       "      <td>rick</td>\n",
       "      <td>67</td>\n",
       "      <td>M</td>\n",
       "      <td>engineer</td>\n",
       "    </tr>\n",
       "  </tbody>\n",
       "</table>\n",
       "</div>"
      ],
      "text/plain": [
       "   name  age gender       job\n",
       "1  john   26      M  engineer\n",
       "3  rick   67      M  engineer"
      ]
     },
     "execution_count": 88,
     "metadata": {},
     "output_type": "execute_result"
    }
   ],
   "source": [
    "# Crear máscara\n",
    "es_senior = df.age > 60\n",
    "\n",
    "# Combinamos máscaras\n",
    "df[(es_ingeniero) | (es_senior)]"
   ]
  },
  {
   "cell_type": "code",
   "execution_count": 89,
   "metadata": {
    "colab": {
     "base_uri": "https://localhost:8080/",
     "height": 112
    },
    "executionInfo": {
     "elapsed": 418,
     "status": "ok",
     "timestamp": 1723152912430,
     "user": {
      "displayName": "Francisco Javier Navarro Barrón",
      "userId": "10181626055026217558"
     },
     "user_tz": 360
    },
    "id": "o7nPDU8eCD6J",
    "outputId": "d767ec1b-203e-4ad4-8c06-af651b691217"
   },
   "outputs": [
    {
     "data": {
      "text/html": [
       "<div>\n",
       "<style scoped>\n",
       "    .dataframe tbody tr th:only-of-type {\n",
       "        vertical-align: middle;\n",
       "    }\n",
       "\n",
       "    .dataframe tbody tr th {\n",
       "        vertical-align: top;\n",
       "    }\n",
       "\n",
       "    .dataframe thead th {\n",
       "        text-align: right;\n",
       "    }\n",
       "</style>\n",
       "<table border=\"1\" class=\"dataframe\">\n",
       "  <thead>\n",
       "    <tr style=\"text-align: right;\">\n",
       "      <th></th>\n",
       "      <th>name</th>\n",
       "      <th>gender</th>\n",
       "    </tr>\n",
       "  </thead>\n",
       "  <tbody>\n",
       "    <tr>\n",
       "      <th>1</th>\n",
       "      <td>john</td>\n",
       "      <td>M</td>\n",
       "    </tr>\n",
       "    <tr>\n",
       "      <th>3</th>\n",
       "      <td>rick</td>\n",
       "      <td>M</td>\n",
       "    </tr>\n",
       "  </tbody>\n",
       "</table>\n",
       "</div>"
      ],
      "text/plain": [
       "   name gender\n",
       "1  john      M\n",
       "3  rick      M"
      ]
     },
     "execution_count": 89,
     "metadata": {},
     "output_type": "execute_result"
    }
   ],
   "source": [
    "df[(es_ingeniero) | (es_senior)][['name','gender']]"
   ]
  },
  {
   "cell_type": "markdown",
   "metadata": {
    "id": "DJckkaA5Boah"
   },
   "source": [
    "**Máscaras con** `isin()`\n",
    "\n",
    "Si quieres filtrar filas donde una columna contiene uno de varios valores, puedes usar `isin()`:"
   ]
  },
  {
   "cell_type": "code",
   "execution_count": 90,
   "metadata": {
    "colab": {
     "base_uri": "https://localhost:8080/",
     "height": 143
    },
    "executionInfo": {
     "elapsed": 376,
     "status": "ok",
     "timestamp": 1723153045973,
     "user": {
      "displayName": "Francisco Javier Navarro Barrón",
      "userId": "10181626055026217558"
     },
     "user_tz": 360
    },
    "id": "EpKXt0T-CIIo",
    "outputId": "90a11dfe-e843-4e85-8cc4-a884f54c8753"
   },
   "outputs": [
    {
     "data": {
      "text/html": [
       "<div>\n",
       "<style scoped>\n",
       "    .dataframe tbody tr th:only-of-type {\n",
       "        vertical-align: middle;\n",
       "    }\n",
       "\n",
       "    .dataframe tbody tr th {\n",
       "        vertical-align: top;\n",
       "    }\n",
       "\n",
       "    .dataframe thead th {\n",
       "        text-align: right;\n",
       "    }\n",
       "</style>\n",
       "<table border=\"1\" class=\"dataframe\">\n",
       "  <thead>\n",
       "    <tr style=\"text-align: right;\">\n",
       "      <th></th>\n",
       "      <th>name</th>\n",
       "      <th>age</th>\n",
       "      <th>gender</th>\n",
       "      <th>job</th>\n",
       "    </tr>\n",
       "  </thead>\n",
       "  <tbody>\n",
       "    <tr>\n",
       "      <th>1</th>\n",
       "      <td>john</td>\n",
       "      <td>26</td>\n",
       "      <td>M</td>\n",
       "      <td>engineer</td>\n",
       "    </tr>\n",
       "    <tr>\n",
       "      <th>2</th>\n",
       "      <td>karen</td>\n",
       "      <td>33</td>\n",
       "      <td>F</td>\n",
       "      <td>scientist</td>\n",
       "    </tr>\n",
       "    <tr>\n",
       "      <th>3</th>\n",
       "      <td>rick</td>\n",
       "      <td>67</td>\n",
       "      <td>M</td>\n",
       "      <td>engineer</td>\n",
       "    </tr>\n",
       "  </tbody>\n",
       "</table>\n",
       "</div>"
      ],
      "text/plain": [
       "    name  age gender        job\n",
       "1   john   26      M   engineer\n",
       "2  karen   33      F  scientist\n",
       "3   rick   67      M   engineer"
      ]
     },
     "execution_count": 90,
     "metadata": {},
     "output_type": "execute_result"
    }
   ],
   "source": [
    "df[(df['job'] == 'engineer') | (df['job'] == 'scientist')]"
   ]
  },
  {
   "cell_type": "code",
   "execution_count": 91,
   "metadata": {
    "colab": {
     "base_uri": "https://localhost:8080/",
     "height": 143
    },
    "executionInfo": {
     "elapsed": 324,
     "status": "ok",
     "timestamp": 1723153122859,
     "user": {
      "displayName": "Francisco Javier Navarro Barrón",
      "userId": "10181626055026217558"
     },
     "user_tz": 360
    },
    "id": "a9BnyNBP7TDM",
    "outputId": "dde36ce9-e77b-4dd7-e6ae-fba71e4718c3"
   },
   "outputs": [
    {
     "data": {
      "text/html": [
       "<div>\n",
       "<style scoped>\n",
       "    .dataframe tbody tr th:only-of-type {\n",
       "        vertical-align: middle;\n",
       "    }\n",
       "\n",
       "    .dataframe tbody tr th {\n",
       "        vertical-align: top;\n",
       "    }\n",
       "\n",
       "    .dataframe thead th {\n",
       "        text-align: right;\n",
       "    }\n",
       "</style>\n",
       "<table border=\"1\" class=\"dataframe\">\n",
       "  <thead>\n",
       "    <tr style=\"text-align: right;\">\n",
       "      <th></th>\n",
       "      <th>name</th>\n",
       "      <th>age</th>\n",
       "      <th>gender</th>\n",
       "      <th>job</th>\n",
       "    </tr>\n",
       "  </thead>\n",
       "  <tbody>\n",
       "    <tr>\n",
       "      <th>1</th>\n",
       "      <td>john</td>\n",
       "      <td>26</td>\n",
       "      <td>M</td>\n",
       "      <td>engineer</td>\n",
       "    </tr>\n",
       "    <tr>\n",
       "      <th>2</th>\n",
       "      <td>karen</td>\n",
       "      <td>33</td>\n",
       "      <td>F</td>\n",
       "      <td>scientist</td>\n",
       "    </tr>\n",
       "    <tr>\n",
       "      <th>3</th>\n",
       "      <td>rick</td>\n",
       "      <td>67</td>\n",
       "      <td>M</td>\n",
       "      <td>engineer</td>\n",
       "    </tr>\n",
       "  </tbody>\n",
       "</table>\n",
       "</div>"
      ],
      "text/plain": [
       "    name  age gender        job\n",
       "1   john   26      M   engineer\n",
       "2  karen   33      F  scientist\n",
       "3   rick   67      M   engineer"
      ]
     },
     "execution_count": 91,
     "metadata": {},
     "output_type": "execute_result"
    }
   ],
   "source": [
    "mask = df['job'].isin(['engineer', 'scientist'])\n",
    "df[mask]"
   ]
  },
  {
   "cell_type": "markdown",
   "metadata": {
    "id": "GrNV_QUL-uRK"
   },
   "source": [
    "## Columnas derivadas\n",
    "Para crear columnas derivadas en un DataFrame de pandas utilizando listas de comprensión, puedes aplicar una lógica específica a los datos existentes."
   ]
  },
  {
   "cell_type": "code",
   "execution_count": 92,
   "metadata": {
    "colab": {
     "base_uri": "https://localhost:8080/",
     "height": 174
    },
    "executionInfo": {
     "elapsed": 328,
     "status": "ok",
     "timestamp": 1723153344675,
     "user": {
      "displayName": "Francisco Javier Navarro Barrón",
      "userId": "10181626055026217558"
     },
     "user_tz": 360
    },
    "id": "GSnVi3ZQC-EG",
    "outputId": "be475302-967b-4804-e7c5-3f63e313393f"
   },
   "outputs": [
    {
     "data": {
      "text/html": [
       "<div>\n",
       "<style scoped>\n",
       "    .dataframe tbody tr th:only-of-type {\n",
       "        vertical-align: middle;\n",
       "    }\n",
       "\n",
       "    .dataframe tbody tr th {\n",
       "        vertical-align: top;\n",
       "    }\n",
       "\n",
       "    .dataframe thead th {\n",
       "        text-align: right;\n",
       "    }\n",
       "</style>\n",
       "<table border=\"1\" class=\"dataframe\">\n",
       "  <thead>\n",
       "    <tr style=\"text-align: right;\">\n",
       "      <th></th>\n",
       "      <th>name</th>\n",
       "      <th>age</th>\n",
       "      <th>gender</th>\n",
       "      <th>job</th>\n",
       "      <th>age_sqr</th>\n",
       "    </tr>\n",
       "  </thead>\n",
       "  <tbody>\n",
       "    <tr>\n",
       "      <th>0</th>\n",
       "      <td>wendy</td>\n",
       "      <td>21</td>\n",
       "      <td>F</td>\n",
       "      <td>student</td>\n",
       "      <td>441</td>\n",
       "    </tr>\n",
       "    <tr>\n",
       "      <th>1</th>\n",
       "      <td>john</td>\n",
       "      <td>26</td>\n",
       "      <td>M</td>\n",
       "      <td>engineer</td>\n",
       "      <td>676</td>\n",
       "    </tr>\n",
       "    <tr>\n",
       "      <th>2</th>\n",
       "      <td>karen</td>\n",
       "      <td>33</td>\n",
       "      <td>F</td>\n",
       "      <td>scientist</td>\n",
       "      <td>1089</td>\n",
       "    </tr>\n",
       "    <tr>\n",
       "      <th>3</th>\n",
       "      <td>rick</td>\n",
       "      <td>67</td>\n",
       "      <td>M</td>\n",
       "      <td>engineer</td>\n",
       "      <td>4489</td>\n",
       "    </tr>\n",
       "  </tbody>\n",
       "</table>\n",
       "</div>"
      ],
      "text/plain": [
       "    name  age gender        job  age_sqr\n",
       "0  wendy   21      F    student      441\n",
       "1   john   26      M   engineer      676\n",
       "2  karen   33      F  scientist     1089\n",
       "3   rick   67      M   engineer     4489"
      ]
     },
     "execution_count": 92,
     "metadata": {},
     "output_type": "execute_result"
    }
   ],
   "source": [
    "# Con simple aritmética\n",
    "df['age_sqr'] = df.age * df.age\n",
    "df"
   ]
  },
  {
   "cell_type": "markdown",
   "metadata": {
    "id": "oHJQVBfuDNv6"
   },
   "source": [
    "Las **listas de comprensión** en *Python* son una forma concisa y eficiente de crear listas a partir de otras listas o iterables. En *pandas*, puedes utilizarlas para manipular y transformar datos en un *DataFrame*."
   ]
  },
  {
   "cell_type": "markdown",
   "metadata": {
    "id": "w83-Z678_EWe"
   },
   "source": [
    "### Ejemplo 1: Crear una nueva columna basada en condiciones\n",
    "Supongamos que deseas agregar una columna que clasifique a los usuarios como \"Senior\" o \"Junior\" según su edad."
   ]
  },
  {
   "cell_type": "code",
   "execution_count": 93,
   "metadata": {
    "colab": {
     "base_uri": "https://localhost:8080/",
     "height": 174
    },
    "executionInfo": {
     "elapsed": 347,
     "status": "ok",
     "timestamp": 1723153538901,
     "user": {
      "displayName": "Francisco Javier Navarro Barrón",
      "userId": "10181626055026217558"
     },
     "user_tz": 360
    },
    "id": "17EEhawo_7UN",
    "outputId": "319f7c3c-78d0-4048-e7fe-3f1aab6d6b7c"
   },
   "outputs": [
    {
     "data": {
      "text/html": [
       "<div>\n",
       "<style scoped>\n",
       "    .dataframe tbody tr th:only-of-type {\n",
       "        vertical-align: middle;\n",
       "    }\n",
       "\n",
       "    .dataframe tbody tr th {\n",
       "        vertical-align: top;\n",
       "    }\n",
       "\n",
       "    .dataframe thead th {\n",
       "        text-align: right;\n",
       "    }\n",
       "</style>\n",
       "<table border=\"1\" class=\"dataframe\">\n",
       "  <thead>\n",
       "    <tr style=\"text-align: right;\">\n",
       "      <th></th>\n",
       "      <th>name</th>\n",
       "      <th>age</th>\n",
       "      <th>gender</th>\n",
       "      <th>job</th>\n",
       "      <th>age_sqr</th>\n",
       "      <th>Status</th>\n",
       "    </tr>\n",
       "  </thead>\n",
       "  <tbody>\n",
       "    <tr>\n",
       "      <th>0</th>\n",
       "      <td>wendy</td>\n",
       "      <td>21</td>\n",
       "      <td>F</td>\n",
       "      <td>student</td>\n",
       "      <td>441</td>\n",
       "      <td>Junior</td>\n",
       "    </tr>\n",
       "    <tr>\n",
       "      <th>1</th>\n",
       "      <td>john</td>\n",
       "      <td>26</td>\n",
       "      <td>M</td>\n",
       "      <td>engineer</td>\n",
       "      <td>676</td>\n",
       "      <td>Junior</td>\n",
       "    </tr>\n",
       "    <tr>\n",
       "      <th>2</th>\n",
       "      <td>karen</td>\n",
       "      <td>33</td>\n",
       "      <td>F</td>\n",
       "      <td>scientist</td>\n",
       "      <td>1089</td>\n",
       "      <td>Junior</td>\n",
       "    </tr>\n",
       "    <tr>\n",
       "      <th>3</th>\n",
       "      <td>rick</td>\n",
       "      <td>67</td>\n",
       "      <td>M</td>\n",
       "      <td>engineer</td>\n",
       "      <td>4489</td>\n",
       "      <td>Senior</td>\n",
       "    </tr>\n",
       "  </tbody>\n",
       "</table>\n",
       "</div>"
      ],
      "text/plain": [
       "    name  age gender        job  age_sqr  Status\n",
       "0  wendy   21      F    student      441  Junior\n",
       "1   john   26      M   engineer      676  Junior\n",
       "2  karen   33      F  scientist     1089  Junior\n",
       "3   rick   67      M   engineer     4489  Senior"
      ]
     },
     "execution_count": 93,
     "metadata": {},
     "output_type": "execute_result"
    }
   ],
   "source": [
    "# a: var temporal\n",
    "df['Status'] = ['Senior' if a >= 60 else 'Junior' for a in df['age']]\n",
    "df"
   ]
  },
  {
   "cell_type": "markdown",
   "metadata": {
    "id": "hvVGnE7w_NRS"
   },
   "source": [
    "### Ejemplo 2: Crear una columna basada en otra columna\n",
    "Si quieres crear una columna que indique si el trabajo (engineer o scientist) es técnico o no, podrías hacerlo así:"
   ]
  },
  {
   "cell_type": "code",
   "execution_count": 94,
   "metadata": {
    "colab": {
     "base_uri": "https://localhost:8080/",
     "height": 174
    },
    "executionInfo": {
     "elapsed": 345,
     "status": "ok",
     "timestamp": 1723153844752,
     "user": {
      "displayName": "Francisco Javier Navarro Barrón",
      "userId": "10181626055026217558"
     },
     "user_tz": 360
    },
    "id": "pEXnvpCwACIa",
    "outputId": "5793ff10-923f-4c00-bf9c-0ffa90a0c128"
   },
   "outputs": [
    {
     "data": {
      "text/html": [
       "<div>\n",
       "<style scoped>\n",
       "    .dataframe tbody tr th:only-of-type {\n",
       "        vertical-align: middle;\n",
       "    }\n",
       "\n",
       "    .dataframe tbody tr th {\n",
       "        vertical-align: top;\n",
       "    }\n",
       "\n",
       "    .dataframe thead th {\n",
       "        text-align: right;\n",
       "    }\n",
       "</style>\n",
       "<table border=\"1\" class=\"dataframe\">\n",
       "  <thead>\n",
       "    <tr style=\"text-align: right;\">\n",
       "      <th></th>\n",
       "      <th>name</th>\n",
       "      <th>age</th>\n",
       "      <th>gender</th>\n",
       "      <th>job</th>\n",
       "      <th>age_sqr</th>\n",
       "      <th>Status</th>\n",
       "      <th>Tecnico</th>\n",
       "    </tr>\n",
       "  </thead>\n",
       "  <tbody>\n",
       "    <tr>\n",
       "      <th>0</th>\n",
       "      <td>wendy</td>\n",
       "      <td>21</td>\n",
       "      <td>F</td>\n",
       "      <td>student</td>\n",
       "      <td>441</td>\n",
       "      <td>Junior</td>\n",
       "      <td>no tecnico</td>\n",
       "    </tr>\n",
       "    <tr>\n",
       "      <th>1</th>\n",
       "      <td>john</td>\n",
       "      <td>26</td>\n",
       "      <td>M</td>\n",
       "      <td>engineer</td>\n",
       "      <td>676</td>\n",
       "      <td>Junior</td>\n",
       "      <td>tecnico</td>\n",
       "    </tr>\n",
       "    <tr>\n",
       "      <th>2</th>\n",
       "      <td>karen</td>\n",
       "      <td>33</td>\n",
       "      <td>F</td>\n",
       "      <td>scientist</td>\n",
       "      <td>1089</td>\n",
       "      <td>Junior</td>\n",
       "      <td>tecnico</td>\n",
       "    </tr>\n",
       "    <tr>\n",
       "      <th>3</th>\n",
       "      <td>rick</td>\n",
       "      <td>67</td>\n",
       "      <td>M</td>\n",
       "      <td>engineer</td>\n",
       "      <td>4489</td>\n",
       "      <td>Senior</td>\n",
       "      <td>tecnico</td>\n",
       "    </tr>\n",
       "  </tbody>\n",
       "</table>\n",
       "</div>"
      ],
      "text/plain": [
       "    name  age gender        job  age_sqr  Status     Tecnico\n",
       "0  wendy   21      F    student      441  Junior  no tecnico\n",
       "1   john   26      M   engineer      676  Junior     tecnico\n",
       "2  karen   33      F  scientist     1089  Junior     tecnico\n",
       "3   rick   67      M   engineer     4489  Senior     tecnico"
      ]
     },
     "execution_count": 94,
     "metadata": {},
     "output_type": "execute_result"
    }
   ],
   "source": [
    "df['Tecnico'] = ['tecnico' if ocup in ['engineer', 'scientist']\n",
    "                 else 'no tecnico' for ocup in df['job']]\n",
    "df"
   ]
  },
  {
   "cell_type": "markdown",
   "metadata": {
    "id": "34ccWvwl_gpZ"
   },
   "source": [
    "### Ejemplo 3: Usar múltiples condiciones\n",
    "Puedes combinar múltiples condiciones en una lista de comprensión. Por ejemplo, clasificar a los usuarios según su edad y género:"
   ]
  },
  {
   "cell_type": "code",
   "execution_count": 95,
   "metadata": {
    "colab": {
     "base_uri": "https://localhost:8080/",
     "height": 174
    },
    "executionInfo": {
     "elapsed": 358,
     "status": "ok",
     "timestamp": 1723154273694,
     "user": {
      "displayName": "Francisco Javier Navarro Barrón",
      "userId": "10181626055026217558"
     },
     "user_tz": 360
    },
    "id": "Mu0ktA3dABU0",
    "outputId": "242cdd3a-7425-45e5-dccf-a14a14ae3f37"
   },
   "outputs": [
    {
     "data": {
      "text/html": [
       "<div>\n",
       "<style scoped>\n",
       "    .dataframe tbody tr th:only-of-type {\n",
       "        vertical-align: middle;\n",
       "    }\n",
       "\n",
       "    .dataframe tbody tr th {\n",
       "        vertical-align: top;\n",
       "    }\n",
       "\n",
       "    .dataframe thead th {\n",
       "        text-align: right;\n",
       "    }\n",
       "</style>\n",
       "<table border=\"1\" class=\"dataframe\">\n",
       "  <thead>\n",
       "    <tr style=\"text-align: right;\">\n",
       "      <th></th>\n",
       "      <th>name</th>\n",
       "      <th>age</th>\n",
       "      <th>gender</th>\n",
       "      <th>job</th>\n",
       "      <th>age_sqr</th>\n",
       "      <th>Status</th>\n",
       "      <th>Tecnico</th>\n",
       "      <th>Clasificacion</th>\n",
       "    </tr>\n",
       "  </thead>\n",
       "  <tbody>\n",
       "    <tr>\n",
       "      <th>0</th>\n",
       "      <td>wendy</td>\n",
       "      <td>21</td>\n",
       "      <td>F</td>\n",
       "      <td>student</td>\n",
       "      <td>441</td>\n",
       "      <td>Junior</td>\n",
       "      <td>no tecnico</td>\n",
       "      <td>young female</td>\n",
       "    </tr>\n",
       "    <tr>\n",
       "      <th>1</th>\n",
       "      <td>john</td>\n",
       "      <td>26</td>\n",
       "      <td>M</td>\n",
       "      <td>engineer</td>\n",
       "      <td>676</td>\n",
       "      <td>Junior</td>\n",
       "      <td>tecnico</td>\n",
       "      <td>young male</td>\n",
       "    </tr>\n",
       "    <tr>\n",
       "      <th>2</th>\n",
       "      <td>karen</td>\n",
       "      <td>33</td>\n",
       "      <td>F</td>\n",
       "      <td>scientist</td>\n",
       "      <td>1089</td>\n",
       "      <td>Junior</td>\n",
       "      <td>tecnico</td>\n",
       "      <td>senior</td>\n",
       "    </tr>\n",
       "    <tr>\n",
       "      <th>3</th>\n",
       "      <td>rick</td>\n",
       "      <td>67</td>\n",
       "      <td>M</td>\n",
       "      <td>engineer</td>\n",
       "      <td>4489</td>\n",
       "      <td>Senior</td>\n",
       "      <td>tecnico</td>\n",
       "      <td>senior</td>\n",
       "    </tr>\n",
       "  </tbody>\n",
       "</table>\n",
       "</div>"
      ],
      "text/plain": [
       "    name  age gender        job  age_sqr  Status     Tecnico Clasificacion\n",
       "0  wendy   21      F    student      441  Junior  no tecnico  young female\n",
       "1   john   26      M   engineer      676  Junior     tecnico    young male\n",
       "2  karen   33      F  scientist     1089  Junior     tecnico        senior\n",
       "3   rick   67      M   engineer     4489  Senior     tecnico        senior"
      ]
     },
     "execution_count": 95,
     "metadata": {},
     "output_type": "execute_result"
    }
   ],
   "source": [
    "df['Clasificacion'] = [\n",
    "    'young female' if (age < 30 and gender == 'F') else\n",
    "    'young male' if (age < 30 and gender == 'M') else\n",
    "    'senior'\n",
    "    for age, gender in zip(df['age'], df['gender'])\n",
    "]\n",
    "df"
   ]
  },
  {
   "cell_type": "code",
   "execution_count": 97,
   "metadata": {
    "id": "aHy1tPTAkVGc"
   },
   "outputs": [],
   "source": [
    "# %%shell\n",
    "# jupyter nbconvert --to html /content/Introducción_a_Pandas.ipynb"
   ]
  }
 ],
 "metadata": {
  "colab": {
   "provenance": [
    {
     "file_id": "1qw0oEW5Bg7pGurxyn1NFe_t567mAe1jt",
     "timestamp": 1722972586735
    }
   ]
  },
  "kernelspec": {
   "display_name": "Python 3",
   "name": "python3"
  },
  "language_info": {
   "codemirror_mode": {
    "name": "ipython",
    "version": 3
   },
   "file_extension": ".py",
   "mimetype": "text/x-python",
   "name": "python",
   "nbconvert_exporter": "python",
   "pygments_lexer": "ipython3",
   "version": "3.12.3"
  }
 },
 "nbformat": 4,
 "nbformat_minor": 0
}
