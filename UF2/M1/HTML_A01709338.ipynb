{
 "cells": [
  {
   "cell_type": "markdown",
   "id": "3b5fc802-86d0-4723-a675-a72bd6ee8914",
   "metadata": {
    "editable": true,
    "slideshow": {
     "slide_type": ""
    },
    "tags": []
   },
   "source": [
    "# Actividad en clase 2.2.3"
   ]
  },
  {
   "cell_type": "markdown",
   "id": "cef8be4f-0ccc-4f4f-92df-0bc7b2cd6148",
   "metadata": {},
   "source": [
    "## 1. (20 pts) Escribir un código en un notebook (en blanco) que lea siguiente tabla desde este sitio Billionaires Links to an external site.. Reporta la cantidad de tablas detectadas."
   ]
  },
  {
   "cell_type": "code",
   "execution_count": 1,
   "id": "1446161f-529c-42b3-a65b-6125121325ad",
   "metadata": {},
   "outputs": [
    {
     "data": {
      "text/plain": [
       "[            Year Total number of billionaires  \\\n",
       "             Year Total number of billionaires   \n",
       " 0       2021[22]                         2755   \n",
       " 1   2020[24][25]                         2095   \n",
       " 2   2019[26][27]                  2,153–2,604   \n",
       " 3   2018[28][29]                  2,208–2,754   \n",
       " 4       2017[30]                         2043   \n",
       " 5           2016                         1810   \n",
       " 6       2015[11]                         1826   \n",
       " 7       2014[31]                         1645   \n",
       " 8       2013[33]                         1426   \n",
       " 9       2012[34]                         1226   \n",
       " 10      2011[35]                         1210   \n",
       " 11      2010[36]                         1011   \n",
       " 12      2009[37]                          793   \n",
       " 13      2008[38]                         1125   \n",
       " \n",
       "    Combined wealth of known billionaires Number of billionaires           \\\n",
       "    Combined wealth of known billionaires                   U.S.  Chinese   \n",
       " 0                                    NaN                    724      626   \n",
       " 1                         $10.2 trillion                    614      389   \n",
       " 2                      $8.6–8.7 trillion                609–705  285–324   \n",
       " 3                      $9.1–9.2 trillion                585–680  338–372   \n",
       " 4                         $7.71 trillion                    565      319   \n",
       " 5                         $6.48 trillion                    540      251   \n",
       " 6                         $7.05 trillion                    536      213   \n",
       " 7                          $6.4 trillion                    492      152   \n",
       " 8                          $5.4 trillion                    442      122   \n",
       " 9                          $4.6 trillion                    425       95   \n",
       " 10                         $4.5 trillion                    413      115   \n",
       " 11                         $3.6 trillion                    404       89   \n",
       " 12                         $2.4 trillion                    359       28   \n",
       " 13                         $4.4 trillion                    470        –   \n",
       " \n",
       "                            World's wealthiest individual                    \n",
       "      Indian German Russian                          Name         Net worth  \n",
       " 0       140  136.0     117                     Elon Musk  $320 billion[23]  \n",
       " 1       102    NaN      99                    Jeff Bezos      $188 billion  \n",
       " 2    82–106    NaN  98–102                    Jeff Bezos      $131 billion  \n",
       " 3   117–119    NaN  96–111                    Jeff Bezos      $133 billion  \n",
       " 4       101    NaN     106                    Jeff Bezos     $99.6 billion  \n",
       " 5        90    NaN      75                    Bill Gates       $75 billion  \n",
       " 6        88    NaN      88                    Bill Gates     $79.2 billion  \n",
       " 7    56[32]    NaN     111                    Bill Gates       $78 billion  \n",
       " 8         –    NaN     110                   Carlos Slim       $73 billion  \n",
       " 9         –    NaN      96                   Carlos Slim       $73 billion  \n",
       " 10        –    NaN     101                   Carlos Slim       $74 billion  \n",
       " 11        –    NaN      62                   Carlos Slim     $53.5 billion  \n",
       " 12        –    NaN      32                    Bill Gates       $40 billion  \n",
       " 13        –    NaN      87                Warren Buffett       $62 billion  ,\n",
       "                                     vteExtreme wealth  \\\n",
       " 0                                            Concepts   \n",
       " 1   Capital accumulation Overaccumulation Economic...   \n",
       " 2                                              People   \n",
       " 3                                              Wealth   \n",
       " 4                                               Lists   \n",
       " 5                                              People   \n",
       " 6                                       Organizations   \n",
       " 7                                               Other   \n",
       " 8                                             Related   \n",
       " 9   Diseases of affluence Affluenza Acquired situa...   \n",
       " 10                                       Philanthropy   \n",
       " 11                                            Sayings   \n",
       " 12                                              Media   \n",
       " 13                                Category by country   \n",
       " \n",
       "                                   vteExtreme wealth.1  \n",
       " 0   Capital accumulation Overaccumulation Economic...  \n",
       " 1   Capital accumulation Overaccumulation Economic...  \n",
       " 2   Billionaire Captain of industry High-net-worth...  \n",
       " 3   Concentration Distribution Dynastic Effect Geo...  \n",
       " 4   People Forbes list of billionaires List of cen...  \n",
       " 5   Forbes list of billionaires List of centibilli...  \n",
       " 6   Largest companies by revenue Largest corporate...  \n",
       " 7   Cities by number of billionaires Countries by ...  \n",
       " 8   Diseases of affluence Affluenza Acquired situa...  \n",
       " 9   Diseases of affluence Affluenza Acquired situa...  \n",
       " 10  Gospel of Wealth The Giving Pledge Philanthroc...  \n",
       " 11  The rich get richer and the poor get poorer So...  \n",
       " 12  Das Kapital Plutus Greek god of wealth Supercl...  \n",
       " 13                                Category by country  ,\n",
       "                                                    0  \\\n",
       " 0  Capital accumulation Overaccumulation Economic...   \n",
       " 1                                             People   \n",
       " 2                                             Wealth   \n",
       " \n",
       "                                                    1  \n",
       " 0  Capital accumulation Overaccumulation Economic...  \n",
       " 1  Billionaire Captain of industry High-net-worth...  \n",
       " 2  Concentration Distribution Dynastic Effect Geo...  ,\n",
       "                0                                                  1\n",
       " 0         People  Forbes list of billionaires List of centibilli...\n",
       " 1  Organizations  Largest companies by revenue Largest corporate...\n",
       " 2          Other  Cities by number of billionaires Countries by ...,\n",
       "                                                    0  \\\n",
       " 0  Diseases of affluence Affluenza Acquired situa...   \n",
       " 1                                       Philanthropy   \n",
       " 2                                            Sayings   \n",
       " 3                                              Media   \n",
       " \n",
       "                                                    1  \n",
       " 0  Diseases of affluence Affluenza Acquired situa...  \n",
       " 1  Gospel of Wealth The Giving Pledge Philanthroc...  \n",
       " 2  The rich get richer and the poor get poorer So...  \n",
       " 3  Das Kapital Plutus Greek god of wealth Supercl...  ,\n",
       "   vteBillionaires                                  vteBillionaires.1\n",
       " 0  By citizenship  Argentina Austria Belgium Brazil Canada Chile ...\n",
       " 1       By region            World Africa ASEAN Europe Latin America\n",
       " 2    Forbes lists  The World's Billionaires 2010 2011 2012 2013 2...\n",
       " 3           Lists  Black Bloomberg Billionaires Index Financial R...\n",
       " 4           Other                             Billionaire space race,\n",
       "                                        0                                  1\n",
       " 0  Authority control databases: National  United StatesCzech RepublicIsrael]"
      ]
     },
     "execution_count": 1,
     "metadata": {},
     "output_type": "execute_result"
    }
   ],
   "source": [
    "import pandas as pd\n",
    "url = \"https://en.wikipedia.org/wiki/Billionaire\"\n",
    "pd.read_html(url)"
   ]
  },
  {
   "cell_type": "code",
   "execution_count": null,
   "id": "091e6585-0552-490e-b99d-c1e2e38bc66a",
   "metadata": {},
   "outputs": [],
   "source": []
  }
 ],
 "metadata": {
  "kernelspec": {
   "display_name": "Python [conda env:base] *",
   "language": "python",
   "name": "conda-base-py"
  },
  "language_info": {
   "codemirror_mode": {
    "name": "ipython",
    "version": 3
   },
   "file_extension": ".py",
   "mimetype": "text/x-python",
   "name": "python",
   "nbconvert_exporter": "python",
   "pygments_lexer": "ipython3",
   "version": "3.12.7"
  }
 },
 "nbformat": 4,
 "nbformat_minor": 5
}
