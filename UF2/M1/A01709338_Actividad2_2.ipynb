{
  "nbformat": 4,
  "nbformat_minor": 0,
  "metadata": {
    "colab": {
      "provenance": []
    },
    "kernelspec": {
      "name": "python3",
      "display_name": "Python 3"
    },
    "language_info": {
      "name": "python"
    }
  },
  "cells": [
    {
      "cell_type": "markdown",
      "source": [
        "# Actividad 2.2.2\n",
        "- Jorge Emiliano Pomar\n",
        "- A01709338"
      ],
      "metadata": {
        "id": "F81mIKdmAtY4"
      }
    },
    {
      "cell_type": "markdown",
      "source": [
        "##Escribir un código que lea un JSON desde esta esta web api Links to an external site. (pista: Requests.get)"
      ],
      "metadata": {
        "id": "BGwJ3wBTAqda"
      }
    },
    {
      "cell_type": "code",
      "execution_count": 10,
      "metadata": {
        "colab": {
          "base_uri": "https://localhost:8080/"
        },
        "id": "25qrtW-6-jRy",
        "outputId": "d19efa31-3962-48b6-e565-ab78ef4d0121"
      },
      "outputs": [
        {
          "output_type": "stream",
          "name": "stdout",
          "text": [
            "<Response [200]>\n"
          ]
        }
      ],
      "source": [
        "import pandas as pd\n",
        "import requests\n",
        "import json\n",
        "url = \"https://raw.githubusercontent.com/bttmly/nba/master/data/players.json\"\n",
        "data = requests.get(url)\n",
        "print(data)\n"
      ]
    },
    {
      "cell_type": "code",
      "source": [
        "data.text"
      ],
      "metadata": {
        "colab": {
          "base_uri": "https://localhost:8080/",
          "height": 141
        },
        "id": "BOwVpGmd_j3O",
        "outputId": "fe906dcd-7186-4e38-c545-d26d9d72e489"
      },
      "execution_count": 8,
      "outputs": [
        {
          "output_type": "execute_result",
          "data": {
            "text/plain": [
              "'[\\n  {\\n    \"firstName\": \"Precious\",\\n    \"lastName\": \"Achiuwa\",\\n    \"playerId\": 1630173,\\n    \"teamId\": 1610612748\\n  },\\n  {\\n    \"firstName\": \"Jaylen\",\\n    \"lastName\": \"Adams\",\\n    \"playerId\": 1629121,\\n    \"teamId\": 0\\n  },\\n  {\\n    \"firstName\": \"Steven\",\\n    \"lastName\": \"Adams\",\\n    \"playerId\": 203500,\\n    \"teamId\": 1610612740\\n  },\\n  {\\n    \"firstName\": \"Bam\",\\n    \"lastName\": \"Adebayo\",\\n    \"playerId\": 1628389,\\n    \"teamId\": 1610612748\\n  },\\n  {\\n    \"firstName\": \"LaMarcus\",\\n    \"lastName\": \"Aldridge\",\\n    \"playerId\": 200746,\\n    \"teamId\": 0\\n  },\\n  {\\n    \"firstName\": \"Ty-Shon\",\\n    \"lastName\": \"Alexander\",\\n    \"playerId\": 1630234,\\n    \"teamId\": 1610612756\\n  },\\n  {\\n    \"firstName\": \"Nickeil\",\\n    \"lastName\": \"Alexander-Walker\",\\n    \"playerId\": 1629638,\\n    \"teamId\": 1610612740\\n  },\\n  {\\n    \"firstName\": \"Grayson\",\\n    \"lastName\": \"Allen\",\\n    \"playerId\": 1628960,\\n    \"teamId\": 1610612763\\n  },\\n  {\\n    \"firstName\": \"Jarrett\",\\n    \"lastName\": \"Allen\",\\n    \"playerId\": 1628386,\\n    \"teamId\": 1610612739\\n  },\\n  {\\n    \"firstName\": \"Al-Farouq\",\\n    \"lastName\": \"Aminu\",\\n    \"playerId\": 202329,\\n    \"teamId\": 1610612741\\n  },\\n  {\\n    \"firstName\": \"Kyle\",\\n    \"lastName\": \"Anderson\",\\n    \"playerId\": 203937,\\n    \"teamId\": 1610612763\\n  },\\n  {\\n    \"firstName\": \"Giannis\",\\n    \"lastName\": \"Antetokounmpo\",\\n    \"playerId\": 203507,\\n    \"teamId\": 1610612749\\n  },\\n  {\\n    \"firstName\": \"Kostas\",\\n    \"lastName\": \"Antetokounmpo\",\\n    \"playerId\": 1628961,\\n    \"teamId\": 1610612747\\n  },\\n  {\\n    \"firstName\": \"Thanasis\",\\n    \"lastName\": \"Antetokounmpo\",\\n    \"playerId\": 203648,\\n    \"teamId\": 1610612749\\n  },\\n  {\\n    \"firstName\": \"Carmelo\",\\n    \"lastName\": \"Anthony\",\\n    \"playerId\": 2546,\\n    \"teamId\": 1610612757\\n  },\\n  {\\n    \"firstName\": \"Cole\",\\n    \"lastName\": \"Anthony\",\\n    \"playerId\": 1630175,\\n    \"teamId\": 1610612753\\n  },\\n  {\\n    \"firstName\": \"OG\",\\n    \"lastName\": \"Anunoby\",\\n    \"playerId\": 1628384,\\n    \"teamId\": 1610612761\\n  },\\n  {\\n    \"firstName\": \"Ryan\",\\n    \"lastName\": \"Arcidiacono\",\\n    \"playerId\": 1627853,\\n    \"teamId\": 1610612741\\n  },\\n  {\\n    \"firstName\": \"Trevor\",\\n    \"lastName\": \"Ariza\",\\n    \"playerId\": 2772,\\n    \"teamId\": 1610612748\\n  },\\n  {\\n    \"firstName\": \"D.J.\",\\n    \"lastName\": \"Augustin\",\\n    \"playerId\": 201571,\\n    \"teamId\": 1610612745\\n  },\\n  {\\n    \"firstName\": \"Deni\",\\n    \"lastName\": \"Avdija\",\\n    \"playerId\": 1630166,\\n    \"teamId\": 1610612764\\n  },\\n  {\\n    \"firstName\": \"Deandre\",\\n    \"lastName\": \"Ayton\",\\n    \"playerId\": 1629028,\\n    \"teamId\": 1610612756\\n  },\\n  {\\n    \"firstName\": \"Udoka\",\\n    \"lastName\": \"Azubuike\",\\n    \"playerId\": 1628962,\\n    \"teamId\": 1610612762\\n  },\\n  {\\n    \"firstName\": \"Dwayne\",\\n    \"lastName\": \"Bacon\",\\n    \"playerId\": 1628407,\\n    \"teamId\": 1610612753\\n  },\\n  {\\n    \"firstName\": \"Marvin\",\\n    \"lastName\": \"Bagley III\",\\n    \"playerId\": 1628963,\\n    \"teamId\": 1610612758\\n  },\\n  {\\n    \"firstName\": \"LaMelo\",\\n    \"lastName\": \"Ball\",\\n    \"playerId\": 1630163,\\n    \"teamId\": 1610612766\\n  },\\n  {\\n    \"firstName\": \"Lonzo\",\\n    \"lastName\": \"Ball\",\\n    \"playerId\": 1628366,\\n    \"teamId\": 1610612740\\n  },\\n  {\\n    \"firstName\": \"Mo\",\\n    \"lastName\": \"Bamba\",\\n    \"playerId\": 1628964,\\n    \"teamId\": 1610612753\\n  },\\n  {\\n    \"firstName\": \"Desmond\",\\n    \"lastName\": \"Bane\",\\n    \"playerId\": 1630217,\\n    \"teamId\": 1610612763\\n  },\\n  {\\n    \"firstName\": \"Harrison\",\\n    \"lastName\": \"Barnes\",\\n    \"playerId\": 203084,\\n    \"teamId\": 1610612758\\n  },\\n  {\\n    \"firstName\": \"RJ\",\\n    \"lastName\": \"Barrett\",\\n    \"playerId\": 1629628,\\n    \"teamId\": 1610612752\\n  },\\n  {\\n    \"firstName\": \"Will\",\\n    \"lastName\": \"Barton\",\\n    \"playerId\": 203115,\\n    \"teamId\": 1610612743\\n  },\\n  {\\n    \"firstName\": \"Keita\",\\n    \"lastName\": \"Bates-Diop\",\\n    \"playerId\": 1628966,\\n    \"teamId\": 1610612759\\n  },\\n  {\\n    \"firstName\": \"Nicolas\",\\n    \"lastName\": \"Batum\",\\n    \"playerId\": 201587,\\n    \"teamId\": 1610612746\\n  },\\n  {\\n    \"firstName\": \"Aron\",\\n    \"lastName\": \"Baynes\",\\n    \"playerId\": 203382,\\n    \"teamId\": 1610612761\\n  },\\n  {\\n    \"firstName\": \"Kent\",\\n    \"lastName\": \"Bazemore\",\\n    \"playerId\": 203145,\\n    \"teamId\": 1610612744\\n  },\\n  {\\n    \"firstName\": \"Darius\",\\n    \"lastName\": \"Bazley\",\\n    \"playerId\": 1629647,\\n    \"teamId\": 1610612760\\n  },\\n  {\\n    \"firstName\": \"Bradley\",\\n    \"lastName\": \"Beal\",\\n    \"playerId\": 203078,\\n    \"teamId\": 1610612764\\n  },\\n  {\\n    \"firstName\": \"Malik\",\\n    \"lastName\": \"Beasley\",\\n    \"playerId\": 1627736,\\n    \"teamId\": 1610612750\\n  },\\n  {\\n    \"firstName\": \"Jordan\",\\n    \"lastName\": \"Bell\",\\n    \"playerId\": 1628395,\\n    \"teamId\": 1610612744\\n  },\\n  {\\n    \"firstName\": \"DeAndre\\'\",\\n    \"lastName\": \"Bembry\",\\n    \"playerId\": 1627761,\\n    \"teamId\": 1610612761\\n  },\\n  {\\n    \"firstName\": \"Davis\",\\n    \"lastName\": \"Bertans\",\\n    \"playerId\": 202722,\\n    \"teamId\": 1610612764\\n  },\\n  {\\n    \"firstName\": \"Patrick\",\\n    \"lastName\": \"Beverley\",\\n    \"playerId\": 201976,\\n    \"teamId\": 1610612746\\n  },\\n  {\\n    \"firstName\": \"Saddiq\",\\n    \"lastName\": \"Bey\",\\n    \"playerId\": 1630180,\\n    \"teamId\": 1610612765\\n  },\\n  {\\n    \"firstName\": \"Tyler\",\\n    \"lastName\": \"Bey\",\\n    \"playerId\": 1630189,\\n    \"teamId\": 1610612742\\n  },\\n  {\\n    \"firstName\": \"Khem\",\\n    \"lastName\": \"Birch\",\\n    \"playerId\": 203920,\\n    \"teamId\": 1610612761\\n  },\\n  {\\n    \"firstName\": \"Goga\",\\n    \"lastName\": \"Bitadze\",\\n    \"playerId\": 1629048,\\n    \"teamId\": 1610612754\\n  },\\n  {\\n    \"firstName\": \"Bismack\",\\n    \"lastName\": \"Biyombo\",\\n    \"playerId\": 202687,\\n    \"teamId\": 1610612766\\n  },\\n  {\\n    \"firstName\": \"Nemanja\",\\n    \"lastName\": \"Bjelica\",\\n    \"playerId\": 202357,\\n    \"teamId\": 1610612748\\n  },\\n  {\\n    \"firstName\": \"Eric\",\\n    \"lastName\": \"Bledsoe\",\\n    \"playerId\": 202339,\\n    \"teamId\": 1610612740\\n  },\\n  {\\n    \"firstName\": \"Keljin\",\\n    \"lastName\": \"Blevins\",\\n    \"playerId\": 1629833,\\n    \"teamId\": 1610612757\\n  },\\n  {\\n    \"firstName\": \"Bogdan\",\\n    \"lastName\": \"Bogdanovic\",\\n    \"playerId\": 203992,\\n    \"teamId\": 1610612737\\n  },\\n  {\\n    \"firstName\": \"Bojan\",\\n    \"lastName\": \"Bogdanovic\",\\n    \"playerId\": 202711,\\n    \"teamId\": 1610612762\\n  },\\n  {\\n    \"firstName\": \"Bol\",\\n    \"lastName\": \"Bol\",\\n    \"playerId\": 1629626,\\n    \"teamId\": 1610612743\\n  },\\n  {\\n    \"firstName\": \"Marques\",\\n    \"lastName\": \"Bolden\",\\n    \"playerId\": 1629716,\\n    \"teamId\": 0\\n  },\\n  {\\n    \"firstName\": \"Jordan\",\\n    \"lastName\": \"Bone\",\\n    \"playerId\": 1629648,\\n    \"teamId\": 0\\n  },\\n  {\\n    \"firstName\": \"Isaac\",\\n    \"lastName\": \"Bonga\",\\n    \"playerId\": 1629067,\\n    \"teamId\": 1610612764\\n  },\\n  {\\n    \"firstName\": \"Devin\",\\n    \"lastName\": \"Booker\",\\n    \"playerId\": 1626164,\\n    \"teamId\": 1610612756\\n  },\\n  {\\n    \"firstName\": \"Chris\",\\n    \"lastName\": \"Boucher\",\\n    \"playerId\": 1628449,\\n    \"teamId\": 1610612761\\n  },\\n  {\\n    \"firstName\": \"Brian\",\\n    \"lastName\": \"Bowen II\",\\n    \"playerId\": 1628968,\\n    \"teamId\": 0\\n  },\\n  {\\n    \"firstName\": \"Avery\",\\n    \"lastName\": \"Bradley\",\\n    \"playerId\": 202340,\\n    \"teamId\": 1610612745\\n  },\\n  {\\n    \"firstName\": \"Tony\",\\n    \"lastName\": \"Bradley\",\\n    \"playerId\": 1628396,\\n    \"teamId\": 1610612760\\n  },\\n  {\\n    \"firstName\": \"Jarrell\",\\n    \"lastName\": \"Brantley\",\\n    \"playerId\": 1629714,\\n    \"teamId\": 1610612762\\n  },\\n  {\\n    \"firstName\": \"Ignas\",\\n    \"lastName\": \"Brazdeikis\",\\n    \"playerId\": 1629649,\\n    \"teamId\": 1610612753\\n  },\\n  {\\n    \"firstName\": \"Mikal\",\\n    \"lastName\": \"Bridges\",\\n    \"playerId\": 1628969,\\n    \"teamId\": 1610612756\\n  },\\n  {\\n    \"firstName\": \"Miles\",\\n    \"lastName\": \"Bridges\",\\n    \"playerId\": 1628970,\\n    \"teamId\": 1610612766\\n  },\\n  {\\n    \"firstName\": \"Amida\",\\n    \"lastName\": \"Brimah\",\\n    \"playerId\": 1628578,\\n    \"teamId\": 1610612754\\n  },\\n  {\\n    \"firstName\": \"Oshae\",\\n    \"lastName\": \"Brissett\",\\n    \"playerId\": 1629052,\\n    \"teamId\": 1610612754\\n  },\\n  {\\n    \"firstName\": \"Malcolm\",\\n    \"lastName\": \"Brogdon\",\\n    \"playerId\": 1627763,\\n    \"teamId\": 1610612754\\n  },\\n  {\\n    \"firstName\": \"Armoni\",\\n    \"lastName\": \"Brooks\",\\n    \"playerId\": 1629717,\\n    \"teamId\": 1610612745\\n  },\\n  {\\n    \"firstName\": \"Dillon\",\\n    \"lastName\": \"Brooks\",\\n    \"playerId\": 1628415,\\n    \"teamId\": 1610612763\\n  },\\n  {\\n    \"firstName\": \"Bruce\",\\n    \"lastName\": \"Brown\",\\n    \"playerId\": 1628971,\\n    \"teamId\": 1610612751\\n  },\\n  {\\n    \"firstName\": \"Jaylen\",\\n    \"lastName\": \"Brown\",\\n    \"playerId\": 1627759,\\n    \"teamId\": 1610612738\\n  },\\n  {\\n    \"firstName\": \"Moses\",\\n    \"lastName\": \"Brown\",\\n    \"playerId\": 1629650,\\n    \"teamId\": 1610612760\\n  },\\n  {\\n    \"firstName\": \"Sterling\",\\n    \"lastName\": \"Brown\",\\n    \"playerId\": 1628425,\\n    \"teamId\": 1610612745\\n  },\\n  {\\n    \"firstName\": \"Charlie\",\\n    \"lastName\": \"Brown Jr.\",\\n    \"playerId\": 1629718,\\n    \"teamId\": 1610612760\\n  },\\n  {\\n    \"firstName\": \"Troy\",\\n    \"lastName\": \"Brown Jr.\",\\n    \"playerId\": 1628972,\\n    \"teamId\": 1610612741\\n  },\\n  {\\n    \"firstName\": \"Jalen\",\\n    \"lastName\": \"Brunson\",\\n    \"playerId\": 1628973,\\n    \"teamId\": 1610612742\\n  },\\n  {\\n    \"firstName\": \"Elijah\",\\n    \"lastName\": \"Bryant\",\\n    \"playerId\": 1629091,\\n    \"teamId\": 1610612749\\n  },\\n  {\\n    \"firstName\": \"Thomas\",\\n    \"lastName\": \"Bryant\",\\n    \"playerId\": 1628418,\\n    \"teamId\": 1610612764\\n  },\\n  {\\n    \"firstName\": \"Reggie\",\\n    \"lastName\": \"Bullock\",\\n    \"playerId\": 203493,\\n    \"teamId\": 1610612752\\n  },\\n  {\\n    \"firstName\": \"Trey\",\\n    \"lastName\": \"Burke\",\\n    \"playerId\": 203504,\\n    \"teamId\": 1610612742\\n  },\\n  {\\n    \"firstName\": \"Alec\",\\n    \"lastName\": \"Burks\",\\n    \"playerId\": 202692,\\n    \"teamId\": 1610612752\\n  },\\n  {\\n    \"firstName\": \"Jimmy\",\\n    \"lastName\": \"Butler\",\\n    \"playerId\": 202710,\\n    \"teamId\": 1610612748\\n  },\\n  {\\n    \"firstName\": \"Bruno\",\\n    \"lastName\": \"Caboclo\",\\n    \"playerId\": 203998,\\n    \"teamId\": 0\\n  },\\n  {\\n    \"firstName\": \"Devontae\",\\n    \"lastName\": \"Cacok\",\\n    \"playerId\": 1629719,\\n    \"teamId\": 1610612747\\n  },\\n  {\\n    \"firstName\": \"Kentavious\",\\n    \"lastName\": \"Caldwell-Pope\",\\n    \"playerId\": 203484,\\n    \"teamId\": 1610612747\\n  },\\n  {\\n    \"firstName\": \"Facundo\",\\n    \"lastName\": \"Campazzo\",\\n    \"playerId\": 1630267,\\n    \"teamId\": 1610612743\\n  },\\n  {\\n    \"firstName\": \"Vlatko\",\\n    \"lastName\": \"Cancar\",\\n    \"playerId\": 1628427,\\n    \"teamId\": 1610612743\\n  },\\n  {\\n    \"firstName\": \"Devin\",\\n    \"lastName\": \"Cannady\",\\n    \"playerId\": 1629962,\\n    \"teamId\": 0\\n  },\\n  {\\n    \"firstName\": \"Clint\",\\n    \"lastName\": \"Capela\",\\n    \"playerId\": 203991,\\n    \"teamId\": 1610612737\\n  },\\n  {\\n    \"firstName\": \"Vernon\",\\n    \"lastName\": \"Carey Jr.\",\\n    \"playerId\": 1630176,\\n    \"teamId\": 1610612766\\n  },\\n  {\\n    \"firstName\": \"Jevon\",\\n    \"lastName\": \"Carter\",\\n    \"playerId\": 1628975,\\n    \"teamId\": 1610612756\\n  },\\n  {\\n    \"firstName\": \"Wendell\",\\n    \"lastName\": \"Carter Jr.\",\\n    \"playerId\": 1628976,\\n    \"teamId\": 1610612753\\n  },\\n  {\\n    \"firstName\": \"Michael\",\\n    \"lastName\": \"Carter-Williams\",\\n    \"playerId\": 203487,\\n    \"teamId\": 1610612753\\n  },\\n  {\\n    \"firstName\": \"Alex\",\\n    \"lastName\": \"Caruso\",\\n    \"playerId\": 1627936,\\n    \"teamId\": 1610612747\\n  },\\n  {\\n    \"firstName\": \"Willie\",\\n    \"lastName\": \"Cauley-Stein\",\\n    \"playerId\": 1626161,\\n    \"teamId\": 1610612742\\n  },\\n  {\\n    \"firstName\": \"Chris\",\\n    \"lastName\": \"Chiozza\",\\n    \"playerId\": 1629185,\\n    \"teamId\": 1610612751\\n  },\\n  {\\n    \"firstName\": \"Marquese\",\\n    \"lastName\": \"Chriss\",\\n    \"playerId\": 1627737,\\n    \"teamId\": 0\\n  },\\n  {\\n    \"firstName\": \"Gary\",\\n    \"lastName\": \"Clark\",\\n    \"playerId\": 1629109,\\n    \"teamId\": 1610612755\\n  },\\n  {\\n    \"firstName\": \"Brandon\",\\n    \"lastName\": \"Clarke\",\\n    \"playerId\": 1629634,\\n    \"teamId\": 1610612763\\n  },\\n  {\\n    \"firstName\": \"Jordan\",\\n    \"lastName\": \"Clarkson\",\\n    \"playerId\": 203903,\\n    \"teamId\": 1610612762\\n  },\\n  {\\n    \"firstName\": \"Nicolas\",\\n    \"lastName\": \"Claxton\",\\n    \"playerId\": 1629651,\\n    \"teamId\": 1610612751\\n  },\\n  {\\n    \"firstName\": \"Amir\",\\n    \"lastName\": \"Coffey\",\\n    \"playerId\": 1629599,\\n    \"teamId\": 1610612746\\n  },\\n  {\\n    \"firstName\": \"John\",\\n    \"lastName\": \"Collins\",\\n    \"playerId\": 1628381,\\n    \"teamId\": 1610612737\\n  },\\n  {\\n    \"firstName\": \"Zach\",\\n    \"lastName\": \"Collins\",\\n    \"playerId\": 1628380,\\n    \"teamId\": 1610612757\\n  },\\n  {\\n    \"firstName\": \"Mike\",\\n    \"lastName\": \"Conley\",\\n    \"playerId\": 201144,\\n    \"teamId\": 1610612762\\n  },\\n  {\\n    \"firstName\": \"Pat\",\\n    \"lastName\": \"Connaughton\",\\n    \"playerId\": 1626192,\\n    \"teamId\": 1610612749\\n  },\\n  {\\n    \"firstName\": \"Quinn\",\\n    \"lastName\": \"Cook\",\\n    \"playerId\": 1626188,\\n    \"teamId\": 0\\n  },\\n  {\\n    \"firstName\": \"Tyler\",\\n    \"lastName\": \"Cook\",\\n    \"playerId\": 1629076,\\n    \"teamId\": 1610612765\\n  },\\n  {\\n    \"firstName\": \"DeMarcus\",\\n    \"lastName\": \"Cousins\",\\n    \"playerId\": 202326,\\n    \"teamId\": 1610612746\\n  },\\n  {\\n    \"firstName\": \"Robert\",\\n    \"lastName\": \"Covington\",\\n    \"playerId\": 203496,\\n    \"teamId\": 1610612757\\n  },\\n  {\\n    \"firstName\": \"Torrey\",\\n    \"lastName\": \"Craig\",\\n    \"playerId\": 1628470,\\n    \"teamId\": 1610612756\\n  },\\n  {\\n    \"firstName\": \"Jae\",\\n    \"lastName\": \"Crowder\",\\n    \"playerId\": 203109,\\n    \"teamId\": 1610612756\\n  },\\n  {\\n    \"firstName\": \"Jarrett\",\\n    \"lastName\": \"Culver\",\\n    \"playerId\": 1629633,\\n    \"teamId\": 1610612750\\n  },\\n  {\\n    \"firstName\": \"Seth\",\\n    \"lastName\": \"Curry\",\\n    \"playerId\": 203552,\\n    \"teamId\": 1610612755\\n  },\\n  {\\n    \"firstName\": \"Stephen\",\\n    \"lastName\": \"Curry\",\\n    \"playerId\": 201939,\\n    \"teamId\": 1610612744\\n  },\\n  {\\n    \"firstName\": \"Nate\",\\n    \"lastName\": \"Darling\",\\n    \"playerId\": 1630268,\\n    \"teamId\": 1610612766\\n  },\\n  {\\n    \"firstName\": \"Anthony\",\\n    \"lastName\": \"Davis\",\\n    \"playerId\": 203076,\\n    \"teamId\": 1610612747\\n  },\\n  {\\n    \"firstName\": \"Ed\",\\n    \"lastName\": \"Davis\",\\n    \"playerId\": 202334,\\n    \"teamId\": 1610612750\\n  },\\n  {\\n    \"firstName\": \"Terence\",\\n    \"lastName\": \"Davis\",\\n    \"playerId\": 1629056,\\n    \"teamId\": 1610612758\\n  },\\n  {\\n    \"firstName\": \"DeMar\",\\n    \"lastName\": \"DeRozan\",\\n    \"playerId\": 201942,\\n    \"teamId\": 1610612759\\n  },\\n  {\\n    \"firstName\": \"Gabriel\",\\n    \"lastName\": \"Deck\",\\n    \"playerId\": 1630466,\\n    \"teamId\": 1610612760\\n  },\\n  {\\n    \"firstName\": \"Dewayne\",\\n    \"lastName\": \"Dedmon\",\\n    \"playerId\": 203473,\\n    \"teamId\": 1610612748\\n  },\\n  {\\n    \"firstName\": \"Matthew\",\\n    \"lastName\": \"Dellavedova\",\\n    \"playerId\": 203521,\\n    \"teamId\": 1610612739\\n  },\\n  {\\n    \"firstName\": \"Donte\",\\n    \"lastName\": \"DiVincenzo\",\\n    \"playerId\": 1628978,\\n    \"teamId\": 1610612749\\n  },\\n  {\\n    \"firstName\": \"Mamadi\",\\n    \"lastName\": \"Diakite\",\\n    \"playerId\": 1629603,\\n    \"teamId\": 1610612749\\n  },\\n  {\\n    \"firstName\": \"Hamidou\",\\n    \"lastName\": \"Diallo\",\\n    \"playerId\": 1628977,\\n    \"teamId\": 1610612765\\n  },\\n  {\\n    \"firstName\": \"Gorgui\",\\n    \"lastName\": \"Dieng\",\\n    \"playerId\": 203476,\\n    \"teamId\": 1610612759\\n  },\\n  {\\n    \"firstName\": \"Spencer\",\\n    \"lastName\": \"Dinwiddie\",\\n    \"playerId\": 203915,\\n    \"teamId\": 1610612751\\n  },\\n  {\\n    \"firstName\": \"Luka\",\\n    \"lastName\": \"Doncic\",\\n    \"playerId\": 1629029,\\n    \"teamId\": 1610612742\\n  },\\n  {\\n    \"firstName\": \"Luguentz\",\\n    \"lastName\": \"Dort\",\\n    \"playerId\": 1629652,\\n    \"teamId\": 1610612760\\n  },\\n  {\\n    \"firstName\": \"Damyean\",\\n    \"lastName\": \"Dotson\",\\n    \"playerId\": 1628422,\\n    \"teamId\": 1610612739\\n  },\\n  {\\n    \"firstName\": \"Devon\",\\n    \"lastName\": \"Dotson\",\\n    \"playerId\": 1629653,\\n    \"teamId\": 1610612741\\n  },\\n  {\\n    \"firstName\": \"Sekou\",\\n    \"lastName\": \"Doumbouya\",\\n    \"playerId\": 1629635,\\n    \"teamId\": 1610612765\\n  },\\n  {\\n    \"firstName\": \"PJ\",\\n    \"lastName\": \"Dozier\",\\n    \"playerId\": 1628408,\\n    \"teamId\": 1610612743\\n  },\\n  {\\n    \"firstName\": \"Goran\",\\n    \"lastName\": \"Dragic\",\\n    \"playerId\": 201609,\\n    \"teamId\": 1610612748\\n  },\\n  {\\n    \"firstName\": \"Andre\",\\n    \"lastName\": \"Drummond\",\\n    \"playerId\": 203083,\\n    \"teamId\": 1610612747\\n  },\\n  {\\n    \"firstName\": \"Jared\",\\n    \"lastName\": \"Dudley\",\\n    \"playerId\": 201162,\\n    \"teamId\": 1610612747\\n  },\\n  {\\n    \"firstName\": \"Kris\",\\n    \"lastName\": \"Dunn\",\\n    \"playerId\": 1627739,\\n    \"teamId\": 1610612737\\n  },\\n  {\\n    \"firstName\": \"Kevin\",\\n    \"lastName\": \"Durant\",\\n    \"playerId\": 201142,\\n    \"teamId\": 1610612751\\n  },\\n  {\\n    \"firstName\": \"Anthony\",\\n    \"lastName\": \"Edwards\",\\n    \"playerId\": 1630162,\\n    \"teamId\": 1610612750\\n  },\\n  {\\n    \"firstName\": \"Carsen\",\\n    \"lastName\": \"Edwards\",\\n    \"playerId\": 1629035,\\n    \"teamId\": 1610612738\\n  },\\n  {\\n    \"firstName\": \"CJ\",\\n    \"lastName\": \"Elleby\",\\n    \"playerId\": 1629604,\\n    \"teamId\": 1610612757\\n  },\\n  {\\n    \"firstName\": \"Henry\",\\n    \"lastName\": \"Ellenson\",\\n    \"playerId\": 1627740,\\n    \"teamId\": 0\\n  },\\n  {\\n    \"firstName\": \"Wayne\",\\n    \"lastName\": \"Ellington\",\\n    \"playerId\": 201961,\\n    \"teamId\": 1610612765\\n  },\\n  {\\n    \"firstName\": \"Joel\",\\n    \"lastName\": \"Embiid\",\\n    \"playerId\": 203954,\\n    \"teamId\": 1610612755\\n  },\\n  {\\n    \"firstName\": \"James\",\\n    \"lastName\": \"Ennis III\",\\n    \"playerId\": 203516,\\n    \"teamId\": 1610612753\\n  },\\n  {\\n    \"firstName\": \"Drew\",\\n    \"lastName\": \"Eubanks\",\\n    \"playerId\": 1629234,\\n    \"teamId\": 1610612759\\n  },\\n  {\\n    \"firstName\": \"Dante\",\\n    \"lastName\": \"Exum\",\\n    \"playerId\": 203957,\\n    \"teamId\": 1610612745\\n  },\\n  {\\n    \"firstName\": \"Tacko\",\\n    \"lastName\": \"Fall\",\\n    \"playerId\": 1629605,\\n    \"teamId\": 1610612738\\n  },\\n  {\\n    \"firstName\": \"Derrick\",\\n    \"lastName\": \"Favors\",\\n    \"playerId\": 202324,\\n    \"teamId\": 1610612762\\n  },\\n  {\\n    \"firstName\": \"Cristiano\",\\n    \"lastName\": \"Felicio\",\\n    \"playerId\": 1626245,\\n    \"teamId\": 1610612741\\n  },\\n  {\\n    \"firstName\": \"Terrance\",\\n    \"lastName\": \"Ferguson\",\\n    \"playerId\": 1628390,\\n    \"teamId\": 0\\n  },\\n  {\\n    \"firstName\": \"Bruno\",\\n    \"lastName\": \"Fernando\",\\n    \"playerId\": 1628981,\\n    \"teamId\": 1610612737\\n  },\\n  {\\n    \"firstName\": \"Yogi\",\\n    \"lastName\": \"Ferrell\",\\n    \"playerId\": 1627812,\\n    \"teamId\": 1610612746\\n  },\\n  {\\n    \"firstName\": \"Dorian\",\\n    \"lastName\": \"Finney-Smith\",\\n    \"playerId\": 1627827,\\n    \"teamId\": 1610612742\\n  },\\n  {\\n    \"firstName\": \"Malik\",\\n    \"lastName\": \"Fitts\",\\n    \"playerId\": 1630238,\\n    \"teamId\": 0\\n  },\\n  {\\n    \"firstName\": \"Malachi\",\\n    \"lastName\": \"Flynn\",\\n    \"playerId\": 1630201,\\n    \"teamId\": 1610612761\\n  },\\n  {\\n    \"firstName\": \"Bryn\",\\n    \"lastName\": \"Forbes\",\\n    \"playerId\": 1627854,\\n    \"teamId\": 1610612749\\n  },\\n  {\\n    \"firstName\": \"Trent\",\\n    \"lastName\": \"Forrest\",\\n    \"playerId\": 1630235,\\n    \"teamId\": 1610612762\\n  },\\n  {\\n    \"firstName\": \"Evan\",\\n    \"lastName\": \"Fournier\",\\n    \"playerId\": 203095,\\n    \"teamId\": 1610612738\\n  },\\n  {\\n    \"firstName\": \"De\\'Aaron\",\\n    \"lastName\": \"Fox\",\\n    \"playerId\": 1628368,\\n    \"teamId\": 1610612758\\n  },\\n  {\\n    \"firstName\": \"Robert\",\\n    \"lastName\": \"Franks\",\\n    \"playerId\": 1629606,\\n    \"teamId\": 0\\n  },\\n  {\\n    \"firstName\": \"Tim\",\\n    \"lastName\": \"Frazier\",\\n    \"playerId\": 204025,\\n    \"teamId\": 1610612763\\n  },\\n  {\\n    \"firstName\": \"Markelle\",\\n    \"lastName\": \"Fultz\",\\n    \"playerId\": 1628365,\\n    \"teamId\": 1610612753\\n  },\\n  {\\n    \"firstName\": \"Wenyen\",\\n    \"lastName\": \"Gabriel\",\\n    \"playerId\": 1629117,\\n    \"teamId\": 1610612740\\n  },\\n  {\\n    \"firstName\": \"Daniel\",\\n    \"lastName\": \"Gafford\",\\n    \"playerId\": 1629655,\\n    \"teamId\": 1610612764\\n  },\\n  {\\n    \"firstName\": \"Danilo\",\\n    \"lastName\": \"Gallinari\",\\n    \"playerId\": 201568,\\n    \"teamId\": 1610612737\\n  },\\n  {\\n    \"firstName\": \"Langston\",\\n    \"lastName\": \"Galloway\",\\n    \"playerId\": 204038,\\n    \"teamId\": 1610612756\\n  },\\n  {\\n    \"firstName\": \"Darius\",\\n    \"lastName\": \"Garland\",\\n    \"playerId\": 1629636,\\n    \"teamId\": 1610612739\\n  },\\n  {\\n    \"firstName\": \"Marc\",\\n    \"lastName\": \"Gasol\",\\n    \"playerId\": 201188,\\n    \"teamId\": 1610612747\\n  },\\n  {\\n    \"firstName\": \"Rudy\",\\n    \"lastName\": \"Gay\",\\n    \"playerId\": 200752,\\n    \"teamId\": 1610612759\\n  },\\n  {\\n    \"firstName\": \"Paul\",\\n    \"lastName\": \"George\",\\n    \"playerId\": 202331,\\n    \"teamId\": 1610612746\\n  },\\n  {\\n    \"firstName\": \"Taj\",\\n    \"lastName\": \"Gibson\",\\n    \"playerId\": 201959,\\n    \"teamId\": 1610612752\\n  },\\n  {\\n    \"firstName\": \"Harry\",\\n    \"lastName\": \"Giles III\",\\n    \"playerId\": 1628385,\\n    \"teamId\": 1610612757\\n  },\\n  {\\n    \"firstName\": \"Shai\",\\n    \"lastName\": \"Gilgeous-Alexander\",\\n    \"playerId\": 1628983,\\n    \"teamId\": 1610612760\\n  },\\n  {\\n    \"firstName\": \"Anthony\",\\n    \"lastName\": \"Gill\",\\n    \"playerId\": 1630264,\\n    \"teamId\": 1610612764\\n  },\\n  {\\n    \"firstName\": \"Freddie\",\\n    \"lastName\": \"Gillespie\",\\n    \"playerId\": 1630273,\\n    \"teamId\": 1610612761\\n  },\\n  {\\n    \"firstName\": \"Rudy\",\\n    \"lastName\": \"Gobert\",\\n    \"playerId\": 203497,\\n    \"teamId\": 1610612762\\n  },\\n  {\\n    \"firstName\": \"Brandon\",\\n    \"lastName\": \"Goodwin\",\\n    \"playerId\": 1629164,\\n    \"teamId\": 1610612737\\n  },\\n  {\\n    \"firstName\": \"Aaron\",\\n    \"lastName\": \"Gordon\",\\n    \"playerId\": 203932,\\n    \"teamId\": 1610612743\\n  },\\n  {\\n    \"firstName\": \"Eric\",\\n    \"lastName\": \"Gordon\",\\n    \"playerId\": 201569,\\n    \"teamId\": 1610612745\\n  },\\n  {\\n    \"firstName\": \"Devonte\\'\",\\n    \"lastName\": \"Graham\",\\n    \"playerId\": 1628984,\\n    \"teamId\": 1610612766\\n  },\\n  {\\n    \"firstName\": \"Jerami\",\\n    \"lastName\": \"Grant\",\\n    \"playerId\": 203924,\\n    \"teamId\": 1610612765\\n  },\\n  {\\n    \"firstName\": \"Danny\",\\n    \"lastName\": \"Green\",\\n    \"playerId\": 201980,\\n    \"teamId\": 1610612755\\n  },\\n  {\\n    \"firstName\": \"Draymond\",\\n    \"lastName\": \"Green\",\\n    \"playerId\": 203110,\\n    \"teamId\": 1610612744\\n  },\\n  {\\n    \"firstName\": \"JaMychal\",\\n    \"lastName\": \"Green\",\\n    \"playerId\": 203210,\\n    \"teamId\": 1610612743\\n  },\\n  {\\n    \"firstName\": \"Javonte\",\\n    \"lastName\": \"Green\",\\n    \"playerId\": 1629750,\\n    \"teamId\": 1610612741\\n  },\\n  {\\n    \"firstName\": \"Jeff\",\\n    \"lastName\": \"Green\",\\n    \"playerId\": 201145,\\n    \"teamId\": 1610612751\\n  },\\n  {\\n    \"firstName\": \"Josh\",\\n    \"lastName\": \"Green\",\\n    \"playerId\": 1630182,\\n    \"teamId\": 1610612742\\n  },\\n  {\\n    \"firstName\": \"Blake\",\\n    \"lastName\": \"Griffin\",\\n    \"playerId\": 201933,\\n    \"teamId\": 1610612751\\n  },\\n  {\\n    \"firstName\": \"Kyle\",\\n    \"lastName\": \"Guy\",\\n    \"playerId\": 1629657,\\n    \"teamId\": 1610612758\\n  },\\n  {\\n    \"firstName\": \"Rui\",\\n    \"lastName\": \"Hachimura\",\\n    \"playerId\": 1629060,\\n    \"teamId\": 1610612764\\n  },\\n  {\\n    \"firstName\": \"Ashton\",\\n    \"lastName\": \"Hagans\",\\n    \"playerId\": 1630204,\\n    \"teamId\": 0\\n  },\\n  {\\n    \"firstName\": \"Tyrese\",\\n    \"lastName\": \"Haliburton\",\\n    \"playerId\": 1630169,\\n    \"teamId\": 1610612758\\n  },\\n  {\\n    \"firstName\": \"Donta\",\\n    \"lastName\": \"Hall\",\\n    \"playerId\": 1629743,\\n    \"teamId\": 1610612753\\n  },\\n  {\\n    \"firstName\": \"Josh\",\\n    \"lastName\": \"Hall\",\\n    \"playerId\": 1630221,\\n    \"teamId\": 1610612760\\n  },\\n  {\\n    \"firstName\": \"R.J.\",\\n    \"lastName\": \"Hampton\",\\n    \"playerId\": 1630181,\\n    \"teamId\": 1610612753\\n  },\\n  {\\n    \"firstName\": \"Tim\",\\n    \"lastName\": \"Hardaway Jr.\",\\n    \"playerId\": 203501,\\n    \"teamId\": 1610612742\\n  },\\n  {\\n    \"firstName\": \"James\",\\n    \"lastName\": \"Harden\",\\n    \"playerId\": 201935,\\n    \"teamId\": 1610612751\\n  },\\n  {\\n    \"firstName\": \"Maurice\",\\n    \"lastName\": \"Harkless\",\\n    \"playerId\": 203090,\\n    \"teamId\": 1610612758\\n  },\\n  {\\n    \"firstName\": \"Jared\",\\n    \"lastName\": \"Harper\",\\n    \"playerId\": 1629607,\\n    \"teamId\": 1610612752\\n  },\\n  {\\n    \"firstName\": \"Montrezl\",\\n    \"lastName\": \"Harrell\",\\n    \"playerId\": 1626149,\\n    \"teamId\": 1610612747\\n  },\\n  {\\n    \"firstName\": \"Gary\",\\n    \"lastName\": \"Harris\",\\n    \"playerId\": 203914,\\n    \"teamId\": 1610612753\\n  },\\n  {\\n    \"firstName\": \"Jalen\",\\n    \"lastName\": \"Harris\",\\n    \"playerId\": 1630223,\\n    \"teamId\": 1610612761\\n  },\\n  {\\n    \"firstName\": \"Joe\",\\n    \"lastName\": \"Harris\",\\n    \"playerId\": 203925,\\n    \"teamId\": 1610612751\\n  },\\n  {\\n    \"firstName\": \"Tobias\",\\n    \"lastName\": \"Harris\",\\n    \"playerId\": 202699,\\n    \"teamId\": 1610612755\\n  },\\n  {\\n    \"firstName\": \"Shaquille\",\\n    \"lastName\": \"Harrison\",\\n    \"playerId\": 1627885,\\n    \"teamId\": 1610612743\\n  },\\n  {\\n    \"firstName\": \"Josh\",\\n    \"lastName\": \"Hart\",\\n    \"playerId\": 1628404,\\n    \"teamId\": 1610612740\\n  },\\n  {\\n    \"firstName\": \"Isaiah\",\\n    \"lastName\": \"Hartenstein\",\\n    \"playerId\": 1628392,\\n    \"teamId\": 1610612739\\n  },\\n  {\\n    \"firstName\": \"Udonis\",\\n    \"lastName\": \"Haslem\",\\n    \"playerId\": 2617,\\n    \"teamId\": 1610612748\\n  },\\n  {\\n    \"firstName\": \"Jaxson\",\\n    \"lastName\": \"Hayes\",\\n    \"playerId\": 1629637,\\n    \"teamId\": 1610612740\\n  },\\n  {\\n    \"firstName\": \"Killian\",\\n    \"lastName\": \"Hayes\",\\n    \"playerId\": 1630165,\\n    \"teamId\": 1610612765\\n  },\\n  {\\n    \"firstName\": \"Gordon\",\\n    \"lastName\": \"Hayward\",\\n    \"playerId\": 202330,\\n    \"teamId\": 1610612766\\n  },\\n  {\\n    \"firstName\": \"Juancho\",\\n    \"lastName\": \"Hernangomez\",\\n    \"playerId\": 1627823,\\n    \"teamId\": 1610612750\\n  },\\n  {\\n    \"firstName\": \"Willy\",\\n    \"lastName\": \"Hernangomez\",\\n    \"playerId\": 1626195,\\n    \"teamId\": 1610612740\\n  },\\n  {\\n    \"firstName\": \"Tyler\",\\n    \"lastName\": \"Herro\",\\n    \"playerId\": 1629639,\\n    \"teamId\": 1610612748\\n  },\\n  {\\n    \"firstName\": \"Buddy\",\\n    \"lastName\": \"Hield\",\\n    \"playerId\": 1627741,\\n    \"teamId\": 1610612758\\n  },\\n  {\\n    \"firstName\": \"George\",\\n    \"lastName\": \"Hill\",\\n    \"playerId\": 201588,\\n    \"teamId\": 1610612755\\n  },\\n  {\\n    \"firstName\": \"Solomon\",\\n    \"lastName\": \"Hill\",\\n    \"playerId\": 203524,\\n    \"teamId\": 1610612737\\n  },\\n  {\\n    \"firstName\": \"Nate\",\\n    \"lastName\": \"Hinton\",\\n    \"playerId\": 1630207,\\n    \"teamId\": 1610612742\\n  },\\n  {\\n    \"firstName\": \"Jaylen\",\\n    \"lastName\": \"Hoard\",\\n    \"playerId\": 1629658,\\n    \"teamId\": 1610612760\\n  },\\n  {\\n    \"firstName\": \"Aaron\",\\n    \"lastName\": \"Holiday\",\\n    \"playerId\": 1628988,\\n    \"teamId\": 1610612754\\n  },\\n  {\\n    \"firstName\": \"Jrue\",\\n    \"lastName\": \"Holiday\",\\n    \"playerId\": 201950,\\n    \"teamId\": 1610612749\\n  },\\n  {\\n    \"firstName\": \"Justin\",\\n    \"lastName\": \"Holiday\",\\n    \"playerId\": 203200,\\n    \"teamId\": 1610612754\\n  },\\n  {\\n    \"firstName\": \"Rondae\",\\n    \"lastName\": \"Hollis-Jefferson\",\\n    \"playerId\": 1626178,\\n    \"teamId\": 1610612757\\n  },\\n  {\\n    \"firstName\": \"Richaun\",\\n    \"lastName\": \"Holmes\",\\n    \"playerId\": 1626158,\\n    \"teamId\": 1610612758\\n  },\\n  {\\n    \"firstName\": \"Rodney\",\\n    \"lastName\": \"Hood\",\\n    \"playerId\": 203918,\\n    \"teamId\": 1610612761\\n  },\\n  {\\n    \"firstName\": \"Al\",\\n    \"lastName\": \"Horford\",\\n    \"playerId\": 201143,\\n    \"teamId\": 1610612760\\n  },\\n  {\\n    \"firstName\": \"Talen\",\\n    \"lastName\": \"Horton-Tucker\",\\n    \"playerId\": 1629659,\\n    \"teamId\": 1610612747\\n  },\\n  {\\n    \"firstName\": \"Danuel\",\\n    \"lastName\": \"House Jr.\",\\n    \"playerId\": 1627863,\\n    \"teamId\": 1610612745\\n  },\\n  {\\n    \"firstName\": \"Dwight\",\\n    \"lastName\": \"Howard\",\\n    \"playerId\": 2730,\\n    \"teamId\": 1610612755\\n  },\\n  {\\n    \"firstName\": \"Markus\",\\n    \"lastName\": \"Howard\",\\n    \"playerId\": 1630210,\\n    \"teamId\": 1610612743\\n  },\\n  {\\n    \"firstName\": \"Kevin\",\\n    \"lastName\": \"Huerter\",\\n    \"playerId\": 1628989,\\n    \"teamId\": 1610612737\\n  },\\n  {\\n    \"firstName\": \"Elijah\",\\n    \"lastName\": \"Hughes\",\\n    \"playerId\": 1630190,\\n    \"teamId\": 1610612762\\n  },\\n  {\\n    \"firstName\": \"De\\'Andre\",\\n    \"lastName\": \"Hunter\",\\n    \"playerId\": 1629631,\\n    \"teamId\": 1610612737\\n  },\\n  {\\n    \"firstName\": \"Chandler\",\\n    \"lastName\": \"Hutchison\",\\n    \"playerId\": 1628990,\\n    \"teamId\": 1610612764\\n  },\\n  {\\n    \"firstName\": \"Serge\",\\n    \"lastName\": \"Ibaka\",\\n    \"playerId\": 201586,\\n    \"teamId\": 1610612746\\n  },\\n  {\\n    \"firstName\": \"Andre\",\\n    \"lastName\": \"Iguodala\",\\n    \"playerId\": 2738,\\n    \"teamId\": 1610612748\\n  },\\n  {\\n    \"firstName\": \"Ersan\",\\n    \"lastName\": \"Ilyasova\",\\n    \"playerId\": 101141,\\n    \"teamId\": 1610612762\\n  },\\n  {\\n    \"firstName\": \"Joe\",\\n    \"lastName\": \"Ingles\",\\n    \"playerId\": 204060,\\n    \"teamId\": 1610612762\\n  },\\n  {\\n    \"firstName\": \"Brandon\",\\n    \"lastName\": \"Ingram\",\\n    \"playerId\": 1627742,\\n    \"teamId\": 1610612740\\n  },\\n  {\\n    \"firstName\": \"Kyrie\",\\n    \"lastName\": \"Irving\",\\n    \"playerId\": 202681,\\n    \"teamId\": 1610612751\\n  },\\n  {\\n    \"firstName\": \"Jonathan\",\\n    \"lastName\": \"Isaac\",\\n    \"playerId\": 1628371,\\n    \"teamId\": 1610612753\\n  },\\n  {\\n    \"firstName\": \"Wes\",\\n    \"lastName\": \"Iwundu\",\\n    \"playerId\": 1628411,\\n    \"teamId\": 1610612740\\n  },\\n  {\\n    \"firstName\": \"Frank\",\\n    \"lastName\": \"Jackson\",\\n    \"playerId\": 1628402,\\n    \"teamId\": 1610612765\\n  },\\n  {\\n    \"firstName\": \"Josh\",\\n    \"lastName\": \"Jackson\",\\n    \"playerId\": 1628367,\\n    \"teamId\": 1610612765\\n  },\\n  {\\n    \"firstName\": \"Justin\",\\n    \"lastName\": \"Jackson\",\\n    \"playerId\": 1628382,\\n    \"teamId\": 1610612749\\n  },\\n  {\\n    \"firstName\": \"Reggie\",\\n    \"lastName\": \"Jackson\",\\n    \"playerId\": 202704,\\n    \"teamId\": 1610612746\\n  },\\n  {\\n    \"firstName\": \"Jaren\",\\n    \"lastName\": \"Jackson Jr.\",\\n    \"playerId\": 1628991,\\n    \"teamId\": 1610612763\\n  },\\n  {\\n    \"firstName\": \"Justin\",\\n    \"lastName\": \"James\",\\n    \"playerId\": 1629713,\\n    \"teamId\": 1610612758\\n  },\\n  {\\n    \"firstName\": \"LeBron\",\\n    \"lastName\": \"James\",\\n    \"playerId\": 2544,\\n    \"teamId\": 1610612747\\n  },\\n  {\\n    \"firstName\": \"Mike\",\\n    \"lastName\": \"James\",\\n    \"playerId\": 1628455,\\n    \"teamId\": 1610612751\\n  },\\n  {\\n    \"firstName\": \"DaQuan\",\\n    \"lastName\": \"Jeffries\",\\n    \"playerId\": 1629610,\\n    \"teamId\": 0\\n  },\\n  {\\n    \"firstName\": \"Ty\",\\n    \"lastName\": \"Jerome\",\\n    \"playerId\": 1629660,\\n    \"teamId\": 1610612760\\n  },\\n  {\\n    \"firstName\": \"Isaiah\",\\n    \"lastName\": \"Joe\",\\n    \"playerId\": 1630198,\\n    \"teamId\": 1610612755\\n  },\\n  {\\n    \"firstName\": \"Alize\",\\n    \"lastName\": \"Johnson\",\\n    \"playerId\": 1628993,\\n    \"teamId\": 1610612751\\n  },\\n  {\\n    \"firstName\": \"Cameron\",\\n    \"lastName\": \"Johnson\",\\n    \"playerId\": 1629661,\\n    \"teamId\": 1610612756\\n  },\\n  {\\n    \"firstName\": \"James\",\\n    \"lastName\": \"Johnson\",\\n    \"playerId\": 201949,\\n    \"teamId\": 1610612740\\n  },\\n  {\\n    \"firstName\": \"Keldon\",\\n    \"lastName\": \"Johnson\",\\n    \"playerId\": 1629640,\\n    \"teamId\": 1610612759\\n  },\\n  {\\n    \"firstName\": \"Stanley\",\\n    \"lastName\": \"Johnson\",\\n    \"playerId\": 1626169,\\n    \"teamId\": 1610612761\\n  },\\n  {\\n    \"firstName\": \"Tyler\",\\n    \"lastName\": \"Johnson\",\\n    \"playerId\": 204020,\\n    \"teamId\": 1610612751\\n  },\\n  {\\n    \"firstName\": \"Nikola\",\\n    \"lastName\": \"Jokic\",\\n    \"playerId\": 203999,\\n    \"teamId\": 1610612743\\n  },\\n  {\\n    \"firstName\": \"Damian\",\\n    \"lastName\": \"Jones\",\\n    \"playerId\": 1627745,\\n    \"teamId\": 1610612758\\n  },\\n  {\\n    \"firstName\": \"Mason\",\\n    \"lastName\": \"Jones\",\\n    \"playerId\": 1630222,\\n    \"teamId\": 0\\n  },\\n  {\\n    \"firstName\": \"Tre\",\\n    \"lastName\": \"Jones\",\\n    \"playerId\": 1630200,\\n    \"teamId\": 1610612759\\n  },\\n  {\\n    \"firstName\": \"Tyus\",\\n    \"lastName\": \"Jones\",\\n    \"playerId\": 1626145,\\n    \"teamId\": 1610612763\\n  },\\n  {\\n    \"firstName\": \"Derrick\",\\n    \"lastName\": \"Jones Jr.\",\\n    \"playerId\": 1627884,\\n    \"teamId\": 1610612757\\n  },\\n  {\\n    \"firstName\": \"DeAndre\",\\n    \"lastName\": \"Jordan\",\\n    \"playerId\": 201599,\\n    \"teamId\": 1610612751\\n  },\\n  {\\n    \"firstName\": \"Cory\",\\n    \"lastName\": \"Joseph\",\\n    \"playerId\": 202709,\\n    \"teamId\": 1610612765\\n  },\\n  {\\n    \"firstName\": \"Mfiondu\",\\n    \"lastName\": \"Kabengele\",\\n    \"playerId\": 1629662,\\n    \"teamId\": 1610612739\\n  },\\n  {\\n    \"firstName\": \"Frank\",\\n    \"lastName\": \"Kaminsky\",\\n    \"playerId\": 1626163,\\n    \"teamId\": 1610612756\\n  },\\n  {\\n    \"firstName\": \"Enes\",\\n    \"lastName\": \"Kanter\",\\n    \"playerId\": 202683,\\n    \"teamId\": 1610612757\\n  },\\n  {\\n    \"firstName\": \"Luke\",\\n    \"lastName\": \"Kennard\",\\n    \"playerId\": 1628379,\\n    \"teamId\": 1610612746\\n  },\\n  {\\n    \"firstName\": \"Louis\",\\n    \"lastName\": \"King\",\\n    \"playerId\": 1629663,\\n    \"teamId\": 1610612758\\n  },\\n  {\\n    \"firstName\": \"Maxi\",\\n    \"lastName\": \"Kleber\",\\n    \"playerId\": 1628467,\\n    \"teamId\": 1610612742\\n  },\\n  {\\n    \"firstName\": \"Nathan\",\\n    \"lastName\": \"Knight\",\\n    \"playerId\": 1630233,\\n    \"teamId\": 1610612737\\n  },\\n  {\\n    \"firstName\": \"Kevin\",\\n    \"lastName\": \"Knox II\",\\n    \"playerId\": 1628995,\\n    \"teamId\": 1610612752\\n  },\\n  {\\n    \"firstName\": \"John\",\\n    \"lastName\": \"Konchar\",\\n    \"playerId\": 1629723,\\n    \"teamId\": 1610612763\\n  },\\n  {\\n    \"firstName\": \"Furkan\",\\n    \"lastName\": \"Korkmaz\",\\n    \"playerId\": 1627788,\\n    \"teamId\": 1610612755\\n  },\\n  {\\n    \"firstName\": \"Luke\",\\n    \"lastName\": \"Kornet\",\\n    \"playerId\": 1628436,\\n    \"teamId\": 1610612738\\n  },\\n  {\\n    \"firstName\": \"Rodions\",\\n    \"lastName\": \"Kurucs\",\\n    \"playerId\": 1629066,\\n    \"teamId\": 0\\n  },\\n  {\\n    \"firstName\": \"Kyle\",\\n    \"lastName\": \"Kuzma\",\\n    \"playerId\": 1628398,\\n    \"teamId\": 1610612747\\n  },\\n  {\\n    \"firstName\": \"Zach\",\\n    \"lastName\": \"LaVine\",\\n    \"playerId\": 203897,\\n    \"teamId\": 1610612741\\n  },\\n  {\\n    \"firstName\": \"Anthony\",\\n    \"lastName\": \"Lamb\",\\n    \"playerId\": 1630237,\\n    \"teamId\": 1610612745\\n  },\\n  {\\n    \"firstName\": \"Jeremy\",\\n    \"lastName\": \"Lamb\",\\n    \"playerId\": 203087,\\n    \"teamId\": 1610612754\\n  },\\n  {\\n    \"firstName\": \"Romeo\",\\n    \"lastName\": \"Langford\",\\n    \"playerId\": 1629641,\\n    \"teamId\": 1610612738\\n  },\\n  {\\n    \"firstName\": \"Jake\",\\n    \"lastName\": \"Layman\",\\n    \"playerId\": 1627774,\\n    \"teamId\": 1610612750\\n  },\\n  {\\n    \"firstName\": \"Caris\",\\n    \"lastName\": \"LeVert\",\\n    \"playerId\": 1627747,\\n    \"teamId\": 1610612754\\n  },\\n  {\\n    \"firstName\": \"T.J.\",\\n    \"lastName\": \"Leaf\",\\n    \"playerId\": 1628388,\\n    \"teamId\": 1610612757\\n  },\\n  {\\n    \"firstName\": \"Jalen\",\\n    \"lastName\": \"Lecque\",\\n    \"playerId\": 1629665,\\n    \"teamId\": 0\\n  },\\n  {\\n    \"firstName\": \"Damion\",\\n    \"lastName\": \"Lee\",\\n    \"playerId\": 1627814,\\n    \"teamId\": 1610612744\\n  },\\n  {\\n    \"firstName\": \"Saben\",\\n    \"lastName\": \"Lee\",\\n    \"playerId\": 1630240,\\n    \"teamId\": 1610612765\\n  },\\n  {\\n    \"firstName\": \"Alex\",\\n    \"lastName\": \"Len\",\\n    \"playerId\": 203458,\\n    \"teamId\": 1610612764\\n  },\\n  {\\n    \"firstName\": \"Kawhi\",\\n    \"lastName\": \"Leonard\",\\n    \"playerId\": 202695,\\n    \"teamId\": 1610612746\\n  },\\n  {\\n    \"firstName\": \"Meyers\",\\n    \"lastName\": \"Leonard\",\\n    \"playerId\": 203086,\\n    \"teamId\": 0\\n  },\\n  {\\n    \"firstName\": \"Kira\",\\n    \"lastName\": \"Lewis Jr.\",\\n    \"playerId\": 1630184,\\n    \"teamId\": 1610612740\\n  },\\n  {\\n    \"firstName\": \"Damian\",\\n    \"lastName\": \"Lillard\",\\n    \"playerId\": 203081,\\n    \"teamId\": 1610612757\\n  },\\n  {\\n    \"firstName\": \"Nassir\",\\n    \"lastName\": \"Little\",\\n    \"playerId\": 1629642,\\n    \"teamId\": 1610612757\\n  },\\n  {\\n    \"firstName\": \"Kevon\",\\n    \"lastName\": \"Looney\",\\n    \"playerId\": 1626172,\\n    \"teamId\": 1610612744\\n  },\\n  {\\n    \"firstName\": \"Brook\",\\n    \"lastName\": \"Lopez\",\\n    \"playerId\": 201572,\\n    \"teamId\": 1610612749\\n  },\\n  {\\n    \"firstName\": \"Robin\",\\n    \"lastName\": \"Lopez\",\\n    \"playerId\": 201577,\\n    \"teamId\": 1610612764\\n  },\\n  {\\n    \"firstName\": \"Didi\",\\n    \"lastName\": \"Louzada\",\\n    \"playerId\": 1629712,\\n    \"teamId\": 1610612740\\n  },\\n  {\\n    \"firstName\": \"Kevin\",\\n    \"lastName\": \"Love\",\\n    \"playerId\": 201567,\\n    \"teamId\": 1610612739\\n  },\\n  {\\n    \"firstName\": \"Kyle\",\\n    \"lastName\": \"Lowry\",\\n    \"playerId\": 200768,\\n    \"teamId\": 1610612761\\n  },\\n  {\\n    \"firstName\": \"Timothe\",\\n    \"lastName\": \"Luwawu-Cabarrot\",\\n    \"playerId\": 1627789,\\n    \"teamId\": 1610612751\\n  },\\n  {\\n    \"firstName\": \"Trey\",\\n    \"lastName\": \"Lyles\",\\n    \"playerId\": 1626168,\\n    \"teamId\": 1610612759\\n  },\\n  {\\n    \"firstName\": \"Will\",\\n    \"lastName\": \"Magnay\",\\n    \"playerId\": 1630266,\\n    \"teamId\": 0\\n  },\\n  {\\n    \"firstName\": \"Thon\",\\n    \"lastName\": \"Maker\",\\n    \"playerId\": 1627748,\\n    \"teamId\": 0\\n  },\\n  {\\n    \"firstName\": \"Theo\",\\n    \"lastName\": \"Maledon\",\\n    \"playerId\": 1630177,\\n    \"teamId\": 1610612760\\n  },\\n  {\\n    \"firstName\": \"Karim\",\\n    \"lastName\": \"Mane\",\\n    \"playerId\": 1630211,\\n    \"teamId\": 0\\n  },\\n  {\\n    \"firstName\": \"Terance\",\\n    \"lastName\": \"Mann\",\\n    \"playerId\": 1629611,\\n    \"teamId\": 1610612746\\n  },\\n  {\\n    \"firstName\": \"Nico\",\\n    \"lastName\": \"Mannion\",\\n    \"playerId\": 1630185,\\n    \"teamId\": 1610612744\\n  },\\n  {\\n    \"firstName\": \"Boban\",\\n    \"lastName\": \"Marjanovic\",\\n    \"playerId\": 1626246,\\n    \"teamId\": 1610612742\\n  },\\n  {\\n    \"firstName\": \"Lauri\",\\n    \"lastName\": \"Markkanen\",\\n    \"playerId\": 1628374,\\n    \"teamId\": 1610612741\\n  },\\n  {\\n    \"firstName\": \"Naji\",\\n    \"lastName\": \"Marshall\",\\n    \"playerId\": 1630230,\\n    \"teamId\": 1610612740\\n  },\\n  {\\n    \"firstName\": \"Caleb\",\\n    \"lastName\": \"Martin\",\\n    \"playerId\": 1628997,\\n    \"teamId\": 1610612766\\n  },\\n  {\\n    \"firstName\": \"Cody\",\\n    \"lastName\": \"Martin\",\\n    \"playerId\": 1628998,\\n    \"teamId\": 1610612766\\n  },\\n  {\\n    \"firstName\": \"Jeremiah\",\\n    \"lastName\": \"Martin\",\\n    \"playerId\": 1629725,\\n    \"teamId\": 1610612739\\n  },\\n  {\\n    \"firstName\": \"Kelan\",\\n    \"lastName\": \"Martin\",\\n    \"playerId\": 1629103,\\n    \"teamId\": 1610612754\\n  },\\n  {\\n    \"firstName\": \"Kenyon\",\\n    \"lastName\": \"Martin Jr.\",\\n    \"playerId\": 1630231,\\n    \"teamId\": 1610612745\\n  },\\n  {\\n    \"firstName\": \"Frank\",\\n    \"lastName\": \"Mason\",\\n    \"playerId\": 1628412,\\n    \"teamId\": 0\\n  },\\n  {\\n    \"firstName\": \"Garrison\",\\n    \"lastName\": \"Mathews\",\\n    \"playerId\": 1629726,\\n    \"teamId\": 1610612764\\n  },\\n  {\\n    \"firstName\": \"Dakota\",\\n    \"lastName\": \"Mathias\",\\n    \"playerId\": 1629751,\\n    \"teamId\": 0\\n  },\\n  {\\n    \"firstName\": \"Wesley\",\\n    \"lastName\": \"Matthews\",\\n    \"playerId\": 202083,\\n    \"teamId\": 1610612747\\n  },\\n  {\\n    \"firstName\": \"Tyrese\",\\n    \"lastName\": \"Maxey\",\\n    \"playerId\": 1630178,\\n    \"teamId\": 1610612755\\n  },\\n  {\\n    \"firstName\": \"Skylar\",\\n    \"lastName\": \"Mays\",\\n    \"playerId\": 1630219,\\n    \"teamId\": 1610612737\\n  },\\n  {\\n    \"firstName\": \"Patrick\",\\n    \"lastName\": \"McCaw\",\\n    \"playerId\": 1627775,\\n    \"teamId\": 0\\n  },\\n  {\\n    \"firstName\": \"CJ\",\\n    \"lastName\": \"McCollum\",\\n    \"playerId\": 203468,\\n    \"teamId\": 1610612757\\n  },\\n  {\\n    \"firstName\": \"T.J.\",\\n    \"lastName\": \"McConnell\",\\n    \"playerId\": 204456,\\n    \"teamId\": 1610612754\\n  },\\n  {\\n    \"firstName\": \"Jaden\",\\n    \"lastName\": \"McDaniels\",\\n    \"playerId\": 1630183,\\n    \"teamId\": 1610612750\\n  },\\n  {\\n    \"firstName\": \"Jalen\",\\n    \"lastName\": \"McDaniels\",\\n    \"playerId\": 1629667,\\n    \"teamId\": 1610612766\\n  },\\n  {\\n    \"firstName\": \"Doug\",\\n    \"lastName\": \"McDermott\",\\n    \"playerId\": 203926,\\n    \"teamId\": 1610612754\\n  },\\n  {\\n    \"firstName\": \"Sean\",\\n    \"lastName\": \"McDermott\",\\n    \"playerId\": 1630253,\\n    \"teamId\": 1610612763\\n  },\\n  {\\n    \"firstName\": \"JaVale\",\\n    \"lastName\": \"McGee\",\\n    \"playerId\": 201580,\\n    \"teamId\": 1610612743\\n  },\\n  {\\n    \"firstName\": \"Rodney\",\\n    \"lastName\": \"McGruder\",\\n    \"playerId\": 203585,\\n    \"teamId\": 1610612765\\n  },\\n  {\\n    \"firstName\": \"Alfonzo\",\\n    \"lastName\": \"McKinnie\",\\n    \"playerId\": 1628035,\\n    \"teamId\": 1610612747\\n  },\\n  {\\n    \"firstName\": \"Jordan\",\\n    \"lastName\": \"McLaughlin\",\\n    \"playerId\": 1629162,\\n    \"teamId\": 1610612750\\n  },\\n  {\\n    \"firstName\": \"Ben\",\\n    \"lastName\": \"McLemore\",\\n    \"playerId\": 203463,\\n    \"teamId\": 1610612747\\n  },\\n  {\\n    \"firstName\": \"Nicolo\",\\n    \"lastName\": \"Melli\",\\n    \"playerId\": 1629740,\\n    \"teamId\": 1610612742\\n  },\\n  {\\n    \"firstName\": \"De\\'Anthony\",\\n    \"lastName\": \"Melton\",\\n    \"playerId\": 1629001,\\n    \"teamId\": 1610612763\\n  },\\n  {\\n    \"firstName\": \"Sam\",\\n    \"lastName\": \"Merrill\",\\n    \"playerId\": 1630241,\\n    \"teamId\": 1610612749\\n  },\\n  {\\n    \"firstName\": \"Chimezie\",\\n    \"lastName\": \"Metu\",\\n    \"playerId\": 1629002,\\n    \"teamId\": 1610612758\\n  },\\n  {\\n    \"firstName\": \"Khris\",\\n    \"lastName\": \"Middleton\",\\n    \"playerId\": 203114,\\n    \"teamId\": 1610612749\\n  },\\n  {\\n    \"firstName\": \"Darius\",\\n    \"lastName\": \"Miller\",\\n    \"playerId\": 203121,\\n    \"teamId\": 0\\n  },\\n  {\\n    \"firstName\": \"Patty\",\\n    \"lastName\": \"Mills\",\\n    \"playerId\": 201988,\\n    \"teamId\": 1610612759\\n  },\\n  {\\n    \"firstName\": \"Paul\",\\n    \"lastName\": \"Millsap\",\\n    \"playerId\": 200794,\\n    \"teamId\": 1610612743\\n  },\\n  {\\n    \"firstName\": \"Shake\",\\n    \"lastName\": \"Milton\",\\n    \"playerId\": 1629003,\\n    \"teamId\": 1610612755\\n  },\\n  {\\n    \"firstName\": \"Donovan\",\\n    \"lastName\": \"Mitchell\",\\n    \"playerId\": 1628378,\\n    \"teamId\": 1610612762\\n  },\\n  {\\n    \"firstName\": \"Adam\",\\n    \"lastName\": \"Mokoka\",\\n    \"playerId\": 1629690,\\n    \"teamId\": 1610612741\\n  },\\n  {\\n    \"firstName\": \"Malik\",\\n    \"lastName\": \"Monk\",\\n    \"playerId\": 1628370,\\n    \"teamId\": 1610612766\\n  },\\n  {\\n    \"firstName\": \"E\\'Twaun\",\\n    \"lastName\": \"Moore\",\\n    \"playerId\": 202734,\\n    \"teamId\": 1610612756\\n  },\\n  {\\n    \"firstName\": \"Ja\",\\n    \"lastName\": \"Morant\",\\n    \"playerId\": 1629630,\\n    \"teamId\": 1610612763\\n  },\\n  {\\n    \"firstName\": \"Juwan\",\\n    \"lastName\": \"Morgan\",\\n    \"playerId\": 1629752,\\n    \"teamId\": 1610612762\\n  },\\n  {\\n    \"firstName\": \"Markieff\",\\n    \"lastName\": \"Morris\",\\n    \"playerId\": 202693,\\n    \"teamId\": 1610612747\\n  },\\n  {\\n    \"firstName\": \"Monte\",\\n    \"lastName\": \"Morris\",\\n    \"playerId\": 1628420,\\n    \"teamId\": 1610612743\\n  },\\n  {\\n    \"firstName\": \"Marcus\",\\n    \"lastName\": \"Morris Sr.\",\\n    \"playerId\": 202694,\\n    \"teamId\": 1610612746\\n  },\\n  {\\n    \"firstName\": \"Mychal\",\\n    \"lastName\": \"Mulder\",\\n    \"playerId\": 1628539,\\n    \"teamId\": 1610612744\\n  },\\n  {\\n    \"firstName\": \"Dejounte\",\\n    \"lastName\": \"Murray\",\\n    \"playerId\": 1627749,\\n    \"teamId\": 1610612759\\n  },\\n  {\\n    \"firstName\": \"Jamal\",\\n    \"lastName\": \"Murray\",\\n    \"playerId\": 1627750,\\n    \"teamId\": 1610612743\\n  },\\n  {\\n    \"firstName\": \"Mike\",\\n    \"lastName\": \"Muscala\",\\n    \"playerId\": 203488,\\n    \"teamId\": 1610612760\\n  },\\n  {\\n    \"firstName\": \"Svi\",\\n    \"lastName\": \"Mykhailiuk\",\\n    \"playerId\": 1629004,\\n    \"teamId\": 1610612760\\n  },\\n  {\\n    \"firstName\": \"Abdel\",\\n    \"lastName\": \"Nader\",\\n    \"playerId\": 1627846,\\n    \"teamId\": 1610612756\\n  },\\n  {\\n    \"firstName\": \"Larry\",\\n    \"lastName\": \"Nance Jr.\",\\n    \"playerId\": 1626204,\\n    \"teamId\": 1610612739\\n  },\\n  {\\n    \"firstName\": \"Aaron\",\\n    \"lastName\": \"Nesmith\",\\n    \"playerId\": 1630174,\\n    \"teamId\": 1610612738\\n  },\\n  {\\n    \"firstName\": \"Raul\",\\n    \"lastName\": \"Neto\",\\n    \"playerId\": 203526,\\n    \"teamId\": 1610612764\\n  },\\n  {\\n    \"firstName\": \"Georges\",\\n    \"lastName\": \"Niang\",\\n    \"playerId\": 1627777,\\n    \"teamId\": 1610612762\\n  },\\n  {\\n    \"firstName\": \"Zeke\",\\n    \"lastName\": \"Nnaji\",\\n    \"playerId\": 1630192,\\n    \"teamId\": 1610612743\\n  },\\n  {\\n    \"firstName\": \"Nerlens\",\\n    \"lastName\": \"Noel\",\\n    \"playerId\": 203457,\\n    \"teamId\": 1610612752\\n  },\\n  {\\n    \"firstName\": \"Jaylen\",\\n    \"lastName\": \"Nowell\",\\n    \"playerId\": 1629669,\\n    \"teamId\": 1610612750\\n  },\\n  {\\n    \"firstName\": \"Frank\",\\n    \"lastName\": \"Ntilikina\",\\n    \"playerId\": 1628373,\\n    \"teamId\": 1610612752\\n  },\\n  {\\n    \"firstName\": \"Kendrick\",\\n    \"lastName\": \"Nunn\",\\n    \"playerId\": 1629134,\\n    \"teamId\": 1610612748\\n  },\\n  {\\n    \"firstName\": \"James\",\\n    \"lastName\": \"Nunnally\",\\n    \"playerId\": 203263,\\n    \"teamId\": 1610612740\\n  },\\n  {\\n    \"firstName\": \"Jusuf\",\\n    \"lastName\": \"Nurkic\",\\n    \"playerId\": 203994,\\n    \"teamId\": 1610612757\\n  },\\n  {\\n    \"firstName\": \"David\",\\n    \"lastName\": \"Nwaba\",\\n    \"playerId\": 1628021,\\n    \"teamId\": 1610612745\\n  },\\n  {\\n    \"firstName\": \"Jordan\",\\n    \"lastName\": \"Nwora\",\\n    \"playerId\": 1629670,\\n    \"teamId\": 1610612749\\n  },\\n  {\\n    \"firstName\": \"Royce\",\\n    \"lastName\": \"O\\'Neale\",\\n    \"playerId\": 1626220,\\n    \"teamId\": 1610612762\\n  },\\n  {\\n    \"firstName\": \"Semi\",\\n    \"lastName\": \"Ojeleye\",\\n    \"playerId\": 1628400,\\n    \"teamId\": 1610612738\\n  },\\n  {\\n    \"firstName\": \"Jahlil\",\\n    \"lastName\": \"Okafor\",\\n    \"playerId\": 1626143,\\n    \"teamId\": 1610612765\\n  },\\n  {\\n    \"firstName\": \"Chuma\",\\n    \"lastName\": \"Okeke\",\\n    \"playerId\": 1629643,\\n    \"teamId\": 1610612753\\n  },\\n  {\\n    \"firstName\": \"Josh\",\\n    \"lastName\": \"Okogie\",\\n    \"playerId\": 1629006,\\n    \"teamId\": 1610612750\\n  },\\n  {\\n    \"firstName\": \"Onyeka\",\\n    \"lastName\": \"Okongwu\",\\n    \"playerId\": 1630168,\\n    \"teamId\": 1610612737\\n  },\\n  {\\n    \"firstName\": \"Isaac\",\\n    \"lastName\": \"Okoro\",\\n    \"playerId\": 1630171,\\n    \"teamId\": 1610612739\\n  },\\n  {\\n    \"firstName\": \"KZ\",\\n    \"lastName\": \"Okpala\",\\n    \"playerId\": 1629644,\\n    \"teamId\": 1610612748\\n  },\\n  {\\n    \"firstName\": \"Victor\",\\n    \"lastName\": \"Oladipo\",\\n    \"playerId\": 203506,\\n    \"teamId\": 1610612748\\n  },\\n  {\\n    \"firstName\": \"Cameron\",\\n    \"lastName\": \"Oliver\",\\n    \"playerId\": 1628419,\\n    \"teamId\": 1610612745\\n  },\\n  {\\n    \"firstName\": \"Kelly\",\\n    \"lastName\": \"Olynyk\",\\n    \"playerId\": 203482,\\n    \"teamId\": 1610612745\\n  },\\n  {\\n    \"firstName\": \"Miye\",\\n    \"lastName\": \"Oni\",\\n    \"playerId\": 1629671,\\n    \"teamId\": 1610612762\\n  },\\n  {\\n    \"firstName\": \"Cedi\",\\n    \"lastName\": \"Osman\",\\n    \"playerId\": 1626224,\\n    \"teamId\": 1610612739\\n  },\\n  {\\n    \"firstName\": \"Daniel\",\\n    \"lastName\": \"Oturu\",\\n    \"playerId\": 1630187,\\n    \"teamId\": 1610612746\\n  },\\n  {\\n    \"firstName\": \"Kelly\",\\n    \"lastName\": \"Oubre Jr.\",\\n    \"playerId\": 1626162,\\n    \"teamId\": 1610612744\\n  },\\n  {\\n    \"firstName\": \"Jabari\",\\n    \"lastName\": \"Parker\",\\n    \"playerId\": 203953,\\n    \"teamId\": 1610612738\\n  },\\n  {\\n    \"firstName\": \"Eric\",\\n    \"lastName\": \"Paschall\",\\n    \"playerId\": 1629672,\\n    \"teamId\": 1610612744\\n  },\\n  {\\n    \"firstName\": \"Anzejs\",\\n    \"lastName\": \"Pasecniks\",\\n    \"playerId\": 1628394,\\n    \"teamId\": 0\\n  },\\n  {\\n    \"firstName\": \"Patrick\",\\n    \"lastName\": \"Patterson\",\\n    \"playerId\": 202335,\\n    \"teamId\": 1610612746\\n  },\\n  {\\n    \"firstName\": \"Justin\",\\n    \"lastName\": \"Patton\",\\n    \"playerId\": 1628383,\\n    \"teamId\": 0\\n  },\\n  {\\n    \"firstName\": \"Chris\",\\n    \"lastName\": \"Paul\",\\n    \"playerId\": 101108,\\n    \"teamId\": 1610612756\\n  },\\n  {\\n    \"firstName\": \"Cameron\",\\n    \"lastName\": \"Payne\",\\n    \"playerId\": 1626166,\\n    \"teamId\": 1610612756\\n  },\\n  {\\n    \"firstName\": \"Elfrid\",\\n    \"lastName\": \"Payton\",\\n    \"playerId\": 203901,\\n    \"teamId\": 1610612752\\n  },\\n  {\\n    \"firstName\": \"Gary\",\\n    \"lastName\": \"Payton II\",\\n    \"playerId\": 1627780,\\n    \"teamId\": 0\\n  },\\n  {\\n    \"firstName\": \"Norvel\",\\n    \"lastName\": \"Pelle\",\\n    \"playerId\": 203658,\\n    \"teamId\": 1610612752\\n  },\\n  {\\n    \"firstName\": \"Reggie\",\\n    \"lastName\": \"Perry\",\\n    \"playerId\": 1629617,\\n    \"teamId\": 1610612751\\n  },\\n  {\\n    \"firstName\": \"Theo\",\\n    \"lastName\": \"Pinson\",\\n    \"playerId\": 1629033,\\n    \"teamId\": 1610612752\\n  },\\n  {\\n    \"firstName\": \"Mason\",\\n    \"lastName\": \"Plumlee\",\\n    \"playerId\": 203486,\\n    \"teamId\": 1610612765\\n  },\\n  {\\n    \"firstName\": \"Jakob\",\\n    \"lastName\": \"Poeltl\",\\n    \"playerId\": 1627751,\\n    \"teamId\": 1610612759\\n  },\\n  {\\n    \"firstName\": \"Vincent\",\\n    \"lastName\": \"Poirier\",\\n    \"playerId\": 1629738,\\n    \"teamId\": 0\\n  },\\n  {\\n    \"firstName\": \"Aleksej\",\\n    \"lastName\": \"Pokusevski\",\\n    \"playerId\": 1630197,\\n    \"teamId\": 1610612760\\n  },\\n  {\\n    \"firstName\": \"Jordan\",\\n    \"lastName\": \"Poole\",\\n    \"playerId\": 1629673,\\n    \"teamId\": 1610612744\\n  },\\n  {\\n    \"firstName\": \"Jontay\",\\n    \"lastName\": \"Porter\",\\n    \"playerId\": 1629007,\\n    \"teamId\": 1610612763\\n  },\\n  {\\n    \"firstName\": \"Kevin\",\\n    \"lastName\": \"Porter Jr.\",\\n    \"playerId\": 1629645,\\n    \"teamId\": 1610612745\\n  },\\n  {\\n    \"firstName\": \"Michael\",\\n    \"lastName\": \"Porter Jr.\",\\n    \"playerId\": 1629008,\\n    \"teamId\": 1610612743\\n  },\\n  {\\n    \"firstName\": \"Otto\",\\n    \"lastName\": \"Porter Jr.\",\\n    \"playerId\": 203490,\\n    \"teamId\": 1610612753\\n  },\\n  {\\n    \"firstName\": \"Bobby\",\\n    \"lastName\": \"Portis\",\\n    \"playerId\": 1626171,\\n    \"teamId\": 1610612749\\n  },\\n  {\\n    \"firstName\": \"Kristaps\",\\n    \"lastName\": \"Porzingis\",\\n    \"playerId\": 204001,\\n    \"teamId\": 1610612742\\n  },\\n  {\\n    \"firstName\": \"Dwight\",\\n    \"lastName\": \"Powell\",\\n    \"playerId\": 203939,\\n    \"teamId\": 1610612742\\n  },\\n  {\\n    \"firstName\": \"Norman\",\\n    \"lastName\": \"Powell\",\\n    \"playerId\": 1626181,\\n    \"teamId\": 1610612757\\n  },\\n  {\\n    \"firstName\": \"Taurean\",\\n    \"lastName\": \"Prince\",\\n    \"playerId\": 1627752,\\n    \"teamId\": 1610612739\\n  },\\n  {\\n    \"firstName\": \"Payton\",\\n    \"lastName\": \"Pritchard\",\\n    \"playerId\": 1630202,\\n    \"teamId\": 1610612738\\n  },\\n  {\\n    \"firstName\": \"Immanuel\",\\n    \"lastName\": \"Quickley\",\\n    \"playerId\": 1630193,\\n    \"teamId\": 1610612752\\n  },\\n  {\\n    \"firstName\": \"Jahmi\\'us\",\\n    \"lastName\": \"Ramsey\",\\n    \"playerId\": 1630186,\\n    \"teamId\": 1610612758\\n  },\\n  {\\n    \"firstName\": \"Chasson\",\\n    \"lastName\": \"Randle\",\\n    \"playerId\": 1626184,\\n    \"teamId\": 1610612753\\n  },\\n  {\\n    \"firstName\": \"Julius\",\\n    \"lastName\": \"Randle\",\\n    \"playerId\": 203944,\\n    \"teamId\": 1610612752\\n  },\\n  {\\n    \"firstName\": \"Cam\",\\n    \"lastName\": \"Reddish\",\\n    \"playerId\": 1629629,\\n    \"teamId\": 1610612737\\n  },\\n  {\\n    \"firstName\": \"JJ\",\\n    \"lastName\": \"Redick\",\\n    \"playerId\": 200755,\\n    \"teamId\": 1610612742\\n  },\\n  {\\n    \"firstName\": \"Paul\",\\n    \"lastName\": \"Reed\",\\n    \"playerId\": 1630194,\\n    \"teamId\": 1610612755\\n  },\\n  {\\n    \"firstName\": \"Naz\",\\n    \"lastName\": \"Reid\",\\n    \"playerId\": 1629675,\\n    \"teamId\": 1610612750\\n  },\\n  {\\n    \"firstName\": \"Cameron\",\\n    \"lastName\": \"Reynolds\",\\n    \"playerId\": 1629244,\\n    \"teamId\": 1610612745\\n  },\\n  {\\n    \"firstName\": \"Nick\",\\n    \"lastName\": \"Richards\",\\n    \"playerId\": 1630208,\\n    \"teamId\": 1610612766\\n  },\\n  {\\n    \"firstName\": \"Josh\",\\n    \"lastName\": \"Richardson\",\\n    \"playerId\": 1626196,\\n    \"teamId\": 1610612742\\n  },\\n  {\\n    \"firstName\": \"Grant\",\\n    \"lastName\": \"Riller\",\\n    \"playerId\": 1630203,\\n    \"teamId\": 1610612766\\n  },\\n  {\\n    \"firstName\": \"Austin\",\\n    \"lastName\": \"Rivers\",\\n    \"playerId\": 203085,\\n    \"teamId\": 1610612743\\n  },\\n  {\\n    \"firstName\": \"Andre\",\\n    \"lastName\": \"Roberson\",\\n    \"playerId\": 203460,\\n    \"teamId\": 0\\n  },\\n  {\\n    \"firstName\": \"Duncan\",\\n    \"lastName\": \"Robinson\",\\n    \"playerId\": 1629130,\\n    \"teamId\": 1610612748\\n  },\\n  {\\n    \"firstName\": \"Jerome\",\\n    \"lastName\": \"Robinson\",\\n    \"playerId\": 1629010,\\n    \"teamId\": 0\\n  },\\n  {\\n    \"firstName\": \"Justin\",\\n    \"lastName\": \"Robinson\",\\n    \"playerId\": 1629620,\\n    \"teamId\": 0\\n  },\\n  {\\n    \"firstName\": \"Mitchell\",\\n    \"lastName\": \"Robinson\",\\n    \"playerId\": 1629011,\\n    \"teamId\": 1610612752\\n  },\\n  {\\n    \"firstName\": \"Glenn\",\\n    \"lastName\": \"Robinson III\",\\n    \"playerId\": 203922,\\n    \"teamId\": 0\\n  },\\n  {\\n    \"firstName\": \"Isaiah\",\\n    \"lastName\": \"Roby\",\\n    \"playerId\": 1629676,\\n    \"teamId\": 1610612760\\n  },\\n  {\\n    \"firstName\": \"Rajon\",\\n    \"lastName\": \"Rondo\",\\n    \"playerId\": 200765,\\n    \"teamId\": 1610612746\\n  },\\n  {\\n    \"firstName\": \"Derrick\",\\n    \"lastName\": \"Rose\",\\n    \"playerId\": 201565,\\n    \"teamId\": 1610612752\\n  },\\n  {\\n    \"firstName\": \"Terrence\",\\n    \"lastName\": \"Ross\",\\n    \"playerId\": 203082,\\n    \"teamId\": 1610612753\\n  },\\n  {\\n    \"firstName\": \"Terry\",\\n    \"lastName\": \"Rozier\",\\n    \"playerId\": 1626179,\\n    \"teamId\": 1610612766\\n  },\\n  {\\n    \"firstName\": \"Ricky\",\\n    \"lastName\": \"Rubio\",\\n    \"playerId\": 201937,\\n    \"teamId\": 1610612750\\n  },\\n  {\\n    \"firstName\": \"D\\'Angelo\",\\n    \"lastName\": \"Russell\",\\n    \"playerId\": 1626156,\\n    \"teamId\": 1610612750\\n  },\\n  {\\n    \"firstName\": \"Domantas\",\\n    \"lastName\": \"Sabonis\",\\n    \"playerId\": 1627734,\\n    \"teamId\": 1610612754\\n  },\\n  {\\n    \"firstName\": \"Luka\",\\n    \"lastName\": \"Samanic\",\\n    \"playerId\": 1629677,\\n    \"teamId\": 1610612759\\n  },\\n  {\\n    \"firstName\": \"JaKarr\",\\n    \"lastName\": \"Sampson\",\\n    \"playerId\": 203960,\\n    \"teamId\": 1610612754\\n  },\\n  {\\n    \"firstName\": \"Dario\",\\n    \"lastName\": \"Saric\",\\n    \"playerId\": 203967,\\n    \"teamId\": 1610612756\\n  },\\n  {\\n    \"firstName\": \"Tomas\",\\n    \"lastName\": \"Satoransky\",\\n    \"playerId\": 203107,\\n    \"teamId\": 1610612741\\n  },\\n  {\\n    \"firstName\": \"Dennis\",\\n    \"lastName\": \"Schroder\",\\n    \"playerId\": 203471,\\n    \"teamId\": 1610612747\\n  },\\n  {\\n    \"firstName\": \"Mike\",\\n    \"lastName\": \"Scott\",\\n    \"playerId\": 203118,\\n    \"teamId\": 1610612755\\n  },\\n  {\\n    \"firstName\": \"Jay\",\\n    \"lastName\": \"Scrubb\",\\n    \"playerId\": 1630206,\\n    \"teamId\": 1610612746\\n  },\\n  {\\n    \"firstName\": \"Collin\",\\n    \"lastName\": \"Sexton\",\\n    \"playerId\": 1629012,\\n    \"teamId\": 1610612739\\n  },\\n  {\\n    \"firstName\": \"Landry\",\\n    \"lastName\": \"Shamet\",\\n    \"playerId\": 1629013,\\n    \"teamId\": 1610612751\\n  },\\n  {\\n    \"firstName\": \"Iman\",\\n    \"lastName\": \"Shumpert\",\\n    \"playerId\": 202697,\\n    \"teamId\": 0\\n  },\\n  {\\n    \"firstName\": \"Pascal\",\\n    \"lastName\": \"Siakam\",\\n    \"playerId\": 1627783,\\n    \"teamId\": 1610612761\\n  },\\n  {\\n    \"firstName\": \"Chris\",\\n    \"lastName\": \"Silva\",\\n    \"playerId\": 1629735,\\n    \"teamId\": 0\\n  },\\n  {\\n    \"firstName\": \"Ben\",\\n    \"lastName\": \"Simmons\",\\n    \"playerId\": 1627732,\\n    \"teamId\": 1610612755\\n  },\\n  {\\n    \"firstName\": \"Anfernee\",\\n    \"lastName\": \"Simons\",\\n    \"playerId\": 1629014,\\n    \"teamId\": 1610612757\\n  },\\n  {\\n    \"firstName\": \"Deividas\",\\n    \"lastName\": \"Sirvydis\",\\n    \"playerId\": 1629686,\\n    \"teamId\": 1610612765\\n  },\\n  {\\n    \"firstName\": \"Alen\",\\n    \"lastName\": \"Smailagic\",\\n    \"playerId\": 1629346,\\n    \"teamId\": 1610612744\\n  },\\n  {\\n    \"firstName\": \"Marcus\",\\n    \"lastName\": \"Smart\",\\n    \"playerId\": 203935,\\n    \"teamId\": 1610612738\\n  },\\n  {\\n    \"firstName\": \"Ish\",\\n    \"lastName\": \"Smith\",\\n    \"playerId\": 202397,\\n    \"teamId\": 1610612764\\n  },\\n  {\\n    \"firstName\": \"Jalen\",\\n    \"lastName\": \"Smith\",\\n    \"playerId\": 1630188,\\n    \"teamId\": 1610612756\\n  },\\n  {\\n    \"firstName\": \"Dennis\",\\n    \"lastName\": \"Smith Jr.\",\\n    \"playerId\": 1628372,\\n    \"teamId\": 1610612765\\n  },\\n  {\\n    \"firstName\": \"Tony\",\\n    \"lastName\": \"Snell\",\\n    \"playerId\": 203503,\\n    \"teamId\": 1610612737\\n  },\\n  {\\n    \"firstName\": \"Ray\",\\n    \"lastName\": \"Spalding\",\\n    \"playerId\": 1629034,\\n    \"teamId\": 0\\n  },\\n  {\\n    \"firstName\": \"Cassius\",\\n    \"lastName\": \"Stanley\",\\n    \"playerId\": 1630199,\\n    \"teamId\": 1610612754\\n  },\\n  {\\n    \"firstName\": \"Lamar\",\\n    \"lastName\": \"Stevens\",\\n    \"playerId\": 1630205,\\n    \"teamId\": 1610612739\\n  },\\n  {\\n    \"firstName\": \"Isaiah\",\\n    \"lastName\": \"Stewart\",\\n    \"playerId\": 1630191,\\n    \"teamId\": 1610612765\\n  },\\n  {\\n    \"firstName\": \"Max\",\\n    \"lastName\": \"Strus\",\\n    \"playerId\": 1629622,\\n    \"teamId\": 1610612748\\n  },\\n  {\\n    \"firstName\": \"Edmond\",\\n    \"lastName\": \"Sumner\",\\n    \"playerId\": 1628410,\\n    \"teamId\": 1610612754\\n  },\\n  {\\n    \"firstName\": \"Jae\\'Sean\",\\n    \"lastName\": \"Tate\",\\n    \"playerId\": 1630256,\\n    \"teamId\": 1610612745\\n  },\\n  {\\n    \"firstName\": \"Jayson\",\\n    \"lastName\": \"Tatum\",\\n    \"playerId\": 1628369,\\n    \"teamId\": 1610612738\\n  },\\n  {\\n    \"firstName\": \"Jeff\",\\n    \"lastName\": \"Teague\",\\n    \"playerId\": 201952,\\n    \"teamId\": 1610612749\\n  },\\n  {\\n    \"firstName\": \"Garrett\",\\n    \"lastName\": \"Temple\",\\n    \"playerId\": 202066,\\n    \"teamId\": 1610612741\\n  },\\n  {\\n    \"firstName\": \"Tyrell\",\\n    \"lastName\": \"Terry\",\\n    \"playerId\": 1630179,\\n    \"teamId\": 1610612742\\n  },\\n  {\\n    \"firstName\": \"Daniel\",\\n    \"lastName\": \"Theis\",\\n    \"playerId\": 1628464,\\n    \"teamId\": 1610612741\\n  },\\n  {\\n    \"firstName\": \"Brodric\",\\n    \"lastName\": \"Thomas\",\\n    \"playerId\": 1630271,\\n    \"teamId\": 1610612739\\n  },\\n  {\\n    \"firstName\": \"Isaiah\",\\n    \"lastName\": \"Thomas\",\\n    \"playerId\": 202738,\\n    \"teamId\": 0\\n  },\\n  {\\n    \"firstName\": \"Khyri\",\\n    \"lastName\": \"Thomas\",\\n    \"playerId\": 1629017,\\n    \"teamId\": 1610612745\\n  },\\n  {\\n    \"firstName\": \"Matt\",\\n    \"lastName\": \"Thomas\",\\n    \"playerId\": 1629744,\\n    \"teamId\": 1610612762\\n  },\\n  {\\n    \"firstName\": \"Klay\",\\n    \"lastName\": \"Thompson\",\\n    \"playerId\": 202691,\\n    \"teamId\": 1610612744\\n  },\\n  {\\n    \"firstName\": \"Tristan\",\\n    \"lastName\": \"Thompson\",\\n    \"playerId\": 202684,\\n    \"teamId\": 1610612738\\n  },\\n  {\\n    \"firstName\": \"Sindarius\",\\n    \"lastName\": \"Thornwell\",\\n    \"playerId\": 1628414,\\n    \"teamId\": 1610612753\\n  },\\n  {\\n    \"firstName\": \"Matisse\",\\n    \"lastName\": \"Thybulle\",\\n    \"playerId\": 1629680,\\n    \"teamId\": 1610612755\\n  },\\n  {\\n    \"firstName\": \"Killian\",\\n    \"lastName\": \"Tillie\",\\n    \"playerId\": 1629681,\\n    \"teamId\": 1610612763\\n  },\\n  {\\n    \"firstName\": \"Xavier\",\\n    \"lastName\": \"Tillman\",\\n    \"playerId\": 1630214,\\n    \"teamId\": 1610612763\\n  },\\n  {\\n    \"firstName\": \"Anthony\",\\n    \"lastName\": \"Tolliver\",\\n    \"playerId\": 201229,\\n    \"teamId\": 1610612755\\n  },\\n  {\\n    \"firstName\": \"Obi\",\\n    \"lastName\": \"Toppin\",\\n    \"playerId\": 1630167,\\n    \"teamId\": 1610612752\\n  },\\n  {\\n    \"firstName\": \"Juan\",\\n    \"lastName\": \"Toscano-Anderson\",\\n    \"playerId\": 1629308,\\n    \"teamId\": 1610612744\\n  },\\n  {\\n    \"firstName\": \"Axel\",\\n    \"lastName\": \"Toupane\",\\n    \"playerId\": 1626253,\\n    \"teamId\": 1610612749\\n  },\\n  {\\n    \"firstName\": \"Karl-Anthony\",\\n    \"lastName\": \"Towns\",\\n    \"playerId\": 1626157,\\n    \"teamId\": 1610612750\\n  },\\n  {\\n    \"firstName\": \"Gary\",\\n    \"lastName\": \"Trent Jr.\",\\n    \"playerId\": 1629018,\\n    \"teamId\": 1610612761\\n  },\\n  {\\n    \"firstName\": \"P.J.\",\\n    \"lastName\": \"Tucker\",\\n    \"playerId\": 200782,\\n    \"teamId\": 1610612749\\n  },\\n  {\\n    \"firstName\": \"Rayjon\",\\n    \"lastName\": \"Tucker\",\\n    \"playerId\": 1629730,\\n    \"teamId\": 1610612755\\n  },\\n  {\\n    \"firstName\": \"Myles\",\\n    \"lastName\": \"Turner\",\\n    \"playerId\": 1626167,\\n    \"teamId\": 1610612754\\n  },\\n  {\\n    \"firstName\": \"Jonas\",\\n    \"lastName\": \"Valanciunas\",\\n    \"playerId\": 202685,\\n    \"teamId\": 1610612763\\n  },\\n  {\\n    \"firstName\": \"Denzel\",\\n    \"lastName\": \"Valentine\",\\n    \"playerId\": 1627756,\\n    \"teamId\": 1610612741\\n  },\\n  {\\n    \"firstName\": \"Fred\",\\n    \"lastName\": \"VanVleet\",\\n    \"playerId\": 1627832,\\n    \"teamId\": 1610612761\\n  },\\n  {\\n    \"firstName\": \"Jarred\",\\n    \"lastName\": \"Vanderbilt\",\\n    \"playerId\": 1629020,\\n    \"teamId\": 1610612750\\n  },\\n  {\\n    \"firstName\": \"Anderson\",\\n    \"lastName\": \"Varejao\",\\n    \"playerId\": 2760,\\n    \"teamId\": 1610612739\\n  },\\n  {\\n    \"firstName\": \"Devin\",\\n    \"lastName\": \"Vassell\",\\n    \"playerId\": 1630170,\\n    \"teamId\": 1610612759\\n  },\\n  {\\n    \"firstName\": \"Luca\",\\n    \"lastName\": \"Vildoza\",\\n    \"playerId\": 1630492,\\n    \"teamId\": 1610612752\\n  },\\n  {\\n    \"firstName\": \"Gabe\",\\n    \"lastName\": \"Vincent\",\\n    \"playerId\": 1629216,\\n    \"teamId\": 1610612748\\n  },\\n  {\\n    \"firstName\": \"Noah\",\\n    \"lastName\": \"Vonleh\",\\n    \"playerId\": 203943,\\n    \"teamId\": 0\\n  },\\n  {\\n    \"firstName\": \"Nikola\",\\n    \"lastName\": \"Vucevic\",\\n    \"playerId\": 202696,\\n    \"teamId\": 1610612741\\n  },\\n  {\\n    \"firstName\": \"Dean\",\\n    \"lastName\": \"Wade\",\\n    \"playerId\": 1629731,\\n    \"teamId\": 1610612739\\n  },\\n  {\\n    \"firstName\": \"Moritz\",\\n    \"lastName\": \"Wagner\",\\n    \"playerId\": 1629021,\\n    \"teamId\": 1610612753\\n  },\\n  {\\n    \"firstName\": \"Kemba\",\\n    \"lastName\": \"Walker\",\\n    \"playerId\": 202689,\\n    \"teamId\": 1610612738\\n  },\\n  {\\n    \"firstName\": \"Lonnie\",\\n    \"lastName\": \"Walker IV\",\\n    \"playerId\": 1629022,\\n    \"teamId\": 1610612759\\n  },\\n  {\\n    \"firstName\": \"John\",\\n    \"lastName\": \"Wall\",\\n    \"playerId\": 202322,\\n    \"teamId\": 1610612745\\n  },\\n  {\\n    \"firstName\": \"Brad\",\\n    \"lastName\": \"Wanamaker\",\\n    \"playerId\": 202954,\\n    \"teamId\": 1610612766\\n  },\\n  {\\n    \"firstName\": \"T.J.\",\\n    \"lastName\": \"Warren\",\\n    \"playerId\": 203933,\\n    \"teamId\": 1610612754\\n  },\\n  {\\n    \"firstName\": \"P.J.\",\\n    \"lastName\": \"Washington\",\\n    \"playerId\": 1629023,\\n    \"teamId\": 1610612766\\n  },\\n  {\\n    \"firstName\": \"Yuta\",\\n    \"lastName\": \"Watanabe\",\\n    \"playerId\": 1629139,\\n    \"teamId\": 1610612761\\n  },\\n  {\\n    \"firstName\": \"Tremont\",\\n    \"lastName\": \"Waters\",\\n    \"playerId\": 1629682,\\n    \"teamId\": 1610612738\\n  },\\n  {\\n    \"firstName\": \"Paul\",\\n    \"lastName\": \"Watson\",\\n    \"playerId\": 1628778,\\n    \"teamId\": 1610612761\\n  },\\n  {\\n    \"firstName\": \"Quinndary\",\\n    \"lastName\": \"Weatherspoon\",\\n    \"playerId\": 1629683,\\n    \"teamId\": 1610612759\\n  },\\n  {\\n    \"firstName\": \"Russell\",\\n    \"lastName\": \"Westbrook\",\\n    \"playerId\": 201566,\\n    \"teamId\": 1610612764\\n  },\\n  {\\n    \"firstName\": \"Coby\",\\n    \"lastName\": \"White\",\\n    \"playerId\": 1629632,\\n    \"teamId\": 1610612741\\n  },\\n  {\\n    \"firstName\": \"Derrick\",\\n    \"lastName\": \"White\",\\n    \"playerId\": 1628401,\\n    \"teamId\": 1610612759\\n  },\\n  {\\n    \"firstName\": \"Hassan\",\\n    \"lastName\": \"Whiteside\",\\n    \"playerId\": 202355,\\n    \"teamId\": 1610612758\\n  },\\n  {\\n    \"firstName\": \"Greg\",\\n    \"lastName\": \"Whittington\",\\n    \"playerId\": 204222,\\n    \"teamId\": 0\\n  },\\n  {\\n    \"firstName\": \"Andrew\",\\n    \"lastName\": \"Wiggins\",\\n    \"playerId\": 203952,\\n    \"teamId\": 1610612744\\n  },\\n  {\\n    \"firstName\": \"Grant\",\\n    \"lastName\": \"Williams\",\\n    \"playerId\": 1629684,\\n    \"teamId\": 1610612738\\n  },\\n  {\\n    \"firstName\": \"Kenrich\",\\n    \"lastName\": \"Williams\",\\n    \"playerId\": 1629026,\\n    \"teamId\": 1610612760\\n  },\\n  {\\n    \"firstName\": \"Lou\",\\n    \"lastName\": \"Williams\",\\n    \"playerId\": 101150,\\n    \"teamId\": 1610612737\\n  },\\n  {\\n    \"firstName\": \"Patrick\",\\n    \"lastName\": \"Williams\",\\n    \"playerId\": 1630172,\\n    \"teamId\": 1610612741\\n  },\\n  {\\n    \"firstName\": \"Robert\",\\n    \"lastName\": \"Williams III\",\\n    \"playerId\": 1629057,\\n    \"teamId\": 1610612738\\n  },\\n  {\\n    \"firstName\": \"Zion\",\\n    \"lastName\": \"Williamson\",\\n    \"playerId\": 1629627,\\n    \"teamId\": 1610612740\\n  },\\n  {\\n    \"firstName\": \"D.J.\",\\n    \"lastName\": \"Wilson\",\\n    \"playerId\": 1628391,\\n    \"teamId\": 1610612745\\n  },\\n  {\\n    \"firstName\": \"Dylan\",\\n    \"lastName\": \"Windler\",\\n    \"playerId\": 1629685,\\n    \"teamId\": 1610612739\\n  },\\n  {\\n    \"firstName\": \"Justise\",\\n    \"lastName\": \"Winslow\",\\n    \"playerId\": 1626159,\\n    \"teamId\": 1610612763\\n  },\\n  {\\n    \"firstName\": \"Cassius\",\\n    \"lastName\": \"Winston\",\\n    \"playerId\": 1630216,\\n    \"teamId\": 1610612764\\n  },\\n  {\\n    \"firstName\": \"James\",\\n    \"lastName\": \"Wiseman\",\\n    \"playerId\": 1630164,\\n    \"teamId\": 1610612744\\n  },\\n  {\\n    \"firstName\": \"Christian\",\\n    \"lastName\": \"Wood\",\\n    \"playerId\": 1626174,\\n    \"teamId\": 1610612745\\n  },\\n  {\\n    \"firstName\": \"Robert\",\\n    \"lastName\": \"Woodard II\",\\n    \"playerId\": 1630218,\\n    \"teamId\": 1610612758\\n  },\\n  {\\n    \"firstName\": \"Delon\",\\n    \"lastName\": \"Wright\",\\n    \"playerId\": 1626153,\\n    \"teamId\": 1610612758\\n  },\\n  {\\n    \"firstName\": \"Thaddeus\",\\n    \"lastName\": \"Young\",\\n    \"playerId\": 201152,\\n    \"teamId\": 1610612741\\n  },\\n  {\\n    \"firstName\": \"Trae\",\\n    \"lastName\": \"Young\",\\n    \"playerId\": 1629027,\\n    \"teamId\": 1610612737\\n  },\\n  {\\n    \"firstName\": \"Omer\",\\n    \"lastName\": \"Yurtseven\",\\n    \"playerId\": 1630209,\\n    \"teamId\": 1610612748\\n  },\\n  {\\n    \"firstName\": \"Cody\",\\n    \"lastName\": \"Zeller\",\\n    \"playerId\": 203469,\\n    \"teamId\": 1610612766\\n  },\\n  {\\n    \"firstName\": \"Ivica\",\\n    \"lastName\": \"Zubac\",\\n    \"playerId\": 1627826,\\n    \"teamId\": 1610612746\\n  }\\n]'"
            ],
            "application/vnd.google.colaboratory.intrinsic+json": {
              "type": "string"
            }
          },
          "metadata": {},
          "execution_count": 8
        }
      ]
    },
    {
      "cell_type": "code",
      "source": [
        "data = json.loads(data.text)"
      ],
      "metadata": {
        "id": "8aQGkR7yAKfc"
      },
      "execution_count": 11,
      "outputs": []
    },
    {
      "cell_type": "code",
      "source": [
        "df = pd.DataFrame.from_dict(data)\n",
        "df"
      ],
      "metadata": {
        "colab": {
          "base_uri": "https://localhost:8080/",
          "height": 423
        },
        "id": "_j9VNxrqAavO",
        "outputId": "c9cb4707-7383-4251-ffee-faae9b8d7f4d"
      },
      "execution_count": 13,
      "outputs": [
        {
          "output_type": "execute_result",
          "data": {
            "text/plain": [
              "    firstName   lastName  playerId      teamId\n",
              "0    Precious    Achiuwa   1630173  1610612748\n",
              "1      Jaylen      Adams   1629121           0\n",
              "2      Steven      Adams    203500  1610612740\n",
              "3         Bam    Adebayo   1628389  1610612748\n",
              "4    LaMarcus   Aldridge    200746           0\n",
              "..        ...        ...       ...         ...\n",
              "540  Thaddeus      Young    201152  1610612741\n",
              "541      Trae      Young   1629027  1610612737\n",
              "542      Omer  Yurtseven   1630209  1610612748\n",
              "543      Cody     Zeller    203469  1610612766\n",
              "544     Ivica      Zubac   1627826  1610612746\n",
              "\n",
              "[545 rows x 4 columns]"
            ],
            "text/html": [
              "\n",
              "  <div id=\"df-c6e92597-a8b7-4319-aadc-93891bad1608\" class=\"colab-df-container\">\n",
              "    <div>\n",
              "<style scoped>\n",
              "    .dataframe tbody tr th:only-of-type {\n",
              "        vertical-align: middle;\n",
              "    }\n",
              "\n",
              "    .dataframe tbody tr th {\n",
              "        vertical-align: top;\n",
              "    }\n",
              "\n",
              "    .dataframe thead th {\n",
              "        text-align: right;\n",
              "    }\n",
              "</style>\n",
              "<table border=\"1\" class=\"dataframe\">\n",
              "  <thead>\n",
              "    <tr style=\"text-align: right;\">\n",
              "      <th></th>\n",
              "      <th>firstName</th>\n",
              "      <th>lastName</th>\n",
              "      <th>playerId</th>\n",
              "      <th>teamId</th>\n",
              "    </tr>\n",
              "  </thead>\n",
              "  <tbody>\n",
              "    <tr>\n",
              "      <th>0</th>\n",
              "      <td>Precious</td>\n",
              "      <td>Achiuwa</td>\n",
              "      <td>1630173</td>\n",
              "      <td>1610612748</td>\n",
              "    </tr>\n",
              "    <tr>\n",
              "      <th>1</th>\n",
              "      <td>Jaylen</td>\n",
              "      <td>Adams</td>\n",
              "      <td>1629121</td>\n",
              "      <td>0</td>\n",
              "    </tr>\n",
              "    <tr>\n",
              "      <th>2</th>\n",
              "      <td>Steven</td>\n",
              "      <td>Adams</td>\n",
              "      <td>203500</td>\n",
              "      <td>1610612740</td>\n",
              "    </tr>\n",
              "    <tr>\n",
              "      <th>3</th>\n",
              "      <td>Bam</td>\n",
              "      <td>Adebayo</td>\n",
              "      <td>1628389</td>\n",
              "      <td>1610612748</td>\n",
              "    </tr>\n",
              "    <tr>\n",
              "      <th>4</th>\n",
              "      <td>LaMarcus</td>\n",
              "      <td>Aldridge</td>\n",
              "      <td>200746</td>\n",
              "      <td>0</td>\n",
              "    </tr>\n",
              "    <tr>\n",
              "      <th>...</th>\n",
              "      <td>...</td>\n",
              "      <td>...</td>\n",
              "      <td>...</td>\n",
              "      <td>...</td>\n",
              "    </tr>\n",
              "    <tr>\n",
              "      <th>540</th>\n",
              "      <td>Thaddeus</td>\n",
              "      <td>Young</td>\n",
              "      <td>201152</td>\n",
              "      <td>1610612741</td>\n",
              "    </tr>\n",
              "    <tr>\n",
              "      <th>541</th>\n",
              "      <td>Trae</td>\n",
              "      <td>Young</td>\n",
              "      <td>1629027</td>\n",
              "      <td>1610612737</td>\n",
              "    </tr>\n",
              "    <tr>\n",
              "      <th>542</th>\n",
              "      <td>Omer</td>\n",
              "      <td>Yurtseven</td>\n",
              "      <td>1630209</td>\n",
              "      <td>1610612748</td>\n",
              "    </tr>\n",
              "    <tr>\n",
              "      <th>543</th>\n",
              "      <td>Cody</td>\n",
              "      <td>Zeller</td>\n",
              "      <td>203469</td>\n",
              "      <td>1610612766</td>\n",
              "    </tr>\n",
              "    <tr>\n",
              "      <th>544</th>\n",
              "      <td>Ivica</td>\n",
              "      <td>Zubac</td>\n",
              "      <td>1627826</td>\n",
              "      <td>1610612746</td>\n",
              "    </tr>\n",
              "  </tbody>\n",
              "</table>\n",
              "<p>545 rows × 4 columns</p>\n",
              "</div>\n",
              "    <div class=\"colab-df-buttons\">\n",
              "\n",
              "  <div class=\"colab-df-container\">\n",
              "    <button class=\"colab-df-convert\" onclick=\"convertToInteractive('df-c6e92597-a8b7-4319-aadc-93891bad1608')\"\n",
              "            title=\"Convert this dataframe to an interactive table.\"\n",
              "            style=\"display:none;\">\n",
              "\n",
              "  <svg xmlns=\"http://www.w3.org/2000/svg\" height=\"24px\" viewBox=\"0 -960 960 960\">\n",
              "    <path d=\"M120-120v-720h720v720H120Zm60-500h600v-160H180v160Zm220 220h160v-160H400v160Zm0 220h160v-160H400v160ZM180-400h160v-160H180v160Zm440 0h160v-160H620v160ZM180-180h160v-160H180v160Zm440 0h160v-160H620v160Z\"/>\n",
              "  </svg>\n",
              "    </button>\n",
              "\n",
              "  <style>\n",
              "    .colab-df-container {\n",
              "      display:flex;\n",
              "      gap: 12px;\n",
              "    }\n",
              "\n",
              "    .colab-df-convert {\n",
              "      background-color: #E8F0FE;\n",
              "      border: none;\n",
              "      border-radius: 50%;\n",
              "      cursor: pointer;\n",
              "      display: none;\n",
              "      fill: #1967D2;\n",
              "      height: 32px;\n",
              "      padding: 0 0 0 0;\n",
              "      width: 32px;\n",
              "    }\n",
              "\n",
              "    .colab-df-convert:hover {\n",
              "      background-color: #E2EBFA;\n",
              "      box-shadow: 0px 1px 2px rgba(60, 64, 67, 0.3), 0px 1px 3px 1px rgba(60, 64, 67, 0.15);\n",
              "      fill: #174EA6;\n",
              "    }\n",
              "\n",
              "    .colab-df-buttons div {\n",
              "      margin-bottom: 4px;\n",
              "    }\n",
              "\n",
              "    [theme=dark] .colab-df-convert {\n",
              "      background-color: #3B4455;\n",
              "      fill: #D2E3FC;\n",
              "    }\n",
              "\n",
              "    [theme=dark] .colab-df-convert:hover {\n",
              "      background-color: #434B5C;\n",
              "      box-shadow: 0px 1px 3px 1px rgba(0, 0, 0, 0.15);\n",
              "      filter: drop-shadow(0px 1px 2px rgba(0, 0, 0, 0.3));\n",
              "      fill: #FFFFFF;\n",
              "    }\n",
              "  </style>\n",
              "\n",
              "    <script>\n",
              "      const buttonEl =\n",
              "        document.querySelector('#df-c6e92597-a8b7-4319-aadc-93891bad1608 button.colab-df-convert');\n",
              "      buttonEl.style.display =\n",
              "        google.colab.kernel.accessAllowed ? 'block' : 'none';\n",
              "\n",
              "      async function convertToInteractive(key) {\n",
              "        const element = document.querySelector('#df-c6e92597-a8b7-4319-aadc-93891bad1608');\n",
              "        const dataTable =\n",
              "          await google.colab.kernel.invokeFunction('convertToInteractive',\n",
              "                                                    [key], {});\n",
              "        if (!dataTable) return;\n",
              "\n",
              "        const docLinkHtml = 'Like what you see? Visit the ' +\n",
              "          '<a target=\"_blank\" href=https://colab.research.google.com/notebooks/data_table.ipynb>data table notebook</a>'\n",
              "          + ' to learn more about interactive tables.';\n",
              "        element.innerHTML = '';\n",
              "        dataTable['output_type'] = 'display_data';\n",
              "        await google.colab.output.renderOutput(dataTable, element);\n",
              "        const docLink = document.createElement('div');\n",
              "        docLink.innerHTML = docLinkHtml;\n",
              "        element.appendChild(docLink);\n",
              "      }\n",
              "    </script>\n",
              "  </div>\n",
              "\n",
              "\n",
              "<div id=\"df-58dd52a1-f010-4531-a630-fb34fed7cc26\">\n",
              "  <button class=\"colab-df-quickchart\" onclick=\"quickchart('df-58dd52a1-f010-4531-a630-fb34fed7cc26')\"\n",
              "            title=\"Suggest charts\"\n",
              "            style=\"display:none;\">\n",
              "\n",
              "<svg xmlns=\"http://www.w3.org/2000/svg\" height=\"24px\"viewBox=\"0 0 24 24\"\n",
              "     width=\"24px\">\n",
              "    <g>\n",
              "        <path d=\"M19 3H5c-1.1 0-2 .9-2 2v14c0 1.1.9 2 2 2h14c1.1 0 2-.9 2-2V5c0-1.1-.9-2-2-2zM9 17H7v-7h2v7zm4 0h-2V7h2v10zm4 0h-2v-4h2v4z\"/>\n",
              "    </g>\n",
              "</svg>\n",
              "  </button>\n",
              "\n",
              "<style>\n",
              "  .colab-df-quickchart {\n",
              "      --bg-color: #E8F0FE;\n",
              "      --fill-color: #1967D2;\n",
              "      --hover-bg-color: #E2EBFA;\n",
              "      --hover-fill-color: #174EA6;\n",
              "      --disabled-fill-color: #AAA;\n",
              "      --disabled-bg-color: #DDD;\n",
              "  }\n",
              "\n",
              "  [theme=dark] .colab-df-quickchart {\n",
              "      --bg-color: #3B4455;\n",
              "      --fill-color: #D2E3FC;\n",
              "      --hover-bg-color: #434B5C;\n",
              "      --hover-fill-color: #FFFFFF;\n",
              "      --disabled-bg-color: #3B4455;\n",
              "      --disabled-fill-color: #666;\n",
              "  }\n",
              "\n",
              "  .colab-df-quickchart {\n",
              "    background-color: var(--bg-color);\n",
              "    border: none;\n",
              "    border-radius: 50%;\n",
              "    cursor: pointer;\n",
              "    display: none;\n",
              "    fill: var(--fill-color);\n",
              "    height: 32px;\n",
              "    padding: 0;\n",
              "    width: 32px;\n",
              "  }\n",
              "\n",
              "  .colab-df-quickchart:hover {\n",
              "    background-color: var(--hover-bg-color);\n",
              "    box-shadow: 0 1px 2px rgba(60, 64, 67, 0.3), 0 1px 3px 1px rgba(60, 64, 67, 0.15);\n",
              "    fill: var(--button-hover-fill-color);\n",
              "  }\n",
              "\n",
              "  .colab-df-quickchart-complete:disabled,\n",
              "  .colab-df-quickchart-complete:disabled:hover {\n",
              "    background-color: var(--disabled-bg-color);\n",
              "    fill: var(--disabled-fill-color);\n",
              "    box-shadow: none;\n",
              "  }\n",
              "\n",
              "  .colab-df-spinner {\n",
              "    border: 2px solid var(--fill-color);\n",
              "    border-color: transparent;\n",
              "    border-bottom-color: var(--fill-color);\n",
              "    animation:\n",
              "      spin 1s steps(1) infinite;\n",
              "  }\n",
              "\n",
              "  @keyframes spin {\n",
              "    0% {\n",
              "      border-color: transparent;\n",
              "      border-bottom-color: var(--fill-color);\n",
              "      border-left-color: var(--fill-color);\n",
              "    }\n",
              "    20% {\n",
              "      border-color: transparent;\n",
              "      border-left-color: var(--fill-color);\n",
              "      border-top-color: var(--fill-color);\n",
              "    }\n",
              "    30% {\n",
              "      border-color: transparent;\n",
              "      border-left-color: var(--fill-color);\n",
              "      border-top-color: var(--fill-color);\n",
              "      border-right-color: var(--fill-color);\n",
              "    }\n",
              "    40% {\n",
              "      border-color: transparent;\n",
              "      border-right-color: var(--fill-color);\n",
              "      border-top-color: var(--fill-color);\n",
              "    }\n",
              "    60% {\n",
              "      border-color: transparent;\n",
              "      border-right-color: var(--fill-color);\n",
              "    }\n",
              "    80% {\n",
              "      border-color: transparent;\n",
              "      border-right-color: var(--fill-color);\n",
              "      border-bottom-color: var(--fill-color);\n",
              "    }\n",
              "    90% {\n",
              "      border-color: transparent;\n",
              "      border-bottom-color: var(--fill-color);\n",
              "    }\n",
              "  }\n",
              "</style>\n",
              "\n",
              "  <script>\n",
              "    async function quickchart(key) {\n",
              "      const quickchartButtonEl =\n",
              "        document.querySelector('#' + key + ' button');\n",
              "      quickchartButtonEl.disabled = true;  // To prevent multiple clicks.\n",
              "      quickchartButtonEl.classList.add('colab-df-spinner');\n",
              "      try {\n",
              "        const charts = await google.colab.kernel.invokeFunction(\n",
              "            'suggestCharts', [key], {});\n",
              "      } catch (error) {\n",
              "        console.error('Error during call to suggestCharts:', error);\n",
              "      }\n",
              "      quickchartButtonEl.classList.remove('colab-df-spinner');\n",
              "      quickchartButtonEl.classList.add('colab-df-quickchart-complete');\n",
              "    }\n",
              "    (() => {\n",
              "      let quickchartButtonEl =\n",
              "        document.querySelector('#df-58dd52a1-f010-4531-a630-fb34fed7cc26 button');\n",
              "      quickchartButtonEl.style.display =\n",
              "        google.colab.kernel.accessAllowed ? 'block' : 'none';\n",
              "    })();\n",
              "  </script>\n",
              "</div>\n",
              "\n",
              "  <div id=\"id_f783199d-c2e4-4aac-8ad4-cf187a8a6580\">\n",
              "    <style>\n",
              "      .colab-df-generate {\n",
              "        background-color: #E8F0FE;\n",
              "        border: none;\n",
              "        border-radius: 50%;\n",
              "        cursor: pointer;\n",
              "        display: none;\n",
              "        fill: #1967D2;\n",
              "        height: 32px;\n",
              "        padding: 0 0 0 0;\n",
              "        width: 32px;\n",
              "      }\n",
              "\n",
              "      .colab-df-generate:hover {\n",
              "        background-color: #E2EBFA;\n",
              "        box-shadow: 0px 1px 2px rgba(60, 64, 67, 0.3), 0px 1px 3px 1px rgba(60, 64, 67, 0.15);\n",
              "        fill: #174EA6;\n",
              "      }\n",
              "\n",
              "      [theme=dark] .colab-df-generate {\n",
              "        background-color: #3B4455;\n",
              "        fill: #D2E3FC;\n",
              "      }\n",
              "\n",
              "      [theme=dark] .colab-df-generate:hover {\n",
              "        background-color: #434B5C;\n",
              "        box-shadow: 0px 1px 3px 1px rgba(0, 0, 0, 0.15);\n",
              "        filter: drop-shadow(0px 1px 2px rgba(0, 0, 0, 0.3));\n",
              "        fill: #FFFFFF;\n",
              "      }\n",
              "    </style>\n",
              "    <button class=\"colab-df-generate\" onclick=\"generateWithVariable('df')\"\n",
              "            title=\"Generate code using this dataframe.\"\n",
              "            style=\"display:none;\">\n",
              "\n",
              "  <svg xmlns=\"http://www.w3.org/2000/svg\" height=\"24px\"viewBox=\"0 0 24 24\"\n",
              "       width=\"24px\">\n",
              "    <path d=\"M7,19H8.4L18.45,9,17,7.55,7,17.6ZM5,21V16.75L18.45,3.32a2,2,0,0,1,2.83,0l1.4,1.43a1.91,1.91,0,0,1,.58,1.4,1.91,1.91,0,0,1-.58,1.4L9.25,21ZM18.45,9,17,7.55Zm-12,3A5.31,5.31,0,0,0,4.9,8.1,5.31,5.31,0,0,0,1,6.5,5.31,5.31,0,0,0,4.9,4.9,5.31,5.31,0,0,0,6.5,1,5.31,5.31,0,0,0,8.1,4.9,5.31,5.31,0,0,0,12,6.5,5.46,5.46,0,0,0,6.5,12Z\"/>\n",
              "  </svg>\n",
              "    </button>\n",
              "    <script>\n",
              "      (() => {\n",
              "      const buttonEl =\n",
              "        document.querySelector('#id_f783199d-c2e4-4aac-8ad4-cf187a8a6580 button.colab-df-generate');\n",
              "      buttonEl.style.display =\n",
              "        google.colab.kernel.accessAllowed ? 'block' : 'none';\n",
              "\n",
              "      buttonEl.onclick = () => {\n",
              "        google.colab.notebook.generateWithVariable('df');\n",
              "      }\n",
              "      })();\n",
              "    </script>\n",
              "  </div>\n",
              "\n",
              "    </div>\n",
              "  </div>\n"
            ],
            "application/vnd.google.colaboratory.intrinsic+json": {
              "type": "dataframe",
              "variable_name": "df",
              "summary": "{\n  \"name\": \"df\",\n  \"rows\": 545,\n  \"fields\": [\n    {\n      \"column\": \"firstName\",\n      \"properties\": {\n        \"dtype\": \"string\",\n        \"num_unique_values\": 416,\n        \"samples\": [\n          \"Tim\",\n          \"Abdel\",\n          \"Christian\"\n        ],\n        \"semantic_type\": \"\",\n        \"description\": \"\"\n      }\n    },\n    {\n      \"column\": \"lastName\",\n      \"properties\": {\n        \"dtype\": \"string\",\n        \"num_unique_values\": 464,\n        \"samples\": [\n          \"Antetokounmpo\",\n          \"Bazley\",\n          \"Bitadze\"\n        ],\n        \"semantic_type\": \"\",\n        \"description\": \"\"\n      }\n    },\n    {\n      \"column\": \"playerId\",\n      \"properties\": {\n        \"dtype\": \"number\",\n        \"std\": 676190,\n        \"min\": 2544,\n        \"max\": 1630492,\n        \"num_unique_values\": 545,\n        \"samples\": [\n          1630230,\n          1628973,\n          1627750\n        ],\n        \"semantic_type\": \"\",\n        \"description\": \"\"\n      }\n    },\n    {\n      \"column\": \"teamId\",\n      \"properties\": {\n        \"dtype\": \"number\",\n        \"std\": 420406204,\n        \"min\": 0,\n        \"max\": 1610612766,\n        \"num_unique_values\": 31,\n        \"samples\": [\n          1610612737,\n          1610612758,\n          1610612750\n        ],\n        \"semantic_type\": \"\",\n        \"description\": \"\"\n      }\n    }\n  ]\n}"
            }
          },
          "metadata": {},
          "execution_count": 13
        }
      ]
    },
    {
      "cell_type": "markdown",
      "source": [
        "## Convierte a dataframe y responde ¿cuáles son los 3 nombres de jugadores más comunes? (Tip: investiga el uso de value_counts() y nlargest())"
      ],
      "metadata": {
        "id": "D7f7210VA7KW"
      }
    },
    {
      "cell_type": "code",
      "source": [
        "nombre_comun = df['firstName'].value_counts(normalize=False, sort=True, ascending=False, bins=None, dropna=True).nlargest(3)\n",
        "nombre_comun"
      ],
      "metadata": {
        "colab": {
          "base_uri": "https://localhost:8080/",
          "height": 209
        },
        "id": "s9vfL_YFA9Cj",
        "outputId": "b0056dd2-7452-4bb4-eafb-7cd7ae8e1206"
      },
      "execution_count": 15,
      "outputs": [
        {
          "output_type": "execute_result",
          "data": {
            "text/plain": [
              "firstName\n",
              "Jordan     6\n",
              "Josh       6\n",
              "Anthony    5\n",
              "Name: count, dtype: int64"
            ],
            "text/html": [
              "<div>\n",
              "<style scoped>\n",
              "    .dataframe tbody tr th:only-of-type {\n",
              "        vertical-align: middle;\n",
              "    }\n",
              "\n",
              "    .dataframe tbody tr th {\n",
              "        vertical-align: top;\n",
              "    }\n",
              "\n",
              "    .dataframe thead th {\n",
              "        text-align: right;\n",
              "    }\n",
              "</style>\n",
              "<table border=\"1\" class=\"dataframe\">\n",
              "  <thead>\n",
              "    <tr style=\"text-align: right;\">\n",
              "      <th></th>\n",
              "      <th>count</th>\n",
              "    </tr>\n",
              "    <tr>\n",
              "      <th>firstName</th>\n",
              "      <th></th>\n",
              "    </tr>\n",
              "  </thead>\n",
              "  <tbody>\n",
              "    <tr>\n",
              "      <th>Jordan</th>\n",
              "      <td>6</td>\n",
              "    </tr>\n",
              "    <tr>\n",
              "      <th>Josh</th>\n",
              "      <td>6</td>\n",
              "    </tr>\n",
              "    <tr>\n",
              "      <th>Anthony</th>\n",
              "      <td>5</td>\n",
              "    </tr>\n",
              "  </tbody>\n",
              "</table>\n",
              "</div><br><label><b>dtype:</b> int64</label>"
            ]
          },
          "metadata": {},
          "execution_count": 15
        }
      ]
    },
    {
      "cell_type": "markdown",
      "source": [
        "## Exporta nuevamente el dataframe a formato JSON con orientación `split`."
      ],
      "metadata": {
        "id": "IIjhHAQrCAEp"
      }
    },
    {
      "cell_type": "code",
      "source": [
        "df.to_json('archivo2.json', orient='split')\n"
      ],
      "metadata": {
        "id": "CLyg2T6lCB9N"
      },
      "execution_count": 22,
      "outputs": []
    },
    {
      "cell_type": "markdown",
      "source": [
        "## Despliega el “texto simple” del nuevo documento JSON para confirmar la estructura."
      ],
      "metadata": {
        "id": "PjeqiO3mC8VA"
      }
    },
    {
      "cell_type": "code",
      "source": [
        "!cat archivo2.json"
      ],
      "metadata": {
        "colab": {
          "base_uri": "https://localhost:8080/"
        },
        "id": "8pQhFlDBC-Yg",
        "outputId": "9df3c6e0-9bc9-4ad2-d846-9bbe88499dbf"
      },
      "execution_count": 20,
      "outputs": [
        {
          "output_type": "stream",
          "name": "stdout",
          "text": [
            "{\"columns\":[\"firstName\",\"lastName\",\"playerId\",\"teamId\"],\"index\":[0,1,2,3,4,5,6,7,8,9,10,11,12,13,14,15,16,17,18,19,20,21,22,23,24,25,26,27,28,29,30,31,32,33,34,35,36,37,38,39,40,41,42,43,44,45,46,47,48,49,50,51,52,53,54,55,56,57,58,59,60,61,62,63,64,65,66,67,68,69,70,71,72,73,74,75,76,77,78,79,80,81,82,83,84,85,86,87,88,89,90,91,92,93,94,95,96,97,98,99,100,101,102,103,104,105,106,107,108,109,110,111,112,113,114,115,116,117,118,119,120,121,122,123,124,125,126,127,128,129,130,131,132,133,134,135,136,137,138,139,140,141,142,143,144,145,146,147,148,149,150,151,152,153,154,155,156,157,158,159,160,161,162,163,164,165,166,167,168,169,170,171,172,173,174,175,176,177,178,179,180,181,182,183,184,185,186,187,188,189,190,191,192,193,194,195,196,197,198,199,200,201,202,203,204,205,206,207,208,209,210,211,212,213,214,215,216,217,218,219,220,221,222,223,224,225,226,227,228,229,230,231,232,233,234,235,236,237,238,239,240,241,242,243,244,245,246,247,248,249,250,251,252,253,254,255,256,257,258,259,260,261,262,263,264,265,266,267,268,269,270,271,272,273,274,275,276,277,278,279,280,281,282,283,284,285,286,287,288,289,290,291,292,293,294,295,296,297,298,299,300,301,302,303,304,305,306,307,308,309,310,311,312,313,314,315,316,317,318,319,320,321,322,323,324,325,326,327,328,329,330,331,332,333,334,335,336,337,338,339,340,341,342,343,344,345,346,347,348,349,350,351,352,353,354,355,356,357,358,359,360,361,362,363,364,365,366,367,368,369,370,371,372,373,374,375,376,377,378,379,380,381,382,383,384,385,386,387,388,389,390,391,392,393,394,395,396,397,398,399,400,401,402,403,404,405,406,407,408,409,410,411,412,413,414,415,416,417,418,419,420,421,422,423,424,425,426,427,428,429,430,431,432,433,434,435,436,437,438,439,440,441,442,443,444,445,446,447,448,449,450,451,452,453,454,455,456,457,458,459,460,461,462,463,464,465,466,467,468,469,470,471,472,473,474,475,476,477,478,479,480,481,482,483,484,485,486,487,488,489,490,491,492,493,494,495,496,497,498,499,500,501,502,503,504,505,506,507,508,509,510,511,512,513,514,515,516,517,518,519,520,521,522,523,524,525,526,527,528,529,530,531,532,533,534,535,536,537,538,539,540,541,542,543,544],\"data\":[[\"Precious\",\"Achiuwa\",1630173,1610612748],[\"Jaylen\",\"Adams\",1629121,0],[\"Steven\",\"Adams\",203500,1610612740],[\"Bam\",\"Adebayo\",1628389,1610612748],[\"LaMarcus\",\"Aldridge\",200746,0],[\"Ty-Shon\",\"Alexander\",1630234,1610612756],[\"Nickeil\",\"Alexander-Walker\",1629638,1610612740],[\"Grayson\",\"Allen\",1628960,1610612763],[\"Jarrett\",\"Allen\",1628386,1610612739],[\"Al-Farouq\",\"Aminu\",202329,1610612741],[\"Kyle\",\"Anderson\",203937,1610612763],[\"Giannis\",\"Antetokounmpo\",203507,1610612749],[\"Kostas\",\"Antetokounmpo\",1628961,1610612747],[\"Thanasis\",\"Antetokounmpo\",203648,1610612749],[\"Carmelo\",\"Anthony\",2546,1610612757],[\"Cole\",\"Anthony\",1630175,1610612753],[\"OG\",\"Anunoby\",1628384,1610612761],[\"Ryan\",\"Arcidiacono\",1627853,1610612741],[\"Trevor\",\"Ariza\",2772,1610612748],[\"D.J.\",\"Augustin\",201571,1610612745],[\"Deni\",\"Avdija\",1630166,1610612764],[\"Deandre\",\"Ayton\",1629028,1610612756],[\"Udoka\",\"Azubuike\",1628962,1610612762],[\"Dwayne\",\"Bacon\",1628407,1610612753],[\"Marvin\",\"Bagley III\",1628963,1610612758],[\"LaMelo\",\"Ball\",1630163,1610612766],[\"Lonzo\",\"Ball\",1628366,1610612740],[\"Mo\",\"Bamba\",1628964,1610612753],[\"Desmond\",\"Bane\",1630217,1610612763],[\"Harrison\",\"Barnes\",203084,1610612758],[\"RJ\",\"Barrett\",1629628,1610612752],[\"Will\",\"Barton\",203115,1610612743],[\"Keita\",\"Bates-Diop\",1628966,1610612759],[\"Nicolas\",\"Batum\",201587,1610612746],[\"Aron\",\"Baynes\",203382,1610612761],[\"Kent\",\"Bazemore\",203145,1610612744],[\"Darius\",\"Bazley\",1629647,1610612760],[\"Bradley\",\"Beal\",203078,1610612764],[\"Malik\",\"Beasley\",1627736,1610612750],[\"Jordan\",\"Bell\",1628395,1610612744],[\"DeAndre'\",\"Bembry\",1627761,1610612761],[\"Davis\",\"Bertans\",202722,1610612764],[\"Patrick\",\"Beverley\",201976,1610612746],[\"Saddiq\",\"Bey\",1630180,1610612765],[\"Tyler\",\"Bey\",1630189,1610612742],[\"Khem\",\"Birch\",203920,1610612761],[\"Goga\",\"Bitadze\",1629048,1610612754],[\"Bismack\",\"Biyombo\",202687,1610612766],[\"Nemanja\",\"Bjelica\",202357,1610612748],[\"Eric\",\"Bledsoe\",202339,1610612740],[\"Keljin\",\"Blevins\",1629833,1610612757],[\"Bogdan\",\"Bogdanovic\",203992,1610612737],[\"Bojan\",\"Bogdanovic\",202711,1610612762],[\"Bol\",\"Bol\",1629626,1610612743],[\"Marques\",\"Bolden\",1629716,0],[\"Jordan\",\"Bone\",1629648,0],[\"Isaac\",\"Bonga\",1629067,1610612764],[\"Devin\",\"Booker\",1626164,1610612756],[\"Chris\",\"Boucher\",1628449,1610612761],[\"Brian\",\"Bowen II\",1628968,0],[\"Avery\",\"Bradley\",202340,1610612745],[\"Tony\",\"Bradley\",1628396,1610612760],[\"Jarrell\",\"Brantley\",1629714,1610612762],[\"Ignas\",\"Brazdeikis\",1629649,1610612753],[\"Mikal\",\"Bridges\",1628969,1610612756],[\"Miles\",\"Bridges\",1628970,1610612766],[\"Amida\",\"Brimah\",1628578,1610612754],[\"Oshae\",\"Brissett\",1629052,1610612754],[\"Malcolm\",\"Brogdon\",1627763,1610612754],[\"Armoni\",\"Brooks\",1629717,1610612745],[\"Dillon\",\"Brooks\",1628415,1610612763],[\"Bruce\",\"Brown\",1628971,1610612751],[\"Jaylen\",\"Brown\",1627759,1610612738],[\"Moses\",\"Brown\",1629650,1610612760],[\"Sterling\",\"Brown\",1628425,1610612745],[\"Charlie\",\"Brown Jr.\",1629718,1610612760],[\"Troy\",\"Brown Jr.\",1628972,1610612741],[\"Jalen\",\"Brunson\",1628973,1610612742],[\"Elijah\",\"Bryant\",1629091,1610612749],[\"Thomas\",\"Bryant\",1628418,1610612764],[\"Reggie\",\"Bullock\",203493,1610612752],[\"Trey\",\"Burke\",203504,1610612742],[\"Alec\",\"Burks\",202692,1610612752],[\"Jimmy\",\"Butler\",202710,1610612748],[\"Bruno\",\"Caboclo\",203998,0],[\"Devontae\",\"Cacok\",1629719,1610612747],[\"Kentavious\",\"Caldwell-Pope\",203484,1610612747],[\"Facundo\",\"Campazzo\",1630267,1610612743],[\"Vlatko\",\"Cancar\",1628427,1610612743],[\"Devin\",\"Cannady\",1629962,0],[\"Clint\",\"Capela\",203991,1610612737],[\"Vernon\",\"Carey Jr.\",1630176,1610612766],[\"Jevon\",\"Carter\",1628975,1610612756],[\"Wendell\",\"Carter Jr.\",1628976,1610612753],[\"Michael\",\"Carter-Williams\",203487,1610612753],[\"Alex\",\"Caruso\",1627936,1610612747],[\"Willie\",\"Cauley-Stein\",1626161,1610612742],[\"Chris\",\"Chiozza\",1629185,1610612751],[\"Marquese\",\"Chriss\",1627737,0],[\"Gary\",\"Clark\",1629109,1610612755],[\"Brandon\",\"Clarke\",1629634,1610612763],[\"Jordan\",\"Clarkson\",203903,1610612762],[\"Nicolas\",\"Claxton\",1629651,1610612751],[\"Amir\",\"Coffey\",1629599,1610612746],[\"John\",\"Collins\",1628381,1610612737],[\"Zach\",\"Collins\",1628380,1610612757],[\"Mike\",\"Conley\",201144,1610612762],[\"Pat\",\"Connaughton\",1626192,1610612749],[\"Quinn\",\"Cook\",1626188,0],[\"Tyler\",\"Cook\",1629076,1610612765],[\"DeMarcus\",\"Cousins\",202326,1610612746],[\"Robert\",\"Covington\",203496,1610612757],[\"Torrey\",\"Craig\",1628470,1610612756],[\"Jae\",\"Crowder\",203109,1610612756],[\"Jarrett\",\"Culver\",1629633,1610612750],[\"Seth\",\"Curry\",203552,1610612755],[\"Stephen\",\"Curry\",201939,1610612744],[\"Nate\",\"Darling\",1630268,1610612766],[\"Anthony\",\"Davis\",203076,1610612747],[\"Ed\",\"Davis\",202334,1610612750],[\"Terence\",\"Davis\",1629056,1610612758],[\"DeMar\",\"DeRozan\",201942,1610612759],[\"Gabriel\",\"Deck\",1630466,1610612760],[\"Dewayne\",\"Dedmon\",203473,1610612748],[\"Matthew\",\"Dellavedova\",203521,1610612739],[\"Donte\",\"DiVincenzo\",1628978,1610612749],[\"Mamadi\",\"Diakite\",1629603,1610612749],[\"Hamidou\",\"Diallo\",1628977,1610612765],[\"Gorgui\",\"Dieng\",203476,1610612759],[\"Spencer\",\"Dinwiddie\",203915,1610612751],[\"Luka\",\"Doncic\",1629029,1610612742],[\"Luguentz\",\"Dort\",1629652,1610612760],[\"Damyean\",\"Dotson\",1628422,1610612739],[\"Devon\",\"Dotson\",1629653,1610612741],[\"Sekou\",\"Doumbouya\",1629635,1610612765],[\"PJ\",\"Dozier\",1628408,1610612743],[\"Goran\",\"Dragic\",201609,1610612748],[\"Andre\",\"Drummond\",203083,1610612747],[\"Jared\",\"Dudley\",201162,1610612747],[\"Kris\",\"Dunn\",1627739,1610612737],[\"Kevin\",\"Durant\",201142,1610612751],[\"Anthony\",\"Edwards\",1630162,1610612750],[\"Carsen\",\"Edwards\",1629035,1610612738],[\"CJ\",\"Elleby\",1629604,1610612757],[\"Henry\",\"Ellenson\",1627740,0],[\"Wayne\",\"Ellington\",201961,1610612765],[\"Joel\",\"Embiid\",203954,1610612755],[\"James\",\"Ennis III\",203516,1610612753],[\"Drew\",\"Eubanks\",1629234,1610612759],[\"Dante\",\"Exum\",203957,1610612745],[\"Tacko\",\"Fall\",1629605,1610612738],[\"Derrick\",\"Favors\",202324,1610612762],[\"Cristiano\",\"Felicio\",1626245,1610612741],[\"Terrance\",\"Ferguson\",1628390,0],[\"Bruno\",\"Fernando\",1628981,1610612737],[\"Yogi\",\"Ferrell\",1627812,1610612746],[\"Dorian\",\"Finney-Smith\",1627827,1610612742],[\"Malik\",\"Fitts\",1630238,0],[\"Malachi\",\"Flynn\",1630201,1610612761],[\"Bryn\",\"Forbes\",1627854,1610612749],[\"Trent\",\"Forrest\",1630235,1610612762],[\"Evan\",\"Fournier\",203095,1610612738],[\"De'Aaron\",\"Fox\",1628368,1610612758],[\"Robert\",\"Franks\",1629606,0],[\"Tim\",\"Frazier\",204025,1610612763],[\"Markelle\",\"Fultz\",1628365,1610612753],[\"Wenyen\",\"Gabriel\",1629117,1610612740],[\"Daniel\",\"Gafford\",1629655,1610612764],[\"Danilo\",\"Gallinari\",201568,1610612737],[\"Langston\",\"Galloway\",204038,1610612756],[\"Darius\",\"Garland\",1629636,1610612739],[\"Marc\",\"Gasol\",201188,1610612747],[\"Rudy\",\"Gay\",200752,1610612759],[\"Paul\",\"George\",202331,1610612746],[\"Taj\",\"Gibson\",201959,1610612752],[\"Harry\",\"Giles III\",1628385,1610612757],[\"Shai\",\"Gilgeous-Alexander\",1628983,1610612760],[\"Anthony\",\"Gill\",1630264,1610612764],[\"Freddie\",\"Gillespie\",1630273,1610612761],[\"Rudy\",\"Gobert\",203497,1610612762],[\"Brandon\",\"Goodwin\",1629164,1610612737],[\"Aaron\",\"Gordon\",203932,1610612743],[\"Eric\",\"Gordon\",201569,1610612745],[\"Devonte'\",\"Graham\",1628984,1610612766],[\"Jerami\",\"Grant\",203924,1610612765],[\"Danny\",\"Green\",201980,1610612755],[\"Draymond\",\"Green\",203110,1610612744],[\"JaMychal\",\"Green\",203210,1610612743],[\"Javonte\",\"Green\",1629750,1610612741],[\"Jeff\",\"Green\",201145,1610612751],[\"Josh\",\"Green\",1630182,1610612742],[\"Blake\",\"Griffin\",201933,1610612751],[\"Kyle\",\"Guy\",1629657,1610612758],[\"Rui\",\"Hachimura\",1629060,1610612764],[\"Ashton\",\"Hagans\",1630204,0],[\"Tyrese\",\"Haliburton\",1630169,1610612758],[\"Donta\",\"Hall\",1629743,1610612753],[\"Josh\",\"Hall\",1630221,1610612760],[\"R.J.\",\"Hampton\",1630181,1610612753],[\"Tim\",\"Hardaway Jr.\",203501,1610612742],[\"James\",\"Harden\",201935,1610612751],[\"Maurice\",\"Harkless\",203090,1610612758],[\"Jared\",\"Harper\",1629607,1610612752],[\"Montrezl\",\"Harrell\",1626149,1610612747],[\"Gary\",\"Harris\",203914,1610612753],[\"Jalen\",\"Harris\",1630223,1610612761],[\"Joe\",\"Harris\",203925,1610612751],[\"Tobias\",\"Harris\",202699,1610612755],[\"Shaquille\",\"Harrison\",1627885,1610612743],[\"Josh\",\"Hart\",1628404,1610612740],[\"Isaiah\",\"Hartenstein\",1628392,1610612739],[\"Udonis\",\"Haslem\",2617,1610612748],[\"Jaxson\",\"Hayes\",1629637,1610612740],[\"Killian\",\"Hayes\",1630165,1610612765],[\"Gordon\",\"Hayward\",202330,1610612766],[\"Juancho\",\"Hernangomez\",1627823,1610612750],[\"Willy\",\"Hernangomez\",1626195,1610612740],[\"Tyler\",\"Herro\",1629639,1610612748],[\"Buddy\",\"Hield\",1627741,1610612758],[\"George\",\"Hill\",201588,1610612755],[\"Solomon\",\"Hill\",203524,1610612737],[\"Nate\",\"Hinton\",1630207,1610612742],[\"Jaylen\",\"Hoard\",1629658,1610612760],[\"Aaron\",\"Holiday\",1628988,1610612754],[\"Jrue\",\"Holiday\",201950,1610612749],[\"Justin\",\"Holiday\",203200,1610612754],[\"Rondae\",\"Hollis-Jefferson\",1626178,1610612757],[\"Richaun\",\"Holmes\",1626158,1610612758],[\"Rodney\",\"Hood\",203918,1610612761],[\"Al\",\"Horford\",201143,1610612760],[\"Talen\",\"Horton-Tucker\",1629659,1610612747],[\"Danuel\",\"House Jr.\",1627863,1610612745],[\"Dwight\",\"Howard\",2730,1610612755],[\"Markus\",\"Howard\",1630210,1610612743],[\"Kevin\",\"Huerter\",1628989,1610612737],[\"Elijah\",\"Hughes\",1630190,1610612762],[\"De'Andre\",\"Hunter\",1629631,1610612737],[\"Chandler\",\"Hutchison\",1628990,1610612764],[\"Serge\",\"Ibaka\",201586,1610612746],[\"Andre\",\"Iguodala\",2738,1610612748],[\"Ersan\",\"Ilyasova\",101141,1610612762],[\"Joe\",\"Ingles\",204060,1610612762],[\"Brandon\",\"Ingram\",1627742,1610612740],[\"Kyrie\",\"Irving\",202681,1610612751],[\"Jonathan\",\"Isaac\",1628371,1610612753],[\"Wes\",\"Iwundu\",1628411,1610612740],[\"Frank\",\"Jackson\",1628402,1610612765],[\"Josh\",\"Jackson\",1628367,1610612765],[\"Justin\",\"Jackson\",1628382,1610612749],[\"Reggie\",\"Jackson\",202704,1610612746],[\"Jaren\",\"Jackson Jr.\",1628991,1610612763],[\"Justin\",\"James\",1629713,1610612758],[\"LeBron\",\"James\",2544,1610612747],[\"Mike\",\"James\",1628455,1610612751],[\"DaQuan\",\"Jeffries\",1629610,0],[\"Ty\",\"Jerome\",1629660,1610612760],[\"Isaiah\",\"Joe\",1630198,1610612755],[\"Alize\",\"Johnson\",1628993,1610612751],[\"Cameron\",\"Johnson\",1629661,1610612756],[\"James\",\"Johnson\",201949,1610612740],[\"Keldon\",\"Johnson\",1629640,1610612759],[\"Stanley\",\"Johnson\",1626169,1610612761],[\"Tyler\",\"Johnson\",204020,1610612751],[\"Nikola\",\"Jokic\",203999,1610612743],[\"Damian\",\"Jones\",1627745,1610612758],[\"Mason\",\"Jones\",1630222,0],[\"Tre\",\"Jones\",1630200,1610612759],[\"Tyus\",\"Jones\",1626145,1610612763],[\"Derrick\",\"Jones Jr.\",1627884,1610612757],[\"DeAndre\",\"Jordan\",201599,1610612751],[\"Cory\",\"Joseph\",202709,1610612765],[\"Mfiondu\",\"Kabengele\",1629662,1610612739],[\"Frank\",\"Kaminsky\",1626163,1610612756],[\"Enes\",\"Kanter\",202683,1610612757],[\"Luke\",\"Kennard\",1628379,1610612746],[\"Louis\",\"King\",1629663,1610612758],[\"Maxi\",\"Kleber\",1628467,1610612742],[\"Nathan\",\"Knight\",1630233,1610612737],[\"Kevin\",\"Knox II\",1628995,1610612752],[\"John\",\"Konchar\",1629723,1610612763],[\"Furkan\",\"Korkmaz\",1627788,1610612755],[\"Luke\",\"Kornet\",1628436,1610612738],[\"Rodions\",\"Kurucs\",1629066,0],[\"Kyle\",\"Kuzma\",1628398,1610612747],[\"Zach\",\"LaVine\",203897,1610612741],[\"Anthony\",\"Lamb\",1630237,1610612745],[\"Jeremy\",\"Lamb\",203087,1610612754],[\"Romeo\",\"Langford\",1629641,1610612738],[\"Jake\",\"Layman\",1627774,1610612750],[\"Caris\",\"LeVert\",1627747,1610612754],[\"T.J.\",\"Leaf\",1628388,1610612757],[\"Jalen\",\"Lecque\",1629665,0],[\"Damion\",\"Lee\",1627814,1610612744],[\"Saben\",\"Lee\",1630240,1610612765],[\"Alex\",\"Len\",203458,1610612764],[\"Kawhi\",\"Leonard\",202695,1610612746],[\"Meyers\",\"Leonard\",203086,0],[\"Kira\",\"Lewis Jr.\",1630184,1610612740],[\"Damian\",\"Lillard\",203081,1610612757],[\"Nassir\",\"Little\",1629642,1610612757],[\"Kevon\",\"Looney\",1626172,1610612744],[\"Brook\",\"Lopez\",201572,1610612749],[\"Robin\",\"Lopez\",201577,1610612764],[\"Didi\",\"Louzada\",1629712,1610612740],[\"Kevin\",\"Love\",201567,1610612739],[\"Kyle\",\"Lowry\",200768,1610612761],[\"Timothe\",\"Luwawu-Cabarrot\",1627789,1610612751],[\"Trey\",\"Lyles\",1626168,1610612759],[\"Will\",\"Magnay\",1630266,0],[\"Thon\",\"Maker\",1627748,0],[\"Theo\",\"Maledon\",1630177,1610612760],[\"Karim\",\"Mane\",1630211,0],[\"Terance\",\"Mann\",1629611,1610612746],[\"Nico\",\"Mannion\",1630185,1610612744],[\"Boban\",\"Marjanovic\",1626246,1610612742],[\"Lauri\",\"Markkanen\",1628374,1610612741],[\"Naji\",\"Marshall\",1630230,1610612740],[\"Caleb\",\"Martin\",1628997,1610612766],[\"Cody\",\"Martin\",1628998,1610612766],[\"Jeremiah\",\"Martin\",1629725,1610612739],[\"Kelan\",\"Martin\",1629103,1610612754],[\"Kenyon\",\"Martin Jr.\",1630231,1610612745],[\"Frank\",\"Mason\",1628412,0],[\"Garrison\",\"Mathews\",1629726,1610612764],[\"Dakota\",\"Mathias\",1629751,0],[\"Wesley\",\"Matthews\",202083,1610612747],[\"Tyrese\",\"Maxey\",1630178,1610612755],[\"Skylar\",\"Mays\",1630219,1610612737],[\"Patrick\",\"McCaw\",1627775,0],[\"CJ\",\"McCollum\",203468,1610612757],[\"T.J.\",\"McConnell\",204456,1610612754],[\"Jaden\",\"McDaniels\",1630183,1610612750],[\"Jalen\",\"McDaniels\",1629667,1610612766],[\"Doug\",\"McDermott\",203926,1610612754],[\"Sean\",\"McDermott\",1630253,1610612763],[\"JaVale\",\"McGee\",201580,1610612743],[\"Rodney\",\"McGruder\",203585,1610612765],[\"Alfonzo\",\"McKinnie\",1628035,1610612747],[\"Jordan\",\"McLaughlin\",1629162,1610612750],[\"Ben\",\"McLemore\",203463,1610612747],[\"Nicolo\",\"Melli\",1629740,1610612742],[\"De'Anthony\",\"Melton\",1629001,1610612763],[\"Sam\",\"Merrill\",1630241,1610612749],[\"Chimezie\",\"Metu\",1629002,1610612758],[\"Khris\",\"Middleton\",203114,1610612749],[\"Darius\",\"Miller\",203121,0],[\"Patty\",\"Mills\",201988,1610612759],[\"Paul\",\"Millsap\",200794,1610612743],[\"Shake\",\"Milton\",1629003,1610612755],[\"Donovan\",\"Mitchell\",1628378,1610612762],[\"Adam\",\"Mokoka\",1629690,1610612741],[\"Malik\",\"Monk\",1628370,1610612766],[\"E'Twaun\",\"Moore\",202734,1610612756],[\"Ja\",\"Morant\",1629630,1610612763],[\"Juwan\",\"Morgan\",1629752,1610612762],[\"Markieff\",\"Morris\",202693,1610612747],[\"Monte\",\"Morris\",1628420,1610612743],[\"Marcus\",\"Morris Sr.\",202694,1610612746],[\"Mychal\",\"Mulder\",1628539,1610612744],[\"Dejounte\",\"Murray\",1627749,1610612759],[\"Jamal\",\"Murray\",1627750,1610612743],[\"Mike\",\"Muscala\",203488,1610612760],[\"Svi\",\"Mykhailiuk\",1629004,1610612760],[\"Abdel\",\"Nader\",1627846,1610612756],[\"Larry\",\"Nance Jr.\",1626204,1610612739],[\"Aaron\",\"Nesmith\",1630174,1610612738],[\"Raul\",\"Neto\",203526,1610612764],[\"Georges\",\"Niang\",1627777,1610612762],[\"Zeke\",\"Nnaji\",1630192,1610612743],[\"Nerlens\",\"Noel\",203457,1610612752],[\"Jaylen\",\"Nowell\",1629669,1610612750],[\"Frank\",\"Ntilikina\",1628373,1610612752],[\"Kendrick\",\"Nunn\",1629134,1610612748],[\"James\",\"Nunnally\",203263,1610612740],[\"Jusuf\",\"Nurkic\",203994,1610612757],[\"David\",\"Nwaba\",1628021,1610612745],[\"Jordan\",\"Nwora\",1629670,1610612749],[\"Royce\",\"O'Neale\",1626220,1610612762],[\"Semi\",\"Ojeleye\",1628400,1610612738],[\"Jahlil\",\"Okafor\",1626143,1610612765],[\"Chuma\",\"Okeke\",1629643,1610612753],[\"Josh\",\"Okogie\",1629006,1610612750],[\"Onyeka\",\"Okongwu\",1630168,1610612737],[\"Isaac\",\"Okoro\",1630171,1610612739],[\"KZ\",\"Okpala\",1629644,1610612748],[\"Victor\",\"Oladipo\",203506,1610612748],[\"Cameron\",\"Oliver\",1628419,1610612745],[\"Kelly\",\"Olynyk\",203482,1610612745],[\"Miye\",\"Oni\",1629671,1610612762],[\"Cedi\",\"Osman\",1626224,1610612739],[\"Daniel\",\"Oturu\",1630187,1610612746],[\"Kelly\",\"Oubre Jr.\",1626162,1610612744],[\"Jabari\",\"Parker\",203953,1610612738],[\"Eric\",\"Paschall\",1629672,1610612744],[\"Anzejs\",\"Pasecniks\",1628394,0],[\"Patrick\",\"Patterson\",202335,1610612746],[\"Justin\",\"Patton\",1628383,0],[\"Chris\",\"Paul\",101108,1610612756],[\"Cameron\",\"Payne\",1626166,1610612756],[\"Elfrid\",\"Payton\",203901,1610612752],[\"Gary\",\"Payton II\",1627780,0],[\"Norvel\",\"Pelle\",203658,1610612752],[\"Reggie\",\"Perry\",1629617,1610612751],[\"Theo\",\"Pinson\",1629033,1610612752],[\"Mason\",\"Plumlee\",203486,1610612765],[\"Jakob\",\"Poeltl\",1627751,1610612759],[\"Vincent\",\"Poirier\",1629738,0],[\"Aleksej\",\"Pokusevski\",1630197,1610612760],[\"Jordan\",\"Poole\",1629673,1610612744],[\"Jontay\",\"Porter\",1629007,1610612763],[\"Kevin\",\"Porter Jr.\",1629645,1610612745],[\"Michael\",\"Porter Jr.\",1629008,1610612743],[\"Otto\",\"Porter Jr.\",203490,1610612753],[\"Bobby\",\"Portis\",1626171,1610612749],[\"Kristaps\",\"Porzingis\",204001,1610612742],[\"Dwight\",\"Powell\",203939,1610612742],[\"Norman\",\"Powell\",1626181,1610612757],[\"Taurean\",\"Prince\",1627752,1610612739],[\"Payton\",\"Pritchard\",1630202,1610612738],[\"Immanuel\",\"Quickley\",1630193,1610612752],[\"Jahmi'us\",\"Ramsey\",1630186,1610612758],[\"Chasson\",\"Randle\",1626184,1610612753],[\"Julius\",\"Randle\",203944,1610612752],[\"Cam\",\"Reddish\",1629629,1610612737],[\"JJ\",\"Redick\",200755,1610612742],[\"Paul\",\"Reed\",1630194,1610612755],[\"Naz\",\"Reid\",1629675,1610612750],[\"Cameron\",\"Reynolds\",1629244,1610612745],[\"Nick\",\"Richards\",1630208,1610612766],[\"Josh\",\"Richardson\",1626196,1610612742],[\"Grant\",\"Riller\",1630203,1610612766],[\"Austin\",\"Rivers\",203085,1610612743],[\"Andre\",\"Roberson\",203460,0],[\"Duncan\",\"Robinson\",1629130,1610612748],[\"Jerome\",\"Robinson\",1629010,0],[\"Justin\",\"Robinson\",1629620,0],[\"Mitchell\",\"Robinson\",1629011,1610612752],[\"Glenn\",\"Robinson III\",203922,0],[\"Isaiah\",\"Roby\",1629676,1610612760],[\"Rajon\",\"Rondo\",200765,1610612746],[\"Derrick\",\"Rose\",201565,1610612752],[\"Terrence\",\"Ross\",203082,1610612753],[\"Terry\",\"Rozier\",1626179,1610612766],[\"Ricky\",\"Rubio\",201937,1610612750],[\"D'Angelo\",\"Russell\",1626156,1610612750],[\"Domantas\",\"Sabonis\",1627734,1610612754],[\"Luka\",\"Samanic\",1629677,1610612759],[\"JaKarr\",\"Sampson\",203960,1610612754],[\"Dario\",\"Saric\",203967,1610612756],[\"Tomas\",\"Satoransky\",203107,1610612741],[\"Dennis\",\"Schroder\",203471,1610612747],[\"Mike\",\"Scott\",203118,1610612755],[\"Jay\",\"Scrubb\",1630206,1610612746],[\"Collin\",\"Sexton\",1629012,1610612739],[\"Landry\",\"Shamet\",1629013,1610612751],[\"Iman\",\"Shumpert\",202697,0],[\"Pascal\",\"Siakam\",1627783,1610612761],[\"Chris\",\"Silva\",1629735,0],[\"Ben\",\"Simmons\",1627732,1610612755],[\"Anfernee\",\"Simons\",1629014,1610612757],[\"Deividas\",\"Sirvydis\",1629686,1610612765],[\"Alen\",\"Smailagic\",1629346,1610612744],[\"Marcus\",\"Smart\",203935,1610612738],[\"Ish\",\"Smith\",202397,1610612764],[\"Jalen\",\"Smith\",1630188,1610612756],[\"Dennis\",\"Smith Jr.\",1628372,1610612765],[\"Tony\",\"Snell\",203503,1610612737],[\"Ray\",\"Spalding\",1629034,0],[\"Cassius\",\"Stanley\",1630199,1610612754],[\"Lamar\",\"Stevens\",1630205,1610612739],[\"Isaiah\",\"Stewart\",1630191,1610612765],[\"Max\",\"Strus\",1629622,1610612748],[\"Edmond\",\"Sumner\",1628410,1610612754],[\"Jae'Sean\",\"Tate\",1630256,1610612745],[\"Jayson\",\"Tatum\",1628369,1610612738],[\"Jeff\",\"Teague\",201952,1610612749],[\"Garrett\",\"Temple\",202066,1610612741],[\"Tyrell\",\"Terry\",1630179,1610612742],[\"Daniel\",\"Theis\",1628464,1610612741],[\"Brodric\",\"Thomas\",1630271,1610612739],[\"Isaiah\",\"Thomas\",202738,0],[\"Khyri\",\"Thomas\",1629017,1610612745],[\"Matt\",\"Thomas\",1629744,1610612762],[\"Klay\",\"Thompson\",202691,1610612744],[\"Tristan\",\"Thompson\",202684,1610612738],[\"Sindarius\",\"Thornwell\",1628414,1610612753],[\"Matisse\",\"Thybulle\",1629680,1610612755],[\"Killian\",\"Tillie\",1629681,1610612763],[\"Xavier\",\"Tillman\",1630214,1610612763],[\"Anthony\",\"Tolliver\",201229,1610612755],[\"Obi\",\"Toppin\",1630167,1610612752],[\"Juan\",\"Toscano-Anderson\",1629308,1610612744],[\"Axel\",\"Toupane\",1626253,1610612749],[\"Karl-Anthony\",\"Towns\",1626157,1610612750],[\"Gary\",\"Trent Jr.\",1629018,1610612761],[\"P.J.\",\"Tucker\",200782,1610612749],[\"Rayjon\",\"Tucker\",1629730,1610612755],[\"Myles\",\"Turner\",1626167,1610612754],[\"Jonas\",\"Valanciunas\",202685,1610612763],[\"Denzel\",\"Valentine\",1627756,1610612741],[\"Fred\",\"VanVleet\",1627832,1610612761],[\"Jarred\",\"Vanderbilt\",1629020,1610612750],[\"Anderson\",\"Varejao\",2760,1610612739],[\"Devin\",\"Vassell\",1630170,1610612759],[\"Luca\",\"Vildoza\",1630492,1610612752],[\"Gabe\",\"Vincent\",1629216,1610612748],[\"Noah\",\"Vonleh\",203943,0],[\"Nikola\",\"Vucevic\",202696,1610612741],[\"Dean\",\"Wade\",1629731,1610612739],[\"Moritz\",\"Wagner\",1629021,1610612753],[\"Kemba\",\"Walker\",202689,1610612738],[\"Lonnie\",\"Walker IV\",1629022,1610612759],[\"John\",\"Wall\",202322,1610612745],[\"Brad\",\"Wanamaker\",202954,1610612766],[\"T.J.\",\"Warren\",203933,1610612754],[\"P.J.\",\"Washington\",1629023,1610612766],[\"Yuta\",\"Watanabe\",1629139,1610612761],[\"Tremont\",\"Waters\",1629682,1610612738],[\"Paul\",\"Watson\",1628778,1610612761],[\"Quinndary\",\"Weatherspoon\",1629683,1610612759],[\"Russell\",\"Westbrook\",201566,1610612764],[\"Coby\",\"White\",1629632,1610612741],[\"Derrick\",\"White\",1628401,1610612759],[\"Hassan\",\"Whiteside\",202355,1610612758],[\"Greg\",\"Whittington\",204222,0],[\"Andrew\",\"Wiggins\",203952,1610612744],[\"Grant\",\"Williams\",1629684,1610612738],[\"Kenrich\",\"Williams\",1629026,1610612760],[\"Lou\",\"Williams\",101150,1610612737],[\"Patrick\",\"Williams\",1630172,1610612741],[\"Robert\",\"Williams III\",1629057,1610612738],[\"Zion\",\"Williamson\",1629627,1610612740],[\"D.J.\",\"Wilson\",1628391,1610612745],[\"Dylan\",\"Windler\",1629685,1610612739],[\"Justise\",\"Winslow\",1626159,1610612763],[\"Cassius\",\"Winston\",1630216,1610612764],[\"James\",\"Wiseman\",1630164,1610612744],[\"Christian\",\"Wood\",1626174,1610612745],[\"Robert\",\"Woodard II\",1630218,1610612758],[\"Delon\",\"Wright\",1626153,1610612758],[\"Thaddeus\",\"Young\",201152,1610612741],[\"Trae\",\"Young\",1629027,1610612737],[\"Omer\",\"Yurtseven\",1630209,1610612748],[\"Cody\",\"Zeller\",203469,1610612766],[\"Ivica\",\"Zubac\",1627826,1610612746]]}"
          ]
        }
      ]
    }
  ]
}