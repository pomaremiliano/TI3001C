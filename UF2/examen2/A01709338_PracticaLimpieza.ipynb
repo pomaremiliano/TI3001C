{
  "cells": [
    {
      "cell_type": "markdown",
      "id": "7543dca8",
      "metadata": {},
      "source": [
        "# Examen 2: Práctica Limpieza\n",
        "- Jorge Emiliano Pomar \n",
        "- A01709338"
      ]
    },
    {
      "cell_type": "markdown",
      "id": "c82faf09-2c49-4809-9fe6-e90904167def",
      "metadata": {
        "id": "c82faf09-2c49-4809-9fe6-e90904167def"
      },
      "source": [
        "# Preliminares\n",
        "## Limpieza de datos\n",
        "Inserta en el siguiente bloque todas las librerías que vayas a utilizar:"
      ]
    },
    {
      "cell_type": "code",
      "execution_count": 1,
      "id": "096c3981-c59d-4f76-b7ab-948697670dbb",
      "metadata": {
        "id": "096c3981-c59d-4f76-b7ab-948697670dbb"
      },
      "outputs": [
        {
          "name": "stdout",
          "output_type": "stream",
          "text": [
            "Requirement already satisfied: missingno in c:\\users\\pomar\\anaconda3\\lib\\site-packages (0.5.2)\n",
            "Requirement already satisfied: numpy in c:\\users\\pomar\\anaconda3\\lib\\site-packages (from missingno) (1.26.4)\n",
            "Requirement already satisfied: matplotlib in c:\\users\\pomar\\anaconda3\\lib\\site-packages (from missingno) (3.9.2)\n",
            "Requirement already satisfied: scipy in c:\\users\\pomar\\anaconda3\\lib\\site-packages (from missingno) (1.13.1)\n",
            "Requirement already satisfied: seaborn in c:\\users\\pomar\\anaconda3\\lib\\site-packages (from missingno) (0.13.2)\n",
            "Requirement already satisfied: contourpy>=1.0.1 in c:\\users\\pomar\\anaconda3\\lib\\site-packages (from matplotlib->missingno) (1.2.0)\n",
            "Requirement already satisfied: cycler>=0.10 in c:\\users\\pomar\\anaconda3\\lib\\site-packages (from matplotlib->missingno) (0.11.0)\n",
            "Requirement already satisfied: fonttools>=4.22.0 in c:\\users\\pomar\\anaconda3\\lib\\site-packages (from matplotlib->missingno) (4.51.0)\n",
            "Requirement already satisfied: kiwisolver>=1.3.1 in c:\\users\\pomar\\anaconda3\\lib\\site-packages (from matplotlib->missingno) (1.4.4)\n",
            "Requirement already satisfied: packaging>=20.0 in c:\\users\\pomar\\appdata\\roaming\\python\\python312\\site-packages (from matplotlib->missingno) (24.0)\n",
            "Requirement already satisfied: pillow>=8 in c:\\users\\pomar\\anaconda3\\lib\\site-packages (from matplotlib->missingno) (10.4.0)\n",
            "Requirement already satisfied: pyparsing>=2.3.1 in c:\\users\\pomar\\anaconda3\\lib\\site-packages (from matplotlib->missingno) (3.1.2)\n",
            "Requirement already satisfied: python-dateutil>=2.7 in c:\\users\\pomar\\appdata\\roaming\\python\\python312\\site-packages (from matplotlib->missingno) (2.9.0.post0)\n",
            "Requirement already satisfied: pandas>=1.2 in c:\\users\\pomar\\anaconda3\\lib\\site-packages (from seaborn->missingno) (2.2.2)\n",
            "Requirement already satisfied: pytz>=2020.1 in c:\\users\\pomar\\anaconda3\\lib\\site-packages (from pandas>=1.2->seaborn->missingno) (2024.1)\n",
            "Requirement already satisfied: tzdata>=2022.7 in c:\\users\\pomar\\anaconda3\\lib\\site-packages (from pandas>=1.2->seaborn->missingno) (2023.3)\n",
            "Requirement already satisfied: six>=1.5 in c:\\users\\pomar\\appdata\\roaming\\python\\python312\\site-packages (from python-dateutil>=2.7->matplotlib->missingno) (1.16.0)\n"
          ]
        }
      ],
      "source": [
        "import pandas as pd\n",
        "!pip install missingno\n",
        "import missingno as msno\n",
        "import matplotlib.pyplot as plt\n"
      ]
    },
    {
      "cell_type": "markdown",
      "id": "50f7b4b6-084e-4395-bae3-760c5222ec8a",
      "metadata": {
        "id": "50f7b4b6-084e-4395-bae3-760c5222ec8a"
      },
      "source": [
        "## Carga de los datos\n",
        "Carga el archivo [data.csv](https://drive.google.com/file/d/1-NHuf8Wj_-5kToDqCdgDpcwZT5h6fPBQ/view?usp=sharing) a un dataframe de pandas.\n",
        "\n",
        "Nota: Si hay problemas con la codificación, prueba agregar el argumento `encoding=\"ISO-8859-1\"`."
      ]
    },
    {
      "cell_type": "code",
      "execution_count": 2,
      "id": "77bb4e3e-16d7-4d44-aabf-588a29a3a1cf",
      "metadata": {
        "id": "77bb4e3e-16d7-4d44-aabf-588a29a3a1cf"
      },
      "outputs": [
        {
          "data": {
            "text/html": [
              "<div>\n",
              "<style scoped>\n",
              "    .dataframe tbody tr th:only-of-type {\n",
              "        vertical-align: middle;\n",
              "    }\n",
              "\n",
              "    .dataframe tbody tr th {\n",
              "        vertical-align: top;\n",
              "    }\n",
              "\n",
              "    .dataframe thead th {\n",
              "        text-align: right;\n",
              "    }\n",
              "</style>\n",
              "<table border=\"1\" class=\"dataframe\">\n",
              "  <thead>\n",
              "    <tr style=\"text-align: right;\">\n",
              "      <th></th>\n",
              "      <th>InvoiceNo</th>\n",
              "      <th>StockCode</th>\n",
              "      <th>Description</th>\n",
              "      <th>Quantity</th>\n",
              "      <th>InvoiceDate</th>\n",
              "      <th>UnitPrice</th>\n",
              "      <th>CustomerID</th>\n",
              "      <th>Country</th>\n",
              "    </tr>\n",
              "  </thead>\n",
              "  <tbody>\n",
              "    <tr>\n",
              "      <th>0</th>\n",
              "      <td>536365</td>\n",
              "      <td>85123A</td>\n",
              "      <td>WHITE HANGING HEART T-LIGHT HOLDER</td>\n",
              "      <td>6</td>\n",
              "      <td>12/1/2010 8:26</td>\n",
              "      <td>2.55</td>\n",
              "      <td>17850.0</td>\n",
              "      <td>United Kingdom</td>\n",
              "    </tr>\n",
              "    <tr>\n",
              "      <th>1</th>\n",
              "      <td>536365</td>\n",
              "      <td>71053</td>\n",
              "      <td>WHITE METAL LANTERN</td>\n",
              "      <td>6</td>\n",
              "      <td>12/1/2010 8:26</td>\n",
              "      <td>3.39</td>\n",
              "      <td>17850.0</td>\n",
              "      <td>United Kingdom</td>\n",
              "    </tr>\n",
              "    <tr>\n",
              "      <th>2</th>\n",
              "      <td>536365</td>\n",
              "      <td>84406B</td>\n",
              "      <td>CREAM CUPID HEARTS COAT HANGER</td>\n",
              "      <td>8</td>\n",
              "      <td>12/1/2010 8:26</td>\n",
              "      <td>2.75</td>\n",
              "      <td>17850.0</td>\n",
              "      <td>United Kingdom</td>\n",
              "    </tr>\n",
              "    <tr>\n",
              "      <th>3</th>\n",
              "      <td>536365</td>\n",
              "      <td>84029G</td>\n",
              "      <td>KNITTED UNION FLAG HOT WATER BOTTLE</td>\n",
              "      <td>6</td>\n",
              "      <td>12/1/2010 8:26</td>\n",
              "      <td>3.39</td>\n",
              "      <td>17850.0</td>\n",
              "      <td>United Kingdom</td>\n",
              "    </tr>\n",
              "    <tr>\n",
              "      <th>4</th>\n",
              "      <td>536365</td>\n",
              "      <td>84029E</td>\n",
              "      <td>RED WOOLLY HOTTIE WHITE HEART.</td>\n",
              "      <td>6</td>\n",
              "      <td>12/1/2010 8:26</td>\n",
              "      <td>3.39</td>\n",
              "      <td>17850.0</td>\n",
              "      <td>United Kingdom</td>\n",
              "    </tr>\n",
              "  </tbody>\n",
              "</table>\n",
              "</div>"
            ],
            "text/plain": [
              "  InvoiceNo StockCode                          Description  Quantity  \\\n",
              "0    536365    85123A   WHITE HANGING HEART T-LIGHT HOLDER         6   \n",
              "1    536365     71053                  WHITE METAL LANTERN         6   \n",
              "2    536365    84406B       CREAM CUPID HEARTS COAT HANGER         8   \n",
              "3    536365    84029G  KNITTED UNION FLAG HOT WATER BOTTLE         6   \n",
              "4    536365    84029E       RED WOOLLY HOTTIE WHITE HEART.         6   \n",
              "\n",
              "      InvoiceDate  UnitPrice  CustomerID         Country  \n",
              "0  12/1/2010 8:26       2.55     17850.0  United Kingdom  \n",
              "1  12/1/2010 8:26       3.39     17850.0  United Kingdom  \n",
              "2  12/1/2010 8:26       2.75     17850.0  United Kingdom  \n",
              "3  12/1/2010 8:26       3.39     17850.0  United Kingdom  \n",
              "4  12/1/2010 8:26       3.39     17850.0  United Kingdom  "
            ]
          },
          "execution_count": 2,
          "metadata": {},
          "output_type": "execute_result"
        }
      ],
      "source": [
        "# lectura a DF\n",
        "df = pd.read_csv('data.csv', encoding=\"ISO-8859-1\")\n",
        "df.head(5)"
      ]
    },
    {
      "cell_type": "markdown",
      "id": "cafc4b0a-5182-4b44-94b1-0eac0edd9782",
      "metadata": {
        "id": "cafc4b0a-5182-4b44-94b1-0eac0edd9782"
      },
      "source": [
        "<div style=\"border-radius:10px; padding: 15px; background-color: #ffeacc; font-size:130%; text-align:left\">\n",
        "\n",
        "<h2 align=\"left\"><font color=#ff6200>Dataset Description:</font></h2>\n",
        "\n",
        "| __Variable__   | __Description__ |\n",
        "|     :---       |       :---      |      \n",
        "| __InvoiceNo__  | Code representing each unique transaction.  If this code starts with letter 'c', it indicates a cancellation. |\n",
        "| __StockCode__  | Code uniquely assigned to each distinct product. |\n",
        "| __Description__| Description of each product. |\n",
        "| __Quantity__   | The number of units of a product in a transaction. |\n",
        "| __InvoiceDate__| The date and time of the transaction. |\n",
        "| __UnitPrice__  | The unit price of the product in sterling. |\n",
        "| __CustomerID__ | Identifier uniquely assigned to each customer. |\n",
        "| __Country__    | The country of the customer. |\n"
      ]
    },
    {
      "cell_type": "code",
      "execution_count": 3,
      "id": "93c0693b-9399-493e-9f6f-700720bec2bf",
      "metadata": {
        "id": "93c0693b-9399-493e-9f6f-700720bec2bf"
      },
      "outputs": [
        {
          "name": "stdout",
          "output_type": "stream",
          "text": [
            "<class 'pandas.core.frame.DataFrame'>\n",
            "RangeIndex: 541909 entries, 0 to 541908\n",
            "Data columns (total 8 columns):\n",
            " #   Column       Non-Null Count   Dtype  \n",
            "---  ------       --------------   -----  \n",
            " 0   InvoiceNo    541909 non-null  object \n",
            " 1   StockCode    541909 non-null  object \n",
            " 2   Description  540455 non-null  object \n",
            " 3   Quantity     541909 non-null  int64  \n",
            " 4   InvoiceDate  541909 non-null  object \n",
            " 5   UnitPrice    541909 non-null  float64\n",
            " 6   CustomerID   406829 non-null  float64\n",
            " 7   Country      541909 non-null  object \n",
            "dtypes: float64(2), int64(1), object(5)\n",
            "memory usage: 33.1+ MB\n"
          ]
        }
      ],
      "source": [
        "df.info()"
      ]
    },
    {
      "cell_type": "code",
      "execution_count": 4,
      "id": "668b8f18",
      "metadata": {},
      "outputs": [
        {
          "data": {
            "text/plain": [
              "InvoiceNo           0\n",
              "StockCode           0\n",
              "Description      1454\n",
              "Quantity            0\n",
              "InvoiceDate         0\n",
              "UnitPrice           0\n",
              "CustomerID     135080\n",
              "Country             0\n",
              "dtype: int64"
            ]
          },
          "execution_count": 4,
          "metadata": {},
          "output_type": "execute_result"
        }
      ],
      "source": [
        "df.isnull().sum()"
      ]
    },
    {
      "cell_type": "markdown",
      "id": "a66b4834-7bfe-45e6-95cd-db5920e64816",
      "metadata": {
        "id": "a66b4834-7bfe-45e6-95cd-db5920e64816"
      },
      "source": [
        "## Estadística descriptiva\n",
        "Exploremos inicialmente los descriptores estadísticos de todas las variables:"
      ]
    },
    {
      "cell_type": "code",
      "execution_count": 5,
      "id": "a95bb9fd-f87a-4b1b-a006-13a3ec292f0e",
      "metadata": {
        "id": "a95bb9fd-f87a-4b1b-a006-13a3ec292f0e"
      },
      "outputs": [
        {
          "data": {
            "text/html": [
              "<div>\n",
              "<style scoped>\n",
              "    .dataframe tbody tr th:only-of-type {\n",
              "        vertical-align: middle;\n",
              "    }\n",
              "\n",
              "    .dataframe tbody tr th {\n",
              "        vertical-align: top;\n",
              "    }\n",
              "\n",
              "    .dataframe thead th {\n",
              "        text-align: right;\n",
              "    }\n",
              "</style>\n",
              "<table border=\"1\" class=\"dataframe\">\n",
              "  <thead>\n",
              "    <tr style=\"text-align: right;\">\n",
              "      <th></th>\n",
              "      <th>count</th>\n",
              "      <th>unique</th>\n",
              "      <th>top</th>\n",
              "      <th>freq</th>\n",
              "      <th>mean</th>\n",
              "      <th>std</th>\n",
              "      <th>min</th>\n",
              "      <th>25%</th>\n",
              "      <th>50%</th>\n",
              "      <th>75%</th>\n",
              "      <th>max</th>\n",
              "    </tr>\n",
              "  </thead>\n",
              "  <tbody>\n",
              "    <tr>\n",
              "      <th>InvoiceNo</th>\n",
              "      <td>541909</td>\n",
              "      <td>25900</td>\n",
              "      <td>573585</td>\n",
              "      <td>1114</td>\n",
              "      <td>NaN</td>\n",
              "      <td>NaN</td>\n",
              "      <td>NaN</td>\n",
              "      <td>NaN</td>\n",
              "      <td>NaN</td>\n",
              "      <td>NaN</td>\n",
              "      <td>NaN</td>\n",
              "    </tr>\n",
              "    <tr>\n",
              "      <th>StockCode</th>\n",
              "      <td>541909</td>\n",
              "      <td>4070</td>\n",
              "      <td>85123A</td>\n",
              "      <td>2313</td>\n",
              "      <td>NaN</td>\n",
              "      <td>NaN</td>\n",
              "      <td>NaN</td>\n",
              "      <td>NaN</td>\n",
              "      <td>NaN</td>\n",
              "      <td>NaN</td>\n",
              "      <td>NaN</td>\n",
              "    </tr>\n",
              "    <tr>\n",
              "      <th>Description</th>\n",
              "      <td>540455</td>\n",
              "      <td>4223</td>\n",
              "      <td>WHITE HANGING HEART T-LIGHT HOLDER</td>\n",
              "      <td>2369</td>\n",
              "      <td>NaN</td>\n",
              "      <td>NaN</td>\n",
              "      <td>NaN</td>\n",
              "      <td>NaN</td>\n",
              "      <td>NaN</td>\n",
              "      <td>NaN</td>\n",
              "      <td>NaN</td>\n",
              "    </tr>\n",
              "    <tr>\n",
              "      <th>Quantity</th>\n",
              "      <td>541909.0</td>\n",
              "      <td>NaN</td>\n",
              "      <td>NaN</td>\n",
              "      <td>NaN</td>\n",
              "      <td>9.55225</td>\n",
              "      <td>218.081158</td>\n",
              "      <td>-80995.0</td>\n",
              "      <td>1.0</td>\n",
              "      <td>3.0</td>\n",
              "      <td>10.0</td>\n",
              "      <td>80995.0</td>\n",
              "    </tr>\n",
              "    <tr>\n",
              "      <th>InvoiceDate</th>\n",
              "      <td>541909</td>\n",
              "      <td>23260</td>\n",
              "      <td>10/31/2011 14:41</td>\n",
              "      <td>1114</td>\n",
              "      <td>NaN</td>\n",
              "      <td>NaN</td>\n",
              "      <td>NaN</td>\n",
              "      <td>NaN</td>\n",
              "      <td>NaN</td>\n",
              "      <td>NaN</td>\n",
              "      <td>NaN</td>\n",
              "    </tr>\n",
              "    <tr>\n",
              "      <th>UnitPrice</th>\n",
              "      <td>541909.0</td>\n",
              "      <td>NaN</td>\n",
              "      <td>NaN</td>\n",
              "      <td>NaN</td>\n",
              "      <td>4.611114</td>\n",
              "      <td>96.759853</td>\n",
              "      <td>-11062.06</td>\n",
              "      <td>1.25</td>\n",
              "      <td>2.08</td>\n",
              "      <td>4.13</td>\n",
              "      <td>38970.0</td>\n",
              "    </tr>\n",
              "    <tr>\n",
              "      <th>CustomerID</th>\n",
              "      <td>406829.0</td>\n",
              "      <td>NaN</td>\n",
              "      <td>NaN</td>\n",
              "      <td>NaN</td>\n",
              "      <td>15287.69057</td>\n",
              "      <td>1713.600303</td>\n",
              "      <td>12346.0</td>\n",
              "      <td>13953.0</td>\n",
              "      <td>15152.0</td>\n",
              "      <td>16791.0</td>\n",
              "      <td>18287.0</td>\n",
              "    </tr>\n",
              "    <tr>\n",
              "      <th>Country</th>\n",
              "      <td>541909</td>\n",
              "      <td>38</td>\n",
              "      <td>United Kingdom</td>\n",
              "      <td>495478</td>\n",
              "      <td>NaN</td>\n",
              "      <td>NaN</td>\n",
              "      <td>NaN</td>\n",
              "      <td>NaN</td>\n",
              "      <td>NaN</td>\n",
              "      <td>NaN</td>\n",
              "      <td>NaN</td>\n",
              "    </tr>\n",
              "  </tbody>\n",
              "</table>\n",
              "</div>"
            ],
            "text/plain": [
              "                count unique                                 top    freq  \\\n",
              "InvoiceNo      541909  25900                              573585    1114   \n",
              "StockCode      541909   4070                              85123A    2313   \n",
              "Description    540455   4223  WHITE HANGING HEART T-LIGHT HOLDER    2369   \n",
              "Quantity     541909.0    NaN                                 NaN     NaN   \n",
              "InvoiceDate    541909  23260                    10/31/2011 14:41    1114   \n",
              "UnitPrice    541909.0    NaN                                 NaN     NaN   \n",
              "CustomerID   406829.0    NaN                                 NaN     NaN   \n",
              "Country        541909     38                      United Kingdom  495478   \n",
              "\n",
              "                    mean          std       min      25%      50%      75%  \\\n",
              "InvoiceNo            NaN          NaN       NaN      NaN      NaN      NaN   \n",
              "StockCode            NaN          NaN       NaN      NaN      NaN      NaN   \n",
              "Description          NaN          NaN       NaN      NaN      NaN      NaN   \n",
              "Quantity         9.55225   218.081158  -80995.0      1.0      3.0     10.0   \n",
              "InvoiceDate          NaN          NaN       NaN      NaN      NaN      NaN   \n",
              "UnitPrice       4.611114    96.759853 -11062.06     1.25     2.08     4.13   \n",
              "CustomerID   15287.69057  1713.600303   12346.0  13953.0  15152.0  16791.0   \n",
              "Country              NaN          NaN       NaN      NaN      NaN      NaN   \n",
              "\n",
              "                 max  \n",
              "InvoiceNo        NaN  \n",
              "StockCode        NaN  \n",
              "Description      NaN  \n",
              "Quantity     80995.0  \n",
              "InvoiceDate      NaN  \n",
              "UnitPrice    38970.0  \n",
              "CustomerID   18287.0  \n",
              "Country          NaN  "
            ]
          },
          "execution_count": 5,
          "metadata": {},
          "output_type": "execute_result"
        }
      ],
      "source": [
        "# Summary statistics for categorical variables\n",
        "df.describe(include='all').T"
      ]
    },
    {
      "cell_type": "code",
      "execution_count": 6,
      "id": "0f71772d-2d03-4bc9-9faa-2601ed60ae61",
      "metadata": {
        "id": "0f71772d-2d03-4bc9-9faa-2601ed60ae61"
      },
      "outputs": [
        {
          "data": {
            "text/html": [
              "<div>\n",
              "<style scoped>\n",
              "    .dataframe tbody tr th:only-of-type {\n",
              "        vertical-align: middle;\n",
              "    }\n",
              "\n",
              "    .dataframe tbody tr th {\n",
              "        vertical-align: top;\n",
              "    }\n",
              "\n",
              "    .dataframe thead th {\n",
              "        text-align: right;\n",
              "    }\n",
              "</style>\n",
              "<table border=\"1\" class=\"dataframe\">\n",
              "  <thead>\n",
              "    <tr style=\"text-align: right;\">\n",
              "      <th></th>\n",
              "      <th>count</th>\n",
              "      <th>mean</th>\n",
              "      <th>std</th>\n",
              "      <th>min</th>\n",
              "      <th>25%</th>\n",
              "      <th>50%</th>\n",
              "      <th>75%</th>\n",
              "      <th>max</th>\n",
              "    </tr>\n",
              "  </thead>\n",
              "  <tbody>\n",
              "    <tr>\n",
              "      <th>Quantity</th>\n",
              "      <td>541909.0</td>\n",
              "      <td>9.552250</td>\n",
              "      <td>218.081158</td>\n",
              "      <td>-80995.00</td>\n",
              "      <td>1.00</td>\n",
              "      <td>3.00</td>\n",
              "      <td>10.00</td>\n",
              "      <td>80995.0</td>\n",
              "    </tr>\n",
              "    <tr>\n",
              "      <th>UnitPrice</th>\n",
              "      <td>541909.0</td>\n",
              "      <td>4.611114</td>\n",
              "      <td>96.759853</td>\n",
              "      <td>-11062.06</td>\n",
              "      <td>1.25</td>\n",
              "      <td>2.08</td>\n",
              "      <td>4.13</td>\n",
              "      <td>38970.0</td>\n",
              "    </tr>\n",
              "    <tr>\n",
              "      <th>CustomerID</th>\n",
              "      <td>406829.0</td>\n",
              "      <td>15287.690570</td>\n",
              "      <td>1713.600303</td>\n",
              "      <td>12346.00</td>\n",
              "      <td>13953.00</td>\n",
              "      <td>15152.00</td>\n",
              "      <td>16791.00</td>\n",
              "      <td>18287.0</td>\n",
              "    </tr>\n",
              "  </tbody>\n",
              "</table>\n",
              "</div>"
            ],
            "text/plain": [
              "               count          mean          std       min       25%       50%  \\\n",
              "Quantity    541909.0      9.552250   218.081158 -80995.00      1.00      3.00   \n",
              "UnitPrice   541909.0      4.611114    96.759853 -11062.06      1.25      2.08   \n",
              "CustomerID  406829.0  15287.690570  1713.600303  12346.00  13953.00  15152.00   \n",
              "\n",
              "                 75%      max  \n",
              "Quantity       10.00  80995.0  \n",
              "UnitPrice       4.13  38970.0  \n",
              "CustomerID  16791.00  18287.0  "
            ]
          },
          "execution_count": 6,
          "metadata": {},
          "output_type": "execute_result"
        }
      ],
      "source": [
        "# Summary statistics for numerical variables\n",
        "df.describe().T"
      ]
    },
    {
      "cell_type": "markdown",
      "id": "76753444-07a2-4371-a56b-02a476b7ff3e",
      "metadata": {
        "id": "76753444-07a2-4371-a56b-02a476b7ff3e"
      },
      "source": [
        "## Preguntas derivadas de la estadística descriptiva\n",
        "Analiza y responde lo siguiente:\n",
        "* `Quantity`\n",
        "    * ¿Cuál es la cantidad promedio de productos por transacción?\n",
        "    * Analiza el **rango** (i.e., diferencia entre el mínimo y máximo valor). Responde: ¿qué puede representar la existencia de cantidades negativas? ¿Qué podemos deducir del **rango**?\n",
        "    * Analiza la desviación estándar, el máximo y percentil 75. ¿Podemos concluir la presencia de valores atípicos?\n",
        "* `UnitPrice`\n",
        "    * ¿Cuál es el precio por unidad promedio por transacción?\n",
        "    * Analiza también el rango y el mínimo. ¿Qué podemos concluir de los valores negativos?\n",
        "    * Considerando nuevamente el máximo y percentil 75, ¿podemos concluir la presencia de valores atípicos?\n",
        "* `CustomerID`\n",
        "    * ¿Hay valores nulos? Si es así, ¿cómo podemos manejarlos?\n",
        "    * ¿Hay múltiples registros del mismo cliente?\n",
        "* `InvoiceNo`\n",
        "    * ¿Cuántas transacciones tenemos?\n",
        "    * ¿Cuál es la orden con mayor cantidad de items?\n",
        "* `StockCode`\n",
        "    * ¿Cuántos productos únicos tenemos?\n",
        "    * ¿Cuál es el producto que más veces aparece?\n",
        "* `Description`\n",
        "    * ¿Hay descripciones con valores nulos? Si es así, ¿cómo podemos manejarlo?\n",
        "* `Country`\n",
        "    * ¿De cuántos países se tiene registro de transacciones?\n",
        "    * ¿Cuál es el país con mayor cantidad de transacciones?\n",
        "\n",
        "    "
      ]
    },
    {
      "cell_type": "code",
      "execution_count": 7,
      "id": "b041276c",
      "metadata": {},
      "outputs": [
        {
          "data": {
            "text/plain": [
              "<Axes: >"
            ]
          },
          "execution_count": 7,
          "metadata": {},
          "output_type": "execute_result"
        },
        {
          "data": {
            "image/png": "[encoded data removed]",
            "text/plain": [
              "<Figure size 640x480 with 1 Axes>"
            ]
          },
          "metadata": {},
          "output_type": "display_data"
        }
      ],
      "source": [
        "df['Quantity'].plot(kind= 'box')"
      ]
    },
    {
      "cell_type": "code",
      "execution_count": 8,
      "id": "343656fc",
      "metadata": {},
      "outputs": [
        {
          "data": {
            "text/plain": [
              "541909"
            ]
          },
          "execution_count": 8,
          "metadata": {},
          "output_type": "execute_result"
        }
      ],
      "source": [
        "altos = df['Quantity'] > 1\n",
        "bajos = df['Quantity'] < 10\n",
        "\n",
        "datos_atipicos = bajos | altos\n",
        "datos_atipicos.sum()"
      ]
    },
    {
      "cell_type": "code",
      "execution_count": 9,
      "id": "d6e37d15",
      "metadata": {},
      "outputs": [
        {
          "data": {
            "text/plain": [
              "<Axes: >"
            ]
          },
          "execution_count": 9,
          "metadata": {},
          "output_type": "execute_result"
        },
        {
          "data": {
            "image/png": "[encoded data removed]",
            "text/plain": [
              "<Figure size 640x480 with 1 Axes>"
            ]
          },
          "metadata": {},
          "output_type": "display_data"
        }
      ],
      "source": [
        "df['UnitPrice'].plot(kind= 'box')"
      ]
    },
    {
      "cell_type": "code",
      "execution_count": 10,
      "id": "b00c0456",
      "metadata": {},
      "outputs": [
        {
          "data": {
            "text/plain": [
              "4.611113626088513"
            ]
          },
          "execution_count": 10,
          "metadata": {},
          "output_type": "execute_result"
        }
      ],
      "source": [
        "df['UnitPrice'].mean()"
      ]
    },
    {
      "cell_type": "code",
      "execution_count": 11,
      "id": "cd80a100",
      "metadata": {},
      "outputs": [
        {
          "data": {
            "text/plain": [
              "count    541909.000000\n",
              "mean          4.611114\n",
              "std          96.759853\n",
              "min      -11062.060000\n",
              "25%           1.250000\n",
              "50%           2.080000\n",
              "75%           4.130000\n",
              "max       38970.000000\n",
              "Name: UnitPrice, dtype: float64"
            ]
          },
          "execution_count": 11,
          "metadata": {},
          "output_type": "execute_result"
        }
      ],
      "source": [
        "df['UnitPrice'].describe().T"
      ]
    },
    {
      "cell_type": "code",
      "execution_count": null,
      "id": "6b4ef8d8",
      "metadata": {},
      "outputs": [],
      "source": []
    },
    {
      "cell_type": "markdown",
      "id": "28922413-92d8-4f94-b755-b44f7b3b9a2a",
      "metadata": {
        "id": "28922413-92d8-4f94-b755-b44f7b3b9a2a"
      },
      "source": [
        "# Limpieza de datos\n",
        "Este *dataset* se presta para realizar manejo de valores nulos, duplicados y *outliers*. Comencemos con valores nulos.\n",
        "\n",
        "## Valores nulos\n",
        "Comencemos con generar una gráfica para visualizar la prevalencia de valores nulos por columna (`msno.matrix()`)."
      ]
    },
    {
      "cell_type": "code",
      "execution_count": 12,
      "id": "26f392f1-1cec-4ae0-bfcf-3d1f5f4c5a7f",
      "metadata": {
        "id": "26f392f1-1cec-4ae0-bfcf-3d1f5f4c5a7f"
      },
      "outputs": [
        {
          "data": {
            "text/plain": [
              "<Axes: >"
            ]
          },
          "execution_count": 12,
          "metadata": {},
          "output_type": "execute_result"
        },
        {
          "data": {
            "image/png": "[encoded data removed]",
            "text/plain": [
              "<Figure size 2500x1000 with 2 Axes>"
            ]
          },
          "metadata": {},
          "output_type": "display_data"
        }
      ],
      "source": [
        "msno.matrix(df)"
      ]
    },
    {
      "cell_type": "markdown",
      "id": "8c8e7202-b82b-48a3-bf6f-4bc63820bd4d",
      "metadata": {
        "id": "8c8e7202-b82b-48a3-bf6f-4bc63820bd4d"
      },
      "source": [
        "Ahora reporta los porcentajes de existencia de valores nulos."
      ]
    },
    {
      "cell_type": "code",
      "execution_count": 13,
      "id": "b14085f3-40d2-4118-ac4a-a4e552f4d639",
      "metadata": {
        "id": "b14085f3-40d2-4118-ac4a-a4e552f4d639"
      },
      "outputs": [
        {
          "data": {
            "text/plain": [
              "InvoiceNo       0.000000\n",
              "StockCode       0.000000\n",
              "Description     0.268311\n",
              "Quantity        0.000000\n",
              "InvoiceDate     0.000000\n",
              "UnitPrice       0.000000\n",
              "CustomerID     24.926694\n",
              "Country         0.000000\n",
              "dtype: float64"
            ]
          },
          "execution_count": 13,
          "metadata": {},
          "output_type": "execute_result"
        }
      ],
      "source": [
        "df.isnull().sum()/df.shape[0]*100"
      ]
    },
    {
      "cell_type": "code",
      "execution_count": 14,
      "id": "6727bf56-f1f8-40a4-9afc-d328ab4014a6",
      "metadata": {
        "id": "6727bf56-f1f8-40a4-9afc-d328ab4014a6"
      },
      "outputs": [
        {
          "data": {
            "text/html": [
              "<div>\n",
              "<style scoped>\n",
              "    .dataframe tbody tr th:only-of-type {\n",
              "        vertical-align: middle;\n",
              "    }\n",
              "\n",
              "    .dataframe tbody tr th {\n",
              "        vertical-align: top;\n",
              "    }\n",
              "\n",
              "    .dataframe thead th {\n",
              "        text-align: right;\n",
              "    }\n",
              "</style>\n",
              "<table border=\"1\" class=\"dataframe\">\n",
              "  <thead>\n",
              "    <tr style=\"text-align: right;\">\n",
              "      <th></th>\n",
              "      <th>InvoiceNo</th>\n",
              "      <th>StockCode</th>\n",
              "      <th>Description</th>\n",
              "      <th>Quantity</th>\n",
              "      <th>InvoiceDate</th>\n",
              "      <th>UnitPrice</th>\n",
              "      <th>CustomerID</th>\n",
              "      <th>Country</th>\n",
              "    </tr>\n",
              "  </thead>\n",
              "  <tbody>\n",
              "    <tr>\n",
              "      <th>622</th>\n",
              "      <td>536414</td>\n",
              "      <td>22139</td>\n",
              "      <td>NaN</td>\n",
              "      <td>56</td>\n",
              "      <td>12/1/2010 11:52</td>\n",
              "      <td>0.0</td>\n",
              "      <td>NaN</td>\n",
              "      <td>United Kingdom</td>\n",
              "    </tr>\n",
              "    <tr>\n",
              "      <th>1970</th>\n",
              "      <td>536545</td>\n",
              "      <td>21134</td>\n",
              "      <td>NaN</td>\n",
              "      <td>1</td>\n",
              "      <td>12/1/2010 14:32</td>\n",
              "      <td>0.0</td>\n",
              "      <td>NaN</td>\n",
              "      <td>United Kingdom</td>\n",
              "    </tr>\n",
              "    <tr>\n",
              "      <th>1971</th>\n",
              "      <td>536546</td>\n",
              "      <td>22145</td>\n",
              "      <td>NaN</td>\n",
              "      <td>1</td>\n",
              "      <td>12/1/2010 14:33</td>\n",
              "      <td>0.0</td>\n",
              "      <td>NaN</td>\n",
              "      <td>United Kingdom</td>\n",
              "    </tr>\n",
              "    <tr>\n",
              "      <th>1972</th>\n",
              "      <td>536547</td>\n",
              "      <td>37509</td>\n",
              "      <td>NaN</td>\n",
              "      <td>1</td>\n",
              "      <td>12/1/2010 14:33</td>\n",
              "      <td>0.0</td>\n",
              "      <td>NaN</td>\n",
              "      <td>United Kingdom</td>\n",
              "    </tr>\n",
              "    <tr>\n",
              "      <th>1987</th>\n",
              "      <td>536549</td>\n",
              "      <td>85226A</td>\n",
              "      <td>NaN</td>\n",
              "      <td>1</td>\n",
              "      <td>12/1/2010 14:34</td>\n",
              "      <td>0.0</td>\n",
              "      <td>NaN</td>\n",
              "      <td>United Kingdom</td>\n",
              "    </tr>\n",
              "    <tr>\n",
              "      <th>...</th>\n",
              "      <td>...</td>\n",
              "      <td>...</td>\n",
              "      <td>...</td>\n",
              "      <td>...</td>\n",
              "      <td>...</td>\n",
              "      <td>...</td>\n",
              "      <td>...</td>\n",
              "      <td>...</td>\n",
              "    </tr>\n",
              "    <tr>\n",
              "      <th>535322</th>\n",
              "      <td>581199</td>\n",
              "      <td>84581</td>\n",
              "      <td>NaN</td>\n",
              "      <td>-2</td>\n",
              "      <td>12/7/2011 18:26</td>\n",
              "      <td>0.0</td>\n",
              "      <td>NaN</td>\n",
              "      <td>United Kingdom</td>\n",
              "    </tr>\n",
              "    <tr>\n",
              "      <th>535326</th>\n",
              "      <td>581203</td>\n",
              "      <td>23406</td>\n",
              "      <td>NaN</td>\n",
              "      <td>15</td>\n",
              "      <td>12/7/2011 18:31</td>\n",
              "      <td>0.0</td>\n",
              "      <td>NaN</td>\n",
              "      <td>United Kingdom</td>\n",
              "    </tr>\n",
              "    <tr>\n",
              "      <th>535332</th>\n",
              "      <td>581209</td>\n",
              "      <td>21620</td>\n",
              "      <td>NaN</td>\n",
              "      <td>6</td>\n",
              "      <td>12/7/2011 18:35</td>\n",
              "      <td>0.0</td>\n",
              "      <td>NaN</td>\n",
              "      <td>United Kingdom</td>\n",
              "    </tr>\n",
              "    <tr>\n",
              "      <th>536981</th>\n",
              "      <td>581234</td>\n",
              "      <td>72817</td>\n",
              "      <td>NaN</td>\n",
              "      <td>27</td>\n",
              "      <td>12/8/2011 10:33</td>\n",
              "      <td>0.0</td>\n",
              "      <td>NaN</td>\n",
              "      <td>United Kingdom</td>\n",
              "    </tr>\n",
              "    <tr>\n",
              "      <th>538554</th>\n",
              "      <td>581408</td>\n",
              "      <td>85175</td>\n",
              "      <td>NaN</td>\n",
              "      <td>20</td>\n",
              "      <td>12/8/2011 14:06</td>\n",
              "      <td>0.0</td>\n",
              "      <td>NaN</td>\n",
              "      <td>United Kingdom</td>\n",
              "    </tr>\n",
              "  </tbody>\n",
              "</table>\n",
              "<p>1454 rows × 8 columns</p>\n",
              "</div>"
            ],
            "text/plain": [
              "       InvoiceNo StockCode Description  Quantity      InvoiceDate  UnitPrice  \\\n",
              "622       536414     22139         NaN        56  12/1/2010 11:52        0.0   \n",
              "1970      536545     21134         NaN         1  12/1/2010 14:32        0.0   \n",
              "1971      536546     22145         NaN         1  12/1/2010 14:33        0.0   \n",
              "1972      536547     37509         NaN         1  12/1/2010 14:33        0.0   \n",
              "1987      536549    85226A         NaN         1  12/1/2010 14:34        0.0   \n",
              "...          ...       ...         ...       ...              ...        ...   \n",
              "535322    581199     84581         NaN        -2  12/7/2011 18:26        0.0   \n",
              "535326    581203     23406         NaN        15  12/7/2011 18:31        0.0   \n",
              "535332    581209     21620         NaN         6  12/7/2011 18:35        0.0   \n",
              "536981    581234     72817         NaN        27  12/8/2011 10:33        0.0   \n",
              "538554    581408     85175         NaN        20  12/8/2011 14:06        0.0   \n",
              "\n",
              "        CustomerID         Country  \n",
              "622            NaN  United Kingdom  \n",
              "1970           NaN  United Kingdom  \n",
              "1971           NaN  United Kingdom  \n",
              "1972           NaN  United Kingdom  \n",
              "1987           NaN  United Kingdom  \n",
              "...            ...             ...  \n",
              "535322         NaN  United Kingdom  \n",
              "535326         NaN  United Kingdom  \n",
              "535332         NaN  United Kingdom  \n",
              "536981         NaN  United Kingdom  \n",
              "538554         NaN  United Kingdom  \n",
              "\n",
              "[1454 rows x 8 columns]"
            ]
          },
          "execution_count": 14,
          "metadata": {},
          "output_type": "execute_result"
        }
      ],
      "source": [
        "df[df['Description'].isnull()]"
      ]
    },
    {
      "cell_type": "markdown",
      "id": "8111743f-51eb-4ab5-b130-fc3ffde56674",
      "metadata": {
        "id": "8111743f-51eb-4ab5-b130-fc3ffde56674"
      },
      "source": [
        "A continuación, documenta aquí tu estrategia de manejo de valores nulos para cada variable.\n",
        "Ejemplo:\n",
        "* `Variable1` (15% valores faltantes): Dado que... procederemos a...\n",
        "* `Variable2` (30% valores faltantes): Dado que... procederemos a..."
      ]
    },
    {
      "cell_type": "markdown",
      "id": "08c75a12",
      "metadata": {},
      "source": [
        "- `Description`: tiene el 0.268311 % de datos faltantes, así que voy a reemplazar los datos nulos por un \"No description\" para que no pierda el tipo de dato y tampoco tengamos que eliminar toda la fila.\n",
        "- `CustomerID`: Esta columna tiene muchos nulos. Específicamente el 24.92% faltante. Son las claves con lo que se identifican por lo que dice la descripción. Así que no tiene sentido analizar por valores atípicos con min y max porque solo es un número de identificación, es decir, puede ser un numero enorme o muy chiquito por la cantidad de empleados supongo. Pero sí podríamos manejar los nulos igualmente con una imputación. Reemplazando nulos por un ID genérico como 0000. Así no perdemos el tipo de dato pero al mismo tiempo tenemos un id con que trabajar."
      ]
    },
    {
      "cell_type": "code",
      "execution_count": 15,
      "id": "3c679c48",
      "metadata": {},
      "outputs": [
        {
          "name": "stderr",
          "output_type": "stream",
          "text": [
            "C:\\Users\\pomar\\AppData\\Local\\Temp\\ipykernel_64760\\842180392.py:2: FutureWarning: A value is trying to be set on a copy of a DataFrame or Series through chained assignment using an inplace method.\n",
            "The behavior will change in pandas 3.0. This inplace method will never work because the intermediate object on which we are setting values always behaves as a copy.\n",
            "\n",
            "For example, when doing 'df[col].method(value, inplace=True)', try using 'df.method({col: value}, inplace=True)' or df[col] = df[col].method(value) instead, to perform the operation inplace on the original object.\n",
            "\n",
            "\n",
            "  limpio_df['Description'].fillna('No description', inplace=True)\n"
          ]
        }
      ],
      "source": [
        "limpio_df = df.copy()\n",
        "limpio_df['Description'].fillna('No description', inplace=True)"
      ]
    },
    {
      "cell_type": "code",
      "execution_count": 16,
      "id": "19483a3e",
      "metadata": {},
      "outputs": [
        {
          "data": {
            "text/html": [
              "<div>\n",
              "<style scoped>\n",
              "    .dataframe tbody tr th:only-of-type {\n",
              "        vertical-align: middle;\n",
              "    }\n",
              "\n",
              "    .dataframe tbody tr th {\n",
              "        vertical-align: top;\n",
              "    }\n",
              "\n",
              "    .dataframe thead th {\n",
              "        text-align: right;\n",
              "    }\n",
              "</style>\n",
              "<table border=\"1\" class=\"dataframe\">\n",
              "  <thead>\n",
              "    <tr style=\"text-align: right;\">\n",
              "      <th></th>\n",
              "      <th>InvoiceNo</th>\n",
              "      <th>StockCode</th>\n",
              "      <th>Description</th>\n",
              "      <th>Quantity</th>\n",
              "      <th>InvoiceDate</th>\n",
              "      <th>UnitPrice</th>\n",
              "      <th>CustomerID</th>\n",
              "      <th>Country</th>\n",
              "    </tr>\n",
              "  </thead>\n",
              "  <tbody>\n",
              "    <tr>\n",
              "      <th>622</th>\n",
              "      <td>536414</td>\n",
              "      <td>22139</td>\n",
              "      <td>NaN</td>\n",
              "      <td>56</td>\n",
              "      <td>12/1/2010 11:52</td>\n",
              "      <td>0.0</td>\n",
              "      <td>NaN</td>\n",
              "      <td>United Kingdom</td>\n",
              "    </tr>\n",
              "    <tr>\n",
              "      <th>1970</th>\n",
              "      <td>536545</td>\n",
              "      <td>21134</td>\n",
              "      <td>NaN</td>\n",
              "      <td>1</td>\n",
              "      <td>12/1/2010 14:32</td>\n",
              "      <td>0.0</td>\n",
              "      <td>NaN</td>\n",
              "      <td>United Kingdom</td>\n",
              "    </tr>\n",
              "    <tr>\n",
              "      <th>1971</th>\n",
              "      <td>536546</td>\n",
              "      <td>22145</td>\n",
              "      <td>NaN</td>\n",
              "      <td>1</td>\n",
              "      <td>12/1/2010 14:33</td>\n",
              "      <td>0.0</td>\n",
              "      <td>NaN</td>\n",
              "      <td>United Kingdom</td>\n",
              "    </tr>\n",
              "    <tr>\n",
              "      <th>1972</th>\n",
              "      <td>536547</td>\n",
              "      <td>37509</td>\n",
              "      <td>NaN</td>\n",
              "      <td>1</td>\n",
              "      <td>12/1/2010 14:33</td>\n",
              "      <td>0.0</td>\n",
              "      <td>NaN</td>\n",
              "      <td>United Kingdom</td>\n",
              "    </tr>\n",
              "    <tr>\n",
              "      <th>1987</th>\n",
              "      <td>536549</td>\n",
              "      <td>85226A</td>\n",
              "      <td>NaN</td>\n",
              "      <td>1</td>\n",
              "      <td>12/1/2010 14:34</td>\n",
              "      <td>0.0</td>\n",
              "      <td>NaN</td>\n",
              "      <td>United Kingdom</td>\n",
              "    </tr>\n",
              "    <tr>\n",
              "      <th>...</th>\n",
              "      <td>...</td>\n",
              "      <td>...</td>\n",
              "      <td>...</td>\n",
              "      <td>...</td>\n",
              "      <td>...</td>\n",
              "      <td>...</td>\n",
              "      <td>...</td>\n",
              "      <td>...</td>\n",
              "    </tr>\n",
              "    <tr>\n",
              "      <th>535322</th>\n",
              "      <td>581199</td>\n",
              "      <td>84581</td>\n",
              "      <td>NaN</td>\n",
              "      <td>-2</td>\n",
              "      <td>12/7/2011 18:26</td>\n",
              "      <td>0.0</td>\n",
              "      <td>NaN</td>\n",
              "      <td>United Kingdom</td>\n",
              "    </tr>\n",
              "    <tr>\n",
              "      <th>535326</th>\n",
              "      <td>581203</td>\n",
              "      <td>23406</td>\n",
              "      <td>NaN</td>\n",
              "      <td>15</td>\n",
              "      <td>12/7/2011 18:31</td>\n",
              "      <td>0.0</td>\n",
              "      <td>NaN</td>\n",
              "      <td>United Kingdom</td>\n",
              "    </tr>\n",
              "    <tr>\n",
              "      <th>535332</th>\n",
              "      <td>581209</td>\n",
              "      <td>21620</td>\n",
              "      <td>NaN</td>\n",
              "      <td>6</td>\n",
              "      <td>12/7/2011 18:35</td>\n",
              "      <td>0.0</td>\n",
              "      <td>NaN</td>\n",
              "      <td>United Kingdom</td>\n",
              "    </tr>\n",
              "    <tr>\n",
              "      <th>536981</th>\n",
              "      <td>581234</td>\n",
              "      <td>72817</td>\n",
              "      <td>NaN</td>\n",
              "      <td>27</td>\n",
              "      <td>12/8/2011 10:33</td>\n",
              "      <td>0.0</td>\n",
              "      <td>NaN</td>\n",
              "      <td>United Kingdom</td>\n",
              "    </tr>\n",
              "    <tr>\n",
              "      <th>538554</th>\n",
              "      <td>581408</td>\n",
              "      <td>85175</td>\n",
              "      <td>NaN</td>\n",
              "      <td>20</td>\n",
              "      <td>12/8/2011 14:06</td>\n",
              "      <td>0.0</td>\n",
              "      <td>NaN</td>\n",
              "      <td>United Kingdom</td>\n",
              "    </tr>\n",
              "  </tbody>\n",
              "</table>\n",
              "<p>1454 rows × 8 columns</p>\n",
              "</div>"
            ],
            "text/plain": [
              "       InvoiceNo StockCode Description  Quantity      InvoiceDate  UnitPrice  \\\n",
              "622       536414     22139         NaN        56  12/1/2010 11:52        0.0   \n",
              "1970      536545     21134         NaN         1  12/1/2010 14:32        0.0   \n",
              "1971      536546     22145         NaN         1  12/1/2010 14:33        0.0   \n",
              "1972      536547     37509         NaN         1  12/1/2010 14:33        0.0   \n",
              "1987      536549    85226A         NaN         1  12/1/2010 14:34        0.0   \n",
              "...          ...       ...         ...       ...              ...        ...   \n",
              "535322    581199     84581         NaN        -2  12/7/2011 18:26        0.0   \n",
              "535326    581203     23406         NaN        15  12/7/2011 18:31        0.0   \n",
              "535332    581209     21620         NaN         6  12/7/2011 18:35        0.0   \n",
              "536981    581234     72817         NaN        27  12/8/2011 10:33        0.0   \n",
              "538554    581408     85175         NaN        20  12/8/2011 14:06        0.0   \n",
              "\n",
              "        CustomerID         Country  \n",
              "622            NaN  United Kingdom  \n",
              "1970           NaN  United Kingdom  \n",
              "1971           NaN  United Kingdom  \n",
              "1972           NaN  United Kingdom  \n",
              "1987           NaN  United Kingdom  \n",
              "...            ...             ...  \n",
              "535322         NaN  United Kingdom  \n",
              "535326         NaN  United Kingdom  \n",
              "535332         NaN  United Kingdom  \n",
              "536981         NaN  United Kingdom  \n",
              "538554         NaN  United Kingdom  \n",
              "\n",
              "[1454 rows x 8 columns]"
            ]
          },
          "execution_count": 16,
          "metadata": {},
          "output_type": "execute_result"
        }
      ],
      "source": [
        "df[df['Description'].isnull()]"
      ]
    },
    {
      "cell_type": "markdown",
      "id": "1f091133-8f91-4eff-8d54-22791a9f6574",
      "metadata": {
        "id": "1f091133-8f91-4eff-8d54-22791a9f6574"
      },
      "source": [
        "Antes de proceder a realizar limpieza, muestra (filtra) algunos de los registros que procederán a manejar (por ejemplo: eliminar ó imputar).\n",
        "\n",
        "Guarda estos datos en otro dataframe."
      ]
    },
    {
      "cell_type": "code",
      "execution_count": 17,
      "id": "7b2868a5",
      "metadata": {},
      "outputs": [
        {
          "data": {
            "text/plain": [
              "count    406829.000000\n",
              "mean      15287.690570\n",
              "std        1713.600303\n",
              "min       12346.000000\n",
              "25%       13953.000000\n",
              "50%       15152.000000\n",
              "75%       16791.000000\n",
              "max       18287.000000\n",
              "Name: CustomerID, dtype: float64"
            ]
          },
          "execution_count": 17,
          "metadata": {},
          "output_type": "execute_result"
        }
      ],
      "source": [
        "df['CustomerID'].describe()"
      ]
    },
    {
      "cell_type": "code",
      "execution_count": 18,
      "id": "45507efe",
      "metadata": {},
      "outputs": [
        {
          "data": {
            "text/html": [
              "<div>\n",
              "<style scoped>\n",
              "    .dataframe tbody tr th:only-of-type {\n",
              "        vertical-align: middle;\n",
              "    }\n",
              "\n",
              "    .dataframe tbody tr th {\n",
              "        vertical-align: top;\n",
              "    }\n",
              "\n",
              "    .dataframe thead th {\n",
              "        text-align: right;\n",
              "    }\n",
              "</style>\n",
              "<table border=\"1\" class=\"dataframe\">\n",
              "  <thead>\n",
              "    <tr style=\"text-align: right;\">\n",
              "      <th></th>\n",
              "      <th>InvoiceNo</th>\n",
              "      <th>StockCode</th>\n",
              "      <th>Description</th>\n",
              "      <th>Quantity</th>\n",
              "      <th>InvoiceDate</th>\n",
              "      <th>UnitPrice</th>\n",
              "      <th>CustomerID</th>\n",
              "      <th>Country</th>\n",
              "    </tr>\n",
              "  </thead>\n",
              "  <tbody>\n",
              "    <tr>\n",
              "      <th>622</th>\n",
              "      <td>536414</td>\n",
              "      <td>22139</td>\n",
              "      <td>NaN</td>\n",
              "      <td>56</td>\n",
              "      <td>12/1/2010 11:52</td>\n",
              "      <td>0.00</td>\n",
              "      <td>NaN</td>\n",
              "      <td>United Kingdom</td>\n",
              "    </tr>\n",
              "    <tr>\n",
              "      <th>1443</th>\n",
              "      <td>536544</td>\n",
              "      <td>21773</td>\n",
              "      <td>DECORATIVE ROSE BATHROOM BOTTLE</td>\n",
              "      <td>1</td>\n",
              "      <td>12/1/2010 14:32</td>\n",
              "      <td>2.51</td>\n",
              "      <td>NaN</td>\n",
              "      <td>United Kingdom</td>\n",
              "    </tr>\n",
              "    <tr>\n",
              "      <th>1444</th>\n",
              "      <td>536544</td>\n",
              "      <td>21774</td>\n",
              "      <td>DECORATIVE CATS BATHROOM BOTTLE</td>\n",
              "      <td>2</td>\n",
              "      <td>12/1/2010 14:32</td>\n",
              "      <td>2.51</td>\n",
              "      <td>NaN</td>\n",
              "      <td>United Kingdom</td>\n",
              "    </tr>\n",
              "    <tr>\n",
              "      <th>1445</th>\n",
              "      <td>536544</td>\n",
              "      <td>21786</td>\n",
              "      <td>POLKADOT RAIN HAT</td>\n",
              "      <td>4</td>\n",
              "      <td>12/1/2010 14:32</td>\n",
              "      <td>0.85</td>\n",
              "      <td>NaN</td>\n",
              "      <td>United Kingdom</td>\n",
              "    </tr>\n",
              "    <tr>\n",
              "      <th>1446</th>\n",
              "      <td>536544</td>\n",
              "      <td>21787</td>\n",
              "      <td>RAIN PONCHO RETROSPOT</td>\n",
              "      <td>2</td>\n",
              "      <td>12/1/2010 14:32</td>\n",
              "      <td>1.66</td>\n",
              "      <td>NaN</td>\n",
              "      <td>United Kingdom</td>\n",
              "    </tr>\n",
              "    <tr>\n",
              "      <th>...</th>\n",
              "      <td>...</td>\n",
              "      <td>...</td>\n",
              "      <td>...</td>\n",
              "      <td>...</td>\n",
              "      <td>...</td>\n",
              "      <td>...</td>\n",
              "      <td>...</td>\n",
              "      <td>...</td>\n",
              "    </tr>\n",
              "    <tr>\n",
              "      <th>541536</th>\n",
              "      <td>581498</td>\n",
              "      <td>85099B</td>\n",
              "      <td>JUMBO BAG RED RETROSPOT</td>\n",
              "      <td>5</td>\n",
              "      <td>12/9/2011 10:26</td>\n",
              "      <td>4.13</td>\n",
              "      <td>NaN</td>\n",
              "      <td>United Kingdom</td>\n",
              "    </tr>\n",
              "    <tr>\n",
              "      <th>541537</th>\n",
              "      <td>581498</td>\n",
              "      <td>85099C</td>\n",
              "      <td>JUMBO  BAG BAROQUE BLACK WHITE</td>\n",
              "      <td>4</td>\n",
              "      <td>12/9/2011 10:26</td>\n",
              "      <td>4.13</td>\n",
              "      <td>NaN</td>\n",
              "      <td>United Kingdom</td>\n",
              "    </tr>\n",
              "    <tr>\n",
              "      <th>541538</th>\n",
              "      <td>581498</td>\n",
              "      <td>85150</td>\n",
              "      <td>LADIES &amp; GENTLEMEN METAL SIGN</td>\n",
              "      <td>1</td>\n",
              "      <td>12/9/2011 10:26</td>\n",
              "      <td>4.96</td>\n",
              "      <td>NaN</td>\n",
              "      <td>United Kingdom</td>\n",
              "    </tr>\n",
              "    <tr>\n",
              "      <th>541539</th>\n",
              "      <td>581498</td>\n",
              "      <td>85174</td>\n",
              "      <td>S/4 CACTI CANDLES</td>\n",
              "      <td>1</td>\n",
              "      <td>12/9/2011 10:26</td>\n",
              "      <td>10.79</td>\n",
              "      <td>NaN</td>\n",
              "      <td>United Kingdom</td>\n",
              "    </tr>\n",
              "    <tr>\n",
              "      <th>541540</th>\n",
              "      <td>581498</td>\n",
              "      <td>DOT</td>\n",
              "      <td>DOTCOM POSTAGE</td>\n",
              "      <td>1</td>\n",
              "      <td>12/9/2011 10:26</td>\n",
              "      <td>1714.17</td>\n",
              "      <td>NaN</td>\n",
              "      <td>United Kingdom</td>\n",
              "    </tr>\n",
              "  </tbody>\n",
              "</table>\n",
              "<p>135080 rows × 8 columns</p>\n",
              "</div>"
            ],
            "text/plain": [
              "       InvoiceNo StockCode                      Description  Quantity  \\\n",
              "622       536414     22139                              NaN        56   \n",
              "1443      536544     21773  DECORATIVE ROSE BATHROOM BOTTLE         1   \n",
              "1444      536544     21774  DECORATIVE CATS BATHROOM BOTTLE         2   \n",
              "1445      536544     21786               POLKADOT RAIN HAT          4   \n",
              "1446      536544     21787            RAIN PONCHO RETROSPOT         2   \n",
              "...          ...       ...                              ...       ...   \n",
              "541536    581498    85099B          JUMBO BAG RED RETROSPOT         5   \n",
              "541537    581498    85099C   JUMBO  BAG BAROQUE BLACK WHITE         4   \n",
              "541538    581498     85150    LADIES & GENTLEMEN METAL SIGN         1   \n",
              "541539    581498     85174                S/4 CACTI CANDLES         1   \n",
              "541540    581498       DOT                   DOTCOM POSTAGE         1   \n",
              "\n",
              "            InvoiceDate  UnitPrice  CustomerID         Country  \n",
              "622     12/1/2010 11:52       0.00         NaN  United Kingdom  \n",
              "1443    12/1/2010 14:32       2.51         NaN  United Kingdom  \n",
              "1444    12/1/2010 14:32       2.51         NaN  United Kingdom  \n",
              "1445    12/1/2010 14:32       0.85         NaN  United Kingdom  \n",
              "1446    12/1/2010 14:32       1.66         NaN  United Kingdom  \n",
              "...                 ...        ...         ...             ...  \n",
              "541536  12/9/2011 10:26       4.13         NaN  United Kingdom  \n",
              "541537  12/9/2011 10:26       4.13         NaN  United Kingdom  \n",
              "541538  12/9/2011 10:26       4.96         NaN  United Kingdom  \n",
              "541539  12/9/2011 10:26      10.79         NaN  United Kingdom  \n",
              "541540  12/9/2011 10:26    1714.17         NaN  United Kingdom  \n",
              "\n",
              "[135080 rows x 8 columns]"
            ]
          },
          "execution_count": 18,
          "metadata": {},
          "output_type": "execute_result"
        }
      ],
      "source": [
        "df[df['CustomerID'].isnull()]"
      ]
    },
    {
      "cell_type": "markdown",
      "id": "65a63d23-f2ee-4800-bb44-990374d60a1c",
      "metadata": {
        "id": "65a63d23-f2ee-4800-bb44-990374d60a1c"
      },
      "source": [
        "Implementa a continuación tu estrategia de manejo de valores nulos."
      ]
    },
    {
      "cell_type": "code",
      "execution_count": 19,
      "id": "ce885615-d7e6-4028-b236-e1317dcbc0bd",
      "metadata": {
        "id": "ce885615-d7e6-4028-b236-e1317dcbc0bd"
      },
      "outputs": [
        {
          "name": "stderr",
          "output_type": "stream",
          "text": [
            "C:\\Users\\pomar\\AppData\\Local\\Temp\\ipykernel_64760\\2795913184.py:1: FutureWarning: A value is trying to be set on a copy of a DataFrame or Series through chained assignment using an inplace method.\n",
            "The behavior will change in pandas 3.0. This inplace method will never work because the intermediate object on which we are setting values always behaves as a copy.\n",
            "\n",
            "For example, when doing 'df[col].method(value, inplace=True)', try using 'df.method({col: value}, inplace=True)' or df[col] = df[col].method(value) instead, to perform the operation inplace on the original object.\n",
            "\n",
            "\n",
            "  limpio_df['CustomerID'].fillna(0000, inplace=True)\n"
          ]
        }
      ],
      "source": [
        "\n",
        "limpio_df['CustomerID'].fillna(0000, inplace=True)\n"
      ]
    },
    {
      "cell_type": "code",
      "execution_count": 20,
      "id": "777fd23c",
      "metadata": {},
      "outputs": [],
      "source": [
        "limpio_df = df[df['CustomerID'].isnull() | df['Description'].isnull()]"
      ]
    },
    {
      "cell_type": "code",
      "execution_count": 41,
      "id": "04a79529",
      "metadata": {},
      "outputs": [
        {
          "name": "stdout",
          "output_type": "stream",
          "text": [
            "(135080, 8)\n"
          ]
        }
      ],
      "source": [
        "print(limpio_df.shape)"
      ]
    },
    {
      "cell_type": "markdown",
      "id": "4d04a407-35c6-45c1-8647-a900aa26043a",
      "metadata": {
        "id": "4d04a407-35c6-45c1-8647-a900aa26043a"
      },
      "source": [
        "Finalmente, comprueba a continuación el correcto manejo de nulos mostrando la suma total de valores nulos en el dataframe."
      ]
    },
    {
      "cell_type": "code",
      "execution_count": 22,
      "id": "d8d8a1ad-0183-4d48-93e6-ea6db68c7ca4",
      "metadata": {
        "id": "d8d8a1ad-0183-4d48-93e6-ea6db68c7ca4"
      },
      "outputs": [
        {
          "data": {
            "text/plain": [
              "InvoiceNo           0\n",
              "StockCode           0\n",
              "Description      1454\n",
              "Quantity            0\n",
              "InvoiceDate         0\n",
              "UnitPrice           0\n",
              "CustomerID     135080\n",
              "Country             0\n",
              "dtype: int64"
            ]
          },
          "execution_count": 22,
          "metadata": {},
          "output_type": "execute_result"
        }
      ],
      "source": [
        "limpio_df.isnull().sum()"
      ]
    },
    {
      "cell_type": "code",
      "execution_count": 23,
      "id": "e57b43e1",
      "metadata": {},
      "outputs": [],
      "source": [
        "df.dropna(subset=['CustomerID', 'Description'], inplace=True)"
      ]
    },
    {
      "cell_type": "code",
      "execution_count": 24,
      "id": "c42d099f",
      "metadata": {},
      "outputs": [
        {
          "data": {
            "text/plain": [
              "8"
            ]
          },
          "execution_count": 24,
          "metadata": {},
          "output_type": "execute_result"
        }
      ],
      "source": [
        "df.shape[1]"
      ]
    },
    {
      "cell_type": "code",
      "execution_count": 25,
      "id": "e0b67d45",
      "metadata": {},
      "outputs": [
        {
          "data": {
            "text/plain": [
              "406829"
            ]
          },
          "execution_count": 25,
          "metadata": {},
          "output_type": "execute_result"
        }
      ],
      "source": [
        "df.shape[0]"
      ]
    },
    {
      "cell_type": "code",
      "execution_count": 26,
      "id": "0cdc76d0",
      "metadata": {},
      "outputs": [
        {
          "data": {
            "text/plain": [
              "InvoiceNo      0\n",
              "StockCode      0\n",
              "Description    0\n",
              "Quantity       0\n",
              "InvoiceDate    0\n",
              "UnitPrice      0\n",
              "CustomerID     0\n",
              "Country        0\n",
              "dtype: int64"
            ]
          },
          "execution_count": 26,
          "metadata": {},
          "output_type": "execute_result"
        }
      ],
      "source": [
        "df.isnull().sum()"
      ]
    },
    {
      "cell_type": "markdown",
      "id": "4532305e-5126-4658-8343-b1b274ab8ad4",
      "metadata": {
        "id": "4532305e-5126-4658-8343-b1b274ab8ad4"
      },
      "source": [
        "## Valores duplicados\n",
        "Procedamos a explorar e identificar valores duplicados en el dataset.\n",
        "\n",
        "1. Crea una Serie llamada `duplicate_rows` que contenga **todas** las filas repetidas (incluyendo la primer y última ocurrencia).\n",
        "2. De ese dataframe, ordena los datos en orden ascendente en el siguiente orden: `['InvoiceNo', 'StockCode', 'Description', 'CustomerID', 'Quantity']`.\n",
        "3. Imprime la forma del dataframe con duplicados y ordenado y responde.\n",
        "4. Eliminarás del dataframe df todos aquellos registros duplicados conservando solo la primer instancia. Pero antes de eso despliega la cantidad de filas a eliminar y escribela aquí.\n",
        "5. Después de eliminar duplicados de df (conservando la primer instancia), indica aquí cuántas filas quedaron."
      ]
    },
    {
      "cell_type": "code",
      "execution_count": 27,
      "id": "c3778017-d8d9-43fb-87ce-8b1320518d7f",
      "metadata": {
        "id": "c3778017-d8d9-43fb-87ce-8b1320518d7f"
      },
      "outputs": [],
      "source": [
        "duplicate_rows = df[df.duplicated(keep=False)]\n"
      ]
    },
    {
      "cell_type": "code",
      "execution_count": 28,
      "id": "815020e8-d536-4338-a135-43bb8b0df3d6",
      "metadata": {
        "id": "815020e8-d536-4338-a135-43bb8b0df3d6"
      },
      "outputs": [],
      "source": [
        "duplicate_rows_sorted = duplicate_rows.sort_values(by=['InvoiceNo', 'StockCode', 'Description', 'CustomerID', 'Quantity'])"
      ]
    },
    {
      "cell_type": "code",
      "execution_count": 29,
      "id": "2484084e",
      "metadata": {},
      "outputs": [
        {
          "data": {
            "text/html": [
              "<div>\n",
              "<style scoped>\n",
              "    .dataframe tbody tr th:only-of-type {\n",
              "        vertical-align: middle;\n",
              "    }\n",
              "\n",
              "    .dataframe tbody tr th {\n",
              "        vertical-align: top;\n",
              "    }\n",
              "\n",
              "    .dataframe thead th {\n",
              "        text-align: right;\n",
              "    }\n",
              "</style>\n",
              "<table border=\"1\" class=\"dataframe\">\n",
              "  <thead>\n",
              "    <tr style=\"text-align: right;\">\n",
              "      <th></th>\n",
              "      <th>InvoiceNo</th>\n",
              "      <th>StockCode</th>\n",
              "      <th>Description</th>\n",
              "      <th>Quantity</th>\n",
              "      <th>InvoiceDate</th>\n",
              "      <th>UnitPrice</th>\n",
              "      <th>CustomerID</th>\n",
              "      <th>Country</th>\n",
              "    </tr>\n",
              "  </thead>\n",
              "  <tbody>\n",
              "    <tr>\n",
              "      <th>494</th>\n",
              "      <td>536409</td>\n",
              "      <td>21866</td>\n",
              "      <td>UNION JACK FLAG LUGGAGE TAG</td>\n",
              "      <td>1</td>\n",
              "      <td>12/1/2010 11:45</td>\n",
              "      <td>1.25</td>\n",
              "      <td>17908.0</td>\n",
              "      <td>United Kingdom</td>\n",
              "    </tr>\n",
              "    <tr>\n",
              "      <th>517</th>\n",
              "      <td>536409</td>\n",
              "      <td>21866</td>\n",
              "      <td>UNION JACK FLAG LUGGAGE TAG</td>\n",
              "      <td>1</td>\n",
              "      <td>12/1/2010 11:45</td>\n",
              "      <td>1.25</td>\n",
              "      <td>17908.0</td>\n",
              "      <td>United Kingdom</td>\n",
              "    </tr>\n",
              "    <tr>\n",
              "      <th>485</th>\n",
              "      <td>536409</td>\n",
              "      <td>22111</td>\n",
              "      <td>SCOTTIE DOG HOT WATER BOTTLE</td>\n",
              "      <td>1</td>\n",
              "      <td>12/1/2010 11:45</td>\n",
              "      <td>4.95</td>\n",
              "      <td>17908.0</td>\n",
              "      <td>United Kingdom</td>\n",
              "    </tr>\n",
              "    <tr>\n",
              "      <th>539</th>\n",
              "      <td>536409</td>\n",
              "      <td>22111</td>\n",
              "      <td>SCOTTIE DOG HOT WATER BOTTLE</td>\n",
              "      <td>1</td>\n",
              "      <td>12/1/2010 11:45</td>\n",
              "      <td>4.95</td>\n",
              "      <td>17908.0</td>\n",
              "      <td>United Kingdom</td>\n",
              "    </tr>\n",
              "    <tr>\n",
              "      <th>489</th>\n",
              "      <td>536409</td>\n",
              "      <td>22866</td>\n",
              "      <td>HAND WARMER SCOTTY DOG DESIGN</td>\n",
              "      <td>1</td>\n",
              "      <td>12/1/2010 11:45</td>\n",
              "      <td>2.10</td>\n",
              "      <td>17908.0</td>\n",
              "      <td>United Kingdom</td>\n",
              "    </tr>\n",
              "    <tr>\n",
              "      <th>...</th>\n",
              "      <td>...</td>\n",
              "      <td>...</td>\n",
              "      <td>...</td>\n",
              "      <td>...</td>\n",
              "      <td>...</td>\n",
              "      <td>...</td>\n",
              "      <td>...</td>\n",
              "      <td>...</td>\n",
              "    </tr>\n",
              "    <tr>\n",
              "      <th>440149</th>\n",
              "      <td>C574510</td>\n",
              "      <td>22360</td>\n",
              "      <td>GLASS JAR ENGLISH CONFECTIONERY</td>\n",
              "      <td>-1</td>\n",
              "      <td>11/4/2011 13:25</td>\n",
              "      <td>2.95</td>\n",
              "      <td>15110.0</td>\n",
              "      <td>United Kingdom</td>\n",
              "    </tr>\n",
              "    <tr>\n",
              "      <th>461407</th>\n",
              "      <td>C575940</td>\n",
              "      <td>23309</td>\n",
              "      <td>SET OF 60 I LOVE LONDON CAKE CASES</td>\n",
              "      <td>-24</td>\n",
              "      <td>11/13/2011 11:38</td>\n",
              "      <td>0.55</td>\n",
              "      <td>17838.0</td>\n",
              "      <td>United Kingdom</td>\n",
              "    </tr>\n",
              "    <tr>\n",
              "      <th>461408</th>\n",
              "      <td>C575940</td>\n",
              "      <td>23309</td>\n",
              "      <td>SET OF 60 I LOVE LONDON CAKE CASES</td>\n",
              "      <td>-24</td>\n",
              "      <td>11/13/2011 11:38</td>\n",
              "      <td>0.55</td>\n",
              "      <td>17838.0</td>\n",
              "      <td>United Kingdom</td>\n",
              "    </tr>\n",
              "    <tr>\n",
              "      <th>529980</th>\n",
              "      <td>C580764</td>\n",
              "      <td>22667</td>\n",
              "      <td>RECIPE BOX RETROSPOT</td>\n",
              "      <td>-12</td>\n",
              "      <td>12/6/2011 10:38</td>\n",
              "      <td>2.95</td>\n",
              "      <td>14562.0</td>\n",
              "      <td>United Kingdom</td>\n",
              "    </tr>\n",
              "    <tr>\n",
              "      <th>529981</th>\n",
              "      <td>C580764</td>\n",
              "      <td>22667</td>\n",
              "      <td>RECIPE BOX RETROSPOT</td>\n",
              "      <td>-12</td>\n",
              "      <td>12/6/2011 10:38</td>\n",
              "      <td>2.95</td>\n",
              "      <td>14562.0</td>\n",
              "      <td>United Kingdom</td>\n",
              "    </tr>\n",
              "  </tbody>\n",
              "</table>\n",
              "<p>10062 rows × 8 columns</p>\n",
              "</div>"
            ],
            "text/plain": [
              "       InvoiceNo StockCode                          Description  Quantity  \\\n",
              "494       536409     21866          UNION JACK FLAG LUGGAGE TAG         1   \n",
              "517       536409     21866          UNION JACK FLAG LUGGAGE TAG         1   \n",
              "485       536409     22111         SCOTTIE DOG HOT WATER BOTTLE         1   \n",
              "539       536409     22111         SCOTTIE DOG HOT WATER BOTTLE         1   \n",
              "489       536409     22866        HAND WARMER SCOTTY DOG DESIGN         1   \n",
              "...          ...       ...                                  ...       ...   \n",
              "440149   C574510     22360      GLASS JAR ENGLISH CONFECTIONERY        -1   \n",
              "461407   C575940     23309  SET OF 60 I LOVE LONDON CAKE CASES        -24   \n",
              "461408   C575940     23309  SET OF 60 I LOVE LONDON CAKE CASES        -24   \n",
              "529980   C580764     22667                RECIPE BOX RETROSPOT        -12   \n",
              "529981   C580764     22667                RECIPE BOX RETROSPOT        -12   \n",
              "\n",
              "             InvoiceDate  UnitPrice  CustomerID         Country  \n",
              "494      12/1/2010 11:45       1.25     17908.0  United Kingdom  \n",
              "517      12/1/2010 11:45       1.25     17908.0  United Kingdom  \n",
              "485      12/1/2010 11:45       4.95     17908.0  United Kingdom  \n",
              "539      12/1/2010 11:45       4.95     17908.0  United Kingdom  \n",
              "489      12/1/2010 11:45       2.10     17908.0  United Kingdom  \n",
              "...                  ...        ...         ...             ...  \n",
              "440149   11/4/2011 13:25       2.95     15110.0  United Kingdom  \n",
              "461407  11/13/2011 11:38       0.55     17838.0  United Kingdom  \n",
              "461408  11/13/2011 11:38       0.55     17838.0  United Kingdom  \n",
              "529980   12/6/2011 10:38       2.95     14562.0  United Kingdom  \n",
              "529981   12/6/2011 10:38       2.95     14562.0  United Kingdom  \n",
              "\n",
              "[10062 rows x 8 columns]"
            ]
          },
          "execution_count": 29,
          "metadata": {},
          "output_type": "execute_result"
        }
      ],
      "source": [
        "duplicate_rows_sorted"
      ]
    },
    {
      "cell_type": "code",
      "execution_count": 30,
      "id": "7bb752d4",
      "metadata": {},
      "outputs": [
        {
          "data": {
            "text/plain": [
              "(10062, 8)"
            ]
          },
          "execution_count": 30,
          "metadata": {},
          "output_type": "execute_result"
        }
      ],
      "source": [
        "duplicate_rows_sorted.shape"
      ]
    },
    {
      "cell_type": "markdown",
      "id": "7aa63a85-8111-457b-b397-4b8cb4b9fdaf",
      "metadata": {
        "id": "7aa63a85-8111-457b-b397-4b8cb4b9fdaf"
      },
      "source": [
        "Muestra la cantidad de duplicados a eliminar."
      ]
    },
    {
      "cell_type": "code",
      "execution_count": 31,
      "id": "5846d678",
      "metadata": {},
      "outputs": [
        {
          "data": {
            "text/plain": [
              "5225"
            ]
          },
          "execution_count": 31,
          "metadata": {},
          "output_type": "execute_result"
        }
      ],
      "source": [
        "duplicate_rows_sorted.duplicated().sum()"
      ]
    },
    {
      "cell_type": "markdown",
      "id": "2454c017-ec49-4da6-ae9e-4e278c4842b6",
      "metadata": {
        "id": "2454c017-ec49-4da6-ae9e-4e278c4842b6"
      },
      "source": [
        "Implementa a continuación tu estrategia para valores duplicados y muestra la cantidad de registros (filas) que te quedaron."
      ]
    },
    {
      "cell_type": "code",
      "execution_count": 32,
      "id": "b6bebcb1-5ad7-4b0a-bb3c-bf282569b750",
      "metadata": {
        "id": "b6bebcb1-5ad7-4b0a-bb3c-bf282569b750"
      },
      "outputs": [],
      "source": [
        "df.drop_duplicates(inplace=True)"
      ]
    },
    {
      "cell_type": "code",
      "execution_count": 33,
      "id": "fb4a244e",
      "metadata": {},
      "outputs": [
        {
          "data": {
            "text/plain": [
              "401604"
            ]
          },
          "execution_count": 33,
          "metadata": {},
          "output_type": "execute_result"
        }
      ],
      "source": [
        "df.shape[0]"
      ]
    },
    {
      "cell_type": "markdown",
      "id": "d3ebacd5-ab78-42b8-8145-739d345c180e",
      "metadata": {
        "id": "d3ebacd5-ab78-42b8-8145-739d345c180e"
      },
      "source": [
        "## Valores atípicos\n",
        "Muestra a continuación un diagrama de cajas (boxplot) de las variables a analizar."
      ]
    },
    {
      "cell_type": "code",
      "execution_count": 34,
      "id": "e772293e-a05d-4f4b-a72e-0bac4757ef74",
      "metadata": {
        "id": "e772293e-a05d-4f4b-a72e-0bac4757ef74"
      },
      "outputs": [
        {
          "data": {
            "text/plain": [
              "<Axes: >"
            ]
          },
          "execution_count": 34,
          "metadata": {},
          "output_type": "execute_result"
        },
        {
          "data": {
            "image/png": "[encoded data removed]",
            "text/plain": [
              "<Figure size 640x480 with 1 Axes>"
            ]
          },
          "metadata": {},
          "output_type": "display_data"
        }
      ],
      "source": [
        "df[['Quantity', 'UnitPrice']].boxplot(vert=False)\n"
      ]
    },
    {
      "cell_type": "markdown",
      "id": "c62e2419-4dcc-4db8-aa4d-d4a2ccee8d40",
      "metadata": {
        "id": "c62e2419-4dcc-4db8-aa4d-d4a2ccee8d40"
      },
      "source": [
        "Toma en cuenta que la variable `InvoiceNo` ha sido codificada de manera que las transacciones **canceladas** comienzan con la letra 'C' para identificar.\n",
        "Por supuesto que esto debe considerarse antes de tratar *outliers*. Responde, ¿porqué nos afectará en el análisis posterior?"
      ]
    },
    {
      "cell_type": "markdown",
      "id": "d54e88f5",
      "metadata": {},
      "source": [
        "- Respuesta: porque es un tipo texto por la letra. Para poder hacer un analisis posterior necesitamos sacar la media y la mediana al igual que el rango. "
      ]
    },
    {
      "cell_type": "markdown",
      "id": "d848f4c8-1f0a-40a7-9c58-5e5799594bf7",
      "metadata": {
        "id": "d848f4c8-1f0a-40a7-9c58-5e5799594bf7"
      },
      "source": [
        "Crea a continuación una columna llamada `Transaction_Status` donde las ordenes canceladas tendrán el valor `Cancelled` y el resto `Completed`."
      ]
    },
    {
      "cell_type": "code",
      "execution_count": 35,
      "id": "15fb9e24-b6d3-44f0-959c-be6290329be5",
      "metadata": {
        "id": "15fb9e24-b6d3-44f0-959c-be6290329be5"
      },
      "outputs": [],
      "source": [
        "df['Transaction_Status'] = df['InvoiceNo'].str.contains(r'^C', regex=True).replace({True: 'Cancelled', False: 'Completed'})"
      ]
    },
    {
      "cell_type": "markdown",
      "id": "ad335ee7-0753-4a5b-b9e6-6f39278b018e",
      "metadata": {
        "id": "ad335ee7-0753-4a5b-b9e6-6f39278b018e"
      },
      "source": [
        "Muestra el porcentaje de transacciones canceladas."
      ]
    },
    {
      "cell_type": "code",
      "execution_count": 36,
      "id": "abd8c0ab-0bb7-47d5-a04f-5444c24141be",
      "metadata": {
        "id": "abd8c0ab-0bb7-47d5-a04f-5444c24141be"
      },
      "outputs": [
        {
          "data": {
            "text/plain": [
              "2.209141343213713"
            ]
          },
          "execution_count": 36,
          "metadata": {},
          "output_type": "execute_result"
        }
      ],
      "source": [
        "porcentaje_c = (df['Transaction_Status'] == \"Cancelled\").sum() / df.shape[0]*100\n",
        "porcentaje_c"
      ]
    },
    {
      "cell_type": "markdown",
      "id": "52ee37ab-ed7a-48f6-91a7-07192aa72632",
      "metadata": {
        "id": "52ee37ab-ed7a-48f6-91a7-07192aa72632"
      },
      "source": [
        "Tomando en cuenta que solo debemos utilizar registros de transacciones **completadas**, filtra estos registros a otro dataframe llamado `df_cln`. En este, realizaremos tratamiento de datos atípicos (outliers) según el enfoque de **IQR** (*Interquartile Range* o Rango Intercuartílico) para las variables `Quantity` y `UnitPrice`.\n",
        "\n",
        "Después de implementarlo, indica aquí la cantidad de filas resultantes en el *dataframe*."
      ]
    },
    {
      "cell_type": "markdown",
      "id": "2ab350e6-467f-43cc-bb9c-9e9fcca6aaf2",
      "metadata": {
        "id": "2ab350e6-467f-43cc-bb9c-9e9fcca6aaf2"
      },
      "source": [
        "Incorpora a continuación dicha estrategia y muestra los estadísticos descriptivos resultantes."
      ]
    },
    {
      "cell_type": "code",
      "execution_count": 37,
      "id": "232b5734-b043-4867-aff9-3d79df410f8b",
      "metadata": {
        "id": "232b5734-b043-4867-aff9-3d79df410f8b"
      },
      "outputs": [],
      "source": [
        "df_cln = df[df['Transaction_Status'] == 'Completed'].copy()\n",
        "\n",
        "q1 = df_cln['Quantity'].quantile(0.25)\n",
        "q2 = df_cln['Quantity'].quantile(0.75)\n",
        "iqr = q2 - q1"
      ]
    },
    {
      "cell_type": "code",
      "execution_count": 38,
      "id": "9263c8c1",
      "metadata": {},
      "outputs": [],
      "source": [
        "df_cln = df_cln[(df_cln['Quantity'] >= (q1 - 1.5 * iqr)) & (df_cln['Quantity'] <= (q2 + 1.5 * iqr))]\n",
        "\n"
      ]
    },
    {
      "cell_type": "code",
      "execution_count": 39,
      "id": "2a2e3387",
      "metadata": {},
      "outputs": [],
      "source": [
        "unitpriceq1 = df_cln['UnitPrice'].quantile(0.25)\n",
        "unitpriceq2 = df_cln['UnitPrice'].quantile(0.75)\n",
        "unitpriceiqr = unitpriceq2 - unitpriceq1\n",
        "\n"
      ]
    },
    {
      "cell_type": "code",
      "execution_count": 40,
      "id": "a0239656",
      "metadata": {},
      "outputs": [
        {
          "data": {
            "text/plain": [
              "333265"
            ]
          },
          "execution_count": 40,
          "metadata": {},
          "output_type": "execute_result"
        }
      ],
      "source": [
        "df_cln = df_cln[(df_cln['UnitPrice'] >= (unitpriceq1 - 1.5 * unitpriceiqr)) & (df_cln['UnitPrice'] <= (unitpriceq2 + 1.5 * unitpriceiqr))]\n",
        "\n",
        "df_cln.shape[0]"
      ]
    }
  ],
  "metadata": {
    "colab": {
      "provenance": []
    },
    "kernelspec": {
      "display_name": "base",
      "language": "python",
      "name": "python3"
    },
    "language_info": {
      "codemirror_mode": {
        "name": "ipython",
        "version": 3
      },
      "file_extension": ".py",
      "mimetype": "text/x-python",
      "name": "python",
      "nbconvert_exporter": "python",
      "pygments_lexer": "ipython3",
      "version": "3.12.7"
    }
  },
  "nbformat": 4,
  "nbformat_minor": 5
}
